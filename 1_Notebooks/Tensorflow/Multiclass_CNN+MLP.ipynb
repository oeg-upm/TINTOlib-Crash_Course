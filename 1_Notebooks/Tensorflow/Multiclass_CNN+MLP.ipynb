{
 "cells": [
  {
   "cell_type": "markdown",
   "metadata": {
    "id": "EybOZ6hSjpCF"
   },
   "source": [
    "<h1><font color=\"#113D68\" size=5>TINTOlib: Converting Tidy Data into Image for Classification with 2-Dimensional Convolutional Neural Networks</font></h1>\n",
    "\n",
    "\n",
    "\n",
    "<h1><font color=\"#113D68\" size=6>How to read TINTO images</font></h1>\n",
    "\n",
    "<br><br>\n",
    "<div style=\"text-align: right\">\n",
    "<font color=\"#113D68\" size=3>Manuel Castillo-Cara</font><br>\n",
    "<font color=\"#113D68\" size=3>Raúl García-Castro</font><br>\n",
    "<font color=\"#113D68\" size=3>Luis Orozco-Barbosa</font><br>\n",
    "<font color=\"#113D68\" size=3>Jiayun Liu</font><br>\n",
    "</div>"
   ]
  },
  {
   "cell_type": "markdown",
   "metadata": {
    "id": "2l5nFzsdjpCW"
   },
   "source": [
    "---\n",
    "\n",
    "<a id=\"indice\"></a>\n",
    "<h2><font color=\"#004D7F\" size=5>Index</font></h2>\n",
    "\n",
    "* [0. Context](#section0)\n",
    "* [1. Description](#section1)\n",
    "    * [1.1. Main Features](#section12)\n",
    "    * [1.2. Citation](#section12)\n",
    "* [2. Libraries](#section2)\n",
    "* [3. Data processing](#section3)\n",
    "    * [3.1. Read images](#section31)\n",
    "    * [3.2. Data Curation](#section32)\n",
    "* [4. Pre-modelling phase](#section4)\n",
    "    * [4.1. Resize images](#section41)\n",
    "    * [4.2. Iteradores](#section42)\n",
    "* [5. Modelling with CNN](#section5)\n",
    "    * [5.1. CNN](#section51)\n",
    "    * [5.2. Compile and fit](#section52)\n",
    "    * [5.3. Results](#section53)"
   ]
  },
  {
   "cell_type": "markdown",
   "metadata": {
    "id": "SxTpMExHjpCa"
   },
   "source": [
    "---\n",
    "<a id=\"section0\"></a>\n",
    "# <font color=\"#004D7F\" size=6> 0. Context</font>"
   ]
  },
  {
   "cell_type": "markdown",
   "metadata": {
    "id": "JlVYt3MRrl_V"
   },
   "source": [
    "This is a tutorial on how to read the images created by TINTO and pass them to a very simple Hybrid Neural Network (HyNN). The images must already be created by the TINTO software. See the documentation in GITHUB for how to create the images from tabular data.\n",
    "\n",
    "Remember that when using CNN you can set the training to be done with GPUs to improve performance.\n",
    "\n",
    "<figure><center>\n",
    "  <img src=\"../../3_Images/HyNN.png\" width=\"750\" height=\"400\" alt=\"Gráfica\">\n",
    "  <figcaption><blockquote>CNN architecture with synthetic images. Extract from <a href=\"https://doi.org/10.1016/j.inffus.2022.10.011\">A novel deep learning approach using blurring image techniques for Bluetooth-based indoor localisation</a></blockquote></figcaption>\n",
    "</center></figure>"
   ]
  },
  {
   "cell_type": "markdown",
   "metadata": {
    "id": "WaA-_OjsjpCe"
   },
   "source": [
    "<div class=\"alert alert-block alert-info\">\n",
    "    \n",
    "<i class=\"fa fa-info-circle\" aria-hidden=\"true\"></i>\n",
    "See the paper from [Information Fusion Journal](https://doi.org/10.1016/j.inffus.2022.10.011)"
   ]
  },
  {
   "cell_type": "markdown",
   "metadata": {
    "id": "28TFDkl5jpCi"
   },
   "source": [
    "<div class=\"alert alert-block alert-info\">\n",
    "    \n",
    "<i class=\"fa fa-info-circle\" aria-hidden=\"true\"></i>\n",
    "See the paper from [SoftwareX](https://doi.org/10.1016/j.softx.2023.101391)"
   ]
  },
  {
   "cell_type": "markdown",
   "metadata": {
    "id": "i3tgsO0BjpCj"
   },
   "source": [
    "<div class=\"alert alert-block alert-info\">\n",
    "    \n",
    "<i class=\"fa fa-info-circle\" aria-hidden=\"true\"></i>\n",
    "You can see all information about TINTO in [GitHub](https://github.com/oeg-upm/TINTO)"
   ]
  },
  {
   "cell_type": "markdown",
   "metadata": {
    "id": "4RKBgDwzjpCl"
   },
   "source": [
    "---\n",
    "<div style=\"text-align: right\"> <font size=5> <a href=\"#indice\"><i class=\"fa fa-arrow-circle-up\" aria-hidden=\"true\" style=\"color:#004D7F\"></i></a></font></div>\n",
    "\n",
    "---"
   ]
  },
  {
   "cell_type": "markdown",
   "metadata": {
    "id": "kpU7pi6yjpCn"
   },
   "source": [
    "<a id=\"section1\"></a>\n",
    "# <font color=\"#004D7F\" size=6> 1. Description</font>"
   ]
  },
  {
   "cell_type": "markdown",
   "metadata": {
    "id": "NL9RoFkEjpCq"
   },
   "source": [
    "The growing interest in the use of algorithms-based machine learning for predictive tasks has generated a large and diverse development of algorithms. However, it is widely known that not all of these algorithms are adapted to efficient solutions in certain tidy data format datasets. For this reason, novel techniques are currently being developed to convert tidy data into images with the aim of using Convolutional Neural Networks (CNNs). TINTO offers the opportunity to convert tidy data into images through the representation of characteristic pixels by implementing two dimensional reduction algorithms: PCA and _t_-SNE. Our proposal also includes a blurring technique, which adds more ordered information to the image and can improve the classification task in CNNs."
   ]
  },
  {
   "cell_type": "markdown",
   "metadata": {
    "id": "HFrF4C89jpCt"
   },
   "source": [
    "---\n",
    "<a id=\"section11\"></a>\n",
    "# <font color=\"#004D7F\" size=5> 1.1. Main Features</font>"
   ]
  },
  {
   "cell_type": "markdown",
   "metadata": {
    "id": "1gruE0_sjpCu"
   },
   "source": [
    "- Supports all CSV data in **[Tidy Data](https://www.jstatsoft.org/article/view/v059i10)** format.\n",
    "- For now, the algorithm converts tabular data for binary and multi-class classification problems into machine learning.\n",
    "- Input data formats:\n",
    "    - **Tabular files**: The input data must be in **[CSV](https://en.wikipedia.org/wiki/Comma-separated_values)**, taking into account the **[Tidy Data](https://www.jstatsoft.org/article/view/v059i10)** format.\n",
    "    - **Tidy Data**: The **target** (variable to be predicted) should be set as the last column of the dataset. Therefore, the first columns will be the features.\n",
    "    - All data must be in numerical form. TINTO does not accept data in string or any other non-numeric format.\n",
    "- Two dimensionality reduction algorithms are used in image creation, **[PCA](https://scikit-learn.org/stable/modules/generated/sklearn.decomposition.PCA.html#sklearn.decomposition.PCA)** and **[*t*-SNE](https://scikit-learn.org/stable/modules/generated/sklearn.manifold.TSNE.html)** from the Scikit-learn Python library.\n",
    "- The synthetic images to be created will be in black and white, i.e. in 1 channel.\n",
    "- The synthetic image **dimensions** can be set as a parameter when creating them.\n",
    "- The synthetic images can be created using **characteristic pixels** or **blurring** painting technique (expressing an overlap of pixels as the **maximum** or **average**).\n",
    "- Runs on **Linux**, **Windows** and **macOS** systems.\n",
    "- Compatible with **[Python](https://www.python.org/)** 3.7 or higher."
   ]
  },
  {
   "cell_type": "markdown",
   "metadata": {
    "id": "Z3EzYcjJjpC6"
   },
   "source": [
    "---\n",
    "<div style=\"text-align: right\"> <font size=5> <a href=\"#indice\"><i class=\"fa fa-arrow-circle-up\" aria-hidden=\"true\" style=\"color:#004D7F\"></i></a></font></div>\n",
    "\n",
    "---"
   ]
  },
  {
   "cell_type": "markdown",
   "metadata": {
    "id": "qwYF5A2njpC8"
   },
   "source": [
    "<a id=\"section2\"></a>\n",
    "# <font color=\"#004D7F\" size=6> 2. Libraries</font>"
   ]
  },
  {
   "cell_type": "markdown",
   "metadata": {
    "id": "5AdHKnWYsEq_"
   },
   "source": [
    "The first thing we need to do is to declare the libraries"
   ]
  },
  {
   "cell_type": "code",
   "execution_count": null,
   "metadata": {
    "id": "PeeBbGxlpjFp",
    "tags": []
   },
   "outputs": [],
   "source": [
    "import os\n",
    "import random\n",
    "import pandas as pd\n",
    "import numpy as np\n",
    "#import cv2\n",
    "\n",
    "import matplotlib.pyplot as plt\n",
    "\n",
    "import tensorflow as tf\n",
    "\n",
    "from keras_preprocessing.image import ImageDataGenerator\n",
    "from tensorflow.keras.models import load_model\n",
    "\n",
    "from sklearn.model_selection import train_test_split\n",
    "from tensorflow.keras.applications import vgg16, vgg19, resnet50, mobilenet, inception_resnet_v2, densenet, inception_v3, xception, nasnet, ResNet152V2\n",
    "from tensorflow.keras.models import Sequential, Model, load_model\n",
    "from tensorflow.keras.layers import Dense, Conv2D, MaxPool2D, Flatten, Dropout, BatchNormalization, InputLayer, LayerNormalization\n",
    "from tensorflow.keras.callbacks import ModelCheckpoint, ReduceLROnPlateau, EarlyStopping\n",
    "from tensorflow.keras.optimizers import SGD, Adam, Adadelta, Adamax\n",
    "from keras.layers import MaxPooling2D, AveragePooling2D, Activation, Input, Concatenate\n",
    "from keras.utils import plot_model\n",
    "\n",
    "\n",
    "#Models of TINTOlib\n",
    "from TINTOlib.tinto import TINTO\n",
    "from TINTOlib.supertml import SuperTML\n",
    "from TINTOlib.igtd import IGTD\n",
    "from TINTOlib.refined import REFINED\n",
    "from TINTOlib.barGraph import BarGraph\n",
    "from TINTOlib.distanceMatrix import DistanceMatrix\n",
    "from TINTOlib.combination import Combination\n",
    "from TINTOlib.featureWrap import FeatureWrap\n",
    "from TINTOlib.bie import BIE\n",
    "\n",
    "SEED = 64\n",
    "# SET RANDOM SEED FOR REPRODUCIBILITY\n",
    "#torch.manual_seed(SEED)\n",
    "#torch.cuda.manual_seed(SEED)\n",
    "#torch.cuda.manual_seed_all(SEED)\n",
    "#torch.backends.cudnn.deterministic = True\n",
    "#torch.backends.cudnn.benchmark = False\n",
    "os.environ['PYTHONHASHSEED']=str(SEED)\n",
    "random.seed(SEED)\n",
    "np.random.seed(SEED)\n",
    "tf.random.set_seed(SEED)"
   ]
  },
  {
   "cell_type": "markdown",
   "metadata": {
    "id": "NwS-cKUxjpDQ"
   },
   "source": [
    "---\n",
    "<div style=\"text-align: right\"> <font size=5> <a href=\"#indice\"><i class=\"fa fa-arrow-circle-up\" aria-hidden=\"true\" style=\"color:#004D7F\"></i></a></font></div>\n",
    "\n",
    "---"
   ]
  },
  {
   "cell_type": "markdown",
   "metadata": {
    "id": "aDL4LARWjpDT"
   },
   "source": [
    "<a id=\"section3\"></a>\n",
    "# <font color=\"#004D7F\" size=6> 3. Data processing</font>"
   ]
  },
  {
   "cell_type": "markdown",
   "metadata": {
    "id": "jXcRw78ljpDU"
   },
   "source": [
    "TINTOlib creates a folder structure to store images corresponding to each target in a problem. For classification problems, images are stored in a subfolder with the name of the respective target variable value. Additionally, a CSV file is generated containing:\n",
    "\n",
    "- The file paths of all images.\n",
    "- The target value for each image, which corresponds to a sample from the original dataset."
   ]
  },
  {
   "cell_type": "markdown",
   "metadata": {},
   "source": [
    "<a id=\"section31\"></a>\n",
    "# <font color=\"#004D7F\" size=5> 3.1. Read the dataset</font>\n",
    "\n",
    "In this part, we proceed to read the dataset."
   ]
  },
  {
   "cell_type": "code",
   "execution_count": null,
   "metadata": {},
   "outputs": [
    {
     "data": {
      "text/html": [
       "<div>\n",
       "<style scoped>\n",
       "    .dataframe tbody tr th:only-of-type {\n",
       "        vertical-align: middle;\n",
       "    }\n",
       "\n",
       "    .dataframe tbody tr th {\n",
       "        vertical-align: top;\n",
       "    }\n",
       "\n",
       "    .dataframe thead th {\n",
       "        text-align: right;\n",
       "    }\n",
       "</style>\n",
       "<table border=\"1\" class=\"dataframe\">\n",
       "  <thead>\n",
       "    <tr style=\"text-align: right;\">\n",
       "      <th></th>\n",
       "      <th>SepalLength</th>\n",
       "      <th>SepalWidth</th>\n",
       "      <th>PetalLength</th>\n",
       "      <th>PetalWidth</th>\n",
       "      <th>Species</th>\n",
       "    </tr>\n",
       "  </thead>\n",
       "  <tbody>\n",
       "    <tr>\n",
       "      <th>0</th>\n",
       "      <td>5.1</td>\n",
       "      <td>3.5</td>\n",
       "      <td>1.4</td>\n",
       "      <td>0.2</td>\n",
       "      <td>1</td>\n",
       "    </tr>\n",
       "    <tr>\n",
       "      <th>1</th>\n",
       "      <td>4.9</td>\n",
       "      <td>3.0</td>\n",
       "      <td>1.4</td>\n",
       "      <td>0.2</td>\n",
       "      <td>1</td>\n",
       "    </tr>\n",
       "  </tbody>\n",
       "</table>\n",
       "</div>"
      ],
      "text/plain": [
       "   SepalLength  SepalWidth  PetalLength  PetalWidth  Species\n",
       "0          5.1         3.5          1.4         0.2        1\n",
       "1          4.9         3.0          1.4         0.2        1"
      ]
     },
     "execution_count": 34,
     "metadata": {},
     "output_type": "execute_result"
    }
   ],
   "source": [
    "dataset_name = 'iris'\n",
    "\n",
    "#Read CSV\n",
    "df = pd.read_csv(f\"../../2_Data/Multiclass/{dataset_name}.csv\")\n",
    "df.head(2)"
   ]
  },
  {
   "cell_type": "code",
   "execution_count": 35,
   "metadata": {},
   "outputs": [
    {
     "data": {
      "text/plain": [
       "(150, 5)"
      ]
     },
     "execution_count": 35,
     "metadata": {},
     "output_type": "execute_result"
    }
   ],
   "source": [
    "df.shape"
   ]
  },
  {
   "cell_type": "markdown",
   "metadata": {},
   "source": [
    "To determine the appropriate size for a square image that contains all the feature pixels, you need to calculate the square root of the total number of features. The resulting value can be used for the methods that requires inserting the image size."
   ]
  },
  {
   "cell_type": "code",
   "execution_count": 36,
   "metadata": {},
   "outputs": [
    {
     "name": "stdout",
     "output_type": "stream",
     "text": [
      "2\n"
     ]
    }
   ],
   "source": [
    "# Get the shape of the dataframe\n",
    "num_columns = df.shape[1]\n",
    "\n",
    "# Calculate number of columns - 1\n",
    "columns_minus_one = num_columns - 1\n",
    "\n",
    "# Calculate the square root for image size\n",
    "import math\n",
    "image_size = math.ceil(math.sqrt(columns_minus_one))\n",
    "print(image_size)"
   ]
  },
  {
   "cell_type": "markdown",
   "metadata": {},
   "source": [
    "We delve into label encoding, a crucial preprocessing step for preparing categorical labels for use in machine learning models. Specifically for Multiclass classification tasks, label encoding involves transforming categorical labels into a numerical format."
   ]
  },
  {
   "cell_type": "markdown",
   "metadata": {},
   "source": [
    "---\n",
    "<a id=\"section32\"></a>\n",
    "# <font color=\"#004D7F\" size=5> 3.2. Create images with TINTOlib</font>\n",
    "\n",
    "We prepare the declaration of the classes with the TINTOlib method we want to transform. Note that TINTOlib has several methods and we will have to choose one of them since each method generates different images.\n",
    "\n",
    "In addition, we establish the paths where the dataset is located and also the folder where the images will be created."
   ]
  },
  {
   "cell_type": "code",
   "execution_count": 37,
   "metadata": {},
   "outputs": [],
   "source": [
    "#Select the model and the parameters\n",
    "problem_type = \"supervised\"\n",
    "#problem_type = \"regression\"\n",
    "\n",
    "# Transformation methods\n",
    "image_model = TINTO(problem=problem_type, blur=True, option='maximum', pixels=20, random_seed=SEED)\n",
    "name = f\"TINTO_blur_maximum\"\n",
    "# image_model = REFINED(problem=problem_type, random_seed=SEED, zoom=1, n_processors=8)\n",
    "# name = f\"REFINED\"\n",
    "# image_model = IGTD(problem=problem_type, scale=[image_size,image_size], fea_dist_method='Euclidean', image_dist_method='Euclidean', error='abs', max_step=30000, val_step=300, random_seed=SEED)\n",
    "# name = f\"IGTD_fEuclidean_iEuclidean_abs\"\n",
    "# image_model = BarGraph(problem=problem_type, zoom=2)\n",
    "# name = f\"BarGraph_zoom2\"\n",
    "# image_model = DistanceMatrix(problem=problem_type, zoom=2)\n",
    "# name = f\"DistanceMatrix_zoom2\"\n",
    "# image_model = Combination(problem=problem_type, zoom=2)\n",
    "# name = f\"Combination_zoom2\"\n",
    "# image_model = SuperTML(problem=problem_type, pixels=pixel, font_size=30, feature_importance=True, random_seed=SEED)\n",
    "# name = f\"SuperTML-VF_FS30\"\n",
    "# image_model = FeatureWrap(problem = problem_type, bins=10)\n",
    "# name = f\"FeatureWrap_bins10\"\n",
    "# image_model = BIE(problem = problem_type)\n",
    "# name = f\"BIE\"\n",
    "\n",
    "#Define the dataset path and the folder where the images will be saved\n",
    "results_folder = f\"Results/Multiclass/CNN+MLP_Fusion/{dataset_name}_{name}\"\n",
    "images_folder = f\"Synthetic_images/Multiclass/images_{dataset_name}_{name}\""
   ]
  },
  {
   "cell_type": "markdown",
   "metadata": {},
   "source": [
    "---\n",
    "<a id=\"section33\"></a>\n",
    "# <font color=\"#004D7F\" size=5> 3.3. Generate images</font>\n",
    "\n",
    "In this section, we generate images from the dataset using three key functions of the image generation model:\n",
    "\n",
    "- fit: Trains the image generation model without generating images. This function is used exclusively for training purposes.\n",
    "- fit_transform: Trains the image generation model and simultaneously generates images for the dataset. This function is applied to the training dataset, where the model is both trained and used to create images.\n",
    "- transform: Generates images using the pre-trained model. After training on the training dataset, this function is used to generate images for unseen data, such as validation and test datasets.\n",
    "\n",
    "Each row in the dataset is transformed into a unique image, ensuring that the number of generated images matches the number of rows in the dataset. The resulting datasets include paths to these images, which are then combined with the original data for further processing."
   ]
  },
  {
   "cell_type": "markdown",
   "metadata": {},
   "source": [
    "Split the data into training, validation, and test sets:"
   ]
  },
  {
   "cell_type": "code",
   "execution_count": 38,
   "metadata": {},
   "outputs": [],
   "source": [
    "import cv2\n",
    "from sklearn.preprocessing import MinMaxScaler\n",
    "\n",
    "X_train, X_val = train_test_split(df, test_size=0.20, random_state=SEED)\n",
    "X_val, X_test = train_test_split(X_val, test_size=0.50, random_state=SEED)\n",
    "\n",
    "X_train = X_train.reset_index(drop=True)\n",
    "X_val = X_val.reset_index(drop=True)\n",
    "X_test = X_test.reset_index(drop=True)"
   ]
  },
  {
   "cell_type": "markdown",
   "metadata": {},
   "source": [
    "Define a function to streamline the repetitive process of generating images, updating paths, and combining datasets:"
   ]
  },
  {
   "cell_type": "code",
   "execution_count": 39,
   "metadata": {},
   "outputs": [],
   "source": [
    "def process_dataset(X, folder_name, generate_function, problem_type):\n",
    "    \"\"\"\n",
    "    Handles dataset processing, including image generation, path updates, \n",
    "    and combining the dataset with image paths.\n",
    "\n",
    "    Parameters:\n",
    "    ----------\n",
    "    X : DataFrame\n",
    "        The dataset to process (training, validation, or test).\n",
    "    \n",
    "    folder_name : str\n",
    "        The name of the folder where generated images will be stored \n",
    "        (e.g., 'train', 'val', 'test').\n",
    "    \n",
    "    generate_function : function\n",
    "        The function used for training and generating images. It can be one of the following:\n",
    "        - `fit`: Trains the model without generating images.\n",
    "        - `fit_transform`: Trains the model and generates images for the dataset (used for training).\n",
    "        - `transform`: Uses the pre-trained model to generate images for validation and testing.\n",
    "    \n",
    "    problem_type : str\n",
    "        The type of problem being addressed (e.g., regression, supervised).\n",
    "        This is used to locate the corresponding `.csv` file containing image paths.\n",
    "\n",
    "    Returns:\n",
    "    --------\n",
    "    X_processed : DataFrame\n",
    "        The dataset with updated image paths and raw tabular data, ready for further processing.\n",
    "    \n",
    "    y_processed : Series\n",
    "        The labels corresponding to the dataset (target values).\n",
    "    \"\"\"\n",
    "    # Generate the images if the folder does not exist\n",
    "    folder_path = f\"{images_folder}/{folder_name}\"\n",
    "    if not os.path.exists(folder_path):\n",
    "        generate_function(X, folder_path)\n",
    "    else:\n",
    "        print(f\"The images for {folder_name} are already generated\")\n",
    "\n",
    "    # Load image paths\n",
    "    img_paths = os.path.join(folder_path, f\"{problem_type}.csv\")\n",
    "    imgs = pd.read_csv(img_paths)\n",
    "\n",
    "    # Update image paths\n",
    "    imgs[\"images\"] = folder_path + \"/\" + imgs[\"images\"]\n",
    "\n",
    "    # Combine datasets\n",
    "    combined_dataset = pd.concat([imgs, X], axis=1)\n",
    "\n",
    "    # Split data and labels\n",
    "    X_processed = combined_dataset.drop(df.columns[-1], axis=1).drop(\"class\", axis=1)\n",
    "    y_processed = combined_dataset[\"class\"]\n",
    "\n",
    "    return X_processed, y_processed\n"
   ]
  },
  {
   "cell_type": "code",
   "execution_count": 40,
   "metadata": {},
   "outputs": [
    {
     "name": "stdout",
     "output_type": "stream",
     "text": [
      "The images for train are already generated\n"
     ]
    }
   ],
   "source": [
    "### X_train\n",
    "X_train, y_train = process_dataset(X_train, \"train\", image_model.fit_transform, problem_type)"
   ]
  },
  {
   "cell_type": "code",
   "execution_count": 41,
   "metadata": {},
   "outputs": [
    {
     "name": "stdout",
     "output_type": "stream",
     "text": [
      "The images for val are already generated\n"
     ]
    }
   ],
   "source": [
    "### X_val\n",
    "X_val, y_val = process_dataset(X_val, \"val\", image_model.transform, problem_type)"
   ]
  },
  {
   "cell_type": "code",
   "execution_count": 42,
   "metadata": {},
   "outputs": [
    {
     "name": "stdout",
     "output_type": "stream",
     "text": [
      "The images for test are already generated\n"
     ]
    }
   ],
   "source": [
    "### X_test\n",
    "X_test, y_test = process_dataset(X_test, \"test\", image_model.transform, problem_type)"
   ]
  },
  {
   "cell_type": "markdown",
   "metadata": {},
   "source": [
    "---\n",
    "<div style=\"text-align: right\"> <font size=5> <a href=\"#indice\"><i class=\"fa fa-arrow-circle-up\" aria-hidden=\"true\" style=\"color:#004D7F\"></i></a></font></div>\n",
    "\n",
    "---"
   ]
  },
  {
   "cell_type": "markdown",
   "metadata": {
    "id": "uF1lJWbojpD3"
   },
   "source": [
    "<a id=\"section4\"></a>\n",
    "# <font color=\"#004D7F\" size=6> 4. Pre-modelling phase</font>"
   ]
  },
  {
   "cell_type": "markdown",
   "metadata": {},
   "source": [
    "---\n",
    "<a id=\"section41\"></a>\n",
    "# <font color=\"#004D7F\" size=5> 4.1. Data curation</font>"
   ]
  },
  {
   "cell_type": "markdown",
   "metadata": {},
   "source": [
    "Note that each method generates images of **different pixel size**. For example:\n",
    "- `TINTO` method has a parameter that you can specify the size in pixels which by default is 20.\n",
    "- Other parameters such as `Combined` generates the size automatically and you must obtain them from the _shape_ of the images."
   ]
  },
  {
   "cell_type": "markdown",
   "metadata": {},
   "source": [
    "<div class=\"alert alert-block alert-info\">\n",
    "\n",
    "<i class=\"fa fa-info-circle\" aria-hidden=\"true\"></i>\n",
    "You can see all information about TINTOlib documentation in [PyPI](https://tintolib.readthedocs.io/en/latest/installation.html)"
   ]
  },
  {
   "cell_type": "markdown",
   "metadata": {},
   "source": [
    "<div class=\"alert alert-block alert-info\">\n",
    "\n",
    "<i class=\"fa fa-info-circle\" aria-hidden=\"true\"></i>\n",
    "💡 **Important!!!**:  Keep in mind that, depending on the method used, you need to identify the number of pixels in the image. For example, in TINTO it is specified as a parameter, but in IGTD it is done afterwards, once the image is created (and even the pixels of width and height can be different)."
   ]
  },
  {
   "cell_type": "code",
   "execution_count": 43,
   "metadata": {},
   "outputs": [
    {
     "name": "stdout",
     "output_type": "stream",
     "text": [
      "Images shape:  (20, 20, 3)\n",
      "Attributres:  4\n",
      "Image size (pixels): 20\n"
     ]
    }
   ],
   "source": [
    "#TIDY DATA SPLITTED\n",
    "X_train_num = X_train.drop(\"images\",axis=1)\n",
    "X_val_num = X_val.drop(\"images\",axis=1)\n",
    "X_test_num = X_test.drop(\"images\",axis=1)\n",
    "\n",
    "#IMAGES\n",
    "# For 3 channels (RGB)\n",
    "X_train_img = np.array([cv2.imread(img) for img in X_train[\"images\"]])\n",
    "X_val_img = np.array([cv2.imread(img) for img in X_val[\"images\"]])\n",
    "X_test_img = np.array([cv2.imread(img) for img in X_test[\"images\"]])\n",
    "\n",
    "# For 1 channels (GRAY SCALE)\n",
    "\"\"\"X_train_img = np.array([cv2.imread(img,cv2.IMREAD_GRAYSCALE) for img in X_train[\"images\"]])\n",
    "X_val_img = np.array([cv2.imread(img,cv2.IMREAD_GRAYSCALE) for img in X_val[\"images\"]])\n",
    "X_test_img = np.array([cv2.imread(img,cv2.IMREAD_GRAYSCALE) for img in X_test[\"images\"]])\"\"\"\n",
    "\n",
    "# Create a MinMaxScaler object\n",
    "scaler = MinMaxScaler()\n",
    "\n",
    "# Scale numerical data\n",
    "X_train_num = scaler.fit_transform(X_train_num)\n",
    "X_val_num = scaler.transform(X_val_num)\n",
    "X_test_num = scaler.transform(X_test_num)\n",
    "\n",
    "attributes = X_train_num.shape[1]\n",
    "height, width, channels = X_train_img[0].shape\n",
    "imgs_shape = (height, width, channels)\n",
    "\n",
    "print(\"Images shape: \",imgs_shape)\n",
    "print(\"Attributres: \",attributes)\n",
    "pixel=X_train_img[0].shape[0]\n",
    "print(\"Image size (pixels):\", pixel)"
   ]
  },
  {
   "cell_type": "code",
   "execution_count": 44,
   "metadata": {},
   "outputs": [
    {
     "data": {
      "image/png": "[encoded data removed]",
      "text/plain": [
       "<Figure size 640x480 with 1 Axes>"
      ]
     },
     "metadata": {},
     "output_type": "display_data"
    }
   ],
   "source": [
    "# Plot an example image (e.g., the first image in the array)\n",
    "example_image = X_train_img[0]\n",
    "\n",
    "# Convert the image from BGR (OpenCV default) to RGB for correct color display\n",
    "example_image_rgb = cv2.cvtColor(example_image, cv2.COLOR_BGR2RGB)\n",
    "\n",
    "# Display the image using matplotlib\n",
    "plt.imshow(example_image_rgb)\n",
    "plt.title(\"Example Image from X_train\")\n",
    "plt.axis('off')  # Hide the axis for a cleaner look\n",
    "plt.show()"
   ]
  },
  {
   "cell_type": "markdown",
   "metadata": {},
   "source": [
    "<a id=\"section32\"></a>\n",
    "# <font color=\"#004D7F\" size=5> 3.2. Data Analysis</font>"
   ]
  },
  {
   "cell_type": "code",
   "execution_count": 45,
   "metadata": {},
   "outputs": [
    {
     "data": {
      "text/html": [
       "<div>\n",
       "<style scoped>\n",
       "    .dataframe tbody tr th:only-of-type {\n",
       "        vertical-align: middle;\n",
       "    }\n",
       "\n",
       "    .dataframe tbody tr th {\n",
       "        vertical-align: top;\n",
       "    }\n",
       "\n",
       "    .dataframe thead th {\n",
       "        text-align: right;\n",
       "    }\n",
       "</style>\n",
       "<table border=\"1\" class=\"dataframe\">\n",
       "  <thead>\n",
       "    <tr style=\"text-align: right;\">\n",
       "      <th></th>\n",
       "      <th>SepalLength</th>\n",
       "      <th>SepalWidth</th>\n",
       "      <th>PetalLength</th>\n",
       "      <th>PetalWidth</th>\n",
       "      <th>Species</th>\n",
       "    </tr>\n",
       "  </thead>\n",
       "  <tbody>\n",
       "    <tr>\n",
       "      <th>0</th>\n",
       "      <td>0.222222</td>\n",
       "      <td>0.625000</td>\n",
       "      <td>0.067797</td>\n",
       "      <td>0.041667</td>\n",
       "      <td>1</td>\n",
       "    </tr>\n",
       "    <tr>\n",
       "      <th>1</th>\n",
       "      <td>0.166667</td>\n",
       "      <td>0.416667</td>\n",
       "      <td>0.067797</td>\n",
       "      <td>0.041667</td>\n",
       "      <td>1</td>\n",
       "    </tr>\n",
       "  </tbody>\n",
       "</table>\n",
       "</div>"
      ],
      "text/plain": [
       "   SepalLength  SepalWidth  PetalLength  PetalWidth  Species\n",
       "0     0.222222    0.625000     0.067797    0.041667        1\n",
       "1     0.166667    0.416667     0.067797    0.041667        1"
      ]
     },
     "execution_count": 45,
     "metadata": {},
     "output_type": "execute_result"
    }
   ],
   "source": [
    "# Select all the attributes to normalize\n",
    "columns_to_normalize = df.columns[:-1]\n",
    "\n",
    "\n",
    "# Normalize between 0 and 1\n",
    "df_normalized = (df[columns_to_normalize] - df[columns_to_normalize].min()) / (df[columns_to_normalize].max() - df[columns_to_normalize].min())\n",
    "\n",
    "# Combine the attributes and the label\n",
    "df_normalized = pd.concat([df_normalized, df[df.columns[-1]]], axis=1)\n",
    "\n",
    "df_normalized.head(2)"
   ]
  },
  {
   "cell_type": "code",
   "execution_count": 46,
   "metadata": {},
   "outputs": [
    {
     "data": {
      "image/png": "[encoded data removed]",
      "text/plain": [
       "<Figure size 640x480 with 1 Axes>"
      ]
     },
     "metadata": {},
     "output_type": "display_data"
    }
   ],
   "source": [
    "target_values = df_normalized.iloc[:,-1]\n",
    "class_counts = np.bincount(target_values)\n",
    "class_labels = np.arange(1, len(class_counts) + 1)\n",
    "\n",
    "# Create the bar plot\n",
    "plt.bar(class_labels, class_counts)\n",
    "\n",
    "# Customize the plot\n",
    "plt.xlabel('Class')\n",
    "plt.ylabel('Samples')\n",
    "plt.title('Classes Distribution')\n",
    "\n",
    "# Display the plot\n",
    "plt.show()"
   ]
  },
  {
   "cell_type": "code",
   "execution_count": 47,
   "metadata": {},
   "outputs": [],
   "source": [
    "#ONE HOT ENCODING FOR MULTICLASS PROBLEMS\n",
    "from tensorflow.keras.utils import to_categorical\n",
    "\n",
    "n_class = y_train.nunique()\n",
    "\n",
    "# Adjusting class indices to start from 0 since to_categorical expects classes indexed from 0 to n_class-1,\n",
    "# while original indices range from 1 to n_class.\n",
    "y_train =  to_categorical(y_train-1,n_class)\n",
    "y_val = to_categorical(y_val-1,n_class)\n",
    "y_test = to_categorical(y_test-1,n_class)"
   ]
  },
  {
   "cell_type": "markdown",
   "metadata": {},
   "source": [
    "<a id=\"section5\"></a>\n",
    "# <font color=\"#004D7F\" size=6> 5. Modeling hybrid network</font>"
   ]
  },
  {
   "cell_type": "code",
   "execution_count": 48,
   "metadata": {},
   "outputs": [],
   "source": [
    "dropout = 0.3"
   ]
  },
  {
   "cell_type": "code",
   "execution_count": 49,
   "metadata": {},
   "outputs": [],
   "source": [
    "ff_inputs = Input(shape = (attributes,))\n",
    "\n",
    "# * START BRANCH 1\n",
    "\n",
    "mlp_1 = Dense(256, activation='relu')(ff_inputs)\n",
    "mlp_1 = BatchNormalization()(mlp_1)\n",
    "mlp_1 = Dropout(dropout)(mlp_1)\n",
    "\n",
    "mlp_1 = Dense(128, activation='relu')(mlp_1)\n",
    "mlp_1 = BatchNormalization()(mlp_1)\n",
    "mlp_1 = Dropout(dropout)(mlp_1)\n",
    "\n",
    "mlp_1 = Dense(64, activation='relu')(mlp_1)\n",
    "mlp_1 = BatchNormalization()(mlp_1)\n",
    "mlp_1 = Dropout(dropout)(mlp_1)\n",
    "\n",
    "mlp_1 = Dense(32, activation='relu')(mlp_1)\n",
    "mlp_1 = BatchNormalization()(mlp_1)\n",
    "mlp_1 = Dropout(dropout)(mlp_1)\n",
    "\n",
    "mlp_1 = Dense(16, activation='relu')(mlp_1)\n",
    "mlp_1 = BatchNormalization()(mlp_1)\n",
    "mlp_1 = Dropout(dropout)(mlp_1)\n",
    "\n",
    "ff_model = Model(inputs = ff_inputs, outputs = mlp_1)"
   ]
  },
  {
   "cell_type": "code",
   "execution_count": 51,
   "metadata": {},
   "outputs": [],
   "source": [
    "input_shape = Input(shape=imgs_shape)\n",
    "# CNN branch 1\n",
    "tower_1 = Conv2D(16, (3,3), activation='relu',padding=\"same\")(input_shape)\n",
    "tower_1 = Activation('relu')(tower_1)\n",
    "tower_1 = MaxPooling2D(2,2)(tower_1)\n",
    "\n",
    "tower_1 = Conv2D(32, (3,3), activation='relu',padding=\"same\")(tower_1)\n",
    "tower_1 = Activation('relu')(tower_1)\n",
    "\n",
    "tower_1 = Conv2D(64, (3,3), activation='relu',padding=\"same\")(tower_1)\n",
    "tower_1 = Activation('relu')(tower_1)\n",
    "\n",
    "#Flatten\n",
    "merged = Flatten()(tower_1)\n",
    "\n",
    "#Dense layers\n",
    "out = Dense(128, activation='relu')(merged)\n",
    "out = Dense(64, activation='relu')(out)\n",
    "out = Dense(32, activation='relu')(out)\n",
    "\n",
    "cnn_model = Model(input_shape, out)"
   ]
  },
  {
   "cell_type": "markdown",
   "metadata": {},
   "source": [
    "---\n",
    "<a id=\"section51\"></a>\n",
    "# <font color=\"#004D7F\" size=5> 5.1. Concatenate branches</font>\n",
    "\n",
    "Finally, we need to fuse the CNN and MLP branches. In this case, we use a direct concatenation of the output from the CNN branch with the output from the MLP branch, feeding them into a final fully connected neural network (FFNN) that will produce the predictions."
   ]
  },
  {
   "cell_type": "code",
   "execution_count": 52,
   "metadata": {},
   "outputs": [],
   "source": [
    "combinedInput = concatenate([ff_model.output, cnn_model.output])\n",
    "x = Dense(32, activation=\"relu\")(combinedInput)\n",
    "#x = BatchNormalization()(x)\n",
    "x = Dropout(dropout)(x)\n",
    "x = Dense(n_class, activation=\"softmax\")(x)\n",
    "model = Model(inputs=[ff_model.input, cnn_model.input], outputs=x)"
   ]
  },
  {
   "cell_type": "code",
   "execution_count": 53,
   "metadata": {},
   "outputs": [],
   "source": [
    "METRICS = [\n",
    "    #tf.keras.metrics.TruePositives(name = 'tp'),\n",
    "    #tf.keras.metrics.FalsePositives(name = 'fp'),\n",
    "    #tf.keras.metrics.TrueNegatives(name = 'tn'),\n",
    "    #tf.keras.metrics.FalseNegatives(name = 'fn'), \n",
    "    tf.keras.metrics.CategoricalAccuracy(name ='accuracy'),\n",
    "    tf.keras.metrics.Precision(name = 'precision'),\n",
    "    tf.keras.metrics.Recall(name = 'recall'),\n",
    "    tf.keras.metrics.AUC(name = 'auc'),\n",
    "]"
   ]
  },
  {
   "cell_type": "code",
   "execution_count": 54,
   "metadata": {},
   "outputs": [],
   "source": [
    "#HYPERPARAMETERS\n",
    "opt = Adam(learning_rate=1e-3)\n",
    "model.compile(\n",
    "    loss=\"categorical_crossentropy\", \n",
    "    optimizer=opt,\n",
    "    metrics = METRICS\n",
    ")\n",
    "epochs = 500"
   ]
  },
  {
   "cell_type": "code",
   "execution_count": 55,
   "metadata": {},
   "outputs": [],
   "source": [
    "# Define EarlyStopping callback\n",
    "early_stopping = tf.keras.callbacks.EarlyStopping(monitor='val_loss', patience=10, mode=\"max\" ,restore_best_weights=True)"
   ]
  },
  {
   "cell_type": "code",
   "execution_count": 56,
   "metadata": {},
   "outputs": [
    {
     "name": "stdout",
     "output_type": "stream",
     "text": [
      "Epoch 1/500\n",
      "\u001b[1m15/15\u001b[0m \u001b[32m━━━━━━━━━━━━━━━━━━━━\u001b[0m\u001b[37m\u001b[0m \u001b[1m4s\u001b[0m 40ms/step - accuracy: 0.4356 - auc: 0.6012 - loss: 1.0992 - precision: 0.4494 - recall: 0.2127 - val_accuracy: 0.3333 - val_auc: 0.5278 - val_loss: 1.1281 - val_precision: 0.0000e+00 - val_recall: 0.0000e+00\n",
      "Epoch 2/500\n",
      "\u001b[1m15/15\u001b[0m \u001b[32m━━━━━━━━━━━━━━━━━━━━\u001b[0m\u001b[37m\u001b[0m \u001b[1m0s\u001b[0m 10ms/step - accuracy: 0.4199 - auc: 0.6179 - loss: 1.0617 - precision: 0.4314 - recall: 0.2166 - val_accuracy: 0.2667 - val_auc: 0.5367 - val_loss: 1.1246 - val_precision: 0.0000e+00 - val_recall: 0.0000e+00\n",
      "Epoch 3/500\n",
      "\u001b[1m15/15\u001b[0m \u001b[32m━━━━━━━━━━━━━━━━━━━━\u001b[0m\u001b[37m\u001b[0m \u001b[1m0s\u001b[0m 10ms/step - accuracy: 0.5345 - auc: 0.6936 - loss: 0.9906 - precision: 0.6211 - recall: 0.2974 - val_accuracy: 0.2667 - val_auc: 0.5789 - val_loss: 1.1946 - val_precision: 0.0000e+00 - val_recall: 0.0000e+00\n",
      "Epoch 4/500\n",
      "\u001b[1m15/15\u001b[0m \u001b[32m━━━━━━━━━━━━━━━━━━━━\u001b[0m\u001b[37m\u001b[0m \u001b[1m0s\u001b[0m 10ms/step - accuracy: 0.6565 - auc: 0.7931 - loss: 0.8824 - precision: 0.7547 - recall: 0.3277 - val_accuracy: 0.2667 - val_auc: 0.5922 - val_loss: 1.1070 - val_precision: 0.0000e+00 - val_recall: 0.0000e+00\n",
      "Epoch 5/500\n",
      "\u001b[1m15/15\u001b[0m \u001b[32m━━━━━━━━━━━━━━━━━━━━\u001b[0m\u001b[37m\u001b[0m \u001b[1m0s\u001b[0m 9ms/step - accuracy: 0.5846 - auc: 0.7304 - loss: 0.9373 - precision: 0.6356 - recall: 0.3946 - val_accuracy: 0.2667 - val_auc: 0.6222 - val_loss: 1.1158 - val_precision: 0.0000e+00 - val_recall: 0.0000e+00\n",
      "Epoch 6/500\n",
      "\u001b[1m15/15\u001b[0m \u001b[32m━━━━━━━━━━━━━━━━━━━━\u001b[0m\u001b[37m\u001b[0m \u001b[1m0s\u001b[0m 11ms/step - accuracy: 0.5665 - auc: 0.7961 - loss: 0.8491 - precision: 0.6642 - recall: 0.4151 - val_accuracy: 0.6000 - val_auc: 0.7200 - val_loss: 1.0836 - val_precision: 0.0000e+00 - val_recall: 0.0000e+00\n",
      "Epoch 7/500\n",
      "\u001b[1m15/15\u001b[0m \u001b[32m━━━━━━━━━━━━━━━━━━━━\u001b[0m\u001b[37m\u001b[0m \u001b[1m0s\u001b[0m 9ms/step - accuracy: 0.5606 - auc: 0.7863 - loss: 0.8388 - precision: 0.5789 - recall: 0.3975 - val_accuracy: 0.6667 - val_auc: 0.8478 - val_loss: 0.8314 - val_precision: 0.0000e+00 - val_recall: 0.0000e+00\n",
      "Epoch 8/500\n",
      "\u001b[1m15/15\u001b[0m \u001b[32m━━━━━━━━━━━━━━━━━━━━\u001b[0m\u001b[37m\u001b[0m \u001b[1m0s\u001b[0m 9ms/step - accuracy: 0.6997 - auc: 0.8854 - loss: 0.6585 - precision: 0.7399 - recall: 0.5942 - val_accuracy: 0.8000 - val_auc: 0.9567 - val_loss: 0.4850 - val_precision: 0.9000 - val_recall: 0.6000\n",
      "Epoch 9/500\n",
      "\u001b[1m15/15\u001b[0m \u001b[32m━━━━━━━━━━━━━━━━━━━━\u001b[0m\u001b[37m\u001b[0m \u001b[1m0s\u001b[0m 10ms/step - accuracy: 0.6465 - auc: 0.8836 - loss: 0.6718 - precision: 0.6478 - recall: 0.6406 - val_accuracy: 0.8667 - val_auc: 0.9867 - val_loss: 0.4426 - val_precision: 1.0000 - val_recall: 0.7333\n",
      "Epoch 10/500\n",
      "\u001b[1m15/15\u001b[0m \u001b[32m━━━━━━━━━━━━━━━━━━━━\u001b[0m\u001b[37m\u001b[0m \u001b[1m0s\u001b[0m 10ms/step - accuracy: 0.7386 - auc: 0.9123 - loss: 0.5324 - precision: 0.7550 - recall: 0.7239 - val_accuracy: 0.9333 - val_auc: 0.9989 - val_loss: 0.4523 - val_precision: 1.0000 - val_recall: 0.8667\n",
      "Epoch 11/500\n",
      "\u001b[1m15/15\u001b[0m \u001b[32m━━━━━━━━━━━━━━━━━━━━\u001b[0m\u001b[37m\u001b[0m \u001b[1m0s\u001b[0m 10ms/step - accuracy: 0.8478 - auc: 0.9442 - loss: 0.4345 - precision: 0.8451 - recall: 0.8326 - val_accuracy: 1.0000 - val_auc: 1.0000 - val_loss: 0.3678 - val_precision: 1.0000 - val_recall: 1.0000\n",
      "Epoch 12/500\n",
      "\u001b[1m15/15\u001b[0m \u001b[32m━━━━━━━━━━━━━━━━━━━━\u001b[0m\u001b[37m\u001b[0m \u001b[1m0s\u001b[0m 10ms/step - accuracy: 0.7758 - auc: 0.9269 - loss: 0.4837 - precision: 0.7700 - recall: 0.7481 - val_accuracy: 0.9333 - val_auc: 0.9822 - val_loss: 0.3811 - val_precision: 0.9167 - val_recall: 0.7333\n",
      "Epoch 13/500\n",
      "\u001b[1m15/15\u001b[0m \u001b[32m━━━━━━━━━━━━━━━━━━━━\u001b[0m\u001b[37m\u001b[0m \u001b[1m0s\u001b[0m 10ms/step - accuracy: 0.7526 - auc: 0.9408 - loss: 0.4311 - precision: 0.7514 - recall: 0.7067 - val_accuracy: 1.0000 - val_auc: 1.0000 - val_loss: 0.3524 - val_precision: 1.0000 - val_recall: 0.9333\n",
      "Epoch 14/500\n",
      "\u001b[1m15/15\u001b[0m \u001b[32m━━━━━━━━━━━━━━━━━━━━\u001b[0m\u001b[37m\u001b[0m \u001b[1m0s\u001b[0m 10ms/step - accuracy: 0.7347 - auc: 0.9328 - loss: 0.4775 - precision: 0.7466 - recall: 0.7261 - val_accuracy: 1.0000 - val_auc: 1.0000 - val_loss: 0.3408 - val_precision: 1.0000 - val_recall: 0.9333\n",
      "Epoch 15/500\n",
      "\u001b[1m15/15\u001b[0m \u001b[32m━━━━━━━━━━━━━━━━━━━━\u001b[0m\u001b[37m\u001b[0m \u001b[1m0s\u001b[0m 10ms/step - accuracy: 0.8157 - auc: 0.9480 - loss: 0.4186 - precision: 0.8320 - recall: 0.8091 - val_accuracy: 0.9333 - val_auc: 0.9989 - val_loss: 0.3257 - val_precision: 1.0000 - val_recall: 0.9333\n",
      "Epoch 16/500\n",
      "\u001b[1m15/15\u001b[0m \u001b[32m━━━━━━━━━━━━━━━━━━━━\u001b[0m\u001b[37m\u001b[0m \u001b[1m0s\u001b[0m 12ms/step - accuracy: 0.7929 - auc: 0.9503 - loss: 0.3959 - precision: 0.7929 - recall: 0.7929 - val_accuracy: 0.8667 - val_auc: 0.9833 - val_loss: 0.3163 - val_precision: 0.8667 - val_recall: 0.8667\n",
      "Epoch 17/500\n",
      "\u001b[1m15/15\u001b[0m \u001b[32m━━━━━━━━━━━━━━━━━━━━\u001b[0m\u001b[37m\u001b[0m \u001b[1m0s\u001b[0m 10ms/step - accuracy: 0.8144 - auc: 0.9562 - loss: 0.3660 - precision: 0.8380 - recall: 0.8144 - val_accuracy: 1.0000 - val_auc: 1.0000 - val_loss: 0.3242 - val_precision: 1.0000 - val_recall: 1.0000\n",
      "Epoch 18/500\n",
      "\u001b[1m15/15\u001b[0m \u001b[32m━━━━━━━━━━━━━━━━━━━━\u001b[0m\u001b[37m\u001b[0m \u001b[1m0s\u001b[0m 10ms/step - accuracy: 0.8099 - auc: 0.9581 - loss: 0.3894 - precision: 0.8529 - recall: 0.7914 - val_accuracy: 1.0000 - val_auc: 1.0000 - val_loss: 0.2910 - val_precision: 1.0000 - val_recall: 1.0000\n",
      "Epoch 19/500\n",
      "\u001b[1m15/15\u001b[0m \u001b[32m━━━━━━━━━━━━━━━━━━━━\u001b[0m\u001b[37m\u001b[0m \u001b[1m0s\u001b[0m 10ms/step - accuracy: 0.7847 - auc: 0.9553 - loss: 0.3587 - precision: 0.7847 - recall: 0.7847 - val_accuracy: 0.9333 - val_auc: 0.9978 - val_loss: 0.2718 - val_precision: 0.9333 - val_recall: 0.9333\n",
      "Epoch 20/500\n",
      "\u001b[1m15/15\u001b[0m \u001b[32m━━━━━━━━━━━━━━━━━━━━\u001b[0m\u001b[37m\u001b[0m \u001b[1m0s\u001b[0m 10ms/step - accuracy: 0.8527 - auc: 0.9786 - loss: 0.2774 - precision: 0.8792 - recall: 0.8527 - val_accuracy: 0.9333 - val_auc: 0.9978 - val_loss: 0.2646 - val_precision: 0.9333 - val_recall: 0.9333\n",
      "Epoch 21/500\n",
      "\u001b[1m15/15\u001b[0m \u001b[32m━━━━━━━━━━━━━━━━━━━━\u001b[0m\u001b[37m\u001b[0m \u001b[1m0s\u001b[0m 11ms/step - accuracy: 0.8404 - auc: 0.9680 - loss: 0.3145 - precision: 0.8664 - recall: 0.8244 - val_accuracy: 0.9333 - val_auc: 0.9978 - val_loss: 0.2416 - val_precision: 0.9333 - val_recall: 0.9333\n",
      "Epoch 22/500\n",
      "\u001b[1m15/15\u001b[0m \u001b[32m━━━━━━━━━━━━━━━━━━━━\u001b[0m\u001b[37m\u001b[0m \u001b[1m0s\u001b[0m 10ms/step - accuracy: 0.8799 - auc: 0.9638 - loss: 0.3543 - precision: 0.8850 - recall: 0.8799 - val_accuracy: 1.0000 - val_auc: 1.0000 - val_loss: 0.2316 - val_precision: 1.0000 - val_recall: 0.9333\n",
      "Epoch 23/500\n",
      "\u001b[1m15/15\u001b[0m \u001b[32m━━━━━━━━━━━━━━━━━━━━\u001b[0m\u001b[37m\u001b[0m \u001b[1m0s\u001b[0m 10ms/step - accuracy: 0.8411 - auc: 0.9576 - loss: 0.3800 - precision: 0.8512 - recall: 0.8395 - val_accuracy: 1.0000 - val_auc: 1.0000 - val_loss: 0.1929 - val_precision: 1.0000 - val_recall: 1.0000\n",
      "Epoch 24/500\n",
      "\u001b[1m15/15\u001b[0m \u001b[32m━━━━━━━━━━━━━━━━━━━━\u001b[0m\u001b[37m\u001b[0m \u001b[1m0s\u001b[0m 10ms/step - accuracy: 0.8278 - auc: 0.9692 - loss: 0.3210 - precision: 0.8278 - recall: 0.8278 - val_accuracy: 1.0000 - val_auc: 1.0000 - val_loss: 0.1846 - val_precision: 1.0000 - val_recall: 1.0000\n",
      "Epoch 25/500\n",
      "\u001b[1m15/15\u001b[0m \u001b[32m━━━━━━━━━━━━━━━━━━━━\u001b[0m\u001b[37m\u001b[0m \u001b[1m0s\u001b[0m 9ms/step - accuracy: 0.8884 - auc: 0.9729 - loss: 0.3145 - precision: 0.8979 - recall: 0.8884 - val_accuracy: 0.9333 - val_auc: 0.9944 - val_loss: 0.2026 - val_precision: 0.9333 - val_recall: 0.9333\n",
      "Epoch 26/500\n",
      "\u001b[1m15/15\u001b[0m \u001b[32m━━━━━━━━━━━━━━━━━━━━\u001b[0m\u001b[37m\u001b[0m \u001b[1m0s\u001b[0m 10ms/step - accuracy: 0.9245 - auc: 0.9873 - loss: 0.2189 - precision: 0.9245 - recall: 0.9245 - val_accuracy: 0.9333 - val_auc: 0.9978 - val_loss: 0.1678 - val_precision: 0.9333 - val_recall: 0.9333\n",
      "Epoch 27/500\n",
      "\u001b[1m15/15\u001b[0m \u001b[32m━━━━━━━━━━━━━━━━━━━━\u001b[0m\u001b[37m\u001b[0m \u001b[1m0s\u001b[0m 10ms/step - accuracy: 0.8560 - auc: 0.9709 - loss: 0.3030 - precision: 0.8560 - recall: 0.8560 - val_accuracy: 1.0000 - val_auc: 1.0000 - val_loss: 0.1385 - val_precision: 1.0000 - val_recall: 1.0000\n",
      "Epoch 28/500\n",
      "\u001b[1m15/15\u001b[0m \u001b[32m━━━━━━━━━━━━━━━━━━━━\u001b[0m\u001b[37m\u001b[0m \u001b[1m0s\u001b[0m 10ms/step - accuracy: 0.8380 - auc: 0.9688 - loss: 0.3151 - precision: 0.8743 - recall: 0.8380 - val_accuracy: 1.0000 - val_auc: 1.0000 - val_loss: 0.1378 - val_precision: 1.0000 - val_recall: 1.0000\n",
      "Epoch 29/500\n",
      "\u001b[1m15/15\u001b[0m \u001b[32m━━━━━━━━━━━━━━━━━━━━\u001b[0m\u001b[37m\u001b[0m \u001b[1m0s\u001b[0m 10ms/step - accuracy: 0.8315 - auc: 0.9762 - loss: 0.2794 - precision: 0.8315 - recall: 0.8315 - val_accuracy: 1.0000 - val_auc: 1.0000 - val_loss: 0.1034 - val_precision: 1.0000 - val_recall: 1.0000\n",
      "Epoch 30/500\n",
      "\u001b[1m15/15\u001b[0m \u001b[32m━━━━━━━━━━━━━━━━━━━━\u001b[0m\u001b[37m\u001b[0m \u001b[1m0s\u001b[0m 10ms/step - accuracy: 0.8609 - auc: 0.9672 - loss: 0.3056 - precision: 0.8609 - recall: 0.8609 - val_accuracy: 1.0000 - val_auc: 1.0000 - val_loss: 0.1207 - val_precision: 1.0000 - val_recall: 1.0000\n",
      "Epoch 31/500\n",
      "\u001b[1m15/15\u001b[0m \u001b[32m━━━━━━━━━━━━━━━━━━━━\u001b[0m\u001b[37m\u001b[0m \u001b[1m0s\u001b[0m 9ms/step - accuracy: 0.9153 - auc: 0.9793 - loss: 0.2611 - precision: 0.9147 - recall: 0.9080 - val_accuracy: 1.0000 - val_auc: 1.0000 - val_loss: 0.1040 - val_precision: 1.0000 - val_recall: 1.0000\n",
      "Epoch 32/500\n",
      "\u001b[1m15/15\u001b[0m \u001b[32m━━━━━━━━━━━━━━━━━━━━\u001b[0m\u001b[37m\u001b[0m \u001b[1m0s\u001b[0m 10ms/step - accuracy: 0.9297 - auc: 0.9801 - loss: 0.2640 - precision: 0.9297 - recall: 0.9297 - val_accuracy: 1.0000 - val_auc: 1.0000 - val_loss: 0.0901 - val_precision: 1.0000 - val_recall: 1.0000\n",
      "Epoch 33/500\n",
      "\u001b[1m15/15\u001b[0m \u001b[32m━━━━━━━━━━━━━━━━━━━━\u001b[0m\u001b[37m\u001b[0m \u001b[1m0s\u001b[0m 9ms/step - accuracy: 0.9185 - auc: 0.9843 - loss: 0.2108 - precision: 0.9185 - recall: 0.9185 - val_accuracy: 1.0000 - val_auc: 1.0000 - val_loss: 0.0784 - val_precision: 1.0000 - val_recall: 1.0000\n",
      "Epoch 34/500\n",
      "\u001b[1m15/15\u001b[0m \u001b[32m━━━━━━━━━━━━━━━━━━━━\u001b[0m\u001b[37m\u001b[0m \u001b[1m0s\u001b[0m 10ms/step - accuracy: 0.8873 - auc: 0.9693 - loss: 0.3324 - precision: 0.8911 - recall: 0.8625 - val_accuracy: 1.0000 - val_auc: 1.0000 - val_loss: 0.0722 - val_precision: 1.0000 - val_recall: 1.0000\n",
      "Epoch 35/500\n",
      "\u001b[1m15/15\u001b[0m \u001b[32m━━━━━━━━━━━━━━━━━━━━\u001b[0m\u001b[37m\u001b[0m \u001b[1m0s\u001b[0m 10ms/step - accuracy: 0.9187 - auc: 0.9900 - loss: 0.1985 - precision: 0.9187 - recall: 0.9187 - val_accuracy: 1.0000 - val_auc: 1.0000 - val_loss: 0.0684 - val_precision: 1.0000 - val_recall: 1.0000\n",
      "Epoch 36/500\n",
      "\u001b[1m15/15\u001b[0m \u001b[32m━━━━━━━━━━━━━━━━━━━━\u001b[0m\u001b[37m\u001b[0m \u001b[1m0s\u001b[0m 10ms/step - accuracy: 0.9056 - auc: 0.9842 - loss: 0.2205 - precision: 0.9056 - recall: 0.9056 - val_accuracy: 1.0000 - val_auc: 1.0000 - val_loss: 0.0740 - val_precision: 1.0000 - val_recall: 1.0000\n",
      "Epoch 37/500\n",
      "\u001b[1m15/15\u001b[0m \u001b[32m━━━━━━━━━━━━━━━━━━━━\u001b[0m\u001b[37m\u001b[0m \u001b[1m0s\u001b[0m 10ms/step - accuracy: 0.8616 - auc: 0.9791 - loss: 0.2673 - precision: 0.8590 - recall: 0.8430 - val_accuracy: 1.0000 - val_auc: 1.0000 - val_loss: 0.0601 - val_precision: 1.0000 - val_recall: 1.0000\n",
      "Epoch 38/500\n",
      "\u001b[1m15/15\u001b[0m \u001b[32m━━━━━━━━━━━━━━━━━━━━\u001b[0m\u001b[37m\u001b[0m \u001b[1m0s\u001b[0m 10ms/step - accuracy: 0.8849 - auc: 0.9908 - loss: 0.1755 - precision: 0.8896 - recall: 0.8849 - val_accuracy: 1.0000 - val_auc: 1.0000 - val_loss: 0.0484 - val_precision: 1.0000 - val_recall: 1.0000\n",
      "Epoch 39/500\n",
      "\u001b[1m15/15\u001b[0m \u001b[32m━━━━━━━━━━━━━━━━━━━━\u001b[0m\u001b[37m\u001b[0m \u001b[1m0s\u001b[0m 10ms/step - accuracy: 0.8550 - auc: 0.9705 - loss: 0.3294 - precision: 0.8550 - recall: 0.8550 - val_accuracy: 1.0000 - val_auc: 1.0000 - val_loss: 0.0676 - val_precision: 1.0000 - val_recall: 1.0000\n",
      "Epoch 40/500\n",
      "\u001b[1m15/15\u001b[0m \u001b[32m━━━━━━━━━━━━━━━━━━━━\u001b[0m\u001b[37m\u001b[0m \u001b[1m0s\u001b[0m 10ms/step - accuracy: 0.8798 - auc: 0.9876 - loss: 0.2394 - precision: 0.9147 - recall: 0.8798 - val_accuracy: 1.0000 - val_auc: 1.0000 - val_loss: 0.0610 - val_precision: 1.0000 - val_recall: 1.0000\n",
      "Epoch 41/500\n",
      "\u001b[1m15/15\u001b[0m \u001b[32m━━━━━━━━━━━━━━━━━━━━\u001b[0m\u001b[37m\u001b[0m \u001b[1m0s\u001b[0m 10ms/step - accuracy: 0.8834 - auc: 0.9553 - loss: 0.3733 - precision: 0.8834 - recall: 0.8834 - val_accuracy: 1.0000 - val_auc: 1.0000 - val_loss: 0.0554 - val_precision: 1.0000 - val_recall: 1.0000\n",
      "Epoch 42/500\n",
      "\u001b[1m15/15\u001b[0m \u001b[32m━━━━━━━━━━━━━━━━━━━━\u001b[0m\u001b[37m\u001b[0m \u001b[1m0s\u001b[0m 10ms/step - accuracy: 0.8801 - auc: 0.9786 - loss: 0.2626 - precision: 0.8801 - recall: 0.8801 - val_accuracy: 1.0000 - val_auc: 1.0000 - val_loss: 0.0737 - val_precision: 1.0000 - val_recall: 1.0000\n",
      "Epoch 43/500\n",
      "\u001b[1m15/15\u001b[0m \u001b[32m━━━━━━━━━━━━━━━━━━━━\u001b[0m\u001b[37m\u001b[0m \u001b[1m0s\u001b[0m 9ms/step - accuracy: 0.8743 - auc: 0.9604 - loss: 0.3993 - precision: 0.8718 - recall: 0.8557 - val_accuracy: 1.0000 - val_auc: 1.0000 - val_loss: 0.0561 - val_precision: 1.0000 - val_recall: 1.0000\n",
      "Epoch 44/500\n",
      "\u001b[1m15/15\u001b[0m \u001b[32m━━━━━━━━━━━━━━━━━━━━\u001b[0m\u001b[37m\u001b[0m \u001b[1m0s\u001b[0m 9ms/step - accuracy: 0.9116 - auc: 0.9862 - loss: 0.2133 - precision: 0.9110 - recall: 0.9054 - val_accuracy: 1.0000 - val_auc: 1.0000 - val_loss: 0.0425 - val_precision: 1.0000 - val_recall: 1.0000\n",
      "Epoch 45/500\n",
      "\u001b[1m15/15\u001b[0m \u001b[32m━━━━━━━━━━━━━━━━━━━━\u001b[0m\u001b[37m\u001b[0m \u001b[1m0s\u001b[0m 9ms/step - accuracy: 0.9276 - auc: 0.9869 - loss: 0.2111 - precision: 0.9272 - recall: 0.9204 - val_accuracy: 1.0000 - val_auc: 1.0000 - val_loss: 0.0432 - val_precision: 1.0000 - val_recall: 1.0000\n",
      "Epoch 46/500\n",
      "\u001b[1m15/15\u001b[0m \u001b[32m━━━━━━━━━━━━━━━━━━━━\u001b[0m\u001b[37m\u001b[0m \u001b[1m0s\u001b[0m 10ms/step - accuracy: 0.9065 - auc: 0.9829 - loss: 0.2288 - precision: 0.9065 - recall: 0.9065 - val_accuracy: 1.0000 - val_auc: 1.0000 - val_loss: 0.0366 - val_precision: 1.0000 - val_recall: 1.0000\n",
      "Epoch 47/500\n",
      "\u001b[1m15/15\u001b[0m \u001b[32m━━━━━━━━━━━━━━━━━━━━\u001b[0m\u001b[37m\u001b[0m \u001b[1m0s\u001b[0m 10ms/step - accuracy: 0.8853 - auc: 0.9769 - loss: 0.2885 - precision: 0.8853 - recall: 0.8853 - val_accuracy: 1.0000 - val_auc: 1.0000 - val_loss: 0.0296 - val_precision: 1.0000 - val_recall: 1.0000\n",
      "Epoch 48/500\n",
      "\u001b[1m15/15\u001b[0m \u001b[32m━━━━━━━━━━━━━━━━━━━━\u001b[0m\u001b[37m\u001b[0m \u001b[1m0s\u001b[0m 11ms/step - accuracy: 0.8696 - auc: 0.9825 - loss: 0.2475 - precision: 0.8696 - recall: 0.8696 - val_accuracy: 1.0000 - val_auc: 1.0000 - val_loss: 0.0294 - val_precision: 1.0000 - val_recall: 1.0000\n",
      "Epoch 49/500\n",
      "\u001b[1m15/15\u001b[0m \u001b[32m━━━━━━━━━━━━━━━━━━━━\u001b[0m\u001b[37m\u001b[0m \u001b[1m0s\u001b[0m 10ms/step - accuracy: 0.8711 - auc: 0.9857 - loss: 0.2290 - precision: 0.8882 - recall: 0.8700 - val_accuracy: 1.0000 - val_auc: 1.0000 - val_loss: 0.0251 - val_precision: 1.0000 - val_recall: 1.0000\n",
      "Epoch 50/500\n",
      "\u001b[1m15/15\u001b[0m \u001b[32m━━━━━━━━━━━━━━━━━━━━\u001b[0m\u001b[37m\u001b[0m \u001b[1m0s\u001b[0m 9ms/step - accuracy: 0.8913 - auc: 0.9838 - loss: 0.2424 - precision: 0.9018 - recall: 0.8913 - val_accuracy: 1.0000 - val_auc: 1.0000 - val_loss: 0.0235 - val_precision: 1.0000 - val_recall: 1.0000\n",
      "Epoch 51/500\n",
      "\u001b[1m15/15\u001b[0m \u001b[32m━━━━━━━━━━━━━━━━━━━━\u001b[0m\u001b[37m\u001b[0m \u001b[1m0s\u001b[0m 10ms/step - accuracy: 0.9125 - auc: 0.9829 - loss: 0.2308 - precision: 0.9125 - recall: 0.9125 - val_accuracy: 1.0000 - val_auc: 1.0000 - val_loss: 0.0210 - val_precision: 1.0000 - val_recall: 1.0000\n",
      "Epoch 52/500\n",
      "\u001b[1m15/15\u001b[0m \u001b[32m━━━━━━━━━━━━━━━━━━━━\u001b[0m\u001b[37m\u001b[0m \u001b[1m0s\u001b[0m 9ms/step - accuracy: 0.8877 - auc: 0.9834 - loss: 0.2287 - precision: 0.8877 - recall: 0.8877 - val_accuracy: 1.0000 - val_auc: 1.0000 - val_loss: 0.0199 - val_precision: 1.0000 - val_recall: 1.0000\n",
      "Epoch 53/500\n",
      "\u001b[1m15/15\u001b[0m \u001b[32m━━━━━━━━━━━━━━━━━━━━\u001b[0m\u001b[37m\u001b[0m \u001b[1m0s\u001b[0m 9ms/step - accuracy: 0.9076 - auc: 0.9859 - loss: 0.2102 - precision: 0.9076 - recall: 0.9076 - val_accuracy: 1.0000 - val_auc: 1.0000 - val_loss: 0.0222 - val_precision: 1.0000 - val_recall: 1.0000\n",
      "Epoch 54/500\n",
      "\u001b[1m15/15\u001b[0m \u001b[32m━━━━━━━━━━━━━━━━━━━━\u001b[0m\u001b[37m\u001b[0m \u001b[1m0s\u001b[0m 9ms/step - accuracy: 0.8599 - auc: 0.9719 - loss: 0.3436 - precision: 0.8704 - recall: 0.8599 - val_accuracy: 1.0000 - val_auc: 1.0000 - val_loss: 0.0292 - val_precision: 1.0000 - val_recall: 1.0000\n",
      "Epoch 55/500\n",
      "\u001b[1m15/15\u001b[0m \u001b[32m━━━━━━━━━━━━━━━━━━━━\u001b[0m\u001b[37m\u001b[0m \u001b[1m0s\u001b[0m 9ms/step - accuracy: 0.8855 - auc: 0.9793 - loss: 0.2630 - precision: 0.8854 - recall: 0.8845 - val_accuracy: 1.0000 - val_auc: 1.0000 - val_loss: 0.0359 - val_precision: 1.0000 - val_recall: 1.0000\n",
      "Epoch 56/500\n",
      "\u001b[1m15/15\u001b[0m \u001b[32m━━━━━━━━━━━━━━━━━━━━\u001b[0m\u001b[37m\u001b[0m \u001b[1m0s\u001b[0m 9ms/step - accuracy: 0.8867 - auc: 0.9854 - loss: 0.2185 - precision: 0.8867 - recall: 0.8867 - val_accuracy: 1.0000 - val_auc: 1.0000 - val_loss: 0.0335 - val_precision: 1.0000 - val_recall: 1.0000\n",
      "Epoch 57/500\n",
      "\u001b[1m15/15\u001b[0m \u001b[32m━━━━━━━━━━━━━━━━━━━━\u001b[0m\u001b[37m\u001b[0m \u001b[1m0s\u001b[0m 9ms/step - accuracy: 0.8841 - auc: 0.9801 - loss: 0.2570 - precision: 0.8841 - recall: 0.8841 - val_accuracy: 1.0000 - val_auc: 1.0000 - val_loss: 0.0268 - val_precision: 1.0000 - val_recall: 1.0000\n",
      "Epoch 58/500\n",
      "\u001b[1m15/15\u001b[0m \u001b[32m━━━━━━━━━━━━━━━━━━━━\u001b[0m\u001b[37m\u001b[0m \u001b[1m0s\u001b[0m 9ms/step - accuracy: 0.8835 - auc: 0.9851 - loss: 0.2138 - precision: 0.8835 - recall: 0.8835 - val_accuracy: 1.0000 - val_auc: 1.0000 - val_loss: 0.0260 - val_precision: 1.0000 - val_recall: 1.0000\n",
      "Epoch 59/500\n",
      "\u001b[1m15/15\u001b[0m \u001b[32m━━━━━━━━━━━━━━━━━━━━\u001b[0m\u001b[37m\u001b[0m \u001b[1m0s\u001b[0m 8ms/step - accuracy: 0.8803 - auc: 0.9839 - loss: 0.2309 - precision: 0.8853 - recall: 0.8656 - val_accuracy: 1.0000 - val_auc: 1.0000 - val_loss: 0.0273 - val_precision: 1.0000 - val_recall: 1.0000\n",
      "Epoch 60/500\n",
      "\u001b[1m15/15\u001b[0m \u001b[32m━━━━━━━━━━━━━━━━━━━━\u001b[0m\u001b[37m\u001b[0m \u001b[1m0s\u001b[0m 8ms/step - accuracy: 0.8693 - auc: 0.9784 - loss: 0.2803 - precision: 0.8692 - recall: 0.8683 - val_accuracy: 1.0000 - val_auc: 1.0000 - val_loss: 0.0448 - val_precision: 1.0000 - val_recall: 1.0000\n",
      "Epoch 61/500\n",
      "\u001b[1m15/15\u001b[0m \u001b[32m━━━━━━━━━━━━━━━━━━━━\u001b[0m\u001b[37m\u001b[0m \u001b[1m0s\u001b[0m 9ms/step - accuracy: 0.9253 - auc: 0.9902 - loss: 0.1951 - precision: 0.9252 - recall: 0.9242 - val_accuracy: 1.0000 - val_auc: 1.0000 - val_loss: 0.0151 - val_precision: 1.0000 - val_recall: 1.0000\n",
      "Epoch 62/500\n",
      "\u001b[1m15/15\u001b[0m \u001b[32m━━━━━━━━━━━━━━━━━━━━\u001b[0m\u001b[37m\u001b[0m \u001b[1m0s\u001b[0m 10ms/step - accuracy: 0.8939 - auc: 0.9875 - loss: 0.2021 - precision: 0.8939 - recall: 0.8939 - val_accuracy: 1.0000 - val_auc: 1.0000 - val_loss: 0.0083 - val_precision: 1.0000 - val_recall: 1.0000\n",
      "Epoch 63/500\n",
      "\u001b[1m15/15\u001b[0m \u001b[32m━━━━━━━━━━━━━━━━━━━━\u001b[0m\u001b[37m\u001b[0m \u001b[1m0s\u001b[0m 9ms/step - accuracy: 0.8669 - auc: 0.9788 - loss: 0.2650 - precision: 0.8669 - recall: 0.8669 - val_accuracy: 1.0000 - val_auc: 1.0000 - val_loss: 0.0127 - val_precision: 1.0000 - val_recall: 1.0000\n",
      "Epoch 64/500\n",
      "\u001b[1m15/15\u001b[0m \u001b[32m━━━━━━━━━━━━━━━━━━━━\u001b[0m\u001b[37m\u001b[0m \u001b[1m0s\u001b[0m 9ms/step - accuracy: 0.9397 - auc: 0.9936 - loss: 0.1551 - precision: 0.9397 - recall: 0.9397 - val_accuracy: 1.0000 - val_auc: 1.0000 - val_loss: 0.0249 - val_precision: 1.0000 - val_recall: 1.0000\n",
      "Epoch 65/500\n",
      "\u001b[1m15/15\u001b[0m \u001b[32m━━━━━━━━━━━━━━━━━━━━\u001b[0m\u001b[37m\u001b[0m \u001b[1m0s\u001b[0m 9ms/step - accuracy: 0.8823 - auc: 0.9852 - loss: 0.2209 - precision: 0.8823 - recall: 0.8823 - val_accuracy: 1.0000 - val_auc: 1.0000 - val_loss: 0.0145 - val_precision: 1.0000 - val_recall: 1.0000\n",
      "Epoch 66/500\n",
      "\u001b[1m15/15\u001b[0m \u001b[32m━━━━━━━━━━━━━━━━━━━━\u001b[0m\u001b[37m\u001b[0m \u001b[1m0s\u001b[0m 9ms/step - accuracy: 0.9473 - auc: 0.9944 - loss: 0.1461 - precision: 0.9473 - recall: 0.9473 - val_accuracy: 1.0000 - val_auc: 1.0000 - val_loss: 0.0076 - val_precision: 1.0000 - val_recall: 1.0000\n",
      "Epoch 67/500\n",
      "\u001b[1m15/15\u001b[0m \u001b[32m━━━━━━━━━━━━━━━━━━━━\u001b[0m\u001b[37m\u001b[0m \u001b[1m0s\u001b[0m 9ms/step - accuracy: 0.9206 - auc: 0.9905 - loss: 0.1831 - precision: 0.9204 - recall: 0.9178 - val_accuracy: 1.0000 - val_auc: 1.0000 - val_loss: 0.0152 - val_precision: 1.0000 - val_recall: 1.0000\n",
      "Epoch 68/500\n",
      "\u001b[1m15/15\u001b[0m \u001b[32m━━━━━━━━━━━━━━━━━━━━\u001b[0m\u001b[37m\u001b[0m \u001b[1m0s\u001b[0m 9ms/step - accuracy: 0.8992 - auc: 0.9860 - loss: 0.2105 - precision: 0.8992 - recall: 0.8992 - val_accuracy: 1.0000 - val_auc: 1.0000 - val_loss: 0.0267 - val_precision: 1.0000 - val_recall: 1.0000\n",
      "Epoch 69/500\n",
      "\u001b[1m15/15\u001b[0m \u001b[32m━━━━━━━━━━━━━━━━━━━━\u001b[0m\u001b[37m\u001b[0m \u001b[1m0s\u001b[0m 9ms/step - accuracy: 0.9364 - auc: 0.9946 - loss: 0.1367 - precision: 0.9364 - recall: 0.9364 - val_accuracy: 1.0000 - val_auc: 1.0000 - val_loss: 0.0252 - val_precision: 1.0000 - val_recall: 1.0000\n",
      "Epoch 70/500\n",
      "\u001b[1m15/15\u001b[0m \u001b[32m━━━━━━━━━━━━━━━━━━━━\u001b[0m\u001b[37m\u001b[0m \u001b[1m0s\u001b[0m 10ms/step - accuracy: 0.9521 - auc: 0.9924 - loss: 0.1537 - precision: 0.9521 - recall: 0.9521 - val_accuracy: 1.0000 - val_auc: 1.0000 - val_loss: 0.0267 - val_precision: 1.0000 - val_recall: 1.0000\n",
      "Epoch 71/500\n",
      "\u001b[1m15/15\u001b[0m \u001b[32m━━━━━━━━━━━━━━━━━━━━\u001b[0m\u001b[37m\u001b[0m \u001b[1m0s\u001b[0m 9ms/step - accuracy: 0.9369 - auc: 0.9922 - loss: 0.1600 - precision: 0.9379 - recall: 0.9369 - val_accuracy: 1.0000 - val_auc: 1.0000 - val_loss: 0.0102 - val_precision: 1.0000 - val_recall: 1.0000\n",
      "Epoch 72/500\n",
      "\u001b[1m15/15\u001b[0m \u001b[32m━━━━━━━━━━━━━━━━━━━━\u001b[0m\u001b[37m\u001b[0m \u001b[1m0s\u001b[0m 9ms/step - accuracy: 0.9145 - auc: 0.9913 - loss: 0.1740 - precision: 0.9145 - recall: 0.9145 - val_accuracy: 1.0000 - val_auc: 1.0000 - val_loss: 0.0074 - val_precision: 1.0000 - val_recall: 1.0000\n",
      "Epoch 73/500\n",
      "\u001b[1m15/15\u001b[0m \u001b[32m━━━━━━━━━━━━━━━━━━━━\u001b[0m\u001b[37m\u001b[0m \u001b[1m0s\u001b[0m 9ms/step - accuracy: 0.8807 - auc: 0.9849 - loss: 0.2393 - precision: 0.8807 - recall: 0.8807 - val_accuracy: 1.0000 - val_auc: 1.0000 - val_loss: 0.0089 - val_precision: 1.0000 - val_recall: 1.0000\n",
      "Epoch 74/500\n",
      "\u001b[1m15/15\u001b[0m \u001b[32m━━━━━━━━━━━━━━━━━━━━\u001b[0m\u001b[37m\u001b[0m \u001b[1m0s\u001b[0m 9ms/step - accuracy: 0.9218 - auc: 0.9891 - loss: 0.1900 - precision: 0.9342 - recall: 0.9218 - val_accuracy: 1.0000 - val_auc: 1.0000 - val_loss: 0.0122 - val_precision: 1.0000 - val_recall: 1.0000\n",
      "Epoch 75/500\n",
      "\u001b[1m15/15\u001b[0m \u001b[32m━━━━━━━━━━━━━━━━━━━━\u001b[0m\u001b[37m\u001b[0m \u001b[1m0s\u001b[0m 9ms/step - accuracy: 0.9225 - auc: 0.9953 - loss: 0.1309 - precision: 0.9225 - recall: 0.9225 - val_accuracy: 1.0000 - val_auc: 1.0000 - val_loss: 0.0114 - val_precision: 1.0000 - val_recall: 1.0000\n",
      "Epoch 76/500\n",
      "\u001b[1m15/15\u001b[0m \u001b[32m━━━━━━━━━━━━━━━━━━━━\u001b[0m\u001b[37m\u001b[0m \u001b[1m0s\u001b[0m 9ms/step - accuracy: 0.9174 - auc: 0.9935 - loss: 0.1638 - precision: 0.9174 - recall: 0.9174 - val_accuracy: 1.0000 - val_auc: 1.0000 - val_loss: 0.0120 - val_precision: 1.0000 - val_recall: 1.0000\n",
      "Epoch 77/500\n",
      "\u001b[1m15/15\u001b[0m \u001b[32m━━━━━━━━━━━━━━━━━━━━\u001b[0m\u001b[37m\u001b[0m \u001b[1m0s\u001b[0m 9ms/step - accuracy: 0.8915 - auc: 0.9889 - loss: 0.1912 - precision: 0.8915 - recall: 0.8915 - val_accuracy: 1.0000 - val_auc: 1.0000 - val_loss: 0.0133 - val_precision: 1.0000 - val_recall: 1.0000\n",
      "Epoch 78/500\n",
      "\u001b[1m15/15\u001b[0m \u001b[32m━━━━━━━━━━━━━━━━━━━━\u001b[0m\u001b[37m\u001b[0m \u001b[1m0s\u001b[0m 9ms/step - accuracy: 0.9191 - auc: 0.9843 - loss: 0.2255 - precision: 0.9191 - recall: 0.9191 - val_accuracy: 1.0000 - val_auc: 1.0000 - val_loss: 0.0082 - val_precision: 1.0000 - val_recall: 1.0000\n",
      "Epoch 79/500\n",
      "\u001b[1m15/15\u001b[0m \u001b[32m━━━━━━━━━━━━━━━━━━━━\u001b[0m\u001b[37m\u001b[0m \u001b[1m0s\u001b[0m 9ms/step - accuracy: 0.9286 - auc: 0.9941 - loss: 0.1401 - precision: 0.9286 - recall: 0.9286 - val_accuracy: 1.0000 - val_auc: 1.0000 - val_loss: 0.0071 - val_precision: 1.0000 - val_recall: 1.0000\n",
      "Epoch 80/500\n",
      "\u001b[1m15/15\u001b[0m \u001b[32m━━━━━━━━━━━━━━━━━━━━\u001b[0m\u001b[37m\u001b[0m \u001b[1m0s\u001b[0m 10ms/step - accuracy: 0.9243 - auc: 0.9914 - loss: 0.1711 - precision: 0.9243 - recall: 0.9243 - val_accuracy: 1.0000 - val_auc: 1.0000 - val_loss: 0.0061 - val_precision: 1.0000 - val_recall: 1.0000\n",
      "Epoch 81/500\n",
      "\u001b[1m15/15\u001b[0m \u001b[32m━━━━━━━━━━━━━━━━━━━━\u001b[0m\u001b[37m\u001b[0m \u001b[1m0s\u001b[0m 9ms/step - accuracy: 0.9210 - auc: 0.9945 - loss: 0.1384 - precision: 0.9210 - recall: 0.9210 - val_accuracy: 1.0000 - val_auc: 1.0000 - val_loss: 0.0053 - val_precision: 1.0000 - val_recall: 1.0000\n",
      "Epoch 82/500\n",
      "\u001b[1m15/15\u001b[0m \u001b[32m━━━━━━━━━━━━━━━━━━━━\u001b[0m\u001b[37m\u001b[0m \u001b[1m0s\u001b[0m 10ms/step - accuracy: 0.9413 - auc: 0.9938 - loss: 0.1534 - precision: 0.9405 - recall: 0.9149 - val_accuracy: 1.0000 - val_auc: 1.0000 - val_loss: 0.0091 - val_precision: 1.0000 - val_recall: 1.0000\n",
      "Epoch 83/500\n",
      "\u001b[1m15/15\u001b[0m \u001b[32m━━━━━━━━━━━━━━━━━━━━\u001b[0m\u001b[37m\u001b[0m \u001b[1m0s\u001b[0m 10ms/step - accuracy: 0.9157 - auc: 0.9888 - loss: 0.1820 - precision: 0.9157 - recall: 0.9157 - val_accuracy: 1.0000 - val_auc: 1.0000 - val_loss: 0.0050 - val_precision: 1.0000 - val_recall: 1.0000\n",
      "Epoch 84/500\n",
      "\u001b[1m15/15\u001b[0m \u001b[32m━━━━━━━━━━━━━━━━━━━━\u001b[0m\u001b[37m\u001b[0m \u001b[1m0s\u001b[0m 9ms/step - accuracy: 0.9207 - auc: 0.9908 - loss: 0.1696 - precision: 0.9207 - recall: 0.9207 - val_accuracy: 1.0000 - val_auc: 1.0000 - val_loss: 0.0053 - val_precision: 1.0000 - val_recall: 1.0000\n",
      "Epoch 85/500\n",
      "\u001b[1m15/15\u001b[0m \u001b[32m━━━━━━━━━━━━━━━━━━━━\u001b[0m\u001b[37m\u001b[0m \u001b[1m0s\u001b[0m 11ms/step - accuracy: 0.8797 - auc: 0.9833 - loss: 0.2247 - precision: 0.8791 - recall: 0.8724 - val_accuracy: 1.0000 - val_auc: 1.0000 - val_loss: 0.0068 - val_precision: 1.0000 - val_recall: 1.0000\n",
      "Epoch 86/500\n",
      "\u001b[1m15/15\u001b[0m \u001b[32m━━━━━━━━━━━━━━━━━━━━\u001b[0m\u001b[37m\u001b[0m \u001b[1m0s\u001b[0m 10ms/step - accuracy: 0.8976 - auc: 0.9908 - loss: 0.1704 - precision: 0.8969 - recall: 0.8914 - val_accuracy: 1.0000 - val_auc: 1.0000 - val_loss: 0.0051 - val_precision: 1.0000 - val_recall: 1.0000\n",
      "Epoch 87/500\n",
      "\u001b[1m15/15\u001b[0m \u001b[32m━━━━━━━━━━━━━━━━━━━━\u001b[0m\u001b[37m\u001b[0m \u001b[1m0s\u001b[0m 10ms/step - accuracy: 0.9154 - auc: 0.9907 - loss: 0.1719 - precision: 0.9148 - recall: 0.9092 - val_accuracy: 1.0000 - val_auc: 1.0000 - val_loss: 0.0060 - val_precision: 1.0000 - val_recall: 1.0000\n",
      "Epoch 88/500\n",
      "\u001b[1m15/15\u001b[0m \u001b[32m━━━━━━━━━━━━━━━━━━━━\u001b[0m\u001b[37m\u001b[0m \u001b[1m0s\u001b[0m 10ms/step - accuracy: 0.9457 - auc: 0.9959 - loss: 0.1173 - precision: 0.9457 - recall: 0.9457 - val_accuracy: 1.0000 - val_auc: 1.0000 - val_loss: 0.0092 - val_precision: 1.0000 - val_recall: 1.0000\n",
      "Epoch 89/500\n",
      "\u001b[1m15/15\u001b[0m \u001b[32m━━━━━━━━━━━━━━━━━━━━\u001b[0m\u001b[37m\u001b[0m \u001b[1m0s\u001b[0m 10ms/step - accuracy: 0.9491 - auc: 0.9868 - loss: 0.1882 - precision: 0.9549 - recall: 0.9491 - val_accuracy: 1.0000 - val_auc: 1.0000 - val_loss: 0.0030 - val_precision: 1.0000 - val_recall: 1.0000\n",
      "Epoch 90/500\n",
      "\u001b[1m15/15\u001b[0m \u001b[32m━━━━━━━━━━━━━━━━━━━━\u001b[0m\u001b[37m\u001b[0m \u001b[1m0s\u001b[0m 12ms/step - accuracy: 0.9211 - auc: 0.9877 - loss: 0.1970 - precision: 0.9211 - recall: 0.9211 - val_accuracy: 1.0000 - val_auc: 1.0000 - val_loss: 0.0048 - val_precision: 1.0000 - val_recall: 1.0000\n",
      "Epoch 91/500\n",
      "\u001b[1m15/15\u001b[0m \u001b[32m━━━━━━━━━━━━━━━━━━━━\u001b[0m\u001b[37m\u001b[0m \u001b[1m0s\u001b[0m 10ms/step - accuracy: 0.9231 - auc: 0.9881 - loss: 0.2285 - precision: 0.9231 - recall: 0.9231 - val_accuracy: 1.0000 - val_auc: 1.0000 - val_loss: 0.0054 - val_precision: 1.0000 - val_recall: 1.0000\n",
      "Epoch 92/500\n",
      "\u001b[1m15/15\u001b[0m \u001b[32m━━━━━━━━━━━━━━━━━━━━\u001b[0m\u001b[37m\u001b[0m \u001b[1m0s\u001b[0m 10ms/step - accuracy: 0.9375 - auc: 0.9924 - loss: 0.1700 - precision: 0.9375 - recall: 0.9375 - val_accuracy: 1.0000 - val_auc: 1.0000 - val_loss: 0.0048 - val_precision: 1.0000 - val_recall: 1.0000\n",
      "Epoch 93/500\n",
      "\u001b[1m15/15\u001b[0m \u001b[32m━━━━━━━━━━━━━━━━━━━━\u001b[0m\u001b[37m\u001b[0m \u001b[1m0s\u001b[0m 10ms/step - accuracy: 0.9136 - auc: 0.9912 - loss: 0.1702 - precision: 0.9136 - recall: 0.9136 - val_accuracy: 1.0000 - val_auc: 1.0000 - val_loss: 0.0061 - val_precision: 1.0000 - val_recall: 1.0000\n",
      "Epoch 94/500\n",
      "\u001b[1m15/15\u001b[0m \u001b[32m━━━━━━━━━━━━━━━━━━━━\u001b[0m\u001b[37m\u001b[0m \u001b[1m0s\u001b[0m 9ms/step - accuracy: 0.9033 - auc: 0.9863 - loss: 0.2236 - precision: 0.9033 - recall: 0.9033 - val_accuracy: 1.0000 - val_auc: 1.0000 - val_loss: 0.0055 - val_precision: 1.0000 - val_recall: 1.0000\n",
      "Epoch 95/500\n",
      "\u001b[1m15/15\u001b[0m \u001b[32m━━━━━━━━━━━━━━━━━━━━\u001b[0m\u001b[37m\u001b[0m \u001b[1m0s\u001b[0m 11ms/step - accuracy: 0.9780 - auc: 0.9983 - loss: 0.0870 - precision: 0.9780 - recall: 0.9780 - val_accuracy: 1.0000 - val_auc: 1.0000 - val_loss: 0.0110 - val_precision: 1.0000 - val_recall: 1.0000\n",
      "Epoch 96/500\n",
      "\u001b[1m15/15\u001b[0m \u001b[32m━━━━━━━━━━━━━━━━━━━━\u001b[0m\u001b[37m\u001b[0m \u001b[1m0s\u001b[0m 10ms/step - accuracy: 0.9352 - auc: 0.9930 - loss: 0.1436 - precision: 0.9352 - recall: 0.9352 - val_accuracy: 1.0000 - val_auc: 1.0000 - val_loss: 0.0041 - val_precision: 1.0000 - val_recall: 1.0000\n",
      "Epoch 97/500\n",
      "\u001b[1m15/15\u001b[0m \u001b[32m━━━━━━━━━━━━━━━━━━━━\u001b[0m\u001b[37m\u001b[0m \u001b[1m0s\u001b[0m 11ms/step - accuracy: 0.8953 - auc: 0.9745 - loss: 0.3394 - precision: 0.8953 - recall: 0.8953 - val_accuracy: 1.0000 - val_auc: 1.0000 - val_loss: 0.0079 - val_precision: 1.0000 - val_recall: 1.0000\n",
      "Epoch 98/500\n",
      "\u001b[1m15/15\u001b[0m \u001b[32m━━━━━━━━━━━━━━━━━━━━\u001b[0m\u001b[37m\u001b[0m \u001b[1m0s\u001b[0m 11ms/step - accuracy: 0.8981 - auc: 0.9877 - loss: 0.1884 - precision: 0.8977 - recall: 0.8938 - val_accuracy: 1.0000 - val_auc: 1.0000 - val_loss: 0.0056 - val_precision: 1.0000 - val_recall: 1.0000\n",
      "Epoch 99/500\n",
      "\u001b[1m15/15\u001b[0m \u001b[32m━━━━━━━━━━━━━━━━━━━━\u001b[0m\u001b[37m\u001b[0m \u001b[1m0s\u001b[0m 9ms/step - accuracy: 0.9245 - auc: 0.9877 - loss: 0.2023 - precision: 0.9292 - recall: 0.9245 - val_accuracy: 1.0000 - val_auc: 1.0000 - val_loss: 0.0042 - val_precision: 1.0000 - val_recall: 1.0000\n",
      "Epoch 100/500\n",
      "\u001b[1m15/15\u001b[0m \u001b[32m━━━━━━━━━━━━━━━━━━━━\u001b[0m\u001b[37m\u001b[0m \u001b[1m0s\u001b[0m 9ms/step - accuracy: 0.9418 - auc: 0.9954 - loss: 0.1313 - precision: 0.9418 - recall: 0.9418 - val_accuracy: 1.0000 - val_auc: 1.0000 - val_loss: 0.0028 - val_precision: 1.0000 - val_recall: 1.0000\n",
      "Epoch 101/500\n",
      "\u001b[1m15/15\u001b[0m \u001b[32m━━━━━━━━━━━━━━━━━━━━\u001b[0m\u001b[37m\u001b[0m \u001b[1m0s\u001b[0m 10ms/step - accuracy: 0.9391 - auc: 0.9961 - loss: 0.1202 - precision: 0.9391 - recall: 0.9391 - val_accuracy: 1.0000 - val_auc: 1.0000 - val_loss: 0.0029 - val_precision: 1.0000 - val_recall: 1.0000\n",
      "Epoch 102/500\n",
      "\u001b[1m15/15\u001b[0m \u001b[32m━━━━━━━━━━━━━━━━━━━━\u001b[0m\u001b[37m\u001b[0m \u001b[1m0s\u001b[0m 10ms/step - accuracy: 0.9467 - auc: 0.9955 - loss: 0.1290 - precision: 0.9466 - recall: 0.9456 - val_accuracy: 1.0000 - val_auc: 1.0000 - val_loss: 0.0049 - val_precision: 1.0000 - val_recall: 1.0000\n",
      "Epoch 103/500\n",
      "\u001b[1m15/15\u001b[0m \u001b[32m━━━━━━━━━━━━━━━━━━━━\u001b[0m\u001b[37m\u001b[0m \u001b[1m0s\u001b[0m 9ms/step - accuracy: 0.9561 - auc: 0.9966 - loss: 0.1217 - precision: 0.9559 - recall: 0.9518 - val_accuracy: 1.0000 - val_auc: 1.0000 - val_loss: 0.0029 - val_precision: 1.0000 - val_recall: 1.0000\n",
      "Epoch 104/500\n",
      "\u001b[1m15/15\u001b[0m \u001b[32m━━━━━━━━━━━━━━━━━━━━\u001b[0m\u001b[37m\u001b[0m \u001b[1m0s\u001b[0m 9ms/step - accuracy: 0.9243 - auc: 0.9961 - loss: 0.1264 - precision: 0.9243 - recall: 0.9243 - val_accuracy: 1.0000 - val_auc: 1.0000 - val_loss: 0.0018 - val_precision: 1.0000 - val_recall: 1.0000\n",
      "Epoch 105/500\n",
      "\u001b[1m15/15\u001b[0m \u001b[32m━━━━━━━━━━━━━━━━━━━━\u001b[0m\u001b[37m\u001b[0m \u001b[1m0s\u001b[0m 10ms/step - accuracy: 0.9422 - auc: 0.9960 - loss: 0.1236 - precision: 0.9422 - recall: 0.9422 - val_accuracy: 1.0000 - val_auc: 1.0000 - val_loss: 0.0028 - val_precision: 1.0000 - val_recall: 1.0000\n",
      "Epoch 106/500\n",
      "\u001b[1m15/15\u001b[0m \u001b[32m━━━━━━━━━━━━━━━━━━━━\u001b[0m\u001b[37m\u001b[0m \u001b[1m0s\u001b[0m 9ms/step - accuracy: 0.9673 - auc: 0.9977 - loss: 0.1144 - precision: 0.9673 - recall: 0.9663 - val_accuracy: 1.0000 - val_auc: 1.0000 - val_loss: 0.0029 - val_precision: 1.0000 - val_recall: 1.0000\n",
      "Epoch 107/500\n",
      "\u001b[1m15/15\u001b[0m \u001b[32m━━━━━━━━━━━━━━━━━━━━\u001b[0m\u001b[37m\u001b[0m \u001b[1m0s\u001b[0m 10ms/step - accuracy: 0.9465 - auc: 0.9969 - loss: 0.1125 - precision: 0.9463 - recall: 0.9422 - val_accuracy: 1.0000 - val_auc: 1.0000 - val_loss: 0.0024 - val_precision: 1.0000 - val_recall: 1.0000\n",
      "Epoch 108/500\n",
      "\u001b[1m15/15\u001b[0m \u001b[32m━━━━━━━━━━━━━━━━━━━━\u001b[0m\u001b[37m\u001b[0m \u001b[1m0s\u001b[0m 9ms/step - accuracy: 0.9276 - auc: 0.9955 - loss: 0.1147 - precision: 0.9276 - recall: 0.9276 - val_accuracy: 1.0000 - val_auc: 1.0000 - val_loss: 0.0023 - val_precision: 1.0000 - val_recall: 1.0000\n",
      "Epoch 109/500\n",
      "\u001b[1m15/15\u001b[0m \u001b[32m━━━━━━━━━━━━━━━━━━━━\u001b[0m\u001b[37m\u001b[0m \u001b[1m0s\u001b[0m 10ms/step - accuracy: 0.9089 - auc: 0.9902 - loss: 0.1754 - precision: 0.9089 - recall: 0.9089 - val_accuracy: 1.0000 - val_auc: 1.0000 - val_loss: 0.0028 - val_precision: 1.0000 - val_recall: 1.0000\n",
      "Epoch 110/500\n",
      "\u001b[1m15/15\u001b[0m \u001b[32m━━━━━━━━━━━━━━━━━━━━\u001b[0m\u001b[37m\u001b[0m \u001b[1m0s\u001b[0m 10ms/step - accuracy: 0.9668 - auc: 0.9975 - loss: 0.1057 - precision: 0.9668 - recall: 0.9668 - val_accuracy: 1.0000 - val_auc: 1.0000 - val_loss: 0.0023 - val_precision: 1.0000 - val_recall: 1.0000\n",
      "Epoch 111/500\n",
      "\u001b[1m15/15\u001b[0m \u001b[32m━━━━━━━━━━━━━━━━━━━━\u001b[0m\u001b[37m\u001b[0m \u001b[1m0s\u001b[0m 10ms/step - accuracy: 0.9419 - auc: 0.9977 - loss: 0.0918 - precision: 0.9419 - recall: 0.9419 - val_accuracy: 1.0000 - val_auc: 1.0000 - val_loss: 0.0019 - val_precision: 1.0000 - val_recall: 1.0000\n",
      "Epoch 112/500\n",
      "\u001b[1m15/15\u001b[0m \u001b[32m━━━━━━━━━━━━━━━━━━━━\u001b[0m\u001b[37m\u001b[0m \u001b[1m0s\u001b[0m 10ms/step - accuracy: 0.9774 - auc: 0.9979 - loss: 0.1082 - precision: 0.9774 - recall: 0.9774 - val_accuracy: 1.0000 - val_auc: 1.0000 - val_loss: 5.2866e-04 - val_precision: 1.0000 - val_recall: 1.0000\n",
      "Epoch 113/500\n",
      "\u001b[1m15/15\u001b[0m \u001b[32m━━━━━━━━━━━━━━━━━━━━\u001b[0m\u001b[37m\u001b[0m \u001b[1m0s\u001b[0m 11ms/step - accuracy: 0.9319 - auc: 0.9917 - loss: 0.1821 - precision: 0.9319 - recall: 0.9319 - val_accuracy: 1.0000 - val_auc: 1.0000 - val_loss: 0.0019 - val_precision: 1.0000 - val_recall: 1.0000\n",
      "Epoch 114/500\n",
      "\u001b[1m15/15\u001b[0m \u001b[32m━━━━━━━━━━━━━━━━━━━━\u001b[0m\u001b[37m\u001b[0m \u001b[1m0s\u001b[0m 9ms/step - accuracy: 0.9369 - auc: 0.9939 - loss: 0.1356 - precision: 0.9369 - recall: 0.9369 - val_accuracy: 1.0000 - val_auc: 1.0000 - val_loss: 0.0320 - val_precision: 1.0000 - val_recall: 1.0000\n",
      "Epoch 115/500\n",
      "\u001b[1m15/15\u001b[0m \u001b[32m━━━━━━━━━━━━━━━━━━━━\u001b[0m\u001b[37m\u001b[0m \u001b[1m0s\u001b[0m 11ms/step - accuracy: 0.8612 - auc: 0.9835 - loss: 0.2262 - precision: 0.8602 - recall: 0.8507 - val_accuracy: 1.0000 - val_auc: 1.0000 - val_loss: 0.0017 - val_precision: 1.0000 - val_recall: 1.0000\n",
      "Epoch 116/500\n",
      "\u001b[1m15/15\u001b[0m \u001b[32m━━━━━━━━━━━━━━━━━━━━\u001b[0m\u001b[37m\u001b[0m \u001b[1m0s\u001b[0m 11ms/step - accuracy: 0.9453 - auc: 0.9945 - loss: 0.1322 - precision: 0.9453 - recall: 0.9453 - val_accuracy: 1.0000 - val_auc: 1.0000 - val_loss: 9.9132e-04 - val_precision: 1.0000 - val_recall: 1.0000\n",
      "Epoch 117/500\n",
      "\u001b[1m15/15\u001b[0m \u001b[32m━━━━━━━━━━━━━━━━━━━━\u001b[0m\u001b[37m\u001b[0m \u001b[1m0s\u001b[0m 9ms/step - accuracy: 0.9336 - auc: 0.9968 - loss: 0.1279 - precision: 0.9336 - recall: 0.9336 - val_accuracy: 1.0000 - val_auc: 1.0000 - val_loss: 9.3724e-04 - val_precision: 1.0000 - val_recall: 1.0000\n",
      "Epoch 118/500\n",
      "\u001b[1m15/15\u001b[0m \u001b[32m━━━━━━━━━━━━━━━━━━━━\u001b[0m\u001b[37m\u001b[0m \u001b[1m0s\u001b[0m 9ms/step - accuracy: 0.9501 - auc: 0.9746 - loss: 0.2404 - precision: 0.9501 - recall: 0.9501 - val_accuracy: 1.0000 - val_auc: 1.0000 - val_loss: 8.8558e-04 - val_precision: 1.0000 - val_recall: 1.0000\n",
      "Epoch 119/500\n",
      "\u001b[1m15/15\u001b[0m \u001b[32m━━━━━━━━━━━━━━━━━━━━\u001b[0m\u001b[37m\u001b[0m \u001b[1m0s\u001b[0m 9ms/step - accuracy: 0.9717 - auc: 0.9954 - loss: 0.1118 - precision: 0.9717 - recall: 0.9717 - val_accuracy: 1.0000 - val_auc: 1.0000 - val_loss: 0.0012 - val_precision: 1.0000 - val_recall: 1.0000\n",
      "Epoch 120/500\n",
      "\u001b[1m15/15\u001b[0m \u001b[32m━━━━━━━━━━━━━━━━━━━━\u001b[0m\u001b[37m\u001b[0m \u001b[1m0s\u001b[0m 9ms/step - accuracy: 0.9842 - auc: 0.9996 - loss: 0.0696 - precision: 0.9842 - recall: 0.9842 - val_accuracy: 1.0000 - val_auc: 1.0000 - val_loss: 0.0016 - val_precision: 1.0000 - val_recall: 1.0000\n",
      "Epoch 121/500\n",
      "\u001b[1m15/15\u001b[0m \u001b[32m━━━━━━━━━━━━━━━━━━━━\u001b[0m\u001b[37m\u001b[0m \u001b[1m0s\u001b[0m 10ms/step - accuracy: 0.9717 - auc: 0.9970 - loss: 0.1092 - precision: 0.9717 - recall: 0.9717 - val_accuracy: 1.0000 - val_auc: 1.0000 - val_loss: 0.0010 - val_precision: 1.0000 - val_recall: 1.0000\n",
      "Epoch 122/500\n",
      "\u001b[1m15/15\u001b[0m \u001b[32m━━━━━━━━━━━━━━━━━━━━\u001b[0m\u001b[37m\u001b[0m \u001b[1m0s\u001b[0m 10ms/step - accuracy: 0.9167 - auc: 0.9925 - loss: 0.1360 - precision: 0.9167 - recall: 0.9167 - val_accuracy: 1.0000 - val_auc: 1.0000 - val_loss: 7.5198e-04 - val_precision: 1.0000 - val_recall: 1.0000\n",
      "Epoch 123/500\n",
      "\u001b[1m15/15\u001b[0m \u001b[32m━━━━━━━━━━━━━━━━━━━━\u001b[0m\u001b[37m\u001b[0m \u001b[1m0s\u001b[0m 10ms/step - accuracy: 0.9453 - auc: 0.9860 - loss: 0.1819 - precision: 0.9453 - recall: 0.9453 - val_accuracy: 1.0000 - val_auc: 1.0000 - val_loss: 8.9018e-04 - val_precision: 1.0000 - val_recall: 1.0000\n",
      "Epoch 124/500\n",
      "\u001b[1m15/15\u001b[0m \u001b[32m━━━━━━━━━━━━━━━━━━━━\u001b[0m\u001b[37m\u001b[0m \u001b[1m0s\u001b[0m 10ms/step - accuracy: 0.9814 - auc: 0.9986 - loss: 0.0711 - precision: 0.9814 - recall: 0.9814 - val_accuracy: 1.0000 - val_auc: 1.0000 - val_loss: 0.0025 - val_precision: 1.0000 - val_recall: 1.0000\n",
      "Epoch 125/500\n",
      "\u001b[1m15/15\u001b[0m \u001b[32m━━━━━━━━━━━━━━━━━━━━\u001b[0m\u001b[37m\u001b[0m \u001b[1m0s\u001b[0m 10ms/step - accuracy: 0.9379 - auc: 0.9956 - loss: 0.1193 - precision: 0.9379 - recall: 0.9379 - val_accuracy: 1.0000 - val_auc: 1.0000 - val_loss: 0.0026 - val_precision: 1.0000 - val_recall: 1.0000\n",
      "Epoch 126/500\n",
      "\u001b[1m15/15\u001b[0m \u001b[32m━━━━━━━━━━━━━━━━━━━━\u001b[0m\u001b[37m\u001b[0m \u001b[1m0s\u001b[0m 11ms/step - accuracy: 0.9305 - auc: 0.9900 - loss: 0.1927 - precision: 0.9305 - recall: 0.9305 - val_accuracy: 1.0000 - val_auc: 1.0000 - val_loss: 0.0017 - val_precision: 1.0000 - val_recall: 1.0000\n",
      "Epoch 127/500\n",
      "\u001b[1m15/15\u001b[0m \u001b[32m━━━━━━━━━━━━━━━━━━━━\u001b[0m\u001b[37m\u001b[0m \u001b[1m0s\u001b[0m 9ms/step - accuracy: 0.9493 - auc: 0.9728 - loss: 0.2831 - precision: 0.9493 - recall: 0.9493 - val_accuracy: 1.0000 - val_auc: 1.0000 - val_loss: 0.0050 - val_precision: 1.0000 - val_recall: 1.0000\n",
      "Epoch 128/500\n",
      "\u001b[1m15/15\u001b[0m \u001b[32m━━━━━━━━━━━━━━━━━━━━\u001b[0m\u001b[37m\u001b[0m \u001b[1m0s\u001b[0m 10ms/step - accuracy: 0.9501 - auc: 0.9963 - loss: 0.1129 - precision: 0.9501 - recall: 0.9501 - val_accuracy: 1.0000 - val_auc: 1.0000 - val_loss: 0.0051 - val_precision: 1.0000 - val_recall: 1.0000\n",
      "Epoch 129/500\n",
      "\u001b[1m15/15\u001b[0m \u001b[32m━━━━━━━━━━━━━━━━━━━━\u001b[0m\u001b[37m\u001b[0m \u001b[1m0s\u001b[0m 9ms/step - accuracy: 0.9286 - auc: 0.9957 - loss: 0.1268 - precision: 0.9286 - recall: 0.9286 - val_accuracy: 1.0000 - val_auc: 1.0000 - val_loss: 0.0112 - val_precision: 1.0000 - val_recall: 1.0000\n",
      "Epoch 130/500\n",
      "\u001b[1m15/15\u001b[0m \u001b[32m━━━━━━━━━━━━━━━━━━━━\u001b[0m\u001b[37m\u001b[0m \u001b[1m0s\u001b[0m 9ms/step - accuracy: 0.9558 - auc: 0.9983 - loss: 0.0826 - precision: 0.9558 - recall: 0.9558 - val_accuracy: 1.0000 - val_auc: 1.0000 - val_loss: 0.0110 - val_precision: 1.0000 - val_recall: 1.0000\n",
      "Epoch 131/500\n",
      "\u001b[1m15/15\u001b[0m \u001b[32m━━━━━━━━━━━━━━━━━━━━\u001b[0m\u001b[37m\u001b[0m \u001b[1m0s\u001b[0m 10ms/step - accuracy: 0.9261 - auc: 0.9931 - loss: 0.1504 - precision: 0.9261 - recall: 0.9261 - val_accuracy: 1.0000 - val_auc: 1.0000 - val_loss: 0.0022 - val_precision: 1.0000 - val_recall: 1.0000\n",
      "Epoch 132/500\n",
      "\u001b[1m15/15\u001b[0m \u001b[32m━━━━━━━━━━━━━━━━━━━━\u001b[0m\u001b[37m\u001b[0m \u001b[1m0s\u001b[0m 10ms/step - accuracy: 0.9338 - auc: 0.9942 - loss: 0.1412 - precision: 0.9338 - recall: 0.9338 - val_accuracy: 1.0000 - val_auc: 1.0000 - val_loss: 0.0015 - val_precision: 1.0000 - val_recall: 1.0000\n",
      "Epoch 133/500\n",
      "\u001b[1m15/15\u001b[0m \u001b[32m━━━━━━━━━━━━━━━━━━━━\u001b[0m\u001b[37m\u001b[0m \u001b[1m0s\u001b[0m 11ms/step - accuracy: 0.9890 - auc: 0.9993 - loss: 0.0702 - precision: 0.9890 - recall: 0.9890 - val_accuracy: 1.0000 - val_auc: 1.0000 - val_loss: 0.0010 - val_precision: 1.0000 - val_recall: 1.0000\n",
      "Epoch 134/500\n",
      "\u001b[1m15/15\u001b[0m \u001b[32m━━━━━━━━━━━━━━━━━━━━\u001b[0m\u001b[37m\u001b[0m \u001b[1m0s\u001b[0m 10ms/step - accuracy: 0.9799 - auc: 0.9988 - loss: 0.0692 - precision: 0.9799 - recall: 0.9799 - val_accuracy: 1.0000 - val_auc: 1.0000 - val_loss: 0.0011 - val_precision: 1.0000 - val_recall: 1.0000\n",
      "Epoch 135/500\n",
      "\u001b[1m15/15\u001b[0m \u001b[32m━━━━━━━━━━━━━━━━━━━━\u001b[0m\u001b[37m\u001b[0m \u001b[1m0s\u001b[0m 10ms/step - accuracy: 0.9426 - auc: 0.9909 - loss: 0.1782 - precision: 0.9426 - recall: 0.9426 - val_accuracy: 1.0000 - val_auc: 1.0000 - val_loss: 0.0022 - val_precision: 1.0000 - val_recall: 1.0000\n",
      "Epoch 136/500\n",
      "\u001b[1m15/15\u001b[0m \u001b[32m━━━━━━━━━━━━━━━━━━━━\u001b[0m\u001b[37m\u001b[0m \u001b[1m0s\u001b[0m 10ms/step - accuracy: 0.9200 - auc: 0.9940 - loss: 0.1361 - precision: 0.9200 - recall: 0.9200 - val_accuracy: 1.0000 - val_auc: 1.0000 - val_loss: 0.0026 - val_precision: 1.0000 - val_recall: 1.0000\n",
      "Epoch 137/500\n",
      "\u001b[1m15/15\u001b[0m \u001b[32m━━━━━━━━━━━━━━━━━━━━\u001b[0m\u001b[37m\u001b[0m \u001b[1m0s\u001b[0m 10ms/step - accuracy: 0.9365 - auc: 0.9932 - loss: 0.1483 - precision: 0.9365 - recall: 0.9365 - val_accuracy: 1.0000 - val_auc: 1.0000 - val_loss: 0.0458 - val_precision: 1.0000 - val_recall: 1.0000\n",
      "Epoch 138/500\n",
      "\u001b[1m15/15\u001b[0m \u001b[32m━━━━━━━━━━━━━━━━━━━━\u001b[0m\u001b[37m\u001b[0m \u001b[1m0s\u001b[0m 11ms/step - accuracy: 0.9407 - auc: 0.9971 - loss: 0.0979 - precision: 0.9407 - recall: 0.9407 - val_accuracy: 1.0000 - val_auc: 1.0000 - val_loss: 0.0088 - val_precision: 1.0000 - val_recall: 1.0000\n",
      "Epoch 139/500\n",
      "\u001b[1m15/15\u001b[0m \u001b[32m━━━━━━━━━━━━━━━━━━━━\u001b[0m\u001b[37m\u001b[0m \u001b[1m0s\u001b[0m 10ms/step - accuracy: 0.9808 - auc: 0.9994 - loss: 0.0762 - precision: 0.9808 - recall: 0.9808 - val_accuracy: 1.0000 - val_auc: 1.0000 - val_loss: 0.0070 - val_precision: 1.0000 - val_recall: 1.0000\n",
      "Epoch 140/500\n",
      "\u001b[1m15/15\u001b[0m \u001b[32m━━━━━━━━━━━━━━━━━━━━\u001b[0m\u001b[37m\u001b[0m \u001b[1m0s\u001b[0m 9ms/step - accuracy: 0.9366 - auc: 0.9963 - loss: 0.1145 - precision: 0.9366 - recall: 0.9366 - val_accuracy: 1.0000 - val_auc: 1.0000 - val_loss: 0.0032 - val_precision: 1.0000 - val_recall: 1.0000\n",
      "Epoch 141/500\n",
      "\u001b[1m15/15\u001b[0m \u001b[32m━━━━━━━━━━━━━━━━━━━━\u001b[0m\u001b[37m\u001b[0m \u001b[1m0s\u001b[0m 10ms/step - accuracy: 0.9769 - auc: 0.9987 - loss: 0.0796 - precision: 0.9769 - recall: 0.9769 - val_accuracy: 1.0000 - val_auc: 1.0000 - val_loss: 0.0037 - val_precision: 1.0000 - val_recall: 1.0000\n",
      "Epoch 142/500\n",
      "\u001b[1m15/15\u001b[0m \u001b[32m━━━━━━━━━━━━━━━━━━━━\u001b[0m\u001b[37m\u001b[0m \u001b[1m0s\u001b[0m 10ms/step - accuracy: 0.9162 - auc: 0.9907 - loss: 0.1757 - precision: 0.9162 - recall: 0.9162 - val_accuracy: 1.0000 - val_auc: 1.0000 - val_loss: 0.0023 - val_precision: 1.0000 - val_recall: 1.0000\n",
      "Epoch 143/500\n",
      "\u001b[1m15/15\u001b[0m \u001b[32m━━━━━━━━━━━━━━━━━━━━\u001b[0m\u001b[37m\u001b[0m \u001b[1m0s\u001b[0m 11ms/step - accuracy: 0.9297 - auc: 0.9959 - loss: 0.1309 - precision: 0.9297 - recall: 0.9297 - val_accuracy: 1.0000 - val_auc: 1.0000 - val_loss: 0.0025 - val_precision: 1.0000 - val_recall: 1.0000\n",
      "Epoch 144/500\n",
      "\u001b[1m15/15\u001b[0m \u001b[32m━━━━━━━━━━━━━━━━━━━━\u001b[0m\u001b[37m\u001b[0m \u001b[1m0s\u001b[0m 10ms/step - accuracy: 0.9600 - auc: 0.9938 - loss: 0.1342 - precision: 0.9600 - recall: 0.9600 - val_accuracy: 1.0000 - val_auc: 1.0000 - val_loss: 0.0014 - val_precision: 1.0000 - val_recall: 1.0000\n",
      "Epoch 145/500\n",
      "\u001b[1m15/15\u001b[0m \u001b[32m━━━━━━━━━━━━━━━━━━━━\u001b[0m\u001b[37m\u001b[0m \u001b[1m0s\u001b[0m 10ms/step - accuracy: 0.9990 - auc: 0.9997 - loss: 0.0521 - precision: 0.9990 - recall: 0.9990 - val_accuracy: 1.0000 - val_auc: 1.0000 - val_loss: 9.3737e-04 - val_precision: 1.0000 - val_recall: 1.0000\n",
      "Epoch 146/500\n",
      "\u001b[1m15/15\u001b[0m \u001b[32m━━━━━━━━━━━━━━━━━━━━\u001b[0m\u001b[37m\u001b[0m \u001b[1m0s\u001b[0m 10ms/step - accuracy: 0.9453 - auc: 0.9940 - loss: 0.1533 - precision: 0.9452 - recall: 0.9424 - val_accuracy: 1.0000 - val_auc: 1.0000 - val_loss: 0.0015 - val_precision: 1.0000 - val_recall: 1.0000\n",
      "Epoch 147/500\n",
      "\u001b[1m15/15\u001b[0m \u001b[32m━━━━━━━━━━━━━━━━━━━━\u001b[0m\u001b[37m\u001b[0m \u001b[1m0s\u001b[0m 10ms/step - accuracy: 0.9178 - auc: 0.9905 - loss: 0.2087 - precision: 0.9178 - recall: 0.9178 - val_accuracy: 1.0000 - val_auc: 1.0000 - val_loss: 0.0013 - val_precision: 1.0000 - val_recall: 1.0000\n",
      "Epoch 148/500\n",
      "\u001b[1m15/15\u001b[0m \u001b[32m━━━━━━━━━━━━━━━━━━━━\u001b[0m\u001b[37m\u001b[0m \u001b[1m0s\u001b[0m 10ms/step - accuracy: 0.9769 - auc: 0.9979 - loss: 0.0987 - precision: 0.9769 - recall: 0.9769 - val_accuracy: 1.0000 - val_auc: 1.0000 - val_loss: 0.0019 - val_precision: 1.0000 - val_recall: 1.0000\n",
      "Epoch 149/500\n",
      "\u001b[1m15/15\u001b[0m \u001b[32m━━━━━━━━━━━━━━━━━━━━\u001b[0m\u001b[37m\u001b[0m \u001b[1m0s\u001b[0m 10ms/step - accuracy: 0.9464 - auc: 0.9973 - loss: 0.0921 - precision: 0.9464 - recall: 0.9464 - val_accuracy: 1.0000 - val_auc: 1.0000 - val_loss: 9.5575e-04 - val_precision: 1.0000 - val_recall: 1.0000\n",
      "Epoch 150/500\n",
      "\u001b[1m15/15\u001b[0m \u001b[32m━━━━━━━━━━━━━━━━━━━━\u001b[0m\u001b[37m\u001b[0m \u001b[1m0s\u001b[0m 9ms/step - accuracy: 0.9937 - auc: 0.9996 - loss: 0.0463 - precision: 0.9937 - recall: 0.9937 - val_accuracy: 1.0000 - val_auc: 1.0000 - val_loss: 0.0018 - val_precision: 1.0000 - val_recall: 1.0000\n",
      "Epoch 151/500\n",
      "\u001b[1m15/15\u001b[0m \u001b[32m━━━━━━━━━━━━━━━━━━━━\u001b[0m\u001b[37m\u001b[0m \u001b[1m0s\u001b[0m 10ms/step - accuracy: 0.9268 - auc: 0.9919 - loss: 0.1730 - precision: 0.9268 - recall: 0.9268 - val_accuracy: 1.0000 - val_auc: 1.0000 - val_loss: 0.0012 - val_precision: 1.0000 - val_recall: 1.0000\n",
      "Epoch 152/500\n",
      "\u001b[1m15/15\u001b[0m \u001b[32m━━━━━━━━━━━━━━━━━━━━\u001b[0m\u001b[37m\u001b[0m \u001b[1m0s\u001b[0m 9ms/step - accuracy: 0.9637 - auc: 0.9979 - loss: 0.0912 - precision: 0.9637 - recall: 0.9637 - val_accuracy: 1.0000 - val_auc: 1.0000 - val_loss: 9.5062e-04 - val_precision: 1.0000 - val_recall: 1.0000\n",
      "Epoch 153/500\n",
      "\u001b[1m15/15\u001b[0m \u001b[32m━━━━━━━━━━━━━━━━━━━━\u001b[0m\u001b[37m\u001b[0m \u001b[1m0s\u001b[0m 10ms/step - accuracy: 0.9448 - auc: 0.9960 - loss: 0.1056 - precision: 0.9448 - recall: 0.9448 - val_accuracy: 1.0000 - val_auc: 1.0000 - val_loss: 0.0033 - val_precision: 1.0000 - val_recall: 1.0000\n",
      "Epoch 154/500\n",
      "\u001b[1m15/15\u001b[0m \u001b[32m━━━━━━━━━━━━━━━━━━━━\u001b[0m\u001b[37m\u001b[0m \u001b[1m0s\u001b[0m 10ms/step - accuracy: 0.9600 - auc: 0.9978 - loss: 0.0899 - precision: 0.9597 - recall: 0.9514 - val_accuracy: 1.0000 - val_auc: 1.0000 - val_loss: 0.0030 - val_precision: 1.0000 - val_recall: 1.0000\n",
      "Epoch 155/500\n",
      "\u001b[1m15/15\u001b[0m \u001b[32m━━━━━━━━━━━━━━━━━━━━\u001b[0m\u001b[37m\u001b[0m \u001b[1m0s\u001b[0m 9ms/step - accuracy: 0.9515 - auc: 0.9960 - loss: 0.1165 - precision: 0.9508 - recall: 0.9368 - val_accuracy: 1.0000 - val_auc: 1.0000 - val_loss: 0.0016 - val_precision: 1.0000 - val_recall: 1.0000\n",
      "Epoch 156/500\n",
      "\u001b[1m15/15\u001b[0m \u001b[32m━━━━━━━━━━━━━━━━━━━━\u001b[0m\u001b[37m\u001b[0m \u001b[1m0s\u001b[0m 10ms/step - accuracy: 0.9506 - auc: 0.9966 - loss: 0.1071 - precision: 0.9506 - recall: 0.9506 - val_accuracy: 1.0000 - val_auc: 1.0000 - val_loss: 0.0021 - val_precision: 1.0000 - val_recall: 1.0000\n",
      "Epoch 157/500\n",
      "\u001b[1m15/15\u001b[0m \u001b[32m━━━━━━━━━━━━━━━━━━━━\u001b[0m\u001b[37m\u001b[0m \u001b[1m0s\u001b[0m 10ms/step - accuracy: 0.9734 - auc: 0.9987 - loss: 0.0809 - precision: 0.9805 - recall: 0.9734 - val_accuracy: 1.0000 - val_auc: 1.0000 - val_loss: 0.0028 - val_precision: 1.0000 - val_recall: 1.0000\n",
      "Epoch 158/500\n",
      "\u001b[1m15/15\u001b[0m \u001b[32m━━━━━━━━━━━━━━━━━━━━\u001b[0m\u001b[37m\u001b[0m \u001b[1m0s\u001b[0m 11ms/step - accuracy: 0.9842 - auc: 0.9994 - loss: 0.0681 - precision: 0.9842 - recall: 0.9842 - val_accuracy: 1.0000 - val_auc: 1.0000 - val_loss: 0.0011 - val_precision: 1.0000 - val_recall: 1.0000\n",
      "Epoch 159/500\n",
      "\u001b[1m15/15\u001b[0m \u001b[32m━━━━━━━━━━━━━━━━━━━━\u001b[0m\u001b[37m\u001b[0m \u001b[1m0s\u001b[0m 10ms/step - accuracy: 0.9244 - auc: 0.9925 - loss: 0.1794 - precision: 0.9244 - recall: 0.9244 - val_accuracy: 1.0000 - val_auc: 1.0000 - val_loss: 9.8873e-04 - val_precision: 1.0000 - val_recall: 1.0000\n",
      "Epoch 160/500\n",
      "\u001b[1m15/15\u001b[0m \u001b[32m━━━━━━━━━━━━━━━━━━━━\u001b[0m\u001b[37m\u001b[0m \u001b[1m0s\u001b[0m 10ms/step - accuracy: 0.9854 - auc: 0.9987 - loss: 0.0679 - precision: 0.9854 - recall: 0.9854 - val_accuracy: 1.0000 - val_auc: 1.0000 - val_loss: 0.0011 - val_precision: 1.0000 - val_recall: 1.0000\n",
      "Epoch 161/500\n",
      "\u001b[1m15/15\u001b[0m \u001b[32m━━━━━━━━━━━━━━━━━━━━\u001b[0m\u001b[37m\u001b[0m \u001b[1m0s\u001b[0m 10ms/step - accuracy: 0.9624 - auc: 0.9983 - loss: 0.0703 - precision: 0.9624 - recall: 0.9624 - val_accuracy: 1.0000 - val_auc: 1.0000 - val_loss: 0.0020 - val_precision: 1.0000 - val_recall: 1.0000\n",
      "Epoch 162/500\n",
      "\u001b[1m15/15\u001b[0m \u001b[32m━━━━━━━━━━━━━━━━━━━━\u001b[0m\u001b[37m\u001b[0m \u001b[1m0s\u001b[0m 10ms/step - accuracy: 0.9335 - auc: 0.9969 - loss: 0.0998 - precision: 0.9335 - recall: 0.9335 - val_accuracy: 1.0000 - val_auc: 1.0000 - val_loss: 7.3195e-04 - val_precision: 1.0000 - val_recall: 1.0000\n",
      "Epoch 163/500\n",
      "\u001b[1m15/15\u001b[0m \u001b[32m━━━━━━━━━━━━━━━━━━━━\u001b[0m\u001b[37m\u001b[0m \u001b[1m0s\u001b[0m 10ms/step - accuracy: 0.9663 - auc: 0.9987 - loss: 0.0674 - precision: 0.9663 - recall: 0.9663 - val_accuracy: 1.0000 - val_auc: 1.0000 - val_loss: 5.4840e-04 - val_precision: 1.0000 - val_recall: 1.0000\n",
      "Epoch 164/500\n",
      "\u001b[1m15/15\u001b[0m \u001b[32m━━━━━━━━━━━━━━━━━━━━\u001b[0m\u001b[37m\u001b[0m \u001b[1m0s\u001b[0m 11ms/step - accuracy: 0.9853 - auc: 0.9998 - loss: 0.0358 - precision: 0.9853 - recall: 0.9853 - val_accuracy: 1.0000 - val_auc: 1.0000 - val_loss: 3.7752e-04 - val_precision: 1.0000 - val_recall: 1.0000\n",
      "Epoch 165/500\n",
      "\u001b[1m15/15\u001b[0m \u001b[32m━━━━━━━━━━━━━━━━━━━━\u001b[0m\u001b[37m\u001b[0m \u001b[1m0s\u001b[0m 9ms/step - accuracy: 0.9652 - auc: 0.9989 - loss: 0.0609 - precision: 0.9652 - recall: 0.9652 - val_accuracy: 1.0000 - val_auc: 1.0000 - val_loss: 2.6866e-04 - val_precision: 1.0000 - val_recall: 1.0000\n",
      "Epoch 166/500\n",
      "\u001b[1m15/15\u001b[0m \u001b[32m━━━━━━━━━━━━━━━━━━━━\u001b[0m\u001b[37m\u001b[0m \u001b[1m0s\u001b[0m 10ms/step - accuracy: 0.9816 - auc: 0.9990 - loss: 0.0606 - precision: 0.9816 - recall: 0.9816 - val_accuracy: 1.0000 - val_auc: 1.0000 - val_loss: 3.3069e-04 - val_precision: 1.0000 - val_recall: 1.0000\n",
      "Epoch 167/500\n",
      "\u001b[1m15/15\u001b[0m \u001b[32m━━━━━━━━━━━━━━━━━━━━\u001b[0m\u001b[37m\u001b[0m \u001b[1m0s\u001b[0m 10ms/step - accuracy: 0.9449 - auc: 0.9960 - loss: 0.1178 - precision: 0.9449 - recall: 0.9449 - val_accuracy: 1.0000 - val_auc: 1.0000 - val_loss: 8.8580e-04 - val_precision: 1.0000 - val_recall: 1.0000\n",
      "Epoch 168/500\n",
      "\u001b[1m15/15\u001b[0m \u001b[32m━━━━━━━━━━━━━━━━━━━━\u001b[0m\u001b[37m\u001b[0m \u001b[1m0s\u001b[0m 10ms/step - accuracy: 0.9565 - auc: 0.9950 - loss: 0.1463 - precision: 0.9565 - recall: 0.9565 - val_accuracy: 1.0000 - val_auc: 1.0000 - val_loss: 9.7149e-04 - val_precision: 1.0000 - val_recall: 1.0000\n",
      "Epoch 169/500\n",
      "\u001b[1m15/15\u001b[0m \u001b[32m━━━━━━━━━━━━━━━━━━━━\u001b[0m\u001b[37m\u001b[0m \u001b[1m0s\u001b[0m 11ms/step - accuracy: 0.9499 - auc: 0.9970 - loss: 0.1019 - precision: 0.9499 - recall: 0.9499 - val_accuracy: 1.0000 - val_auc: 1.0000 - val_loss: 0.0011 - val_precision: 1.0000 - val_recall: 1.0000\n",
      "Epoch 170/500\n",
      "\u001b[1m15/15\u001b[0m \u001b[32m━━━━━━━━━━━━━━━━━━━━\u001b[0m\u001b[37m\u001b[0m \u001b[1m0s\u001b[0m 9ms/step - accuracy: 0.9826 - auc: 0.9998 - loss: 0.0369 - precision: 0.9826 - recall: 0.9826 - val_accuracy: 1.0000 - val_auc: 1.0000 - val_loss: 7.8289e-04 - val_precision: 1.0000 - val_recall: 1.0000\n",
      "Epoch 171/500\n",
      "\u001b[1m15/15\u001b[0m \u001b[32m━━━━━━━━━━━━━━━━━━━━\u001b[0m\u001b[37m\u001b[0m \u001b[1m0s\u001b[0m 9ms/step - accuracy: 0.9790 - auc: 0.9984 - loss: 0.0769 - precision: 0.9790 - recall: 0.9790 - val_accuracy: 1.0000 - val_auc: 1.0000 - val_loss: 5.4675e-04 - val_precision: 1.0000 - val_recall: 1.0000\n",
      "Epoch 172/500\n",
      "\u001b[1m15/15\u001b[0m \u001b[32m━━━━━━━━━━━━━━━━━━━━\u001b[0m\u001b[37m\u001b[0m \u001b[1m0s\u001b[0m 10ms/step - accuracy: 0.9725 - auc: 0.9988 - loss: 0.0655 - precision: 0.9725 - recall: 0.9725 - val_accuracy: 1.0000 - val_auc: 1.0000 - val_loss: 4.4473e-04 - val_precision: 1.0000 - val_recall: 1.0000\n",
      "Epoch 173/500\n",
      "\u001b[1m15/15\u001b[0m \u001b[32m━━━━━━━━━━━━━━━━━━━━\u001b[0m\u001b[37m\u001b[0m \u001b[1m0s\u001b[0m 9ms/step - accuracy: 0.9821 - auc: 0.9994 - loss: 0.0614 - precision: 0.9821 - recall: 0.9821 - val_accuracy: 1.0000 - val_auc: 1.0000 - val_loss: 0.0018 - val_precision: 1.0000 - val_recall: 1.0000\n",
      "Epoch 174/500\n",
      "\u001b[1m15/15\u001b[0m \u001b[32m━━━━━━━━━━━━━━━━━━━━\u001b[0m\u001b[37m\u001b[0m \u001b[1m0s\u001b[0m 10ms/step - accuracy: 0.9453 - auc: 0.9968 - loss: 0.1702 - precision: 0.9453 - recall: 0.9453 - val_accuracy: 1.0000 - val_auc: 1.0000 - val_loss: 0.0161 - val_precision: 1.0000 - val_recall: 1.0000\n",
      "Epoch 175/500\n",
      "\u001b[1m15/15\u001b[0m \u001b[32m━━━━━━━━━━━━━━━━━━━━\u001b[0m\u001b[37m\u001b[0m \u001b[1m0s\u001b[0m 10ms/step - accuracy: 0.9257 - auc: 0.9844 - loss: 0.2699 - precision: 0.9257 - recall: 0.9257 - val_accuracy: 1.0000 - val_auc: 1.0000 - val_loss: 0.0017 - val_precision: 1.0000 - val_recall: 1.0000\n",
      "Epoch 176/500\n",
      "\u001b[1m15/15\u001b[0m \u001b[32m━━━━━━━━━━━━━━━━━━━━\u001b[0m\u001b[37m\u001b[0m \u001b[1m0s\u001b[0m 10ms/step - accuracy: 0.9695 - auc: 0.9984 - loss: 0.0800 - precision: 0.9695 - recall: 0.9695 - val_accuracy: 1.0000 - val_auc: 1.0000 - val_loss: 0.0022 - val_precision: 1.0000 - val_recall: 1.0000\n",
      "Epoch 177/500\n",
      "\u001b[1m15/15\u001b[0m \u001b[32m━━━━━━━━━━━━━━━━━━━━\u001b[0m\u001b[37m\u001b[0m \u001b[1m0s\u001b[0m 10ms/step - accuracy: 0.9578 - auc: 0.9977 - loss: 0.0970 - precision: 0.9578 - recall: 0.9578 - val_accuracy: 1.0000 - val_auc: 1.0000 - val_loss: 0.0011 - val_precision: 1.0000 - val_recall: 1.0000\n",
      "Epoch 178/500\n",
      "\u001b[1m15/15\u001b[0m \u001b[32m━━━━━━━━━━━━━━━━━━━━\u001b[0m\u001b[37m\u001b[0m \u001b[1m0s\u001b[0m 9ms/step - accuracy: 0.9979 - auc: 0.9998 - loss: 0.0371 - precision: 0.9979 - recall: 0.9979 - val_accuracy: 1.0000 - val_auc: 1.0000 - val_loss: 7.0409e-04 - val_precision: 1.0000 - val_recall: 1.0000\n",
      "Epoch 179/500\n",
      "\u001b[1m15/15\u001b[0m \u001b[32m━━━━━━━━━━━━━━━━━━━━\u001b[0m\u001b[37m\u001b[0m \u001b[1m0s\u001b[0m 10ms/step - accuracy: 0.9937 - auc: 0.9999 - loss: 0.0421 - precision: 0.9937 - recall: 0.9937 - val_accuracy: 1.0000 - val_auc: 1.0000 - val_loss: 5.4824e-04 - val_precision: 1.0000 - val_recall: 1.0000\n",
      "Epoch 180/500\n",
      "\u001b[1m15/15\u001b[0m \u001b[32m━━━━━━━━━━━━━━━━━━━━\u001b[0m\u001b[37m\u001b[0m \u001b[1m0s\u001b[0m 11ms/step - accuracy: 0.9937 - auc: 0.9997 - loss: 0.0411 - precision: 0.9937 - recall: 0.9937 - val_accuracy: 1.0000 - val_auc: 1.0000 - val_loss: 4.9149e-04 - val_precision: 1.0000 - val_recall: 1.0000\n",
      "Epoch 181/500\n",
      "\u001b[1m15/15\u001b[0m \u001b[32m━━━━━━━━━━━━━━━━━━━━\u001b[0m\u001b[37m\u001b[0m \u001b[1m0s\u001b[0m 10ms/step - accuracy: 0.9990 - auc: 0.9991 - loss: 0.0466 - precision: 0.9990 - recall: 0.9990 - val_accuracy: 1.0000 - val_auc: 1.0000 - val_loss: 4.7866e-04 - val_precision: 1.0000 - val_recall: 1.0000\n",
      "Epoch 182/500\n",
      "\u001b[1m15/15\u001b[0m \u001b[32m━━━━━━━━━━━━━━━━━━━━\u001b[0m\u001b[37m\u001b[0m \u001b[1m0s\u001b[0m 10ms/step - accuracy: 0.9634 - auc: 0.9981 - loss: 0.0671 - precision: 0.9634 - recall: 0.9634 - val_accuracy: 1.0000 - val_auc: 1.0000 - val_loss: 0.0018 - val_precision: 1.0000 - val_recall: 1.0000\n",
      "Epoch 183/500\n",
      "\u001b[1m15/15\u001b[0m \u001b[32m━━━━━━━━━━━━━━━━━━━━\u001b[0m\u001b[37m\u001b[0m \u001b[1m0s\u001b[0m 10ms/step - accuracy: 0.9832 - auc: 0.9997 - loss: 0.0384 - precision: 0.9832 - recall: 0.9832 - val_accuracy: 1.0000 - val_auc: 1.0000 - val_loss: 6.3931e-04 - val_precision: 1.0000 - val_recall: 1.0000\n",
      "Epoch 184/500\n",
      "\u001b[1m15/15\u001b[0m \u001b[32m━━━━━━━━━━━━━━━━━━━━\u001b[0m\u001b[37m\u001b[0m \u001b[1m0s\u001b[0m 9ms/step - accuracy: 0.9873 - auc: 0.9988 - loss: 0.0650 - precision: 0.9873 - recall: 0.9873 - val_accuracy: 1.0000 - val_auc: 1.0000 - val_loss: 3.5929e-04 - val_precision: 1.0000 - val_recall: 1.0000\n",
      "Epoch 185/500\n",
      "\u001b[1m15/15\u001b[0m \u001b[32m━━━━━━━━━━━━━━━━━━━━\u001b[0m\u001b[37m\u001b[0m \u001b[1m0s\u001b[0m 11ms/step - accuracy: 0.9864 - auc: 0.9981 - loss: 0.0688 - precision: 0.9864 - recall: 0.9864 - val_accuracy: 1.0000 - val_auc: 1.0000 - val_loss: 0.0025 - val_precision: 1.0000 - val_recall: 1.0000\n",
      "Epoch 186/500\n",
      "\u001b[1m15/15\u001b[0m \u001b[32m━━━━━━━━━━━━━━━━━━━━\u001b[0m\u001b[37m\u001b[0m \u001b[1m0s\u001b[0m 10ms/step - accuracy: 0.9795 - auc: 0.9995 - loss: 0.0499 - precision: 0.9795 - recall: 0.9795 - val_accuracy: 1.0000 - val_auc: 1.0000 - val_loss: 0.0039 - val_precision: 1.0000 - val_recall: 1.0000\n",
      "Epoch 187/500\n",
      "\u001b[1m15/15\u001b[0m \u001b[32m━━━━━━━━━━━━━━━━━━━━\u001b[0m\u001b[37m\u001b[0m \u001b[1m0s\u001b[0m 10ms/step - accuracy: 0.9868 - auc: 0.9894 - loss: 0.1099 - precision: 0.9868 - recall: 0.9868 - val_accuracy: 1.0000 - val_auc: 1.0000 - val_loss: 0.0035 - val_precision: 1.0000 - val_recall: 1.0000\n",
      "Epoch 188/500\n",
      "\u001b[1m15/15\u001b[0m \u001b[32m━━━━━━━━━━━━━━━━━━━━\u001b[0m\u001b[37m\u001b[0m \u001b[1m0s\u001b[0m 10ms/step - accuracy: 0.9873 - auc: 0.9995 - loss: 0.0487 - precision: 0.9873 - recall: 0.9873 - val_accuracy: 1.0000 - val_auc: 1.0000 - val_loss: 7.9962e-04 - val_precision: 1.0000 - val_recall: 1.0000\n",
      "Epoch 189/500\n",
      "\u001b[1m15/15\u001b[0m \u001b[32m━━━━━━━━━━━━━━━━━━━━\u001b[0m\u001b[37m\u001b[0m \u001b[1m0s\u001b[0m 10ms/step - accuracy: 0.9453 - auc: 0.9972 - loss: 0.0723 - precision: 0.9453 - recall: 0.9453 - val_accuracy: 1.0000 - val_auc: 1.0000 - val_loss: 4.6013e-04 - val_precision: 1.0000 - val_recall: 1.0000\n",
      "Epoch 190/500\n",
      "\u001b[1m15/15\u001b[0m \u001b[32m━━━━━━━━━━━━━━━━━━━━\u001b[0m\u001b[37m\u001b[0m \u001b[1m0s\u001b[0m 11ms/step - accuracy: 0.9292 - auc: 0.9958 - loss: 0.1105 - precision: 0.9292 - recall: 0.9292 - val_accuracy: 1.0000 - val_auc: 1.0000 - val_loss: 4.2715e-04 - val_precision: 1.0000 - val_recall: 1.0000\n",
      "Epoch 191/500\n",
      "\u001b[1m15/15\u001b[0m \u001b[32m━━━━━━━━━━━━━━━━━━━━\u001b[0m\u001b[37m\u001b[0m \u001b[1m0s\u001b[0m 9ms/step - accuracy: 0.9244 - auc: 0.9949 - loss: 0.1434 - precision: 0.9244 - recall: 0.9244 - val_accuracy: 1.0000 - val_auc: 1.0000 - val_loss: 3.3795e-04 - val_precision: 1.0000 - val_recall: 1.0000\n",
      "Epoch 192/500\n",
      "\u001b[1m15/15\u001b[0m \u001b[32m━━━━━━━━━━━━━━━━━━━━\u001b[0m\u001b[37m\u001b[0m \u001b[1m0s\u001b[0m 10ms/step - accuracy: 0.9756 - auc: 0.9981 - loss: 0.0706 - precision: 0.9756 - recall: 0.9756 - val_accuracy: 1.0000 - val_auc: 1.0000 - val_loss: 4.2590e-04 - val_precision: 1.0000 - val_recall: 1.0000\n",
      "Epoch 193/500\n",
      "\u001b[1m15/15\u001b[0m \u001b[32m━━━━━━━━━━━━━━━━━━━━\u001b[0m\u001b[37m\u001b[0m \u001b[1m0s\u001b[0m 10ms/step - accuracy: 0.9672 - auc: 0.9988 - loss: 0.0725 - precision: 0.9672 - recall: 0.9672 - val_accuracy: 1.0000 - val_auc: 1.0000 - val_loss: 5.3085e-04 - val_precision: 1.0000 - val_recall: 1.0000\n",
      "Epoch 194/500\n",
      "\u001b[1m15/15\u001b[0m \u001b[32m━━━━━━━━━━━━━━━━━━━━\u001b[0m\u001b[37m\u001b[0m \u001b[1m0s\u001b[0m 11ms/step - accuracy: 0.9864 - auc: 0.9995 - loss: 0.0494 - precision: 0.9864 - recall: 0.9864 - val_accuracy: 1.0000 - val_auc: 1.0000 - val_loss: 9.0310e-04 - val_precision: 1.0000 - val_recall: 1.0000\n",
      "Epoch 195/500\n",
      "\u001b[1m15/15\u001b[0m \u001b[32m━━━━━━━━━━━━━━━━━━━━\u001b[0m\u001b[37m\u001b[0m \u001b[1m0s\u001b[0m 9ms/step - accuracy: 0.9725 - auc: 0.9991 - loss: 0.0483 - precision: 0.9725 - recall: 0.9725 - val_accuracy: 1.0000 - val_auc: 1.0000 - val_loss: 0.0010 - val_precision: 1.0000 - val_recall: 1.0000\n",
      "Epoch 196/500\n",
      "\u001b[1m15/15\u001b[0m \u001b[32m━━━━━━━━━━━━━━━━━━━━\u001b[0m\u001b[37m\u001b[0m \u001b[1m0s\u001b[0m 11ms/step - accuracy: 0.9538 - auc: 0.9959 - loss: 0.0943 - precision: 0.9588 - recall: 0.9538 - val_accuracy: 1.0000 - val_auc: 1.0000 - val_loss: 0.0011 - val_precision: 1.0000 - val_recall: 1.0000\n",
      "Epoch 197/500\n",
      "\u001b[1m15/15\u001b[0m \u001b[32m━━━━━━━━━━━━━━━━━━━━\u001b[0m\u001b[37m\u001b[0m \u001b[1m0s\u001b[0m 10ms/step - accuracy: 0.9890 - auc: 0.9992 - loss: 0.0572 - precision: 0.9890 - recall: 0.9890 - val_accuracy: 1.0000 - val_auc: 1.0000 - val_loss: 3.8545e-04 - val_precision: 1.0000 - val_recall: 1.0000\n",
      "Epoch 198/500\n",
      "\u001b[1m15/15\u001b[0m \u001b[32m━━━━━━━━━━━━━━━━━━━━\u001b[0m\u001b[37m\u001b[0m \u001b[1m0s\u001b[0m 10ms/step - accuracy: 0.9572 - auc: 0.9984 - loss: 0.0659 - precision: 0.9572 - recall: 0.9572 - val_accuracy: 1.0000 - val_auc: 1.0000 - val_loss: 3.2040e-04 - val_precision: 1.0000 - val_recall: 1.0000\n",
      "Epoch 199/500\n",
      "\u001b[1m15/15\u001b[0m \u001b[32m━━━━━━━━━━━━━━━━━━━━\u001b[0m\u001b[37m\u001b[0m \u001b[1m0s\u001b[0m 10ms/step - accuracy: 0.9842 - auc: 0.9998 - loss: 0.0335 - precision: 0.9842 - recall: 0.9842 - val_accuracy: 1.0000 - val_auc: 1.0000 - val_loss: 3.4694e-04 - val_precision: 1.0000 - val_recall: 1.0000\n",
      "Epoch 200/500\n",
      "\u001b[1m15/15\u001b[0m \u001b[32m━━━━━━━━━━━━━━━━━━━━\u001b[0m\u001b[37m\u001b[0m \u001b[1m0s\u001b[0m 10ms/step - accuracy: 0.9041 - auc: 0.9891 - loss: 0.3001 - precision: 0.9041 - recall: 0.9041 - val_accuracy: 1.0000 - val_auc: 1.0000 - val_loss: 1.7259e-04 - val_precision: 1.0000 - val_recall: 1.0000\n",
      "Epoch 201/500\n",
      "\u001b[1m15/15\u001b[0m \u001b[32m━━━━━━━━━━━━━━━━━━━━\u001b[0m\u001b[37m\u001b[0m \u001b[1m0s\u001b[0m 9ms/step - accuracy: 0.9728 - auc: 0.9989 - loss: 0.0684 - precision: 0.9728 - recall: 0.9728 - val_accuracy: 1.0000 - val_auc: 1.0000 - val_loss: 1.5356e-04 - val_precision: 1.0000 - val_recall: 1.0000\n",
      "Epoch 202/500\n",
      "\u001b[1m15/15\u001b[0m \u001b[32m━━━━━━━━━━━━━━━━━━━━\u001b[0m\u001b[37m\u001b[0m \u001b[1m0s\u001b[0m 9ms/step - accuracy: 0.9854 - auc: 0.9995 - loss: 0.0612 - precision: 0.9854 - recall: 0.9854 - val_accuracy: 1.0000 - val_auc: 1.0000 - val_loss: 1.4545e-04 - val_precision: 1.0000 - val_recall: 1.0000\n",
      "Epoch 203/500\n",
      "\u001b[1m15/15\u001b[0m \u001b[32m━━━━━━━━━━━━━━━━━━━━\u001b[0m\u001b[37m\u001b[0m \u001b[1m0s\u001b[0m 10ms/step - accuracy: 0.9990 - auc: 1.0000 - loss: 0.0423 - precision: 0.9990 - recall: 0.9990 - val_accuracy: 1.0000 - val_auc: 1.0000 - val_loss: 1.0973e-04 - val_precision: 1.0000 - val_recall: 1.0000\n",
      "Epoch 204/500\n",
      "\u001b[1m15/15\u001b[0m \u001b[32m━━━━━━━━━━━━━━━━━━━━\u001b[0m\u001b[37m\u001b[0m \u001b[1m0s\u001b[0m 10ms/step - accuracy: 0.9903 - auc: 0.9998 - loss: 0.0371 - precision: 0.9903 - recall: 0.9903 - val_accuracy: 1.0000 - val_auc: 1.0000 - val_loss: 9.7297e-05 - val_precision: 1.0000 - val_recall: 1.0000\n",
      "Epoch 205/500\n",
      "\u001b[1m15/15\u001b[0m \u001b[32m━━━━━━━━━━━━━━━━━━━━\u001b[0m\u001b[37m\u001b[0m \u001b[1m0s\u001b[0m 11ms/step - accuracy: 0.9791 - auc: 0.9998 - loss: 0.0396 - precision: 0.9791 - recall: 0.9791 - val_accuracy: 1.0000 - val_auc: 1.0000 - val_loss: 7.0406e-05 - val_precision: 1.0000 - val_recall: 1.0000\n",
      "Epoch 206/500\n",
      "\u001b[1m15/15\u001b[0m \u001b[32m━━━━━━━━━━━━━━━━━━━━\u001b[0m\u001b[37m\u001b[0m \u001b[1m0s\u001b[0m 10ms/step - accuracy: 0.9717 - auc: 0.9987 - loss: 0.0779 - precision: 0.9717 - recall: 0.9717 - val_accuracy: 1.0000 - val_auc: 1.0000 - val_loss: 1.0678e-04 - val_precision: 1.0000 - val_recall: 1.0000\n",
      "Epoch 207/500\n",
      "\u001b[1m15/15\u001b[0m \u001b[32m━━━━━━━━━━━━━━━━━━━━\u001b[0m\u001b[37m\u001b[0m \u001b[1m0s\u001b[0m 11ms/step - accuracy: 0.9453 - auc: 0.9975 - loss: 0.0856 - precision: 0.9453 - recall: 0.9453 - val_accuracy: 1.0000 - val_auc: 1.0000 - val_loss: 1.4160e-04 - val_precision: 1.0000 - val_recall: 1.0000\n",
      "Epoch 208/500\n",
      "\u001b[1m15/15\u001b[0m \u001b[32m━━━━━━━━━━━━━━━━━━━━\u001b[0m\u001b[37m\u001b[0m \u001b[1m0s\u001b[0m 10ms/step - accuracy: 0.9520 - auc: 0.9983 - loss: 0.0657 - precision: 0.9520 - recall: 0.9520 - val_accuracy: 1.0000 - val_auc: 1.0000 - val_loss: 3.9556e-04 - val_precision: 1.0000 - val_recall: 1.0000\n",
      "Epoch 209/500\n",
      "\u001b[1m15/15\u001b[0m \u001b[32m━━━━━━━━━━━━━━━━━━━━\u001b[0m\u001b[37m\u001b[0m \u001b[1m0s\u001b[0m 10ms/step - accuracy: 0.9725 - auc: 0.9985 - loss: 0.0749 - precision: 0.9725 - recall: 0.9725 - val_accuracy: 1.0000 - val_auc: 1.0000 - val_loss: 3.0437e-04 - val_precision: 1.0000 - val_recall: 1.0000\n",
      "Epoch 210/500\n",
      "\u001b[1m15/15\u001b[0m \u001b[32m━━━━━━━━━━━━━━━━━━━━\u001b[0m\u001b[37m\u001b[0m \u001b[1m0s\u001b[0m 10ms/step - accuracy: 0.9842 - auc: 0.9997 - loss: 0.0414 - precision: 0.9842 - recall: 0.9842 - val_accuracy: 1.0000 - val_auc: 1.0000 - val_loss: 2.4823e-04 - val_precision: 1.0000 - val_recall: 1.0000\n",
      "Epoch 211/500\n",
      "\u001b[1m15/15\u001b[0m \u001b[32m━━━━━━━━━━━━━━━━━━━━\u001b[0m\u001b[37m\u001b[0m \u001b[1m0s\u001b[0m 10ms/step - accuracy: 0.9948 - auc: 0.9999 - loss: 0.0444 - precision: 0.9948 - recall: 0.9948 - val_accuracy: 1.0000 - val_auc: 1.0000 - val_loss: 2.9793e-04 - val_precision: 1.0000 - val_recall: 1.0000\n",
      "Epoch 212/500\n",
      "\u001b[1m15/15\u001b[0m \u001b[32m━━━━━━━━━━━━━━━━━━━━\u001b[0m\u001b[37m\u001b[0m \u001b[1m0s\u001b[0m 9ms/step - accuracy: 0.9979 - auc: 1.0000 - loss: 0.0243 - precision: 0.9979 - recall: 0.9979 - val_accuracy: 1.0000 - val_auc: 1.0000 - val_loss: 1.9885e-04 - val_precision: 1.0000 - val_recall: 1.0000\n",
      "Epoch 213/500\n",
      "\u001b[1m15/15\u001b[0m \u001b[32m━━━━━━━━━━━━━━━━━━━━\u001b[0m\u001b[37m\u001b[0m \u001b[1m0s\u001b[0m 10ms/step - accuracy: 0.9912 - auc: 0.9999 - loss: 0.0173 - precision: 0.9912 - recall: 0.9912 - val_accuracy: 1.0000 - val_auc: 1.0000 - val_loss: 9.5095e-05 - val_precision: 1.0000 - val_recall: 1.0000\n",
      "Epoch 214/500\n",
      "\u001b[1m15/15\u001b[0m \u001b[32m━━━━━━━━━━━━━━━━━━━━\u001b[0m\u001b[37m\u001b[0m \u001b[1m0s\u001b[0m 10ms/step - accuracy: 0.9894 - auc: 0.9999 - loss: 0.0231 - precision: 0.9894 - recall: 0.9894 - val_accuracy: 1.0000 - val_auc: 1.0000 - val_loss: 7.7738e-05 - val_precision: 1.0000 - val_recall: 1.0000\n",
      "Epoch 215/500\n",
      "\u001b[1m15/15\u001b[0m \u001b[32m━━━━━━━━━━━━━━━━━━━━\u001b[0m\u001b[37m\u001b[0m \u001b[1m0s\u001b[0m 10ms/step - accuracy: 0.9405 - auc: 0.9949 - loss: 0.1837 - precision: 0.9405 - recall: 0.9405 - val_accuracy: 1.0000 - val_auc: 1.0000 - val_loss: 0.0010 - val_precision: 1.0000 - val_recall: 1.0000\n",
      "Epoch 216/500\n",
      "\u001b[1m15/15\u001b[0m \u001b[32m━━━━━━━━━━━━━━━━━━━━\u001b[0m\u001b[37m\u001b[0m \u001b[1m0s\u001b[0m 10ms/step - accuracy: 0.9917 - auc: 0.9997 - loss: 0.0330 - precision: 0.9917 - recall: 0.9917 - val_accuracy: 1.0000 - val_auc: 1.0000 - val_loss: 3.6281e-04 - val_precision: 1.0000 - val_recall: 1.0000\n",
      "Epoch 217/500\n",
      "\u001b[1m15/15\u001b[0m \u001b[32m━━━━━━━━━━━━━━━━━━━━\u001b[0m\u001b[37m\u001b[0m \u001b[1m0s\u001b[0m 10ms/step - accuracy: 0.9655 - auc: 0.9935 - loss: 0.1007 - precision: 0.9655 - recall: 0.9655 - val_accuracy: 1.0000 - val_auc: 1.0000 - val_loss: 0.0056 - val_precision: 1.0000 - val_recall: 1.0000\n",
      "Epoch 218/500\n",
      "\u001b[1m15/15\u001b[0m \u001b[32m━━━━━━━━━━━━━━━━━━━━\u001b[0m\u001b[37m\u001b[0m \u001b[1m0s\u001b[0m 10ms/step - accuracy: 0.9463 - auc: 0.9978 - loss: 0.0954 - precision: 0.9463 - recall: 0.9463 - val_accuracy: 1.0000 - val_auc: 1.0000 - val_loss: 0.0204 - val_precision: 1.0000 - val_recall: 1.0000\n",
      "Epoch 219/500\n",
      "\u001b[1m15/15\u001b[0m \u001b[32m━━━━━━━━━━━━━━━━━━━━\u001b[0m\u001b[37m\u001b[0m \u001b[1m0s\u001b[0m 11ms/step - accuracy: 0.9494 - auc: 0.9979 - loss: 0.1019 - precision: 0.9494 - recall: 0.9494 - val_accuracy: 1.0000 - val_auc: 1.0000 - val_loss: 5.7320e-04 - val_precision: 1.0000 - val_recall: 1.0000\n",
      "Epoch 220/500\n",
      "\u001b[1m15/15\u001b[0m \u001b[32m━━━━━━━━━━━━━━━━━━━━\u001b[0m\u001b[37m\u001b[0m \u001b[1m0s\u001b[0m 9ms/step - accuracy: 0.9873 - auc: 0.9992 - loss: 0.0456 - precision: 0.9873 - recall: 0.9873 - val_accuracy: 1.0000 - val_auc: 1.0000 - val_loss: 5.4887e-04 - val_precision: 1.0000 - val_recall: 1.0000\n",
      "Epoch 221/500\n",
      "\u001b[1m15/15\u001b[0m \u001b[32m━━━━━━━━━━━━━━━━━━━━\u001b[0m\u001b[37m\u001b[0m \u001b[1m0s\u001b[0m 11ms/step - accuracy: 0.9673 - auc: 0.9984 - loss: 0.0764 - precision: 0.9673 - recall: 0.9673 - val_accuracy: 1.0000 - val_auc: 1.0000 - val_loss: 5.3223e-04 - val_precision: 1.0000 - val_recall: 1.0000\n",
      "Epoch 222/500\n",
      "\u001b[1m15/15\u001b[0m \u001b[32m━━━━━━━━━━━━━━━━━━━━\u001b[0m\u001b[37m\u001b[0m \u001b[1m0s\u001b[0m 10ms/step - accuracy: 0.9928 - auc: 0.9984 - loss: 0.0543 - precision: 0.9928 - recall: 0.9928 - val_accuracy: 1.0000 - val_auc: 1.0000 - val_loss: 4.1186e-04 - val_precision: 1.0000 - val_recall: 1.0000\n",
      "Epoch 223/500\n",
      "\u001b[1m15/15\u001b[0m \u001b[32m━━━━━━━━━━━━━━━━━━━━\u001b[0m\u001b[37m\u001b[0m \u001b[1m0s\u001b[0m 9ms/step - accuracy: 0.9780 - auc: 0.9994 - loss: 0.0399 - precision: 0.9780 - recall: 0.9780 - val_accuracy: 1.0000 - val_auc: 1.0000 - val_loss: 5.2393e-04 - val_precision: 1.0000 - val_recall: 1.0000\n",
      "Epoch 224/500\n",
      "\u001b[1m15/15\u001b[0m \u001b[32m━━━━━━━━━━━━━━━━━━━━\u001b[0m\u001b[37m\u001b[0m \u001b[1m0s\u001b[0m 10ms/step - accuracy: 0.9917 - auc: 0.9998 - loss: 0.0381 - precision: 0.9917 - recall: 0.9917 - val_accuracy: 1.0000 - val_auc: 1.0000 - val_loss: 3.0439e-04 - val_precision: 1.0000 - val_recall: 1.0000\n",
      "Epoch 225/500\n",
      "\u001b[1m15/15\u001b[0m \u001b[32m━━━━━━━━━━━━━━━━━━━━\u001b[0m\u001b[37m\u001b[0m \u001b[1m0s\u001b[0m 11ms/step - accuracy: 0.9570 - auc: 0.9985 - loss: 0.0668 - precision: 0.9570 - recall: 0.9570 - val_accuracy: 1.0000 - val_auc: 1.0000 - val_loss: 0.0048 - val_precision: 1.0000 - val_recall: 1.0000\n",
      "Epoch 226/500\n",
      "\u001b[1m15/15\u001b[0m \u001b[32m━━━━━━━━━━━━━━━━━━━━\u001b[0m\u001b[37m\u001b[0m \u001b[1m0s\u001b[0m 9ms/step - accuracy: 0.9831 - auc: 0.9977 - loss: 0.0832 - precision: 0.9831 - recall: 0.9831 - val_accuracy: 1.0000 - val_auc: 1.0000 - val_loss: 3.9277e-04 - val_precision: 1.0000 - val_recall: 1.0000\n",
      "Epoch 227/500\n",
      "\u001b[1m15/15\u001b[0m \u001b[32m━━━━━━━━━━━━━━━━━━━━\u001b[0m\u001b[37m\u001b[0m \u001b[1m0s\u001b[0m 10ms/step - accuracy: 0.9344 - auc: 0.9947 - loss: 0.1482 - precision: 0.9344 - recall: 0.9344 - val_accuracy: 1.0000 - val_auc: 1.0000 - val_loss: 5.5526e-04 - val_precision: 1.0000 - val_recall: 1.0000\n",
      "Epoch 228/500\n",
      "\u001b[1m15/15\u001b[0m \u001b[32m━━━━━━━━━━━━━━━━━━━━\u001b[0m\u001b[37m\u001b[0m \u001b[1m0s\u001b[0m 10ms/step - accuracy: 0.9853 - auc: 0.9997 - loss: 0.0478 - precision: 0.9853 - recall: 0.9853 - val_accuracy: 1.0000 - val_auc: 1.0000 - val_loss: 6.7591e-04 - val_precision: 1.0000 - val_recall: 1.0000\n",
      "Epoch 229/500\n",
      "\u001b[1m15/15\u001b[0m \u001b[32m━━━━━━━━━━━━━━━━━━━━\u001b[0m\u001b[37m\u001b[0m \u001b[1m0s\u001b[0m 9ms/step - accuracy: 0.9842 - auc: 0.9994 - loss: 0.0480 - precision: 0.9842 - recall: 0.9842 - val_accuracy: 1.0000 - val_auc: 1.0000 - val_loss: 4.4538e-04 - val_precision: 1.0000 - val_recall: 1.0000\n",
      "Epoch 230/500\n",
      "\u001b[1m15/15\u001b[0m \u001b[32m━━━━━━━━━━━━━━━━━━━━\u001b[0m\u001b[37m\u001b[0m \u001b[1m0s\u001b[0m 9ms/step - accuracy: 0.9415 - auc: 0.9980 - loss: 0.0641 - precision: 0.9415 - recall: 0.9415 - val_accuracy: 1.0000 - val_auc: 1.0000 - val_loss: 4.7916e-04 - val_precision: 1.0000 - val_recall: 1.0000\n",
      "Epoch 231/500\n",
      "\u001b[1m15/15\u001b[0m \u001b[32m━━━━━━━━━━━━━━━━━━━━\u001b[0m\u001b[37m\u001b[0m \u001b[1m0s\u001b[0m 11ms/step - accuracy: 0.9567 - auc: 0.9982 - loss: 0.0716 - precision: 0.9567 - recall: 0.9567 - val_accuracy: 1.0000 - val_auc: 1.0000 - val_loss: 2.9826e-04 - val_precision: 1.0000 - val_recall: 1.0000\n",
      "Epoch 232/500\n",
      "\u001b[1m15/15\u001b[0m \u001b[32m━━━━━━━━━━━━━━━━━━━━\u001b[0m\u001b[37m\u001b[0m \u001b[1m0s\u001b[0m 9ms/step - accuracy: 0.9552 - auc: 0.9954 - loss: 0.1360 - precision: 0.9552 - recall: 0.9552 - val_accuracy: 1.0000 - val_auc: 1.0000 - val_loss: 4.8127e-04 - val_precision: 1.0000 - val_recall: 1.0000\n",
      "Epoch 233/500\n",
      "\u001b[1m15/15\u001b[0m \u001b[32m━━━━━━━━━━━━━━━━━━━━\u001b[0m\u001b[37m\u001b[0m \u001b[1m0s\u001b[0m 11ms/step - accuracy: 0.9725 - auc: 0.9987 - loss: 0.0715 - precision: 0.9735 - recall: 0.9725 - val_accuracy: 1.0000 - val_auc: 1.0000 - val_loss: 5.6451e-04 - val_precision: 1.0000 - val_recall: 1.0000\n",
      "Epoch 234/500\n",
      "\u001b[1m15/15\u001b[0m \u001b[32m━━━━━━━━━━━━━━━━━━━━\u001b[0m\u001b[37m\u001b[0m \u001b[1m0s\u001b[0m 10ms/step - accuracy: 0.9928 - auc: 0.9994 - loss: 0.0462 - precision: 0.9928 - recall: 0.9928 - val_accuracy: 1.0000 - val_auc: 1.0000 - val_loss: 3.8254e-04 - val_precision: 1.0000 - val_recall: 1.0000\n",
      "Epoch 235/500\n",
      "\u001b[1m15/15\u001b[0m \u001b[32m━━━━━━━━━━━━━━━━━━━━\u001b[0m\u001b[37m\u001b[0m \u001b[1m0s\u001b[0m 10ms/step - accuracy: 0.9842 - auc: 0.9997 - loss: 0.0346 - precision: 0.9842 - recall: 0.9842 - val_accuracy: 1.0000 - val_auc: 1.0000 - val_loss: 2.3836e-04 - val_precision: 1.0000 - val_recall: 1.0000\n",
      "Epoch 236/500\n",
      "\u001b[1m15/15\u001b[0m \u001b[32m━━━━━━━━━━━━━━━━━━━━\u001b[0m\u001b[37m\u001b[0m \u001b[1m0s\u001b[0m 10ms/step - accuracy: 0.9319 - auc: 0.9956 - loss: 0.1151 - precision: 0.9319 - recall: 0.9319 - val_accuracy: 1.0000 - val_auc: 1.0000 - val_loss: 5.9704e-04 - val_precision: 1.0000 - val_recall: 1.0000\n",
      "Epoch 237/500\n",
      "\u001b[1m15/15\u001b[0m \u001b[32m━━━━━━━━━━━━━━━━━━━━\u001b[0m\u001b[37m\u001b[0m \u001b[1m0s\u001b[0m 11ms/step - accuracy: 0.9866 - auc: 0.9986 - loss: 0.0677 - precision: 0.9866 - recall: 0.9866 - val_accuracy: 1.0000 - val_auc: 1.0000 - val_loss: 1.0059e-04 - val_precision: 1.0000 - val_recall: 1.0000\n",
      "Epoch 238/500\n",
      "\u001b[1m15/15\u001b[0m \u001b[32m━━━━━━━━━━━━━━━━━━━━\u001b[0m\u001b[37m\u001b[0m \u001b[1m0s\u001b[0m 9ms/step - accuracy: 0.9788 - auc: 0.9886 - loss: 0.2213 - precision: 0.9788 - recall: 0.9788 - val_accuracy: 1.0000 - val_auc: 1.0000 - val_loss: 2.2222e-04 - val_precision: 1.0000 - val_recall: 1.0000\n",
      "Epoch 239/500\n",
      "\u001b[1m15/15\u001b[0m \u001b[32m━━━━━━━━━━━━━━━━━━━━\u001b[0m\u001b[37m\u001b[0m \u001b[1m0s\u001b[0m 10ms/step - accuracy: 0.9884 - auc: 0.9997 - loss: 0.0456 - precision: 0.9884 - recall: 0.9884 - val_accuracy: 1.0000 - val_auc: 1.0000 - val_loss: 2.0499e-04 - val_precision: 1.0000 - val_recall: 1.0000\n",
      "Epoch 240/500\n",
      "\u001b[1m15/15\u001b[0m \u001b[32m━━━━━━━━━━━━━━━━━━━━\u001b[0m\u001b[37m\u001b[0m \u001b[1m0s\u001b[0m 10ms/step - accuracy: 0.9604 - auc: 0.9981 - loss: 0.0690 - precision: 0.9604 - recall: 0.9604 - val_accuracy: 1.0000 - val_auc: 1.0000 - val_loss: 1.6434e-04 - val_precision: 1.0000 - val_recall: 1.0000\n",
      "Epoch 241/500\n",
      "\u001b[1m15/15\u001b[0m \u001b[32m━━━━━━━━━━━━━━━━━━━━\u001b[0m\u001b[37m\u001b[0m \u001b[1m0s\u001b[0m 11ms/step - accuracy: 0.9854 - auc: 0.9994 - loss: 0.0532 - precision: 0.9854 - recall: 0.9854 - val_accuracy: 1.0000 - val_auc: 1.0000 - val_loss: 2.0782e-04 - val_precision: 1.0000 - val_recall: 1.0000\n",
      "Epoch 242/500\n",
      "\u001b[1m15/15\u001b[0m \u001b[32m━━━━━━━━━━━━━━━━━━━━\u001b[0m\u001b[37m\u001b[0m \u001b[1m0s\u001b[0m 10ms/step - accuracy: 0.9720 - auc: 0.9956 - loss: 0.1239 - precision: 0.9720 - recall: 0.9720 - val_accuracy: 1.0000 - val_auc: 1.0000 - val_loss: 2.3686e-04 - val_precision: 1.0000 - val_recall: 1.0000\n",
      "Epoch 243/500\n",
      "\u001b[1m15/15\u001b[0m \u001b[32m━━━━━━━━━━━━━━━━━━━━\u001b[0m\u001b[37m\u001b[0m \u001b[1m0s\u001b[0m 11ms/step - accuracy: 0.9636 - auc: 0.9984 - loss: 0.0706 - precision: 0.9636 - recall: 0.9636 - val_accuracy: 1.0000 - val_auc: 1.0000 - val_loss: 1.2311e-04 - val_precision: 1.0000 - val_recall: 1.0000\n",
      "Epoch 244/500\n",
      "\u001b[1m15/15\u001b[0m \u001b[32m━━━━━━━━━━━━━━━━━━━━\u001b[0m\u001b[37m\u001b[0m \u001b[1m0s\u001b[0m 11ms/step - accuracy: 0.9927 - auc: 0.9951 - loss: 0.0742 - precision: 0.9927 - recall: 0.9927 - val_accuracy: 1.0000 - val_auc: 1.0000 - val_loss: 9.6946e-05 - val_precision: 1.0000 - val_recall: 1.0000\n",
      "Epoch 245/500\n",
      "\u001b[1m15/15\u001b[0m \u001b[32m━━━━━━━━━━━━━━━━━━━━\u001b[0m\u001b[37m\u001b[0m \u001b[1m0s\u001b[0m 9ms/step - accuracy: 0.9978 - auc: 1.0000 - loss: 0.0370 - precision: 0.9978 - recall: 0.9978 - val_accuracy: 1.0000 - val_auc: 1.0000 - val_loss: 9.0438e-05 - val_precision: 1.0000 - val_recall: 1.0000\n",
      "Epoch 246/500\n",
      "\u001b[1m15/15\u001b[0m \u001b[32m━━━━━━━━━━━━━━━━━━━━\u001b[0m\u001b[37m\u001b[0m \u001b[1m0s\u001b[0m 10ms/step - accuracy: 0.9743 - auc: 0.9964 - loss: 0.1032 - precision: 0.9743 - recall: 0.9743 - val_accuracy: 1.0000 - val_auc: 1.0000 - val_loss: 5.1249e-04 - val_precision: 1.0000 - val_recall: 1.0000\n",
      "Epoch 247/500\n",
      "\u001b[1m15/15\u001b[0m \u001b[32m━━━━━━━━━━━━━━━━━━━━\u001b[0m\u001b[37m\u001b[0m \u001b[1m0s\u001b[0m 10ms/step - accuracy: 0.9827 - auc: 0.9968 - loss: 0.0967 - precision: 0.9827 - recall: 0.9827 - val_accuracy: 1.0000 - val_auc: 1.0000 - val_loss: 2.6649e-04 - val_precision: 1.0000 - val_recall: 1.0000\n",
      "Epoch 248/500\n",
      "\u001b[1m15/15\u001b[0m \u001b[32m━━━━━━━━━━━━━━━━━━━━\u001b[0m\u001b[37m\u001b[0m \u001b[1m0s\u001b[0m 10ms/step - accuracy: 0.9806 - auc: 0.9996 - loss: 0.0361 - precision: 0.9806 - recall: 0.9806 - val_accuracy: 1.0000 - val_auc: 1.0000 - val_loss: 1.7365e-04 - val_precision: 1.0000 - val_recall: 1.0000\n",
      "Epoch 249/500\n",
      "\u001b[1m15/15\u001b[0m \u001b[32m━━━━━━━━━━━━━━━━━━━━\u001b[0m\u001b[37m\u001b[0m \u001b[1m0s\u001b[0m 10ms/step - accuracy: 0.9790 - auc: 0.9980 - loss: 0.0748 - precision: 0.9790 - recall: 0.9790 - val_accuracy: 1.0000 - val_auc: 1.0000 - val_loss: 1.6427e-04 - val_precision: 1.0000 - val_recall: 1.0000\n",
      "Epoch 250/500\n",
      "\u001b[1m15/15\u001b[0m \u001b[32m━━━━━━━━━━━━━━━━━━━━\u001b[0m\u001b[37m\u001b[0m \u001b[1m0s\u001b[0m 10ms/step - accuracy: 0.9842 - auc: 0.9997 - loss: 0.0423 - precision: 0.9842 - recall: 0.9842 - val_accuracy: 1.0000 - val_auc: 1.0000 - val_loss: 2.1212e-04 - val_precision: 1.0000 - val_recall: 1.0000\n",
      "Epoch 251/500\n",
      "\u001b[1m15/15\u001b[0m \u001b[32m━━━━━━━━━━━━━━━━━━━━\u001b[0m\u001b[37m\u001b[0m \u001b[1m0s\u001b[0m 9ms/step - accuracy: 0.9937 - auc: 0.9997 - loss: 0.0466 - precision: 0.9937 - recall: 0.9937 - val_accuracy: 1.0000 - val_auc: 1.0000 - val_loss: 2.2250e-04 - val_precision: 1.0000 - val_recall: 1.0000\n",
      "Epoch 252/500\n",
      "\u001b[1m15/15\u001b[0m \u001b[32m━━━━━━━━━━━━━━━━━━━━\u001b[0m\u001b[37m\u001b[0m \u001b[1m0s\u001b[0m 9ms/step - accuracy: 0.9882 - auc: 0.9997 - loss: 0.0403 - precision: 0.9911 - recall: 0.9882 - val_accuracy: 1.0000 - val_auc: 1.0000 - val_loss: 4.5230e-04 - val_precision: 1.0000 - val_recall: 1.0000\n",
      "Epoch 253/500\n",
      "\u001b[1m15/15\u001b[0m \u001b[32m━━━━━━━━━━━━━━━━━━━━\u001b[0m\u001b[37m\u001b[0m \u001b[1m0s\u001b[0m 10ms/step - accuracy: 0.9842 - auc: 0.9989 - loss: 0.0559 - precision: 0.9842 - recall: 0.9842 - val_accuracy: 1.0000 - val_auc: 1.0000 - val_loss: 1.1708e-04 - val_precision: 1.0000 - val_recall: 1.0000\n",
      "Epoch 254/500\n",
      "\u001b[1m15/15\u001b[0m \u001b[32m━━━━━━━━━━━━━━━━━━━━\u001b[0m\u001b[37m\u001b[0m \u001b[1m0s\u001b[0m 11ms/step - accuracy: 1.0000 - auc: 1.0000 - loss: 0.0130 - precision: 1.0000 - recall: 1.0000 - val_accuracy: 1.0000 - val_auc: 1.0000 - val_loss: 9.5189e-05 - val_precision: 1.0000 - val_recall: 1.0000\n",
      "Epoch 255/500\n",
      "\u001b[1m15/15\u001b[0m \u001b[32m━━━━━━━━━━━━━━━━━━━━\u001b[0m\u001b[37m\u001b[0m \u001b[1m0s\u001b[0m 10ms/step - accuracy: 0.9937 - auc: 0.9998 - loss: 0.0438 - precision: 0.9937 - recall: 0.9937 - val_accuracy: 1.0000 - val_auc: 1.0000 - val_loss: 7.7728e-05 - val_precision: 1.0000 - val_recall: 1.0000\n",
      "Epoch 256/500\n",
      "\u001b[1m15/15\u001b[0m \u001b[32m━━━━━━━━━━━━━━━━━━━━\u001b[0m\u001b[37m\u001b[0m \u001b[1m0s\u001b[0m 10ms/step - accuracy: 0.9928 - auc: 0.9997 - loss: 0.0357 - precision: 0.9928 - recall: 0.9928 - val_accuracy: 1.0000 - val_auc: 1.0000 - val_loss: 1.3799e-04 - val_precision: 1.0000 - val_recall: 1.0000\n",
      "Epoch 257/500\n",
      "\u001b[1m15/15\u001b[0m \u001b[32m━━━━━━━━━━━━━━━━━━━━\u001b[0m\u001b[37m\u001b[0m \u001b[1m0s\u001b[0m 11ms/step - accuracy: 0.9717 - auc: 0.9979 - loss: 0.0701 - precision: 0.9717 - recall: 0.9717 - val_accuracy: 1.0000 - val_auc: 1.0000 - val_loss: 0.0033 - val_precision: 1.0000 - val_recall: 1.0000\n",
      "Epoch 258/500\n",
      "\u001b[1m15/15\u001b[0m \u001b[32m━━━━━━━━━━━━━━━━━━━━\u001b[0m\u001b[37m\u001b[0m \u001b[1m0s\u001b[0m 10ms/step - accuracy: 0.9801 - auc: 0.9989 - loss: 0.0586 - precision: 0.9801 - recall: 0.9801 - val_accuracy: 1.0000 - val_auc: 1.0000 - val_loss: 0.0010 - val_precision: 1.0000 - val_recall: 1.0000\n",
      "Epoch 259/500\n",
      "\u001b[1m15/15\u001b[0m \u001b[32m━━━━━━━━━━━━━━━━━━━━\u001b[0m\u001b[37m\u001b[0m \u001b[1m0s\u001b[0m 10ms/step - accuracy: 0.9853 - auc: 0.9998 - loss: 0.0300 - precision: 0.9853 - recall: 0.9853 - val_accuracy: 1.0000 - val_auc: 1.0000 - val_loss: 2.8671e-04 - val_precision: 1.0000 - val_recall: 1.0000\n",
      "Epoch 260/500\n",
      "\u001b[1m15/15\u001b[0m \u001b[32m━━━━━━━━━━━━━━━━━━━━\u001b[0m\u001b[37m\u001b[0m \u001b[1m0s\u001b[0m 10ms/step - accuracy: 0.9978 - auc: 1.0000 - loss: 0.0196 - precision: 0.9978 - recall: 0.9978 - val_accuracy: 1.0000 - val_auc: 1.0000 - val_loss: 1.3459e-04 - val_precision: 1.0000 - val_recall: 1.0000\n",
      "Epoch 261/500\n",
      "\u001b[1m15/15\u001b[0m \u001b[32m━━━━━━━━━━━━━━━━━━━━\u001b[0m\u001b[37m\u001b[0m \u001b[1m0s\u001b[0m 10ms/step - accuracy: 0.9990 - auc: 1.0000 - loss: 0.0123 - precision: 0.9990 - recall: 0.9990 - val_accuracy: 1.0000 - val_auc: 1.0000 - val_loss: 7.8772e-05 - val_precision: 1.0000 - val_recall: 1.0000\n",
      "Epoch 262/500\n",
      "\u001b[1m15/15\u001b[0m \u001b[32m━━━━━━━━━━━━━━━━━━━━\u001b[0m\u001b[37m\u001b[0m \u001b[1m0s\u001b[0m 10ms/step - accuracy: 0.9884 - auc: 0.9999 - loss: 0.0216 - precision: 0.9884 - recall: 0.9884 - val_accuracy: 1.0000 - val_auc: 1.0000 - val_loss: 6.8254e-05 - val_precision: 1.0000 - val_recall: 1.0000\n",
      "Epoch 263/500\n",
      "\u001b[1m15/15\u001b[0m \u001b[32m━━━━━━━━━━━━━━━━━━━━\u001b[0m\u001b[37m\u001b[0m \u001b[1m0s\u001b[0m 10ms/step - accuracy: 0.9937 - auc: 0.9999 - loss: 0.0199 - precision: 0.9937 - recall: 0.9937 - val_accuracy: 1.0000 - val_auc: 1.0000 - val_loss: 1.0714e-04 - val_precision: 1.0000 - val_recall: 1.0000\n",
      "Epoch 264/500\n",
      "\u001b[1m15/15\u001b[0m \u001b[32m━━━━━━━━━━━━━━━━━━━━\u001b[0m\u001b[37m\u001b[0m \u001b[1m0s\u001b[0m 10ms/step - accuracy: 0.9732 - auc: 0.9988 - loss: 0.0699 - precision: 0.9732 - recall: 0.9732 - val_accuracy: 1.0000 - val_auc: 1.0000 - val_loss: 1.6129e-04 - val_precision: 1.0000 - val_recall: 1.0000\n",
      "Epoch 265/500\n",
      "\u001b[1m15/15\u001b[0m \u001b[32m━━━━━━━━━━━━━━━━━━━━\u001b[0m\u001b[37m\u001b[0m \u001b[1m0s\u001b[0m 10ms/step - accuracy: 0.9780 - auc: 0.9990 - loss: 0.0487 - precision: 0.9780 - recall: 0.9780 - val_accuracy: 1.0000 - val_auc: 1.0000 - val_loss: 1.5245e-04 - val_precision: 1.0000 - val_recall: 1.0000\n",
      "Epoch 266/500\n",
      "\u001b[1m15/15\u001b[0m \u001b[32m━━━━━━━━━━━━━━━━━━━━\u001b[0m\u001b[37m\u001b[0m \u001b[1m0s\u001b[0m 10ms/step - accuracy: 0.9807 - auc: 0.9990 - loss: 0.0601 - precision: 0.9807 - recall: 0.9807 - val_accuracy: 1.0000 - val_auc: 1.0000 - val_loss: 1.1542e-04 - val_precision: 1.0000 - val_recall: 1.0000\n",
      "Epoch 267/500\n",
      "\u001b[1m15/15\u001b[0m \u001b[32m━━━━━━━━━━━━━━━━━━━━\u001b[0m\u001b[37m\u001b[0m \u001b[1m0s\u001b[0m 10ms/step - accuracy: 0.9990 - auc: 1.0000 - loss: 0.0230 - precision: 0.9990 - recall: 0.9990 - val_accuracy: 1.0000 - val_auc: 1.0000 - val_loss: 6.9500e-05 - val_precision: 1.0000 - val_recall: 1.0000\n",
      "Epoch 268/500\n",
      "\u001b[1m15/15\u001b[0m \u001b[32m━━━━━━━━━━━━━━━━━━━━\u001b[0m\u001b[37m\u001b[0m \u001b[1m0s\u001b[0m 10ms/step - accuracy: 0.9901 - auc: 0.9985 - loss: 0.0339 - precision: 0.9901 - recall: 0.9901 - val_accuracy: 1.0000 - val_auc: 1.0000 - val_loss: 6.7829e-05 - val_precision: 1.0000 - val_recall: 1.0000\n",
      "Epoch 269/500\n",
      "\u001b[1m15/15\u001b[0m \u001b[32m━━━━━━━━━━━━━━━━━━━━\u001b[0m\u001b[37m\u001b[0m \u001b[1m0s\u001b[0m 9ms/step - accuracy: 0.9937 - auc: 0.9997 - loss: 0.0316 - precision: 0.9937 - recall: 0.9937 - val_accuracy: 0.9333 - val_auc: 0.9978 - val_loss: 0.2007 - val_precision: 0.9333 - val_recall: 0.9333\n",
      "Epoch 270/500\n",
      "\u001b[1m15/15\u001b[0m \u001b[32m━━━━━━━━━━━━━━━━━━━━\u001b[0m\u001b[37m\u001b[0m \u001b[1m0s\u001b[0m 10ms/step - accuracy: 0.9917 - auc: 0.9991 - loss: 0.0557 - precision: 0.9917 - recall: 0.9917 - val_accuracy: 0.9333 - val_auc: 0.9978 - val_loss: 0.3090 - val_precision: 0.9333 - val_recall: 0.9333\n",
      "Epoch 271/500\n",
      "\u001b[1m15/15\u001b[0m \u001b[32m━━━━━━━━━━━━━━━━━━━━\u001b[0m\u001b[37m\u001b[0m \u001b[1m0s\u001b[0m 11ms/step - accuracy: 0.9780 - auc: 0.9996 - loss: 0.0518 - precision: 0.9780 - recall: 0.9780 - val_accuracy: 0.9333 - val_auc: 0.9989 - val_loss: 0.0467 - val_precision: 0.9333 - val_recall: 0.9333\n",
      "Epoch 272/500\n",
      "\u001b[1m15/15\u001b[0m \u001b[32m━━━━━━━━━━━━━━━━━━━━\u001b[0m\u001b[37m\u001b[0m \u001b[1m0s\u001b[0m 10ms/step - accuracy: 0.9540 - auc: 0.9963 - loss: 0.1124 - precision: 0.9540 - recall: 0.9540 - val_accuracy: 1.0000 - val_auc: 1.0000 - val_loss: 0.0142 - val_precision: 1.0000 - val_recall: 1.0000\n",
      "Epoch 273/500\n",
      "\u001b[1m15/15\u001b[0m \u001b[32m━━━━━━━━━━━━━━━━━━━━\u001b[0m\u001b[37m\u001b[0m \u001b[1m0s\u001b[0m 9ms/step - accuracy: 0.9526 - auc: 0.9983 - loss: 0.0860 - precision: 0.9526 - recall: 0.9526 - val_accuracy: 1.0000 - val_auc: 1.0000 - val_loss: 0.0014 - val_precision: 1.0000 - val_recall: 1.0000\n",
      "Epoch 274/500\n",
      "\u001b[1m15/15\u001b[0m \u001b[32m━━━━━━━━━━━━━━━━━━━━\u001b[0m\u001b[37m\u001b[0m \u001b[1m0s\u001b[0m 10ms/step - accuracy: 0.9777 - auc: 0.9991 - loss: 0.0471 - precision: 0.9777 - recall: 0.9777 - val_accuracy: 1.0000 - val_auc: 1.0000 - val_loss: 0.0416 - val_precision: 1.0000 - val_recall: 1.0000\n",
      "Epoch 275/500\n",
      "\u001b[1m15/15\u001b[0m \u001b[32m━━━━━━━━━━━━━━━━━━━━\u001b[0m\u001b[37m\u001b[0m \u001b[1m0s\u001b[0m 10ms/step - accuracy: 0.9769 - auc: 0.9980 - loss: 0.0781 - precision: 0.9769 - recall: 0.9769 - val_accuracy: 1.0000 - val_auc: 1.0000 - val_loss: 0.0398 - val_precision: 1.0000 - val_recall: 1.0000\n",
      "Epoch 276/500\n",
      "\u001b[1m15/15\u001b[0m \u001b[32m━━━━━━━━━━━━━━━━━━━━\u001b[0m\u001b[37m\u001b[0m \u001b[1m0s\u001b[0m 10ms/step - accuracy: 1.0000 - auc: 1.0000 - loss: 0.0223 - precision: 1.0000 - recall: 0.9990 - val_accuracy: 1.0000 - val_auc: 1.0000 - val_loss: 0.0061 - val_precision: 1.0000 - val_recall: 1.0000\n",
      "Epoch 277/500\n",
      "\u001b[1m15/15\u001b[0m \u001b[32m━━━━━━━━━━━━━━━━━━━━\u001b[0m\u001b[37m\u001b[0m \u001b[1m0s\u001b[0m 11ms/step - accuracy: 0.9909 - auc: 0.9986 - loss: 0.0442 - precision: 0.9909 - recall: 0.9909 - val_accuracy: 1.0000 - val_auc: 1.0000 - val_loss: 0.0095 - val_precision: 1.0000 - val_recall: 1.0000\n",
      "Epoch 278/500\n",
      "\u001b[1m15/15\u001b[0m \u001b[32m━━━━━━━━━━━━━━━━━━━━\u001b[0m\u001b[37m\u001b[0m \u001b[1m0s\u001b[0m 10ms/step - accuracy: 0.9770 - auc: 0.9990 - loss: 0.0642 - precision: 0.9770 - recall: 0.9770 - val_accuracy: 1.0000 - val_auc: 1.0000 - val_loss: 0.0027 - val_precision: 1.0000 - val_recall: 1.0000\n",
      "Epoch 279/500\n",
      "\u001b[1m15/15\u001b[0m \u001b[32m━━━━━━━━━━━━━━━━━━━━\u001b[0m\u001b[37m\u001b[0m \u001b[1m0s\u001b[0m 10ms/step - accuracy: 0.9865 - auc: 0.9999 - loss: 0.0469 - precision: 0.9865 - recall: 0.9865 - val_accuracy: 1.0000 - val_auc: 1.0000 - val_loss: 1.0673e-04 - val_precision: 1.0000 - val_recall: 1.0000\n",
      "Epoch 280/500\n",
      "\u001b[1m15/15\u001b[0m \u001b[32m━━━━━━━━━━━━━━━━━━━━\u001b[0m\u001b[37m\u001b[0m \u001b[1m0s\u001b[0m 10ms/step - accuracy: 0.9736 - auc: 0.9996 - loss: 0.0371 - precision: 0.9736 - recall: 0.9736 - val_accuracy: 1.0000 - val_auc: 1.0000 - val_loss: 1.1350e-04 - val_precision: 1.0000 - val_recall: 1.0000\n",
      "Epoch 281/500\n",
      "\u001b[1m15/15\u001b[0m \u001b[32m━━━━━━━━━━━━━━━━━━━━\u001b[0m\u001b[37m\u001b[0m \u001b[1m0s\u001b[0m 10ms/step - accuracy: 0.9891 - auc: 0.9998 - loss: 0.0270 - precision: 0.9891 - recall: 0.9891 - val_accuracy: 1.0000 - val_auc: 1.0000 - val_loss: 9.3276e-05 - val_precision: 1.0000 - val_recall: 1.0000\n",
      "Epoch 282/500\n",
      "\u001b[1m15/15\u001b[0m \u001b[32m━━━━━━━━━━━━━━━━━━━━\u001b[0m\u001b[37m\u001b[0m \u001b[1m0s\u001b[0m 10ms/step - accuracy: 0.9990 - auc: 1.0000 - loss: 0.0159 - precision: 0.9990 - recall: 0.9990 - val_accuracy: 1.0000 - val_auc: 1.0000 - val_loss: 8.2044e-05 - val_precision: 1.0000 - val_recall: 1.0000\n",
      "Epoch 283/500\n",
      "\u001b[1m15/15\u001b[0m \u001b[32m━━━━━━━━━━━━━━━━━━━━\u001b[0m\u001b[37m\u001b[0m \u001b[1m0s\u001b[0m 10ms/step - accuracy: 1.0000 - auc: 1.0000 - loss: 0.0155 - precision: 1.0000 - recall: 1.0000 - val_accuracy: 1.0000 - val_auc: 1.0000 - val_loss: 5.2741e-05 - val_precision: 1.0000 - val_recall: 1.0000\n",
      "Epoch 284/500\n",
      "\u001b[1m15/15\u001b[0m \u001b[32m━━━━━━━━━━━━━━━━━━━━\u001b[0m\u001b[37m\u001b[0m \u001b[1m0s\u001b[0m 9ms/step - accuracy: 0.9914 - auc: 0.9998 - loss: 0.0288 - precision: 0.9914 - recall: 0.9914 - val_accuracy: 1.0000 - val_auc: 1.0000 - val_loss: 8.8160e-05 - val_precision: 1.0000 - val_recall: 1.0000\n",
      "Epoch 285/500\n",
      "\u001b[1m15/15\u001b[0m \u001b[32m━━━━━━━━━━━━━━━━━━━━\u001b[0m\u001b[37m\u001b[0m \u001b[1m0s\u001b[0m 10ms/step - accuracy: 1.0000 - auc: 1.0000 - loss: 0.0158 - precision: 1.0000 - recall: 1.0000 - val_accuracy: 1.0000 - val_auc: 1.0000 - val_loss: 2.4977e-05 - val_precision: 1.0000 - val_recall: 1.0000\n",
      "Epoch 286/500\n",
      "\u001b[1m15/15\u001b[0m \u001b[32m━━━━━━━━━━━━━━━━━━━━\u001b[0m\u001b[37m\u001b[0m \u001b[1m0s\u001b[0m 9ms/step - accuracy: 0.9865 - auc: 0.9998 - loss: 0.0322 - precision: 0.9865 - recall: 0.9865 - val_accuracy: 1.0000 - val_auc: 1.0000 - val_loss: 2.9331e-05 - val_precision: 1.0000 - val_recall: 1.0000\n",
      "Epoch 287/500\n",
      "\u001b[1m15/15\u001b[0m \u001b[32m━━━━━━━━━━━━━━━━━━━━\u001b[0m\u001b[37m\u001b[0m \u001b[1m0s\u001b[0m 10ms/step - accuracy: 0.9725 - auc: 0.9989 - loss: 0.0882 - precision: 0.9725 - recall: 0.9725 - val_accuracy: 1.0000 - val_auc: 1.0000 - val_loss: 3.3359e-05 - val_precision: 1.0000 - val_recall: 1.0000\n",
      "Epoch 288/500\n",
      "\u001b[1m15/15\u001b[0m \u001b[32m━━━━━━━━━━━━━━━━━━━━\u001b[0m\u001b[37m\u001b[0m \u001b[1m0s\u001b[0m 10ms/step - accuracy: 0.9673 - auc: 0.9776 - loss: 0.1679 - precision: 0.9673 - recall: 0.9673 - val_accuracy: 1.0000 - val_auc: 1.0000 - val_loss: 3.8287e-05 - val_precision: 1.0000 - val_recall: 1.0000\n",
      "Epoch 289/500\n",
      "\u001b[1m15/15\u001b[0m \u001b[32m━━━━━━━━━━━━━━━━━━━━\u001b[0m\u001b[37m\u001b[0m \u001b[1m0s\u001b[0m 10ms/step - accuracy: 0.9853 - auc: 0.9995 - loss: 0.0473 - precision: 0.9853 - recall: 0.9853 - val_accuracy: 1.0000 - val_auc: 1.0000 - val_loss: 3.2635e-05 - val_precision: 1.0000 - val_recall: 1.0000\n",
      "Epoch 290/500\n",
      "\u001b[1m15/15\u001b[0m \u001b[32m━━━━━━━━━━━━━━━━━━━━\u001b[0m\u001b[37m\u001b[0m \u001b[1m0s\u001b[0m 9ms/step - accuracy: 0.9700 - auc: 0.9990 - loss: 0.0475 - precision: 0.9700 - recall: 0.9700 - val_accuracy: 1.0000 - val_auc: 1.0000 - val_loss: 3.0459e-05 - val_precision: 1.0000 - val_recall: 1.0000\n",
      "Epoch 291/500\n",
      "\u001b[1m15/15\u001b[0m \u001b[32m━━━━━━━━━━━━━━━━━━━━\u001b[0m\u001b[37m\u001b[0m \u001b[1m0s\u001b[0m 9ms/step - accuracy: 0.9778 - auc: 0.9997 - loss: 0.0320 - precision: 0.9778 - recall: 0.9778 - val_accuracy: 1.0000 - val_auc: 1.0000 - val_loss: 2.7272e-04 - val_precision: 1.0000 - val_recall: 1.0000\n",
      "Epoch 292/500\n",
      "\u001b[1m15/15\u001b[0m \u001b[32m━━━━━━━━━━━━━━━━━━━━\u001b[0m\u001b[37m\u001b[0m \u001b[1m0s\u001b[0m 9ms/step - accuracy: 0.9542 - auc: 0.9969 - loss: 0.1153 - precision: 0.9542 - recall: 0.9542 - val_accuracy: 1.0000 - val_auc: 1.0000 - val_loss: 5.4443e-05 - val_precision: 1.0000 - val_recall: 1.0000\n",
      "Epoch 293/500\n",
      "\u001b[1m15/15\u001b[0m \u001b[32m━━━━━━━━━━━━━━━━━━━━\u001b[0m\u001b[37m\u001b[0m \u001b[1m0s\u001b[0m 11ms/step - accuracy: 0.9937 - auc: 0.9999 - loss: 0.0210 - precision: 0.9937 - recall: 0.9937 - val_accuracy: 1.0000 - val_auc: 1.0000 - val_loss: 1.0530e-04 - val_precision: 1.0000 - val_recall: 1.0000\n",
      "Epoch 294/500\n",
      "\u001b[1m15/15\u001b[0m \u001b[32m━━━━━━━━━━━━━━━━━━━━\u001b[0m\u001b[37m\u001b[0m \u001b[1m0s\u001b[0m 11ms/step - accuracy: 0.9937 - auc: 0.9998 - loss: 0.0274 - precision: 0.9937 - recall: 0.9937 - val_accuracy: 1.0000 - val_auc: 1.0000 - val_loss: 1.2034e-04 - val_precision: 1.0000 - val_recall: 1.0000\n",
      "Epoch 295/500\n",
      "\u001b[1m15/15\u001b[0m \u001b[32m━━━━━━━━━━━━━━━━━━━━\u001b[0m\u001b[37m\u001b[0m \u001b[1m0s\u001b[0m 10ms/step - accuracy: 0.9578 - auc: 0.9987 - loss: 0.0575 - precision: 0.9578 - recall: 0.9578 - val_accuracy: 1.0000 - val_auc: 1.0000 - val_loss: 7.6234e-05 - val_precision: 1.0000 - val_recall: 1.0000\n",
      "Epoch 296/500\n",
      "\u001b[1m15/15\u001b[0m \u001b[32m━━━━━━━━━━━━━━━━━━━━\u001b[0m\u001b[37m\u001b[0m \u001b[1m0s\u001b[0m 9ms/step - accuracy: 1.0000 - auc: 1.0000 - loss: 0.0134 - precision: 1.0000 - recall: 1.0000 - val_accuracy: 1.0000 - val_auc: 1.0000 - val_loss: 4.5936e-05 - val_precision: 1.0000 - val_recall: 1.0000\n",
      "Epoch 297/500\n",
      "\u001b[1m15/15\u001b[0m \u001b[32m━━━━━━━━━━━━━━━━━━━━\u001b[0m\u001b[37m\u001b[0m \u001b[1m0s\u001b[0m 11ms/step - accuracy: 0.9927 - auc: 0.9995 - loss: 0.0356 - precision: 0.9927 - recall: 0.9927 - val_accuracy: 1.0000 - val_auc: 1.0000 - val_loss: 3.8088e-05 - val_precision: 1.0000 - val_recall: 1.0000\n",
      "Epoch 298/500\n",
      "\u001b[1m15/15\u001b[0m \u001b[32m━━━━━━━━━━━━━━━━━━━━\u001b[0m\u001b[37m\u001b[0m \u001b[1m0s\u001b[0m 9ms/step - accuracy: 0.9837 - auc: 0.9997 - loss: 0.0305 - precision: 0.9837 - recall: 0.9837 - val_accuracy: 1.0000 - val_auc: 1.0000 - val_loss: 6.3308e-05 - val_precision: 1.0000 - val_recall: 1.0000\n",
      "Epoch 299/500\n",
      "\u001b[1m15/15\u001b[0m \u001b[32m━━━━━━━━━━━━━━━━━━━━\u001b[0m\u001b[37m\u001b[0m \u001b[1m0s\u001b[0m 10ms/step - accuracy: 0.9853 - auc: 0.9994 - loss: 0.0399 - precision: 0.9853 - recall: 0.9853 - val_accuracy: 1.0000 - val_auc: 1.0000 - val_loss: 0.0033 - val_precision: 1.0000 - val_recall: 1.0000\n",
      "Epoch 300/500\n",
      "\u001b[1m15/15\u001b[0m \u001b[32m━━━━━━━━━━━━━━━━━━━━\u001b[0m\u001b[37m\u001b[0m \u001b[1m0s\u001b[0m 9ms/step - accuracy: 0.9441 - auc: 0.9945 - loss: 0.1882 - precision: 0.9441 - recall: 0.9441 - val_accuracy: 1.0000 - val_auc: 1.0000 - val_loss: 1.5379e-04 - val_precision: 1.0000 - val_recall: 1.0000\n",
      "Epoch 301/500\n",
      "\u001b[1m15/15\u001b[0m \u001b[32m━━━━━━━━━━━━━━━━━━━━\u001b[0m\u001b[37m\u001b[0m \u001b[1m0s\u001b[0m 10ms/step - accuracy: 0.9741 - auc: 0.9994 - loss: 0.0457 - precision: 0.9741 - recall: 0.9741 - val_accuracy: 1.0000 - val_auc: 1.0000 - val_loss: 9.6219e-05 - val_precision: 1.0000 - val_recall: 1.0000\n",
      "Epoch 302/500\n",
      "\u001b[1m15/15\u001b[0m \u001b[32m━━━━━━━━━━━━━━━━━━━━\u001b[0m\u001b[37m\u001b[0m \u001b[1m0s\u001b[0m 10ms/step - accuracy: 0.9901 - auc: 0.9998 - loss: 0.0449 - precision: 0.9901 - recall: 0.9901 - val_accuracy: 1.0000 - val_auc: 1.0000 - val_loss: 2.0587e-04 - val_precision: 1.0000 - val_recall: 1.0000\n",
      "Epoch 303/500\n",
      "\u001b[1m15/15\u001b[0m \u001b[32m━━━━━━━━━━━━━━━━━━━━\u001b[0m\u001b[37m\u001b[0m \u001b[1m0s\u001b[0m 9ms/step - accuracy: 0.9703 - auc: 0.9978 - loss: 0.0939 - precision: 0.9703 - recall: 0.9703 - val_accuracy: 1.0000 - val_auc: 1.0000 - val_loss: 4.5587e-04 - val_precision: 1.0000 - val_recall: 1.0000\n",
      "Epoch 304/500\n",
      "\u001b[1m15/15\u001b[0m \u001b[32m━━━━━━━━━━━━━━━━━━━━\u001b[0m\u001b[37m\u001b[0m \u001b[1m0s\u001b[0m 9ms/step - accuracy: 0.9990 - auc: 1.0000 - loss: 0.0150 - precision: 0.9990 - recall: 0.9990 - val_accuracy: 1.0000 - val_auc: 1.0000 - val_loss: 5.4921e-04 - val_precision: 1.0000 - val_recall: 1.0000\n",
      "Epoch 305/500\n",
      "\u001b[1m15/15\u001b[0m \u001b[32m━━━━━━━━━━━━━━━━━━━━\u001b[0m\u001b[37m\u001b[0m \u001b[1m0s\u001b[0m 10ms/step - accuracy: 0.9990 - auc: 0.9999 - loss: 0.0196 - precision: 0.9990 - recall: 0.9990 - val_accuracy: 1.0000 - val_auc: 1.0000 - val_loss: 2.5690e-04 - val_precision: 1.0000 - val_recall: 1.0000\n",
      "Epoch 306/500\n",
      "\u001b[1m15/15\u001b[0m \u001b[32m━━━━━━━━━━━━━━━━━━━━\u001b[0m\u001b[37m\u001b[0m \u001b[1m0s\u001b[0m 9ms/step - accuracy: 0.9853 - auc: 0.9998 - loss: 0.0429 - precision: 0.9853 - recall: 0.9853 - val_accuracy: 1.0000 - val_auc: 1.0000 - val_loss: 5.4574e-05 - val_precision: 1.0000 - val_recall: 1.0000\n",
      "Epoch 307/500\n",
      "\u001b[1m15/15\u001b[0m \u001b[32m━━━━━━━━━━━━━━━━━━━━\u001b[0m\u001b[37m\u001b[0m \u001b[1m0s\u001b[0m 11ms/step - accuracy: 1.0000 - auc: 1.0000 - loss: 0.0133 - precision: 1.0000 - recall: 1.0000 - val_accuracy: 1.0000 - val_auc: 1.0000 - val_loss: 4.4905e-05 - val_precision: 1.0000 - val_recall: 1.0000\n",
      "Epoch 308/500\n",
      "\u001b[1m15/15\u001b[0m \u001b[32m━━━━━━━━━━━━━━━━━━━━\u001b[0m\u001b[37m\u001b[0m \u001b[1m0s\u001b[0m 11ms/step - accuracy: 0.9825 - auc: 0.9998 - loss: 0.0321 - precision: 0.9825 - recall: 0.9825 - val_accuracy: 1.0000 - val_auc: 1.0000 - val_loss: 3.9114e-05 - val_precision: 1.0000 - val_recall: 1.0000\n",
      "Epoch 309/500\n",
      "\u001b[1m15/15\u001b[0m \u001b[32m━━━━━━━━━━━━━━━━━━━━\u001b[0m\u001b[37m\u001b[0m \u001b[1m0s\u001b[0m 12ms/step - accuracy: 0.9979 - auc: 0.9991 - loss: 0.0169 - precision: 0.9979 - recall: 0.9979 - val_accuracy: 1.0000 - val_auc: 1.0000 - val_loss: 2.6360e-05 - val_precision: 1.0000 - val_recall: 1.0000\n",
      "Epoch 310/500\n",
      "\u001b[1m15/15\u001b[0m \u001b[32m━━━━━━━━━━━━━━━━━━━━\u001b[0m\u001b[37m\u001b[0m \u001b[1m0s\u001b[0m 10ms/step - accuracy: 0.9917 - auc: 0.9938 - loss: 0.0776 - precision: 0.9917 - recall: 0.9917 - val_accuracy: 1.0000 - val_auc: 1.0000 - val_loss: 3.5076e-05 - val_precision: 1.0000 - val_recall: 1.0000\n",
      "Epoch 311/500\n",
      "\u001b[1m15/15\u001b[0m \u001b[32m━━━━━━━━━━━━━━━━━━━━\u001b[0m\u001b[37m\u001b[0m \u001b[1m0s\u001b[0m 10ms/step - accuracy: 0.9842 - auc: 0.9997 - loss: 0.0319 - precision: 0.9842 - recall: 0.9842 - val_accuracy: 1.0000 - val_auc: 1.0000 - val_loss: 5.8278e-05 - val_precision: 1.0000 - val_recall: 1.0000\n",
      "Epoch 312/500\n",
      "\u001b[1m15/15\u001b[0m \u001b[32m━━━━━━━━━━━━━━━━━━━━\u001b[0m\u001b[37m\u001b[0m \u001b[1m0s\u001b[0m 9ms/step - accuracy: 0.9990 - auc: 1.0000 - loss: 0.0162 - precision: 0.9990 - recall: 0.9990 - val_accuracy: 1.0000 - val_auc: 1.0000 - val_loss: 5.3509e-05 - val_precision: 1.0000 - val_recall: 1.0000\n",
      "Epoch 313/500\n",
      "\u001b[1m15/15\u001b[0m \u001b[32m━━━━━━━━━━━━━━━━━━━━\u001b[0m\u001b[37m\u001b[0m \u001b[1m0s\u001b[0m 11ms/step - accuracy: 0.9725 - auc: 0.9986 - loss: 0.0622 - precision: 0.9725 - recall: 0.9725 - val_accuracy: 1.0000 - val_auc: 1.0000 - val_loss: 7.7879e-05 - val_precision: 1.0000 - val_recall: 1.0000\n",
      "Epoch 314/500\n",
      "\u001b[1m15/15\u001b[0m \u001b[32m━━━━━━━━━━━━━━━━━━━━\u001b[0m\u001b[37m\u001b[0m \u001b[1m0s\u001b[0m 9ms/step - accuracy: 1.0000 - auc: 1.0000 - loss: 0.0176 - precision: 1.0000 - recall: 1.0000 - val_accuracy: 1.0000 - val_auc: 1.0000 - val_loss: 4.7446e-05 - val_precision: 1.0000 - val_recall: 1.0000\n",
      "Epoch 315/500\n",
      "\u001b[1m15/15\u001b[0m \u001b[32m━━━━━━━━━━━━━━━━━━━━\u001b[0m\u001b[37m\u001b[0m \u001b[1m0s\u001b[0m 10ms/step - accuracy: 0.9868 - auc: 0.9999 - loss: 0.0256 - precision: 0.9868 - recall: 0.9868 - val_accuracy: 1.0000 - val_auc: 1.0000 - val_loss: 4.0741e-05 - val_precision: 1.0000 - val_recall: 1.0000\n",
      "Epoch 316/500\n",
      "\u001b[1m15/15\u001b[0m \u001b[32m━━━━━━━━━━━━━━━━━━━━\u001b[0m\u001b[37m\u001b[0m \u001b[1m0s\u001b[0m 11ms/step - accuracy: 1.0000 - auc: 1.0000 - loss: 0.0081 - precision: 1.0000 - recall: 1.0000 - val_accuracy: 1.0000 - val_auc: 1.0000 - val_loss: 3.9509e-05 - val_precision: 1.0000 - val_recall: 1.0000\n",
      "Epoch 317/500\n",
      "\u001b[1m15/15\u001b[0m \u001b[32m━━━━━━━━━━━━━━━━━━━━\u001b[0m\u001b[37m\u001b[0m \u001b[1m0s\u001b[0m 11ms/step - accuracy: 0.9853 - auc: 0.9998 - loss: 0.0284 - precision: 0.9853 - recall: 0.9853 - val_accuracy: 1.0000 - val_auc: 1.0000 - val_loss: 2.7876e-05 - val_precision: 1.0000 - val_recall: 1.0000\n",
      "Epoch 318/500\n",
      "\u001b[1m15/15\u001b[0m \u001b[32m━━━━━━━━━━━━━━━━━━━━\u001b[0m\u001b[37m\u001b[0m \u001b[1m0s\u001b[0m 10ms/step - accuracy: 0.9791 - auc: 0.9994 - loss: 0.0386 - precision: 0.9791 - recall: 0.9791 - val_accuracy: 1.0000 - val_auc: 1.0000 - val_loss: 2.1075e-05 - val_precision: 1.0000 - val_recall: 1.0000\n",
      "Epoch 319/500\n",
      "\u001b[1m15/15\u001b[0m \u001b[32m━━━━━━━━━━━━━━━━━━━━\u001b[0m\u001b[37m\u001b[0m \u001b[1m0s\u001b[0m 9ms/step - accuracy: 0.9600 - auc: 0.9974 - loss: 0.1325 - precision: 0.9600 - recall: 0.9600 - val_accuracy: 1.0000 - val_auc: 1.0000 - val_loss: 5.5128e-05 - val_precision: 1.0000 - val_recall: 1.0000\n",
      "Epoch 320/500\n",
      "\u001b[1m15/15\u001b[0m \u001b[32m━━━━━━━━━━━━━━━━━━━━\u001b[0m\u001b[37m\u001b[0m \u001b[1m0s\u001b[0m 10ms/step - accuracy: 0.9892 - auc: 0.9996 - loss: 0.0425 - precision: 0.9935 - recall: 0.9892 - val_accuracy: 1.0000 - val_auc: 1.0000 - val_loss: 2.9203e-05 - val_precision: 1.0000 - val_recall: 1.0000\n",
      "Epoch 321/500\n",
      "\u001b[1m15/15\u001b[0m \u001b[32m━━━━━━━━━━━━━━━━━━━━\u001b[0m\u001b[37m\u001b[0m \u001b[1m0s\u001b[0m 9ms/step - accuracy: 0.9806 - auc: 0.9897 - loss: 0.1183 - precision: 0.9806 - recall: 0.9806 - val_accuracy: 1.0000 - val_auc: 1.0000 - val_loss: 0.0237 - val_precision: 1.0000 - val_recall: 1.0000\n",
      "Epoch 322/500\n",
      "\u001b[1m15/15\u001b[0m \u001b[32m━━━━━━━━━━━━━━━━━━━━\u001b[0m\u001b[37m\u001b[0m \u001b[1m0s\u001b[0m 10ms/step - accuracy: 0.9614 - auc: 0.9691 - loss: 0.2998 - precision: 0.9614 - recall: 0.9614 - val_accuracy: 1.0000 - val_auc: 1.0000 - val_loss: 1.2482e-04 - val_precision: 1.0000 - val_recall: 1.0000\n",
      "Epoch 323/500\n",
      "\u001b[1m15/15\u001b[0m \u001b[32m━━━━━━━━━━━━━━━━━━━━\u001b[0m\u001b[37m\u001b[0m \u001b[1m0s\u001b[0m 10ms/step - accuracy: 0.9796 - auc: 0.9994 - loss: 0.0426 - precision: 0.9796 - recall: 0.9796 - val_accuracy: 1.0000 - val_auc: 1.0000 - val_loss: 1.1037e-04 - val_precision: 1.0000 - val_recall: 1.0000\n",
      "Epoch 324/500\n",
      "\u001b[1m15/15\u001b[0m \u001b[32m━━━━━━━━━━━━━━━━━━━━\u001b[0m\u001b[37m\u001b[0m \u001b[1m0s\u001b[0m 10ms/step - accuracy: 0.9656 - auc: 0.9992 - loss: 0.0488 - precision: 0.9656 - recall: 0.9656 - val_accuracy: 1.0000 - val_auc: 1.0000 - val_loss: 5.3668e-05 - val_precision: 1.0000 - val_recall: 1.0000\n",
      "Epoch 325/500\n",
      "\u001b[1m15/15\u001b[0m \u001b[32m━━━━━━━━━━━━━━━━━━━━\u001b[0m\u001b[37m\u001b[0m \u001b[1m0s\u001b[0m 10ms/step - accuracy: 0.9614 - auc: 0.9975 - loss: 0.0979 - precision: 0.9614 - recall: 0.9614 - val_accuracy: 1.0000 - val_auc: 1.0000 - val_loss: 4.1607e-04 - val_precision: 1.0000 - val_recall: 1.0000\n",
      "Epoch 326/500\n",
      "\u001b[1m15/15\u001b[0m \u001b[32m━━━━━━━━━━━━━━━━━━━━\u001b[0m\u001b[37m\u001b[0m \u001b[1m0s\u001b[0m 9ms/step - accuracy: 0.9938 - auc: 0.9997 - loss: 0.0306 - precision: 0.9938 - recall: 0.9938 - val_accuracy: 1.0000 - val_auc: 1.0000 - val_loss: 3.2132e-04 - val_precision: 1.0000 - val_recall: 1.0000\n",
      "Epoch 327/500\n",
      "\u001b[1m15/15\u001b[0m \u001b[32m━━━━━━━━━━━━━━━━━━━━\u001b[0m\u001b[37m\u001b[0m \u001b[1m0s\u001b[0m 10ms/step - accuracy: 0.9979 - auc: 1.0000 - loss: 0.0194 - precision: 0.9979 - recall: 0.9979 - val_accuracy: 1.0000 - val_auc: 1.0000 - val_loss: 1.5096e-04 - val_precision: 1.0000 - val_recall: 1.0000\n",
      "Epoch 328/500\n",
      "\u001b[1m15/15\u001b[0m \u001b[32m━━━━━━━━━━━━━━━━━━━━\u001b[0m\u001b[37m\u001b[0m \u001b[1m0s\u001b[0m 9ms/step - accuracy: 0.9494 - auc: 0.9963 - loss: 0.1262 - precision: 0.9494 - recall: 0.9494 - val_accuracy: 1.0000 - val_auc: 1.0000 - val_loss: 8.1348e-05 - val_precision: 1.0000 - val_recall: 1.0000\n",
      "Epoch 329/500\n",
      "\u001b[1m15/15\u001b[0m \u001b[32m━━━━━━━━━━━━━━━━━━━━\u001b[0m\u001b[37m\u001b[0m \u001b[1m0s\u001b[0m 9ms/step - accuracy: 1.0000 - auc: 1.0000 - loss: 0.0274 - precision: 1.0000 - recall: 0.9964 - val_accuracy: 1.0000 - val_auc: 1.0000 - val_loss: 3.5288e-05 - val_precision: 1.0000 - val_recall: 1.0000\n",
      "Epoch 330/500\n",
      "\u001b[1m15/15\u001b[0m \u001b[32m━━━━━━━━━━━━━━━━━━━━\u001b[0m\u001b[37m\u001b[0m \u001b[1m0s\u001b[0m 11ms/step - accuracy: 0.9978 - auc: 1.0000 - loss: 0.0246 - precision: 0.9978 - recall: 0.9978 - val_accuracy: 1.0000 - val_auc: 1.0000 - val_loss: 2.6390e-05 - val_precision: 1.0000 - val_recall: 1.0000\n",
      "Epoch 331/500\n",
      "\u001b[1m15/15\u001b[0m \u001b[32m━━━━━━━━━━━━━━━━━━━━\u001b[0m\u001b[37m\u001b[0m \u001b[1m0s\u001b[0m 10ms/step - accuracy: 0.9917 - auc: 0.9999 - loss: 0.0205 - precision: 0.9917 - recall: 0.9917 - val_accuracy: 1.0000 - val_auc: 1.0000 - val_loss: 2.9187e-05 - val_precision: 1.0000 - val_recall: 1.0000\n",
      "Epoch 332/500\n",
      "\u001b[1m15/15\u001b[0m \u001b[32m━━━━━━━━━━━━━━━━━━━━\u001b[0m\u001b[37m\u001b[0m \u001b[1m0s\u001b[0m 10ms/step - accuracy: 0.9864 - auc: 0.9954 - loss: 0.0913 - precision: 0.9864 - recall: 0.9864 - val_accuracy: 1.0000 - val_auc: 1.0000 - val_loss: 6.7924e-05 - val_precision: 1.0000 - val_recall: 1.0000\n",
      "Epoch 333/500\n",
      "\u001b[1m15/15\u001b[0m \u001b[32m━━━━━━━━━━━━━━━━━━━━\u001b[0m\u001b[37m\u001b[0m \u001b[1m0s\u001b[0m 10ms/step - accuracy: 1.0000 - auc: 1.0000 - loss: 0.0245 - precision: 1.0000 - recall: 1.0000 - val_accuracy: 1.0000 - val_auc: 1.0000 - val_loss: 7.8395e-05 - val_precision: 1.0000 - val_recall: 1.0000\n",
      "Epoch 334/500\n",
      "\u001b[1m15/15\u001b[0m \u001b[32m━━━━━━━━━━━━━━━━━━━━\u001b[0m\u001b[37m\u001b[0m \u001b[1m0s\u001b[0m 9ms/step - accuracy: 0.9835 - auc: 0.9990 - loss: 0.0588 - precision: 0.9835 - recall: 0.9835 - val_accuracy: 1.0000 - val_auc: 1.0000 - val_loss: 6.3069e-05 - val_precision: 1.0000 - val_recall: 1.0000\n",
      "Epoch 335/500\n",
      "\u001b[1m15/15\u001b[0m \u001b[32m━━━━━━━━━━━━━━━━━━━━\u001b[0m\u001b[37m\u001b[0m \u001b[1m0s\u001b[0m 9ms/step - accuracy: 0.9780 - auc: 0.9981 - loss: 0.0666 - precision: 0.9780 - recall: 0.9780 - val_accuracy: 1.0000 - val_auc: 1.0000 - val_loss: 4.7008e-05 - val_precision: 1.0000 - val_recall: 1.0000\n",
      "Epoch 336/500\n",
      "\u001b[1m15/15\u001b[0m \u001b[32m━━━━━━━━━━━━━━━━━━━━\u001b[0m\u001b[37m\u001b[0m \u001b[1m0s\u001b[0m 11ms/step - accuracy: 1.0000 - auc: 1.0000 - loss: 0.0255 - precision: 1.0000 - recall: 1.0000 - val_accuracy: 1.0000 - val_auc: 1.0000 - val_loss: 4.0367e-05 - val_precision: 1.0000 - val_recall: 1.0000\n",
      "Epoch 337/500\n",
      "\u001b[1m15/15\u001b[0m \u001b[32m━━━━━━━━━━━━━━━━━━━━\u001b[0m\u001b[37m\u001b[0m \u001b[1m0s\u001b[0m 9ms/step - accuracy: 0.9736 - auc: 0.9991 - loss: 0.0489 - precision: 0.9736 - recall: 0.9736 - val_accuracy: 1.0000 - val_auc: 1.0000 - val_loss: 3.0308e-05 - val_precision: 1.0000 - val_recall: 1.0000\n",
      "Epoch 338/500\n",
      "\u001b[1m15/15\u001b[0m \u001b[32m━━━━━━━━━━━━━━━━━━━━\u001b[0m\u001b[37m\u001b[0m \u001b[1m0s\u001b[0m 10ms/step - accuracy: 0.9841 - auc: 0.9989 - loss: 0.0465 - precision: 0.9841 - recall: 0.9841 - val_accuracy: 1.0000 - val_auc: 1.0000 - val_loss: 2.0240e-05 - val_precision: 1.0000 - val_recall: 1.0000\n",
      "Epoch 339/500\n",
      "\u001b[1m15/15\u001b[0m \u001b[32m━━━━━━━━━━━━━━━━━━━━\u001b[0m\u001b[37m\u001b[0m \u001b[1m0s\u001b[0m 11ms/step - accuracy: 0.9879 - auc: 0.9994 - loss: 0.0477 - precision: 0.9879 - recall: 0.9879 - val_accuracy: 1.0000 - val_auc: 1.0000 - val_loss: 2.2513e-05 - val_precision: 1.0000 - val_recall: 1.0000\n",
      "Epoch 340/500\n",
      "\u001b[1m15/15\u001b[0m \u001b[32m━━━━━━━━━━━━━━━━━━━━\u001b[0m\u001b[37m\u001b[0m \u001b[1m0s\u001b[0m 10ms/step - accuracy: 0.9938 - auc: 1.0000 - loss: 0.0293 - precision: 0.9938 - recall: 0.9938 - val_accuracy: 1.0000 - val_auc: 1.0000 - val_loss: 2.4436e-05 - val_precision: 1.0000 - val_recall: 1.0000\n",
      "Epoch 341/500\n",
      "\u001b[1m15/15\u001b[0m \u001b[32m━━━━━━━━━━━━━━━━━━━━\u001b[0m\u001b[37m\u001b[0m \u001b[1m0s\u001b[0m 10ms/step - accuracy: 0.9853 - auc: 0.9988 - loss: 0.0562 - precision: 0.9853 - recall: 0.9853 - val_accuracy: 1.0000 - val_auc: 1.0000 - val_loss: 2.2704e-05 - val_precision: 1.0000 - val_recall: 1.0000\n",
      "Epoch 342/500\n",
      "\u001b[1m15/15\u001b[0m \u001b[32m━━━━━━━━━━━━━━━━━━━━\u001b[0m\u001b[37m\u001b[0m \u001b[1m0s\u001b[0m 10ms/step - accuracy: 0.9569 - auc: 0.9986 - loss: 0.0622 - precision: 0.9569 - recall: 0.9569 - val_accuracy: 1.0000 - val_auc: 1.0000 - val_loss: 1.9685e-05 - val_precision: 1.0000 - val_recall: 1.0000\n",
      "Epoch 343/500\n",
      "\u001b[1m15/15\u001b[0m \u001b[32m━━━━━━━━━━━━━━━━━━━━\u001b[0m\u001b[37m\u001b[0m \u001b[1m0s\u001b[0m 10ms/step - accuracy: 0.9790 - auc: 0.9996 - loss: 0.0382 - precision: 0.9790 - recall: 0.9790 - val_accuracy: 1.0000 - val_auc: 1.0000 - val_loss: 3.0339e-05 - val_precision: 1.0000 - val_recall: 1.0000\n",
      "Epoch 344/500\n",
      "\u001b[1m15/15\u001b[0m \u001b[32m━━━━━━━━━━━━━━━━━━━━\u001b[0m\u001b[37m\u001b[0m \u001b[1m0s\u001b[0m 10ms/step - accuracy: 0.9948 - auc: 1.0000 - loss: 0.0273 - precision: 0.9948 - recall: 0.9948 - val_accuracy: 1.0000 - val_auc: 1.0000 - val_loss: 2.0511e-05 - val_precision: 1.0000 - val_recall: 1.0000\n",
      "Epoch 345/500\n",
      "\u001b[1m15/15\u001b[0m \u001b[32m━━━━━━━━━━━━━━━━━━━━\u001b[0m\u001b[37m\u001b[0m \u001b[1m0s\u001b[0m 10ms/step - accuracy: 0.9673 - auc: 0.9989 - loss: 0.0578 - precision: 0.9673 - recall: 0.9673 - val_accuracy: 1.0000 - val_auc: 1.0000 - val_loss: 2.4683e-05 - val_precision: 1.0000 - val_recall: 1.0000\n",
      "Epoch 346/500\n",
      "\u001b[1m15/15\u001b[0m \u001b[32m━━━━━━━━━━━━━━━━━━━━\u001b[0m\u001b[37m\u001b[0m \u001b[1m0s\u001b[0m 10ms/step - accuracy: 0.9902 - auc: 0.9998 - loss: 0.0214 - precision: 0.9902 - recall: 0.9902 - val_accuracy: 1.0000 - val_auc: 1.0000 - val_loss: 2.7242e-05 - val_precision: 1.0000 - val_recall: 1.0000\n",
      "Epoch 347/500\n",
      "\u001b[1m15/15\u001b[0m \u001b[32m━━━━━━━━━━━━━━━━━━━━\u001b[0m\u001b[37m\u001b[0m \u001b[1m0s\u001b[0m 10ms/step - accuracy: 0.9906 - auc: 0.9998 - loss: 0.0334 - precision: 0.9906 - recall: 0.9906 - val_accuracy: 1.0000 - val_auc: 1.0000 - val_loss: 2.7997e-05 - val_precision: 1.0000 - val_recall: 1.0000\n",
      "Epoch 348/500\n",
      "\u001b[1m15/15\u001b[0m \u001b[32m━━━━━━━━━━━━━━━━━━━━\u001b[0m\u001b[37m\u001b[0m \u001b[1m0s\u001b[0m 10ms/step - accuracy: 1.0000 - auc: 1.0000 - loss: 0.0241 - precision: 1.0000 - recall: 1.0000 - val_accuracy: 1.0000 - val_auc: 1.0000 - val_loss: 2.8831e-05 - val_precision: 1.0000 - val_recall: 1.0000\n",
      "Epoch 349/500\n",
      "\u001b[1m15/15\u001b[0m \u001b[32m━━━━━━━━━━━━━━━━━━━━\u001b[0m\u001b[37m\u001b[0m \u001b[1m0s\u001b[0m 10ms/step - accuracy: 0.9990 - auc: 1.0000 - loss: 0.0167 - precision: 0.9990 - recall: 0.9990 - val_accuracy: 1.0000 - val_auc: 1.0000 - val_loss: 2.5088e-05 - val_precision: 1.0000 - val_recall: 1.0000\n",
      "Epoch 350/500\n",
      "\u001b[1m15/15\u001b[0m \u001b[32m━━━━━━━━━━━━━━━━━━━━\u001b[0m\u001b[37m\u001b[0m \u001b[1m0s\u001b[0m 10ms/step - accuracy: 0.9948 - auc: 1.0000 - loss: 0.0108 - precision: 0.9948 - recall: 0.9948 - val_accuracy: 1.0000 - val_auc: 1.0000 - val_loss: 3.0078e-05 - val_precision: 1.0000 - val_recall: 1.0000\n",
      "Epoch 351/500\n",
      "\u001b[1m15/15\u001b[0m \u001b[32m━━━━━━━━━━━━━━━━━━━━\u001b[0m\u001b[37m\u001b[0m \u001b[1m0s\u001b[0m 11ms/step - accuracy: 0.9938 - auc: 1.0000 - loss: 0.0138 - precision: 0.9938 - recall: 0.9938 - val_accuracy: 1.0000 - val_auc: 1.0000 - val_loss: 2.1536e-05 - val_precision: 1.0000 - val_recall: 1.0000\n",
      "Epoch 352/500\n",
      "\u001b[1m15/15\u001b[0m \u001b[32m━━━━━━━━━━━━━━━━━━━━\u001b[0m\u001b[37m\u001b[0m \u001b[1m0s\u001b[0m 9ms/step - accuracy: 1.0000 - auc: 1.0000 - loss: 0.0094 - precision: 1.0000 - recall: 1.0000 - val_accuracy: 1.0000 - val_auc: 1.0000 - val_loss: 1.6736e-05 - val_precision: 1.0000 - val_recall: 1.0000\n",
      "Epoch 353/500\n",
      "\u001b[1m15/15\u001b[0m \u001b[32m━━━━━━━━━━━━━━━━━━━━\u001b[0m\u001b[37m\u001b[0m \u001b[1m0s\u001b[0m 10ms/step - accuracy: 0.9990 - auc: 0.9999 - loss: 0.0142 - precision: 0.9990 - recall: 0.9990 - val_accuracy: 1.0000 - val_auc: 1.0000 - val_loss: 1.4869e-05 - val_precision: 1.0000 - val_recall: 1.0000\n",
      "Epoch 354/500\n",
      "\u001b[1m15/15\u001b[0m \u001b[32m━━━━━━━━━━━━━━━━━━━━\u001b[0m\u001b[37m\u001b[0m \u001b[1m0s\u001b[0m 10ms/step - accuracy: 0.9990 - auc: 0.9992 - loss: 0.0105 - precision: 0.9990 - recall: 0.9990 - val_accuracy: 1.0000 - val_auc: 1.0000 - val_loss: 1.6061e-05 - val_precision: 1.0000 - val_recall: 1.0000\n",
      "Epoch 355/500\n",
      "\u001b[1m15/15\u001b[0m \u001b[32m━━━━━━━━━━━━━━━━━━━━\u001b[0m\u001b[37m\u001b[0m \u001b[1m0s\u001b[0m 10ms/step - accuracy: 0.9868 - auc: 0.9991 - loss: 0.0425 - precision: 0.9868 - recall: 0.9868 - val_accuracy: 1.0000 - val_auc: 1.0000 - val_loss: 1.3443e-04 - val_precision: 1.0000 - val_recall: 1.0000\n",
      "Epoch 356/500\n",
      "\u001b[1m15/15\u001b[0m \u001b[32m━━━━━━━━━━━━━━━━━━━━\u001b[0m\u001b[37m\u001b[0m \u001b[1m0s\u001b[0m 11ms/step - accuracy: 0.9767 - auc: 0.9988 - loss: 0.0533 - precision: 0.9767 - recall: 0.9767 - val_accuracy: 1.0000 - val_auc: 1.0000 - val_loss: 8.7940e-05 - val_precision: 1.0000 - val_recall: 1.0000\n",
      "Epoch 357/500\n",
      "\u001b[1m15/15\u001b[0m \u001b[32m━━━━━━━━━━━━━━━━━━━━\u001b[0m\u001b[37m\u001b[0m \u001b[1m0s\u001b[0m 10ms/step - accuracy: 0.9663 - auc: 0.9990 - loss: 0.0568 - precision: 0.9663 - recall: 0.9663 - val_accuracy: 0.8667 - val_auc: 0.9867 - val_loss: 0.3431 - val_precision: 0.8667 - val_recall: 0.8667\n",
      "Epoch 358/500\n",
      "\u001b[1m15/15\u001b[0m \u001b[32m━━━━━━━━━━━━━━━━━━━━\u001b[0m\u001b[37m\u001b[0m \u001b[1m0s\u001b[0m 10ms/step - accuracy: 0.9937 - auc: 0.9998 - loss: 0.0316 - precision: 0.9937 - recall: 0.9937 - val_accuracy: 0.9333 - val_auc: 0.9933 - val_loss: 0.1286 - val_precision: 0.9333 - val_recall: 0.9333\n",
      "Epoch 359/500\n",
      "\u001b[1m15/15\u001b[0m \u001b[32m━━━━━━━━━━━━━━━━━━━━\u001b[0m\u001b[37m\u001b[0m \u001b[1m0s\u001b[0m 10ms/step - accuracy: 0.9937 - auc: 0.9996 - loss: 0.0381 - precision: 0.9937 - recall: 0.9937 - val_accuracy: 1.0000 - val_auc: 1.0000 - val_loss: 0.0026 - val_precision: 1.0000 - val_recall: 1.0000\n",
      "Epoch 360/500\n",
      "\u001b[1m15/15\u001b[0m \u001b[32m━━━━━━━━━━━━━━━━━━━━\u001b[0m\u001b[37m\u001b[0m \u001b[1m0s\u001b[0m 10ms/step - accuracy: 0.9964 - auc: 0.9975 - loss: 0.0406 - precision: 0.9964 - recall: 0.9964 - val_accuracy: 1.0000 - val_auc: 1.0000 - val_loss: 4.9347e-05 - val_precision: 1.0000 - val_recall: 1.0000\n",
      "Epoch 361/500\n",
      "\u001b[1m15/15\u001b[0m \u001b[32m━━━━━━━━━━━━━━━━━━━━\u001b[0m\u001b[37m\u001b[0m \u001b[1m0s\u001b[0m 10ms/step - accuracy: 0.9827 - auc: 0.9978 - loss: 0.0817 - precision: 0.9827 - recall: 0.9827 - val_accuracy: 1.0000 - val_auc: 1.0000 - val_loss: 4.1886e-05 - val_precision: 1.0000 - val_recall: 1.0000\n",
      "Epoch 362/500\n",
      "\u001b[1m15/15\u001b[0m \u001b[32m━━━━━━━━━━━━━━━━━━━━\u001b[0m\u001b[37m\u001b[0m \u001b[1m0s\u001b[0m 10ms/step - accuracy: 0.9821 - auc: 0.9996 - loss: 0.0340 - precision: 0.9821 - recall: 0.9821 - val_accuracy: 1.0000 - val_auc: 1.0000 - val_loss: 6.0814e-05 - val_precision: 1.0000 - val_recall: 1.0000\n",
      "Epoch 363/500\n",
      "\u001b[1m15/15\u001b[0m \u001b[32m━━━━━━━━━━━━━━━━━━━━\u001b[0m\u001b[37m\u001b[0m \u001b[1m0s\u001b[0m 10ms/step - accuracy: 0.9990 - auc: 1.0000 - loss: 0.0115 - precision: 0.9990 - recall: 0.9990 - val_accuracy: 1.0000 - val_auc: 1.0000 - val_loss: 7.0909e-05 - val_precision: 1.0000 - val_recall: 1.0000\n",
      "Epoch 364/500\n",
      "\u001b[1m15/15\u001b[0m \u001b[32m━━━━━━━━━━━━━━━━━━━━\u001b[0m\u001b[37m\u001b[0m \u001b[1m0s\u001b[0m 11ms/step - accuracy: 0.9903 - auc: 0.9998 - loss: 0.0417 - precision: 0.9946 - recall: 0.9903 - val_accuracy: 1.0000 - val_auc: 1.0000 - val_loss: 2.2339e-05 - val_precision: 1.0000 - val_recall: 1.0000\n",
      "Epoch 365/500\n",
      "\u001b[1m15/15\u001b[0m \u001b[32m━━━━━━━━━━━━━━━━━━━━\u001b[0m\u001b[37m\u001b[0m \u001b[1m0s\u001b[0m 9ms/step - accuracy: 0.9655 - auc: 0.9987 - loss: 0.0785 - precision: 0.9655 - recall: 0.9655 - val_accuracy: 1.0000 - val_auc: 1.0000 - val_loss: 2.3117e-05 - val_precision: 1.0000 - val_recall: 1.0000\n",
      "Epoch 366/500\n",
      "\u001b[1m15/15\u001b[0m \u001b[32m━━━━━━━━━━━━━━━━━━━━\u001b[0m\u001b[37m\u001b[0m \u001b[1m0s\u001b[0m 10ms/step - accuracy: 0.9917 - auc: 0.9996 - loss: 0.0371 - precision: 0.9917 - recall: 0.9917 - val_accuracy: 1.0000 - val_auc: 1.0000 - val_loss: 3.6863e-05 - val_precision: 1.0000 - val_recall: 1.0000\n",
      "Epoch 367/500\n",
      "\u001b[1m15/15\u001b[0m \u001b[32m━━━━━━━━━━━━━━━━━━━━\u001b[0m\u001b[37m\u001b[0m \u001b[1m0s\u001b[0m 10ms/step - accuracy: 0.9853 - auc: 0.9998 - loss: 0.0346 - precision: 0.9853 - recall: 0.9853 - val_accuracy: 1.0000 - val_auc: 1.0000 - val_loss: 1.3184e-05 - val_precision: 1.0000 - val_recall: 1.0000\n",
      "Epoch 368/500\n",
      "\u001b[1m15/15\u001b[0m \u001b[32m━━━━━━━━━━━━━━━━━━━━\u001b[0m\u001b[37m\u001b[0m \u001b[1m0s\u001b[0m 10ms/step - accuracy: 0.9990 - auc: 1.0000 - loss: 0.0160 - precision: 0.9990 - recall: 0.9990 - val_accuracy: 1.0000 - val_auc: 1.0000 - val_loss: 1.3645e-05 - val_precision: 1.0000 - val_recall: 1.0000\n",
      "Epoch 369/500\n",
      "\u001b[1m15/15\u001b[0m \u001b[32m━━━━━━━━━━━━━━━━━━━━\u001b[0m\u001b[37m\u001b[0m \u001b[1m0s\u001b[0m 9ms/step - accuracy: 1.0000 - auc: 1.0000 - loss: 0.0156 - precision: 1.0000 - recall: 1.0000 - val_accuracy: 1.0000 - val_auc: 1.0000 - val_loss: 1.4527e-05 - val_precision: 1.0000 - val_recall: 1.0000\n",
      "Epoch 370/500\n",
      "\u001b[1m15/15\u001b[0m \u001b[32m━━━━━━━━━━━━━━━━━━━━\u001b[0m\u001b[37m\u001b[0m \u001b[1m0s\u001b[0m 11ms/step - accuracy: 1.0000 - auc: 1.0000 - loss: 0.0123 - precision: 1.0000 - recall: 1.0000 - val_accuracy: 1.0000 - val_auc: 1.0000 - val_loss: 6.8504e-06 - val_precision: 1.0000 - val_recall: 1.0000\n",
      "Epoch 371/500\n",
      "\u001b[1m15/15\u001b[0m \u001b[32m━━━━━━━━━━━━━━━━━━━━\u001b[0m\u001b[37m\u001b[0m \u001b[1m0s\u001b[0m 10ms/step - accuracy: 0.9853 - auc: 0.9880 - loss: 0.1216 - precision: 0.9853 - recall: 0.9853 - val_accuracy: 1.0000 - val_auc: 1.0000 - val_loss: 2.3029e-05 - val_precision: 1.0000 - val_recall: 1.0000\n",
      "Epoch 372/500\n",
      "\u001b[1m15/15\u001b[0m \u001b[32m━━━━━━━━━━━━━━━━━━━━\u001b[0m\u001b[37m\u001b[0m \u001b[1m0s\u001b[0m 11ms/step - accuracy: 0.9846 - auc: 0.9998 - loss: 0.0222 - precision: 0.9846 - recall: 0.9846 - val_accuracy: 1.0000 - val_auc: 1.0000 - val_loss: 1.7125e-05 - val_precision: 1.0000 - val_recall: 1.0000\n",
      "Epoch 373/500\n",
      "\u001b[1m15/15\u001b[0m \u001b[32m━━━━━━━━━━━━━━━━━━━━\u001b[0m\u001b[37m\u001b[0m \u001b[1m0s\u001b[0m 9ms/step - accuracy: 1.0000 - auc: 1.0000 - loss: 0.0106 - precision: 1.0000 - recall: 1.0000 - val_accuracy: 1.0000 - val_auc: 1.0000 - val_loss: 1.7984e-05 - val_precision: 1.0000 - val_recall: 1.0000\n",
      "Epoch 374/500\n",
      "\u001b[1m15/15\u001b[0m \u001b[32m━━━━━━━━━━━━━━━━━━━━\u001b[0m\u001b[37m\u001b[0m \u001b[1m0s\u001b[0m 10ms/step - accuracy: 1.0000 - auc: 1.0000 - loss: 0.0252 - precision: 1.0000 - recall: 1.0000 - val_accuracy: 1.0000 - val_auc: 1.0000 - val_loss: 1.5934e-05 - val_precision: 1.0000 - val_recall: 1.0000\n",
      "Epoch 375/500\n",
      "\u001b[1m15/15\u001b[0m \u001b[32m━━━━━━━━━━━━━━━━━━━━\u001b[0m\u001b[37m\u001b[0m \u001b[1m0s\u001b[0m 10ms/step - accuracy: 1.0000 - auc: 1.0000 - loss: 0.0122 - precision: 1.0000 - recall: 1.0000 - val_accuracy: 1.0000 - val_auc: 1.0000 - val_loss: 1.1857e-05 - val_precision: 1.0000 - val_recall: 1.0000\n",
      "Epoch 376/500\n",
      "\u001b[1m15/15\u001b[0m \u001b[32m━━━━━━━━━━━━━━━━━━━━\u001b[0m\u001b[37m\u001b[0m \u001b[1m0s\u001b[0m 11ms/step - accuracy: 0.9842 - auc: 0.9877 - loss: 0.1011 - precision: 0.9842 - recall: 0.9842 - val_accuracy: 1.0000 - val_auc: 1.0000 - val_loss: 1.3303e-05 - val_precision: 1.0000 - val_recall: 1.0000\n",
      "Epoch 377/500\n",
      "\u001b[1m15/15\u001b[0m \u001b[32m━━━━━━━━━━━━━━━━━━━━\u001b[0m\u001b[37m\u001b[0m \u001b[1m0s\u001b[0m 10ms/step - accuracy: 0.9536 - auc: 0.9968 - loss: 0.1363 - precision: 0.9536 - recall: 0.9536 - val_accuracy: 1.0000 - val_auc: 1.0000 - val_loss: 2.2767e-05 - val_precision: 1.0000 - val_recall: 1.0000\n",
      "Epoch 378/500\n",
      "\u001b[1m15/15\u001b[0m \u001b[32m━━━━━━━━━━━━━━━━━━━━\u001b[0m\u001b[37m\u001b[0m \u001b[1m0s\u001b[0m 10ms/step - accuracy: 1.0000 - auc: 1.0000 - loss: 0.0056 - precision: 1.0000 - recall: 1.0000 - val_accuracy: 1.0000 - val_auc: 1.0000 - val_loss: 2.6637e-05 - val_precision: 1.0000 - val_recall: 1.0000\n",
      "Epoch 379/500\n",
      "\u001b[1m15/15\u001b[0m \u001b[32m━━━━━━━━━━━━━━━━━━━━\u001b[0m\u001b[37m\u001b[0m \u001b[1m0s\u001b[0m 10ms/step - accuracy: 0.9853 - auc: 0.9998 - loss: 0.0269 - precision: 0.9853 - recall: 0.9853 - val_accuracy: 1.0000 - val_auc: 1.0000 - val_loss: 1.9637e-05 - val_precision: 1.0000 - val_recall: 1.0000\n",
      "Epoch 380/500\n",
      "\u001b[1m15/15\u001b[0m \u001b[32m━━━━━━━━━━━━━━━━━━━━\u001b[0m\u001b[37m\u001b[0m \u001b[1m0s\u001b[0m 10ms/step - accuracy: 0.9825 - auc: 0.9994 - loss: 0.0509 - precision: 0.9825 - recall: 0.9825 - val_accuracy: 1.0000 - val_auc: 1.0000 - val_loss: 3.8262e-05 - val_precision: 1.0000 - val_recall: 1.0000\n",
      "Epoch 381/500\n",
      "\u001b[1m15/15\u001b[0m \u001b[32m━━━━━━━━━━━━━━━━━━━━\u001b[0m\u001b[37m\u001b[0m \u001b[1m0s\u001b[0m 10ms/step - accuracy: 0.9842 - auc: 0.9998 - loss: 0.0239 - precision: 0.9842 - recall: 0.9842 - val_accuracy: 1.0000 - val_auc: 1.0000 - val_loss: 3.3207e-05 - val_precision: 1.0000 - val_recall: 1.0000\n",
      "Epoch 382/500\n",
      "\u001b[1m15/15\u001b[0m \u001b[32m━━━━━━━━━━━━━━━━━━━━\u001b[0m\u001b[37m\u001b[0m \u001b[1m0s\u001b[0m 10ms/step - accuracy: 1.0000 - auc: 1.0000 - loss: 0.0069 - precision: 1.0000 - recall: 1.0000 - val_accuracy: 1.0000 - val_auc: 1.0000 - val_loss: 1.6768e-05 - val_precision: 1.0000 - val_recall: 1.0000\n",
      "Epoch 383/500\n",
      "\u001b[1m15/15\u001b[0m \u001b[32m━━━━━━━━━━━━━━━━━━━━\u001b[0m\u001b[37m\u001b[0m \u001b[1m0s\u001b[0m 11ms/step - accuracy: 1.0000 - auc: 1.0000 - loss: 0.0090 - precision: 1.0000 - recall: 1.0000 - val_accuracy: 1.0000 - val_auc: 1.0000 - val_loss: 1.7388e-05 - val_precision: 1.0000 - val_recall: 1.0000\n",
      "Epoch 384/500\n",
      "\u001b[1m15/15\u001b[0m \u001b[32m━━━━━━━━━━━━━━━━━━━━\u001b[0m\u001b[37m\u001b[0m \u001b[1m0s\u001b[0m 9ms/step - accuracy: 1.0000 - auc: 1.0000 - loss: 0.0185 - precision: 1.0000 - recall: 1.0000 - val_accuracy: 1.0000 - val_auc: 1.0000 - val_loss: 1.3645e-05 - val_precision: 1.0000 - val_recall: 1.0000\n",
      "Epoch 385/500\n",
      "\u001b[1m15/15\u001b[0m \u001b[32m━━━━━━━━━━━━━━━━━━━━\u001b[0m\u001b[37m\u001b[0m \u001b[1m0s\u001b[0m 10ms/step - accuracy: 1.0000 - auc: 1.0000 - loss: 0.0030 - precision: 1.0000 - recall: 1.0000 - val_accuracy: 1.0000 - val_auc: 1.0000 - val_loss: 1.3240e-05 - val_precision: 1.0000 - val_recall: 1.0000\n",
      "Epoch 386/500\n",
      "\u001b[1m15/15\u001b[0m \u001b[32m━━━━━━━━━━━━━━━━━━━━\u001b[0m\u001b[37m\u001b[0m \u001b[1m0s\u001b[0m 10ms/step - accuracy: 0.9990 - auc: 1.0000 - loss: 0.0046 - precision: 0.9990 - recall: 0.9990 - val_accuracy: 1.0000 - val_auc: 1.0000 - val_loss: 1.1102e-05 - val_precision: 1.0000 - val_recall: 1.0000\n",
      "Epoch 387/500\n",
      "\u001b[1m15/15\u001b[0m \u001b[32m━━━━━━━━━━━━━━━━━━━━\u001b[0m\u001b[37m\u001b[0m \u001b[1m0s\u001b[0m 10ms/step - accuracy: 0.9667 - auc: 0.9851 - loss: 0.1522 - precision: 0.9667 - recall: 0.9667 - val_accuracy: 1.0000 - val_auc: 1.0000 - val_loss: 4.8702e-04 - val_precision: 1.0000 - val_recall: 1.0000\n",
      "Epoch 388/500\n",
      "\u001b[1m15/15\u001b[0m \u001b[32m━━━━━━━━━━━━━━━━━━━━\u001b[0m\u001b[37m\u001b[0m \u001b[1m0s\u001b[0m 10ms/step - accuracy: 0.9753 - auc: 0.9988 - loss: 0.0620 - precision: 0.9753 - recall: 0.9753 - val_accuracy: 1.0000 - val_auc: 1.0000 - val_loss: 1.9984e-04 - val_precision: 1.0000 - val_recall: 1.0000\n",
      "Epoch 389/500\n",
      "\u001b[1m15/15\u001b[0m \u001b[32m━━━━━━━━━━━━━━━━━━━━\u001b[0m\u001b[37m\u001b[0m \u001b[1m0s\u001b[0m 11ms/step - accuracy: 0.9990 - auc: 1.0000 - loss: 0.0205 - precision: 0.9990 - recall: 0.9990 - val_accuracy: 1.0000 - val_auc: 1.0000 - val_loss: 0.0010 - val_precision: 1.0000 - val_recall: 1.0000\n",
      "Epoch 390/500\n",
      "\u001b[1m15/15\u001b[0m \u001b[32m━━━━━━━━━━━━━━━━━━━━\u001b[0m\u001b[37m\u001b[0m \u001b[1m0s\u001b[0m 11ms/step - accuracy: 0.9832 - auc: 0.9998 - loss: 0.0364 - precision: 0.9832 - recall: 0.9832 - val_accuracy: 1.0000 - val_auc: 1.0000 - val_loss: 3.2065e-04 - val_precision: 1.0000 - val_recall: 1.0000\n",
      "Epoch 391/500\n",
      "\u001b[1m15/15\u001b[0m \u001b[32m━━━━━━━━━━━━━━━━━━━━\u001b[0m\u001b[37m\u001b[0m \u001b[1m0s\u001b[0m 9ms/step - accuracy: 0.9736 - auc: 0.9987 - loss: 0.0727 - precision: 0.9736 - recall: 0.9736 - val_accuracy: 1.0000 - val_auc: 1.0000 - val_loss: 9.6463e-05 - val_precision: 1.0000 - val_recall: 1.0000\n",
      "Epoch 392/500\n",
      "\u001b[1m15/15\u001b[0m \u001b[32m━━━━━━━━━━━━━━━━━━━━\u001b[0m\u001b[37m\u001b[0m \u001b[1m0s\u001b[0m 10ms/step - accuracy: 1.0000 - auc: 1.0000 - loss: 0.0085 - precision: 1.0000 - recall: 1.0000 - val_accuracy: 1.0000 - val_auc: 1.0000 - val_loss: 7.9620e-05 - val_precision: 1.0000 - val_recall: 1.0000\n",
      "Epoch 393/500\n",
      "\u001b[1m15/15\u001b[0m \u001b[32m━━━━━━━━━━━━━━━━━━━━\u001b[0m\u001b[37m\u001b[0m \u001b[1m0s\u001b[0m 10ms/step - accuracy: 0.9725 - auc: 0.9985 - loss: 0.0716 - precision: 0.9725 - recall: 0.9725 - val_accuracy: 1.0000 - val_auc: 1.0000 - val_loss: 5.3205e-05 - val_precision: 1.0000 - val_recall: 1.0000\n",
      "Epoch 394/500\n",
      "\u001b[1m15/15\u001b[0m \u001b[32m━━━━━━━━━━━━━━━━━━━━\u001b[0m\u001b[37m\u001b[0m \u001b[1m0s\u001b[0m 10ms/step - accuracy: 0.9932 - auc: 0.9999 - loss: 0.0234 - precision: 0.9932 - recall: 0.9932 - val_accuracy: 1.0000 - val_auc: 1.0000 - val_loss: 3.0013e-05 - val_precision: 1.0000 - val_recall: 1.0000\n",
      "Epoch 395/500\n",
      "\u001b[1m15/15\u001b[0m \u001b[32m━━━━━━━━━━━━━━━━━━━━\u001b[0m\u001b[37m\u001b[0m \u001b[1m0s\u001b[0m 9ms/step - accuracy: 0.9736 - auc: 0.9992 - loss: 0.0449 - precision: 0.9736 - recall: 0.9736 - val_accuracy: 1.0000 - val_auc: 1.0000 - val_loss: 3.3017e-05 - val_precision: 1.0000 - val_recall: 1.0000\n",
      "Epoch 396/500\n",
      "\u001b[1m15/15\u001b[0m \u001b[32m━━━━━━━━━━━━━━━━━━━━\u001b[0m\u001b[37m\u001b[0m \u001b[1m0s\u001b[0m 10ms/step - accuracy: 0.9814 - auc: 0.9996 - loss: 0.0390 - precision: 0.9814 - recall: 0.9814 - val_accuracy: 1.0000 - val_auc: 1.0000 - val_loss: 2.3339e-05 - val_precision: 1.0000 - val_recall: 1.0000\n",
      "Epoch 397/500\n",
      "\u001b[1m15/15\u001b[0m \u001b[32m━━━━━━━━━━━━━━━━━━━━\u001b[0m\u001b[37m\u001b[0m \u001b[1m0s\u001b[0m 11ms/step - accuracy: 0.9917 - auc: 0.9999 - loss: 0.0178 - precision: 0.9917 - recall: 0.9917 - val_accuracy: 1.0000 - val_auc: 1.0000 - val_loss: 6.2464e-06 - val_precision: 1.0000 - val_recall: 1.0000\n",
      "Epoch 398/500\n",
      "\u001b[1m15/15\u001b[0m \u001b[32m━━━━━━━━━━━━━━━━━━━━\u001b[0m\u001b[37m\u001b[0m \u001b[1m0s\u001b[0m 10ms/step - accuracy: 0.9853 - auc: 0.9998 - loss: 0.0184 - precision: 0.9853 - recall: 0.9853 - val_accuracy: 1.0000 - val_auc: 1.0000 - val_loss: 5.4120e-06 - val_precision: 1.0000 - val_recall: 1.0000\n",
      "Epoch 399/500\n",
      "\u001b[1m15/15\u001b[0m \u001b[32m━━━━━━━━━━━━━━━━━━━━\u001b[0m\u001b[37m\u001b[0m \u001b[1m0s\u001b[0m 10ms/step - accuracy: 0.9937 - auc: 0.9994 - loss: 0.0332 - precision: 0.9937 - recall: 0.9937 - val_accuracy: 1.0000 - val_auc: 1.0000 - val_loss: 1.4742e-05 - val_precision: 1.0000 - val_recall: 1.0000\n",
      "Epoch 400/500\n",
      "\u001b[1m15/15\u001b[0m \u001b[32m━━━━━━━━━━━━━━━━━━━━\u001b[0m\u001b[37m\u001b[0m \u001b[1m0s\u001b[0m 9ms/step - accuracy: 1.0000 - auc: 1.0000 - loss: 0.0111 - precision: 1.0000 - recall: 1.0000 - val_accuracy: 1.0000 - val_auc: 1.0000 - val_loss: 2.1543e-05 - val_precision: 1.0000 - val_recall: 1.0000\n",
      "Epoch 401/500\n",
      "\u001b[1m15/15\u001b[0m \u001b[32m━━━━━━━━━━━━━━━━━━━━\u001b[0m\u001b[37m\u001b[0m \u001b[1m0s\u001b[0m 10ms/step - accuracy: 1.0000 - auc: 1.0000 - loss: 0.0040 - precision: 1.0000 - recall: 1.0000 - val_accuracy: 1.0000 - val_auc: 1.0000 - val_loss: 2.6056e-05 - val_precision: 1.0000 - val_recall: 1.0000\n",
      "Epoch 402/500\n",
      "\u001b[1m15/15\u001b[0m \u001b[32m━━━━━━━━━━━━━━━━━━━━\u001b[0m\u001b[37m\u001b[0m \u001b[1m0s\u001b[0m 11ms/step - accuracy: 1.0000 - auc: 1.0000 - loss: 0.0028 - precision: 1.0000 - recall: 1.0000 - val_accuracy: 1.0000 - val_auc: 1.0000 - val_loss: 1.0562e-05 - val_precision: 1.0000 - val_recall: 1.0000\n",
      "Epoch 403/500\n",
      "\u001b[1m15/15\u001b[0m \u001b[32m━━━━━━━━━━━━━━━━━━━━\u001b[0m\u001b[37m\u001b[0m \u001b[1m0s\u001b[0m 11ms/step - accuracy: 0.9640 - auc: 0.9981 - loss: 0.1114 - precision: 0.9640 - recall: 0.9640 - val_accuracy: 1.0000 - val_auc: 1.0000 - val_loss: 0.0011 - val_precision: 1.0000 - val_recall: 1.0000\n",
      "Epoch 404/500\n",
      "\u001b[1m15/15\u001b[0m \u001b[32m━━━━━━━━━━━━━━━━━━━━\u001b[0m\u001b[37m\u001b[0m \u001b[1m0s\u001b[0m 10ms/step - accuracy: 0.9075 - auc: 0.9727 - loss: 0.2972 - precision: 0.9075 - recall: 0.9075 - val_accuracy: 1.0000 - val_auc: 1.0000 - val_loss: 0.0159 - val_precision: 1.0000 - val_recall: 1.0000\n",
      "Epoch 405/500\n",
      "\u001b[1m15/15\u001b[0m \u001b[32m━━━━━━━━━━━━━━━━━━━━\u001b[0m\u001b[37m\u001b[0m \u001b[1m0s\u001b[0m 11ms/step - accuracy: 0.9741 - auc: 0.9986 - loss: 0.0962 - precision: 0.9741 - recall: 0.9741 - val_accuracy: 0.9333 - val_auc: 0.9978 - val_loss: 0.1996 - val_precision: 0.9333 - val_recall: 0.9333\n",
      "Epoch 406/500\n",
      "\u001b[1m15/15\u001b[0m \u001b[32m━━━━━━━━━━━━━━━━━━━━\u001b[0m\u001b[37m\u001b[0m \u001b[1m0s\u001b[0m 9ms/step - accuracy: 0.9578 - auc: 0.9985 - loss: 0.0734 - precision: 0.9578 - recall: 0.9578 - val_accuracy: 0.8667 - val_auc: 0.9867 - val_loss: 0.1884 - val_precision: 0.8667 - val_recall: 0.8667\n",
      "Epoch 407/500\n",
      "\u001b[1m15/15\u001b[0m \u001b[32m━━━━━━━━━━━━━━━━━━━━\u001b[0m\u001b[37m\u001b[0m \u001b[1m0s\u001b[0m 11ms/step - accuracy: 0.9464 - auc: 0.9861 - loss: 0.1496 - precision: 0.9464 - recall: 0.9464 - val_accuracy: 1.0000 - val_auc: 1.0000 - val_loss: 0.0376 - val_precision: 1.0000 - val_recall: 1.0000\n",
      "Epoch 408/500\n",
      "\u001b[1m15/15\u001b[0m \u001b[32m━━━━━━━━━━━━━━━━━━━━\u001b[0m\u001b[37m\u001b[0m \u001b[1m0s\u001b[0m 9ms/step - accuracy: 0.9879 - auc: 0.9997 - loss: 0.0361 - precision: 0.9879 - recall: 0.9879 - val_accuracy: 1.0000 - val_auc: 1.0000 - val_loss: 2.2164e-04 - val_precision: 1.0000 - val_recall: 1.0000\n",
      "Epoch 409/500\n",
      "\u001b[1m15/15\u001b[0m \u001b[32m━━━━━━━━━━━━━━━━━━━━\u001b[0m\u001b[37m\u001b[0m \u001b[1m0s\u001b[0m 9ms/step - accuracy: 0.9830 - auc: 0.9998 - loss: 0.0369 - precision: 0.9830 - recall: 0.9830 - val_accuracy: 1.0000 - val_auc: 1.0000 - val_loss: 1.5964e-04 - val_precision: 1.0000 - val_recall: 1.0000\n",
      "Epoch 410/500\n",
      "\u001b[1m15/15\u001b[0m \u001b[32m━━━━━━━━━━━━━━━━━━━━\u001b[0m\u001b[37m\u001b[0m \u001b[1m0s\u001b[0m 11ms/step - accuracy: 1.0000 - auc: 1.0000 - loss: 0.0147 - precision: 1.0000 - recall: 1.0000 - val_accuracy: 1.0000 - val_auc: 1.0000 - val_loss: 1.4102e-04 - val_precision: 1.0000 - val_recall: 1.0000\n",
      "Epoch 411/500\n",
      "\u001b[1m15/15\u001b[0m \u001b[32m━━━━━━━━━━━━━━━━━━━━\u001b[0m\u001b[37m\u001b[0m \u001b[1m0s\u001b[0m 11ms/step - accuracy: 1.0000 - auc: 1.0000 - loss: 0.0242 - precision: 1.0000 - recall: 1.0000 - val_accuracy: 1.0000 - val_auc: 1.0000 - val_loss: 7.3639e-05 - val_precision: 1.0000 - val_recall: 1.0000\n",
      "Epoch 412/500\n",
      "\u001b[1m15/15\u001b[0m \u001b[32m━━━━━━━━━━━━━━━━━━━━\u001b[0m\u001b[37m\u001b[0m \u001b[1m0s\u001b[0m 9ms/step - accuracy: 1.0000 - auc: 1.0000 - loss: 0.0133 - precision: 1.0000 - recall: 1.0000 - val_accuracy: 1.0000 - val_auc: 1.0000 - val_loss: 3.8286e-05 - val_precision: 1.0000 - val_recall: 1.0000\n",
      "Epoch 413/500\n",
      "\u001b[1m15/15\u001b[0m \u001b[32m━━━━━━━━━━━━━━━━━━━━\u001b[0m\u001b[37m\u001b[0m \u001b[1m0s\u001b[0m 10ms/step - accuracy: 0.9927 - auc: 1.0000 - loss: 0.0134 - precision: 0.9927 - recall: 0.9927 - val_accuracy: 1.0000 - val_auc: 1.0000 - val_loss: 3.1890e-05 - val_precision: 1.0000 - val_recall: 1.0000\n",
      "Epoch 414/500\n",
      "\u001b[1m15/15\u001b[0m \u001b[32m━━━━━━━━━━━━━━━━━━━━\u001b[0m\u001b[37m\u001b[0m \u001b[1m0s\u001b[0m 10ms/step - accuracy: 0.9700 - auc: 0.9991 - loss: 0.0429 - precision: 0.9700 - recall: 0.9700 - val_accuracy: 1.0000 - val_auc: 1.0000 - val_loss: 2.5374e-05 - val_precision: 1.0000 - val_recall: 1.0000\n",
      "Epoch 415/500\n",
      "\u001b[1m15/15\u001b[0m \u001b[32m━━━━━━━━━━━━━━━━━━━━\u001b[0m\u001b[37m\u001b[0m \u001b[1m0s\u001b[0m 10ms/step - accuracy: 0.9990 - auc: 1.0000 - loss: 0.0052 - precision: 0.9990 - recall: 0.9990 - val_accuracy: 1.0000 - val_auc: 1.0000 - val_loss: 2.6359e-05 - val_precision: 1.0000 - val_recall: 1.0000\n",
      "Epoch 416/500\n",
      "\u001b[1m15/15\u001b[0m \u001b[32m━━━━━━━━━━━━━━━━━━━━\u001b[0m\u001b[37m\u001b[0m \u001b[1m0s\u001b[0m 11ms/step - accuracy: 1.0000 - auc: 1.0000 - loss: 0.0039 - precision: 1.0000 - recall: 1.0000 - val_accuracy: 1.0000 - val_auc: 1.0000 - val_loss: 2.8361e-05 - val_precision: 1.0000 - val_recall: 1.0000\n",
      "Epoch 417/500\n",
      "\u001b[1m15/15\u001b[0m \u001b[32m━━━━━━━━━━━━━━━━━━━━\u001b[0m\u001b[37m\u001b[0m \u001b[1m0s\u001b[0m 9ms/step - accuracy: 0.9825 - auc: 0.9938 - loss: 0.0795 - precision: 0.9825 - recall: 0.9825 - val_accuracy: 1.0000 - val_auc: 1.0000 - val_loss: 1.2293e-04 - val_precision: 1.0000 - val_recall: 1.0000\n",
      "Epoch 418/500\n",
      "\u001b[1m15/15\u001b[0m \u001b[32m━━━━━━━━━━━━━━━━━━━━\u001b[0m\u001b[37m\u001b[0m \u001b[1m0s\u001b[0m 10ms/step - accuracy: 0.9690 - auc: 0.9783 - loss: 0.1936 - precision: 0.9690 - recall: 0.9690 - val_accuracy: 1.0000 - val_auc: 1.0000 - val_loss: 4.9820e-05 - val_precision: 1.0000 - val_recall: 1.0000\n",
      "Epoch 419/500\n",
      "\u001b[1m15/15\u001b[0m \u001b[32m━━━━━━━━━━━━━━━━━━━━\u001b[0m\u001b[37m\u001b[0m \u001b[1m0s\u001b[0m 10ms/step - accuracy: 0.9963 - auc: 0.9999 - loss: 0.0303 - precision: 0.9963 - recall: 0.9963 - val_accuracy: 1.0000 - val_auc: 1.0000 - val_loss: 3.8262e-05 - val_precision: 1.0000 - val_recall: 1.0000\n",
      "Epoch 420/500\n",
      "\u001b[1m15/15\u001b[0m \u001b[32m━━━━━━━━━━━━━━━━━━━━\u001b[0m\u001b[37m\u001b[0m \u001b[1m0s\u001b[0m 11ms/step - accuracy: 0.9990 - auc: 1.0000 - loss: 0.0226 - precision: 0.9990 - recall: 0.9990 - val_accuracy: 1.0000 - val_auc: 1.0000 - val_loss: 2.8957e-05 - val_precision: 1.0000 - val_recall: 1.0000\n",
      "Epoch 421/500\n",
      "\u001b[1m15/15\u001b[0m \u001b[32m━━━━━━━━━━━━━━━━━━━━\u001b[0m\u001b[37m\u001b[0m \u001b[1m0s\u001b[0m 10ms/step - accuracy: 0.9700 - auc: 0.9992 - loss: 0.0412 - precision: 0.9700 - recall: 0.9700 - val_accuracy: 1.0000 - val_auc: 1.0000 - val_loss: 2.5318e-05 - val_precision: 1.0000 - val_recall: 1.0000\n",
      "Epoch 422/500\n",
      "\u001b[1m15/15\u001b[0m \u001b[32m━━━━━━━━━━━━━━━━━━━━\u001b[0m\u001b[37m\u001b[0m \u001b[1m0s\u001b[0m 10ms/step - accuracy: 1.0000 - auc: 1.0000 - loss: 0.0160 - precision: 1.0000 - recall: 1.0000 - val_accuracy: 1.0000 - val_auc: 1.0000 - val_loss: 1.7547e-05 - val_precision: 1.0000 - val_recall: 1.0000\n",
      "Epoch 423/500\n",
      "\u001b[1m15/15\u001b[0m \u001b[32m━━━━━━━━━━━━━━━━━━━━\u001b[0m\u001b[37m\u001b[0m \u001b[1m0s\u001b[0m 10ms/step - accuracy: 0.9725 - auc: 0.9991 - loss: 0.0522 - precision: 0.9725 - recall: 0.9725 - val_accuracy: 1.0000 - val_auc: 1.0000 - val_loss: 6.0318e-06 - val_precision: 1.0000 - val_recall: 1.0000\n",
      "Epoch 424/500\n",
      "\u001b[1m15/15\u001b[0m \u001b[32m━━━━━━━━━━━━━━━━━━━━\u001b[0m\u001b[37m\u001b[0m \u001b[1m0s\u001b[0m 9ms/step - accuracy: 0.9938 - auc: 0.9993 - loss: 0.0430 - precision: 0.9938 - recall: 0.9938 - val_accuracy: 1.0000 - val_auc: 1.0000 - val_loss: 6.5881e-06 - val_precision: 1.0000 - val_recall: 1.0000\n",
      "Epoch 425/500\n",
      "\u001b[1m15/15\u001b[0m \u001b[32m━━━━━━━━━━━━━━━━━━━━\u001b[0m\u001b[37m\u001b[0m \u001b[1m0s\u001b[0m 11ms/step - accuracy: 0.9865 - auc: 0.9997 - loss: 0.0270 - precision: 0.9865 - recall: 0.9865 - val_accuracy: 1.0000 - val_auc: 1.0000 - val_loss: 5.2690e-06 - val_precision: 1.0000 - val_recall: 1.0000\n",
      "Epoch 426/500\n",
      "\u001b[1m15/15\u001b[0m \u001b[32m━━━━━━━━━━━━━━━━━━━━\u001b[0m\u001b[37m\u001b[0m \u001b[1m0s\u001b[0m 10ms/step - accuracy: 0.9946 - auc: 0.9998 - loss: 0.0196 - precision: 0.9946 - recall: 0.9946 - val_accuracy: 1.0000 - val_auc: 1.0000 - val_loss: 4.4186e-06 - val_precision: 1.0000 - val_recall: 1.0000\n",
      "Epoch 427/500\n",
      "\u001b[1m15/15\u001b[0m \u001b[32m━━━━━━━━━━━━━━━━━━━━\u001b[0m\u001b[37m\u001b[0m \u001b[1m0s\u001b[0m 9ms/step - accuracy: 0.9842 - auc: 0.9998 - loss: 0.0254 - precision: 0.9842 - recall: 0.9842 - val_accuracy: 1.0000 - val_auc: 1.0000 - val_loss: 4.8557e-06 - val_precision: 1.0000 - val_recall: 1.0000\n",
      "Epoch 428/500\n",
      "\u001b[1m15/15\u001b[0m \u001b[32m━━━━━━━━━━━━━━━━━━━━\u001b[0m\u001b[37m\u001b[0m \u001b[1m0s\u001b[0m 9ms/step - accuracy: 0.9937 - auc: 0.9999 - loss: 0.0369 - precision: 0.9937 - recall: 0.9937 - val_accuracy: 1.0000 - val_auc: 1.0000 - val_loss: 3.1630e-06 - val_precision: 1.0000 - val_recall: 1.0000\n",
      "Epoch 429/500\n",
      "\u001b[1m15/15\u001b[0m \u001b[32m━━━━━━━━━━━━━━━━━━━━\u001b[0m\u001b[37m\u001b[0m \u001b[1m0s\u001b[0m 9ms/step - accuracy: 0.9937 - auc: 0.9958 - loss: 0.0418 - precision: 0.9937 - recall: 0.9937 - val_accuracy: 1.0000 - val_auc: 1.0000 - val_loss: 4.6491e-06 - val_precision: 1.0000 - val_recall: 1.0000\n",
      "Epoch 430/500\n",
      "\u001b[1m15/15\u001b[0m \u001b[32m━━━━━━━━━━━━━━━━━━━━\u001b[0m\u001b[37m\u001b[0m \u001b[1m0s\u001b[0m 9ms/step - accuracy: 0.9824 - auc: 0.9998 - loss: 0.0289 - precision: 0.9824 - recall: 0.9824 - val_accuracy: 1.0000 - val_auc: 1.0000 - val_loss: 5.8412e-06 - val_precision: 1.0000 - val_recall: 1.0000\n",
      "Epoch 431/500\n",
      "\u001b[1m15/15\u001b[0m \u001b[32m━━━━━━━━━━━━━━━━━━━━\u001b[0m\u001b[37m\u001b[0m \u001b[1m0s\u001b[0m 10ms/step - accuracy: 1.0000 - auc: 1.0000 - loss: 0.0038 - precision: 1.0000 - recall: 1.0000 - val_accuracy: 1.0000 - val_auc: 1.0000 - val_loss: 4.2915e-06 - val_precision: 1.0000 - val_recall: 1.0000\n",
      "Epoch 432/500\n",
      "\u001b[1m15/15\u001b[0m \u001b[32m━━━━━━━━━━━━━━━━━━━━\u001b[0m\u001b[37m\u001b[0m \u001b[1m0s\u001b[0m 11ms/step - accuracy: 0.9927 - auc: 0.9999 - loss: 0.0197 - precision: 0.9927 - recall: 0.9927 - val_accuracy: 1.0000 - val_auc: 1.0000 - val_loss: 3.3219e-06 - val_precision: 1.0000 - val_recall: 1.0000\n",
      "Epoch 433/500\n",
      "\u001b[1m15/15\u001b[0m \u001b[32m━━━━━━━━━━━━━━━━━━━━\u001b[0m\u001b[37m\u001b[0m \u001b[1m0s\u001b[0m 11ms/step - accuracy: 0.9937 - auc: 0.9999 - loss: 0.0180 - precision: 0.9937 - recall: 0.9937 - val_accuracy: 1.0000 - val_auc: 1.0000 - val_loss: 4.9511e-06 - val_precision: 1.0000 - val_recall: 1.0000\n",
      "Epoch 434/500\n",
      "\u001b[1m15/15\u001b[0m \u001b[32m━━━━━━━━━━━━━━━━━━━━\u001b[0m\u001b[37m\u001b[0m \u001b[1m0s\u001b[0m 11ms/step - accuracy: 0.9806 - auc: 0.9978 - loss: 0.0915 - precision: 0.9806 - recall: 0.9806 - val_accuracy: 1.0000 - val_auc: 1.0000 - val_loss: 0.0311 - val_precision: 1.0000 - val_recall: 1.0000\n",
      "Epoch 435/500\n",
      "\u001b[1m15/15\u001b[0m \u001b[32m━━━━━━━━━━━━━━━━━━━━\u001b[0m\u001b[37m\u001b[0m \u001b[1m0s\u001b[0m 10ms/step - accuracy: 0.9467 - auc: 0.9963 - loss: 0.1667 - precision: 0.9467 - recall: 0.9467 - val_accuracy: 1.0000 - val_auc: 1.0000 - val_loss: 8.7220e-05 - val_precision: 1.0000 - val_recall: 1.0000\n",
      "Epoch 436/500\n",
      "\u001b[1m15/15\u001b[0m \u001b[32m━━━━━━━━━━━━━━━━━━━━\u001b[0m\u001b[37m\u001b[0m \u001b[1m0s\u001b[0m 10ms/step - accuracy: 0.9842 - auc: 0.9992 - loss: 0.0506 - precision: 0.9842 - recall: 0.9842 - val_accuracy: 1.0000 - val_auc: 1.0000 - val_loss: 3.5314e-05 - val_precision: 1.0000 - val_recall: 1.0000\n",
      "Epoch 437/500\n",
      "\u001b[1m15/15\u001b[0m \u001b[32m━━━━━━━━━━━━━━━━━━━━\u001b[0m\u001b[37m\u001b[0m \u001b[1m0s\u001b[0m 10ms/step - accuracy: 0.9769 - auc: 0.9995 - loss: 0.0525 - precision: 0.9769 - recall: 0.9769 - val_accuracy: 1.0000 - val_auc: 1.0000 - val_loss: 2.9426e-05 - val_precision: 1.0000 - val_recall: 1.0000\n",
      "Epoch 438/500\n",
      "\u001b[1m15/15\u001b[0m \u001b[32m━━━━━━━━━━━━━━━━━━━━\u001b[0m\u001b[37m\u001b[0m \u001b[1m0s\u001b[0m 10ms/step - accuracy: 1.0000 - auc: 1.0000 - loss: 0.0211 - precision: 1.0000 - recall: 1.0000 - val_accuracy: 1.0000 - val_auc: 1.0000 - val_loss: 3.3295e-05 - val_precision: 1.0000 - val_recall: 1.0000\n",
      "Epoch 439/500\n",
      "\u001b[1m15/15\u001b[0m \u001b[32m━━━━━━━━━━━━━━━━━━━━\u001b[0m\u001b[37m\u001b[0m \u001b[1m0s\u001b[0m 10ms/step - accuracy: 0.9954 - auc: 0.9998 - loss: 0.0241 - precision: 0.9954 - recall: 0.9954 - val_accuracy: 1.0000 - val_auc: 1.0000 - val_loss: 2.3967e-05 - val_precision: 1.0000 - val_recall: 1.0000\n",
      "Epoch 440/500\n",
      "\u001b[1m15/15\u001b[0m \u001b[32m━━━━━━━━━━━━━━━━━━━━\u001b[0m\u001b[37m\u001b[0m \u001b[1m0s\u001b[0m 10ms/step - accuracy: 0.9914 - auc: 0.9996 - loss: 0.0364 - precision: 0.9914 - recall: 0.9914 - val_accuracy: 1.0000 - val_auc: 1.0000 - val_loss: 4.7776e-05 - val_precision: 1.0000 - val_recall: 1.0000\n",
      "Epoch 441/500\n",
      "\u001b[1m15/15\u001b[0m \u001b[32m━━━━━━━━━━━━━━━━━━━━\u001b[0m\u001b[37m\u001b[0m \u001b[1m0s\u001b[0m 11ms/step - accuracy: 1.0000 - auc: 1.0000 - loss: 0.0145 - precision: 1.0000 - recall: 1.0000 - val_accuracy: 1.0000 - val_auc: 1.0000 - val_loss: 3.7984e-05 - val_precision: 1.0000 - val_recall: 1.0000\n",
      "Epoch 442/500\n",
      "\u001b[1m15/15\u001b[0m \u001b[32m━━━━━━━━━━━━━━━━━━━━\u001b[0m\u001b[37m\u001b[0m \u001b[1m0s\u001b[0m 10ms/step - accuracy: 0.9801 - auc: 0.9997 - loss: 0.0289 - precision: 0.9801 - recall: 0.9801 - val_accuracy: 1.0000 - val_auc: 1.0000 - val_loss: 7.5726e-05 - val_precision: 1.0000 - val_recall: 1.0000\n",
      "Epoch 443/500\n",
      "\u001b[1m15/15\u001b[0m \u001b[32m━━━━━━━━━━━━━━━━━━━━\u001b[0m\u001b[37m\u001b[0m \u001b[1m0s\u001b[0m 9ms/step - accuracy: 0.9791 - auc: 0.9990 - loss: 0.0627 - precision: 0.9791 - recall: 0.9791 - val_accuracy: 1.0000 - val_auc: 1.0000 - val_loss: 1.6709e-04 - val_precision: 1.0000 - val_recall: 1.0000\n",
      "Epoch 444/500\n",
      "\u001b[1m15/15\u001b[0m \u001b[32m━━━━━━━━━━━━━━━━━━━━\u001b[0m\u001b[37m\u001b[0m \u001b[1m0s\u001b[0m 10ms/step - accuracy: 0.9990 - auc: 1.0000 - loss: 0.0062 - precision: 0.9990 - recall: 0.9990 - val_accuracy: 1.0000 - val_auc: 1.0000 - val_loss: 1.6671e-04 - val_precision: 1.0000 - val_recall: 1.0000\n",
      "Epoch 445/500\n",
      "\u001b[1m15/15\u001b[0m \u001b[32m━━━━━━━━━━━━━━━━━━━━\u001b[0m\u001b[37m\u001b[0m \u001b[1m0s\u001b[0m 9ms/step - accuracy: 0.9824 - auc: 0.9997 - loss: 0.0261 - precision: 0.9824 - recall: 0.9824 - val_accuracy: 1.0000 - val_auc: 1.0000 - val_loss: 1.1186e-04 - val_precision: 1.0000 - val_recall: 1.0000\n",
      "Epoch 446/500\n",
      "\u001b[1m15/15\u001b[0m \u001b[32m━━━━━━━━━━━━━━━━━━━━\u001b[0m\u001b[37m\u001b[0m \u001b[1m0s\u001b[0m 10ms/step - accuracy: 1.0000 - auc: 1.0000 - loss: 0.0104 - precision: 1.0000 - recall: 1.0000 - val_accuracy: 1.0000 - val_auc: 1.0000 - val_loss: 5.0401e-05 - val_precision: 1.0000 - val_recall: 1.0000\n",
      "Epoch 447/500\n",
      "\u001b[1m15/15\u001b[0m \u001b[32m━━━━━━━━━━━━━━━━━━━━\u001b[0m\u001b[37m\u001b[0m \u001b[1m0s\u001b[0m 10ms/step - accuracy: 0.9990 - auc: 1.0000 - loss: 0.0131 - precision: 0.9990 - recall: 0.9990 - val_accuracy: 1.0000 - val_auc: 1.0000 - val_loss: 2.7050e-05 - val_precision: 1.0000 - val_recall: 1.0000\n",
      "Epoch 448/500\n",
      "\u001b[1m15/15\u001b[0m \u001b[32m━━━━━━━━━━━━━━━━━━━━\u001b[0m\u001b[37m\u001b[0m \u001b[1m0s\u001b[0m 10ms/step - accuracy: 0.9917 - auc: 0.9990 - loss: 0.0261 - precision: 0.9917 - recall: 0.9917 - val_accuracy: 1.0000 - val_auc: 1.0000 - val_loss: 3.5138e-05 - val_precision: 1.0000 - val_recall: 1.0000\n",
      "Epoch 449/500\n",
      "\u001b[1m15/15\u001b[0m \u001b[32m━━━━━━━━━━━━━━━━━━━━\u001b[0m\u001b[37m\u001b[0m \u001b[1m0s\u001b[0m 10ms/step - accuracy: 0.9990 - auc: 1.0000 - loss: 0.0063 - precision: 0.9990 - recall: 0.9990 - val_accuracy: 1.0000 - val_auc: 1.0000 - val_loss: 1.7467e-05 - val_precision: 1.0000 - val_recall: 1.0000\n",
      "Epoch 450/500\n",
      "\u001b[1m15/15\u001b[0m \u001b[32m━━━━━━━━━━━━━━━━━━━━\u001b[0m\u001b[37m\u001b[0m \u001b[1m0s\u001b[0m 11ms/step - accuracy: 0.9984 - auc: 1.0000 - loss: 0.0144 - precision: 0.9984 - recall: 0.9984 - val_accuracy: 1.0000 - val_auc: 1.0000 - val_loss: 1.3152e-05 - val_precision: 1.0000 - val_recall: 1.0000\n",
      "Epoch 451/500\n",
      "\u001b[1m15/15\u001b[0m \u001b[32m━━━━━━━━━━━━━━━━━━━━\u001b[0m\u001b[37m\u001b[0m \u001b[1m0s\u001b[0m 10ms/step - accuracy: 1.0000 - auc: 1.0000 - loss: 0.0198 - precision: 1.0000 - recall: 0.9948 - val_accuracy: 1.0000 - val_auc: 1.0000 - val_loss: 6.1125e-05 - val_precision: 1.0000 - val_recall: 1.0000\n",
      "Epoch 452/500\n",
      "\u001b[1m15/15\u001b[0m \u001b[32m━━━━━━━━━━━━━━━━━━━━\u001b[0m\u001b[37m\u001b[0m \u001b[1m0s\u001b[0m 10ms/step - accuracy: 0.9990 - auc: 1.0000 - loss: 0.0059 - precision: 0.9990 - recall: 0.9990 - val_accuracy: 1.0000 - val_auc: 1.0000 - val_loss: 5.5867e-05 - val_precision: 1.0000 - val_recall: 1.0000\n",
      "Epoch 453/500\n",
      "\u001b[1m15/15\u001b[0m \u001b[32m━━━━━━━━━━━━━━━━━━━━\u001b[0m\u001b[37m\u001b[0m \u001b[1m0s\u001b[0m 10ms/step - accuracy: 0.9736 - auc: 0.9992 - loss: 0.0456 - precision: 0.9736 - recall: 0.9736 - val_accuracy: 1.0000 - val_auc: 1.0000 - val_loss: 3.8074e-05 - val_precision: 1.0000 - val_recall: 1.0000\n",
      "Epoch 454/500\n",
      "\u001b[1m15/15\u001b[0m \u001b[32m━━━━━━━━━━━━━━━━━━━━\u001b[0m\u001b[37m\u001b[0m \u001b[1m0s\u001b[0m 10ms/step - accuracy: 0.9927 - auc: 1.0000 - loss: 0.0105 - precision: 0.9927 - recall: 0.9927 - val_accuracy: 1.0000 - val_auc: 1.0000 - val_loss: 4.2467e-05 - val_precision: 1.0000 - val_recall: 1.0000\n",
      "Epoch 455/500\n",
      "\u001b[1m15/15\u001b[0m \u001b[32m━━━━━━━━━━━━━━━━━━━━\u001b[0m\u001b[37m\u001b[0m \u001b[1m0s\u001b[0m 10ms/step - accuracy: 0.9839 - auc: 0.9992 - loss: 0.0493 - precision: 0.9839 - recall: 0.9839 - val_accuracy: 1.0000 - val_auc: 1.0000 - val_loss: 2.5849e-05 - val_precision: 1.0000 - val_recall: 1.0000\n",
      "Epoch 456/500\n",
      "\u001b[1m15/15\u001b[0m \u001b[32m━━━━━━━━━━━━━━━━━━━━\u001b[0m\u001b[37m\u001b[0m \u001b[1m0s\u001b[0m 9ms/step - accuracy: 0.9578 - auc: 0.9987 - loss: 0.0484 - precision: 0.9578 - recall: 0.9578 - val_accuracy: 1.0000 - val_auc: 1.0000 - val_loss: 2.1408e-05 - val_precision: 1.0000 - val_recall: 1.0000\n",
      "Epoch 457/500\n",
      "\u001b[1m15/15\u001b[0m \u001b[32m━━━━━━━━━━━━━━━━━━━━\u001b[0m\u001b[37m\u001b[0m \u001b[1m0s\u001b[0m 11ms/step - accuracy: 0.9964 - auc: 0.9999 - loss: 0.0216 - precision: 0.9964 - recall: 0.9964 - val_accuracy: 1.0000 - val_auc: 1.0000 - val_loss: 5.5392e-06 - val_precision: 1.0000 - val_recall: 1.0000\n",
      "Epoch 458/500\n",
      "\u001b[1m15/15\u001b[0m \u001b[32m━━━━━━━━━━━━━━━━━━━━\u001b[0m\u001b[37m\u001b[0m \u001b[1m0s\u001b[0m 11ms/step - accuracy: 0.9879 - auc: 0.9982 - loss: 0.0664 - precision: 0.9879 - recall: 0.9879 - val_accuracy: 1.0000 - val_auc: 1.0000 - val_loss: 8.1379e-06 - val_precision: 1.0000 - val_recall: 1.0000\n",
      "Epoch 459/500\n",
      "\u001b[1m15/15\u001b[0m \u001b[32m━━━━━━━━━━━━━━━━━━━━\u001b[0m\u001b[37m\u001b[0m \u001b[1m0s\u001b[0m 11ms/step - accuracy: 1.0000 - auc: 1.0000 - loss: 0.0108 - precision: 1.0000 - recall: 1.0000 - val_accuracy: 1.0000 - val_auc: 1.0000 - val_loss: 8.5432e-06 - val_precision: 1.0000 - val_recall: 1.0000\n",
      "Epoch 460/500\n",
      "\u001b[1m15/15\u001b[0m \u001b[32m━━━━━━━━━━━━━━━━━━━━\u001b[0m\u001b[37m\u001b[0m \u001b[1m0s\u001b[0m 10ms/step - accuracy: 0.9938 - auc: 1.0000 - loss: 0.0176 - precision: 0.9938 - recall: 0.9938 - val_accuracy: 1.0000 - val_auc: 1.0000 - val_loss: 6.9697e-06 - val_precision: 1.0000 - val_recall: 1.0000\n",
      "Epoch 461/500\n",
      "\u001b[1m15/15\u001b[0m \u001b[32m━━━━━━━━━━━━━━━━━━━━\u001b[0m\u001b[37m\u001b[0m \u001b[1m0s\u001b[0m 10ms/step - accuracy: 0.9853 - auc: 0.9998 - loss: 0.0318 - precision: 0.9853 - recall: 0.9853 - val_accuracy: 1.0000 - val_auc: 1.0000 - val_loss: 7.4147e-06 - val_precision: 1.0000 - val_recall: 1.0000\n",
      "Epoch 462/500\n",
      "\u001b[1m15/15\u001b[0m \u001b[32m━━━━━━━━━━━━━━━━━━━━\u001b[0m\u001b[37m\u001b[0m \u001b[1m0s\u001b[0m 10ms/step - accuracy: 1.0000 - auc: 1.0000 - loss: 0.0160 - precision: 1.0000 - recall: 1.0000 - val_accuracy: 1.0000 - val_auc: 1.0000 - val_loss: 5.7855e-06 - val_precision: 1.0000 - val_recall: 1.0000\n",
      "Epoch 463/500\n",
      "\u001b[1m15/15\u001b[0m \u001b[32m━━━━━━━━━━━━━━━━━━━━\u001b[0m\u001b[37m\u001b[0m \u001b[1m0s\u001b[0m 10ms/step - accuracy: 1.0000 - auc: 1.0000 - loss: 0.0041 - precision: 1.0000 - recall: 1.0000 - val_accuracy: 1.0000 - val_auc: 1.0000 - val_loss: 4.5458e-06 - val_precision: 1.0000 - val_recall: 1.0000\n",
      "Epoch 464/500\n",
      "\u001b[1m15/15\u001b[0m \u001b[32m━━━━━━━━━━━━━━━━━━━━\u001b[0m\u001b[37m\u001b[0m \u001b[1m0s\u001b[0m 10ms/step - accuracy: 0.9990 - auc: 1.0000 - loss: 0.0072 - precision: 0.9990 - recall: 0.9990 - val_accuracy: 1.0000 - val_auc: 1.0000 - val_loss: 4.1405e-06 - val_precision: 1.0000 - val_recall: 1.0000\n",
      "Epoch 465/500\n",
      "\u001b[1m15/15\u001b[0m \u001b[32m━━━━━━━━━━━━━━━━━━━━\u001b[0m\u001b[37m\u001b[0m \u001b[1m0s\u001b[0m 9ms/step - accuracy: 1.0000 - auc: 1.0000 - loss: 0.0078 - precision: 1.0000 - recall: 1.0000 - val_accuracy: 1.0000 - val_auc: 1.0000 - val_loss: 3.0199e-06 - val_precision: 1.0000 - val_recall: 1.0000\n",
      "Epoch 466/500\n",
      "\u001b[1m15/15\u001b[0m \u001b[32m━━━━━━━━━━━━━━━━━━━━\u001b[0m\u001b[37m\u001b[0m \u001b[1m0s\u001b[0m 10ms/step - accuracy: 1.0000 - auc: 1.0000 - loss: 0.0061 - precision: 1.0000 - recall: 1.0000 - val_accuracy: 1.0000 - val_auc: 1.0000 - val_loss: 2.4160e-06 - val_precision: 1.0000 - val_recall: 1.0000\n",
      "Epoch 467/500\n",
      "\u001b[1m15/15\u001b[0m \u001b[32m━━━━━━━━━━━━━━━━━━━━\u001b[0m\u001b[37m\u001b[0m \u001b[1m0s\u001b[0m 9ms/step - accuracy: 1.0000 - auc: 1.0000 - loss: 0.0129 - precision: 1.0000 - recall: 1.0000 - val_accuracy: 1.0000 - val_auc: 1.0000 - val_loss: 1.6848e-06 - val_precision: 1.0000 - val_recall: 1.0000\n",
      "Epoch 468/500\n",
      "\u001b[1m15/15\u001b[0m \u001b[32m━━━━━━━━━━━━━━━━━━━━\u001b[0m\u001b[37m\u001b[0m \u001b[1m0s\u001b[0m 11ms/step - accuracy: 1.0000 - auc: 1.0000 - loss: 0.0080 - precision: 1.0000 - recall: 1.0000 - val_accuracy: 1.0000 - val_auc: 1.0000 - val_loss: 1.2636e-06 - val_precision: 1.0000 - val_recall: 1.0000\n",
      "Epoch 469/500\n",
      "\u001b[1m15/15\u001b[0m \u001b[32m━━━━━━━━━━━━━━━━━━━━\u001b[0m\u001b[37m\u001b[0m \u001b[1m0s\u001b[0m 9ms/step - accuracy: 1.0000 - auc: 1.0000 - loss: 6.8268e-04 - precision: 1.0000 - recall: 1.0000 - val_accuracy: 1.0000 - val_auc: 1.0000 - val_loss: 1.0729e-06 - val_precision: 1.0000 - val_recall: 1.0000\n",
      "Epoch 470/500\n",
      "\u001b[1m15/15\u001b[0m \u001b[32m━━━━━━━━━━━━━━━━━━━━\u001b[0m\u001b[37m\u001b[0m \u001b[1m0s\u001b[0m 10ms/step - accuracy: 1.0000 - auc: 1.0000 - loss: 0.0014 - precision: 1.0000 - recall: 1.0000 - val_accuracy: 1.0000 - val_auc: 1.0000 - val_loss: 9.1394e-07 - val_precision: 1.0000 - val_recall: 1.0000\n",
      "Epoch 471/500\n",
      "\u001b[1m15/15\u001b[0m \u001b[32m━━━━━━━━━━━━━━━━━━━━\u001b[0m\u001b[37m\u001b[0m \u001b[1m0s\u001b[0m 11ms/step - accuracy: 0.9948 - auc: 0.9959 - loss: 0.0447 - precision: 0.9948 - recall: 0.9948 - val_accuracy: 1.0000 - val_auc: 1.0000 - val_loss: 6.7073e-06 - val_precision: 1.0000 - val_recall: 1.0000\n",
      "Epoch 472/500\n",
      "\u001b[1m15/15\u001b[0m \u001b[32m━━━━━━━━━━━━━━━━━━━━\u001b[0m\u001b[37m\u001b[0m \u001b[1m0s\u001b[0m 13ms/step - accuracy: 0.9957 - auc: 1.0000 - loss: 0.0101 - precision: 0.9957 - recall: 0.9957 - val_accuracy: 1.0000 - val_auc: 1.0000 - val_loss: 4.5231e-05 - val_precision: 1.0000 - val_recall: 1.0000\n",
      "Epoch 473/500\n",
      "\u001b[1m15/15\u001b[0m \u001b[32m━━━━━━━━━━━━━━━━━━━━\u001b[0m\u001b[37m\u001b[0m \u001b[1m0s\u001b[0m 9ms/step - accuracy: 0.9990 - auc: 1.0000 - loss: 0.0087 - precision: 0.9990 - recall: 0.9990 - val_accuracy: 1.0000 - val_auc: 1.0000 - val_loss: 2.8201e-05 - val_precision: 1.0000 - val_recall: 1.0000\n",
      "Epoch 474/500\n",
      "\u001b[1m15/15\u001b[0m \u001b[32m━━━━━━━━━━━━━━━━━━━━\u001b[0m\u001b[37m\u001b[0m \u001b[1m0s\u001b[0m 10ms/step - accuracy: 0.9674 - auc: 0.9990 - loss: 0.0941 - precision: 0.9674 - recall: 0.9674 - val_accuracy: 1.0000 - val_auc: 1.0000 - val_loss: 6.7948e-06 - val_precision: 1.0000 - val_recall: 1.0000\n",
      "Epoch 475/500\n",
      "\u001b[1m15/15\u001b[0m \u001b[32m━━━━━━━━━━━━━━━━━━━━\u001b[0m\u001b[37m\u001b[0m \u001b[1m0s\u001b[0m 11ms/step - accuracy: 1.0000 - auc: 1.0000 - loss: 0.0082 - precision: 1.0000 - recall: 1.0000 - val_accuracy: 1.0000 - val_auc: 1.0000 - val_loss: 3.9259e-06 - val_precision: 1.0000 - val_recall: 1.0000\n",
      "Epoch 476/500\n",
      "\u001b[1m15/15\u001b[0m \u001b[32m━━━━━━━━━━━━━━━━━━━━\u001b[0m\u001b[37m\u001b[0m \u001b[1m0s\u001b[0m 10ms/step - accuracy: 0.9971 - auc: 1.0000 - loss: 0.0075 - precision: 0.9971 - recall: 0.9971 - val_accuracy: 1.0000 - val_auc: 1.0000 - val_loss: 2.4160e-06 - val_precision: 1.0000 - val_recall: 1.0000\n",
      "Epoch 477/500\n",
      "\u001b[1m15/15\u001b[0m \u001b[32m━━━━━━━━━━━━━━━━━━━━\u001b[0m\u001b[37m\u001b[0m \u001b[1m0s\u001b[0m 10ms/step - accuracy: 0.9948 - auc: 0.9999 - loss: 0.0218 - precision: 0.9948 - recall: 0.9948 - val_accuracy: 1.0000 - val_auc: 1.0000 - val_loss: 6.2464e-06 - val_precision: 1.0000 - val_recall: 1.0000\n",
      "Epoch 478/500\n",
      "\u001b[1m15/15\u001b[0m \u001b[32m━━━━━━━━━━━━━━━━━━━━\u001b[0m\u001b[37m\u001b[0m \u001b[1m0s\u001b[0m 10ms/step - accuracy: 0.9793 - auc: 0.9995 - loss: 0.0394 - precision: 0.9793 - recall: 0.9793 - val_accuracy: 1.0000 - val_auc: 1.0000 - val_loss: 1.2103e-04 - val_precision: 1.0000 - val_recall: 1.0000\n",
      "Epoch 479/500\n",
      "\u001b[1m15/15\u001b[0m \u001b[32m━━━━━━━━━━━━━━━━━━━━\u001b[0m\u001b[37m\u001b[0m \u001b[1m0s\u001b[0m 11ms/step - accuracy: 0.9833 - auc: 0.9989 - loss: 0.0332 - precision: 0.9832 - recall: 0.9781 - val_accuracy: 1.0000 - val_auc: 1.0000 - val_loss: 4.9382e-04 - val_precision: 1.0000 - val_recall: 1.0000\n",
      "Epoch 480/500\n",
      "\u001b[1m15/15\u001b[0m \u001b[32m━━━━━━━━━━━━━━━━━━━━\u001b[0m\u001b[37m\u001b[0m \u001b[1m0s\u001b[0m 11ms/step - accuracy: 1.0000 - auc: 1.0000 - loss: 0.0227 - precision: 1.0000 - recall: 1.0000 - val_accuracy: 1.0000 - val_auc: 1.0000 - val_loss: 9.8067e-06 - val_precision: 1.0000 - val_recall: 1.0000\n",
      "Epoch 481/500\n",
      "\u001b[1m15/15\u001b[0m \u001b[32m━━━━━━━━━━━━━━━━━━━━\u001b[0m\u001b[37m\u001b[0m \u001b[1m0s\u001b[0m 11ms/step - accuracy: 0.9990 - auc: 0.9999 - loss: 0.0133 - precision: 0.9990 - recall: 0.9990 - val_accuracy: 1.0000 - val_auc: 1.0000 - val_loss: 7.6452e-06 - val_precision: 1.0000 - val_recall: 1.0000\n",
      "Epoch 482/500\n",
      "\u001b[1m15/15\u001b[0m \u001b[32m━━━━━━━━━━━━━━━━━━━━\u001b[0m\u001b[37m\u001b[0m \u001b[1m0s\u001b[0m 10ms/step - accuracy: 0.9948 - auc: 1.0000 - loss: 0.0207 - precision: 0.9948 - recall: 0.9948 - val_accuracy: 1.0000 - val_auc: 1.0000 - val_loss: 3.3802e-05 - val_precision: 1.0000 - val_recall: 1.0000\n",
      "Epoch 483/500\n",
      "\u001b[1m15/15\u001b[0m \u001b[32m━━━━━━━━━━━━━━━━━━━━\u001b[0m\u001b[37m\u001b[0m \u001b[1m0s\u001b[0m 11ms/step - accuracy: 0.9833 - auc: 0.9938 - loss: 0.0981 - precision: 0.9833 - recall: 0.9833 - val_accuracy: 1.0000 - val_auc: 1.0000 - val_loss: 3.3740e-05 - val_precision: 1.0000 - val_recall: 1.0000\n",
      "Epoch 484/500\n",
      "\u001b[1m15/15\u001b[0m \u001b[32m━━━━━━━━━━━━━━━━━━━━\u001b[0m\u001b[37m\u001b[0m \u001b[1m0s\u001b[0m 9ms/step - accuracy: 0.9814 - auc: 0.9997 - loss: 0.0300 - precision: 0.9814 - recall: 0.9814 - val_accuracy: 0.9333 - val_auc: 0.9978 - val_loss: 0.0893 - val_precision: 0.9333 - val_recall: 0.9333\n",
      "Epoch 485/500\n",
      "\u001b[1m15/15\u001b[0m \u001b[32m━━━━━━━━━━━━━━━━━━━━\u001b[0m\u001b[37m\u001b[0m \u001b[1m0s\u001b[0m 10ms/step - accuracy: 0.9732 - auc: 0.9984 - loss: 0.0732 - precision: 0.9732 - recall: 0.9732 - val_accuracy: 0.9333 - val_auc: 0.9978 - val_loss: 0.1590 - val_precision: 0.9333 - val_recall: 0.9333\n",
      "Epoch 486/500\n",
      "\u001b[1m15/15\u001b[0m \u001b[32m━━━━━━━━━━━━━━━━━━━━\u001b[0m\u001b[37m\u001b[0m \u001b[1m0s\u001b[0m 10ms/step - accuracy: 0.9720 - auc: 0.9896 - loss: 0.1450 - precision: 0.9720 - recall: 0.9720 - val_accuracy: 1.0000 - val_auc: 1.0000 - val_loss: 6.0618e-05 - val_precision: 1.0000 - val_recall: 1.0000\n",
      "Epoch 487/500\n",
      "\u001b[1m15/15\u001b[0m \u001b[32m━━━━━━━━━━━━━━━━━━━━\u001b[0m\u001b[37m\u001b[0m \u001b[1m0s\u001b[0m 10ms/step - accuracy: 0.9948 - auc: 1.0000 - loss: 0.0154 - precision: 0.9948 - recall: 0.9948 - val_accuracy: 1.0000 - val_auc: 1.0000 - val_loss: 7.3609e-05 - val_precision: 1.0000 - val_recall: 1.0000\n",
      "Epoch 488/500\n",
      "\u001b[1m15/15\u001b[0m \u001b[32m━━━━━━━━━━━━━━━━━━━━\u001b[0m\u001b[37m\u001b[0m \u001b[1m0s\u001b[0m 11ms/step - accuracy: 0.9938 - auc: 1.0000 - loss: 0.0143 - precision: 0.9938 - recall: 0.9938 - val_accuracy: 1.0000 - val_auc: 1.0000 - val_loss: 3.1214e-05 - val_precision: 1.0000 - val_recall: 1.0000\n",
      "Epoch 489/500\n",
      "\u001b[1m15/15\u001b[0m \u001b[32m━━━━━━━━━━━━━━━━━━━━\u001b[0m\u001b[37m\u001b[0m \u001b[1m0s\u001b[0m 10ms/step - accuracy: 0.9917 - auc: 0.9993 - loss: 0.0449 - precision: 0.9917 - recall: 0.9917 - val_accuracy: 1.0000 - val_auc: 1.0000 - val_loss: 1.3472e-04 - val_precision: 1.0000 - val_recall: 1.0000\n",
      "Epoch 490/500\n",
      "\u001b[1m15/15\u001b[0m \u001b[32m━━━━━━━━━━━━━━━━━━━━\u001b[0m\u001b[37m\u001b[0m \u001b[1m0s\u001b[0m 10ms/step - accuracy: 0.9775 - auc: 0.9920 - loss: 0.1697 - precision: 0.9775 - recall: 0.9775 - val_accuracy: 1.0000 - val_auc: 1.0000 - val_loss: 0.0082 - val_precision: 1.0000 - val_recall: 1.0000\n",
      "Epoch 491/500\n",
      "\u001b[1m15/15\u001b[0m \u001b[32m━━━━━━━━━━━━━━━━━━━━\u001b[0m\u001b[37m\u001b[0m \u001b[1m0s\u001b[0m 9ms/step - accuracy: 0.9431 - auc: 0.9960 - loss: 0.1203 - precision: 0.9431 - recall: 0.9431 - val_accuracy: 1.0000 - val_auc: 1.0000 - val_loss: 3.9703e-04 - val_precision: 1.0000 - val_recall: 1.0000\n",
      "Epoch 492/500\n",
      "\u001b[1m15/15\u001b[0m \u001b[32m━━━━━━━━━━━━━━━━━━━━\u001b[0m\u001b[37m\u001b[0m \u001b[1m0s\u001b[0m 11ms/step - accuracy: 0.9647 - auc: 0.9963 - loss: 0.1308 - precision: 0.9647 - recall: 0.9647 - val_accuracy: 1.0000 - val_auc: 1.0000 - val_loss: 2.8195e-04 - val_precision: 1.0000 - val_recall: 1.0000\n",
      "Epoch 493/500\n",
      "\u001b[1m15/15\u001b[0m \u001b[32m━━━━━━━━━━━━━━━━━━━━\u001b[0m\u001b[37m\u001b[0m \u001b[1m0s\u001b[0m 10ms/step - accuracy: 0.9814 - auc: 0.9997 - loss: 0.0299 - precision: 0.9814 - recall: 0.9814 - val_accuracy: 1.0000 - val_auc: 1.0000 - val_loss: 5.1011e-04 - val_precision: 1.0000 - val_recall: 1.0000\n",
      "Epoch 494/500\n",
      "\u001b[1m15/15\u001b[0m \u001b[32m━━━━━━━━━━━━━━━━━━━━\u001b[0m\u001b[37m\u001b[0m \u001b[1m0s\u001b[0m 10ms/step - accuracy: 1.0000 - auc: 1.0000 - loss: 0.0113 - precision: 1.0000 - recall: 1.0000 - val_accuracy: 1.0000 - val_auc: 1.0000 - val_loss: 5.9132e-04 - val_precision: 1.0000 - val_recall: 1.0000\n",
      "Epoch 495/500\n",
      "\u001b[1m15/15\u001b[0m \u001b[32m━━━━━━━━━━━━━━━━━━━━\u001b[0m\u001b[37m\u001b[0m \u001b[1m0s\u001b[0m 9ms/step - accuracy: 0.9853 - auc: 0.9998 - loss: 0.0257 - precision: 0.9853 - recall: 0.9853 - val_accuracy: 1.0000 - val_auc: 1.0000 - val_loss: 2.5729e-04 - val_precision: 1.0000 - val_recall: 1.0000\n",
      "Epoch 496/500\n",
      "\u001b[1m15/15\u001b[0m \u001b[32m━━━━━━━━━━━━━━━━━━━━\u001b[0m\u001b[37m\u001b[0m \u001b[1m0s\u001b[0m 11ms/step - accuracy: 0.9588 - auc: 0.9868 - loss: 0.1449 - precision: 0.9588 - recall: 0.9588 - val_accuracy: 1.0000 - val_auc: 1.0000 - val_loss: 5.7450e-05 - val_precision: 1.0000 - val_recall: 1.0000\n",
      "Epoch 497/500\n",
      "\u001b[1m15/15\u001b[0m \u001b[32m━━━━━━━━━━━━━━━━━━━━\u001b[0m\u001b[37m\u001b[0m \u001b[1m0s\u001b[0m 10ms/step - accuracy: 0.9928 - auc: 0.9995 - loss: 0.0316 - precision: 0.9928 - recall: 0.9928 - val_accuracy: 1.0000 - val_auc: 1.0000 - val_loss: 6.2169e-05 - val_precision: 1.0000 - val_recall: 1.0000\n",
      "Epoch 498/500\n",
      "\u001b[1m15/15\u001b[0m \u001b[32m━━━━━━━━━━━━━━━━━━━━\u001b[0m\u001b[37m\u001b[0m \u001b[1m0s\u001b[0m 10ms/step - accuracy: 0.9948 - auc: 0.9999 - loss: 0.0296 - precision: 0.9948 - recall: 0.9948 - val_accuracy: 1.0000 - val_auc: 1.0000 - val_loss: 3.7110e-05 - val_precision: 1.0000 - val_recall: 1.0000\n",
      "Epoch 499/500\n",
      "\u001b[1m15/15\u001b[0m \u001b[32m━━━━━━━━━━━━━━━━━━━━\u001b[0m\u001b[37m\u001b[0m \u001b[1m0s\u001b[0m 10ms/step - accuracy: 0.9875 - auc: 0.9991 - loss: 0.0574 - precision: 0.9875 - recall: 0.9875 - val_accuracy: 1.0000 - val_auc: 1.0000 - val_loss: 6.7327e-05 - val_precision: 1.0000 - val_recall: 1.0000\n",
      "Epoch 500/500\n",
      "\u001b[1m15/15\u001b[0m \u001b[32m━━━━━━━━━━━━━━━━━━━━\u001b[0m\u001b[37m\u001b[0m \u001b[1m0s\u001b[0m 11ms/step - accuracy: 0.9679 - auc: 0.9989 - loss: 0.0595 - precision: 0.9679 - recall: 0.9679 - val_accuracy: 1.0000 - val_auc: 1.0000 - val_loss: 7.6277e-05 - val_precision: 1.0000 - val_recall: 1.0000\n"
     ]
    }
   ],
   "source": [
    "model_history=model.fit(\n",
    "    x=[X_train_num, X_train_img/255], y=y_train,\n",
    "    validation_data=([X_val_num, X_val_img/255], y_val),\n",
    "    epochs=epochs , \n",
    "    batch_size=8,\n",
    "    #steps_per_epoch = X_train_num.shape[0]//batch_size,\n",
    "    #validation_steps = X_train_num.shape[0]//batch_size,\n",
    "    #callbacks=[early_stopping]\n",
    ")"
   ]
  },
  {
   "cell_type": "code",
   "execution_count": 57,
   "metadata": {},
   "outputs": [
    {
     "name": "stdout",
     "output_type": "stream",
     "text": [
      "dict_keys(['accuracy', 'auc', 'loss', 'precision', 'recall', 'val_accuracy', 'val_auc', 'val_loss', 'val_precision', 'val_recall'])\n"
     ]
    }
   ],
   "source": [
    "print(model_history.history.keys())"
   ]
  },
  {
   "cell_type": "markdown",
   "metadata": {},
   "source": [
    "<a id=\"section6\"></a>\n",
    "# <font color=\"#004D7F\" size=6> 6. Results</font>"
   ]
  },
  {
   "cell_type": "code",
   "execution_count": 58,
   "metadata": {},
   "outputs": [
    {
     "data": {
      "image/png": "[encoded data removed]",
      "text/plain": [
       "<Figure size 640x480 with 1 Axes>"
      ]
     },
     "metadata": {},
     "output_type": "display_data"
    }
   ],
   "source": [
    "#print(model_history.history['loss'])\n",
    "plt.plot(model_history.history['loss'], color = 'red', label = 'loss')\n",
    "plt.plot(model_history.history['val_loss'], color = 'green', label = 'val loss')\n",
    "plt.legend(loc = 'upper right')\n",
    "plt.ylim(0,5)\n",
    "plt.show()"
   ]
  },
  {
   "cell_type": "code",
   "execution_count": 59,
   "metadata": {},
   "outputs": [
    {
     "data": {
      "image/png": "[encoded data removed]",
      "text/plain": [
       "<Figure size 640x480 with 1 Axes>"
      ]
     },
     "metadata": {},
     "output_type": "display_data"
    }
   ],
   "source": [
    "plt.plot(model_history.history['accuracy'], color = 'red', label = 'accuracy')\n",
    "plt.plot(model_history.history['val_accuracy'], color = 'green', label = 'val accuracy')\n",
    "plt.legend(loc = 'upper right')\n",
    "plt.show()"
   ]
  },
  {
   "cell_type": "code",
   "execution_count": 65,
   "metadata": {},
   "outputs": [
    {
     "data": {
      "text/plain": [
       "array([[0., 1., 0.],\n",
       "       [0., 1., 0.],\n",
       "       [0., 0., 1.],\n",
       "       [1., 0., 0.],\n",
       "       [0., 1., 0.],\n",
       "       [0., 0., 1.],\n",
       "       [1., 0., 0.],\n",
       "       [1., 0., 0.],\n",
       "       [1., 0., 0.],\n",
       "       [0., 0., 1.],\n",
       "       [0., 0., 1.],\n",
       "       [0., 1., 0.],\n",
       "       [0., 1., 0.],\n",
       "       [0., 1., 0.],\n",
       "       [1., 0., 0.]])"
      ]
     },
     "execution_count": 65,
     "metadata": {},
     "output_type": "execute_result"
    }
   ],
   "source": [
    "y_test"
   ]
  },
  {
   "cell_type": "code",
   "execution_count": 66,
   "metadata": {},
   "outputs": [
    {
     "name": "stdout",
     "output_type": "stream",
     "text": [
      "\u001b[1m1/1\u001b[0m \u001b[32m━━━━━━━━━━━━━━━━━━━━\u001b[0m\u001b[37m\u001b[0m \u001b[1m0s\u001b[0m 35ms/step\n",
      "[[1, 1], [1, 1], [2, 2], [0, 0], [1, 1], [2, 2], [1, 0], [0, 0], [0, 0], [2, 2], [2, 2], [1, 1], [1, 1], [1, 1], [0, 0]]\n"
     ]
    }
   ],
   "source": [
    "prediction = model.predict([X_test_num,X_test_img/255],)\n",
    "real_values= np.argmax(y_test, axis=1)\n",
    "predicted_classes = np.argmax(prediction, axis = 1)\n",
    "\n",
    "result = [list(t) for t in zip(predicted_classes, real_values)]\n",
    "#print(np.round(prediction))\n",
    "print(result)"
   ]
  },
  {
   "cell_type": "code",
   "execution_count": 67,
   "metadata": {},
   "outputs": [
    {
     "data": {
      "text/plain": [
       "<sklearn.metrics._plot.confusion_matrix.ConfusionMatrixDisplay at 0x2352bb6b4f0>"
      ]
     },
     "execution_count": 67,
     "metadata": {},
     "output_type": "execute_result"
    },
    {
     "data": {
      "image/png": "[encoded data removed]",
      "text/plain": [
       "<Figure size 640x480 with 2 Axes>"
      ]
     },
     "metadata": {},
     "output_type": "display_data"
    }
   ],
   "source": [
    "from sklearn.metrics import confusion_matrix\n",
    "true_classes = real_values\n",
    "\n",
    "cm = confusion_matrix(true_classes, predicted_classes)\n",
    "disp = sklearn.metrics.ConfusionMatrixDisplay(confusion_matrix = cm)\n",
    "disp.plot()\n",
    "\n",
    "\n"
   ]
  },
  {
   "cell_type": "code",
   "execution_count": 68,
   "metadata": {},
   "outputs": [
    {
     "name": "stdout",
     "output_type": "stream",
     "text": [
      "              precision    recall  f1-score   support\n",
      "\n",
      "           0       1.00      0.80      0.89         5\n",
      "           1       0.86      1.00      0.92         6\n",
      "           2       1.00      1.00      1.00         4\n",
      "\n",
      "    accuracy                           0.93        15\n",
      "   macro avg       0.95      0.93      0.94        15\n",
      "weighted avg       0.94      0.93      0.93        15\n",
      "\n"
     ]
    }
   ],
   "source": [
    "report = sklearn.metrics.classification_report(true_classes, \n",
    "                                               predicted_classes)\n",
    "print(report) "
   ]
  },
  {
   "cell_type": "code",
   "execution_count": 69,
   "metadata": {},
   "outputs": [
    {
     "name": "stdout",
     "output_type": "stream",
     "text": [
      "Test accuracy: 0.9333333333333333\n"
     ]
    }
   ],
   "source": [
    "from sklearn.metrics import roc_auc_score,accuracy_score,precision_score, recall_score\n",
    "\n",
    "test_accuracy = accuracy_score(true_classes, predicted_classes)\n",
    "#test_auc = roc_auc_score(true_classes, predicted_classes)\n",
    "#test_precision = precision_score(true_classes, predicted_classes)\n",
    "#test_recall = recall_score(true_classes, predicted_classes)\n",
    "\n",
    "print(\"Test accuracy:\",test_accuracy)\n",
    "#print(\"Test AUC:\",test_auc)\n",
    "#print(\"Test precision:\",test_precision)\n",
    "#print(\"Test recall:\",test_recall)"
   ]
  },
  {
   "cell_type": "code",
   "execution_count": 70,
   "metadata": {},
   "outputs": [
    {
     "name": "stdout",
     "output_type": "stream",
     "text": [
      "Train accuracy: 0.9666666388511658\n",
      "Train AUC: 0.9992708563804626\n",
      "Train precision: 0.9666666388511658\n",
      "Train recall: 0.9666666388511658\n",
      "Train loss: 0.052981674671173096\n"
     ]
    }
   ],
   "source": [
    "train_accuracy = model_history.history[\"accuracy\"][-1]\n",
    "train_auc = model_history.history[\"auc\"][-1]\n",
    "train_precision = model_history.history[\"precision\"][-1]\n",
    "train_recall = model_history.history[\"recall\"][-1]\n",
    "train_loss = model_history.history[\"loss\"][-1]\n",
    "\n",
    "print(\"Train accuracy:\",train_accuracy)\n",
    "print(\"Train AUC:\",train_auc)\n",
    "print(\"Train precision:\",train_precision)\n",
    "print(\"Train recall:\",train_recall)\n",
    "print(\"Train loss:\",train_loss)"
   ]
  },
  {
   "cell_type": "code",
   "execution_count": null,
   "metadata": {},
   "outputs": [
    {
     "name": "stdout",
     "output_type": "stream",
     "text": [
      "Validation accuracy: 1.0\n",
      "Validation AUC: 1.0\n",
      "Validation precision: 1.0\n",
      "Validation recall: 1.0\n",
      "Validation loss: 7.627667218912393e-05\n"
     ]
    }
   ],
   "source": [
    "validation_accuracy = model_history.history[\"val_accuracy\"][-1]\n",
    "validation_auc = model_history.history[\"val_auc\"][-1]\n",
    "validation_precision = model_history.history[\"val_precision\"][-1]\n",
    "validation_recall = model_history.history[\"val_recall\"][-1]\n",
    "validation_loss = model_history.history[\"val_loss\"][-1]\n",
    "\n",
    "print(\"Validation accuracy:\",validation_accuracy)\n",
    "print(\"Validation AUC:\",validation_auc)\n",
    "print(\"Validation precision:\",validation_precision)\n",
    "print(\"Validation recall:\",validation_recall)\n",
    "print(\"Validation loss:\",validation_loss)"
   ]
  }
 ],
 "metadata": {
  "colab": {
   "provenance": [
    {
     "file_id": "1plFq1CpEXIdc9LankaLPiOObRg0_y5l2",
     "timestamp": 1684250343977
    }
   ]
  },
  "kernelspec": {
   "display_name": "TINTOlib",
   "language": "python",
   "name": "python3"
  },
  "language_info": {
   "codemirror_mode": {
    "name": "ipython",
    "version": 3
   },
   "file_extension": ".py",
   "mimetype": "text/x-python",
   "name": "python",
   "nbconvert_exporter": "python",
   "pygments_lexer": "ipython3",
   "version": "3.10.16"
  }
 },
 "nbformat": 4,
 "nbformat_minor": 1
}
