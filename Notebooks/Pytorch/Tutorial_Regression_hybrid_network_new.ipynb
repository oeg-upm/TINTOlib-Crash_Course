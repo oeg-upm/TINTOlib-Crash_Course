{
  "cells": [
    {
      "cell_type": "markdown",
      "metadata": {
        "id": "EybOZ6hSjpCF"
      },
      "source": [
        "<h1><font color=\"#113D68\" size=6>TINTOlib: Converting Tidy Data into Image for Hybrid Neural Networks (HyNN)</font></h1>\n",
        "\n",
        "<h1><font color=\"#113D68\" size=5>Template Regression Machine Learning problem with a Hybrid Neural Networks (CNN+MLP)</font></h1>\n",
        "\n",
        "<br><br>\n",
        "<div style=\"text-align: right\">\n",
        "<font color=\"#113D68\" size=3>Manuel Castillo-Cara</font><br>\n",
        "<font color=\"#113D68\" size=3>Raúl García-Castro</font><br>\n",
        "\n",
        "</div>\n",
        "\n",
        "---"
      ]
    },
    {
      "cell_type": "markdown",
      "metadata": {
        "id": "8SBn5LbYlRIC"
      },
      "source": [
        "<div class=\"alert alert-block alert-info\">\n",
        "    \n",
        "<i class=\"fa fa-info-circle\" aria-hidden=\"true\"></i>\n",
        "More information about [Manuel Castillo-Cara](https://www.manuelcastillo.eu/)\n",
        "\n",
        "<i class=\"fa fa-info-circle\" aria-hidden=\"true\"></i>\n",
        "More information about [Raúl García-Castro](http://www.garcia-castro.com/)"
      ]
    },
    {
      "cell_type": "markdown",
      "metadata": {
        "id": "2l5nFzsdjpCW"
      },
      "source": [
        "---\n",
        "\n",
        "<a id=\"indice\"></a>\n",
        "<h2><font color=\"#004D7F\" size=5>Index</font></h2>\n",
        "\n",
        "* [0. Context](#section0)\n",
        "* [1. Description](#section1)\n",
        "    * [1.1. Main Features](#section11)\n",
        "    * [1.2. Citation](#section12)\n",
        "    * [1.3. Documentation and License](#section13)\n",
        "* [2. Libraries](#section2)\n",
        "    * [2.1. System setup](#section21)\n",
        "    * [2.2. Invoke the libraries](#section22)\n",
        "* [3. Data processing](#section3)\n",
        "    * [3.1. TINTOlib methods](#section31)\n",
        "    * [3.2. Read the dataset](#section32)\n",
        "    * [3.3. Generate images](#section33)\n",
        "    * [3.4. Read images](#section34)\n",
        "    * [3.5. Mix images and tidy data](#section35)\n",
        "* [4. Pre-modelling phase](#section4)\n",
        "    * [4.1. Data curation](#section41)\n",
        "* [5. Modelling hybrid network](#section5)\n",
        "    * [5.1. FFNN for tabular data](#section51)\n",
        "    * [5.2. CNN for TINTOlib images](#section52)\n",
        "    * [5.3. Concatenate branches](#section53)\n",
        "    * [5.4. Metrics](#section54)\n",
        "    * [5.5. Compile and fit](#section55)\n",
        "* [6. Results](#section6)\n",
        "    * [6.1. Train/Validation representation](#section61)\n",
        "    * [6.2. Validation/Test evaluation](#section62)"
      ]
    },
    {
      "cell_type": "markdown",
      "metadata": {
        "id": "SxTpMExHjpCa"
      },
      "source": [
        "---\n",
        "<a id=\"section0\"></a>\n",
        "# <font color=\"#004D7F\" size=6> 0. Context</font>"
      ]
    },
    {
      "cell_type": "markdown",
      "metadata": {
        "id": "JlVYt3MRrl_V"
      },
      "source": [
        "This is a tutorial on how to read the images created by TINTOlib and pass them to a very simple pretrained Convolutional Neural Network (CNN). The images must already be created by the TINTOlib software. See the documentation in GITHUB for how to create the images from tabular data.\n",
        "\n",
        "Remember that when using CNN you can set the training to be done with GPUs to improve performance."
      ]
    },
    {
      "cell_type": "markdown",
      "metadata": {
        "id": "i3tgsO0BjpCj"
      },
      "source": [
        "<div class=\"alert alert-block alert-info\">\n",
        "    \n",
        "<i class=\"fa fa-info-circle\" aria-hidden=\"true\"></i>\n",
        "You can see all information about TINTOlib in [GitHub](https://github.com/oeg-upm/TINTOlib)"
      ]
    },
    {
      "cell_type": "markdown",
      "metadata": {
        "id": "mVaN8IWPirwr"
      },
      "source": [
        "<div class=\"alert alert-block alert-info\">\n",
        "\n",
        "<i class=\"fa fa-info-circle\" aria-hidden=\"true\"></i>\n",
        "You can see all information about TINTOlib documentation in [PyPI](https://tintolib.readthedocs.io/en/latest/installation.html)"
      ]
    },
    {
      "cell_type": "markdown",
      "metadata": {
        "id": "4RKBgDwzjpCl"
      },
      "source": [
        "---\n",
        "<div style=\"text-align: right\"> <font size=5> <a href=\"#indice\"><i class=\"fa fa-arrow-circle-up\" aria-hidden=\"true\" style=\"color:#004D7F\"></i></a></font></div>\n",
        "\n",
        "---"
      ]
    },
    {
      "cell_type": "markdown",
      "metadata": {
        "id": "kpU7pi6yjpCn"
      },
      "source": [
        "<a id=\"section1\"></a>\n",
        "# <font color=\"#004D7F\" size=6> 1. Description</font>"
      ]
    },
    {
      "cell_type": "markdown",
      "metadata": {
        "id": "NL9RoFkEjpCq"
      },
      "source": [
        "The growing interest in the use of algorithms-based machine learning for predictive tasks has generated a large and diverse development of algorithms. However, it is widely known that not all of these algorithms are adapted to efficient solutions in certain tidy data format datasets. For this reason, novel techniques are currently being developed to convert tidy data into images with the aim of using Convolutional Neural Networks (CNNs). TINTOlib offers the opportunity to convert tidy data into images through several techniques: TINTO, IGTD, REFINED, SuperTML, BarGraph, DistanceMatrix and Combination."
      ]
    },
    {
      "cell_type": "markdown",
      "metadata": {
        "id": "HFrF4C89jpCt"
      },
      "source": [
        "---\n",
        "<a id=\"section11\"></a>\n",
        "# <font color=\"#004D7F\" size=5> 1.1. Main Features</font>"
      ]
    },
    {
      "cell_type": "markdown",
      "metadata": {
        "id": "1gruE0_sjpCu"
      },
      "source": [
        "- Supports all CSV data in **[Tidy Data](https://www.jstatsoft.org/article/view/v059i10)** format.\n",
        "- For now, the algorithm converts tabular data for binary and multi-class classification problems into machine learning.\n",
        "- Input data formats:\n",
        "    - **Tabular files**: The input data could be in **[CSV](https://en.wikipedia.org/wiki/Comma-separated_values)**, taking into account the **[Tidy Data](https://www.jstatsoft.org/article/view/v059i10)** format.\n",
        "    - **Dataframe***: The input data could be in **[Pandas Dataframe](https://pandas.pydata.org/docs/reference/api/pandas.DataFrame.html)**, taking into account the **[Tidy Data](https://www.jstatsoft.org/article/view/v059i10)** format.\n",
        "    - **Tidy Data**: The **target** (variable to be predicted) should be set as the last column of the dataset. Therefore, the first columns will be the features.\n",
        "    - All data must be in numerical form. TINTOlib does not accept data in string or any other non-numeric format.\n",
        "- Runs on **Linux**, **Windows** and **macOS** systems.\n",
        "- Compatible with **[Python](https://www.python.org/)** 3.7 or higher."
      ]
    },
    {
      "cell_type": "markdown",
      "metadata": {
        "id": "At5cvb9Lirw6"
      },
      "source": [
        "---\n",
        "<a id=\"section12\"></a>\n",
        "# <font color=\"#004D7F\" size=5> 1.2. Citation</font>"
      ]
    },
    {
      "cell_type": "markdown",
      "metadata": {
        "id": "WAcloCKZirw7"
      },
      "source": [
        "**TINTOlib** is an python library that makes **Synthetic Images** from [Tidy Data](https://www.jstatsoft.org/article/view/v059i10) (also knows as **Tabular Data**).\n",
        "\n",
        "**Citing TINTO**: If you used TINTO in your work, please cite the **[SoftwareX](https://doi.org/10.1016/j.softx.2023.101391)**:\n",
        "\n",
        "```bib\n",
        "@article{softwarex_TINTO,\n",
        "    title = {TINTO: Converting Tidy Data into Image for Classification\n",
        "            with 2-Dimensional Convolutional Neural Networks},\n",
        "    journal = {SoftwareX},\n",
        "    author = {Manuel Castillo-Cara and Reewos Talla-Chumpitaz and\n",
        "              Raúl García-Castro and Luis Orozco-Barbosa},\n",
        "    year = {2023},\n",
        "    pages = {101391},\n",
        "    issn = {2352-7110},\n",
        "    doi = {https://doi.org/10.1016/j.softx.2023.101391}\n",
        "}\n",
        "```\n",
        "\n",
        "And use-case developed in **[INFFUS Paper](https://doi.org/10.1016/j.inffus.2022.10.011)**\n",
        "\n",
        "```bib\n",
        "@article{inffus_TINTO,\n",
        "    title = {A novel deep learning approach using blurring image\n",
        "            techniques for Bluetooth-based indoor localisation},\n",
        "    journal = {Information Fusion},\n",
        "    author = {Reewos Talla-Chumpitaz and Manuel Castillo-Cara and\n",
        "              Luis Orozco-Barbosa and Raúl García-Castro},\n",
        "    volume = {91},\n",
        "    pages = {173-186},\n",
        "    year = {2023},\n",
        "    issn = {1566-2535},\n",
        "    doi = {https://doi.org/10.1016/j.inffus.2022.10.011}\n",
        "}\n",
        "```"
      ]
    },
    {
      "cell_type": "markdown",
      "metadata": {
        "id": "Tgi8NNWHirw8"
      },
      "source": [
        "---\n",
        "<a id=\"section13\"></a>\n",
        "# <font color=\"#004D7F\" size=5> 1.3. Documentation and License</font>"
      ]
    },
    {
      "cell_type": "markdown",
      "metadata": {
        "id": "An9470Tqirw9"
      },
      "source": [
        "TINTOlib has a wide range of documentation on both GitHub and PiPY.\n",
        "\n",
        "Moreover, TINTOlib is free and open software with Apache 2.0 license."
      ]
    },
    {
      "cell_type": "markdown",
      "metadata": {
        "id": "n2SJRrucirw-"
      },
      "source": [
        "<div class=\"alert alert-block alert-info\">\n",
        "    \n",
        "<i class=\"fa fa-info-circle\" aria-hidden=\"true\"></i>\n",
        "You can see all information about TINTOlib in [GitHub](https://github.com/oeg-upm/TINTOlib)"
      ]
    },
    {
      "cell_type": "markdown",
      "metadata": {
        "id": "upfq7gH3irw_"
      },
      "source": [
        "<div class=\"alert alert-block alert-info\">\n",
        "\n",
        "<i class=\"fa fa-info-circle\" aria-hidden=\"true\"></i>\n",
        "You can see all information about TINTOlib documentation in [PyPI](https://tintolib.readthedocs.io/en/latest/installation.html)"
      ]
    },
    {
      "cell_type": "markdown",
      "metadata": {
        "id": "Z3EzYcjJjpC6"
      },
      "source": [
        "---\n",
        "<div style=\"text-align: right\"> <font size=5> <a href=\"#indice\"><i class=\"fa fa-arrow-circle-up\" aria-hidden=\"true\" style=\"color:#004D7F\"></i></a></font></div>\n",
        "\n",
        "---"
      ]
    },
    {
      "cell_type": "markdown",
      "metadata": {
        "id": "qwYF5A2njpC8"
      },
      "source": [
        "<a id=\"section2\"></a>\n",
        "# <font color=\"#004D7F\" size=6> 2. Libraries</font>"
      ]
    },
    {
      "cell_type": "markdown",
      "metadata": {
        "id": "Hn-_Qzf7irxB"
      },
      "source": [
        "---\n",
        "<a id=\"section21\"></a>\n",
        "# <font color=\"#004D7F\" size=5> 2.1. System setup</font>"
      ]
    },
    {
      "cell_type": "markdown",
      "metadata": {
        "id": "2YGCnZifirxC"
      },
      "source": [
        "Before installing the libraries you must have the `mpi4py` package installed on the native (Linux) system. This link shows how to install it:\n",
        "- Link: [`mpi4py` in Linux](https://www.geeksforgeeks.org/how-to-install-python3-mpi4py-package-on-linux/)\n",
        "\n",
        "For example, in Linux:\n",
        "\n",
        "```\n",
        "    sudo apt-get install python3\n",
        "    sudo apt install python3-pip\n",
        "    sudo apt install python3-mpi4py\n",
        "```\n",
        "\n",
        "If you are in Windows, Mac or, also, Linux, you can install from PyPI if you want:\n",
        "```\n",
        "    sudo pip3 install mpi4py\n",
        "```"
      ]
    },
    {
      "cell_type": "markdown",
      "metadata": {
        "id": "p1Oro1QfirxD"
      },
      "source": [
        "<div class=\"alert alert-block alert-info\">\n",
        "    \n",
        "<i class=\"fa fa-info-circle\" aria-hidden=\"true\"></i>\n",
        "Note that you must **restart the kernel or the system** so that it can load the libraries."
      ]
    },
    {
      "cell_type": "markdown",
      "metadata": {
        "id": "VsMELXdZirxE"
      },
      "source": [
        "Now, once you have installed `mpi4py` you can install the PyPI libraries and dependences."
      ]
    },
    {
      "cell_type": "code",
      "execution_count": 1,
      "metadata": {
        "colab": {
          "base_uri": "https://localhost:8080/"
        },
        "id": "tM2K4vorirxF",
        "outputId": "35ab5389-316a-46ae-c66a-633d5de152ee"
      },
      "outputs": [
        {
          "name": "stdout",
          "output_type": "stream",
          "text": [
            "Requirement already satisfied: torchmetrics in /usr/local/lib/python3.10/dist-packages (1.3.2)\n",
            "Requirement already satisfied: pytorch_lightning in /usr/local/lib/python3.10/dist-packages (2.2.1)\n",
            "Requirement already satisfied: TINTOlib in /usr/local/lib/python3.10/dist-packages (0.0.14)\n",
            "Requirement already satisfied: imblearn in /usr/local/lib/python3.10/dist-packages (0.0)\n",
            "Requirement already satisfied: keras_preprocessing in /usr/local/lib/python3.10/dist-packages (1.1.2)\n",
            "Requirement already satisfied: mpi4py in /usr/local/lib/python3.10/dist-packages (3.1.5)\n",
            "Requirement already satisfied: numpy>1.20.0 in /usr/local/lib/python3.10/dist-packages (from torchmetrics) (1.25.2)\n",
            "Requirement already satisfied: packaging>17.1 in /usr/local/lib/python3.10/dist-packages (from torchmetrics) (24.0)\n",
            "Requirement already satisfied: torch>=1.10.0 in /usr/local/lib/python3.10/dist-packages (from torchmetrics) (2.2.1+cu121)\n",
            "Requirement already satisfied: lightning-utilities>=0.8.0 in /usr/local/lib/python3.10/dist-packages (from torchmetrics) (0.11.2)\n",
            "Requirement already satisfied: tqdm>=4.57.0 in /usr/local/lib/python3.10/dist-packages (from pytorch_lightning) (4.66.2)\n",
            "Requirement already satisfied: PyYAML>=5.4 in /usr/local/lib/python3.10/dist-packages (from pytorch_lightning) (6.0.1)\n",
            "Requirement already satisfied: fsspec[http]>=2022.5.0 in /usr/local/lib/python3.10/dist-packages (from pytorch_lightning) (2023.6.0)\n",
            "Requirement already satisfied: typing-extensions>=4.4.0 in /usr/local/lib/python3.10/dist-packages (from pytorch_lightning) (4.10.0)\n",
            "Requirement already satisfied: imbalanced-learn in /usr/local/lib/python3.10/dist-packages (from imblearn) (0.10.1)\n",
            "Requirement already satisfied: six>=1.9.0 in /usr/local/lib/python3.10/dist-packages (from keras_preprocessing) (1.16.0)\n",
            "Requirement already satisfied: requests in /usr/local/lib/python3.10/dist-packages (from fsspec[http]>=2022.5.0->pytorch_lightning) (2.31.0)\n",
            "Requirement already satisfied: aiohttp!=4.0.0a0,!=4.0.0a1 in /usr/local/lib/python3.10/dist-packages (from fsspec[http]>=2022.5.0->pytorch_lightning) (3.9.3)\n",
            "Requirement already satisfied: setuptools in /usr/local/lib/python3.10/dist-packages (from lightning-utilities>=0.8.0->torchmetrics) (67.7.2)\n",
            "Requirement already satisfied: filelock in /usr/local/lib/python3.10/dist-packages (from torch>=1.10.0->torchmetrics) (3.13.3)\n",
            "Requirement already satisfied: sympy in /usr/local/lib/python3.10/dist-packages (from torch>=1.10.0->torchmetrics) (1.12)\n",
            "Requirement already satisfied: networkx in /usr/local/lib/python3.10/dist-packages (from torch>=1.10.0->torchmetrics) (3.2.1)\n",
            "Requirement already satisfied: jinja2 in /usr/local/lib/python3.10/dist-packages (from torch>=1.10.0->torchmetrics) (3.1.3)\n",
            "Requirement already satisfied: nvidia-cuda-nvrtc-cu12==12.1.105 in /usr/local/lib/python3.10/dist-packages (from torch>=1.10.0->torchmetrics) (12.1.105)\n",
            "Requirement already satisfied: nvidia-cuda-runtime-cu12==12.1.105 in /usr/local/lib/python3.10/dist-packages (from torch>=1.10.0->torchmetrics) (12.1.105)\n",
            "Requirement already satisfied: nvidia-cuda-cupti-cu12==12.1.105 in /usr/local/lib/python3.10/dist-packages (from torch>=1.10.0->torchmetrics) (12.1.105)\n",
            "Requirement already satisfied: nvidia-cudnn-cu12==8.9.2.26 in /usr/local/lib/python3.10/dist-packages (from torch>=1.10.0->torchmetrics) (8.9.2.26)\n",
            "Requirement already satisfied: nvidia-cublas-cu12==12.1.3.1 in /usr/local/lib/python3.10/dist-packages (from torch>=1.10.0->torchmetrics) (12.1.3.1)\n",
            "Requirement already satisfied: nvidia-cufft-cu12==11.0.2.54 in /usr/local/lib/python3.10/dist-packages (from torch>=1.10.0->torchmetrics) (11.0.2.54)\n",
            "Requirement already satisfied: nvidia-curand-cu12==10.3.2.106 in /usr/local/lib/python3.10/dist-packages (from torch>=1.10.0->torchmetrics) (10.3.2.106)\n",
            "Requirement already satisfied: nvidia-cusolver-cu12==11.4.5.107 in /usr/local/lib/python3.10/dist-packages (from torch>=1.10.0->torchmetrics) (11.4.5.107)\n",
            "Requirement already satisfied: nvidia-cusparse-cu12==12.1.0.106 in /usr/local/lib/python3.10/dist-packages (from torch>=1.10.0->torchmetrics) (12.1.0.106)\n",
            "Requirement already satisfied: nvidia-nccl-cu12==2.19.3 in /usr/local/lib/python3.10/dist-packages (from torch>=1.10.0->torchmetrics) (2.19.3)\n",
            "Requirement already satisfied: nvidia-nvtx-cu12==12.1.105 in /usr/local/lib/python3.10/dist-packages (from torch>=1.10.0->torchmetrics) (12.1.105)\n",
            "Requirement already satisfied: triton==2.2.0 in /usr/local/lib/python3.10/dist-packages (from torch>=1.10.0->torchmetrics) (2.2.0)\n",
            "Requirement already satisfied: nvidia-nvjitlink-cu12 in /usr/local/lib/python3.10/dist-packages (from nvidia-cusolver-cu12==11.4.5.107->torch>=1.10.0->torchmetrics) (12.4.127)\n",
            "Requirement already satisfied: scipy>=1.3.2 in /usr/local/lib/python3.10/dist-packages (from imbalanced-learn->imblearn) (1.11.4)\n",
            "Requirement already satisfied: scikit-learn>=1.0.2 in /usr/local/lib/python3.10/dist-packages (from imbalanced-learn->imblearn) (1.2.2)\n",
            "Requirement already satisfied: joblib>=1.1.1 in /usr/local/lib/python3.10/dist-packages (from imbalanced-learn->imblearn) (1.3.2)\n",
            "Requirement already satisfied: threadpoolctl>=2.0.0 in /usr/local/lib/python3.10/dist-packages (from imbalanced-learn->imblearn) (3.4.0)\n",
            "Requirement already satisfied: aiosignal>=1.1.2 in /usr/local/lib/python3.10/dist-packages (from aiohttp!=4.0.0a0,!=4.0.0a1->fsspec[http]>=2022.5.0->pytorch_lightning) (1.3.1)\n",
            "Requirement already satisfied: attrs>=17.3.0 in /usr/local/lib/python3.10/dist-packages (from aiohttp!=4.0.0a0,!=4.0.0a1->fsspec[http]>=2022.5.0->pytorch_lightning) (23.2.0)\n",
            "Requirement already satisfied: frozenlist>=1.1.1 in /usr/local/lib/python3.10/dist-packages (from aiohttp!=4.0.0a0,!=4.0.0a1->fsspec[http]>=2022.5.0->pytorch_lightning) (1.4.1)\n",
            "Requirement already satisfied: multidict<7.0,>=4.5 in /usr/local/lib/python3.10/dist-packages (from aiohttp!=4.0.0a0,!=4.0.0a1->fsspec[http]>=2022.5.0->pytorch_lightning) (6.0.5)\n",
            "Requirement already satisfied: yarl<2.0,>=1.0 in /usr/local/lib/python3.10/dist-packages (from aiohttp!=4.0.0a0,!=4.0.0a1->fsspec[http]>=2022.5.0->pytorch_lightning) (1.9.4)\n",
            "Requirement already satisfied: async-timeout<5.0,>=4.0 in /usr/local/lib/python3.10/dist-packages (from aiohttp!=4.0.0a0,!=4.0.0a1->fsspec[http]>=2022.5.0->pytorch_lightning) (4.0.3)\n",
            "Requirement already satisfied: MarkupSafe>=2.0 in /usr/local/lib/python3.10/dist-packages (from jinja2->torch>=1.10.0->torchmetrics) (2.1.5)\n",
            "Requirement already satisfied: charset-normalizer<4,>=2 in /usr/local/lib/python3.10/dist-packages (from requests->fsspec[http]>=2022.5.0->pytorch_lightning) (3.3.2)\n",
            "Requirement already satisfied: idna<4,>=2.5 in /usr/local/lib/python3.10/dist-packages (from requests->fsspec[http]>=2022.5.0->pytorch_lightning) (3.6)\n",
            "Requirement already satisfied: urllib3<3,>=1.21.1 in /usr/local/lib/python3.10/dist-packages (from requests->fsspec[http]>=2022.5.0->pytorch_lightning) (2.0.7)\n",
            "Requirement already satisfied: certifi>=2017.4.17 in /usr/local/lib/python3.10/dist-packages (from requests->fsspec[http]>=2022.5.0->pytorch_lightning) (2024.2.2)\n",
            "Requirement already satisfied: mpmath>=0.19 in /usr/local/lib/python3.10/dist-packages (from sympy->torch>=1.10.0->torchmetrics) (1.3.0)\n"
          ]
        }
      ],
      "source": [
        "!pip install torchmetrics pytorch_lightning TINTOlib imblearn keras_preprocessing mpi4py"
      ]
    },
    {
      "cell_type": "markdown",
      "metadata": {
        "id": "-OV3PYZxirxK"
      },
      "source": [
        "<div class=\"alert alert-block alert-info\">\n",
        "    \n",
        "<i class=\"fa fa-info-circle\" aria-hidden=\"true\"></i>\n",
        "Note that you must **restart the kernel** so that it can load the libraries."
      ]
    },
    {
      "cell_type": "markdown",
      "metadata": {
        "id": "nKMOKiJXirxL"
      },
      "source": [
        "---\n",
        "<a id=\"section22\"></a>\n",
        "# <font color=\"#004D7F\" size=5> 2.2. Invoke the libraries</font>"
      ]
    },
    {
      "cell_type": "markdown",
      "metadata": {
        "id": "5AdHKnWYsEq_"
      },
      "source": [
        "The first thing we need to do is to declare the libraries"
      ]
    },
    {
      "cell_type": "code",
      "execution_count": 2,
      "metadata": {
        "id": "PeeBbGxlpjFp",
        "scrolled": true
      },
      "outputs": [],
      "source": [
        "import os\n",
        "import random\n",
        "import pandas as pd\n",
        "import numpy as np\n",
        "from tqdm import tqdm\n",
        "#import cv2\n",
        "import gc\n",
        "import matplotlib.pyplot as plt\n",
        "#import openslide\n",
        "#from openslide.deepzoom import DeepZoomGenerator\n",
        "import tifffile as tifi\n",
        "import sklearn\n",
        "import tensorflow as tf\n",
        "import seaborn as sns\n",
        "from PIL import Image\n",
        "\n",
        "\n",
        "from sklearn.metrics import mean_absolute_error, mean_squared_error, r2_score,mean_absolute_percentage_error\n",
        "\n",
        "from keras_preprocessing.image import ImageDataGenerator\n",
        "from tensorflow.keras.models import load_model\n",
        "\n",
        "from sklearn.model_selection import train_test_split\n",
        "from tensorflow.keras.applications import vgg16, vgg19, resnet50, mobilenet, inception_resnet_v2, densenet, inception_v3, xception, nasnet, ResNet152V2\n",
        "from tensorflow.keras.models import Sequential, Model, load_model\n",
        "from tensorflow.keras.layers import Dense, Conv2D, MaxPool2D, Flatten, Dropout, BatchNormalization, InputLayer, LayerNormalization\n",
        "from tensorflow.keras.callbacks import ModelCheckpoint, ReduceLROnPlateau, EarlyStopping\n",
        "from tensorflow.keras.optimizers import SGD, Adam, Adadelta, Adamax\n",
        "from tensorflow.keras import layers, models, Model\n",
        "from tensorflow.keras.losses import MeanAbsoluteError, MeanAbsolutePercentageError\n",
        "from tensorflow.keras.layers import Input, Activation,MaxPooling2D, concatenate\n",
        "\n",
        "from imblearn.over_sampling import RandomOverSampler\n",
        "\n",
        "#Models of TINTOlib\n",
        "from TINTOlib.tinto import TINTO\n",
        "from TINTOlib.supertml import SuperTML\n",
        "from TINTOlib.igtd import IGTD\n",
        "from TINTOlib.refined import REFINED\n",
        "from TINTOlib.barGraph import BarGraph\n",
        "from TINTOlib.distanceMatrix import DistanceMatrix\n",
        "from TINTOlib.combination import Combination\n",
        "\n",
        "# SET RANDOM SEED FOR REPRODUCIBILITY\n",
        "SEED = 64\n",
        "#torch.manual_seed(SEED)\n",
        "#torch.cuda.manual_seed(SEED)\n",
        "#torch.cuda.manual_seed_all(SEED)\n",
        "#torch.backends.cudnn.deterministic = True\n",
        "#torch.backends.cudnn.benchmark = False\n",
        "os.environ['PYTHONHASHSEED']=str(SEED)\n",
        "random.seed(SEED)\n",
        "np.random.seed(SEED)\n",
        "tf.random.set_seed(SEED)"
      ]
    },
    {
      "cell_type": "markdown",
      "metadata": {
        "id": "NwS-cKUxjpDQ"
      },
      "source": [
        "---\n",
        "<div style=\"text-align: right\"> <font size=5> <a href=\"#indice\"><i class=\"fa fa-arrow-circle-up\" aria-hidden=\"true\" style=\"color:#004D7F\"></i></a></font></div>\n",
        "\n",
        "---"
      ]
    },
    {
      "cell_type": "markdown",
      "metadata": {
        "id": "aDL4LARWjpDT"
      },
      "source": [
        "<a id=\"section3\"></a>\n",
        "# <font color=\"#004D7F\" size=6> 3. Data processing</font>"
      ]
    },
    {
      "cell_type": "markdown",
      "metadata": {
        "id": "jXcRw78ljpDU"
      },
      "source": [
        "The first thing to do is to read all the images created by TINTO. TINTO creates a folder which contains subfolders corresponding to each target that has the problem. Each image corresponds to a sample of the original dataset."
      ]
    },
    {
      "cell_type": "markdown",
      "metadata": {
        "id": "-3tyEAN5irxT"
      },
      "source": [
        "---\n",
        "<a id=\"section31\"></a>\n",
        "# <font color=\"#004D7F\" size=5> 3.1. TINTOlib methods</font>\n",
        "\n",
        "We prepare the declaration of the classes with the TINTOlib method we want to transform. Note that TINTOlib has several methods and we will have to choose one of them since each method generates different images.\n",
        "\n",
        "In addition, we establish the paths where the dataset is located and also the folder where the images will be created."
      ]
    },
    {
      "cell_type": "markdown",
      "metadata": {},
      "source": [
        "<a id=\"section31\"></a>\n",
        "# <font color=\"#004D7F\" size=5> 3.1. Read the dataset</font>\n",
        "\n",
        "In this part, we proceed to read the dataset."
      ]
    },
    {
      "cell_type": "code",
      "execution_count": 3,
      "metadata": {},
      "outputs": [
        {
          "data": {
            "text/html": [
              "<div>\n",
              "<style scoped>\n",
              "    .dataframe tbody tr th:only-of-type {\n",
              "        vertical-align: middle;\n",
              "    }\n",
              "\n",
              "    .dataframe tbody tr th {\n",
              "        vertical-align: top;\n",
              "    }\n",
              "\n",
              "    .dataframe thead th {\n",
              "        text-align: right;\n",
              "    }\n",
              "</style>\n",
              "<table border=\"1\" class=\"dataframe\">\n",
              "  <thead>\n",
              "    <tr style=\"text-align: right;\">\n",
              "      <th></th>\n",
              "      <th>CRIM</th>\n",
              "      <th>ZN</th>\n",
              "      <th>INDUS</th>\n",
              "      <th>CHAS</th>\n",
              "      <th>NOX</th>\n",
              "      <th>RM</th>\n",
              "      <th>AGE</th>\n",
              "      <th>DIS</th>\n",
              "      <th>RAD</th>\n",
              "      <th>TAX</th>\n",
              "      <th>PTRATIO</th>\n",
              "      <th>B</th>\n",
              "      <th>LSTAT</th>\n",
              "      <th>MEDV</th>\n",
              "    </tr>\n",
              "  </thead>\n",
              "  <tbody>\n",
              "    <tr>\n",
              "      <th>0</th>\n",
              "      <td>0.00632</td>\n",
              "      <td>18.0</td>\n",
              "      <td>2.31</td>\n",
              "      <td>0</td>\n",
              "      <td>0.538</td>\n",
              "      <td>6.575</td>\n",
              "      <td>65.2</td>\n",
              "      <td>4.0900</td>\n",
              "      <td>1</td>\n",
              "      <td>296.0</td>\n",
              "      <td>15.3</td>\n",
              "      <td>396.9</td>\n",
              "      <td>4.98</td>\n",
              "      <td>24.0</td>\n",
              "    </tr>\n",
              "    <tr>\n",
              "      <th>1</th>\n",
              "      <td>0.02731</td>\n",
              "      <td>0.0</td>\n",
              "      <td>7.07</td>\n",
              "      <td>0</td>\n",
              "      <td>0.469</td>\n",
              "      <td>6.421</td>\n",
              "      <td>78.9</td>\n",
              "      <td>4.9671</td>\n",
              "      <td>2</td>\n",
              "      <td>242.0</td>\n",
              "      <td>17.8</td>\n",
              "      <td>396.9</td>\n",
              "      <td>9.14</td>\n",
              "      <td>21.6</td>\n",
              "    </tr>\n",
              "  </tbody>\n",
              "</table>\n",
              "</div>"
            ],
            "text/plain": [
              "      CRIM    ZN  INDUS  CHAS    NOX     RM   AGE     DIS  RAD    TAX  \\\n",
              "0  0.00632  18.0   2.31     0  0.538  6.575  65.2  4.0900    1  296.0   \n",
              "1  0.02731   0.0   7.07     0  0.469  6.421  78.9  4.9671    2  242.0   \n",
              "\n",
              "   PTRATIO      B  LSTAT  MEDV  \n",
              "0     15.3  396.9   4.98  24.0  \n",
              "1     17.8  396.9   9.14  21.6  "
            ]
          },
          "execution_count": 3,
          "metadata": {},
          "output_type": "execute_result"
        }
      ],
      "source": [
        "dataset_name = 'boston'\n",
        "\n",
        "#Read CSV\n",
        "df = pd.read_csv(f\"../../Data/Regression/{dataset_name}.csv\")\n",
        "df.head(2)"
      ]
    },
    {
      "cell_type": "code",
      "execution_count": 4,
      "metadata": {},
      "outputs": [
        {
          "data": {
            "text/plain": [
              "(506, 14)"
            ]
          },
          "execution_count": 4,
          "metadata": {},
          "output_type": "execute_result"
        }
      ],
      "source": [
        "df.shape"
      ]
    },
    {
      "cell_type": "markdown",
      "metadata": {},
      "source": [
        "To determine the appropriate size for a square image that contains all the feature pixels, you need to calculate the square root of the total number of features. The resulting value can be used for the methods that requires inserting the image size."
      ]
    },
    {
      "cell_type": "code",
      "execution_count": 5,
      "metadata": {},
      "outputs": [
        {
          "name": "stdout",
          "output_type": "stream",
          "text": [
            "4\n"
          ]
        }
      ],
      "source": [
        "# Get the shape of the dataframe\n",
        "num_columns = df.shape[1]\n",
        "\n",
        "# Calculate number of columns - 1\n",
        "columns_minus_one = num_columns - 1\n",
        "\n",
        "# Calculate the square root for image size\n",
        "import math\n",
        "image_size = math.ceil(math.sqrt(columns_minus_one))\n",
        "print(image_size)"
      ]
    },
    {
      "cell_type": "markdown",
      "metadata": {},
      "source": [
        "TINTOlib creates a folder structure to store images corresponding to each target in a problem. For regression problems, since there are no distinct classes, all images are stored in a single subfolder named images/. Additionally, a CSV file is generated containing:\n",
        "\n",
        "- The file paths of all images.\n",
        "- The target value for each image, which corresponds to a sample from the original dataset."
      ]
    },
    {
      "cell_type": "markdown",
      "metadata": {},
      "source": [
        "---\n",
        "<a id=\"section32\"></a>\n",
        "# <font color=\"#004D7F\" size=5> 3.2. Create images with TINTOlib</font>\n",
        "\n",
        "We prepare the declaration of the classes with the TINTOlib method we want to transform. Note that TINTOlib has several methods and we will have to choose one of them since each method generates different images.\n",
        "\n",
        "In addition, we establish the paths where the dataset is located and also the folder where the images will be created."
      ]
    },
    {
      "cell_type": "code",
      "execution_count": 26,
      "metadata": {},
      "outputs": [],
      "source": [
        "#Select the model and the parameters\n",
        "#problem_type = \"supervised\"\n",
        "problem_type = \"regression\"\n",
        "\n",
        "# Transformation methods\n",
        "image_model = TINTO(problem=problem_type, blur=True, option='maximum', pixels=30, random_seed=SEED)\n",
        "name = f\"TINTO_blur_maximum_30\"\n",
        "# image_model = REFINED(problem=problem_type, random_seed=SEED, zoom=1, n_processors=8)\n",
        "# name = f\"REFINED\"\n",
        "# image_model = IGTD(problem=problem_type, scale=[image_size,image_size], fea_dist_method='Euclidean', image_dist_method='Euclidean', error='abs', max_step=30000, val_step=300, random_seed=SEED)\n",
        "# name = f\"IGTD_fEuclidean_iEuclidean_abs\"\n",
        "# image_model = BarGraph(problem=problem_type, zoom=2)\n",
        "# name = f\"BarGraph_zoom2\"\n",
        "# image_model = DistanceMatrix(problem=problem_type, zoom=2)\n",
        "# name = f\"DistanceMatrix_zoom2\"\n",
        "# image_model = Combination(problem=problem_type, zoom=2)\n",
        "# name = f\"Combination_zoom2\"\n",
        "# image_model = SuperTML(problem=problem_type, pixels=pixel, font_size=30, feature_importance=True, random_seed=SEED)\n",
        "# name = f\"SuperTML-VF_FS30\"\n",
        "# image_model = FeatureWrap(problem = problem_type, bins=10)\n",
        "# name = f\"FeatureWrap_bins10\"\n",
        "# image_model = BIE(problem = problem_type)\n",
        "# name = f\"BIE\"\n",
        "\n",
        "#Define the dataset path and the folder where the images will be saved\n",
        "results_folder = f\"Results/Regression/ViT+MLP/{dataset_name}_{name}\"\n",
        "images_folder = f\"Synthetic_images/Regression/images_{dataset_name}_{name}\""
      ]
    },
    {
      "cell_type": "markdown",
      "metadata": {},
      "source": [
        "<div class=\"alert alert-block alert-info\">\n",
        "\n",
        "<i class=\"fa fa-info-circle\" aria-hidden=\"true\"></i>\n",
        "You can see all information about TINTOlib documentation in [PyPI](https://tintolib.readthedocs.io/en/latest/installation.html)"
      ]
    },
    {
      "cell_type": "markdown",
      "metadata": {},
      "source": [
        "---\n",
        "<a id=\"section33\"></a>\n",
        "# <font color=\"#004D7F\" size=5> 3.3. Generate images</font>\n",
        "\n",
        "In this section, we generate images from the dataset using three key functions of the image generation model:\n",
        "\n",
        "- fit: Trains the image generation model without generating images. This function is used exclusively for training purposes.\n",
        "- fit_transform: Trains the image generation model and simultaneously generates images for the dataset. This function is applied to the training dataset, where the model is both trained and used to create images.\n",
        "- transform: Generates images using the pre-trained model. After training on the training dataset, this function is used to generate images for unseen data, such as validation and test datasets.\n",
        "\n",
        "Each row in the dataset is transformed into a unique image, ensuring that the number of generated images matches the number of rows in the dataset. The resulting datasets include paths to these images, which are then combined with the original data for further processing."
      ]
    },
    {
      "cell_type": "markdown",
      "metadata": {},
      "source": [
        "Split the data into training, validation, and test sets:"
      ]
    },
    {
      "cell_type": "code",
      "execution_count": 27,
      "metadata": {},
      "outputs": [],
      "source": [
        "import cv2\n",
        "from sklearn.preprocessing import MinMaxScaler\n",
        "\n",
        "X_train, X_val = train_test_split(df, test_size=0.20, random_state=SEED)\n",
        "X_val, X_test = train_test_split(X_val, test_size=0.50, random_state=SEED)\n",
        "\n",
        "X_train = X_train.reset_index(drop=True)\n",
        "X_val = X_val.reset_index(drop=True)\n",
        "X_test = X_test.reset_index(drop=True)"
      ]
    },
    {
      "cell_type": "markdown",
      "metadata": {},
      "source": [
        "Define a function to streamline the repetitive process of generating images, updating paths, and combining datasets:"
      ]
    },
    {
      "cell_type": "code",
      "execution_count": 28,
      "metadata": {},
      "outputs": [],
      "source": [
        "def process_dataset(X, folder_name, generate_function, problem_type):\n",
        "    \"\"\"\n",
        "    Handles dataset processing, including image generation, path updates, \n",
        "    and combining the dataset with image paths.\n",
        "\n",
        "    Parameters:\n",
        "    ----------\n",
        "    X : DataFrame\n",
        "        The dataset to process (training, validation, or test).\n",
        "    \n",
        "    folder_name : str\n",
        "        The name of the folder where generated images will be stored \n",
        "        (e.g., 'train', 'val', 'test').\n",
        "    \n",
        "    generate_function : function\n",
        "        The function used for training and generating images. It can be one of the following:\n",
        "        - `fit`: Trains the model without generating images.\n",
        "        - `fit_transform`: Trains the model and generates images for the dataset (used for training).\n",
        "        - `transform`: Uses the pre-trained model to generate images for validation and testing.\n",
        "    \n",
        "    problem_type : str\n",
        "        The type of problem being addressed (e.g., regression, supervised).\n",
        "        This is used to locate the corresponding `.csv` file containing image paths.\n",
        "\n",
        "    Returns:\n",
        "    --------\n",
        "    X_processed : DataFrame\n",
        "        The dataset with updated image paths and raw tabular data, ready for further processing.\n",
        "    \n",
        "    y_processed : Series\n",
        "        The labels corresponding to the dataset (target values).\n",
        "    \"\"\"\n",
        "    # Generate the images if the folder does not exist\n",
        "    folder_path = f\"{images_folder}/{folder_name}\"\n",
        "    if not os.path.exists(folder_path):\n",
        "        generate_function(X, folder_path)\n",
        "    else:\n",
        "        print(f\"The images for {folder_name} are already generated\")\n",
        "\n",
        "    # Load image paths\n",
        "    img_paths = os.path.join(folder_path, f\"{problem_type}.csv\")\n",
        "    imgs = pd.read_csv(img_paths)\n",
        "\n",
        "    # Update image paths\n",
        "    imgs[\"images\"] = folder_path + \"/\" + imgs[\"images\"]\n",
        "\n",
        "    # Combine datasets\n",
        "    combined_dataset = pd.concat([imgs, X], axis=1)\n",
        "\n",
        "    # Split data and labels\n",
        "    X_processed = combined_dataset.drop(df.columns[-1], axis=1).drop(\"values\", axis=1)\n",
        "    y_processed = combined_dataset[\"values\"]\n",
        "\n",
        "    return X_processed, y_processed\n"
      ]
    },
    {
      "cell_type": "code",
      "execution_count": 29,
      "metadata": {},
      "outputs": [],
      "source": [
        "### X_train\n",
        "X_train, y_train = process_dataset(X_train, \"train\", image_model.fit_transform, problem_type)"
      ]
    },
    {
      "cell_type": "code",
      "execution_count": 30,
      "metadata": {},
      "outputs": [],
      "source": [
        "### X_val\n",
        "X_val, y_val = process_dataset(X_val, \"val\", image_model.transform, problem_type)"
      ]
    },
    {
      "cell_type": "code",
      "execution_count": 31,
      "metadata": {},
      "outputs": [],
      "source": [
        "### X_test\n",
        "X_test, y_test = process_dataset(X_test, \"test\", image_model.transform, problem_type)"
      ]
    },
    {
      "cell_type": "markdown",
      "metadata": {
        "id": "_haEKIo7jpD1"
      },
      "source": [
        "---\n",
        "<div style=\"text-align: right\"> <font size=5> <a href=\"#indice\"><i class=\"fa fa-arrow-circle-up\" aria-hidden=\"true\" style=\"color:#004D7F\"></i></a></font></div>\n",
        "\n",
        "---"
      ]
    },
    {
      "cell_type": "markdown",
      "metadata": {
        "id": "uF1lJWbojpD3"
      },
      "source": [
        "<a id=\"section4\"></a>\n",
        "# <font color=\"#004D7F\" size=6> 4. Pre-modelling phase</font>"
      ]
    },
    {
      "cell_type": "markdown",
      "metadata": {
        "id": "zg_Ef8MxiryD"
      },
      "source": [
        "Once the data is ready, we load it into memory with an iterator in order to pass it to the CNN."
      ]
    },
    {
      "cell_type": "markdown",
      "metadata": {},
      "source": [
        "---\n",
        "<a id=\"section41\"></a>\n",
        "# <font color=\"#004D7F\" size=5> 4.1. Data curation</font>\n",
        "\n",
        "Note that each method generates images of **different pixel size**. For example:\n",
        "- `TINTO` method has a parameter that you can specify the size in pixels which by default is 20.\n",
        "- Other parameters such as `Combined` generates the size automatically and you must obtain them from the _shape_ of the images."
      ]
    },
    {
      "cell_type": "markdown",
      "metadata": {},
      "source": [
        "<div class=\"alert alert-block alert-info\">\n",
        "\n",
        "<i class=\"fa fa-info-circle\" aria-hidden=\"true\"></i>\n",
        "You can see all information about TINTOlib documentation in [PyPI](https://tintolib.readthedocs.io/en/latest/installation.html)"
      ]
    },
    {
      "cell_type": "markdown",
      "metadata": {},
      "source": [
        "Split in train/test/validation.\n",
        "\n",
        "Note that the partitioning of the images is also performed, in addition to the tabular data."
      ]
    },
    {
      "cell_type": "markdown",
      "metadata": {},
      "source": [
        "<div class=\"alert alert-block alert-info\">\n",
        "\n",
        "<i class=\"fa fa-info-circle\" aria-hidden=\"true\"></i>\n",
        "💡 **Important!!!**:  Keep in mind that, depending on the method used, you need to identify the number of pixels in the image. For example, in TINTO it is specified as a parameter, but in IGTD it is done afterwards, once the image is created (and even the pixels of width and height can be different)."
      ]
    },
    {
      "cell_type": "code",
      "execution_count": 32,
      "metadata": {},
      "outputs": [
        {
          "name": "stdout",
          "output_type": "stream",
          "text": [
            "Images shape:  (30, 30, 3)\n",
            "Attributres:  13\n",
            "Image size (pixels): 30\n"
          ]
        }
      ],
      "source": [
        "#TIDY DATA SPLITTED\n",
        "X_train_num = X_train.drop(\"images\",axis=1)\n",
        "X_val_num = X_val.drop(\"images\",axis=1)\n",
        "X_test_num = X_test.drop(\"images\",axis=1)\n",
        "\n",
        "#IMAGES\n",
        "# For 3 channels (RGB)\n",
        "X_train_img = np.array([cv2.imread(img) for img in X_train[\"images\"]])\n",
        "X_val_img = np.array([cv2.imread(img) for img in X_val[\"images\"]])\n",
        "X_test_img = np.array([cv2.imread(img) for img in X_test[\"images\"]])\n",
        "\n",
        "# For 1 channels (GRAY SCALE)\n",
        "\"\"\"X_train_img = np.array([cv2.imread(img,cv2.IMREAD_GRAYSCALE) for img in X_train[\"images\"]])\n",
        "X_val_img = np.array([cv2.imread(img,cv2.IMREAD_GRAYSCALE) for img in X_val[\"images\"]])\n",
        "X_test_img = np.array([cv2.imread(img,cv2.IMREAD_GRAYSCALE) for img in X_test[\"images\"]])\"\"\"\n",
        "\n",
        "# Create a MinMaxScaler object\n",
        "scaler = MinMaxScaler()\n",
        "\n",
        "# Scale numerical data\n",
        "X_train_num = scaler.fit_transform(X_train_num)\n",
        "X_val_num = scaler.transform(X_val_num)\n",
        "X_test_num = scaler.transform(X_test_num)\n",
        "\n",
        "attributes = X_train_num.shape[1]\n",
        "height, width, channels = X_train_img[0].shape\n",
        "imgs_shape = (height, width, channels)\n",
        "\n",
        "print(\"Images shape: \",imgs_shape)\n",
        "print(\"Attributres: \",attributes)\n",
        "pixels=X_train_img[0].shape[0]\n",
        "print(\"Image size (pixels):\", pixels)"
      ]
    },
    {
      "cell_type": "code",
      "execution_count": 33,
      "metadata": {},
      "outputs": [
        {
          "data": {
            "image/png": "[encoded data removed]",
            "text/plain": [
              "<Figure size 640x480 with 1 Axes>"
            ]
          },
          "metadata": {},
          "output_type": "display_data"
        }
      ],
      "source": [
        "# Plot an example image (e.g., the first image in the array)\n",
        "example_image = X_train_img[0]\n",
        "\n",
        "# Convert the image from BGR (OpenCV default) to RGB for correct color display\n",
        "example_image_rgb = cv2.cvtColor(example_image, cv2.COLOR_BGR2RGB)\n",
        "\n",
        "# Display the image using matplotlib\n",
        "plt.imshow(example_image_rgb)\n",
        "plt.title(\"Example Image from X_train\")\n",
        "plt.axis('off')  # Hide the axis for a cleaner look\n",
        "plt.show()"
      ]
    },
    {
      "cell_type": "code",
      "execution_count": 34,
      "metadata": {},
      "outputs": [
        {
          "data": {
            "text/plain": [
              "array([[0.06108607, 0.        , 0.64662757, ..., 0.80851064, 0.89507792,\n",
              "        0.4415011 ],\n",
              "       [0.00251062, 0.        , 0.37133431, ..., 0.63829787, 0.99488123,\n",
              "        0.25496689],\n",
              "       [0.012639  , 0.        , 0.28152493, ..., 0.89361702, 0.90738313,\n",
              "        0.575883  ],\n",
              "       ...,\n",
              "       [0.00155603, 0.        , 0.35007331, ..., 0.55319149, 0.98638358,\n",
              "        0.32781457],\n",
              "       [0.06390286, 0.        , 0.64662757, ..., 0.80851064, 0.98935902,\n",
              "        0.3656181 ],\n",
              "       [0.05714125, 0.        , 0.64662757, ..., 0.80851064, 0.97022038,\n",
              "        0.42880795]])"
            ]
          },
          "execution_count": 34,
          "metadata": {},
          "output_type": "execute_result"
        }
      ],
      "source": [
        "X_train_num"
      ]
    },
    {
      "cell_type": "markdown",
      "metadata": {
        "id": "sgjKooAQTB1z"
      },
      "source": [
        "<a id=\"section5\"></a>\n",
        "# <font color=\"#004D7F\" size=6> 5. Modeling hybrid network with Pytorch</font>"
      ]
    },
    {
      "cell_type": "code",
      "execution_count": 42,
      "metadata": {
        "id": "_ziQRKDlWGBg"
      },
      "outputs": [],
      "source": [
        "# import the necessary packages\n",
        "import torch\n",
        "from torch import nn\n",
        "import torch.optim as optim\n",
        "from sklearn.metrics import mean_absolute_error, mean_squared_error, r2_score\n",
        "\n",
        "epochs = 11\n",
        "batch_size_tensor = 50\n",
        "pixeles = 30\n",
        "dropout = 0.5\n",
        "learning_rate = 1e-3"
      ]
    },
    {
      "cell_type": "markdown",
      "metadata": {
        "id": "Ok8wCO9B47LL"
      },
      "source": [
        "---\n",
        "<a id=\"section52\"></a>\n",
        "# <font color=\"#004D7F\" size=5> 5.1. Transformar los inputs en tensores</font>\n"
      ]
    },
    {
      "cell_type": "code",
      "execution_count": 43,
      "metadata": {
        "id": "g0-xkNUCWOw1"
      },
      "outputs": [],
      "source": [
        "trainloader_X_Num = torch.utils.data.DataLoader(np.asarray(X_train_num).astype(np.float32), batch_size=batch_size_tensor, shuffle=False)\n",
        "trainloader_X_img = torch.utils.data.DataLoader(np.asarray(X_train_img).astype(np.float32), batch_size=batch_size_tensor, shuffle=False)\n",
        "trainloader_y = torch.utils.data.DataLoader(np.asarray(y_train).astype(np.float32), batch_size=batch_size_tensor, shuffle=False)\n",
        "\n",
        "trainloader_X_Num_tensors = []\n",
        "trainloader_X_img_tensors = []\n",
        "trainloader_y_tensors = []\n",
        "for input in trainloader_X_Num:\n",
        "  trainloader_X_Num_tensors.append(input)\n",
        "for input in trainloader_X_img:\n",
        "  trainloader_X_img_tensors.append(input)\n",
        "for input in trainloader_y:\n",
        "  trainloader_y_tensors.append(input)"
      ]
    },
    {
      "cell_type": "code",
      "execution_count": 44,
      "metadata": {
        "id": "v_u-XqGFWQOo"
      },
      "outputs": [],
      "source": [
        "testloader_X_Num = torch.utils.data.DataLoader(np.asarray(X_test_num).astype(np.float32), batch_size=batch_size_tensor, shuffle=False)\n",
        "testloader_X_img = torch.utils.data.DataLoader(np.asarray(X_test_img).astype(np.float32), batch_size=batch_size_tensor, shuffle=False)\n",
        "testloader_y = torch.utils.data.DataLoader(np.asarray(y_test).astype(np.float32), batch_size=batch_size_tensor, shuffle=False)\n",
        "\n",
        "testloader_X_Num_tensors = []\n",
        "testloader_X_img_tensors = []\n",
        "testloader_y_tensors = []\n",
        "for input in testloader_X_Num:\n",
        "  testloader_X_Num_tensors.append(input)\n",
        "for input in testloader_X_img:\n",
        "  testloader_X_img_tensors.append(input)\n",
        "for input in testloader_y:\n",
        "  testloader_y_tensors.append(input)"
      ]
    },
    {
      "cell_type": "code",
      "execution_count": 45,
      "metadata": {
        "id": "pwDL2yVmWeti"
      },
      "outputs": [],
      "source": [
        "validloader_X_Num = torch.utils.data.DataLoader(np.asarray(X_val_num).astype(np.float32), batch_size=batch_size_tensor, shuffle=False)\n",
        "validloader_X_img = torch.utils.data.DataLoader(np.asarray(X_val_img).astype(np.float32), batch_size=batch_size_tensor, shuffle=False)\n",
        "validloader_y = torch.utils.data.DataLoader(np.asarray(y_val).astype(np.float32), batch_size=batch_size_tensor, shuffle=False)\n",
        "\n",
        "validloader_X_Num_tensors = []\n",
        "validloader_X_img_tensors = []\n",
        "validloader_y_tensors = []\n",
        "for input in validloader_X_Num:\n",
        "  validloader_X_Num_tensors.append(input)\n",
        "for input in validloader_X_img:\n",
        "  validloader_X_img_tensors.append(input)\n",
        "for input in validloader_y:\n",
        "  validloader_y_tensors.append(input)"
      ]
    },
    {
      "cell_type": "markdown",
      "metadata": {
        "id": "9CZlQaAx5Fl5"
      },
      "source": [
        "---\n",
        "<a id=\"section52\"></a>\n",
        "# <font color=\"#004D7F\" size=5> 5.2. Diseño de la arquitectura de la red</font>"
      ]
    },
    {
      "cell_type": "code",
      "execution_count": 46,
      "metadata": {
        "id": "TiGz4lhbWnj9"
      },
      "outputs": [],
      "source": [
        "class CNNModel_Rama1(nn.Module):\n",
        "  def __init__(self):\n",
        "    super(CNNModel_Rama1, self).__init__()\n",
        "    self.conv1 = nn.Conv2d(pixeles, 16, kernel_size=(3,3), padding = 2)\n",
        "    self.batchNorm1 = nn.BatchNorm2d(16)\n",
        "    self.act1 = nn.ReLU()\n",
        "    self.MaxPol1 = nn.MaxPool2d(2,2)\n",
        "\n",
        "    self.conv2 = nn.Conv2d(16, 32, kernel_size=(3,3), padding = 2)\n",
        "    self.batchNorm2 = nn.BatchNorm2d(32)\n",
        "    self.act2 = nn.ReLU()\n",
        "    self.MaxPol2 = nn.MaxPool2d(2,2)\n",
        "\n",
        "    self.conv3 = nn.Conv2d(32, 64, kernel_size=(3,3), padding = 2)\n",
        "    self.batchNorm3 = nn.BatchNorm2d(64)\n",
        "    self.act3 = nn.ReLU()\n",
        "    self.MaxPol3 = nn.MaxPool2d(2,2)\n",
        "\n",
        "    self.conv4 = nn.Conv2d(64, 64, kernel_size=(2,2), padding = 3)\n",
        "    self.batchNorm4 = nn.BatchNorm2d(64)\n",
        "    self.act4 = nn.ReLU()\n",
        "    self.MaxPol4 = nn.MaxPool2d(2,2)\n",
        "\n",
        "  def forward(self, x):\n",
        "    x = self.conv1(x)\n",
        "    x = self.batchNorm1(x)\n",
        "    #x = self.act1(x)\n",
        "    x = self.MaxPol1(x)\n",
        "\n",
        "    x = self.conv2(x)\n",
        "    x = self.batchNorm2(x)\n",
        "    #x = self.act2(x)\n",
        "    x = self.MaxPol2(x)\n",
        "\n",
        "    x = self.conv3(x)\n",
        "    x = self.batchNorm3(x)\n",
        "    #x = self.act3(x)\n",
        "    x = self.MaxPol3(x)\n",
        "\n",
        "    x = self.conv4(x)\n",
        "    x = self.batchNorm4(x)\n",
        "    #x = self.act4(x)\n",
        "    x = self.MaxPol4(x)\n",
        "    return x\n",
        "\n",
        "\n",
        "class CNNModel_Rama2(nn.Module):\n",
        "  def __init__(self):\n",
        "    super(CNNModel_Rama2, self).__init__()\n",
        "    self.conv1 = nn.Conv2d(pixeles, 16, kernel_size=(5,5), padding = 2)\n",
        "    self.batchNorm1 = nn.BatchNorm2d(16)\n",
        "    self.act1 = nn.ReLU()\n",
        "    self.AvgPol1 = nn.AvgPool2d(2,2)\n",
        "\n",
        "    self.conv2 = nn.Conv2d(16, 32, kernel_size=(5,5), padding = 3)\n",
        "    self.batchNorm2 = nn.BatchNorm2d(32)\n",
        "    self.act2 = nn.ReLU()\n",
        "    self.AvgPol2 = nn.AvgPool2d(2,2)\n",
        "\n",
        "    self.conv3 = nn.Conv2d(32, 64, kernel_size=(3,3), padding = 2)\n",
        "    self.batchNorm3 = nn.BatchNorm2d(64)\n",
        "    self.act3 = nn.ReLU()\n",
        "    self.AvgPol3 = nn.AvgPool2d(2,2)\n",
        "\n",
        "    self.conv4 = nn.Conv2d(64, 64, kernel_size=(2,2), padding = 3)\n",
        "    self.batchNorm4 = nn.BatchNorm2d(64)\n",
        "    self.act4 = nn.ReLU()\n",
        "    self.AvgPol4 = nn.AvgPool2d(2,2)\n",
        "\n",
        "  def forward(self, x):\n",
        "    x = self.conv1(x)\n",
        "    x = self.batchNorm1(x)\n",
        "    #x = self.act1(x)\n",
        "    x = self.AvgPol1(x)\n",
        "\n",
        "    x = self.conv2(x)\n",
        "    x = self.batchNorm2(x)\n",
        "    #x = self.act2(x)\n",
        "    x = self.AvgPol2(x)\n",
        "\n",
        "    x = self.conv3(x)\n",
        "    x = self.batchNorm3(x)\n",
        "    #x = self.act3(x)\n",
        "    x = self.AvgPol3(x)\n",
        "\n",
        "    x = self.conv4(x)\n",
        "    x = self.batchNorm4(x)\n",
        "    #x = self.act4(x)\n",
        "    x = self.AvgPol4(x)\n",
        "    return x\n",
        "\n",
        "class CNNModel_Combinado(nn.Module):\n",
        "  def __init__(self, CNNModel_Rama1, CNNModel_Rama2):\n",
        "    super(CNNModel_Combinado, self).__init__()\n",
        "    self.CNNModel_Rama1 = CNNModel_Rama1\n",
        "    self.CNNModel_Rama2 = CNNModel_Rama2\n",
        "    self.flat = nn.Flatten()\n",
        "    self.fc0 = nn.Linear(1920, 256)\n",
        "    self.act0 = nn.ReLU()\n",
        "    self.fc1 = nn.Linear(256, 128)\n",
        "    self.act1 = nn.Sigmoid()\n",
        "    self.fc2 = nn.Linear(128,64)\n",
        "    self.act2 = nn.ReLU()\n",
        "    self.fc3 = nn.Linear(64,1)\n",
        "    self.act3 = nn.Sigmoid()\n",
        "\n",
        "  def forward(self, x):\n",
        "    x1 = self.CNNModel_Rama1(x)\n",
        "    x2 = self.CNNModel_Rama2(x)\n",
        "    x = torch.cat([x1, x2], dim=1)\n",
        "    x = self.flat(x)\n",
        "    x = self.fc0(x)\n",
        "    x = self.act0(x)\n",
        "    x = self.fc1(x)\n",
        "    x = self.act1(x)\n",
        "    x = self.fc2(x)\n",
        "    x = self.act2(x)\n",
        "    x = self.fc3(x)\n",
        "    x = self.act3(x)\n",
        "    return x\n",
        "\n",
        "class ModeloMLP(nn.Module):\n",
        "  def __init__(self):\n",
        "    super(ModeloMLP, self).__init__()\n",
        "    self.fc1 = nn.Linear(attributes, 64)\n",
        "    self.act1 = nn.ReLU()\n",
        "    self.batchNorm1 = nn.BatchNorm1d(64)\n",
        "    self.Drop1 = nn.Dropout(dropout)\n",
        "\n",
        "    self.fc2 = nn.Linear(64, 32)\n",
        "    self.act2 = nn.ReLU()\n",
        "    self.batchNorm2 = nn.BatchNorm1d(32)\n",
        "    self.Drop2 = nn.Dropout(dropout)\n",
        "\n",
        "    self.fc3 = nn.Linear(32, 1)\n",
        "    self.act3 = nn.ReLU()\n",
        "    self.batchNorm3 = nn.BatchNorm1d(1)\n",
        "    self.Drop3 = nn.Dropout(dropout)\n",
        "\n",
        "  def forward(self, x):\n",
        "    x = self.fc1(x)\n",
        "    #x = self.act1(x)\n",
        "    x = self.batchNorm1(x)\n",
        "    #x = self.Drop1(x)\n",
        "\n",
        "    x = self.fc2(x)\n",
        "    #x = self.act2(x)\n",
        "    x = self.batchNorm2(x)\n",
        "    #x = self.Drop2(x)\n",
        "\n",
        "    x = self.fc3(x)\n",
        "    #x = self.act3(x)\n",
        "    x = self.batchNorm3(x)\n",
        "    #x = self.Drop3(x)\n",
        "    return x\n",
        "\n",
        "class Combined_model(nn.Module):\n",
        "  def __init__(self, CNNModel_Combinado, ModeloMLP):\n",
        "    super(Combined_model, self).__init__()\n",
        "    self.CNNModel_Combinado = CNNModel_Combinado\n",
        "    self.ModeloMLP = ModeloMLP\n",
        "    self.fc1 = nn.Linear(2, 16)\n",
        "    self.act1 = nn.ReLU()\n",
        "    self.fc2 = nn.Linear(16,1)\n",
        "\n",
        "  def forward(self, x1, x2):\n",
        "    x1 = self.CNNModel_Combinado(x1)\n",
        "    x2 = self.ModeloMLP(x2)\n",
        "    x = torch.cat([x1, x2], dim=1)\n",
        "    x = self.fc1(x)\n",
        "    #x = self.act1(x)\n",
        "    x = self.fc2(x)\n",
        "    return x"
      ]
    },
    {
      "cell_type": "markdown",
      "metadata": {
        "id": "f7yRJspw5MVv"
      },
      "source": [
        "---\n",
        "<a id=\"section52\"></a>\n",
        "# <font color=\"#004D7F\" size=5> 5.3. Entrenamiento de la Red hibrida</font>"
      ]
    },
    {
      "cell_type": "code",
      "execution_count": 47,
      "metadata": {
        "id": "CZiZyIuu06ex"
      },
      "outputs": [],
      "source": [
        "def r2_loss(y_pred, y_true):\n",
        "    target_mean = torch.mean(y_true)\n",
        "    ss_tot = torch.sum((y_true - target_mean) ** 2)\n",
        "    ss_res = torch.sum((y_true - y_pred) ** 2)\n",
        "    r2 = 1 - ss_res / ss_tot\n",
        "    return r2"
      ]
    },
    {
      "cell_type": "code",
      "execution_count": 48,
      "metadata": {
        "colab": {
          "base_uri": "https://localhost:8080/"
        },
        "id": "zQVCUJk7pBbL",
        "outputId": "e9c8e63b-b297-4c55-dd5f-6e651c31f070"
      },
      "outputs": [
        {
          "ename": "ValueError",
          "evalue": "Expected more than 1 value per channel when training, got input size torch.Size([1, 64])",
          "output_type": "error",
          "traceback": [
            "\u001b[1;31m---------------------------------------------------------------------------\u001b[0m",
            "\u001b[1;31mValueError\u001b[0m                                Traceback (most recent call last)",
            "Cell \u001b[1;32mIn[48], line 80\u001b[0m\n\u001b[0;32m     78\u001b[0m label_test_tensor \u001b[38;5;241m=\u001b[39m testloader_y_tensors[index_batch]\n\u001b[0;32m     79\u001b[0m label_test_tensor \u001b[38;5;241m=\u001b[39m label_test_tensor\u001b[38;5;241m.\u001b[39munsqueeze(\u001b[38;5;241m1\u001b[39m)\n\u001b[1;32m---> 80\u001b[0m y_pred \u001b[38;5;241m=\u001b[39m \u001b[43mmodel_final\u001b[49m\u001b[43m(\u001b[49m\u001b[43minput_X_img_test\u001b[49m\u001b[43m,\u001b[49m\u001b[43m \u001b[49m\u001b[43minput_X_Num_test\u001b[49m\u001b[43m)\u001b[49m\n\u001b[0;32m     81\u001b[0m i \u001b[38;5;241m=\u001b[39m \u001b[38;5;241m0\u001b[39m\n\u001b[0;32m     82\u001b[0m \u001b[38;5;28;01mwhile\u001b[39;00m(i \u001b[38;5;241m<\u001b[39m \u001b[38;5;28mlen\u001b[39m(y_pred)):\n",
            "File \u001b[1;32mc:\\Users\\jiayu\\anaconda3\\envs\\TINTOlib\\lib\\site-packages\\torch\\nn\\modules\\module.py:1501\u001b[0m, in \u001b[0;36mModule._call_impl\u001b[1;34m(self, *args, **kwargs)\u001b[0m\n\u001b[0;32m   1496\u001b[0m \u001b[38;5;66;03m# If we don't have any hooks, we want to skip the rest of the logic in\u001b[39;00m\n\u001b[0;32m   1497\u001b[0m \u001b[38;5;66;03m# this function, and just call forward.\u001b[39;00m\n\u001b[0;32m   1498\u001b[0m \u001b[38;5;28;01mif\u001b[39;00m \u001b[38;5;129;01mnot\u001b[39;00m (\u001b[38;5;28mself\u001b[39m\u001b[38;5;241m.\u001b[39m_backward_hooks \u001b[38;5;129;01mor\u001b[39;00m \u001b[38;5;28mself\u001b[39m\u001b[38;5;241m.\u001b[39m_backward_pre_hooks \u001b[38;5;129;01mor\u001b[39;00m \u001b[38;5;28mself\u001b[39m\u001b[38;5;241m.\u001b[39m_forward_hooks \u001b[38;5;129;01mor\u001b[39;00m \u001b[38;5;28mself\u001b[39m\u001b[38;5;241m.\u001b[39m_forward_pre_hooks\n\u001b[0;32m   1499\u001b[0m         \u001b[38;5;129;01mor\u001b[39;00m _global_backward_pre_hooks \u001b[38;5;129;01mor\u001b[39;00m _global_backward_hooks\n\u001b[0;32m   1500\u001b[0m         \u001b[38;5;129;01mor\u001b[39;00m _global_forward_hooks \u001b[38;5;129;01mor\u001b[39;00m _global_forward_pre_hooks):\n\u001b[1;32m-> 1501\u001b[0m     \u001b[38;5;28;01mreturn\u001b[39;00m forward_call(\u001b[38;5;241m*\u001b[39margs, \u001b[38;5;241m*\u001b[39m\u001b[38;5;241m*\u001b[39mkwargs)\n\u001b[0;32m   1502\u001b[0m \u001b[38;5;66;03m# Do not call functions when jit is used\u001b[39;00m\n\u001b[0;32m   1503\u001b[0m full_backward_hooks, non_full_backward_hooks \u001b[38;5;241m=\u001b[39m [], []\n",
            "Cell \u001b[1;32mIn[46], line 168\u001b[0m, in \u001b[0;36mCombined_model.forward\u001b[1;34m(self, x1, x2)\u001b[0m\n\u001b[0;32m    166\u001b[0m \u001b[38;5;28;01mdef\u001b[39;00m\u001b[38;5;250m \u001b[39m\u001b[38;5;21mforward\u001b[39m(\u001b[38;5;28mself\u001b[39m, x1, x2):\n\u001b[0;32m    167\u001b[0m   x1 \u001b[38;5;241m=\u001b[39m \u001b[38;5;28mself\u001b[39m\u001b[38;5;241m.\u001b[39mCNNModel_Combinado(x1)\n\u001b[1;32m--> 168\u001b[0m   x2 \u001b[38;5;241m=\u001b[39m \u001b[38;5;28;43mself\u001b[39;49m\u001b[38;5;241;43m.\u001b[39;49m\u001b[43mModeloMLP\u001b[49m\u001b[43m(\u001b[49m\u001b[43mx2\u001b[49m\u001b[43m)\u001b[49m\n\u001b[0;32m    169\u001b[0m   x \u001b[38;5;241m=\u001b[39m torch\u001b[38;5;241m.\u001b[39mcat([x1, x2], dim\u001b[38;5;241m=\u001b[39m\u001b[38;5;241m1\u001b[39m)\n\u001b[0;32m    170\u001b[0m   x \u001b[38;5;241m=\u001b[39m \u001b[38;5;28mself\u001b[39m\u001b[38;5;241m.\u001b[39mfc1(x)\n",
            "File \u001b[1;32mc:\\Users\\jiayu\\anaconda3\\envs\\TINTOlib\\lib\\site-packages\\torch\\nn\\modules\\module.py:1501\u001b[0m, in \u001b[0;36mModule._call_impl\u001b[1;34m(self, *args, **kwargs)\u001b[0m\n\u001b[0;32m   1496\u001b[0m \u001b[38;5;66;03m# If we don't have any hooks, we want to skip the rest of the logic in\u001b[39;00m\n\u001b[0;32m   1497\u001b[0m \u001b[38;5;66;03m# this function, and just call forward.\u001b[39;00m\n\u001b[0;32m   1498\u001b[0m \u001b[38;5;28;01mif\u001b[39;00m \u001b[38;5;129;01mnot\u001b[39;00m (\u001b[38;5;28mself\u001b[39m\u001b[38;5;241m.\u001b[39m_backward_hooks \u001b[38;5;129;01mor\u001b[39;00m \u001b[38;5;28mself\u001b[39m\u001b[38;5;241m.\u001b[39m_backward_pre_hooks \u001b[38;5;129;01mor\u001b[39;00m \u001b[38;5;28mself\u001b[39m\u001b[38;5;241m.\u001b[39m_forward_hooks \u001b[38;5;129;01mor\u001b[39;00m \u001b[38;5;28mself\u001b[39m\u001b[38;5;241m.\u001b[39m_forward_pre_hooks\n\u001b[0;32m   1499\u001b[0m         \u001b[38;5;129;01mor\u001b[39;00m _global_backward_pre_hooks \u001b[38;5;129;01mor\u001b[39;00m _global_backward_hooks\n\u001b[0;32m   1500\u001b[0m         \u001b[38;5;129;01mor\u001b[39;00m _global_forward_hooks \u001b[38;5;129;01mor\u001b[39;00m _global_forward_pre_hooks):\n\u001b[1;32m-> 1501\u001b[0m     \u001b[38;5;28;01mreturn\u001b[39;00m forward_call(\u001b[38;5;241m*\u001b[39margs, \u001b[38;5;241m*\u001b[39m\u001b[38;5;241m*\u001b[39mkwargs)\n\u001b[0;32m   1502\u001b[0m \u001b[38;5;66;03m# Do not call functions when jit is used\u001b[39;00m\n\u001b[0;32m   1503\u001b[0m full_backward_hooks, non_full_backward_hooks \u001b[38;5;241m=\u001b[39m [], []\n",
            "Cell \u001b[1;32mIn[46], line 143\u001b[0m, in \u001b[0;36mModeloMLP.forward\u001b[1;34m(self, x)\u001b[0m\n\u001b[0;32m    141\u001b[0m x \u001b[38;5;241m=\u001b[39m \u001b[38;5;28mself\u001b[39m\u001b[38;5;241m.\u001b[39mfc1(x)\n\u001b[0;32m    142\u001b[0m \u001b[38;5;66;03m#x = self.act1(x)\u001b[39;00m\n\u001b[1;32m--> 143\u001b[0m x \u001b[38;5;241m=\u001b[39m \u001b[38;5;28;43mself\u001b[39;49m\u001b[38;5;241;43m.\u001b[39;49m\u001b[43mbatchNorm1\u001b[49m\u001b[43m(\u001b[49m\u001b[43mx\u001b[49m\u001b[43m)\u001b[49m\n\u001b[0;32m    144\u001b[0m \u001b[38;5;66;03m#x = self.Drop1(x)\u001b[39;00m\n\u001b[0;32m    146\u001b[0m x \u001b[38;5;241m=\u001b[39m \u001b[38;5;28mself\u001b[39m\u001b[38;5;241m.\u001b[39mfc2(x)\n",
            "File \u001b[1;32mc:\\Users\\jiayu\\anaconda3\\envs\\TINTOlib\\lib\\site-packages\\torch\\nn\\modules\\module.py:1501\u001b[0m, in \u001b[0;36mModule._call_impl\u001b[1;34m(self, *args, **kwargs)\u001b[0m\n\u001b[0;32m   1496\u001b[0m \u001b[38;5;66;03m# If we don't have any hooks, we want to skip the rest of the logic in\u001b[39;00m\n\u001b[0;32m   1497\u001b[0m \u001b[38;5;66;03m# this function, and just call forward.\u001b[39;00m\n\u001b[0;32m   1498\u001b[0m \u001b[38;5;28;01mif\u001b[39;00m \u001b[38;5;129;01mnot\u001b[39;00m (\u001b[38;5;28mself\u001b[39m\u001b[38;5;241m.\u001b[39m_backward_hooks \u001b[38;5;129;01mor\u001b[39;00m \u001b[38;5;28mself\u001b[39m\u001b[38;5;241m.\u001b[39m_backward_pre_hooks \u001b[38;5;129;01mor\u001b[39;00m \u001b[38;5;28mself\u001b[39m\u001b[38;5;241m.\u001b[39m_forward_hooks \u001b[38;5;129;01mor\u001b[39;00m \u001b[38;5;28mself\u001b[39m\u001b[38;5;241m.\u001b[39m_forward_pre_hooks\n\u001b[0;32m   1499\u001b[0m         \u001b[38;5;129;01mor\u001b[39;00m _global_backward_pre_hooks \u001b[38;5;129;01mor\u001b[39;00m _global_backward_hooks\n\u001b[0;32m   1500\u001b[0m         \u001b[38;5;129;01mor\u001b[39;00m _global_forward_hooks \u001b[38;5;129;01mor\u001b[39;00m _global_forward_pre_hooks):\n\u001b[1;32m-> 1501\u001b[0m     \u001b[38;5;28;01mreturn\u001b[39;00m forward_call(\u001b[38;5;241m*\u001b[39margs, \u001b[38;5;241m*\u001b[39m\u001b[38;5;241m*\u001b[39mkwargs)\n\u001b[0;32m   1502\u001b[0m \u001b[38;5;66;03m# Do not call functions when jit is used\u001b[39;00m\n\u001b[0;32m   1503\u001b[0m full_backward_hooks, non_full_backward_hooks \u001b[38;5;241m=\u001b[39m [], []\n",
            "File \u001b[1;32mc:\\Users\\jiayu\\anaconda3\\envs\\TINTOlib\\lib\\site-packages\\torch\\nn\\modules\\batchnorm.py:171\u001b[0m, in \u001b[0;36m_BatchNorm.forward\u001b[1;34m(self, input)\u001b[0m\n\u001b[0;32m    164\u001b[0m     bn_training \u001b[38;5;241m=\u001b[39m (\u001b[38;5;28mself\u001b[39m\u001b[38;5;241m.\u001b[39mrunning_mean \u001b[38;5;129;01mis\u001b[39;00m \u001b[38;5;28;01mNone\u001b[39;00m) \u001b[38;5;129;01mand\u001b[39;00m (\u001b[38;5;28mself\u001b[39m\u001b[38;5;241m.\u001b[39mrunning_var \u001b[38;5;129;01mis\u001b[39;00m \u001b[38;5;28;01mNone\u001b[39;00m)\n\u001b[0;32m    166\u001b[0m \u001b[38;5;250m\u001b[39m\u001b[38;5;124mr\u001b[39m\u001b[38;5;124;03m\"\"\"\u001b[39;00m\n\u001b[0;32m    167\u001b[0m \u001b[38;5;124;03mBuffers are only updated if they are to be tracked and we are in training mode. Thus they only need to be\u001b[39;00m\n\u001b[0;32m    168\u001b[0m \u001b[38;5;124;03mpassed when the update should occur (i.e. in training mode when they are tracked), or when buffer stats are\u001b[39;00m\n\u001b[0;32m    169\u001b[0m \u001b[38;5;124;03mused for normalization (i.e. in eval mode when buffers are not None).\u001b[39;00m\n\u001b[0;32m    170\u001b[0m \u001b[38;5;124;03m\"\"\"\u001b[39;00m\n\u001b[1;32m--> 171\u001b[0m \u001b[38;5;28;01mreturn\u001b[39;00m \u001b[43mF\u001b[49m\u001b[38;5;241;43m.\u001b[39;49m\u001b[43mbatch_norm\u001b[49m\u001b[43m(\u001b[49m\n\u001b[0;32m    172\u001b[0m \u001b[43m    \u001b[49m\u001b[38;5;28;43minput\u001b[39;49m\u001b[43m,\u001b[49m\n\u001b[0;32m    173\u001b[0m \u001b[43m    \u001b[49m\u001b[38;5;66;43;03m# If buffers are not to be tracked, ensure that they won't be updated\u001b[39;49;00m\n\u001b[0;32m    174\u001b[0m \u001b[43m    \u001b[49m\u001b[38;5;28;43mself\u001b[39;49m\u001b[38;5;241;43m.\u001b[39;49m\u001b[43mrunning_mean\u001b[49m\n\u001b[0;32m    175\u001b[0m \u001b[43m    \u001b[49m\u001b[38;5;28;43;01mif\u001b[39;49;00m\u001b[43m \u001b[49m\u001b[38;5;129;43;01mnot\u001b[39;49;00m\u001b[43m \u001b[49m\u001b[38;5;28;43mself\u001b[39;49m\u001b[38;5;241;43m.\u001b[39;49m\u001b[43mtraining\u001b[49m\u001b[43m \u001b[49m\u001b[38;5;129;43;01mor\u001b[39;49;00m\u001b[43m \u001b[49m\u001b[38;5;28;43mself\u001b[39;49m\u001b[38;5;241;43m.\u001b[39;49m\u001b[43mtrack_running_stats\u001b[49m\n\u001b[0;32m    176\u001b[0m \u001b[43m    \u001b[49m\u001b[38;5;28;43;01melse\u001b[39;49;00m\u001b[43m \u001b[49m\u001b[38;5;28;43;01mNone\u001b[39;49;00m\u001b[43m,\u001b[49m\n\u001b[0;32m    177\u001b[0m \u001b[43m    \u001b[49m\u001b[38;5;28;43mself\u001b[39;49m\u001b[38;5;241;43m.\u001b[39;49m\u001b[43mrunning_var\u001b[49m\u001b[43m \u001b[49m\u001b[38;5;28;43;01mif\u001b[39;49;00m\u001b[43m \u001b[49m\u001b[38;5;129;43;01mnot\u001b[39;49;00m\u001b[43m \u001b[49m\u001b[38;5;28;43mself\u001b[39;49m\u001b[38;5;241;43m.\u001b[39;49m\u001b[43mtraining\u001b[49m\u001b[43m \u001b[49m\u001b[38;5;129;43;01mor\u001b[39;49;00m\u001b[43m \u001b[49m\u001b[38;5;28;43mself\u001b[39;49m\u001b[38;5;241;43m.\u001b[39;49m\u001b[43mtrack_running_stats\u001b[49m\u001b[43m \u001b[49m\u001b[38;5;28;43;01melse\u001b[39;49;00m\u001b[43m \u001b[49m\u001b[38;5;28;43;01mNone\u001b[39;49;00m\u001b[43m,\u001b[49m\n\u001b[0;32m    178\u001b[0m \u001b[43m    \u001b[49m\u001b[38;5;28;43mself\u001b[39;49m\u001b[38;5;241;43m.\u001b[39;49m\u001b[43mweight\u001b[49m\u001b[43m,\u001b[49m\n\u001b[0;32m    179\u001b[0m \u001b[43m    \u001b[49m\u001b[38;5;28;43mself\u001b[39;49m\u001b[38;5;241;43m.\u001b[39;49m\u001b[43mbias\u001b[49m\u001b[43m,\u001b[49m\n\u001b[0;32m    180\u001b[0m \u001b[43m    \u001b[49m\u001b[43mbn_training\u001b[49m\u001b[43m,\u001b[49m\n\u001b[0;32m    181\u001b[0m \u001b[43m    \u001b[49m\u001b[43mexponential_average_factor\u001b[49m\u001b[43m,\u001b[49m\n\u001b[0;32m    182\u001b[0m \u001b[43m    \u001b[49m\u001b[38;5;28;43mself\u001b[39;49m\u001b[38;5;241;43m.\u001b[39;49m\u001b[43meps\u001b[49m\u001b[43m,\u001b[49m\n\u001b[0;32m    183\u001b[0m \u001b[43m\u001b[49m\u001b[43m)\u001b[49m\n",
            "File \u001b[1;32mc:\\Users\\jiayu\\anaconda3\\envs\\TINTOlib\\lib\\site-packages\\torch\\nn\\functional.py:2448\u001b[0m, in \u001b[0;36mbatch_norm\u001b[1;34m(input, running_mean, running_var, weight, bias, training, momentum, eps)\u001b[0m\n\u001b[0;32m   2435\u001b[0m     \u001b[38;5;28;01mreturn\u001b[39;00m handle_torch_function(\n\u001b[0;32m   2436\u001b[0m         batch_norm,\n\u001b[0;32m   2437\u001b[0m         (\u001b[38;5;28minput\u001b[39m, running_mean, running_var, weight, bias),\n\u001b[1;32m   (...)\u001b[0m\n\u001b[0;32m   2445\u001b[0m         eps\u001b[38;5;241m=\u001b[39meps,\n\u001b[0;32m   2446\u001b[0m     )\n\u001b[0;32m   2447\u001b[0m \u001b[38;5;28;01mif\u001b[39;00m training:\n\u001b[1;32m-> 2448\u001b[0m     \u001b[43m_verify_batch_size\u001b[49m\u001b[43m(\u001b[49m\u001b[38;5;28;43minput\u001b[39;49m\u001b[38;5;241;43m.\u001b[39;49m\u001b[43msize\u001b[49m\u001b[43m(\u001b[49m\u001b[43m)\u001b[49m\u001b[43m)\u001b[49m\n\u001b[0;32m   2450\u001b[0m \u001b[38;5;28;01mreturn\u001b[39;00m torch\u001b[38;5;241m.\u001b[39mbatch_norm(\n\u001b[0;32m   2451\u001b[0m     \u001b[38;5;28minput\u001b[39m, weight, bias, running_mean, running_var, training, momentum, eps, torch\u001b[38;5;241m.\u001b[39mbackends\u001b[38;5;241m.\u001b[39mcudnn\u001b[38;5;241m.\u001b[39menabled\n\u001b[0;32m   2452\u001b[0m )\n",
            "File \u001b[1;32mc:\\Users\\jiayu\\anaconda3\\envs\\TINTOlib\\lib\\site-packages\\torch\\nn\\functional.py:2416\u001b[0m, in \u001b[0;36m_verify_batch_size\u001b[1;34m(size)\u001b[0m\n\u001b[0;32m   2414\u001b[0m     size_prods \u001b[38;5;241m*\u001b[39m\u001b[38;5;241m=\u001b[39m size[i \u001b[38;5;241m+\u001b[39m \u001b[38;5;241m2\u001b[39m]\n\u001b[0;32m   2415\u001b[0m \u001b[38;5;28;01mif\u001b[39;00m size_prods \u001b[38;5;241m==\u001b[39m \u001b[38;5;241m1\u001b[39m:\n\u001b[1;32m-> 2416\u001b[0m     \u001b[38;5;28;01mraise\u001b[39;00m \u001b[38;5;167;01mValueError\u001b[39;00m(\u001b[38;5;124m\"\u001b[39m\u001b[38;5;124mExpected more than 1 value per channel when training, got input size \u001b[39m\u001b[38;5;132;01m{}\u001b[39;00m\u001b[38;5;124m\"\u001b[39m\u001b[38;5;241m.\u001b[39mformat(size))\n",
            "\u001b[1;31mValueError\u001b[0m: Expected more than 1 value per channel when training, got input size torch.Size([1, 64])"
          ]
        }
      ],
      "source": [
        "import warnings\n",
        "warnings.filterwarnings(\"ignore\")\n",
        "model_cnn_rama1 = CNNModel_Rama1()\n",
        "model_cnn_rama2 = CNNModel_Rama2()\n",
        "model_cnn = CNNModel_Combinado(model_cnn_rama1,model_cnn_rama2)\n",
        "model_MLP = ModeloMLP()\n",
        "model_final = Combined_model(model_cnn, model_MLP)\n",
        "\n",
        "#loss_fn = nn.MSELoss()\n",
        "#loss_fn = nn.L1Loss()\n",
        "loss_fn = nn.SmoothL1Loss()\n",
        "params = list(model_cnn_rama1.parameters()) + list(model_cnn_rama2.parameters()) + list(model_cnn.parameters()) + list(model_MLP.parameters()) + list(model_final.parameters())\n",
        "optimizer = optim.Adam(params, lr=0.001)\n",
        "#optimizer = optim.SGD(params, lr=0.001)\n",
        "#optimizer_max = optim.Adam(params, lr=0.001, maximize = True)\n",
        "\n",
        "# initialize a dictionary to store training history\n",
        "H = {\n",
        "\t\"train_MAE\": [],\n",
        "\t\"train_MSE\": [],\n",
        "\t\"train_R2\": [],\n",
        "\t\"val_MAE\": [],\n",
        "\t\"val_MSE\": [],\n",
        "\t\"val_R2\": [],\n",
        "}\n",
        "\n",
        "for epoch in range(epochs):\n",
        "  gc.collect()\n",
        "  TotalLossTrain = 0\n",
        "  MSE_avg_train = 0\n",
        "  array_valores_reales = []\n",
        "  array_valores_predichos = []\n",
        "\n",
        "\n",
        "  index_batch = 0\n",
        "  model_final.train()\n",
        "  while(index_batch < len(trainloader_X_Num_tensors)):\n",
        "    input_X_Num_train = trainloader_X_Num_tensors[index_batch]\n",
        "    input_X_img_train = trainloader_X_img_tensors[index_batch]\n",
        "    label_train_tensor = trainloader_y_tensors[index_batch]\n",
        "    label_train_tensor = label_train_tensor.unsqueeze(1)\n",
        "    y_pred = model_final(input_X_img_train,input_X_Num_train)\n",
        "    optimizer.zero_grad()\n",
        "    loss = loss_fn(y_pred, label_train_tensor)\n",
        "    loss.backward()\n",
        "    optimizer.step()\n",
        "\n",
        "    i = 0\n",
        "    while(i < len(y_pred)):\n",
        "      valor_real = float(label_train_tensor[i].cpu().detach().numpy())\n",
        "      valor_pred = float(y_pred[i].cpu().detach().numpy())\n",
        "      array_valores_reales.append(valor_real)\n",
        "      array_valores_predichos.append(valor_pred)\n",
        "      i += 1\n",
        "    index_batch += 1\n",
        "\n",
        "  #MSE_avg_train = TotalLossTrain/index_batch\n",
        "  MAE_train = mean_absolute_error(array_valores_reales,array_valores_predichos).round(3)\n",
        "  MSE_train = mean_squared_error(array_valores_reales,array_valores_predichos).round(3)\n",
        "  R2_train = r2_score(array_valores_reales,array_valores_predichos).round(3)\n",
        "  H[\"train_MAE\"].append(MAE_train)\n",
        "  H[\"train_MSE\"].append(MSE_train)\n",
        "  H[\"train_R2\"].append(R2_train)\n",
        "  #print(MSE_avg_train)\n",
        "\n",
        "  TotalLossTest = 0\n",
        "  MSE_avg_test = 0\n",
        "  gc.collect()\n",
        "  array_valores_reales = []\n",
        "  array_valores_predichos = []\n",
        "\n",
        "  #model_final.eval()\n",
        "  with torch.no_grad():\n",
        "    index_batch = 0\n",
        "    while(index_batch < len(testloader_X_Num_tensors)):\n",
        "      input_X_Num_test = testloader_X_Num_tensors[index_batch]\n",
        "      input_X_img_test = testloader_X_img_tensors[index_batch]\n",
        "      label_test_tensor = testloader_y_tensors[index_batch]\n",
        "      label_test_tensor = label_test_tensor.unsqueeze(1)\n",
        "      y_pred = model_final(input_X_img_test, input_X_Num_test)\n",
        "      i = 0\n",
        "      while(i < len(y_pred)):\n",
        "        valor_real = float(label_test_tensor[i].cpu().detach().numpy())\n",
        "        valor_pred = float(y_pred[i].cpu().detach().numpy())\n",
        "        array_valores_reales.append(valor_real)\n",
        "        array_valores_predichos.append(valor_pred)\n",
        "        i += 1\n",
        "      index_batch += 1\n",
        "\n",
        "  #MSE_avg_test = TotalLossTest/index_batch\n",
        "  MAE_val = mean_absolute_error(array_valores_reales,array_valores_predichos).round(3)\n",
        "  MSE_val = mean_squared_error(array_valores_reales,array_valores_predichos).round(3)\n",
        "  R2_val = r2_score(array_valores_reales,array_valores_predichos).round(3)\n",
        "  H[\"val_MAE\"].append(MAE_val)\n",
        "  H[\"val_MSE\"].append(MSE_val)\n",
        "  H[\"val_R2\"].append(R2_val)\n",
        "  #print(MSE_avg_test)\n",
        "\n",
        "  if epoch%2==0:\n",
        "    # print the model training and validation information\n",
        "    print(\"Epoch : \"+str(epoch)+\": -----------------------------\")\n",
        "    print(\"Train MAE: {:.6f}, Train MSE: {:.4f}, Train R2: {:.4f} \".format(MAE_train, MSE_train, R2_train))\n",
        "    print(\"Val MAE: {:.6f}, Val MSE: {:.4f}, Val R2: {:.4f}\\n\".format(MAE_val, MSE_val, R2_val))\n",
        "\n",
        "torch.save(model_final.state_dict(), \"modelo_.pth\")"
      ]
    },
    {
      "cell_type": "markdown",
      "metadata": {
        "id": "WOHVaNmL5Siv"
      },
      "source": [
        "---\n",
        "<a id=\"section52\"></a>\n",
        "# <font color=\"#004D7F\" size=5> 5.4. Resultados y Validacion</font>"
      ]
    },
    {
      "cell_type": "code",
      "execution_count": 31,
      "metadata": {
        "colab": {
          "base_uri": "https://localhost:8080/",
          "height": 430
        },
        "id": "S7q2lzSGkAUL",
        "outputId": "0a0eb017-51be-4cab-a9fd-65590f928a97"
      },
      "outputs": [
        {
          "data": {
            "image/png": "[encoded data removed]",
            "text/plain": [
              "<Figure size 640x480 with 1 Axes>"
            ]
          },
          "metadata": {},
          "output_type": "display_data"
        }
      ],
      "source": [
        "plt.plot(H[\"train_MSE\"], color = 'red', label = 'MSE')\n",
        "plt.plot(H[\"val_MSE\"], color = 'green', label = 'val MSE')\n",
        "plt.legend(loc = 'upper right')\n",
        "plt.show()"
      ]
    },
    {
      "cell_type": "code",
      "execution_count": 32,
      "metadata": {
        "colab": {
          "base_uri": "https://localhost:8080/",
          "height": 430
        },
        "id": "__v-zxWhk55O",
        "outputId": "6eee5b9b-b629-45b6-8ced-13e3ec1a018f"
      },
      "outputs": [
        {
          "data": {
            "image/png": "[encoded data removed]",
            "text/plain": [
              "<Figure size 640x480 with 1 Axes>"
            ]
          },
          "metadata": {},
          "output_type": "display_data"
        }
      ],
      "source": [
        "plt.plot(H[\"train_MAE\"], color = 'red', label = 'MAE')\n",
        "plt.plot(H[\"val_MAE\"], color = 'green', label = 'val MAE')\n",
        "plt.legend(loc = 'upper right')\n",
        "plt.show()"
      ]
    },
    {
      "cell_type": "code",
      "execution_count": 33,
      "metadata": {
        "colab": {
          "base_uri": "https://localhost:8080/",
          "height": 430
        },
        "id": "4tSJQ0Y9SRnT",
        "outputId": "b6407863-1121-4323-80b1-768bcd291369"
      },
      "outputs": [
        {
          "data": {
            "image/png": "[encoded data removed]",
            "text/plain": [
              "<Figure size 640x480 with 1 Axes>"
            ]
          },
          "metadata": {},
          "output_type": "display_data"
        }
      ],
      "source": [
        "plt.plot(H[\"train_R2\"], color = 'red', label = 'R2')\n",
        "plt.plot(H[\"val_R2\"], color = 'green', label = 'val R2')\n",
        "plt.legend(loc = 'upper right')\n",
        "plt.show()"
      ]
    },
    {
      "cell_type": "code",
      "execution_count": 35,
      "metadata": {
        "id": "CXVK3KqpxrMc"
      },
      "outputs": [],
      "source": [
        "def Calulate_Metricas_Validacion(modelo, tensores_img, tensores_num, tensores_y_real):\n",
        "  valores_predichos = []\n",
        "  valores_reales = []\n",
        "  ContadorLoss = 0\n",
        "  while(ContadorLoss < len(tensores_img)):\n",
        "    input_img = tensores_img[ContadorLoss]\n",
        "    input_num = tensores_num[ContadorLoss]\n",
        "    label_real = tensores_y_real[ContadorLoss]\n",
        "    label_real = label_real.unsqueeze(1)\n",
        "    y_pred = modelo(input_img, input_num)\n",
        "    i = 0\n",
        "    while(i < len(y_pred)):\n",
        "      valor_real = float(label_real[i].cpu().detach().numpy())\n",
        "      valor_pred = float(y_pred[i].cpu().detach().numpy())\n",
        "      valores_reales.append(valor_real)\n",
        "      valores_predichos.append(valor_pred)\n",
        "      i +=1\n",
        "    ContadorLoss +=1\n",
        "\n",
        "  MAE_val = mean_absolute_error(valores_reales,valores_predichos).round(3)\n",
        "  MSE_val = mean_squared_error(valores_reales,valores_predichos).round(3)\n",
        "  R2_val = r2_score(valores_reales,valores_predichos).round(3)\n",
        "\n",
        "  return valores_predichos, MAE_val, MSE_val,  R2_val"
      ]
    },
    {
      "cell_type": "code",
      "execution_count": 36,
      "metadata": {
        "id": "uwbKC8J52ct0"
      },
      "outputs": [],
      "source": [
        "# Validation model\n",
        "model_cnn_rama1 = CNNModel_Rama1()\n",
        "model_cnn_rama2 = CNNModel_Rama2()\n",
        "model_cnn = CNNModel_Combinado(model_cnn_rama1,model_cnn_rama2)\n",
        "model_MLP = ModeloMLP()\n",
        "model_final = Combined_model(model_cnn, model_MLP)\n",
        "model_final.load_state_dict(torch.load(\"modelo_.pth\"))\n",
        "model_final.eval()\n",
        "valores_predichos_train, MAE_train, MSE_train,  R2_train = Calulate_Metricas_Validacion(model_final, trainloader_X_img_tensors,trainloader_X_Num_tensors, trainloader_y_tensors)\n",
        "valores_predichos_test, MAE_test, MSE_test,  R2_test = Calulate_Metricas_Validacion(model_final, testloader_X_img_tensors,testloader_X_Num_tensors, testloader_y_tensors)\n",
        "valores_predichos_valid, MAE_valid, MSE_valid,  R2_valid = Calulate_Metricas_Validacion(model_final, validloader_X_img_tensors,validloader_X_Num_tensors, validloader_y_tensors)\n"
      ]
    },
    {
      "cell_type": "code",
      "execution_count": 37,
      "metadata": {
        "colab": {
          "base_uri": "https://localhost:8080/"
        },
        "id": "8Toya9WQ3lWi",
        "outputId": "c4fb0a6c-35ba-4e73-b914-3600c486392a"
      },
      "outputs": [
        {
          "name": "stdout",
          "output_type": "stream",
          "text": [
            "Train MAE: 5.583\n",
            "Train MSE: 48.723\n",
            "Train R2: 0.458\n",
            "===================================\n",
            "Test MAE: 5.615\n",
            "Test MSE: 49.526\n",
            "Test R2: 0.455\n",
            "===================================\n",
            "Train MAE: 5.743\n",
            "Train MSE: 51.315\n",
            "Train R2: 0.419\n"
          ]
        }
      ],
      "source": [
        "print(\"Train MAE:\",MAE_train)\n",
        "print(\"Train MSE:\",MSE_train)\n",
        "print(\"Train R2:\",R2_train)\n",
        "print(\"===================================\")\n",
        "print(\"Test MAE:\",MAE_test)\n",
        "print(\"Test MSE:\",MSE_test)\n",
        "print(\"Test R2:\",R2_test)\n",
        "print(\"===================================\")\n",
        "print(\"Train MAE:\",MAE_valid)\n",
        "print(\"Train MSE:\",MSE_valid)\n",
        "print(\"Train R2:\",R2_valid)\n"
      ]
    },
    {
      "cell_type": "markdown",
      "metadata": {
        "id": "SaP_OB1yC__b"
      },
      "source": [
        "<a id=\"section5\"></a>\n",
        "# <font color=\"#004D7F\" size=6> 6. Modeling hybrid network</font>"
      ]
    },
    {
      "cell_type": "markdown",
      "metadata": {
        "id": "5-bbUy0-iryN"
      },
      "source": [
        "Now we can start the CNN+MLP training. Before that we prepare the algorithm for reading data.\n",
        "\n",
        "In this example, 2 branch networks is created\n",
        "- 1º branch: FFNN for tabular data\n",
        "- 2º branch: CNN for TINTOlib images"
      ]
    },
    {
      "cell_type": "markdown",
      "metadata": {
        "id": "8zGa70Y7iryO"
      },
      "source": [
        "---\n",
        "<a id=\"section51\"></a>\n",
        "# <font color=\"#004D7F\" size=5> 6.1. FFNN for tabular data</font>\n",
        "\n",
        "This is an example of a simple FFNN for tabular data. Note that we are not looking for the optimization of the CNN but to show an example of TINTOlib execution."
      ]
    },
    {
      "cell_type": "code",
      "execution_count": 38,
      "metadata": {
        "id": "8YlEhQqrC__c"
      },
      "outputs": [],
      "source": [
        "dropout = 0.5"
      ]
    },
    {
      "cell_type": "code",
      "execution_count": 39,
      "metadata": {
        "id": "wMft79miiryh"
      },
      "outputs": [],
      "source": [
        "filters_ffnn = [64,32,16]\n",
        "\n",
        "ff_model = Sequential()\n",
        "ff_model.add(Input(shape=(attributes,)))\n",
        "\n",
        "for layer in filters_ffnn:\n",
        "    ff_model.add(Dense(layer, activation=\"relu\"))\n",
        "    ff_model.add(BatchNormalization())\n",
        "    ff_model.add(Dropout(dropout))"
      ]
    },
    {
      "cell_type": "markdown",
      "metadata": {
        "id": "s6TMUJ0yiryj"
      },
      "source": [
        "---\n",
        "<a id=\"section52\"></a>\n",
        "# <font color=\"#004D7F\" size=5> 6.2. CNN for TINTOlib images</font>\n",
        "\n",
        "This is an example of a simple CNN for TINTOlib images. Note that we are not looking for the optimization of the CNN but to show an example of TINTOlib execution."
      ]
    },
    {
      "cell_type": "code",
      "execution_count": 40,
      "metadata": {
        "id": "g80qMV4eiryk"
      },
      "outputs": [],
      "source": [
        "from keras.layers import AveragePooling2D, Concatenate\n",
        "#Input\n",
        "input_shape = Input(shape=imgs_shape)\n",
        "\n",
        "# CNN branch 1\n",
        "tower_1 = Conv2D(16, (3,3), activation='relu',padding=\"same\")(input_shape)\n",
        "tower_1 = BatchNormalization()(tower_1)\n",
        "tower_1 = Activation('relu')(tower_1)\n",
        "tower_1 = MaxPooling2D(2,2)(tower_1)\n",
        "tower_1 = Dropout(dropout)(tower_1)\n",
        "\n",
        "tower_1 = Conv2D(32, (3,3), activation='relu',padding=\"same\")(tower_1)\n",
        "tower_1 = BatchNormalization()(tower_1)\n",
        "tower_1 = Activation('relu')(tower_1)\n",
        "tower_1 = MaxPooling2D(2,2)(tower_1)\n",
        "tower_1 = Dropout(dropout)(tower_1)\n",
        "\n",
        "tower_1 = Conv2D(64, (3,3), activation='relu',padding=\"same\")(tower_1)\n",
        "tower_1 = BatchNormalization()(tower_1)\n",
        "tower_1 = Activation('relu')(tower_1)\n",
        "tower_1 = MaxPooling2D(2,2)(tower_1)\n",
        "tower_1 = Dropout(dropout)(tower_1)\n",
        "\n",
        "tower_1 = Conv2D(64, (3,3), activation='relu',padding=\"same\")(tower_1)\n",
        "tower_1 = BatchNormalization()(tower_1)\n",
        "tower_1 = Activation('relu')(tower_1)\n",
        "tower_1 = MaxPooling2D(2,2)(tower_1)\n",
        "tower_1 = Dropout(dropout)(tower_1)\n",
        "\n",
        "#CNN branch 2\n",
        "tower_2 = Conv2D(16, (5,5), activation='relu',padding=\"same\")(input_shape)\n",
        "tower_2 = BatchNormalization()(tower_2)\n",
        "tower_2 = Activation('relu')(tower_2)\n",
        "tower_2 = AveragePooling2D(2,2)(tower_2)\n",
        "tower_2 = Dropout(dropout)(tower_2)\n",
        "\n",
        "tower_2 = Conv2D(32, (5,5), activation='relu',padding=\"same\")(tower_2)\n",
        "tower_2 = BatchNormalization()(tower_2)\n",
        "tower_2 = Activation('relu')(tower_2)\n",
        "tower_2 = AveragePooling2D(2,2)(tower_2)\n",
        "tower_2 = Dropout(dropout)(tower_2)\n",
        "\n",
        "tower_2 = Conv2D(64, (5,5), activation='relu',padding=\"same\")(tower_2)\n",
        "tower_2 = BatchNormalization()(tower_2)\n",
        "tower_2 = Activation('relu')(tower_2)\n",
        "tower_2 = AveragePooling2D(2,2)(tower_2)\n",
        "tower_2 = Dropout(dropout)(tower_2)\n",
        "\n",
        "tower_2 = Conv2D(64, (5,5), activation='relu',padding=\"same\")(tower_2)\n",
        "tower_2 = BatchNormalization()(tower_2)\n",
        "tower_2 = Activation('relu')(tower_2)\n",
        "tower_2 = AveragePooling2D(2,2)(tower_2)\n",
        "tower_2 = Dropout(dropout)(tower_2)\n",
        "\n",
        "#Concatenate CNN branches\n",
        "merged = Concatenate(axis=1)([tower_1, tower_2])\n",
        "\n",
        "#Flatten\n",
        "merged = Flatten()(merged)\n",
        "\n",
        "#Dense layers\n",
        "out = Dense(256, activation='relu')(merged)\n",
        "out = Dropout(dropout)(merged)\n",
        "out = Dense(128, activation='sigmoid')(out)\n",
        "out = Dropout(dropout)(out)\n",
        "out = Dense(64, activation='sigmoid')(out)\n",
        "out = Dropout(dropout)(out)\n",
        "out = Dense(32, activation='sigmoid')(out)\n",
        "out = Dropout(dropout)(out)\n",
        "\n",
        "cnn_model = Model(input_shape, out)"
      ]
    },
    {
      "cell_type": "markdown",
      "metadata": {
        "id": "r_6M5Qjvirym"
      },
      "source": [
        "---\n",
        "<a id=\"section53\"></a>\n",
        "# <font color=\"#004D7F\" size=5> 6.3. Concatenate branches</font>\n",
        "\n",
        "Finally, we must concatenate the output of the CNN branch with the output of the FFNN branch in a final FFNN that will give the predictions."
      ]
    },
    {
      "cell_type": "code",
      "execution_count": 41,
      "metadata": {
        "id": "vSNmyFfuDAAR"
      },
      "outputs": [],
      "source": [
        "combinedInput = concatenate([ff_model.output, cnn_model.output])\n",
        "x = Dense(16, activation=\"relu\")(combinedInput)\n",
        "\n",
        "x = Dense(1, activation=\"linear\")(x)\n",
        "model = Model(inputs=[ff_model.input, cnn_model.input], outputs=x)"
      ]
    },
    {
      "cell_type": "markdown",
      "metadata": {
        "id": "1Qqj7Mlciryo"
      },
      "source": [
        "---\n",
        "<a id=\"section54\"></a>\n",
        "# <font color=\"#004D7F\" size=5> 6.4. Metrics</font>\n",
        "\n",
        "Define metrics and some hyperparameters"
      ]
    },
    {
      "cell_type": "code",
      "execution_count": 43,
      "metadata": {
        "id": "qmVREpu0DAAS"
      },
      "outputs": [],
      "source": [
        "import tensorflow.keras.backend as K\n",
        "\n",
        "def r_square(y_true, y_pred):\n",
        "    SS_res = K.sum(K.square(y_true - y_pred))\n",
        "    SS_tot = K.sum(K.square(y_true - K.mean(y_true)))\n",
        "    r2 = 1 - SS_res / (SS_tot + K.epsilon())\n",
        "    return r2\n",
        "\n",
        "METRICS = [\n",
        "    tf.keras.metrics.MeanSquaredError(name = 'mse'),\n",
        "    tf.keras.metrics.MeanAbsoluteError(name = 'mae'),\n",
        "    r_square,\n",
        "]"
      ]
    },
    {
      "cell_type": "markdown",
      "metadata": {
        "id": "KjknIMyqiryr"
      },
      "source": [
        "Print the hybrid model"
      ]
    },
    {
      "cell_type": "code",
      "execution_count": 44,
      "metadata": {
        "colab": {
          "base_uri": "https://localhost:8080/",
          "height": 1000
        },
        "id": "wHBsjNmJirys",
        "outputId": "2186dfaa-00f9-4c2a-a174-35e996477912"
      },
      "outputs": [
        {
          "name": "stdout",
          "output_type": "stream",
          "text": [
            "Model: \"model_1\"\n",
            "__________________________________________________________________________________________________\n",
            " Layer (type)                Output Shape                 Param #   Connected to                  \n",
            "==================================================================================================\n",
            " input_2 (InputLayer)        [(None, 30, 30, 3)]          0         []                            \n",
            "                                                                                                  \n",
            " conv2d (Conv2D)             (None, 30, 30, 16)           448       ['input_2[0][0]']             \n",
            "                                                                                                  \n",
            " conv2d_4 (Conv2D)           (None, 30, 30, 16)           1216      ['input_2[0][0]']             \n",
            "                                                                                                  \n",
            " batch_normalization_3 (Bat  (None, 30, 30, 16)           64        ['conv2d[0][0]']              \n",
            " chNormalization)                                                                                 \n",
            "                                                                                                  \n",
            " batch_normalization_7 (Bat  (None, 30, 30, 16)           64        ['conv2d_4[0][0]']            \n",
            " chNormalization)                                                                                 \n",
            "                                                                                                  \n",
            " activation (Activation)     (None, 30, 30, 16)           0         ['batch_normalization_3[0][0]'\n",
            "                                                                    ]                             \n",
            "                                                                                                  \n",
            " activation_4 (Activation)   (None, 30, 30, 16)           0         ['batch_normalization_7[0][0]'\n",
            "                                                                    ]                             \n",
            "                                                                                                  \n",
            " max_pooling2d (MaxPooling2  (None, 15, 15, 16)           0         ['activation[0][0]']          \n",
            " D)                                                                                               \n",
            "                                                                                                  \n",
            " average_pooling2d (Average  (None, 15, 15, 16)           0         ['activation_4[0][0]']        \n",
            " Pooling2D)                                                                                       \n",
            "                                                                                                  \n",
            " dropout_3 (Dropout)         (None, 15, 15, 16)           0         ['max_pooling2d[0][0]']       \n",
            "                                                                                                  \n",
            " dropout_7 (Dropout)         (None, 15, 15, 16)           0         ['average_pooling2d[0][0]']   \n",
            "                                                                                                  \n",
            " conv2d_1 (Conv2D)           (None, 15, 15, 32)           4640      ['dropout_3[0][0]']           \n",
            "                                                                                                  \n",
            " conv2d_5 (Conv2D)           (None, 15, 15, 32)           12832     ['dropout_7[0][0]']           \n",
            "                                                                                                  \n",
            " batch_normalization_4 (Bat  (None, 15, 15, 32)           128       ['conv2d_1[0][0]']            \n",
            " chNormalization)                                                                                 \n",
            "                                                                                                  \n",
            " batch_normalization_8 (Bat  (None, 15, 15, 32)           128       ['conv2d_5[0][0]']            \n",
            " chNormalization)                                                                                 \n",
            "                                                                                                  \n",
            " activation_1 (Activation)   (None, 15, 15, 32)           0         ['batch_normalization_4[0][0]'\n",
            "                                                                    ]                             \n",
            "                                                                                                  \n",
            " activation_5 (Activation)   (None, 15, 15, 32)           0         ['batch_normalization_8[0][0]'\n",
            "                                                                    ]                             \n",
            "                                                                                                  \n",
            " max_pooling2d_1 (MaxPoolin  (None, 7, 7, 32)             0         ['activation_1[0][0]']        \n",
            " g2D)                                                                                             \n",
            "                                                                                                  \n",
            " average_pooling2d_1 (Avera  (None, 7, 7, 32)             0         ['activation_5[0][0]']        \n",
            " gePooling2D)                                                                                     \n",
            "                                                                                                  \n",
            " dropout_4 (Dropout)         (None, 7, 7, 32)             0         ['max_pooling2d_1[0][0]']     \n",
            "                                                                                                  \n",
            " dropout_8 (Dropout)         (None, 7, 7, 32)             0         ['average_pooling2d_1[0][0]'] \n",
            "                                                                                                  \n",
            " conv2d_2 (Conv2D)           (None, 7, 7, 64)             18496     ['dropout_4[0][0]']           \n",
            "                                                                                                  \n",
            " conv2d_6 (Conv2D)           (None, 7, 7, 64)             51264     ['dropout_8[0][0]']           \n",
            "                                                                                                  \n",
            " batch_normalization_5 (Bat  (None, 7, 7, 64)             256       ['conv2d_2[0][0]']            \n",
            " chNormalization)                                                                                 \n",
            "                                                                                                  \n",
            " batch_normalization_9 (Bat  (None, 7, 7, 64)             256       ['conv2d_6[0][0]']            \n",
            " chNormalization)                                                                                 \n",
            "                                                                                                  \n",
            " activation_2 (Activation)   (None, 7, 7, 64)             0         ['batch_normalization_5[0][0]'\n",
            "                                                                    ]                             \n",
            "                                                                                                  \n",
            " activation_6 (Activation)   (None, 7, 7, 64)             0         ['batch_normalization_9[0][0]'\n",
            "                                                                    ]                             \n",
            "                                                                                                  \n",
            " max_pooling2d_2 (MaxPoolin  (None, 3, 3, 64)             0         ['activation_2[0][0]']        \n",
            " g2D)                                                                                             \n",
            "                                                                                                  \n",
            " average_pooling2d_2 (Avera  (None, 3, 3, 64)             0         ['activation_6[0][0]']        \n",
            " gePooling2D)                                                                                     \n",
            "                                                                                                  \n",
            " dropout_5 (Dropout)         (None, 3, 3, 64)             0         ['max_pooling2d_2[0][0]']     \n",
            "                                                                                                  \n",
            " dropout_9 (Dropout)         (None, 3, 3, 64)             0         ['average_pooling2d_2[0][0]'] \n",
            "                                                                                                  \n",
            " conv2d_3 (Conv2D)           (None, 3, 3, 64)             36928     ['dropout_5[0][0]']           \n",
            "                                                                                                  \n",
            " conv2d_7 (Conv2D)           (None, 3, 3, 64)             102464    ['dropout_9[0][0]']           \n",
            "                                                                                                  \n",
            " batch_normalization_6 (Bat  (None, 3, 3, 64)             256       ['conv2d_3[0][0]']            \n",
            " chNormalization)                                                                                 \n",
            "                                                                                                  \n",
            " batch_normalization_10 (Ba  (None, 3, 3, 64)             256       ['conv2d_7[0][0]']            \n",
            " tchNormalization)                                                                                \n",
            "                                                                                                  \n",
            " activation_3 (Activation)   (None, 3, 3, 64)             0         ['batch_normalization_6[0][0]'\n",
            "                                                                    ]                             \n",
            "                                                                                                  \n",
            " activation_7 (Activation)   (None, 3, 3, 64)             0         ['batch_normalization_10[0][0]\n",
            "                                                                    ']                            \n",
            "                                                                                                  \n",
            " max_pooling2d_3 (MaxPoolin  (None, 1, 1, 64)             0         ['activation_3[0][0]']        \n",
            " g2D)                                                                                             \n",
            "                                                                                                  \n",
            " average_pooling2d_3 (Avera  (None, 1, 1, 64)             0         ['activation_7[0][0]']        \n",
            " gePooling2D)                                                                                     \n",
            "                                                                                                  \n",
            " input_1 (InputLayer)        [(None, 55)]                 0         []                            \n",
            "                                                                                                  \n",
            " dropout_6 (Dropout)         (None, 1, 1, 64)             0         ['max_pooling2d_3[0][0]']     \n",
            "                                                                                                  \n",
            " dropout_10 (Dropout)        (None, 1, 1, 64)             0         ['average_pooling2d_3[0][0]'] \n",
            "                                                                                                  \n",
            " dense (Dense)               (None, 64)                   3584      ['input_1[0][0]']             \n",
            "                                                                                                  \n",
            " concatenate (Concatenate)   (None, 2, 1, 64)             0         ['dropout_6[0][0]',           \n",
            "                                                                     'dropout_10[0][0]']          \n",
            "                                                                                                  \n",
            " batch_normalization (Batch  (None, 64)                   256       ['dense[0][0]']               \n",
            " Normalization)                                                                                   \n",
            "                                                                                                  \n",
            " flatten (Flatten)           (None, 128)                  0         ['concatenate[0][0]']         \n",
            "                                                                                                  \n",
            " dropout (Dropout)           (None, 64)                   0         ['batch_normalization[0][0]'] \n",
            "                                                                                                  \n",
            " dropout_11 (Dropout)        (None, 128)                  0         ['flatten[0][0]']             \n",
            "                                                                                                  \n",
            " dense_1 (Dense)             (None, 32)                   2080      ['dropout[0][0]']             \n",
            "                                                                                                  \n",
            " dense_4 (Dense)             (None, 128)                  16512     ['dropout_11[0][0]']          \n",
            "                                                                                                  \n",
            " batch_normalization_1 (Bat  (None, 32)                   128       ['dense_1[0][0]']             \n",
            " chNormalization)                                                                                 \n",
            "                                                                                                  \n",
            " dropout_12 (Dropout)        (None, 128)                  0         ['dense_4[0][0]']             \n",
            "                                                                                                  \n",
            " dropout_1 (Dropout)         (None, 32)                   0         ['batch_normalization_1[0][0]'\n",
            "                                                                    ]                             \n",
            "                                                                                                  \n",
            " dense_5 (Dense)             (None, 64)                   8256      ['dropout_12[0][0]']          \n",
            "                                                                                                  \n",
            " dense_2 (Dense)             (None, 16)                   528       ['dropout_1[0][0]']           \n",
            "                                                                                                  \n",
            " dropout_13 (Dropout)        (None, 64)                   0         ['dense_5[0][0]']             \n",
            "                                                                                                  \n",
            " batch_normalization_2 (Bat  (None, 16)                   64        ['dense_2[0][0]']             \n",
            " chNormalization)                                                                                 \n",
            "                                                                                                  \n",
            " dense_6 (Dense)             (None, 32)                   2080      ['dropout_13[0][0]']          \n",
            "                                                                                                  \n",
            " dropout_2 (Dropout)         (None, 16)                   0         ['batch_normalization_2[0][0]'\n",
            "                                                                    ]                             \n",
            "                                                                                                  \n",
            " dropout_14 (Dropout)        (None, 32)                   0         ['dense_6[0][0]']             \n",
            "                                                                                                  \n",
            " concatenate_1 (Concatenate  (None, 48)                   0         ['dropout_2[0][0]',           \n",
            " )                                                                   'dropout_14[0][0]']          \n",
            "                                                                                                  \n",
            " dense_7 (Dense)             (None, 16)                   784       ['concatenate_1[0][0]']       \n",
            "                                                                                                  \n",
            " dense_8 (Dense)             (None, 1)                    17        ['dense_7[0][0]']             \n",
            "                                                                                                  \n",
            "==================================================================================================\n",
            "Total params: 263985 (1.01 MB)\n",
            "Trainable params: 263057 (1.00 MB)\n",
            "Non-trainable params: 928 (3.62 KB)\n",
            "__________________________________________________________________________________________________\n"
          ]
        },
        {
          "data": {
            "image/png": "[encoded data removed]",
            "text/plain": [
              "<IPython.core.display.Image object>"
            ]
          },
          "execution_count": 44,
          "metadata": {},
          "output_type": "execute_result"
        }
      ],
      "source": [
        "from keras.utils import plot_model\n",
        "model.summary()\n",
        "plot_model(model)"
      ]
    },
    {
      "cell_type": "markdown",
      "metadata": {
        "id": "EPGJMv8Jiryz"
      },
      "source": [
        "---\n",
        "<a id=\"section55\"></a>\n",
        "# <font color=\"#004D7F\" size=5> 6.5. Compile and fit</font>\n"
      ]
    },
    {
      "cell_type": "code",
      "execution_count": 45,
      "metadata": {
        "id": "-mUXAIeZDAAT"
      },
      "outputs": [],
      "source": [
        "opt = Adam(learning_rate=1e-3)"
      ]
    },
    {
      "cell_type": "code",
      "execution_count": 46,
      "metadata": {
        "id": "bpK2urdRiry1"
      },
      "outputs": [],
      "source": [
        "model.compile(\n",
        "    loss=\"mse\",\n",
        "    optimizer=opt,\n",
        "    metrics = METRICS\n",
        ")"
      ]
    },
    {
      "cell_type": "code",
      "execution_count": 47,
      "metadata": {
        "colab": {
          "base_uri": "https://localhost:8080/"
        },
        "id": "N4dcwqkViry2",
        "outputId": "1a4b36cb-7249-4305-b37f-d600297cec6f"
      },
      "outputs": [
        {
          "name": "stdout",
          "output_type": "stream",
          "text": [
            "Epoch 1/10\n",
            "420/420 [==============================] - 86s 180ms/step - loss: 85.1337 - mse: 85.1337 - mae: 7.3425 - r_square: 0.0200 - val_loss: 54.9903 - val_mse: 54.9903 - val_mae: 6.1044 - val_r_square: 0.3615\n",
            "Epoch 2/10\n",
            "420/420 [==============================] - 92s 220ms/step - loss: 58.9428 - mse: 58.9428 - mae: 6.1859 - r_square: 0.3186 - val_loss: 47.2664 - val_mse: 47.2664 - val_mae: 5.5558 - val_r_square: 0.4454\n",
            "Epoch 3/10\n",
            "420/420 [==============================] - 78s 185ms/step - loss: 55.3722 - mse: 55.3722 - mae: 5.9947 - r_square: 0.3643 - val_loss: 47.5302 - val_mse: 47.5302 - val_mae: 5.5511 - val_r_square: 0.4432\n",
            "Epoch 4/10\n",
            "420/420 [==============================] - 99s 235ms/step - loss: 53.2653 - mse: 53.2653 - mae: 5.8845 - r_square: 0.3849 - val_loss: 47.0874 - val_mse: 47.0874 - val_mae: 5.5469 - val_r_square: 0.4462\n",
            "Epoch 5/10\n",
            "420/420 [==============================] - 81s 193ms/step - loss: 52.2190 - mse: 52.2190 - mae: 5.8445 - r_square: 0.3990 - val_loss: 47.3341 - val_mse: 47.3341 - val_mae: 5.4806 - val_r_square: 0.4437\n",
            "Epoch 6/10\n",
            "420/420 [==============================] - 77s 184ms/step - loss: 52.1786 - mse: 52.1786 - mae: 5.8339 - r_square: 0.3957 - val_loss: 47.5384 - val_mse: 47.5384 - val_mae: 5.4962 - val_r_square: 0.4414\n",
            "Epoch 7/10\n",
            "420/420 [==============================] - 71s 169ms/step - loss: 51.3328 - mse: 51.3328 - mae: 5.7856 - r_square: 0.4084 - val_loss: 46.7246 - val_mse: 46.7246 - val_mae: 5.5323 - val_r_square: 0.4521\n",
            "Epoch 8/10\n",
            "420/420 [==============================] - 71s 169ms/step - loss: 50.8358 - mse: 50.8358 - mae: 5.7545 - r_square: 0.4138 - val_loss: 46.5734 - val_mse: 46.5734 - val_mae: 5.4669 - val_r_square: 0.4519\n",
            "Epoch 9/10\n",
            "420/420 [==============================] - 72s 173ms/step - loss: 50.5377 - mse: 50.5377 - mae: 5.7272 - r_square: 0.4138 - val_loss: 47.3058 - val_mse: 47.3058 - val_mae: 5.5024 - val_r_square: 0.4433\n",
            "Epoch 10/10\n",
            "420/420 [==============================] - 70s 168ms/step - loss: 50.1576 - mse: 50.1576 - mae: 5.7037 - r_square: 0.4217 - val_loss: 46.5890 - val_mse: 46.5890 - val_mae: 5.5200 - val_r_square: 0.4534\n"
          ]
        }
      ],
      "source": [
        "model_history=model.fit(\n",
        "    x=[X_train_num, X_train_img], y=y_train,\n",
        "    validation_data=([X_val_num, X_val_img], y_val),\n",
        "    epochs=10,\n",
        "    batch_size=50\n",
        ")"
      ]
    },
    {
      "cell_type": "code",
      "execution_count": 115,
      "metadata": {
        "colab": {
          "base_uri": "https://localhost:8080/"
        },
        "id": "BcGghwkIDAAW",
        "outputId": "02d52714-3596-42e4-fecd-46dacecc9842"
      },
      "outputs": [
        {
          "name": "stdout",
          "output_type": "stream",
          "text": [
            "dict_keys(['loss', 'mse', 'mae', 'r_square', 'val_loss', 'val_mse', 'val_mae', 'val_r_square'])\n"
          ]
        }
      ],
      "source": [
        "print(model_history.history.keys())"
      ]
    },
    {
      "cell_type": "markdown",
      "metadata": {
        "id": "jMRV4Ee1DAAX"
      },
      "source": [
        "<a id=\"section6\"></a>\n",
        "# <font color=\"#004D7F\" size=6> 7. Results</font>\n",
        "\n",
        "Finally, we can evaluate our hybrid model with the images created by TINTOlib in any of the ways represented below."
      ]
    },
    {
      "cell_type": "markdown",
      "metadata": {
        "id": "7OsKjwHpirzI"
      },
      "source": [
        "---\n",
        "<a id=\"section61\"></a>\n",
        "# <font color=\"#004D7F\" size=5> 7.1. Train/Validation representation</font>"
      ]
    },
    {
      "cell_type": "code",
      "execution_count": 48,
      "metadata": {
        "colab": {
          "base_uri": "https://localhost:8080/",
          "height": 430
        },
        "id": "H5UXDjQwDAAY",
        "outputId": "a126e016-70d5-4653-a471-0a8a721d10f1"
      },
      "outputs": [
        {
          "data": {
            "image/png": "[encoded data removed]",
            "text/plain": [
              "<Figure size 640x480 with 1 Axes>"
            ]
          },
          "metadata": {},
          "output_type": "display_data"
        }
      ],
      "source": [
        "plt.plot(model_history.history['loss'], color = 'red', label = 'loss')\n",
        "plt.plot(model_history.history['val_loss'], color = 'green', label = 'val loss')\n",
        "plt.legend(loc = 'upper right')\n",
        "plt.show()"
      ]
    },
    {
      "cell_type": "code",
      "execution_count": 49,
      "metadata": {
        "colab": {
          "base_uri": "https://localhost:8080/",
          "height": 430
        },
        "id": "X1ophmZYDAAZ",
        "outputId": "46e4f385-8e5f-49d8-a5cd-ac48b71d98a5"
      },
      "outputs": [
        {
          "data": {
            "image/png": "[encoded data removed]",
            "text/plain": [
              "<Figure size 640x480 with 1 Axes>"
            ]
          },
          "metadata": {},
          "output_type": "display_data"
        }
      ],
      "source": [
        "plt.plot(model_history.history['mse'], color = 'red', label = 'mse')\n",
        "plt.plot(model_history.history['val_mse'], color = 'green', label = 'val mse')\n",
        "plt.legend(loc = 'upper right')\n",
        "plt.show()"
      ]
    },
    {
      "cell_type": "markdown",
      "metadata": {
        "id": "yMXf45ZyirzU"
      },
      "source": [
        "---\n",
        "<a id=\"section62\"></a>\n",
        "# <font color=\"#004D7F\" size=5> 7.2. Validation/Test evaluation</font>"
      ]
    },
    {
      "cell_type": "code",
      "execution_count": 51,
      "metadata": {
        "colab": {
          "base_uri": "https://localhost:8080/"
        },
        "id": "MfmyHhtTirzV",
        "outputId": "e14d349f-752c-440e-96b6-1a1f1953f66b",
        "scrolled": true
      },
      "outputs": [
        {
          "name": "stdout",
          "output_type": "stream",
          "text": [
            "219/219 [==============================] - 8s 35ms/step - loss: 44.6110 - mse: 44.6110 - mae: 5.3714 - r_square: 0.4804\n"
          ]
        }
      ],
      "source": [
        "score_test= model.evaluate([X_test_num, X_test_img], y_test)"
      ]
    },
    {
      "cell_type": "code",
      "execution_count": 52,
      "metadata": {
        "colab": {
          "base_uri": "https://localhost:8080/"
        },
        "id": "ItKAjj6wDAAb",
        "outputId": "53e70785-ed39-4aed-a555-117543b4d9ed"
      },
      "outputs": [
        {
          "name": "stdout",
          "output_type": "stream",
          "text": [
            "219/219 [==============================] - 8s 34ms/step\n",
            "Mean Absolute Percentage Error: 81710818344233.78\n",
            "Mean Absolute Error: 5.371393006571134\n",
            "Mean Squared Error: 44.61095446851019\n",
            "Root Mean Squared Error: 6.679143243598702\n",
            "R2 Score: 0.5087140506067199\n"
          ]
        }
      ],
      "source": [
        "prediction = model.predict([X_test_num,X_test_img])\n",
        "\n",
        "test_mape = mean_absolute_percentage_error(y_test, prediction)\n",
        "test_mae = mean_absolute_error(y_test, prediction)\n",
        "test_mse = mean_squared_error(y_test, prediction)\n",
        "test_rmse = mean_squared_error(y_test, prediction, squared=False)\n",
        "test_r2 = r2_score(y_test, prediction)\n",
        "\n",
        "# Print the evaluation metrics\n",
        "print(\"Mean Absolute Percentage Error:\", test_mape)\n",
        "print(\"Mean Absolute Error:\", test_mae)\n",
        "print(\"Mean Squared Error:\", test_mse)\n",
        "print(\"Root Mean Squared Error:\", test_rmse)\n",
        "print(\"R2 Score:\", test_r2)\n"
      ]
    },
    {
      "cell_type": "code",
      "execution_count": 53,
      "metadata": {
        "colab": {
          "base_uri": "https://localhost:8080/"
        },
        "id": "qmgClcfWirzk",
        "outputId": "0b0ba090-7c30-48bc-c7c9-6331f894e54f"
      },
      "outputs": [
        {
          "name": "stdout",
          "output_type": "stream",
          "text": [
            "Train Mean Squared Error: 50.15755844116211\n",
            "Train R2 Score: 0.42168906331062317\n",
            "Val Mean Squared Error: 46.58897399902344\n",
            "Val R2 Score: 0.45344144105911255\n"
          ]
        }
      ],
      "source": [
        "train_mse = model_history.history[\"mse\"][-1]\n",
        "train_r2 = model_history.history[\"r_square\"][-1]\n",
        "\n",
        "val_mse = model_history.history[\"val_mse\"][-1]\n",
        "val_r2 = model_history.history[\"val_r_square\"][-1]\n",
        "\n",
        "print(\"Train Mean Squared Error:\", train_mse)\n",
        "print(\"Train R2 Score:\", train_r2)\n",
        "\n",
        "print(\"Val Mean Squared Error:\", val_mse)\n",
        "print(\"Val R2 Score:\", val_r2)"
      ]
    },
    {
      "cell_type": "markdown",
      "metadata": {
        "id": "0ciBS76mpjGU"
      },
      "source": [
        "<div style=\"text-align: right\"> <font size=5> <a href=\"#indice\"><i class=\"fa fa-arrow-circle-up\" aria-hidden=\"true\" style=\"color:#004D7F\"></i></a></font></div>\n",
        "\n",
        "---\n",
        "\n",
        "<div style=\"text-align: right\"> <font size=6><i class=\"fa fa-coffee\" aria-hidden=\"true\" style=\"color:#004D7F\"></i> </font></div>"
      ]
    }
  ],
  "metadata": {
    "accelerator": "GPU",
    "colab": {
      "gpuType": "T4",
      "provenance": []
    },
    "kernelspec": {
      "display_name": "TINTOlib",
      "language": "python",
      "name": "python3"
    },
    "language_info": {
      "codemirror_mode": {
        "name": "ipython",
        "version": 3
      },
      "file_extension": ".py",
      "mimetype": "text/x-python",
      "name": "python",
      "nbconvert_exporter": "python",
      "pygments_lexer": "ipython3",
      "version": "3.10.16"
    }
  },
  "nbformat": 4,
  "nbformat_minor": 0
}
