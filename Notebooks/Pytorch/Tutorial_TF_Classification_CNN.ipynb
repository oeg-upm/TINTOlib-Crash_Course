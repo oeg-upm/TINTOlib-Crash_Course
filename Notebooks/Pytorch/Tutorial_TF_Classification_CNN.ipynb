{
  "cells": [
    {
      "cell_type": "markdown",
      "metadata": {
        "id": "EybOZ6hSjpCF"
      },
      "source": [
        "<h1><font color=\"#113D68\" size=6>TINTOlib: Converting Tidy Data into Image for 2-Dimensional Convolutional Neural Networks</font></h1>\n",
        "\n",
        "<h1><font color=\"#113D68\" size=5>Template Classification Machine Learning problem with a CNN</font></h1>\n",
        "\n",
        "<br><br>\n",
        "<div style=\"text-align: right\">\n",
        "<font color=\"#113D68\" size=3>Manuel Castillo-Cara</font><br>\n",
        "<font color=\"#113D68\" size=3>Raúl García-Castro</font><br>\n",
        "<font color=\"#113D68\" size=3>Jiayun Liu</font><br>\n",
        "\n",
        "</div>\n",
        "\n",
        "---"
      ]
    },
    {
      "cell_type": "markdown",
      "metadata": {
        "id": "i3tgsO0BjpCj"
      },
      "source": [
        "<div class=\"alert alert-block alert-info\">\n",
        "    \n",
        "<i class=\"fa fa-info-circle\" aria-hidden=\"true\"></i>\n",
        "More information about [Manuel Castillo-Cara](https://www.manuelcastillo.eu/)"
      ]
    },
    {
      "cell_type": "markdown",
      "metadata": {
        "id": "G9_9-WUgxrql"
      },
      "source": [
        "<div class=\"alert alert-block alert-info\">\n",
        "    \n",
        "<i class=\"fa fa-info-circle\" aria-hidden=\"true\"></i>\n",
        "More information about [Raúl García-Castro](http://www.garcia-castro.com/)"
      ]
    },
    {
      "cell_type": "markdown",
      "metadata": {
        "id": "2l5nFzsdjpCW"
      },
      "source": [
        "---\n",
        "\n",
        "<a id=\"indice\"></a>\n",
        "<h2><font color=\"#004D7F\" size=5>Index</font></h2>\n",
        "\n",
        "* [0. Context](#section0)\n",
        "* [1. Description](#section1)\n",
        "    * [1.1. Main Features](#section11)\n",
        "    * [1.2. Citation](#section12)\n",
        "    * [1.3. Documentation and License](#section13)\n",
        "* [2. Libraries](#section2)\n",
        "    * [2.1. System setup](#section21)\n",
        "    * [2.2. Invoke the libraries](#section22)\n",
        "* [3. Data processing](#section3)\n",
        "    * [3.1. TINTOlib methods](#section31)\n",
        "    * [3.2. Read the dataset](#section32)\n",
        "    * [3.3. Generate images](#section33)\n",
        "    * [3.4. Read images](#section34)\n",
        "* [4. Pre-modelling phase](#section4)\n",
        "    * [4.1. Data curation](#section41)\n",
        "    * [4.2. Resize Images](#section42)\n",
        "    * [4.3. Iterators](#section43)\n",
        "* [5. Modelling with CNN](#section5)\n",
        "    * [5.1. CNN](#section51)\n",
        "    * [5.2. Compile and fit](#section52)\n",
        "* [6. Results](#section6)\n",
        "    * [6.1. Train/Validation representation](#section61)\n",
        "    * [6.2. Validation/Test evaluation](#section62)\n",
        "    * [6.3. Sklearn metrics evaluation](#section63)"
      ]
    },
    {
      "cell_type": "markdown",
      "metadata": {
        "id": "SxTpMExHjpCa"
      },
      "source": [
        "---\n",
        "<a id=\"section0\"></a>\n",
        "# <font color=\"#004D7F\" size=6> 0. Context</font>"
      ]
    },
    {
      "cell_type": "markdown",
      "metadata": {
        "id": "JlVYt3MRrl_V"
      },
      "source": [
        "This is a tutorial on how to read the images created by TINTO and pass them to a very simple pretrained Convolutional Neural Network (CNN). The images must already be created by the TINTOlib software. See the documentation in GITHUB for how to create the images from tabular data.\n",
        "\n",
        "Remember that when using CNN you can set the training to be done with GPUs to improve performance."
      ]
    },
    {
      "cell_type": "markdown",
      "metadata": {
        "id": "2EzOQw6oxrrO"
      },
      "source": [
        "<div class=\"alert alert-block alert-info\">\n",
        "\n",
        "<i class=\"fa fa-info-circle\" aria-hidden=\"true\"></i>\n",
        "You can see all information about TINTOlib code in [GitHub](https://github.com/oeg-upm/TINTOlib)"
      ]
    },
    {
      "cell_type": "markdown",
      "metadata": {
        "id": "p7xRQjdexrsA"
      },
      "source": [
        "<div class=\"alert alert-block alert-info\">\n",
        "\n",
        "<i class=\"fa fa-info-circle\" aria-hidden=\"true\"></i>\n",
        "You can see all information about TINTOlib documentation in [PyPI](https://tintolib.readthedocs.io/en/latest/installation.html)"
      ]
    },
    {
      "cell_type": "markdown",
      "metadata": {
        "id": "4RKBgDwzjpCl"
      },
      "source": [
        "---\n",
        "<div style=\"text-align: right\"> <font size=5> <a href=\"#indice\"><i class=\"fa fa-arrow-circle-up\" aria-hidden=\"true\" style=\"color:#004D7F\"></i></a></font></div>\n",
        "\n",
        "---"
      ]
    },
    {
      "cell_type": "code",
      "execution_count": 1,
      "metadata": {},
      "outputs": [
        {
          "name": "stdout",
          "output_type": "stream",
          "text": [
            "absl-py==2.1.0\n",
            "aiohttp==3.9.3\n",
            "aiosignal==1.3.1\n",
            "altgraph @ file:///AppleInternal/Library/BuildRoots/860631e9-c1c5-11ee-98ee-b6ef2fd8d87b/Library/Caches/com.apple.xbs/Sources/python3/altgraph-0.17.2-py2.py3-none-any.whl\n",
            "anyio==4.3.0\n",
            "appnope==0.1.3\n",
            "argon2-cffi==23.1.0\n",
            "argon2-cffi-bindings==21.2.0\n",
            "arrow==1.3.0\n",
            "asttokens==2.4.1\n",
            "astunparse==1.6.3\n",
            "async-lru==2.0.4\n",
            "async-timeout==4.0.3\n",
            "attrs==23.2.0\n",
            "Babel==2.14.0\n",
            "beautifulsoup4==4.12.3\n",
            "bleach==6.1.0\n",
            "cachetools==5.3.2\n",
            "certifi==2024.2.2\n",
            "cffi==1.16.0\n",
            "charset-normalizer==3.3.2\n",
            "click==8.1.7\n",
            "cmake==3.28.3\n",
            "comm==0.2.1\n",
            "contourpy==1.2.0\n",
            "cycler==0.12.1\n",
            "debugpy==1.8.0\n",
            "decorator==5.1.1\n",
            "defusedxml==0.7.1\n",
            "ecos==2.0.7rc2\n",
            "entrypoints==0.4\n",
            "exceptiongroup==1.2.0\n",
            "executing==2.0.1\n",
            "fastjsonschema==2.19.1\n",
            "filelock==3.13.1\n",
            "flatbuffers==23.5.26\n",
            "fonttools==4.47.2\n",
            "fqdn==1.5.1\n",
            "frozenlist==1.4.1\n",
            "fsspec==2023.12.2\n",
            "future @ file:///AppleInternal/Library/BuildRoots/860631e9-c1c5-11ee-98ee-b6ef2fd8d87b/Library/Caches/com.apple.xbs/Sources/python3/future-0.18.2-py3-none-any.whl\n",
            "gast==0.5.4\n",
            "google-auth==2.27.0\n",
            "google-auth-oauthlib==1.2.0\n",
            "google-pasta==0.2.0\n",
            "grpcio==1.60.1\n",
            "h11==0.14.0\n",
            "h5py==3.10.0\n",
            "httpcore==1.0.5\n",
            "httpx==0.27.0\n",
            "idna==3.6\n",
            "imbalanced-learn==0.12.0\n",
            "imblearn==0.0\n",
            "importlib-metadata==7.0.1\n",
            "importlib-resources==6.1.1\n",
            "ipykernel==6.29.0\n",
            "ipython==8.18.1\n",
            "isoduration==20.11.0\n",
            "jedi==0.19.1\n",
            "Jinja2==3.1.3\n",
            "joblib==1.3.2\n",
            "json5==0.9.24\n",
            "jsonpointer==2.4\n",
            "jsonschema==4.21.1\n",
            "jsonschema-specifications==2023.12.1\n",
            "jupyter-events==0.10.0\n",
            "jupyter-lsp==2.2.4\n",
            "jupyter_client==7.4.9\n",
            "jupyter_core==5.7.1\n",
            "jupyter_server==2.13.0\n",
            "jupyter_server_terminals==0.5.3\n",
            "jupyterlab==4.1.5\n",
            "jupyterlab_pygments==0.3.0\n",
            "jupyterlab_server==2.25.4\n",
            "keras==2.15.0\n",
            "Keras-Preprocessing==1.1.2\n",
            "kiwisolver==1.4.5\n",
            "lazypredict==0.2.12\n",
            "lazypredict-nightly==0.3.2\n",
            "libclang==16.0.6\n",
            "lightgbm==4.3.0\n",
            "lightning-utilities==0.10.1\n",
            "macholib @ file:///AppleInternal/Library/BuildRoots/860631e9-c1c5-11ee-98ee-b6ef2fd8d87b/Library/Caches/com.apple.xbs/Sources/python3/macholib-1.15.2-py2.py3-none-any.whl\n",
            "Markdown==3.5.2\n",
            "MarkupSafe==2.1.4\n",
            "matplotlib==3.8.2\n",
            "matplotlib-inline==0.1.6\n",
            "mistune==3.0.2\n",
            "ml-dtypes==0.2.0\n",
            "mlens==0.2.3\n",
            "mpi4py==3.1.5\n",
            "mpmath==1.3.0\n",
            "multidict==6.0.5\n",
            "nbclient==0.10.0\n",
            "nbconvert==7.16.3\n",
            "nbformat==5.10.3\n",
            "nest-asyncio==1.6.0\n",
            "networkx==3.2.1\n",
            "notebook==7.1.2\n",
            "notebook_shim==0.2.4\n",
            "numpy==1.26.3\n",
            "oauthlib==3.2.2\n",
            "opencv-python==4.9.0.80\n",
            "opt-einsum==3.3.0\n",
            "osqp==0.6.1\n",
            "overrides==7.7.0\n",
            "packaging==23.2\n",
            "pandas==2.2.0\n",
            "pandocfilters==1.5.1\n",
            "parso==0.8.3\n",
            "pexpect==4.9.0\n",
            "pillow==10.2.0\n",
            "platformdirs==4.1.0\n",
            "prometheus_client==0.20.0\n",
            "prompt-toolkit==3.0.43\n",
            "protobuf==4.23.4\n",
            "psutil==5.9.8\n",
            "ptyprocess==0.7.0\n",
            "pure-eval==0.2.2\n",
            "pyasn1==0.5.1\n",
            "pyasn1-modules==0.3.0\n",
            "pycparser==2.21\n",
            "Pygments==2.17.2\n",
            "pyparsing==3.1.1\n",
            "python-dateutil==2.8.2\n",
            "python-json-logger==2.0.7\n",
            "pytorch-lightning==2.1.4\n",
            "pytz==2024.1\n",
            "PyYAML==6.0.1\n",
            "pyzmq==24.0.1\n",
            "referencing==0.34.0\n",
            "requests==2.31.0\n",
            "requests-oauthlib==1.3.1\n",
            "rfc3339-validator==0.1.4\n",
            "rfc3986-validator==0.1.1\n",
            "rpds-py==0.18.0\n",
            "rsa==4.9\n",
            "scikeras==0.12.0\n",
            "scikit-learn==1.4.0\n",
            "scipy==1.12.0\n",
            "seaborn==0.13.2\n",
            "Send2Trash==1.8.2\n",
            "six @ file:///AppleInternal/Library/BuildRoots/860631e9-c1c5-11ee-98ee-b6ef2fd8d87b/Library/Caches/com.apple.xbs/Sources/python3/six-1.15.0-py2.py3-none-any.whl\n",
            "sniffio==1.3.1\n",
            "soupsieve==2.5\n",
            "stack-data==0.6.3\n",
            "sympy==1.12\n",
            "tensorboard==2.15.1\n",
            "tensorboard-data-server==0.7.2\n",
            "tensorflow==2.15.0\n",
            "tensorflow-estimator==2.15.0\n",
            "tensorflow-io-gcs-filesystem==0.34.0\n",
            "tensorflow-macos==2.15.0\n",
            "tensorflow-metal==1.1.0\n",
            "termcolor==2.4.0\n",
            "terminado==0.18.1\n",
            "threadpoolctl==3.2.0\n",
            "tifffile==2024.1.30\n",
            "TINTOlib==0.0.14\n",
            "tinycss2==1.2.1\n",
            "tomli==2.0.1\n",
            "toolbox==1.11.0\n",
            "torch==2.2.0\n",
            "torchmetrics==1.3.0.post0\n",
            "torchvision==0.17.0\n",
            "tornado==6.4\n",
            "tqdm==4.66.1\n",
            "traitlets==5.14.1\n",
            "types-python-dateutil==2.9.0.20240316\n",
            "typing_extensions==4.9.0\n",
            "tzdata==2023.4\n",
            "uri-template==1.3.0\n",
            "urllib3==2.2.0\n",
            "wcwidth==0.2.13\n",
            "webcolors==1.13\n",
            "webencodings==0.5.1\n",
            "websocket-client==1.7.0\n",
            "Werkzeug==3.0.1\n",
            "wrapt==1.14.1\n",
            "xgboost==2.0.3\n",
            "yarl==1.9.4\n",
            "zipp==3.17.0\n"
          ]
        }
      ],
      "source": [
        "!pip freeze"
      ]
    },
    {
      "cell_type": "markdown",
      "metadata": {
        "id": "kpU7pi6yjpCn"
      },
      "source": [
        "<a id=\"section1\"></a>\n",
        "# <font color=\"#004D7F\" size=6> 1. Description</font>"
      ]
    },
    {
      "cell_type": "markdown",
      "metadata": {
        "id": "NL9RoFkEjpCq"
      },
      "source": [
        "The growing interest in the use of algorithms-based machine learning for predictive tasks has generated a large and diverse development of algorithms. However, it is widely known that not all of these algorithms are adapted to efficient solutions in certain tidy data format datasets. For this reason, novel techniques are currently being developed to convert tidy data into images with the aim of using Convolutional Neural Networks (CNNs). TINTOlib offers the opportunity to convert tidy data into images through several techniques: TINTO, IGTD, REFINED, SuperTML, BarGraph, DistanceMatrix and Combination."
      ]
    },
    {
      "cell_type": "markdown",
      "metadata": {
        "id": "HFrF4C89jpCt"
      },
      "source": [
        "---\n",
        "<a id=\"section11\"></a>\n",
        "# <font color=\"#004D7F\" size=5> 1.1. Main Features</font>"
      ]
    },
    {
      "cell_type": "markdown",
      "metadata": {
        "id": "1gruE0_sjpCu"
      },
      "source": [
        "- Supports all CSV data in **[Tidy Data](https://www.jstatsoft.org/article/view/v059i10)** format.\n",
        "- For now, the algorithm converts tabular data for binary and multi-class classification problems into machine learning.\n",
        "- Input data formats:\n",
        "    - **Tabular files**: The input data could be in **[CSV](https://en.wikipedia.org/wiki/Comma-separated_values)**, taking into account the **[Tidy Data](https://www.jstatsoft.org/article/view/v059i10)** format.\n",
        "    - **Dataframe***: The input data could be in **[Pandas Dataframe](https://pandas.pydata.org/docs/reference/api/pandas.DataFrame.html)**, taking into account the **[Tidy Data](https://www.jstatsoft.org/article/view/v059i10)** format.\n",
        "    - **Tidy Data**: The **target** (variable to be predicted) should be set as the last column of the dataset. Therefore, the first columns will be the features.\n",
        "    - All data must be in numerical form. TINTOlib does not accept data in string or any other non-numeric format.\n",
        "- Runs on **Linux**, **Windows** and **macOS** systems.\n",
        "- Compatible with **[Python](https://www.python.org/)** 3.7 or higher."
      ]
    },
    {
      "cell_type": "markdown",
      "metadata": {
        "id": "mHuHsvqSxrsz"
      },
      "source": [
        "---\n",
        "<a id=\"section12\"></a>\n",
        "# <font color=\"#004D7F\" size=5> 1.2. Citation</font>"
      ]
    },
    {
      "cell_type": "markdown",
      "metadata": {
        "id": "jYMSPKsKxrs0"
      },
      "source": [
        "**TINTOlib** is an python library that makes **Synthetic Images** from [Tidy Data](https://www.jstatsoft.org/article/view/v059i10) (also knows as **Tabular Data**).\n",
        "\n",
        "**Citing TINTO**: If you used TINTO in your work, please cite the **[SoftwareX](https://doi.org/10.1016/j.softx.2023.101391)**:\n",
        "\n",
        "```bib\n",
        "@article{softwarex_TINTO,\n",
        "    title = {TINTO: Converting Tidy Data into Image for Classification\n",
        "            with 2-Dimensional Convolutional Neural Networks},\n",
        "    journal = {SoftwareX},\n",
        "    author = {Manuel Castillo-Cara and Reewos Talla-Chumpitaz and\n",
        "              Raúl García-Castro and Luis Orozco-Barbosa},\n",
        "    year = {2023},\n",
        "    pages = {101391},\n",
        "    issn = {2352-7110},\n",
        "    doi = {https://doi.org/10.1016/j.softx.2023.101391}\n",
        "}\n",
        "```\n",
        "\n",
        "And use-case developed in **[INFFUS Paper](https://doi.org/10.1016/j.inffus.2022.10.011)**\n",
        "\n",
        "```bib\n",
        "@article{inffus_TINTO,\n",
        "    title = {A novel deep learning approach using blurring image\n",
        "            techniques for Bluetooth-based indoor localisation},\n",
        "    journal = {Information Fusion},\n",
        "    author = {Reewos Talla-Chumpitaz and Manuel Castillo-Cara and\n",
        "              Luis Orozco-Barbosa and Raúl García-Castro},\n",
        "    volume = {91},\n",
        "    pages = {173-186},\n",
        "    year = {2023},\n",
        "    issn = {1566-2535},\n",
        "    doi = {https://doi.org/10.1016/j.inffus.2022.10.011}\n",
        "}\n",
        "```"
      ]
    },
    {
      "cell_type": "markdown",
      "metadata": {
        "id": "a7XN8f-Zxrs2"
      },
      "source": [
        "---\n",
        "<a id=\"section13\"></a>\n",
        "# <font color=\"#004D7F\" size=5> 1.3. Documentation and License</font>"
      ]
    },
    {
      "cell_type": "markdown",
      "metadata": {
        "id": "i2hC9cuaxrtI"
      },
      "source": [
        "TINTOlib has a wide range of documentation on both GitHub and PyPI.\n",
        "\n",
        "Moreover, TINTOlib is free and open software with Apache 2.0 license."
      ]
    },
    {
      "cell_type": "markdown",
      "metadata": {
        "id": "4HIl0WCExrtJ"
      },
      "source": [
        "<div class=\"alert alert-block alert-info\">\n",
        "\n",
        "<i class=\"fa fa-info-circle\" aria-hidden=\"true\"></i>\n",
        "You can see all information about TINTOlib code in [GitHub](https://github.com/oeg-upm/TINTOlib)"
      ]
    },
    {
      "cell_type": "markdown",
      "metadata": {
        "id": "p3--gGtxxrtK"
      },
      "source": [
        "<div class=\"alert alert-block alert-info\">\n",
        "\n",
        "<i class=\"fa fa-info-circle\" aria-hidden=\"true\"></i>\n",
        "You can see all information about TINTOlib documentation in [PyPI](https://tintolib.readthedocs.io/en/latest/installation.html)"
      ]
    },
    {
      "cell_type": "markdown",
      "metadata": {
        "id": "Z3EzYcjJjpC6"
      },
      "source": [
        "---\n",
        "<div style=\"text-align: right\"> <font size=5> <a href=\"#indice\"><i class=\"fa fa-arrow-circle-up\" aria-hidden=\"true\" style=\"color:#004D7F\"></i></a></font></div>\n",
        "\n",
        "---"
      ]
    },
    {
      "cell_type": "markdown",
      "metadata": {
        "id": "qwYF5A2njpC8"
      },
      "source": [
        "<a id=\"section2\"></a>\n",
        "# <font color=\"#004D7F\" size=6> 2. Libraries</font>"
      ]
    },
    {
      "cell_type": "markdown",
      "metadata": {
        "id": "UXTwKEQAxrtW"
      },
      "source": [
        "---\n",
        "<a id=\"section21\"></a>\n",
        "# <font color=\"#004D7F\" size=5> 2.1. System setup</font>"
      ]
    },
    {
      "cell_type": "markdown",
      "metadata": {
        "id": "ccB2N0EwxrtX"
      },
      "source": [
        "Before installing the libraries you must have the `mpi4py` package installed on the native (Linux) system. This link shows how to install it:\n",
        "- [mpi4py in Linux](https://www.geeksforgeeks.org/how-to-install-python3-mpi4py-package-on-linux/)"
      ]
    },
    {
      "cell_type": "markdown",
      "metadata": {
        "id": "aNwTpvuwxrtY"
      },
      "source": [
        "For example, in Linux:\n",
        "\n",
        "```\n",
        "    sudo apt-get install python3\n",
        "    sudo apt install python3-pip\n",
        "    sudo apt install python3-mpi4py\n",
        "```\n",
        "\n",
        "If you are in Windows, Mac or, also, Linux, you can install from PyPI if you want:\n",
        "```\n",
        "    sudo pip3 install mpi4py\n",
        "```"
      ]
    },
    {
      "cell_type": "code",
      "execution_count": null,
      "metadata": {
        "colab": {
          "base_uri": "https://localhost:8080/"
        },
        "id": "FZgdCjgnV34m",
        "outputId": "f86ef160-c722-4cdd-8159-1e471e5322ea"
      },
      "outputs": [
        {
          "name": "stdout",
          "output_type": "stream",
          "text": [
            "Collecting TINTOlib\n",
            "  Downloading tintolib-0.0.14-py3-none-any.whl (5.2 MB)\n",
            "\u001b[2K     \u001b[90m━━━━━━━━━━━━━━━━━━━━━━━━━━━━━━━━━━━━━━━━\u001b[0m \u001b[32m5.2/5.2 MB\u001b[0m \u001b[31m16.9 MB/s\u001b[0m eta \u001b[36m0:00:00\u001b[0m\n",
            "\u001b[?25hInstalling collected packages: TINTOlib\n",
            "Successfully installed TINTOlib-0.0.14\n"
          ]
        }
      ],
      "source": [
        "!pip install TINTOlib"
      ]
    },
    {
      "cell_type": "markdown",
      "metadata": {
        "id": "hcHC-bQmxrtZ"
      },
      "source": [
        "<div class=\"alert alert-block alert-info\">\n",
        "    \n",
        "<i class=\"fa fa-info-circle\" aria-hidden=\"true\"></i>\n",
        "Note that you must **restart the kernel or the system** so that it can load the libraries."
      ]
    },
    {
      "cell_type": "markdown",
      "metadata": {
        "id": "WliaeAmUxrta"
      },
      "source": [
        "Now, once you have installed `mpi4py` you can install the PyPI libraries and dependences."
      ]
    },
    {
      "cell_type": "code",
      "execution_count": null,
      "metadata": {
        "colab": {
          "base_uri": "https://localhost:8080/"
        },
        "id": "tgTwqHmQxrtc",
        "outputId": "47b1c95d-3d19-4f32-be36-7b1e2f2599d7"
      },
      "outputs": [
        {
          "name": "stdout",
          "output_type": "stream",
          "text": [
            "Collecting torchmetrics\n",
            "  Downloading torchmetrics-1.3.2-py3-none-any.whl (841 kB)\n",
            "\u001b[2K     \u001b[90m━━━━━━━━━━━━━━━━━━━━━━━━━━━━━━━━━━━━━━━━\u001b[0m \u001b[32m841.5/841.5 kB\u001b[0m \u001b[31m4.4 MB/s\u001b[0m eta \u001b[36m0:00:00\u001b[0m\n",
            "\u001b[?25hCollecting pytorch_lightning\n",
            "  Downloading pytorch_lightning-2.2.1-py3-none-any.whl (801 kB)\n",
            "\u001b[2K     \u001b[90m━━━━━━━━━━━━━━━━━━━━━━━━━━━━━━━━━━━━━━━━\u001b[0m \u001b[32m801.6/801.6 kB\u001b[0m \u001b[31m35.2 MB/s\u001b[0m eta \u001b[36m0:00:00\u001b[0m\n",
            "\u001b[?25hRequirement already satisfied: TINTOlib in /usr/local/lib/python3.10/dist-packages (0.0.14)\n",
            "Collecting imblearn\n",
            "  Downloading imblearn-0.0-py2.py3-none-any.whl (1.9 kB)\n",
            "Collecting keras_preprocessing\n",
            "  Downloading Keras_Preprocessing-1.1.2-py2.py3-none-any.whl (42 kB)\n",
            "\u001b[2K     \u001b[90m━━━━━━━━━━━━━━━━━━━━━━━━━━━━━━━━━━━━━━━━\u001b[0m \u001b[32m42.6/42.6 kB\u001b[0m \u001b[31m4.6 MB/s\u001b[0m eta \u001b[36m0:00:00\u001b[0m\n",
            "\u001b[?25hCollecting mpi4py\n",
            "  Downloading mpi4py-3.1.5.tar.gz (2.5 MB)\n",
            "\u001b[2K     \u001b[90m━━━━━━━━━━━━━━━━━━━━━━━━━━━━━━━━━━━━━━━━\u001b[0m \u001b[32m2.5/2.5 MB\u001b[0m \u001b[31m40.4 MB/s\u001b[0m eta \u001b[36m0:00:00\u001b[0m\n",
            "\u001b[?25h  Installing build dependencies ... \u001b[?25l\u001b[?25hdone\n",
            "  Getting requirements to build wheel ... \u001b[?25l\u001b[?25hdone\n",
            "  Preparing metadata (pyproject.toml) ... \u001b[?25l\u001b[?25hdone\n",
            "Requirement already satisfied: numpy>1.20.0 in /usr/local/lib/python3.10/dist-packages (from torchmetrics) (1.25.2)\n",
            "Requirement already satisfied: packaging>17.1 in /usr/local/lib/python3.10/dist-packages (from torchmetrics) (24.0)\n",
            "Requirement already satisfied: torch>=1.10.0 in /usr/local/lib/python3.10/dist-packages (from torchmetrics) (2.2.1+cu121)\n",
            "Collecting lightning-utilities>=0.8.0 (from torchmetrics)\n",
            "  Downloading lightning_utilities-0.11.2-py3-none-any.whl (26 kB)\n",
            "Requirement already satisfied: tqdm>=4.57.0 in /usr/local/lib/python3.10/dist-packages (from pytorch_lightning) (4.66.2)\n",
            "Requirement already satisfied: PyYAML>=5.4 in /usr/local/lib/python3.10/dist-packages (from pytorch_lightning) (6.0.1)\n",
            "Requirement already satisfied: fsspec[http]>=2022.5.0 in /usr/local/lib/python3.10/dist-packages (from pytorch_lightning) (2023.6.0)\n",
            "Requirement already satisfied: typing-extensions>=4.4.0 in /usr/local/lib/python3.10/dist-packages (from pytorch_lightning) (4.10.0)\n",
            "Requirement already satisfied: imbalanced-learn in /usr/local/lib/python3.10/dist-packages (from imblearn) (0.10.1)\n",
            "Requirement already satisfied: six>=1.9.0 in /usr/local/lib/python3.10/dist-packages (from keras_preprocessing) (1.16.0)\n",
            "Requirement already satisfied: requests in /usr/local/lib/python3.10/dist-packages (from fsspec[http]>=2022.5.0->pytorch_lightning) (2.31.0)\n",
            "Requirement already satisfied: aiohttp!=4.0.0a0,!=4.0.0a1 in /usr/local/lib/python3.10/dist-packages (from fsspec[http]>=2022.5.0->pytorch_lightning) (3.9.3)\n",
            "Requirement already satisfied: setuptools in /usr/local/lib/python3.10/dist-packages (from lightning-utilities>=0.8.0->torchmetrics) (67.7.2)\n",
            "Requirement already satisfied: filelock in /usr/local/lib/python3.10/dist-packages (from torch>=1.10.0->torchmetrics) (3.13.3)\n",
            "Requirement already satisfied: sympy in /usr/local/lib/python3.10/dist-packages (from torch>=1.10.0->torchmetrics) (1.12)\n",
            "Requirement already satisfied: networkx in /usr/local/lib/python3.10/dist-packages (from torch>=1.10.0->torchmetrics) (3.2.1)\n",
            "Requirement already satisfied: jinja2 in /usr/local/lib/python3.10/dist-packages (from torch>=1.10.0->torchmetrics) (3.1.3)\n",
            "Collecting nvidia-cuda-nvrtc-cu12==12.1.105 (from torch>=1.10.0->torchmetrics)\n",
            "  Downloading nvidia_cuda_nvrtc_cu12-12.1.105-py3-none-manylinux1_x86_64.whl (23.7 MB)\n",
            "\u001b[2K     \u001b[90m━━━━━━━━━━━━━━━━━━━━━━━━━━━━━━━━━━━━━━━━\u001b[0m \u001b[32m23.7/23.7 MB\u001b[0m \u001b[31m17.2 MB/s\u001b[0m eta \u001b[36m0:00:00\u001b[0m\n",
            "\u001b[?25hCollecting nvidia-cuda-runtime-cu12==12.1.105 (from torch>=1.10.0->torchmetrics)\n",
            "  Downloading nvidia_cuda_runtime_cu12-12.1.105-py3-none-manylinux1_x86_64.whl (823 kB)\n",
            "\u001b[2K     \u001b[90m━━━━━━━━━━━━━━━━━━━━━━━━━━━━━━━━━━━━━━━━\u001b[0m \u001b[32m823.6/823.6 kB\u001b[0m \u001b[31m20.7 MB/s\u001b[0m eta \u001b[36m0:00:00\u001b[0m\n",
            "\u001b[?25hCollecting nvidia-cuda-cupti-cu12==12.1.105 (from torch>=1.10.0->torchmetrics)\n",
            "  Downloading nvidia_cuda_cupti_cu12-12.1.105-py3-none-manylinux1_x86_64.whl (14.1 MB)\n",
            "\u001b[2K     \u001b[90m━━━━━━━━━━━━━━━━━━━━━━━━━━━━━━━━━━━━━━━━\u001b[0m \u001b[32m14.1/14.1 MB\u001b[0m \u001b[31m14.6 MB/s\u001b[0m eta \u001b[36m0:00:00\u001b[0m\n",
            "\u001b[?25hCollecting nvidia-cudnn-cu12==8.9.2.26 (from torch>=1.10.0->torchmetrics)\n",
            "  Downloading nvidia_cudnn_cu12-8.9.2.26-py3-none-manylinux1_x86_64.whl (731.7 MB)\n",
            "\u001b[2K     \u001b[90m━━━━━━━━━━━━━━━━━━━━━━━━━━━━━━━━━━━━━━━━\u001b[0m \u001b[32m731.7/731.7 MB\u001b[0m \u001b[31m996.3 kB/s\u001b[0m eta \u001b[36m0:00:00\u001b[0m\n",
            "\u001b[?25hCollecting nvidia-cublas-cu12==12.1.3.1 (from torch>=1.10.0->torchmetrics)\n",
            "  Downloading nvidia_cublas_cu12-12.1.3.1-py3-none-manylinux1_x86_64.whl (410.6 MB)\n",
            "\u001b[2K     \u001b[90m━━━━━━━━━━━━━━━━━━━━━━━━━━━━━━━━━━━━━━━━\u001b[0m \u001b[32m410.6/410.6 MB\u001b[0m \u001b[31m1.4 MB/s\u001b[0m eta \u001b[36m0:00:00\u001b[0m\n",
            "\u001b[?25hCollecting nvidia-cufft-cu12==11.0.2.54 (from torch>=1.10.0->torchmetrics)\n",
            "  Downloading nvidia_cufft_cu12-11.0.2.54-py3-none-manylinux1_x86_64.whl (121.6 MB)\n",
            "\u001b[2K     \u001b[90m━━━━━━━━━━━━━━━━━━━━━━━━━━━━━━━━━━━━━━━━\u001b[0m \u001b[32m121.6/121.6 MB\u001b[0m \u001b[31m2.2 MB/s\u001b[0m eta \u001b[36m0:00:00\u001b[0m\n",
            "\u001b[?25hCollecting nvidia-curand-cu12==10.3.2.106 (from torch>=1.10.0->torchmetrics)\n",
            "  Downloading nvidia_curand_cu12-10.3.2.106-py3-none-manylinux1_x86_64.whl (56.5 MB)\n",
            "\u001b[2K     \u001b[90m━━━━━━━━━━━━━━━━━━━━━━━━━━━━━━━━━━━━━━━━\u001b[0m \u001b[32m56.5/56.5 MB\u001b[0m \u001b[31m2.4 MB/s\u001b[0m eta \u001b[36m0:00:00\u001b[0m\n",
            "\u001b[?25hCollecting nvidia-cusolver-cu12==11.4.5.107 (from torch>=1.10.0->torchmetrics)\n",
            "  Downloading nvidia_cusolver_cu12-11.4.5.107-py3-none-manylinux1_x86_64.whl (124.2 MB)\n",
            "\u001b[2K     \u001b[90m━━━━━━━━━━━━━━━━━━━━━━━━━━━━━━━━━━━━━━━━\u001b[0m \u001b[32m124.2/124.2 MB\u001b[0m \u001b[31m1.5 MB/s\u001b[0m eta \u001b[36m0:00:00\u001b[0m\n",
            "\u001b[?25hCollecting nvidia-cusparse-cu12==12.1.0.106 (from torch>=1.10.0->torchmetrics)\n",
            "  Downloading nvidia_cusparse_cu12-12.1.0.106-py3-none-manylinux1_x86_64.whl (196.0 MB)\n",
            "\u001b[2K     \u001b[90m━━━━━━━━━━━━━━━━━━━━━━━━━━━━━━━━━━━━━━━━\u001b[0m \u001b[32m196.0/196.0 MB\u001b[0m \u001b[31m2.0 MB/s\u001b[0m eta \u001b[36m0:00:00\u001b[0m\n",
            "\u001b[?25hCollecting nvidia-nccl-cu12==2.19.3 (from torch>=1.10.0->torchmetrics)\n",
            "  Downloading nvidia_nccl_cu12-2.19.3-py3-none-manylinux1_x86_64.whl (166.0 MB)\n",
            "\u001b[2K     \u001b[90m━━━━━━━━━━━━━━━━━━━━━━━━━━━━━━━━━━━━━━━━\u001b[0m \u001b[32m166.0/166.0 MB\u001b[0m \u001b[31m1.6 MB/s\u001b[0m eta \u001b[36m0:00:00\u001b[0m\n",
            "\u001b[?25hCollecting nvidia-nvtx-cu12==12.1.105 (from torch>=1.10.0->torchmetrics)\n",
            "  Downloading nvidia_nvtx_cu12-12.1.105-py3-none-manylinux1_x86_64.whl (99 kB)\n",
            "\u001b[2K     \u001b[90m━━━━━━━━━━━━━━━━━━━━━━━━━━━━━━━━━━━━━━━━\u001b[0m \u001b[32m99.1/99.1 kB\u001b[0m \u001b[31m4.0 MB/s\u001b[0m eta \u001b[36m0:00:00\u001b[0m\n",
            "\u001b[?25hRequirement already satisfied: triton==2.2.0 in /usr/local/lib/python3.10/dist-packages (from torch>=1.10.0->torchmetrics) (2.2.0)\n",
            "Collecting nvidia-nvjitlink-cu12 (from nvidia-cusolver-cu12==11.4.5.107->torch>=1.10.0->torchmetrics)\n",
            "  Downloading nvidia_nvjitlink_cu12-12.4.127-py3-none-manylinux2014_x86_64.whl (21.1 MB)\n",
            "\u001b[2K     \u001b[90m━━━━━━━━━━━━━━━━━━━━━━━━━━━━━━━━━━━━━━━━\u001b[0m \u001b[32m21.1/21.1 MB\u001b[0m \u001b[31m4.8 MB/s\u001b[0m eta \u001b[36m0:00:00\u001b[0m\n",
            "\u001b[?25hRequirement already satisfied: scipy>=1.3.2 in /usr/local/lib/python3.10/dist-packages (from imbalanced-learn->imblearn) (1.11.4)\n",
            "Requirement already satisfied: scikit-learn>=1.0.2 in /usr/local/lib/python3.10/dist-packages (from imbalanced-learn->imblearn) (1.2.2)\n",
            "Requirement already satisfied: joblib>=1.1.1 in /usr/local/lib/python3.10/dist-packages (from imbalanced-learn->imblearn) (1.3.2)\n",
            "Requirement already satisfied: threadpoolctl>=2.0.0 in /usr/local/lib/python3.10/dist-packages (from imbalanced-learn->imblearn) (3.4.0)\n",
            "Requirement already satisfied: aiosignal>=1.1.2 in /usr/local/lib/python3.10/dist-packages (from aiohttp!=4.0.0a0,!=4.0.0a1->fsspec[http]>=2022.5.0->pytorch_lightning) (1.3.1)\n",
            "Requirement already satisfied: attrs>=17.3.0 in /usr/local/lib/python3.10/dist-packages (from aiohttp!=4.0.0a0,!=4.0.0a1->fsspec[http]>=2022.5.0->pytorch_lightning) (23.2.0)\n",
            "Requirement already satisfied: frozenlist>=1.1.1 in /usr/local/lib/python3.10/dist-packages (from aiohttp!=4.0.0a0,!=4.0.0a1->fsspec[http]>=2022.5.0->pytorch_lightning) (1.4.1)\n",
            "Requirement already satisfied: multidict<7.0,>=4.5 in /usr/local/lib/python3.10/dist-packages (from aiohttp!=4.0.0a0,!=4.0.0a1->fsspec[http]>=2022.5.0->pytorch_lightning) (6.0.5)\n",
            "Requirement already satisfied: yarl<2.0,>=1.0 in /usr/local/lib/python3.10/dist-packages (from aiohttp!=4.0.0a0,!=4.0.0a1->fsspec[http]>=2022.5.0->pytorch_lightning) (1.9.4)\n",
            "Requirement already satisfied: async-timeout<5.0,>=4.0 in /usr/local/lib/python3.10/dist-packages (from aiohttp!=4.0.0a0,!=4.0.0a1->fsspec[http]>=2022.5.0->pytorch_lightning) (4.0.3)\n",
            "Requirement already satisfied: MarkupSafe>=2.0 in /usr/local/lib/python3.10/dist-packages (from jinja2->torch>=1.10.0->torchmetrics) (2.1.5)\n",
            "Requirement already satisfied: charset-normalizer<4,>=2 in /usr/local/lib/python3.10/dist-packages (from requests->fsspec[http]>=2022.5.0->pytorch_lightning) (3.3.2)\n",
            "Requirement already satisfied: idna<4,>=2.5 in /usr/local/lib/python3.10/dist-packages (from requests->fsspec[http]>=2022.5.0->pytorch_lightning) (3.6)\n",
            "Requirement already satisfied: urllib3<3,>=1.21.1 in /usr/local/lib/python3.10/dist-packages (from requests->fsspec[http]>=2022.5.0->pytorch_lightning) (2.0.7)\n",
            "Requirement already satisfied: certifi>=2017.4.17 in /usr/local/lib/python3.10/dist-packages (from requests->fsspec[http]>=2022.5.0->pytorch_lightning) (2024.2.2)\n",
            "Requirement already satisfied: mpmath>=0.19 in /usr/local/lib/python3.10/dist-packages (from sympy->torch>=1.10.0->torchmetrics) (1.3.0)\n",
            "Building wheels for collected packages: mpi4py\n",
            "  Building wheel for mpi4py (pyproject.toml) ... \u001b[?25l\u001b[?25hdone\n",
            "  Created wheel for mpi4py: filename=mpi4py-3.1.5-cp310-cp310-linux_x86_64.whl size=2746498 sha256=a7cfd72f2a9eec14055bcd6731a60d8d98036111b7966508b5f2d81b4d34fd39\n",
            "  Stored in directory: /root/.cache/pip/wheels/18/2b/7f/c852523089e9182b45fca50ff56f49a51eeb6284fd25a66713\n",
            "Successfully built mpi4py\n",
            "Installing collected packages: nvidia-nvtx-cu12, nvidia-nvjitlink-cu12, nvidia-nccl-cu12, nvidia-curand-cu12, nvidia-cufft-cu12, nvidia-cuda-runtime-cu12, nvidia-cuda-nvrtc-cu12, nvidia-cuda-cupti-cu12, nvidia-cublas-cu12, mpi4py, lightning-utilities, keras_preprocessing, nvidia-cusparse-cu12, nvidia-cudnn-cu12, nvidia-cusolver-cu12, imblearn, torchmetrics, pytorch_lightning\n",
            "Successfully installed imblearn-0.0 keras_preprocessing-1.1.2 lightning-utilities-0.11.2 mpi4py-3.1.5 nvidia-cublas-cu12-12.1.3.1 nvidia-cuda-cupti-cu12-12.1.105 nvidia-cuda-nvrtc-cu12-12.1.105 nvidia-cuda-runtime-cu12-12.1.105 nvidia-cudnn-cu12-8.9.2.26 nvidia-cufft-cu12-11.0.2.54 nvidia-curand-cu12-10.3.2.106 nvidia-cusolver-cu12-11.4.5.107 nvidia-cusparse-cu12-12.1.0.106 nvidia-nccl-cu12-2.19.3 nvidia-nvjitlink-cu12-12.4.127 nvidia-nvtx-cu12-12.1.105 pytorch_lightning-2.2.1 torchmetrics-1.3.2\n"
          ]
        }
      ],
      "source": [
        "!pip install torchmetrics pytorch_lightning TINTOlib imblearn keras_preprocessing mpi4py"
      ]
    },
    {
      "cell_type": "markdown",
      "metadata": {
        "id": "jzk9nDVSxrt7"
      },
      "source": [
        "<div class=\"alert alert-block alert-info\">\n",
        "    \n",
        "<i class=\"fa fa-info-circle\" aria-hidden=\"true\"></i>\n",
        "Note that you must **restart the kernel** so that it can load the libraries."
      ]
    },
    {
      "cell_type": "markdown",
      "metadata": {
        "id": "j6fznYX-xrt_"
      },
      "source": [
        "---\n",
        "<a id=\"section22\"></a>\n",
        "# <font color=\"#004D7F\" size=5> 2.2. Invoke the libraries</font>"
      ]
    },
    {
      "cell_type": "markdown",
      "metadata": {
        "id": "5AdHKnWYsEq_"
      },
      "source": [
        "The first thing we need to do is to declare the libraries"
      ]
    },
    {
      "cell_type": "code",
      "execution_count": null,
      "metadata": {
        "id": "PeeBbGxlpjFp",
        "tags": []
      },
      "outputs": [],
      "source": [
        "import os\n",
        "import pandas as pd\n",
        "import numpy as np\n",
        "from tqdm import tqdm\n",
        "#import cv2\n",
        "import gc\n",
        "import matplotlib.pyplot as plt\n",
        "#import openslide\n",
        "#from openslide.deepzoom import DeepZoomGenerator\n",
        "import tifffile as tifi\n",
        "import sklearn\n",
        "import tensorflow as tf\n",
        "\n",
        "from keras_preprocessing.image import ImageDataGenerator\n",
        "from tensorflow.keras.models import load_model\n",
        "\n",
        "from sklearn.model_selection import train_test_split\n",
        "from tensorflow.keras.applications import vgg16, vgg19, resnet50, mobilenet, inception_resnet_v2, densenet, inception_v3, xception, nasnet, ResNet152V2\n",
        "from tensorflow.keras.models import Sequential, Model, load_model\n",
        "from tensorflow.keras.layers import Dense, Conv2D, MaxPool2D, Flatten, Dropout, BatchNormalization, InputLayer, LayerNormalization\n",
        "from tensorflow.keras.callbacks import ModelCheckpoint, ReduceLROnPlateau, EarlyStopping\n",
        "from tensorflow.keras.optimizers import SGD, Adam, Adadelta, Adamax\n",
        "\n",
        "from imblearn.over_sampling import RandomOverSampler\n",
        "#Models of TINTOlib\n",
        "from TINTOlib.tinto import TINTO\n",
        "from TINTOlib.supertml import SuperTML\n",
        "from TINTOlib.igtd import IGTD\n",
        "from TINTOlib.refined import REFINED\n",
        "from TINTOlib.barGraph import BarGraph\n",
        "from TINTOlib.distanceMatrix import DistanceMatrix\n",
        "from TINTOlib.combination import Combination\n",
        "\n",
        "SEED = 64\n",
        "# SET RANDOM SEED FOR REPRODUCIBILITY\n",
        "torch.manual_seed(SEED)\n",
        "random.seed(SEED)\n",
        "np.random.seed(SEED)"
      ]
    },
    {
      "cell_type": "markdown",
      "metadata": {
        "id": "NwS-cKUxjpDQ"
      },
      "source": [
        "---\n",
        "<div style=\"text-align: right\"> <font size=5> <a href=\"#indice\"><i class=\"fa fa-arrow-circle-up\" aria-hidden=\"true\" style=\"color:#004D7F\"></i></a></font></div>\n",
        "\n",
        "---"
      ]
    },
    {
      "cell_type": "markdown",
      "metadata": {
        "id": "aDL4LARWjpDT"
      },
      "source": [
        "<a id=\"section3\"></a>\n",
        "# <font color=\"#004D7F\" size=6> 3. Data processing</font>"
      ]
    },
    {
      "cell_type": "markdown",
      "metadata": {
        "id": "pLzynCxOpHBX"
      },
      "source": [
        "---\n",
        "<a id=\"section31\"></a>\n",
        "# <font color=\"#004D7F\" size=5> 3.1. TINTOlib methods</font>"
      ]
    },
    {
      "cell_type": "markdown",
      "metadata": {
        "id": "YrtiNz7lxruQ"
      },
      "source": [
        "We prepare the declaration of the classes with the TINTOlib method we want to transform. Note that TINTOlib has several methods and we will have to choose one of them since each method generates different images.\n",
        "\n",
        "In addition, we establish the paths where the dataset is located and also the folder where the images will be created."
      ]
    },
    {
      "cell_type": "code",
      "execution_count": null,
      "metadata": {
        "id": "SjMDx8S4xruR"
      },
      "outputs": [],
      "source": [
        "#Select the model and the parameters\n",
        "problem_type = \"supervised\"\n",
        "#image_model = REFINED(problem= problem_type,hcIterations=5) # No Funciona\n",
        "image_model = TINTO(problem= problem_type,blur=True, pixels=30)\n",
        "#image_model = IGTD(problem= problem_type)\n",
        "#image_model = BarGraph(problem= problem_type)\n",
        "#image_model = DistanceMatrix(problem= problem_type)\n",
        "#image_model = Combination(problem= problem_type)\n",
        "\n",
        "#Define the dataset path and the folder where the images will be saved\n",
        "dataset_path = \"DataSet_PreProcesado.csv\"\n",
        "images_folder = \"images\""
      ]
    },
    {
      "cell_type": "code",
      "execution_count": null,
      "metadata": {
        "id": "B3mWGPCdYwTS"
      },
      "outputs": [],
      "source": [
        "#!rm -rf images\n",
        "!mkdir images"
      ]
    },
    {
      "cell_type": "markdown",
      "metadata": {
        "id": "ErLMh5lVxruY"
      },
      "source": [
        "<div class=\"alert alert-block alert-info\">\n",
        "\n",
        "<i class=\"fa fa-info-circle\" aria-hidden=\"true\"></i>\n",
        "You can see all TINTOlib method in the [PyPI documentation](https://tintolib.readthedocs.io/en/latest/installation.html)"
      ]
    },
    {
      "cell_type": "markdown",
      "metadata": {
        "id": "g9a-GGCPxrua"
      },
      "source": [
        "---\n",
        "<a id=\"section32\"></a>\n",
        "# <font color=\"#004D7F\" size=5> 3.2. Read the dataset</font>"
      ]
    },
    {
      "cell_type": "markdown",
      "metadata": {
        "id": "fmas-eAqxrue"
      },
      "source": [
        "In this part, we proceed to read the dataset according to the path specified above and also standardize the name that the target will have, in this case, it will be called _class_"
      ]
    },
    {
      "cell_type": "code",
      "execution_count": null,
      "metadata": {
        "colab": {
          "base_uri": "https://localhost:8080/",
          "height": 444
        },
        "id": "eRso8_qVxrve",
        "outputId": "98141763-fd3f-46ff-b02f-879b07cb8781",
        "scrolled": true
      },
      "outputs": [
        {
          "data": {
            "application/vnd.google.colaboratory.intrinsic+json": {
              "type": "dataframe",
              "variable_name": "df_input"
            },
            "text/html": [
              "\n",
              "  <div id=\"df-365883aa-0332-4f4a-b0b0-7fa985d3d8d8\" class=\"colab-df-container\">\n",
              "    <div>\n",
              "<style scoped>\n",
              "    .dataframe tbody tr th:only-of-type {\n",
              "        vertical-align: middle;\n",
              "    }\n",
              "\n",
              "    .dataframe tbody tr th {\n",
              "        vertical-align: top;\n",
              "    }\n",
              "\n",
              "    .dataframe thead th {\n",
              "        text-align: right;\n",
              "    }\n",
              "</style>\n",
              "<table border=\"1\" class=\"dataframe\">\n",
              "  <thead>\n",
              "    <tr style=\"text-align: right;\">\n",
              "      <th></th>\n",
              "      <th>GNB</th>\n",
              "      <th>2_Premium</th>\n",
              "      <th>LIMA_MODERNA</th>\n",
              "      <th>A</th>\n",
              "      <th>B</th>\n",
              "      <th>Riesgo_Bajo</th>\n",
              "      <th>LIMA_SUR</th>\n",
              "      <th>Antiguedad_SSFF</th>\n",
              "      <th>NroTrxAgencia</th>\n",
              "      <th>1_Beyond</th>\n",
              "      <th>...</th>\n",
              "      <th>D</th>\n",
              "      <th>Superior</th>\n",
              "      <th>SaldoVEH</th>\n",
              "      <th>DIVORCIADO</th>\n",
              "      <th>ImporteTrxWeb</th>\n",
              "      <th>ImporteTrxCorresponsal</th>\n",
              "      <th>M</th>\n",
              "      <th>MontoOfertado</th>\n",
              "      <th>Edad</th>\n",
              "      <th>class</th>\n",
              "    </tr>\n",
              "  </thead>\n",
              "  <tbody>\n",
              "    <tr>\n",
              "      <th>12195</th>\n",
              "      <td>0</td>\n",
              "      <td>0</td>\n",
              "      <td>0</td>\n",
              "      <td>0</td>\n",
              "      <td>0</td>\n",
              "      <td>0</td>\n",
              "      <td>0</td>\n",
              "      <td>3.0</td>\n",
              "      <td>7.0</td>\n",
              "      <td>1</td>\n",
              "      <td>...</td>\n",
              "      <td>0</td>\n",
              "      <td>0</td>\n",
              "      <td>0.0</td>\n",
              "      <td>0</td>\n",
              "      <td>7650.06</td>\n",
              "      <td>0.00</td>\n",
              "      <td>0</td>\n",
              "      <td>1000.0</td>\n",
              "      <td>39.0</td>\n",
              "      <td>1.0</td>\n",
              "    </tr>\n",
              "    <tr>\n",
              "      <th>13773</th>\n",
              "      <td>0</td>\n",
              "      <td>1</td>\n",
              "      <td>0</td>\n",
              "      <td>0</td>\n",
              "      <td>0</td>\n",
              "      <td>0</td>\n",
              "      <td>0</td>\n",
              "      <td>14.0</td>\n",
              "      <td>8.0</td>\n",
              "      <td>0</td>\n",
              "      <td>...</td>\n",
              "      <td>1</td>\n",
              "      <td>0</td>\n",
              "      <td>0.0</td>\n",
              "      <td>0</td>\n",
              "      <td>0.00</td>\n",
              "      <td>5068.40</td>\n",
              "      <td>0</td>\n",
              "      <td>10100.0</td>\n",
              "      <td>37.0</td>\n",
              "      <td>1.0</td>\n",
              "    </tr>\n",
              "    <tr>\n",
              "      <th>18044</th>\n",
              "      <td>0</td>\n",
              "      <td>0</td>\n",
              "      <td>0</td>\n",
              "      <td>0</td>\n",
              "      <td>0</td>\n",
              "      <td>0</td>\n",
              "      <td>0</td>\n",
              "      <td>2.0</td>\n",
              "      <td>9.0</td>\n",
              "      <td>1</td>\n",
              "      <td>...</td>\n",
              "      <td>0</td>\n",
              "      <td>0</td>\n",
              "      <td>0.0</td>\n",
              "      <td>0</td>\n",
              "      <td>0.00</td>\n",
              "      <td>0.00</td>\n",
              "      <td>1</td>\n",
              "      <td>5300.0</td>\n",
              "      <td>44.0</td>\n",
              "      <td>1.0</td>\n",
              "    </tr>\n",
              "    <tr>\n",
              "      <th>44016</th>\n",
              "      <td>1</td>\n",
              "      <td>0</td>\n",
              "      <td>0</td>\n",
              "      <td>0</td>\n",
              "      <td>0</td>\n",
              "      <td>0</td>\n",
              "      <td>1</td>\n",
              "      <td>4.0</td>\n",
              "      <td>5.0</td>\n",
              "      <td>0</td>\n",
              "      <td>...</td>\n",
              "      <td>0</td>\n",
              "      <td>0</td>\n",
              "      <td>0.0</td>\n",
              "      <td>0</td>\n",
              "      <td>0.00</td>\n",
              "      <td>0.00</td>\n",
              "      <td>1</td>\n",
              "      <td>9450.0</td>\n",
              "      <td>46.0</td>\n",
              "      <td>0.0</td>\n",
              "    </tr>\n",
              "    <tr>\n",
              "      <th>24576</th>\n",
              "      <td>0</td>\n",
              "      <td>0</td>\n",
              "      <td>1</td>\n",
              "      <td>0</td>\n",
              "      <td>0</td>\n",
              "      <td>0</td>\n",
              "      <td>0</td>\n",
              "      <td>3.0</td>\n",
              "      <td>9.0</td>\n",
              "      <td>1</td>\n",
              "      <td>...</td>\n",
              "      <td>0</td>\n",
              "      <td>0</td>\n",
              "      <td>0.0</td>\n",
              "      <td>0</td>\n",
              "      <td>0.00</td>\n",
              "      <td>0.00</td>\n",
              "      <td>0</td>\n",
              "      <td>4250.0</td>\n",
              "      <td>39.0</td>\n",
              "      <td>1.0</td>\n",
              "    </tr>\n",
              "    <tr>\n",
              "      <th>...</th>\n",
              "      <td>...</td>\n",
              "      <td>...</td>\n",
              "      <td>...</td>\n",
              "      <td>...</td>\n",
              "      <td>...</td>\n",
              "      <td>...</td>\n",
              "      <td>...</td>\n",
              "      <td>...</td>\n",
              "      <td>...</td>\n",
              "      <td>...</td>\n",
              "      <td>...</td>\n",
              "      <td>...</td>\n",
              "      <td>...</td>\n",
              "      <td>...</td>\n",
              "      <td>...</td>\n",
              "      <td>...</td>\n",
              "      <td>...</td>\n",
              "      <td>...</td>\n",
              "      <td>...</td>\n",
              "      <td>...</td>\n",
              "      <td>...</td>\n",
              "    </tr>\n",
              "    <tr>\n",
              "      <th>35167</th>\n",
              "      <td>0</td>\n",
              "      <td>1</td>\n",
              "      <td>0</td>\n",
              "      <td>0</td>\n",
              "      <td>0</td>\n",
              "      <td>0</td>\n",
              "      <td>0</td>\n",
              "      <td>1.0</td>\n",
              "      <td>4.0</td>\n",
              "      <td>0</td>\n",
              "      <td>...</td>\n",
              "      <td>0</td>\n",
              "      <td>0</td>\n",
              "      <td>0.0</td>\n",
              "      <td>0</td>\n",
              "      <td>7966.21</td>\n",
              "      <td>1855.79</td>\n",
              "      <td>0</td>\n",
              "      <td>4050.0</td>\n",
              "      <td>40.0</td>\n",
              "      <td>1.0</td>\n",
              "    </tr>\n",
              "    <tr>\n",
              "      <th>42475</th>\n",
              "      <td>1</td>\n",
              "      <td>0</td>\n",
              "      <td>0</td>\n",
              "      <td>0</td>\n",
              "      <td>0</td>\n",
              "      <td>0</td>\n",
              "      <td>0</td>\n",
              "      <td>9.0</td>\n",
              "      <td>7.0</td>\n",
              "      <td>0</td>\n",
              "      <td>...</td>\n",
              "      <td>1</td>\n",
              "      <td>0</td>\n",
              "      <td>0.0</td>\n",
              "      <td>0</td>\n",
              "      <td>0.00</td>\n",
              "      <td>0.00</td>\n",
              "      <td>1</td>\n",
              "      <td>12150.0</td>\n",
              "      <td>37.0</td>\n",
              "      <td>0.0</td>\n",
              "    </tr>\n",
              "    <tr>\n",
              "      <th>22938</th>\n",
              "      <td>1</td>\n",
              "      <td>1</td>\n",
              "      <td>0</td>\n",
              "      <td>0</td>\n",
              "      <td>0</td>\n",
              "      <td>0</td>\n",
              "      <td>0</td>\n",
              "      <td>4.0</td>\n",
              "      <td>5.0</td>\n",
              "      <td>0</td>\n",
              "      <td>...</td>\n",
              "      <td>0</td>\n",
              "      <td>1</td>\n",
              "      <td>0.0</td>\n",
              "      <td>0</td>\n",
              "      <td>0.00</td>\n",
              "      <td>4212.06</td>\n",
              "      <td>1</td>\n",
              "      <td>11000.0</td>\n",
              "      <td>50.0</td>\n",
              "      <td>0.0</td>\n",
              "    </tr>\n",
              "    <tr>\n",
              "      <th>28856</th>\n",
              "      <td>0</td>\n",
              "      <td>0</td>\n",
              "      <td>0</td>\n",
              "      <td>0</td>\n",
              "      <td>0</td>\n",
              "      <td>1</td>\n",
              "      <td>0</td>\n",
              "      <td>4.0</td>\n",
              "      <td>0.0</td>\n",
              "      <td>0</td>\n",
              "      <td>...</td>\n",
              "      <td>0</td>\n",
              "      <td>0</td>\n",
              "      <td>0.0</td>\n",
              "      <td>1</td>\n",
              "      <td>2964.88</td>\n",
              "      <td>0.00</td>\n",
              "      <td>1</td>\n",
              "      <td>13650.0</td>\n",
              "      <td>62.0</td>\n",
              "      <td>1.0</td>\n",
              "    </tr>\n",
              "    <tr>\n",
              "      <th>27120</th>\n",
              "      <td>0</td>\n",
              "      <td>1</td>\n",
              "      <td>0</td>\n",
              "      <td>0</td>\n",
              "      <td>0</td>\n",
              "      <td>0</td>\n",
              "      <td>0</td>\n",
              "      <td>4.0</td>\n",
              "      <td>4.0</td>\n",
              "      <td>0</td>\n",
              "      <td>...</td>\n",
              "      <td>0</td>\n",
              "      <td>0</td>\n",
              "      <td>0.0</td>\n",
              "      <td>1</td>\n",
              "      <td>689.32</td>\n",
              "      <td>570.85</td>\n",
              "      <td>0</td>\n",
              "      <td>6450.0</td>\n",
              "      <td>32.0</td>\n",
              "      <td>0.0</td>\n",
              "    </tr>\n",
              "  </tbody>\n",
              "</table>\n",
              "<p>25000 rows × 26 columns</p>\n",
              "</div>\n",
              "    <div class=\"colab-df-buttons\">\n",
              "\n",
              "  <div class=\"colab-df-container\">\n",
              "    <button class=\"colab-df-convert\" onclick=\"convertToInteractive('df-365883aa-0332-4f4a-b0b0-7fa985d3d8d8')\"\n",
              "            title=\"Convert this dataframe to an interactive table.\"\n",
              "            style=\"display:none;\">\n",
              "\n",
              "  <svg xmlns=\"http://www.w3.org/2000/svg\" height=\"24px\" viewBox=\"0 -960 960 960\">\n",
              "    <path d=\"M120-120v-720h720v720H120Zm60-500h600v-160H180v160Zm220 220h160v-160H400v160Zm0 220h160v-160H400v160ZM180-400h160v-160H180v160Zm440 0h160v-160H620v160ZM180-180h160v-160H180v160Zm440 0h160v-160H620v160Z\"/>\n",
              "  </svg>\n",
              "    </button>\n",
              "\n",
              "  <style>\n",
              "    .colab-df-container {\n",
              "      display:flex;\n",
              "      gap: 12px;\n",
              "    }\n",
              "\n",
              "    .colab-df-convert {\n",
              "      background-color: #E8F0FE;\n",
              "      border: none;\n",
              "      border-radius: 50%;\n",
              "      cursor: pointer;\n",
              "      display: none;\n",
              "      fill: #1967D2;\n",
              "      height: 32px;\n",
              "      padding: 0 0 0 0;\n",
              "      width: 32px;\n",
              "    }\n",
              "\n",
              "    .colab-df-convert:hover {\n",
              "      background-color: #E2EBFA;\n",
              "      box-shadow: 0px 1px 2px rgba(60, 64, 67, 0.3), 0px 1px 3px 1px rgba(60, 64, 67, 0.15);\n",
              "      fill: #174EA6;\n",
              "    }\n",
              "\n",
              "    .colab-df-buttons div {\n",
              "      margin-bottom: 4px;\n",
              "    }\n",
              "\n",
              "    [theme=dark] .colab-df-convert {\n",
              "      background-color: #3B4455;\n",
              "      fill: #D2E3FC;\n",
              "    }\n",
              "\n",
              "    [theme=dark] .colab-df-convert:hover {\n",
              "      background-color: #434B5C;\n",
              "      box-shadow: 0px 1px 3px 1px rgba(0, 0, 0, 0.15);\n",
              "      filter: drop-shadow(0px 1px 2px rgba(0, 0, 0, 0.3));\n",
              "      fill: #FFFFFF;\n",
              "    }\n",
              "  </style>\n",
              "\n",
              "    <script>\n",
              "      const buttonEl =\n",
              "        document.querySelector('#df-365883aa-0332-4f4a-b0b0-7fa985d3d8d8 button.colab-df-convert');\n",
              "      buttonEl.style.display =\n",
              "        google.colab.kernel.accessAllowed ? 'block' : 'none';\n",
              "\n",
              "      async function convertToInteractive(key) {\n",
              "        const element = document.querySelector('#df-365883aa-0332-4f4a-b0b0-7fa985d3d8d8');\n",
              "        const dataTable =\n",
              "          await google.colab.kernel.invokeFunction('convertToInteractive',\n",
              "                                                    [key], {});\n",
              "        if (!dataTable) return;\n",
              "\n",
              "        const docLinkHtml = 'Like what you see? Visit the ' +\n",
              "          '<a target=\"_blank\" href=https://colab.research.google.com/notebooks/data_table.ipynb>data table notebook</a>'\n",
              "          + ' to learn more about interactive tables.';\n",
              "        element.innerHTML = '';\n",
              "        dataTable['output_type'] = 'display_data';\n",
              "        await google.colab.output.renderOutput(dataTable, element);\n",
              "        const docLink = document.createElement('div');\n",
              "        docLink.innerHTML = docLinkHtml;\n",
              "        element.appendChild(docLink);\n",
              "      }\n",
              "    </script>\n",
              "  </div>\n",
              "\n",
              "\n",
              "<div id=\"df-f065a7e3-0068-4bb2-970f-e7812671ee4e\">\n",
              "  <button class=\"colab-df-quickchart\" onclick=\"quickchart('df-f065a7e3-0068-4bb2-970f-e7812671ee4e')\"\n",
              "            title=\"Suggest charts\"\n",
              "            style=\"display:none;\">\n",
              "\n",
              "<svg xmlns=\"http://www.w3.org/2000/svg\" height=\"24px\"viewBox=\"0 0 24 24\"\n",
              "     width=\"24px\">\n",
              "    <g>\n",
              "        <path d=\"M19 3H5c-1.1 0-2 .9-2 2v14c0 1.1.9 2 2 2h14c1.1 0 2-.9 2-2V5c0-1.1-.9-2-2-2zM9 17H7v-7h2v7zm4 0h-2V7h2v10zm4 0h-2v-4h2v4z\"/>\n",
              "    </g>\n",
              "</svg>\n",
              "  </button>\n",
              "\n",
              "<style>\n",
              "  .colab-df-quickchart {\n",
              "      --bg-color: #E8F0FE;\n",
              "      --fill-color: #1967D2;\n",
              "      --hover-bg-color: #E2EBFA;\n",
              "      --hover-fill-color: #174EA6;\n",
              "      --disabled-fill-color: #AAA;\n",
              "      --disabled-bg-color: #DDD;\n",
              "  }\n",
              "\n",
              "  [theme=dark] .colab-df-quickchart {\n",
              "      --bg-color: #3B4455;\n",
              "      --fill-color: #D2E3FC;\n",
              "      --hover-bg-color: #434B5C;\n",
              "      --hover-fill-color: #FFFFFF;\n",
              "      --disabled-bg-color: #3B4455;\n",
              "      --disabled-fill-color: #666;\n",
              "  }\n",
              "\n",
              "  .colab-df-quickchart {\n",
              "    background-color: var(--bg-color);\n",
              "    border: none;\n",
              "    border-radius: 50%;\n",
              "    cursor: pointer;\n",
              "    display: none;\n",
              "    fill: var(--fill-color);\n",
              "    height: 32px;\n",
              "    padding: 0;\n",
              "    width: 32px;\n",
              "  }\n",
              "\n",
              "  .colab-df-quickchart:hover {\n",
              "    background-color: var(--hover-bg-color);\n",
              "    box-shadow: 0 1px 2px rgba(60, 64, 67, 0.3), 0 1px 3px 1px rgba(60, 64, 67, 0.15);\n",
              "    fill: var(--button-hover-fill-color);\n",
              "  }\n",
              "\n",
              "  .colab-df-quickchart-complete:disabled,\n",
              "  .colab-df-quickchart-complete:disabled:hover {\n",
              "    background-color: var(--disabled-bg-color);\n",
              "    fill: var(--disabled-fill-color);\n",
              "    box-shadow: none;\n",
              "  }\n",
              "\n",
              "  .colab-df-spinner {\n",
              "    border: 2px solid var(--fill-color);\n",
              "    border-color: transparent;\n",
              "    border-bottom-color: var(--fill-color);\n",
              "    animation:\n",
              "      spin 1s steps(1) infinite;\n",
              "  }\n",
              "\n",
              "  @keyframes spin {\n",
              "    0% {\n",
              "      border-color: transparent;\n",
              "      border-bottom-color: var(--fill-color);\n",
              "      border-left-color: var(--fill-color);\n",
              "    }\n",
              "    20% {\n",
              "      border-color: transparent;\n",
              "      border-left-color: var(--fill-color);\n",
              "      border-top-color: var(--fill-color);\n",
              "    }\n",
              "    30% {\n",
              "      border-color: transparent;\n",
              "      border-left-color: var(--fill-color);\n",
              "      border-top-color: var(--fill-color);\n",
              "      border-right-color: var(--fill-color);\n",
              "    }\n",
              "    40% {\n",
              "      border-color: transparent;\n",
              "      border-right-color: var(--fill-color);\n",
              "      border-top-color: var(--fill-color);\n",
              "    }\n",
              "    60% {\n",
              "      border-color: transparent;\n",
              "      border-right-color: var(--fill-color);\n",
              "    }\n",
              "    80% {\n",
              "      border-color: transparent;\n",
              "      border-right-color: var(--fill-color);\n",
              "      border-bottom-color: var(--fill-color);\n",
              "    }\n",
              "    90% {\n",
              "      border-color: transparent;\n",
              "      border-bottom-color: var(--fill-color);\n",
              "    }\n",
              "  }\n",
              "</style>\n",
              "\n",
              "  <script>\n",
              "    async function quickchart(key) {\n",
              "      const quickchartButtonEl =\n",
              "        document.querySelector('#' + key + ' button');\n",
              "      quickchartButtonEl.disabled = true;  // To prevent multiple clicks.\n",
              "      quickchartButtonEl.classList.add('colab-df-spinner');\n",
              "      try {\n",
              "        const charts = await google.colab.kernel.invokeFunction(\n",
              "            'suggestCharts', [key], {});\n",
              "      } catch (error) {\n",
              "        console.error('Error during call to suggestCharts:', error);\n",
              "      }\n",
              "      quickchartButtonEl.classList.remove('colab-df-spinner');\n",
              "      quickchartButtonEl.classList.add('colab-df-quickchart-complete');\n",
              "    }\n",
              "    (() => {\n",
              "      let quickchartButtonEl =\n",
              "        document.querySelector('#df-f065a7e3-0068-4bb2-970f-e7812671ee4e button');\n",
              "      quickchartButtonEl.style.display =\n",
              "        google.colab.kernel.accessAllowed ? 'block' : 'none';\n",
              "    })();\n",
              "  </script>\n",
              "</div>\n",
              "\n",
              "  <div id=\"id_47f81123-c0df-46cb-b62f-e98a0f0be586\">\n",
              "    <style>\n",
              "      .colab-df-generate {\n",
              "        background-color: #E8F0FE;\n",
              "        border: none;\n",
              "        border-radius: 50%;\n",
              "        cursor: pointer;\n",
              "        display: none;\n",
              "        fill: #1967D2;\n",
              "        height: 32px;\n",
              "        padding: 0 0 0 0;\n",
              "        width: 32px;\n",
              "      }\n",
              "\n",
              "      .colab-df-generate:hover {\n",
              "        background-color: #E2EBFA;\n",
              "        box-shadow: 0px 1px 2px rgba(60, 64, 67, 0.3), 0px 1px 3px 1px rgba(60, 64, 67, 0.15);\n",
              "        fill: #174EA6;\n",
              "      }\n",
              "\n",
              "      [theme=dark] .colab-df-generate {\n",
              "        background-color: #3B4455;\n",
              "        fill: #D2E3FC;\n",
              "      }\n",
              "\n",
              "      [theme=dark] .colab-df-generate:hover {\n",
              "        background-color: #434B5C;\n",
              "        box-shadow: 0px 1px 3px 1px rgba(0, 0, 0, 0.15);\n",
              "        filter: drop-shadow(0px 1px 2px rgba(0, 0, 0, 0.3));\n",
              "        fill: #FFFFFF;\n",
              "      }\n",
              "    </style>\n",
              "    <button class=\"colab-df-generate\" onclick=\"generateWithVariable('df_input')\"\n",
              "            title=\"Generate code using this dataframe.\"\n",
              "            style=\"display:none;\">\n",
              "\n",
              "  <svg xmlns=\"http://www.w3.org/2000/svg\" height=\"24px\"viewBox=\"0 0 24 24\"\n",
              "       width=\"24px\">\n",
              "    <path d=\"M7,19H8.4L18.45,9,17,7.55,7,17.6ZM5,21V16.75L18.45,3.32a2,2,0,0,1,2.83,0l1.4,1.43a1.91,1.91,0,0,1,.58,1.4,1.91,1.91,0,0,1-.58,1.4L9.25,21ZM18.45,9,17,7.55Zm-12,3A5.31,5.31,0,0,0,4.9,8.1,5.31,5.31,0,0,0,1,6.5,5.31,5.31,0,0,0,4.9,4.9,5.31,5.31,0,0,0,6.5,1,5.31,5.31,0,0,0,8.1,4.9,5.31,5.31,0,0,0,12,6.5,5.46,5.46,0,0,0,6.5,12Z\"/>\n",
              "  </svg>\n",
              "    </button>\n",
              "    <script>\n",
              "      (() => {\n",
              "      const buttonEl =\n",
              "        document.querySelector('#id_47f81123-c0df-46cb-b62f-e98a0f0be586 button.colab-df-generate');\n",
              "      buttonEl.style.display =\n",
              "        google.colab.kernel.accessAllowed ? 'block' : 'none';\n",
              "\n",
              "      buttonEl.onclick = () => {\n",
              "        google.colab.notebook.generateWithVariable('df_input');\n",
              "      }\n",
              "      })();\n",
              "    </script>\n",
              "  </div>\n",
              "\n",
              "    </div>\n",
              "  </div>\n"
            ],
            "text/plain": [
              "       GNB  2_Premium  LIMA_MODERNA  A  B  Riesgo_Bajo  LIMA_SUR  \\\n",
              "12195    0          0             0  0  0            0         0   \n",
              "13773    0          1             0  0  0            0         0   \n",
              "18044    0          0             0  0  0            0         0   \n",
              "44016    1          0             0  0  0            0         1   \n",
              "24576    0          0             1  0  0            0         0   \n",
              "...    ...        ...           ... .. ..          ...       ...   \n",
              "35167    0          1             0  0  0            0         0   \n",
              "42475    1          0             0  0  0            0         0   \n",
              "22938    1          1             0  0  0            0         0   \n",
              "28856    0          0             0  0  0            1         0   \n",
              "27120    0          1             0  0  0            0         0   \n",
              "\n",
              "       Antiguedad_SSFF  NroTrxAgencia  1_Beyond  ...  D  Superior  SaldoVEH  \\\n",
              "12195              3.0            7.0         1  ...  0         0       0.0   \n",
              "13773             14.0            8.0         0  ...  1         0       0.0   \n",
              "18044              2.0            9.0         1  ...  0         0       0.0   \n",
              "44016              4.0            5.0         0  ...  0         0       0.0   \n",
              "24576              3.0            9.0         1  ...  0         0       0.0   \n",
              "...                ...            ...       ...  ... ..       ...       ...   \n",
              "35167              1.0            4.0         0  ...  0         0       0.0   \n",
              "42475              9.0            7.0         0  ...  1         0       0.0   \n",
              "22938              4.0            5.0         0  ...  0         1       0.0   \n",
              "28856              4.0            0.0         0  ...  0         0       0.0   \n",
              "27120              4.0            4.0         0  ...  0         0       0.0   \n",
              "\n",
              "       DIVORCIADO  ImporteTrxWeb  ImporteTrxCorresponsal  M  MontoOfertado  \\\n",
              "12195           0        7650.06                    0.00  0         1000.0   \n",
              "13773           0           0.00                 5068.40  0        10100.0   \n",
              "18044           0           0.00                    0.00  1         5300.0   \n",
              "44016           0           0.00                    0.00  1         9450.0   \n",
              "24576           0           0.00                    0.00  0         4250.0   \n",
              "...           ...            ...                     ... ..            ...   \n",
              "35167           0        7966.21                 1855.79  0         4050.0   \n",
              "42475           0           0.00                    0.00  1        12150.0   \n",
              "22938           0           0.00                 4212.06  1        11000.0   \n",
              "28856           1        2964.88                    0.00  1        13650.0   \n",
              "27120           1         689.32                  570.85  0         6450.0   \n",
              "\n",
              "       Edad  class  \n",
              "12195  39.0    1.0  \n",
              "13773  37.0    1.0  \n",
              "18044  44.0    1.0  \n",
              "44016  46.0    0.0  \n",
              "24576  39.0    1.0  \n",
              "...     ...    ...  \n",
              "35167  40.0    1.0  \n",
              "42475  37.0    0.0  \n",
              "22938  50.0    0.0  \n",
              "28856  62.0    1.0  \n",
              "27120  32.0    0.0  \n",
              "\n",
              "[25000 rows x 26 columns]"
            ]
          },
          "execution_count": 77,
          "metadata": {},
          "output_type": "execute_result"
        }
      ],
      "source": [
        "#Read CSV\n",
        "import random\n",
        "df=pd.read_csv(dataset_path,sep = '|')\n",
        "columnas = list(df.columns)\n",
        "canVarsIndependents = 25\n",
        "porMuestra = 0.5\n",
        "df = df.sample(frac=porMuestra)\n",
        "columnas.remove('Flag_Target')\n",
        "columnas.remove('Unnamed: 0')\n",
        "varsIndependents = []\n",
        "while(canVarsIndependents>0):\n",
        "  varElegido = random.choice(columnas)\n",
        "  varsIndependents.append(varElegido)\n",
        "  columnas.remove(varElegido)\n",
        "  canVarsIndependents -= 1\n",
        "\n",
        "diagnosis_col = df['Flag_Target']\n",
        "df = df[varsIndependents]\n",
        "df['class'] = diagnosis_col\n",
        "df = df.fillna(0)\n",
        "df_input = df.fillna(0).copy()\n",
        "df_input"
      ]
    },
    {
      "cell_type": "code",
      "execution_count": null,
      "metadata": {
        "id": "LbYQ873OhxUO"
      },
      "outputs": [],
      "source": [
        "df_input.to_csv('DataSet_MuestraPrueba.csv',sep = '|')"
      ]
    },
    {
      "cell_type": "markdown",
      "metadata": {
        "id": "dwbhGP6Yxrvj"
      },
      "source": [
        "---\n",
        "<a id=\"section33\"></a>\n",
        "# <font color=\"#004D7F\" size=5> 3.3. Generate images</font>"
      ]
    },
    {
      "cell_type": "markdown",
      "metadata": {
        "id": "Md4RcgKtxrvk"
      },
      "source": [
        "Now we can generate the images with the `generateImages()` generic function. Likewise, we create a dataset that will have the path of each of the samples with the corresponding image created for it.\n",
        "\n",
        "Note that each image is created based on a row, therefore, each numerical sample of the dataset will correspond to a particular image. In other words, we will have the same number of images as samples/rows."
      ]
    },
    {
      "cell_type": "code",
      "execution_count": null,
      "metadata": {
        "id": "0i2dn8Uxxrvn"
      },
      "outputs": [],
      "source": [
        "#Generate the images\n",
        "image_model.generateImages(df_input, images_folder)\n",
        "img_paths = os.path.join(images_folder,problem_type+\".csv\")\n",
        "\n",
        "print(img_paths)"
      ]
    },
    {
      "cell_type": "markdown",
      "metadata": {
        "id": "klS9PZsUjpDV"
      },
      "source": [
        "<a id=\"section34\"></a>\n",
        "# <font color=\"#004D7F\" size=5> 3.4. Read images</font>"
      ]
    },
    {
      "cell_type": "markdown",
      "metadata": {
        "id": "COh9Th5jsDei"
      },
      "source": [
        "Once the images have been created we can read them. In this particular case, by using a pure CNN, we will use the images only to train our model."
      ]
    },
    {
      "cell_type": "code",
      "execution_count": null,
      "metadata": {
        "colab": {
          "base_uri": "https://localhost:8080/"
        },
        "id": "WBWj1IBjxrv3",
        "outputId": "8a38d0bb-eb7c-4d5a-e25d-f25f0c83a47c"
      },
      "outputs": [
        {
          "name": "stdout",
          "output_type": "stream",
          "text": [
            "images/1.0/000000.png\n",
            "class\n",
            "0.0    13459\n",
            "1.0    11541\n",
            "Name: count, dtype: int64\n"
          ]
        }
      ],
      "source": [
        "df = pd.read_csv(img_paths)\n",
        "df[\"class\"] = df[\"class\"].astype(str)\n",
        "df[\"images\"]= images_folder + \"/\" + df[\"images\"]\n",
        "\n",
        "print(df[\"images\"][0])\n",
        "print(df[\"class\"].value_counts())"
      ]
    },
    {
      "cell_type": "markdown",
      "metadata": {
        "id": "YPOpxoVJxrv6"
      },
      "source": [
        "---\n",
        "<div style=\"text-align: right\"> <font size=5> <a href=\"#indice\"><i class=\"fa fa-arrow-circle-up\" aria-hidden=\"true\" style=\"color:#004D7F\"></i></a></font></div>\n",
        "\n",
        "---"
      ]
    },
    {
      "cell_type": "markdown",
      "metadata": {
        "id": "fsySJ94ExrwF"
      },
      "source": [
        "<a id=\"section4\"></a>\n",
        "# <font color=\"#004D7F\" size=6> 4. Pre-modelling phase</font>"
      ]
    },
    {
      "cell_type": "markdown",
      "metadata": {
        "id": "iFHT9iFPxrwG"
      },
      "source": [
        "Once the data is ready, we load it into memory with an iterator in order to pass it to the CNN."
      ]
    },
    {
      "cell_type": "markdown",
      "metadata": {
        "id": "nb4Dd37rjpDm"
      },
      "source": [
        "---\n",
        "<a id=\"section41\"></a>\n",
        "# <font color=\"#004D7F\" size=5> 4.1. Data curation</font>"
      ]
    },
    {
      "cell_type": "markdown",
      "metadata": {
        "id": "9TjBcUbxjpDt"
      },
      "source": [
        "Split in train/test/validation"
      ]
    },
    {
      "cell_type": "code",
      "execution_count": null,
      "metadata": {
        "id": "BDyHty4-pjF5",
        "tags": []
      },
      "outputs": [],
      "source": [
        "df_x = df.drop('class', axis = 1)\n",
        "df_y = df['class']\n",
        "\n",
        "X_train, X_val, y_train, y_val = train_test_split(df_x, df_y, test_size = 0.40, random_state=42,stratify=df_y)\n",
        "X_val, X_test, y_val, y_test = train_test_split(X_val, y_val, test_size = 0.50, random_state=42,stratify=y_val)\n"
      ]
    },
    {
      "cell_type": "code",
      "execution_count": null,
      "metadata": {
        "id": "9Ix84V0ApjF8",
        "tags": []
      },
      "outputs": [],
      "source": [
        "df_train = pd.concat([X_train, y_train], axis = 1)\n",
        "df_test = pd.concat([X_test, y_test], axis = 1)\n",
        "df_val = pd.concat([X_val, y_val], axis = 1)"
      ]
    },
    {
      "cell_type": "code",
      "execution_count": null,
      "metadata": {
        "colab": {
          "base_uri": "https://localhost:8080/"
        },
        "id": "mnX_etdYpjF9",
        "outputId": "1beb5c01-e76c-47ea-8e36-b24d74d9a12d",
        "tags": []
      },
      "outputs": [
        {
          "name": "stdout",
          "output_type": "stream",
          "text": [
            "class\n",
            "0.0    8075\n",
            "1.0    6925\n",
            "Name: count, dtype: int64\n",
            " \n",
            " \n",
            "class\n",
            "0.0    2692\n",
            "1.0    2308\n",
            "Name: count, dtype: int64\n",
            " \n",
            " \n",
            "class\n",
            "0.0    2692\n",
            "1.0    2308\n",
            "Name: count, dtype: int64\n"
          ]
        }
      ],
      "source": [
        "print(df_train['class'].value_counts())\n",
        "print(' ')\n",
        "print(' ')\n",
        "print(df_test['class'].value_counts())\n",
        "print(' ')\n",
        "print(' ')\n",
        "print(df_val['class'].value_counts())"
      ]
    },
    {
      "cell_type": "markdown",
      "metadata": {
        "id": "a347tUZnjpED"
      },
      "source": [
        "---\n",
        "<a id=\"section42\"></a>\n",
        "# <font color=\"#004D7F\" size=5> 4.2. Resize images</font>"
      ]
    },
    {
      "cell_type": "markdown",
      "metadata": {
        "id": "xvXLjHzAjpEE"
      },
      "source": [
        "In our case, as we are going to train with a pre-trained network, we must resize it to the dimensions established by the network. Therefore, if you make a customised CNN, this cell is optional."
      ]
    },
    {
      "cell_type": "code",
      "execution_count": null,
      "metadata": {
        "id": "Z0Jbdn_ypjF-",
        "tags": []
      },
      "outputs": [],
      "source": [
        "train_datagen = ImageDataGenerator(rescale = 1./255)\n",
        "valid_datagen = ImageDataGenerator(rescale = 1./255)\n",
        "teste_datagen = ImageDataGenerator(rescale = 1./255)"
      ]
    },
    {
      "cell_type": "code",
      "execution_count": null,
      "metadata": {
        "colab": {
          "base_uri": "https://localhost:8080/"
        },
        "id": "ebOBC5iypjGA",
        "outputId": "2ff38c49-36ac-481e-a228-44dee1fced32",
        "tags": []
      },
      "outputs": [
        {
          "name": "stdout",
          "output_type": "stream",
          "text": [
            "(15000, 2)\n",
            "(5000, 2)\n",
            "(5000, 2)\n"
          ]
        }
      ],
      "source": [
        "print(df_train.shape)\n",
        "print(df_val.shape)\n",
        "print(df_test.shape)"
      ]
    },
    {
      "cell_type": "markdown",
      "metadata": {
        "id": "NjFY9rn2jpEL"
      },
      "source": [
        "---\n",
        "<a id=\"section43\"></a>\n",
        "# <font color=\"#004D7F\" size=5> 4.3. Iterators</font>"
      ]
    },
    {
      "cell_type": "markdown",
      "metadata": {
        "id": "IqJc6uOHxrww"
      },
      "source": [
        "Note that each method generates images of **different pixel size**. For example:\n",
        "- `TINTO` method has a parameter that you can specify the size in pixels which by default is 20.\n",
        "- Other parameters such as `Combined` generates the size automatically and you must obtain them from the _shape_ of the images."
      ]
    },
    {
      "cell_type": "code",
      "execution_count": null,
      "metadata": {
        "id": "kP-RD6UMxrwx"
      },
      "outputs": [],
      "source": [
        "pixels = 30\n",
        "batch_size_image = 100"
      ]
    },
    {
      "cell_type": "markdown",
      "metadata": {
        "id": "fcyAp8mLxrwz"
      },
      "source": [
        "<div class=\"alert alert-block alert-info\">\n",
        "\n",
        "<i class=\"fa fa-info-circle\" aria-hidden=\"true\"></i>\n",
        "You can see all information about TINTOlib documentation in [PyPI](https://tintolib.readthedocs.io/en/latest/installation.html)"
      ]
    },
    {
      "cell_type": "markdown",
      "metadata": {
        "id": "GFYTHIPljpEM"
      },
      "source": [
        "Create iterators for train/test/validation"
      ]
    },
    {
      "cell_type": "code",
      "execution_count": null,
      "metadata": {
        "colab": {
          "base_uri": "https://localhost:8080/"
        },
        "id": "inaR7-KxpjGC",
        "outputId": "b913d69d-82df-4e72-82ed-27c1e26f5b9d",
        "tags": []
      },
      "outputs": [
        {
          "name": "stdout",
          "output_type": "stream",
          "text": [
            "Found 15000 validated image filenames belonging to 2 classes.\n"
          ]
        }
      ],
      "source": [
        "train_iter = train_datagen.flow_from_dataframe(\n",
        "    df_train,\n",
        "    target_size = (pixels, pixels),\n",
        "    x_col = 'images',\n",
        "    y_col = 'class',\n",
        "    class_mode = 'categorical',\n",
        "    #class_mode = 'binary',\n",
        "    #color_mode='grayscale',\n",
        "    color_mode='rgb',\n",
        "    batch_size = batch_size_image,\n",
        "    shuffle = True\n",
        ")"
      ]
    },
    {
      "cell_type": "code",
      "execution_count": null,
      "metadata": {
        "colab": {
          "base_uri": "https://localhost:8080/"
        },
        "id": "MGPDhsFQpjGE",
        "outputId": "8e570ec0-4895-47c2-de50-86a779206ad4",
        "tags": []
      },
      "outputs": [
        {
          "name": "stdout",
          "output_type": "stream",
          "text": [
            "Found 5000 validated image filenames belonging to 2 classes.\n"
          ]
        }
      ],
      "source": [
        "valid_iter = train_datagen.flow_from_dataframe(\n",
        "    df_val,\n",
        "    target_size = (pixels, pixels),\n",
        "    x_col = 'images',\n",
        "    y_col = 'class',\n",
        "    class_mode = 'categorical',\n",
        "    #class_mode = 'binary',\n",
        "    #color_mode='grayscale',\n",
        "    color_mode='rgb',\n",
        "    batch_size = batch_size_image,\n",
        "    shuffle = False\n",
        ")"
      ]
    },
    {
      "cell_type": "code",
      "execution_count": null,
      "metadata": {
        "colab": {
          "base_uri": "https://localhost:8080/"
        },
        "id": "jkWY-9y3pjGF",
        "outputId": "e24949d3-c37e-4df0-baa2-53e4ad48543b",
        "tags": []
      },
      "outputs": [
        {
          "name": "stdout",
          "output_type": "stream",
          "text": [
            "Found 5000 validated image filenames belonging to 2 classes.\n"
          ]
        }
      ],
      "source": [
        "test_iter = train_datagen.flow_from_dataframe(\n",
        "    df_test,\n",
        "    target_size = (pixels, pixels),\n",
        "    x_col = 'images',\n",
        "    y_col = 'class',\n",
        "    class_mode = 'categorical',\n",
        "    #class_mode = 'binary',\n",
        "    #color_mode='grayscale',\n",
        "    color_mode='rgb',\n",
        "    batch_size = batch_size_image,\n",
        "    shuffle = False\n",
        ")"
      ]
    },
    {
      "cell_type": "code",
      "execution_count": null,
      "metadata": {
        "colab": {
          "base_uri": "https://localhost:8080/"
        },
        "id": "3YzRGsb9pjGG",
        "outputId": "0618aff5-ff48-4a18-a25f-2832de26c37c",
        "tags": []
      },
      "outputs": [
        {
          "name": "stdout",
          "output_type": "stream",
          "text": [
            "(30, 30, 3)\n",
            "(30, 30, 3)\n",
            "(30, 30, 3)\n"
          ]
        }
      ],
      "source": [
        "print(train_iter.image_shape)\n",
        "print(valid_iter.image_shape)\n",
        "print(test_iter.image_shape)"
      ]
    },
    {
      "cell_type": "markdown",
      "metadata": {
        "id": "hyzfH4VlLWmj"
      },
      "source": [
        "<a id=\"section5\"></a>\n",
        "# <font color=\"#004D7F\" size=6> 5. Modelling with Pytorch</font>"
      ]
    },
    {
      "cell_type": "code",
      "execution_count": null,
      "metadata": {
        "id": "GqqHc33Z5Gj6"
      },
      "outputs": [],
      "source": [
        "# import the necessary packages\n",
        "import torch\n",
        "from torch import nn\n",
        "import torch.optim as optim\n",
        "\n",
        "epochs = 25\n",
        "batch_size_tensor = 50\n",
        "pixeles = 30\n",
        "n_class = df['class'].value_counts().count()"
      ]
    },
    {
      "cell_type": "markdown",
      "metadata": {
        "id": "wAB6SVfD-O99"
      },
      "source": [
        "---\n",
        "<a id=\"section52\"></a>\n",
        "# <font color=\"#004D7F\" size=5> 5.1. Diseño de la arquitectura de la red</font>"
      ]
    },
    {
      "cell_type": "code",
      "execution_count": null,
      "metadata": {
        "id": "NWoh9DboLnli"
      },
      "outputs": [],
      "source": [
        "class CNNModel_Rama1(nn.Module):\n",
        "  def __init__(self):\n",
        "    super(CNNModel_Rama1, self).__init__()\n",
        "    self.conv1 = nn.Conv2d(pixeles, 30, kernel_size=(3,3), padding=2)\n",
        "    self.batchNorm1 = nn.BatchNorm2d(30)\n",
        "    self.act1 = nn.ReLU()\n",
        "    self.MaxPol1 = nn.MaxPool2d(2,2)\n",
        "\n",
        "    self.conv2 = nn.Conv2d(30, 32, kernel_size=(3,3), padding=2)\n",
        "    self.batchNorm2 = nn.BatchNorm2d(32)\n",
        "    self.act2 = nn.Sigmoid()\n",
        "    self.MaxPol2 = nn.MaxPool2d(2,2)\n",
        "\n",
        "    self.conv3 = nn.Conv2d(32, 64, kernel_size=(3,3), padding=2)\n",
        "    self.batchNorm3 = nn.BatchNorm2d(64)\n",
        "    self.act3 = nn.ReLU()\n",
        "    self.MaxPol3 = nn.MaxPool2d(2,2)\n",
        "\n",
        "    self.conv4 = nn.Conv2d(64, 1, kernel_size=(2,2), padding=1)\n",
        "    self.batchNorm4 = nn.BatchNorm2d(1)\n",
        "    self.act4 = nn.Sigmoid()\n",
        "    self.MaxPol4 = nn.MaxPool2d(2,2)\n",
        "\n",
        "  def forward(self, x):\n",
        "    x = self.conv1(x)\n",
        "    x = self.batchNorm1(x)\n",
        "    x = self.act1(x)\n",
        "    x = self.MaxPol1(x)\n",
        "\n",
        "    x = self.conv2(x)\n",
        "    x = self.batchNorm2(x)\n",
        "    x = self.act2(x)\n",
        "    x = self.MaxPol2(x)\n",
        "\n",
        "    x = self.conv3(x)\n",
        "    x = self.batchNorm3(x)\n",
        "    x = self.act3(x)\n",
        "    x = self.MaxPol3(x)\n",
        "\n",
        "    x = self.conv4(x)\n",
        "    x = self.batchNorm4(x)\n",
        "    x = self.act4(x)\n",
        "    x = self.MaxPol4(x)\n",
        "    return x\n",
        "\n",
        "class CNNModel_Rama2(nn.Module):\n",
        "  def __init__(self):\n",
        "    super(CNNModel_Rama2, self).__init__()\n",
        "    self.conv1 = nn.Conv2d(pixeles, 30, kernel_size=(5,5), padding=2)\n",
        "    self.batchNorm1 = nn.BatchNorm2d(30)\n",
        "    self.act1 = nn.Sigmoid()\n",
        "    self.AvgPol1 = nn.AvgPool2d(2,2)\n",
        "\n",
        "    self.conv2 = nn.Conv2d(30, 64, kernel_size=(5,5), padding=3)\n",
        "    self.batchNorm2 = nn.BatchNorm2d(64)\n",
        "    self.act2 = nn.ReLU()\n",
        "    self.AvgPol2 = nn.AvgPool2d(2,2)\n",
        "\n",
        "    self.conv3 = nn.Conv2d(64, 64, kernel_size=(3,3), padding=2)\n",
        "    self.batchNorm3 = nn.BatchNorm2d(64)\n",
        "    self.act3 = nn.Sigmoid()\n",
        "    self.AvgPol3 = nn.AvgPool2d(2,2)\n",
        "\n",
        "    self.conv4 = nn.Conv2d(64, 1, kernel_size=(2,2), padding=1)\n",
        "    self.batchNorm4 = nn.BatchNorm2d(1)\n",
        "    self.act4 = nn.ReLU()\n",
        "    self.AvgPol4 = nn.AvgPool2d(2,2)\n",
        "\n",
        "  def forward(self, x):\n",
        "    x = self.conv1(x)\n",
        "    x = self.batchNorm1(x)\n",
        "    x = self.act1(x)\n",
        "    x = self.AvgPol1(x)\n",
        "\n",
        "    x = self.conv2(x)\n",
        "    x = self.batchNorm2(x)\n",
        "    x = self.act2(x)\n",
        "    x = self.AvgPol2(x)\n",
        "\n",
        "    x = self.conv3(x)\n",
        "    x = self.batchNorm3(x)\n",
        "    x = self.act3(x)\n",
        "    x = self.AvgPol3(x)\n",
        "\n",
        "    x = self.conv4(x)\n",
        "    x = self.batchNorm4(x)\n",
        "    x = self.act4(x)\n",
        "    x = self.AvgPol4(x)\n",
        "    return x\n",
        "\n",
        "class Combined_model(nn.Module):\n",
        "  def __init__(self, CNNModel_Rama1, CNNModel_Rama2):\n",
        "    super(Combined_model, self).__init__()\n",
        "    self.CNNModel_Rama1 = CNNModel_Rama1\n",
        "    self.CNNModel_Rama2 = CNNModel_Rama2\n",
        "    self.flat = nn.Flatten()\n",
        "    self.fc1 = nn.Linear(6, 32)\n",
        "    self.act1 = nn.Sigmoid()\n",
        "    #self.fc2 = nn.Linear(32, 16)\n",
        "    #self.act2 = nn.Sigmoid()\n",
        "    #self.fc3 = nn.Linear(16, 8)\n",
        "    #self.act3 = nn.Sigmoid()\n",
        "    #self.fc4 = nn.Linear(8, 4)\n",
        "    #self.act4 = nn.Sigmoid()\n",
        "    self.fc5 = nn.Linear(32,n_class)\n",
        "    self.act5 = nn.Sigmoid()\n",
        "    self.Softmax = nn.Softmax()\n",
        "\n",
        "  def forward(self, x):\n",
        "    x1 = self.CNNModel_Rama1(x)\n",
        "    x2 = self.CNNModel_Rama2(x)\n",
        "    x = torch.cat([x1, x2], dim=1)\n",
        "    x = self.flat(x)\n",
        "    x = self.fc1(x)\n",
        "    #x = self.act1(x)\n",
        "    #x = self.fc2(x)\n",
        "    #x = self.act2(x)\n",
        "    #x = self.fc3(x)\n",
        "    #x = self.act3(x)\n",
        "    #x = self.fc4(x)\n",
        "    #x = self.act4(x)\n",
        "    x = self.fc5(x)\n",
        "    x = self.act5(x)\n",
        "    x = self.Softmax(x)\n",
        "    return x"
      ]
    },
    {
      "cell_type": "markdown",
      "metadata": {
        "id": "PVYhI_Y0-TKV"
      },
      "source": [
        "---\n",
        "<a id=\"section52\"></a>\n",
        "# <font color=\"#004D7F\" size=5> 5.2. Entrenamiento de la red CNN Pytorch</font>"
      ]
    },
    {
      "cell_type": "code",
      "execution_count": null,
      "metadata": {
        "colab": {
          "base_uri": "https://localhost:8080/"
        },
        "id": "myi45RB-_VIA",
        "outputId": "77361a17-ee2b-4e2f-8a33-8429688992cf"
      },
      "outputs": [
        {
          "name": "stderr",
          "output_type": "stream",
          "text": [
            "/usr/local/lib/python3.10/dist-packages/torch/nn/modules/module.py:1511: UserWarning: Implicit dimension choice for softmax has been deprecated. Change the call to include dim=X as an argument.\n",
            "  return self._call_impl(*args, **kwargs)\n"
          ]
        },
        {
          "name": "stdout",
          "output_type": "stream",
          "text": [
            "Epoch : 0: -----------------------------\n",
            "Train loss: 0.677552, Train accuracy: 0.5731\n",
            "Val loss: 0.660930, Val accuracy: 0.6582\n",
            "\n",
            "Epoch : 5: -----------------------------\n",
            "Train loss: 0.624029, Train accuracy: 0.7073\n",
            "Val loss: 0.625161, Val accuracy: 0.7032\n",
            "\n",
            "Epoch : 10: -----------------------------\n",
            "Train loss: 0.620646, Train accuracy: 0.7129\n",
            "Val loss: 0.622568, Val accuracy: 0.7104\n",
            "\n",
            "Epoch : 15: -----------------------------\n",
            "Train loss: 0.618845, Train accuracy: 0.7157\n",
            "Val loss: 0.622026, Val accuracy: 0.7074\n",
            "\n",
            "Epoch : 20: -----------------------------\n",
            "Train loss: 0.616271, Train accuracy: 0.7235\n",
            "Val loss: 0.619024, Val accuracy: 0.7150\n",
            "\n"
          ]
        }
      ],
      "source": [
        "model_rama1 = CNNModel_Rama1()\n",
        "model_rama2 = CNNModel_Rama2()\n",
        "model_combinado = Combined_model(model_rama1,model_rama2)\n",
        "loss_fn = nn.CrossEntropyLoss()\n",
        "#optimizer = optim.SGD(model_combinado.parameters(), lr=0.001, momentum=0.9)\n",
        "#optimizer = optim.Adam(model_combinado.parameters(), lr=0.01)\n",
        "optimizer = optim.AdamW(model_combinado.parameters(), lr=0.001)\n",
        "trainloader = torch.utils.data.DataLoader(train_iter, batch_size=batch_size_tensor, shuffle=True)\n",
        "testloader = torch.utils.data.DataLoader(valid_iter, batch_size=batch_size_tensor, shuffle=True)\n",
        "\n",
        "# initialize a dictionary to store training history\n",
        "H = {\n",
        "\t\"train_loss\": [],\n",
        "\t\"train_acc\": [],\n",
        "\t\"val_loss\": [],\n",
        "\t\"val_acc\": []\n",
        "}\n",
        "\n",
        "for epoch in range(epochs):\n",
        "  gc.collect()\n",
        "  totalTrainLoss = 0\n",
        "  totalValLoss = 0\n",
        "  trainCorrect = 0\n",
        "  valCorrect = 0\n",
        "  TotalStepsTrain = 0\n",
        "  TotalStepsVal = 0\n",
        "\n",
        "  for inputs, labels in trainloader:\n",
        "    contador = 0\n",
        "    while(contador < len(inputs)):\n",
        "      input_new = inputs[contador]\n",
        "      label_new = labels[contador]\n",
        "      y_pred = model_combinado(input_new)\n",
        "      loss = loss_fn(y_pred, label_new)\n",
        "      optimizer.zero_grad()\n",
        "      loss.backward()\n",
        "      optimizer.step()\n",
        "      totalTrainLoss += loss\n",
        "      y_pred_round = torch.round(y_pred, decimals=0)\n",
        "      i=0\n",
        "      for y_real in label_new:\n",
        "        y_pred_ = y_pred_round[i]\n",
        "        if torch.equal(y_pred_, y_real):\n",
        "          trainCorrect += 1\n",
        "        i += 1\n",
        "        TotalStepsTrain += 1\n",
        "      contador +=1\n",
        "\n",
        "  acc = 0\n",
        "  count = 0\n",
        "  valSteps=0\n",
        "  gc.collect()\n",
        "\n",
        "  with torch.no_grad():\n",
        "    for inputs, labels in testloader:\n",
        "      contador = 0\n",
        "      while(contador < len(inputs)):\n",
        "        input = inputs[contador]\n",
        "        label = labels[contador]\n",
        "        y_pred = model_combinado(input)\n",
        "        loss = loss_fn(y_pred, label)\n",
        "        totalValLoss += loss\n",
        "        y_pred_round = torch.round(y_pred, decimals=0)\n",
        "        i=0\n",
        "        for y_real in label:\n",
        "          y_pred_ = y_pred_round[i]\n",
        "          if torch.equal(y_pred_, y_real):\n",
        "            valCorrect += 1\n",
        "          i += 1\n",
        "          TotalStepsVal += 1\n",
        "        contador +=1\n",
        "\n",
        "  # calculate the average training and validation loss\n",
        "  avgTrainLoss = (totalTrainLoss / TotalStepsTrain) * batch_size_image # Para igualar escalas\n",
        "  avgValLoss = (totalValLoss / TotalStepsVal) * batch_size_image # Para igualar escalas\n",
        "\n",
        "  # calculate the training and validation accurac\n",
        "  trainCorrect = trainCorrect / TotalStepsTrain\n",
        "  valCorrect = valCorrect / TotalStepsVal\n",
        "  # update our training history\n",
        "  H[\"train_loss\"].append(avgTrainLoss.cpu().detach().numpy())\n",
        "  H[\"train_acc\"].append(trainCorrect)\n",
        "  H[\"val_loss\"].append(avgValLoss.cpu().detach().numpy())\n",
        "  H[\"val_acc\"].append(valCorrect)\n",
        "  if epoch%5==0:\n",
        "\t  # print the model training and validation information\n",
        "    print(\"Epoch : \"+str(epoch)+\": -----------------------------\")\n",
        "    print(\"Train loss: {:.6f}, Train accuracy: {:.4f}\".format(avgTrainLoss, trainCorrect))\n",
        "    print(\"Val loss: {:.6f}, Val accuracy: {:.4f}\\n\".format(avgValLoss, valCorrect))\n",
        "\n",
        "torch.save(model_combinado.state_dict(), \"modelo_.pth\")"
      ]
    },
    {
      "cell_type": "markdown",
      "metadata": {
        "id": "RsP8ud0X-Zpp"
      },
      "source": [
        "---\n",
        "<a id=\"section52\"></a>\n",
        "# <font color=\"#004D7F\" size=5> 5.3. Resultados y Validacion</font>"
      ]
    },
    {
      "cell_type": "code",
      "execution_count": null,
      "metadata": {
        "colab": {
          "base_uri": "https://localhost:8080/",
          "height": 494
        },
        "id": "hoE8JkmAO6Ik",
        "outputId": "a2dfe8af-d8ec-4ff6-d671-8da4980d2dee"
      },
      "outputs": [
        {
          "data": {
            "text/plain": [
              "<matplotlib.legend.Legend at 0x7a14fd7c1e70>"
            ]
          },
          "execution_count": 95,
          "metadata": {},
          "output_type": "execute_result"
        },
        {
          "data": {
            "image/png": "[encoded data removed]",
            "text/plain": [
              "<Figure size 640x480 with 1 Axes>"
            ]
          },
          "metadata": {},
          "output_type": "display_data"
        }
      ],
      "source": [
        "# plot the training loss and accuracy\n",
        "plt.style.use(\"ggplot\")\n",
        "plt.figure()\n",
        "plt.plot(H[\"train_loss\"], label=\"train_loss\")\n",
        "plt.plot(H[\"val_loss\"], label=\"val_loss\")\n",
        "plt.plot(H[\"train_acc\"], label=\"train_acc\")\n",
        "plt.plot(H[\"val_acc\"], label=\"val_acc\")\n",
        "plt.title(\"Training Loss and Accuracy on Dataset\")\n",
        "plt.xlabel(\"Epoch #\")\n",
        "plt.ylabel(\"Loss/Accuracy\")\n",
        "plt.legend(loc=\"lower left\")\n"
      ]
    },
    {
      "cell_type": "code",
      "execution_count": null,
      "metadata": {
        "id": "Ht0qrTwstz4z"
      },
      "outputs": [],
      "source": [
        "from sklearn.metrics import roc_curve, auc\n",
        "def Calulate_Metricas_Validacion(df_iter, modelo):\n",
        "  validloader = torch.utils.data.DataLoader(df_iter, shuffle=True)\n",
        "  loss_fn = nn.CrossEntropyLoss()\n",
        "  TotalLossBatch = 0\n",
        "  TotalAcc = 0\n",
        "  ContadorLoss = 0\n",
        "  ContadorAcc = 0\n",
        "  probabilidades = []\n",
        "  valores_reales = []\n",
        "  for input, label in validloader:\n",
        "    input_new = input[0]\n",
        "    label_new = label[0]\n",
        "    y_pred = modelo(input_new)\n",
        "    loss = loss_fn(y_pred, label_new)\n",
        "    TotalLossBatch +=loss\n",
        "    y_pred_round = torch.round(y_pred, decimals=0)\n",
        "    i=0\n",
        "    for y_real in label_new:\n",
        "      y_pred_ = y_pred_round[i]\n",
        "      prob_value = float(y_pred[i][1].cpu().detach().numpy())\n",
        "      valor_real = float(label_new[i][1].cpu().detach().numpy())\n",
        "      probabilidades.append(prob_value)\n",
        "      valores_reales.append(valor_real)\n",
        "      if torch.equal(y_pred_, y_real):\n",
        "        TotalAcc += 1\n",
        "      i +=1\n",
        "      ContadorAcc +=1\n",
        "    ContadorLoss +=1\n",
        "  fpr,tpr,_ = roc_curve(valores_reales,probabilidades)\n",
        "  CanElementos = ContadorAcc\n",
        "  Accuracy = TotalAcc/ContadorAcc\n",
        "  LossValue =  float((TotalLossBatch/ContadorLoss).cpu().detach().numpy())\n",
        "  roc_auc = auc(fpr,tpr)\n",
        "  return probabilidades, Accuracy, LossValue,  roc_auc"
      ]
    },
    {
      "cell_type": "code",
      "execution_count": null,
      "metadata": {
        "colab": {
          "base_uri": "https://localhost:8080/"
        },
        "id": "AhHTTlzGKm16",
        "outputId": "d0bc6dcc-79b8-4b45-9071-c8990ebf3e2a"
      },
      "outputs": [
        {
          "name": "stderr",
          "output_type": "stream",
          "text": [
            "/usr/local/lib/python3.10/dist-packages/torch/nn/modules/module.py:1511: UserWarning: Implicit dimension choice for softmax has been deprecated. Change the call to include dim=X as an argument.\n",
            "  return self._call_impl(*args, **kwargs)\n",
            "/usr/local/lib/python3.10/dist-packages/torch/nn/modules/module.py:1511: UserWarning: Implicit dimension choice for softmax has been deprecated. Change the call to include dim=X as an argument.\n",
            "  return self._call_impl(*args, **kwargs)\n",
            "/usr/local/lib/python3.10/dist-packages/torch/nn/modules/module.py:1511: UserWarning: Implicit dimension choice for softmax has been deprecated. Change the call to include dim=X as an argument.\n",
            "  return self._call_impl(*args, **kwargs)\n"
          ]
        }
      ],
      "source": [
        "# Validation model\n",
        "model_rama1 = CNNModel_Rama1()\n",
        "model_rama2 = CNNModel_Rama2()\n",
        "modelo_final_entrenado = Combined_model(model_rama1,model_rama2)\n",
        "modelo_final_entrenado.load_state_dict(torch.load(\"modelo_.pth\"))\n",
        "modelo_final_entrenado.eval()\n",
        "probabilidades_train, Accuracy_train, LossValue_train,  auc_train = Calulate_Metricas_Validacion(train_iter, modelo_final_entrenado)\n",
        "probabilidades_test, Accuracy_test, LossValue_test,  auc_test = Calulate_Metricas_Validacion(test_iter, modelo_final_entrenado)\n",
        "probabilidades_valid, Accuracy_valid, LossValue_valid,  auc_valid = Calulate_Metricas_Validacion(valid_iter, modelo_final_entrenado)\n"
      ]
    },
    {
      "cell_type": "code",
      "execution_count": null,
      "metadata": {
        "colab": {
          "base_uri": "https://localhost:8080/"
        },
        "id": "KrozZRcouxVv",
        "outputId": "3161dbbf-b54b-4695-dc83-35c05a458263"
      },
      "outputs": [
        {
          "name": "stdout",
          "output_type": "stream",
          "text": [
            "Train Accuracy: 0.7306666666666667\n",
            "Train AUC: 0.7568075555207832\n",
            "Train Loss: 0.6126566529273987\n",
            "===================================\n",
            "Test Accuracy: 0.7266\n",
            "Test AUC: 0.7613511920550267\n",
            "Test Loss: 0.6139175295829773\n",
            "===================================\n",
            "Valid Accuracy: 0.7206\n",
            "Valid AUC: 0.7482705191066155\n",
            "Valid Loss: 0.6175881028175354\n"
          ]
        }
      ],
      "source": [
        "print(\"Train Accuracy:\",Accuracy_train)\n",
        "print(\"Train AUC:\",auc_train)\n",
        "print(\"Train Loss:\",LossValue_train)\n",
        "print(\"===================================\")\n",
        "print(\"Test Accuracy:\",Accuracy_test)\n",
        "print(\"Test AUC:\",auc_test)\n",
        "print(\"Test Loss:\",LossValue_test)\n",
        "print(\"===================================\")\n",
        "print(\"Valid Accuracy:\",Accuracy_valid)\n",
        "print(\"Valid AUC:\",auc_valid)\n",
        "print(\"Valid Loss:\",LossValue_valid)\n"
      ]
    },
    {
      "cell_type": "markdown",
      "metadata": {
        "id": "rE0VunQYjpEY"
      },
      "source": [
        "<a id=\"section5\"></a>\n",
        "# <font color=\"#004D7F\" size=6> 6. Modelling with CNN with tensorflow</font>"
      ]
    },
    {
      "cell_type": "markdown",
      "metadata": {
        "id": "xagy7N7ijpEX"
      },
      "source": [
        "---\n",
        "<div style=\"text-align: right\"> <font size=5> <a href=\"#indice\"><i class=\"fa fa-arrow-circle-up\" aria-hidden=\"true\" style=\"color:#004D7F\"></i></a></font></div>\n",
        "\n",
        "---"
      ]
    },
    {
      "cell_type": "markdown",
      "metadata": {
        "id": "MDfs9l-hjpEZ"
      },
      "source": [
        "Now we can start the CNN training. Before that we prepare the algorithm for reading data."
      ]
    },
    {
      "cell_type": "markdown",
      "metadata": {
        "id": "Qn2U90FwjpEe"
      },
      "source": [
        "<a id=\"section51\"></a>\n",
        "# <font color=\"#004D7F\" size=5> 6.1. CNN</font>"
      ]
    },
    {
      "cell_type": "markdown",
      "metadata": {
        "id": "LmOQ4tblxrxq"
      },
      "source": [
        "This is an example of a simple CNN. Note that we are not looking for the optimization of the CNN but to show an example of TINTOlib execution."
      ]
    },
    {
      "cell_type": "code",
      "execution_count": null,
      "metadata": {
        "colab": {
          "base_uri": "https://localhost:8080/"
        },
        "id": "1-rTPRukcHoU",
        "outputId": "b0740126-bbbd-4203-d758-0dc362354ace"
      },
      "outputs": [
        {
          "name": "stdout",
          "output_type": "stream",
          "text": [
            "Collecting plot_model\n",
            "  Downloading plot_model-0.20-py3-none-any.whl (6.9 kB)\n",
            "Installing collected packages: plot_model\n",
            "Successfully installed plot_model-0.20\n",
            "Collecting np_utils\n",
            "  Downloading np_utils-0.6.0.tar.gz (61 kB)\n",
            "\u001b[2K     \u001b[90m━━━━━━━━━━━━━━━━━━━━━━━━━━━━━━━━━━━━━━━━\u001b[0m \u001b[32m62.0/62.0 kB\u001b[0m \u001b[31m854.4 kB/s\u001b[0m eta \u001b[36m0:00:00\u001b[0m\n",
            "\u001b[?25h  Preparing metadata (setup.py) ... \u001b[?25l\u001b[?25hdone\n",
            "Requirement already satisfied: numpy>=1.0 in /usr/local/lib/python3.10/dist-packages (from np_utils) (1.25.2)\n",
            "Building wheels for collected packages: np_utils\n",
            "  Building wheel for np_utils (setup.py) ... \u001b[?25l\u001b[?25hdone\n",
            "  Created wheel for np_utils: filename=np_utils-0.6.0-py3-none-any.whl size=56441 sha256=1ed6fc53dbc8d7337e855b9938327da01555ff67d4cf6f4aa0aff80be2b86233\n",
            "  Stored in directory: /root/.cache/pip/wheels/b6/c7/50/2307607f44366dd021209f660045f8d51cb976514d30be7cc7\n",
            "Successfully built np_utils\n",
            "Installing collected packages: np_utils\n",
            "Successfully installed np_utils-0.6.0\n"
          ]
        }
      ],
      "source": [
        "!pip install plot_model\n",
        "!pip install np_utils"
      ]
    },
    {
      "cell_type": "code",
      "execution_count": null,
      "metadata": {
        "id": "tZl0AETUw1r8"
      },
      "outputs": [],
      "source": [
        "from keras.models import Sequential\n",
        "#from keras.constraints import maxnorm\n",
        "from keras.optimizers import SGD\n",
        "from keras.layers import Dense, Conv2D, Flatten, Dropout, MaxPooling2D, AveragePooling2D\n",
        "from keras.layers import  BatchNormalization, Activation, Input, Concatenate\n",
        "import plot_model, np_utils\n",
        "\n",
        "dropout = 0.5\n",
        "epochs = 25\n",
        "n_class = df['class'].value_counts().count()"
      ]
    },
    {
      "cell_type": "code",
      "execution_count": null,
      "metadata": {
        "id": "dLk7_q8hxrxs"
      },
      "outputs": [],
      "source": [
        "#Entrada\n",
        "input_shape = Input(shape=(pixels, pixels,3))\n",
        "\n",
        "#Inicio de rama 1\n",
        "tower_1 = Conv2D(16, (3,3), activation='relu',padding=\"same\")(input_shape)\n",
        "tower_1 = BatchNormalization()(tower_1)\n",
        "tower_1 = Activation('relu')(tower_1)\n",
        "tower_1 = MaxPooling2D(2,2)(tower_1)\n",
        "#tower_1 = Dropou(0.5)(tower_1)\n",
        "\n",
        "tower_1 = Conv2D(32, (3,3), activation='relu',padding=\"same\")(tower_1)\n",
        "tower_1 = BatchNormalization()(tower_1)\n",
        "tower_1 = Activation('relu')(tower_1)\n",
        "tower_1 = MaxPooling2D(2,2)(tower_1)\n",
        "#tower_1 = Dropou(0.5)(tower_1)\n",
        "\n",
        "tower_1 = Conv2D(64, (3,3), activation='relu',padding=\"same\")(tower_1)\n",
        "tower_1 = BatchNormalization()(tower_1)\n",
        "tower_1 = Activation('relu')(tower_1)\n",
        "tower_1 = MaxPooling2D(2,2)(tower_1)\n",
        "#tower_1 = Dropou(0.5)(tower_1)\n",
        "\n",
        "tower_1 = Conv2D(64, (3,3), activation='relu',padding=\"same\")(tower_1)\n",
        "tower_1 = BatchNormalization()(tower_1)\n",
        "tower_1 = Activation('relu')(tower_1)\n",
        "tower_1 = MaxPooling2D(2,2)(tower_1)\n",
        "#tower_1 = Dropou(0.5)(tower_1)\n",
        "#Fin de rama 1\n",
        "\n",
        "#Inicio de rama 2\n",
        "tower_2 = Conv2D(16, (5,5), activation='relu',padding=\"same\")(input_shape)\n",
        "tower_2 = BatchNormalization()(tower_2)\n",
        "tower_2 = Activation('relu')(tower_2)\n",
        "tower_2 = AveragePooling2D(2,2)(tower_2)\n",
        "#tower_2 = Dropou(0.5)(tower_2)\n",
        "\n",
        "tower_2 = Conv2D(32, (5,5), activation='relu',padding=\"same\")(tower_2)\n",
        "tower_2 = BatchNormalization()(tower_2)\n",
        "tower_2 = Activation('relu')(tower_2)\n",
        "tower_2 = AveragePooling2D(2,2)(tower_2)\n",
        "#tower_2 = Dropou(0.5)(tower_2)\n",
        "\n",
        "tower_2 = Conv2D(64, (5,5), activation='relu',padding=\"same\")(tower_2)\n",
        "tower_2 = BatchNormalization()(tower_2)\n",
        "tower_2 = Activation('relu')(tower_2)\n",
        "tower_2 = AveragePooling2D(2,2)(tower_2)\n",
        "#tower_2 = Dropou(0.5)(tower_2)\n",
        "\n",
        "tower_2 = Conv2D(64, (5,5), activation='relu',padding=\"same\")(tower_2)\n",
        "tower_2 = BatchNormalization()(tower_2)\n",
        "tower_2 = Activation('relu')(tower_2)\n",
        "tower_2 = AveragePooling2D(2,2)(tower_2)\n",
        "#tower_2 = Dropou(0.5)(tower_2)\n",
        "#Fin de rama 2\n",
        "\n",
        "#Concatenación de las 2 ramas\n",
        "merged = Concatenate(axis=1)([tower_1, tower_2])\n",
        "\n",
        "#Aplanamiento\n",
        "merged = Flatten()(merged)\n",
        "\n",
        "#Capas adicionales\n",
        "out = Dense(256, activation='relu')(merged)\n",
        "out = Dense(128, activation='sigmoid')(out)\n",
        "out = Dense(64, activation='sigmoid')(out)\n",
        "out = Dense(32, activation='sigmoid')(out)\n",
        "\n",
        "#Capa final de clasificación\n",
        "out = Dense(n_class, activation='softmax')(out)\n",
        "\n",
        "model = Model(input_shape, out)"
      ]
    },
    {
      "cell_type": "code",
      "execution_count": null,
      "metadata": {
        "colab": {
          "base_uri": "https://localhost:8080/",
          "height": 1000
        },
        "id": "C5fA9nsAxryd",
        "outputId": "607a73f7-965b-4fc2-cb75-b4f285467c22"
      },
      "outputs": [
        {
          "name": "stdout",
          "output_type": "stream",
          "text": [
            "Model: \"model\"\n",
            "__________________________________________________________________________________________________\n",
            " Layer (type)                Output Shape                 Param #   Connected to                  \n",
            "==================================================================================================\n",
            " input_1 (InputLayer)        [(None, 30, 30, 3)]          0         []                            \n",
            "                                                                                                  \n",
            " conv2d (Conv2D)             (None, 30, 30, 16)           448       ['input_1[0][0]']             \n",
            "                                                                                                  \n",
            " conv2d_4 (Conv2D)           (None, 30, 30, 16)           1216      ['input_1[0][0]']             \n",
            "                                                                                                  \n",
            " batch_normalization (Batch  (None, 30, 30, 16)           64        ['conv2d[0][0]']              \n",
            " Normalization)                                                                                   \n",
            "                                                                                                  \n",
            " batch_normalization_4 (Bat  (None, 30, 30, 16)           64        ['conv2d_4[0][0]']            \n",
            " chNormalization)                                                                                 \n",
            "                                                                                                  \n",
            " activation (Activation)     (None, 30, 30, 16)           0         ['batch_normalization[0][0]'] \n",
            "                                                                                                  \n",
            " activation_4 (Activation)   (None, 30, 30, 16)           0         ['batch_normalization_4[0][0]'\n",
            "                                                                    ]                             \n",
            "                                                                                                  \n",
            " max_pooling2d (MaxPooling2  (None, 15, 15, 16)           0         ['activation[0][0]']          \n",
            " D)                                                                                               \n",
            "                                                                                                  \n",
            " average_pooling2d (Average  (None, 15, 15, 16)           0         ['activation_4[0][0]']        \n",
            " Pooling2D)                                                                                       \n",
            "                                                                                                  \n",
            " conv2d_1 (Conv2D)           (None, 15, 15, 32)           4640      ['max_pooling2d[0][0]']       \n",
            "                                                                                                  \n",
            " conv2d_5 (Conv2D)           (None, 15, 15, 32)           12832     ['average_pooling2d[0][0]']   \n",
            "                                                                                                  \n",
            " batch_normalization_1 (Bat  (None, 15, 15, 32)           128       ['conv2d_1[0][0]']            \n",
            " chNormalization)                                                                                 \n",
            "                                                                                                  \n",
            " batch_normalization_5 (Bat  (None, 15, 15, 32)           128       ['conv2d_5[0][0]']            \n",
            " chNormalization)                                                                                 \n",
            "                                                                                                  \n",
            " activation_1 (Activation)   (None, 15, 15, 32)           0         ['batch_normalization_1[0][0]'\n",
            "                                                                    ]                             \n",
            "                                                                                                  \n",
            " activation_5 (Activation)   (None, 15, 15, 32)           0         ['batch_normalization_5[0][0]'\n",
            "                                                                    ]                             \n",
            "                                                                                                  \n",
            " max_pooling2d_1 (MaxPoolin  (None, 7, 7, 32)             0         ['activation_1[0][0]']        \n",
            " g2D)                                                                                             \n",
            "                                                                                                  \n",
            " average_pooling2d_1 (Avera  (None, 7, 7, 32)             0         ['activation_5[0][0]']        \n",
            " gePooling2D)                                                                                     \n",
            "                                                                                                  \n",
            " conv2d_2 (Conv2D)           (None, 7, 7, 64)             18496     ['max_pooling2d_1[0][0]']     \n",
            "                                                                                                  \n",
            " conv2d_6 (Conv2D)           (None, 7, 7, 64)             51264     ['average_pooling2d_1[0][0]'] \n",
            "                                                                                                  \n",
            " batch_normalization_2 (Bat  (None, 7, 7, 64)             256       ['conv2d_2[0][0]']            \n",
            " chNormalization)                                                                                 \n",
            "                                                                                                  \n",
            " batch_normalization_6 (Bat  (None, 7, 7, 64)             256       ['conv2d_6[0][0]']            \n",
            " chNormalization)                                                                                 \n",
            "                                                                                                  \n",
            " activation_2 (Activation)   (None, 7, 7, 64)             0         ['batch_normalization_2[0][0]'\n",
            "                                                                    ]                             \n",
            "                                                                                                  \n",
            " activation_6 (Activation)   (None, 7, 7, 64)             0         ['batch_normalization_6[0][0]'\n",
            "                                                                    ]                             \n",
            "                                                                                                  \n",
            " max_pooling2d_2 (MaxPoolin  (None, 3, 3, 64)             0         ['activation_2[0][0]']        \n",
            " g2D)                                                                                             \n",
            "                                                                                                  \n",
            " average_pooling2d_2 (Avera  (None, 3, 3, 64)             0         ['activation_6[0][0]']        \n",
            " gePooling2D)                                                                                     \n",
            "                                                                                                  \n",
            " conv2d_3 (Conv2D)           (None, 3, 3, 64)             36928     ['max_pooling2d_2[0][0]']     \n",
            "                                                                                                  \n",
            " conv2d_7 (Conv2D)           (None, 3, 3, 64)             102464    ['average_pooling2d_2[0][0]'] \n",
            "                                                                                                  \n",
            " batch_normalization_3 (Bat  (None, 3, 3, 64)             256       ['conv2d_3[0][0]']            \n",
            " chNormalization)                                                                                 \n",
            "                                                                                                  \n",
            " batch_normalization_7 (Bat  (None, 3, 3, 64)             256       ['conv2d_7[0][0]']            \n",
            " chNormalization)                                                                                 \n",
            "                                                                                                  \n",
            " activation_3 (Activation)   (None, 3, 3, 64)             0         ['batch_normalization_3[0][0]'\n",
            "                                                                    ]                             \n",
            "                                                                                                  \n",
            " activation_7 (Activation)   (None, 3, 3, 64)             0         ['batch_normalization_7[0][0]'\n",
            "                                                                    ]                             \n",
            "                                                                                                  \n",
            " max_pooling2d_3 (MaxPoolin  (None, 1, 1, 64)             0         ['activation_3[0][0]']        \n",
            " g2D)                                                                                             \n",
            "                                                                                                  \n",
            " average_pooling2d_3 (Avera  (None, 1, 1, 64)             0         ['activation_7[0][0]']        \n",
            " gePooling2D)                                                                                     \n",
            "                                                                                                  \n",
            " concatenate (Concatenate)   (None, 2, 1, 64)             0         ['max_pooling2d_3[0][0]',     \n",
            "                                                                     'average_pooling2d_3[0][0]'] \n",
            "                                                                                                  \n",
            " flatten (Flatten)           (None, 128)                  0         ['concatenate[0][0]']         \n",
            "                                                                                                  \n",
            " dense (Dense)               (None, 256)                  33024     ['flatten[0][0]']             \n",
            "                                                                                                  \n",
            " dense_1 (Dense)             (None, 128)                  32896     ['dense[0][0]']               \n",
            "                                                                                                  \n",
            " dense_2 (Dense)             (None, 64)                   8256      ['dense_1[0][0]']             \n",
            "                                                                                                  \n",
            " dense_3 (Dense)             (None, 32)                   2080      ['dense_2[0][0]']             \n",
            "                                                                                                  \n",
            " dense_4 (Dense)             (None, 2)                    66        ['dense_3[0][0]']             \n",
            "                                                                                                  \n",
            "==================================================================================================\n",
            "Total params: 306018 (1.17 MB)\n",
            "Trainable params: 305314 (1.16 MB)\n",
            "Non-trainable params: 704 (2.75 KB)\n",
            "__________________________________________________________________________________________________\n"
          ]
        },
        {
          "data": {
            "image/png": "[encoded data removed]",
            "text/plain": [
              "<IPython.core.display.Image object>"
            ]
          },
          "execution_count": 62,
          "metadata": {},
          "output_type": "execute_result"
        }
      ],
      "source": [
        "from keras.utils import plot_model\n",
        "model.summary()\n",
        "plot_model(model)"
      ]
    },
    {
      "cell_type": "code",
      "execution_count": null,
      "metadata": {
        "id": "DC3Ft7sppjGI",
        "tags": []
      },
      "outputs": [],
      "source": [
        "METRICS = [\n",
        "      tf.keras.metrics.TruePositives(name = 'tp'),\n",
        "      tf.keras.metrics.FalsePositives(name = 'fp'),\n",
        "      tf.keras.metrics.TrueNegatives(name = 'tn'),\n",
        "      tf.keras.metrics.FalseNegatives(name = 'fn'),\n",
        "      tf.keras.metrics.BinaryAccuracy(name ='accuracy'),\n",
        "      tf.keras.metrics.Precision(name = 'precision'),\n",
        "      tf.keras.metrics.Recall(name = 'recall'),\n",
        "      tf.keras.metrics.AUC(name = 'auc'),\n",
        "]"
      ]
    },
    {
      "cell_type": "markdown",
      "metadata": {
        "id": "owmN8gR-jpEh"
      },
      "source": [
        "<a id=\"section52\"></a>\n",
        "# <font color=\"#004D7F\" size=5> 6.2. Compile and fit</font>"
      ]
    },
    {
      "cell_type": "markdown",
      "metadata": {
        "id": "Avt_vcWbxry3"
      },
      "source": [
        "Note to **specify the loss** depending on whether you have a binary or multiclass classification problem."
      ]
    },
    {
      "cell_type": "code",
      "execution_count": null,
      "metadata": {
        "id": "RFxZU2q6pjGJ",
        "tags": []
      },
      "outputs": [],
      "source": [
        "#opt = Adam(learning_rate=1e-3)\n",
        "model.compile(\n",
        "                #optimizer = sgd,\n",
        "                optimizer = 'adam',\n",
        "                #optimizer = 'Adadelta',\n",
        "                #optimizer = 'Adamax',\n",
        "                #optimizer = opt,\n",
        "                metrics = METRICS,\n",
        "                #metrics = ['accuracy'],\n",
        "\n",
        "                #loss = 'binary_crossentropy'\n",
        "                loss = 'categorical_crossentropy'\n",
        "                )"
      ]
    },
    {
      "cell_type": "code",
      "execution_count": null,
      "metadata": {
        "colab": {
          "base_uri": "https://localhost:8080/"
        },
        "id": "_kk0hkBLxry5",
        "outputId": "0a655a0c-a33c-41df-cc1d-6c36acdd3593",
        "scrolled": true
      },
      "outputs": [
        {
          "name": "stdout",
          "output_type": "stream",
          "text": [
            "Epoch 1/25\n",
            "150/150 [==============================] - 66s 406ms/step - loss: 0.6073 - tp: 10276.0000 - fp: 4724.0000 - tn: 10276.0000 - fn: 4724.0000 - accuracy: 0.6851 - precision: 0.6851 - recall: 0.6851 - auc: 0.7326 - val_loss: 0.6926 - val_tp: 2393.0000 - val_fp: 2607.0000 - val_tn: 2393.0000 - val_fn: 2607.0000 - val_accuracy: 0.4786 - val_precision: 0.4786 - val_recall: 0.4786 - val_auc: 0.5075\n",
            "Epoch 2/25\n",
            "150/150 [==============================] - 75s 502ms/step - loss: 0.5552 - tp: 11229.0000 - fp: 3771.0000 - tn: 11229.0000 - fn: 3771.0000 - accuracy: 0.7486 - precision: 0.7486 - recall: 0.7486 - auc: 0.7765 - val_loss: 0.6587 - val_tp: 2982.0000 - val_fp: 2018.0000 - val_tn: 2982.0000 - val_fn: 2018.0000 - val_accuracy: 0.5964 - val_precision: 0.5964 - val_recall: 0.5964 - val_auc: 0.6535\n",
            "Epoch 3/25\n",
            "150/150 [==============================] - 64s 423ms/step - loss: 0.5472 - tp: 11325.0000 - fp: 3675.0000 - tn: 11325.0000 - fn: 3675.0000 - accuracy: 0.7550 - precision: 0.7550 - recall: 0.7550 - auc: 0.7818 - val_loss: 0.9306 - val_tp: 2286.0000 - val_fp: 2714.0000 - val_tn: 2286.0000 - val_fn: 2714.0000 - val_accuracy: 0.4572 - val_precision: 0.4572 - val_recall: 0.4572 - val_auc: 0.5503\n",
            "Epoch 4/25\n",
            "150/150 [==============================] - 57s 378ms/step - loss: 0.5393 - tp: 11449.0000 - fp: 3551.0000 - tn: 11449.0000 - fn: 3551.0000 - accuracy: 0.7633 - precision: 0.7633 - recall: 0.7633 - auc: 0.7879 - val_loss: 0.6526 - val_tp: 3026.0000 - val_fp: 1974.0000 - val_tn: 3026.0000 - val_fn: 1974.0000 - val_accuracy: 0.6052 - val_precision: 0.6052 - val_recall: 0.6052 - val_auc: 0.6638\n",
            "Epoch 5/25\n",
            "150/150 [==============================] - 62s 413ms/step - loss: 0.5352 - tp: 11512.0000 - fp: 3488.0000 - tn: 11512.0000 - fn: 3488.0000 - accuracy: 0.7675 - precision: 0.7675 - recall: 0.7675 - auc: 0.7887 - val_loss: 0.8985 - val_tp: 2315.0000 - val_fp: 2685.0000 - val_tn: 2315.0000 - val_fn: 2685.0000 - val_accuracy: 0.4630 - val_precision: 0.4630 - val_recall: 0.4630 - val_auc: 0.5695\n",
            "Epoch 6/25\n",
            "150/150 [==============================] - 57s 377ms/step - loss: 0.5330 - tp: 11512.0000 - fp: 3488.0000 - tn: 11512.0000 - fn: 3488.0000 - accuracy: 0.7675 - precision: 0.7675 - recall: 0.7675 - auc: 0.7909 - val_loss: 0.6940 - val_tp: 3085.0000 - val_fp: 1915.0000 - val_tn: 3085.0000 - val_fn: 1915.0000 - val_accuracy: 0.6170 - val_precision: 0.6170 - val_recall: 0.6170 - val_auc: 0.6666\n",
            "Epoch 7/25\n",
            "150/150 [==============================] - 61s 410ms/step - loss: 0.5307 - tp: 11546.0000 - fp: 3454.0000 - tn: 11546.0000 - fn: 3454.0000 - accuracy: 0.7697 - precision: 0.7697 - recall: 0.7697 - auc: 0.7939 - val_loss: 0.7145 - val_tp: 2981.0000 - val_fp: 2019.0000 - val_tn: 2981.0000 - val_fn: 2019.0000 - val_accuracy: 0.5962 - val_precision: 0.5962 - val_recall: 0.5962 - val_auc: 0.6373\n",
            "Epoch 8/25\n",
            "150/150 [==============================] - 57s 378ms/step - loss: 0.5285 - tp: 11590.0000 - fp: 3410.0000 - tn: 11590.0000 - fn: 3410.0000 - accuracy: 0.7727 - precision: 0.7727 - recall: 0.7727 - auc: 0.7956 - val_loss: 0.7326 - val_tp: 2949.0000 - val_fp: 2051.0000 - val_tn: 2949.0000 - val_fn: 2051.0000 - val_accuracy: 0.5898 - val_precision: 0.5898 - val_recall: 0.5898 - val_auc: 0.6149\n",
            "Epoch 9/25\n",
            "150/150 [==============================] - 62s 411ms/step - loss: 0.5263 - tp: 11591.0000 - fp: 3409.0000 - tn: 11591.0000 - fn: 3409.0000 - accuracy: 0.7727 - precision: 0.7727 - recall: 0.7727 - auc: 0.7974 - val_loss: 0.6234 - val_tp: 3386.0000 - val_fp: 1614.0000 - val_tn: 3386.0000 - val_fn: 1614.0000 - val_accuracy: 0.6772 - val_precision: 0.6772 - val_recall: 0.6772 - val_auc: 0.7304\n",
            "Epoch 10/25\n",
            "150/150 [==============================] - 56s 374ms/step - loss: 0.5265 - tp: 11611.0000 - fp: 3389.0000 - tn: 11611.0000 - fn: 3389.0000 - accuracy: 0.7741 - precision: 0.7741 - recall: 0.7741 - auc: 0.7972 - val_loss: 0.7984 - val_tp: 2441.0000 - val_fp: 2559.0000 - val_tn: 2441.0000 - val_fn: 2559.0000 - val_accuracy: 0.4882 - val_precision: 0.4882 - val_recall: 0.4882 - val_auc: 0.5748\n",
            "Epoch 11/25\n",
            "150/150 [==============================] - 56s 374ms/step - loss: 0.5249 - tp: 11608.0000 - fp: 3392.0000 - tn: 11608.0000 - fn: 3392.0000 - accuracy: 0.7739 - precision: 0.7739 - recall: 0.7739 - auc: 0.7980 - val_loss: 0.8165 - val_tp: 2791.0000 - val_fp: 2209.0000 - val_tn: 2791.0000 - val_fn: 2209.0000 - val_accuracy: 0.5582 - val_precision: 0.5582 - val_recall: 0.5582 - val_auc: 0.5770\n",
            "Epoch 12/25\n",
            "150/150 [==============================] - 60s 399ms/step - loss: 0.5231 - tp: 11621.0000 - fp: 3379.0000 - tn: 11621.0000 - fn: 3379.0000 - accuracy: 0.7747 - precision: 0.7747 - recall: 0.7747 - auc: 0.7954 - val_loss: 0.6076 - val_tp: 3482.0000 - val_fp: 1518.0000 - val_tn: 3482.0000 - val_fn: 1518.0000 - val_accuracy: 0.6964 - val_precision: 0.6964 - val_recall: 0.6964 - val_auc: 0.7388\n",
            "Epoch 13/25\n",
            "150/150 [==============================] - 61s 410ms/step - loss: 0.5249 - tp: 11606.0000 - fp: 3394.0000 - tn: 11606.0000 - fn: 3394.0000 - accuracy: 0.7737 - precision: 0.7737 - recall: 0.7737 - auc: 0.7995 - val_loss: 0.6974 - val_tp: 3174.0000 - val_fp: 1826.0000 - val_tn: 3174.0000 - val_fn: 1826.0000 - val_accuracy: 0.6348 - val_precision: 0.6348 - val_recall: 0.6348 - val_auc: 0.6827\n",
            "Epoch 14/25\n",
            "150/150 [==============================] - 60s 398ms/step - loss: 0.5209 - tp: 11652.0000 - fp: 3348.0000 - tn: 11652.0000 - fn: 3348.0000 - accuracy: 0.7768 - precision: 0.7768 - recall: 0.7768 - auc: 0.8018 - val_loss: 0.6433 - val_tp: 3076.0000 - val_fp: 1924.0000 - val_tn: 3076.0000 - val_fn: 1924.0000 - val_accuracy: 0.6152 - val_precision: 0.6152 - val_recall: 0.6152 - val_auc: 0.6866\n",
            "Epoch 15/25\n",
            "150/150 [==============================] - 56s 375ms/step - loss: 0.5210 - tp: 11663.0000 - fp: 3337.0000 - tn: 11663.0000 - fn: 3337.0000 - accuracy: 0.7775 - precision: 0.7775 - recall: 0.7775 - auc: 0.7992 - val_loss: 0.7668 - val_tp: 2956.0000 - val_fp: 2044.0000 - val_tn: 2956.0000 - val_fn: 2044.0000 - val_accuracy: 0.5912 - val_precision: 0.5912 - val_recall: 0.5912 - val_auc: 0.6056\n",
            "Epoch 16/25\n",
            "150/150 [==============================] - 62s 415ms/step - loss: 0.5196 - tp: 11675.0000 - fp: 3325.0000 - tn: 11675.0000 - fn: 3325.0000 - accuracy: 0.7783 - precision: 0.7783 - recall: 0.7783 - auc: 0.8015 - val_loss: 0.7241 - val_tp: 3160.0000 - val_fp: 1840.0000 - val_tn: 3160.0000 - val_fn: 1840.0000 - val_accuracy: 0.6320 - val_precision: 0.6320 - val_recall: 0.6320 - val_auc: 0.6582\n",
            "Epoch 17/25\n",
            "150/150 [==============================] - 62s 411ms/step - loss: 0.5197 - tp: 11685.0000 - fp: 3315.0000 - tn: 11685.0000 - fn: 3315.0000 - accuracy: 0.7790 - precision: 0.7790 - recall: 0.7790 - auc: 0.7995 - val_loss: 0.7609 - val_tp: 2529.0000 - val_fp: 2471.0000 - val_tn: 2529.0000 - val_fn: 2471.0000 - val_accuracy: 0.5058 - val_precision: 0.5058 - val_recall: 0.5058 - val_auc: 0.5983\n",
            "Epoch 18/25\n",
            "150/150 [==============================] - 56s 377ms/step - loss: 0.5179 - tp: 11691.0000 - fp: 3309.0000 - tn: 11691.0000 - fn: 3309.0000 - accuracy: 0.7794 - precision: 0.7794 - recall: 0.7794 - auc: 0.8045 - val_loss: 0.6616 - val_tp: 3055.0000 - val_fp: 1945.0000 - val_tn: 3055.0000 - val_fn: 1945.0000 - val_accuracy: 0.6110 - val_precision: 0.6110 - val_recall: 0.6110 - val_auc: 0.6736\n",
            "Epoch 19/25\n",
            "150/150 [==============================] - 58s 382ms/step - loss: 0.5158 - tp: 11684.0000 - fp: 3316.0000 - tn: 11684.0000 - fn: 3316.0000 - accuracy: 0.7789 - precision: 0.7789 - recall: 0.7789 - auc: 0.8052 - val_loss: 0.7599 - val_tp: 3099.0000 - val_fp: 1901.0000 - val_tn: 3099.0000 - val_fn: 1901.0000 - val_accuracy: 0.6198 - val_precision: 0.6198 - val_recall: 0.6198 - val_auc: 0.6362\n",
            "Epoch 20/25\n",
            "150/150 [==============================] - 60s 402ms/step - loss: 0.5132 - tp: 11754.0000 - fp: 3246.0000 - tn: 11754.0000 - fn: 3246.0000 - accuracy: 0.7836 - precision: 0.7836 - recall: 0.7836 - auc: 0.8053 - val_loss: 0.6645 - val_tp: 3142.0000 - val_fp: 1858.0000 - val_tn: 3142.0000 - val_fn: 1858.0000 - val_accuracy: 0.6284 - val_precision: 0.6284 - val_recall: 0.6284 - val_auc: 0.6820\n",
            "Epoch 21/25\n",
            "150/150 [==============================] - 63s 418ms/step - loss: 0.5145 - tp: 11726.0000 - fp: 3274.0000 - tn: 11726.0000 - fn: 3274.0000 - accuracy: 0.7817 - precision: 0.7817 - recall: 0.7817 - auc: 0.8037 - val_loss: 0.6652 - val_tp: 3327.0000 - val_fp: 1673.0000 - val_tn: 3327.0000 - val_fn: 1673.0000 - val_accuracy: 0.6654 - val_precision: 0.6654 - val_recall: 0.6654 - val_auc: 0.7016\n",
            "Epoch 22/25\n",
            "150/150 [==============================] - 63s 420ms/step - loss: 0.5131 - tp: 11758.0000 - fp: 3242.0000 - tn: 11758.0000 - fn: 3242.0000 - accuracy: 0.7839 - precision: 0.7839 - recall: 0.7839 - auc: 0.8063 - val_loss: 0.6797 - val_tp: 3240.0000 - val_fp: 1760.0000 - val_tn: 3240.0000 - val_fn: 1760.0000 - val_accuracy: 0.6480 - val_precision: 0.6480 - val_recall: 0.6480 - val_auc: 0.6976\n",
            "Epoch 23/25\n",
            "150/150 [==============================] - 62s 413ms/step - loss: 0.5137 - tp: 11747.0000 - fp: 3253.0000 - tn: 11747.0000 - fn: 3253.0000 - accuracy: 0.7831 - precision: 0.7831 - recall: 0.7831 - auc: 0.8051 - val_loss: 0.8387 - val_tp: 2349.0000 - val_fp: 2651.0000 - val_tn: 2349.0000 - val_fn: 2651.0000 - val_accuracy: 0.4698 - val_precision: 0.4698 - val_recall: 0.4698 - val_auc: 0.5349\n",
            "Epoch 24/25\n",
            "150/150 [==============================] - 59s 393ms/step - loss: 0.5126 - tp: 11766.0000 - fp: 3234.0000 - tn: 11766.0000 - fn: 3234.0000 - accuracy: 0.7844 - precision: 0.7844 - recall: 0.7844 - auc: 0.8056 - val_loss: 0.8941 - val_tp: 2285.0000 - val_fp: 2715.0000 - val_tn: 2285.0000 - val_fn: 2715.0000 - val_accuracy: 0.4570 - val_precision: 0.4570 - val_recall: 0.4570 - val_auc: 0.5480\n",
            "Epoch 25/25\n",
            "150/150 [==============================] - 59s 396ms/step - loss: 0.5111 - tp: 11776.0000 - fp: 3224.0000 - tn: 11776.0000 - fn: 3224.0000 - accuracy: 0.7851 - precision: 0.7851 - recall: 0.7851 - auc: 0.8058 - val_loss: 0.7177 - val_tp: 2922.0000 - val_fp: 2078.0000 - val_tn: 2922.0000 - val_fn: 2078.0000 - val_accuracy: 0.5844 - val_precision: 0.5844 - val_recall: 0.5844 - val_auc: 0.6135\n"
          ]
        }
      ],
      "source": [
        "modelfitprogress = model.fit(\n",
        "                              train_iter,\n",
        "                              validation_data = valid_iter,\n",
        "                              epochs = epochs,\n",
        "                              steps_per_epoch = df_train.shape[0]//train_iter.batch_size,\n",
        "                              validation_steps = df_val.shape[0]//valid_iter.batch_size\n",
        "                              )"
      ]
    },
    {
      "cell_type": "markdown",
      "metadata": {
        "id": "9R2jytfijpEp"
      },
      "source": [
        "<a id=\"section6\"></a>\n",
        "# <font color=\"#004D7F\" size=6> 7. Results</font>"
      ]
    },
    {
      "cell_type": "markdown",
      "metadata": {
        "id": "a-1vHY9rjpEq"
      },
      "source": [
        "Finally, we can evaluate our CNN with the images created by TINTOlib in any of the ways represented below."
      ]
    },
    {
      "cell_type": "markdown",
      "metadata": {
        "id": "a0x3Whs9xrzK"
      },
      "source": [
        "---\n",
        "<a id=\"section61\"></a>\n",
        "# <font color=\"#004D7F\" size=5> 7.1. Train/Validation representation</font>"
      ]
    },
    {
      "cell_type": "code",
      "execution_count": null,
      "metadata": {
        "colab": {
          "base_uri": "https://localhost:8080/",
          "height": 430
        },
        "id": "-Ls6_Vu7pjGL",
        "outputId": "81977c4b-575f-48ec-9e8c-f0a53fc144fe",
        "tags": []
      },
      "outputs": [
        {
          "data": {
            "image/png": "[encoded data removed]",
            "text/plain": [
              "<Figure size 640x480 with 1 Axes>"
            ]
          },
          "metadata": {},
          "output_type": "display_data"
        }
      ],
      "source": [
        "plt.plot(modelfitprogress.history['loss'], color = 'red', label = 'loss')\n",
        "plt.plot(modelfitprogress.history['val_loss'], color = 'green', label = 'val loss')\n",
        "plt.legend(loc = 'upper right')\n",
        "#plt.ylim(0,1)\n",
        "plt.show()"
      ]
    },
    {
      "cell_type": "code",
      "execution_count": null,
      "metadata": {
        "colab": {
          "base_uri": "https://localhost:8080/",
          "height": 434
        },
        "id": "TWtsezuVpjGM",
        "outputId": "f5b008b5-81e9-4214-ed35-c7c880b50d87",
        "tags": []
      },
      "outputs": [
        {
          "data": {
            "image/png": "[encoded data removed]",
            "text/plain": [
              "<Figure size 640x480 with 1 Axes>"
            ]
          },
          "metadata": {},
          "output_type": "display_data"
        }
      ],
      "source": [
        "plt.plot(modelfitprogress.history['accuracy'], color = 'red', label = 'accuracy')\n",
        "plt.plot(modelfitprogress.history['val_accuracy'], color = 'green', label = 'val accuracy')\n",
        "plt.legend(loc = 'upper right')\n",
        "\n",
        "plt.show()"
      ]
    },
    {
      "cell_type": "markdown",
      "metadata": {
        "id": "p_VfGFhdxrzW"
      },
      "source": [
        "---\n",
        "<a id=\"section62\"></a>\n",
        "# <font color=\"#004D7F\" size=5> 7.2. Validation/Test evaluation</font>"
      ]
    },
    {
      "cell_type": "code",
      "execution_count": null,
      "metadata": {
        "colab": {
          "base_uri": "https://localhost:8080/"
        },
        "execution": {
          "iopub.execute_input": "2022-11-14T19:27:24.254144Z",
          "iopub.status.busy": "2022-11-14T19:27:24.253678Z",
          "iopub.status.idle": "2022-11-14T19:28:06.367196Z",
          "shell.execute_reply": "2022-11-14T19:28:06.366140Z",
          "shell.execute_reply.started": "2022-11-14T19:27:24.254102Z"
        },
        "id": "MtDLUW_QpjGO",
        "outputId": "cc90fadf-e6c3-48a8-b4bd-9f5c2fb47e4c"
      },
      "outputs": [
        {
          "name": "stdout",
          "output_type": "stream",
          "text": [
            "50/50 [==============================] - 7s 138ms/step - loss: 0.7177 - tp: 2922.0000 - fp: 2078.0000 - tn: 2922.0000 - fn: 2078.0000 - accuracy: 0.5844 - precision: 0.5844 - recall: 0.5844 - auc: 0.6135\n",
            "Loss in validation: 0.7177382111549377 \n",
            "Accuracy in validation: 0.5843999981880188\n"
          ]
        }
      ],
      "source": [
        "score = model.evaluate(valid_iter, steps = df_val.shape[0]//valid_iter.batch_size)\n",
        "print(\"Loss in validation: {} \\nAccuracy in validation: {}\".format(score[0], score[5]))"
      ]
    },
    {
      "cell_type": "code",
      "execution_count": null,
      "metadata": {
        "colab": {
          "base_uri": "https://localhost:8080/"
        },
        "execution": {
          "iopub.execute_input": "2022-11-14T19:28:06.369726Z",
          "iopub.status.busy": "2022-11-14T19:28:06.369356Z",
          "iopub.status.idle": "2022-11-14T19:28:47.388501Z",
          "shell.execute_reply": "2022-11-14T19:28:47.387465Z",
          "shell.execute_reply.started": "2022-11-14T19:28:06.369687Z"
        },
        "id": "27tFyGE8pjGO",
        "outputId": "9f6d23d5-c078-45c4-f975-8995eceb4805"
      },
      "outputs": [
        {
          "name": "stdout",
          "output_type": "stream",
          "text": [
            "50/50 [==============================] - 5s 107ms/step - loss: 0.7256 - tp: 2846.0000 - fp: 2154.0000 - tn: 2846.0000 - fn: 2154.0000 - accuracy: 0.5692 - precision: 0.5692 - recall: 0.5692 - auc: 0.6037\n",
            "Loss in test: 0.7255741953849792 \n",
            "Accuracy in test: 0.5691999793052673\n"
          ]
        }
      ],
      "source": [
        "score_test = model.evaluate(test_iter, steps = df_test.shape[0]//test_iter.batch_size)\n",
        "print(\"Loss in test: {} \\nAccuracy in test: {}\".format(score_test[0], score_test[5]))"
      ]
    },
    {
      "cell_type": "code",
      "execution_count": null,
      "metadata": {
        "colab": {
          "base_uri": "https://localhost:8080/"
        },
        "id": "PN3qH86mxrzZ",
        "outputId": "a0157c70-5443-4adc-ed1e-db9058395758",
        "scrolled": false
      },
      "outputs": [
        {
          "data": {
            "text/plain": [
              "0.5691999793052673"
            ]
          },
          "execution_count": 71,
          "metadata": {},
          "output_type": "execute_result"
        }
      ],
      "source": [
        "score_test[6]"
      ]
    },
    {
      "cell_type": "code",
      "execution_count": null,
      "metadata": {
        "colab": {
          "base_uri": "https://localhost:8080/"
        },
        "id": "IIA0A1h_xrzk",
        "outputId": "57ce9c76-7c3b-470c-c936-998d4c5f18c1"
      },
      "outputs": [
        {
          "name": "stderr",
          "output_type": "stream",
          "text": [
            "<ipython-input-72-a75d43213a33>:2: DeprecationWarning: `np.math` is a deprecated alias for the standard library `math` module (Deprecated Numpy 1.25). Replace usages of `np.math` with `math`\n",
            "  prediction = model.predict(test_iter, steps = np.math.ceil(test_iter.samples/test_iter.batch_size))\n"
          ]
        },
        {
          "name": "stdout",
          "output_type": "stream",
          "text": [
            "50/50 [==============================] - 7s 136ms/step\n",
            "[[0.3209712  0.6790288 ]\n",
            " [0.5109736  0.4890264 ]\n",
            " [0.5881685  0.4118316 ]\n",
            " ...\n",
            " [0.1832484  0.8167516 ]\n",
            " [0.1892185  0.8107815 ]\n",
            " [0.76562035 0.23437965]]\n"
          ]
        }
      ],
      "source": [
        "#test_images = next(test_iter)[0]\n",
        "prediction = model.predict(test_iter, steps = np.math.ceil(test_iter.samples/test_iter.batch_size))\n",
        "#prediction = model.predict(test_images)\n",
        "print(prediction)"
      ]
    },
    {
      "cell_type": "markdown",
      "metadata": {
        "id": "as3jD-nLxrzn"
      },
      "source": [
        "<a id=\"section62\"></a>\n",
        "# <font color=\"#004D7F\" size=5> 7.3. Sklearn metrics evaluation</font>"
      ]
    },
    {
      "cell_type": "code",
      "execution_count": null,
      "metadata": {
        "colab": {
          "base_uri": "https://localhost:8080/"
        },
        "id": "itt5zMa8xrzo",
        "outputId": "a11fb5aa-84fc-44cf-a8a7-bbb8523502ca"
      },
      "outputs": [
        {
          "name": "stdout",
          "output_type": "stream",
          "text": [
            "Test accuracy: 0.5691999793052673\n",
            "Test AUC: 0.6036971807479858\n",
            "Test precision: 0.5691999793052673\n",
            "Test recall: 0.5691999793052673\n"
          ]
        }
      ],
      "source": [
        "from sklearn.metrics import roc_auc_score,accuracy_score,precision_score, recall_score\n",
        "\n",
        "test_accuracy = score_test[5]\n",
        "test_auc = score_test[8]\n",
        "test_precision = score_test[6]\n",
        "test_recall = score_test[7]\n",
        "\n",
        "print(\"Test accuracy:\",test_accuracy)\n",
        "print(\"Test AUC:\",test_auc)\n",
        "print(\"Test precision:\",test_precision)\n",
        "print(\"Test recall:\",test_recall)"
      ]
    },
    {
      "cell_type": "code",
      "execution_count": null,
      "metadata": {
        "colab": {
          "base_uri": "https://localhost:8080/"
        },
        "id": "hRxs6hEXxrzq",
        "outputId": "1ff968ef-1c8e-4817-b407-fa3fbfbeeac8"
      },
      "outputs": [
        {
          "name": "stdout",
          "output_type": "stream",
          "text": [
            "Train accuracy: 0.7850666642189026\n",
            "Train AUC: 0.8058290481567383\n",
            "Train precision: 0.7850666642189026\n",
            "Train recall: 0.7850666642189026\n",
            "Train loss: 0.5111415982246399\n"
          ]
        }
      ],
      "source": [
        "train_accuracy = modelfitprogress.history[\"accuracy\"][-1]\n",
        "train_auc = modelfitprogress.history[\"auc\"][-1]\n",
        "train_precision = modelfitprogress.history[\"precision\"][-1]\n",
        "train_recall = modelfitprogress.history[\"recall\"][-1]\n",
        "train_loss = modelfitprogress.history[\"loss\"][-1]\n",
        "\n",
        "print(\"Train accuracy:\",train_accuracy)\n",
        "print(\"Train AUC:\",train_auc)\n",
        "print(\"Train precision:\",train_precision)\n",
        "print(\"Train recall:\",train_recall)\n",
        "print(\"Train loss:\",train_loss)"
      ]
    },
    {
      "cell_type": "code",
      "execution_count": null,
      "metadata": {
        "colab": {
          "base_uri": "https://localhost:8080/"
        },
        "id": "i-pouNGxxrzx",
        "outputId": "c8a9db91-8177-44c9-d639-563b951c839c"
      },
      "outputs": [
        {
          "name": "stdout",
          "output_type": "stream",
          "text": [
            "Validation accuracy: 0.5843999981880188\n",
            "Validation AUC: 0.6134510040283203\n",
            "Validation precision: 0.5843999981880188\n",
            "Validation recall: 0.5843999981880188\n",
            "Validation loss: 0.7177382111549377\n"
          ]
        }
      ],
      "source": [
        "validation_accuracy = modelfitprogress.history[\"val_accuracy\"][-1]\n",
        "validation_auc = modelfitprogress.history[\"val_auc\"][-1]\n",
        "validation_precision = modelfitprogress.history[\"val_precision\"][-1]\n",
        "validation_recall = modelfitprogress.history[\"val_recall\"][-1]\n",
        "validation_loss = modelfitprogress.history[\"val_loss\"][-1]\n",
        "\n",
        "print(\"Validation accuracy:\",validation_accuracy)\n",
        "print(\"Validation AUC:\",validation_auc)\n",
        "print(\"Validation precision:\",validation_precision)\n",
        "print(\"Validation recall:\",validation_recall)\n",
        "print(\"Validation loss:\",validation_loss)"
      ]
    },
    {
      "cell_type": "markdown",
      "metadata": {
        "id": "0ciBS76mpjGU"
      },
      "source": [
        "<div style=\"text-align: right\"> <font size=5> <a href=\"#indice\"><i class=\"fa fa-arrow-circle-up\" aria-hidden=\"true\" style=\"color:#004D7F\"></i></a></font></div>\n",
        "\n",
        "---\n",
        "\n",
        "<div style=\"text-align: right\"> <font size=6><i class=\"fa fa-coffee\" aria-hidden=\"true\" style=\"color:#004D7F\"></i> </font></div>"
      ]
    }
  ],
  "metadata": {
    "colab": {
      "gpuType": "T4",
      "provenance": []
    },
    "kernelspec": {
      "display_name": "Python 3",
      "language": "python",
      "name": "python3"
    },
    "language_info": {
      "codemirror_mode": {
        "name": "ipython",
        "version": 3
      },
      "file_extension": ".py",
      "mimetype": "text/x-python",
      "name": "python",
      "nbconvert_exporter": "python",
      "pygments_lexer": "ipython3",
      "version": "3.9.6"
    }
  },
  "nbformat": 4,
  "nbformat_minor": 0
}
