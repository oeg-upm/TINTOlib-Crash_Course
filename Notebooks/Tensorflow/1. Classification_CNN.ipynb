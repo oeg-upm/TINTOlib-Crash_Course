{
 "cells": [
  {
   "cell_type": "markdown",
   "metadata": {
    "id": "EybOZ6hSjpCF"
   },
   "source": [
    "<h1><font color=\"#113D68\" size=5>TINTOlib: Converting Tidy Data into Synthetic Images</font></h1>\n",
    "\n",
    "<h1><font color=\"#113D68\" size=5>Template Classification Machine Learning problem with a CNN</font></h1>\n",
    "\n",
    "<br><br>\n",
    "<div style=\"text-align: right\">\n",
    "<font color=\"#113D68\" size=3>Manuel Castillo-Cara</font><br>\n",
    "<font color=\"#113D68\" size=3>Raúl García-Castro</font><br>\n",
    "<font color=\"#113D68\" size=3>Jiayun Liu</font><br>\n",
    "\n",
    "</div>\n",
    "\n",
    "---"
   ]
  },
  {
   "cell_type": "markdown",
   "metadata": {
    "id": "i3tgsO0BjpCj"
   },
   "source": [
    "<div class=\"alert alert-block alert-info\">\n",
    "    \n",
    "<i class=\"fa fa-info-circle\" aria-hidden=\"true\"></i>\n",
    "More information about [Manuel Castillo-Cara](https://www.manuelcastillo.eu/)"
   ]
  },
  {
   "cell_type": "markdown",
   "metadata": {
    "id": "i3tgsO0BjpCj"
   },
   "source": [
    "<div class=\"alert alert-block alert-info\">\n",
    "    \n",
    "<i class=\"fa fa-info-circle\" aria-hidden=\"true\"></i>\n",
    "More information about [Raúl García-Castro](http://www.garcia-castro.com/)"
   ]
  },
  {
   "cell_type": "markdown",
   "metadata": {},
   "source": [
    "---\n",
    "\n",
    "<a id=\"indice\"></a>\n",
    "<h2><font color=\"#004D7F\" size=5>Licencia</font></h2>\n",
    "\n",
    "<p><small><small>Improving Deep Learning by Exploiting Synthetic Images Copyright 2024 Manuel Castillo Cara.</p>\n",
    "<p><small><small> Licensed under the Apache License, Version 2.0 (the \"License\"); you may not use this file except in compliance with the License. You may obtain a copy of the License at </p>\n",
    "<p><small><small> <a href=\"https://www.apache.org/licenses/LICENSE-2.0\">https://www.apache.org/licenses/LICENSE-2.0</a> </p>\n",
    "<p><small><small> Unless required by applicable law or agreed to in writing, software distributed under the License is distributed on an \"AS IS\" BASIS, WITHOUT WARRANTIES OR CONDITIONS OF ANY KIND, either express or implied. See the License for the specific language governing permissions and limitations under the License. </p>"
   ]
  },
  {
   "cell_type": "markdown",
   "metadata": {
    "id": "2l5nFzsdjpCW"
   },
   "source": [
    "---\n",
    "\n",
    "<a id=\"indice\"></a>\n",
    "<h2><font color=\"#004D7F\" size=5>Index</font></h2>\n",
    "\n",
    "* [0. Context](#section0)\n",
    "* [1. Description](#section1)\n",
    "    * [1.1. Main Features](#section11)\n",
    "    * [1.2. Citation](#section12)\n",
    "    * [1.3. Documentation and License](#section13)\n",
    "* [2. Libraries](#section2)\n",
    "    * [2.1. System setup](#section21)\n",
    "    * [2.2. Invoke the libraries](#section22)\n",
    "* [3. Data processing](#section3)\n",
    "    * [3.1. TINTOlib methods](#section31)\n",
    "    * [3.2. Read the dataset](#section32)\n",
    "    * [3.3. Generate images](#section33)\n",
    "    * [3.4. Read images](#section34)\n",
    "* [4. Pre-modelling phase](#section4)\n",
    "    * [4.1. Data curation](#section41)\n",
    "    * [4.2. Resize Images](#section42)\n",
    "    * [4.3. Iterators](#section43)\n",
    "* [5. Modelling with CNN](#section5)\n",
    "    * [5.1. CNN](#section51)\n",
    "    * [5.2. Compile and fit](#section52)\n",
    "* [6. Results](#section6)\n",
    "    * [6.1. Train/Validation representation](#section61)\n",
    "    * [6.2. Validation/Test evaluation](#section62)\n",
    "    * [6.3. Sklearn metrics evaluation](#section63)"
   ]
  },
  {
   "cell_type": "markdown",
   "metadata": {
    "id": "SxTpMExHjpCa"
   },
   "source": [
    "---\n",
    "<a id=\"section0\"></a>\n",
    "# <font color=\"#004D7F\" size=6> 0. Context</font>"
   ]
  },
  {
   "cell_type": "markdown",
   "metadata": {
    "id": "JlVYt3MRrl_V"
   },
   "source": [
    "This is a tutorial on how to read the images created by TINTO and pass them to a very simple pretrained Convolutional Neural Network (CNN). The images must already be created by the TINTOlib software. See the documentation in GITHUB for how to create the images from tabular data.\n",
    "\n",
    "Remember that when using CNN you can set the training to be done with GPUs to improve performance."
   ]
  },
  {
   "cell_type": "markdown",
   "metadata": {},
   "source": [
    "<div class=\"alert alert-block alert-info\">\n",
    "\n",
    "<i class=\"fa fa-info-circle\" aria-hidden=\"true\"></i>\n",
    "You can see all information about TINTOlib code in [GitHub](https://github.com/oeg-upm/TINTOlib)"
   ]
  },
  {
   "cell_type": "markdown",
   "metadata": {},
   "source": [
    "<div class=\"alert alert-block alert-info\">\n",
    "\n",
    "<i class=\"fa fa-info-circle\" aria-hidden=\"true\"></i>\n",
    "You can see all information about TINTOlib documentation in the official [Webpage](https://tintolib.readthedocs.io/en/latest/installation.html)"
   ]
  },
  {
   "cell_type": "markdown",
   "metadata": {},
   "source": [
    "<div class=\"alert alert-block alert-info\">\n",
    "\n",
    "<i class=\"fa fa-info-circle\" aria-hidden=\"true\"></i>\n",
    "You can see all information about TINTOlib documentation in [PyPI](https://pypi.org/project/TINTOlib/)"
   ]
  },
  {
   "cell_type": "markdown",
   "metadata": {
    "id": "4RKBgDwzjpCl"
   },
   "source": [
    "---\n",
    "<div style=\"text-align: right\"> <font size=5> <a href=\"#indice\"><i class=\"fa fa-arrow-circle-up\" aria-hidden=\"true\" style=\"color:#004D7F\"></i></a></font></div>\n",
    "\n",
    "---"
   ]
  },
  {
   "cell_type": "markdown",
   "metadata": {
    "id": "kpU7pi6yjpCn"
   },
   "source": [
    "<a id=\"section1\"></a>\n",
    "# <font color=\"#004D7F\" size=6> 1. Description</font>"
   ]
  },
  {
   "cell_type": "markdown",
   "metadata": {},
   "source": [
    "The growing interest in the use of algorithms-based machine learning for predictive tasks has generated a large and diverse development of algorithms. However, it is widely known that not all of these algorithms are adapted to efficient solutions in certain tidy data format datasets. For this reason, novel techniques are currently being developed to convert tidy data into images with the aim of using Convolutional Neural Networks (CNNs) or Vision Transformer (ViT). TINTOlib offers the opportunity to convert tidy data into images through several techniques: TINTO, IGTD, REFINED, SuperTML, BarGraph, DistanceMatrix and Combination.\n",
    "\n",
    "In this tutorial, we develop a CNN with synthetic images.\n",
    "\n",
    "<figure><center>\n",
    "  <img src=\"../../Images/CNN-Synthetic.png\" width=\"850\" height=\"350\" alt=\"Gráfica\">\n",
    "  <figcaption><blockquote>CNN architecture with synthetic images. Extract from <a href=\"https://doi.org/10.1016/j.inffus.2022.10.011\">A novel deep learning approach using blurring image techniques for Bluetooth-based indoor localisation</a></blockquote></figcaption>\n",
    "</center></figure>"
   ]
  },
  {
   "cell_type": "markdown",
   "metadata": {
    "id": "HFrF4C89jpCt"
   },
   "source": [
    "---\n",
    "<a id=\"section11\"></a>\n",
    "# <font color=\"#004D7F\" size=5> 1.1. Main Features</font>"
   ]
  },
  {
   "cell_type": "markdown",
   "metadata": {
    "id": "1gruE0_sjpCu"
   },
   "source": [
    "- Supports all CSV data in **[Tidy Data](https://www.jstatsoft.org/article/view/v059i10)** format.\n",
    "- For now, the algorithm converts tabular data for binary and multi-class classification problems into machine learning.\n",
    "- Input data formats:\n",
    "    - **Tabular files**: The input data could be in **[CSV](https://en.wikipedia.org/wiki/Comma-separated_values)**, taking into account the **[Tidy Data](https://www.jstatsoft.org/article/view/v059i10)** format.\n",
    "    - **Dataframe***: The input data could be in **[Pandas Dataframe](https://pandas.pydata.org/docs/reference/api/pandas.DataFrame.html)**, taking into account the **[Tidy Data](https://www.jstatsoft.org/article/view/v059i10)** format.\n",
    "    - **Tidy Data**: The **target** (variable to be predicted) should be set as the last column of the dataset. Therefore, the first columns will be the features.\n",
    "    - All data must be in numerical form. TINTOlib does not accept data in string or any other non-numeric format.\n",
    "- Runs on **Linux**, **Windows** and **macOS** systems.\n",
    "- Compatible with **[Python](https://www.python.org/)** 3.7 or higher."
   ]
  },
  {
   "cell_type": "markdown",
   "metadata": {},
   "source": [
    "---\n",
    "<a id=\"section12\"></a>\n",
    "# <font color=\"#004D7F\" size=5> 1.2. Citation</font>"
   ]
  },
  {
   "cell_type": "markdown",
   "metadata": {},
   "source": [
    "**TINTOlib** is an python library that makes **Synthetic Images** from [Tidy Data](https://www.jstatsoft.org/article/view/v059i10) (also knows as **Tabular Data**).\n",
    "\n",
    "**Citing TINTO**: If you used TINTO in your work, please cite the **[SoftwareX](https://doi.org/10.1016/j.softx.2023.101391)**:\n",
    "\n",
    "```bib\n",
    "@article{softwarex_TINTO,\n",
    "    title = {TINTO: Converting Tidy Data into Image for Classification\n",
    "            with 2-Dimensional Convolutional Neural Networks},\n",
    "    journal = {SoftwareX},\n",
    "    author = {Manuel Castillo-Cara and Reewos Talla-Chumpitaz and\n",
    "              Raúl García-Castro and Luis Orozco-Barbosa},\n",
    "    year = {2023},\n",
    "    pages = {101391},\n",
    "    issn = {2352-7110},\n",
    "    doi = {https://doi.org/10.1016/j.softx.2023.101391}\n",
    "}\n",
    "```\n",
    "\n",
    "And use-case developed in **[INFFUS Paper](https://doi.org/10.1016/j.inffus.2022.10.011)**\n",
    "\n",
    "```bib\n",
    "@article{inffus_TINTO,\n",
    "    title = {A novel deep learning approach using blurring image\n",
    "            techniques for Bluetooth-based indoor localisation},\n",
    "    journal = {Information Fusion},\n",
    "    author = {Reewos Talla-Chumpitaz and Manuel Castillo-Cara and\n",
    "              Luis Orozco-Barbosa and Raúl García-Castro},\n",
    "    volume = {91},\n",
    "    pages = {173-186},\n",
    "    year = {2023},\n",
    "    issn = {1566-2535},\n",
    "    doi = {https://doi.org/10.1016/j.inffus.2022.10.011}\n",
    "}\n",
    "```"
   ]
  },
  {
   "cell_type": "markdown",
   "metadata": {},
   "source": [
    "---\n",
    "<a id=\"section13\"></a>\n",
    "# <font color=\"#004D7F\" size=5> 1.3. Documentation and License</font>"
   ]
  },
  {
   "cell_type": "markdown",
   "metadata": {},
   "source": [
    "TINTOlib has a wide range of documentation on both GitHub and PiPY. \n",
    "\n",
    "Moreover, TINTOlib is free and open software with Apache 2.0 license."
   ]
  },
  {
   "cell_type": "markdown",
   "metadata": {},
   "source": [
    "<div class=\"alert alert-block alert-info\">\n",
    "\n",
    "<i class=\"fa fa-info-circle\" aria-hidden=\"true\"></i>\n",
    "You can see all information about TINTOlib code in [GitHub](https://github.com/oeg-upm/TINTOlib)"
   ]
  },
  {
   "cell_type": "markdown",
   "metadata": {},
   "source": [
    "<div class=\"alert alert-block alert-info\">\n",
    "\n",
    "<i class=\"fa fa-info-circle\" aria-hidden=\"true\"></i>\n",
    "You can see all information about TINTOlib documentation in the official [Webpage](https://tintolib.readthedocs.io/en/latest/installation.html)"
   ]
  },
  {
   "cell_type": "markdown",
   "metadata": {},
   "source": [
    "<div class=\"alert alert-block alert-info\">\n",
    "\n",
    "<i class=\"fa fa-info-circle\" aria-hidden=\"true\"></i>\n",
    "You can see all information about TINTOlib documentation in [PyPI](https://pypi.org/project/TINTOlib/)"
   ]
  },
  {
   "cell_type": "markdown",
   "metadata": {
    "id": "Z3EzYcjJjpC6"
   },
   "source": [
    "---\n",
    "<div style=\"text-align: right\"> <font size=5> <a href=\"#indice\"><i class=\"fa fa-arrow-circle-up\" aria-hidden=\"true\" style=\"color:#004D7F\"></i></a></font></div>"
   ]
  },
  {
   "cell_type": "markdown",
   "metadata": {
    "id": "qwYF5A2njpC8"
   },
   "source": [
    "<a id=\"section2\"></a>\n",
    "# <font color=\"#004D7F\" size=6> 2. Libraries</font>"
   ]
  },
  {
   "cell_type": "markdown",
   "metadata": {
    "id": "HFrF4C89jpCt"
   },
   "source": [
    "---\n",
    "<a id=\"section21\"></a>\n",
    "# <font color=\"#004D7F\" size=5> 2.1. System setup</font>"
   ]
  },
  {
   "cell_type": "markdown",
   "metadata": {},
   "source": [
    "Before installing the libraries you must have the `mpi4py` package installed on the native (Linux) system. This link shows how to install it: \n",
    "- [mpi4py in Linux](https://www.geeksforgeeks.org/how-to-install-python3-mpi4py-package-on-linux/)"
   ]
  },
  {
   "cell_type": "markdown",
   "metadata": {},
   "source": [
    "For example, in Linux:\n",
    "\n",
    "```\n",
    "    sudo apt-get install python3\n",
    "    sudo apt install python3-pip\n",
    "    sudo apt install python3-mpi4py\n",
    "```\n",
    "\n",
    "If you are in Windows, Mac or, also, Linux, you can install from PyPI if you want:\n",
    "```\n",
    "    sudo pip3 install mpi4py\n",
    "```"
   ]
  },
  {
   "cell_type": "markdown",
   "metadata": {},
   "source": [
    "<div class=\"alert alert-block alert-info\">\n",
    "    \n",
    "<i class=\"fa fa-info-circle\" aria-hidden=\"true\"></i>\n",
    "Note that you must **restart the kernel or the system** so that it can load the libraries. "
   ]
  },
  {
   "cell_type": "markdown",
   "metadata": {},
   "source": [
    "Now, once you have installed `mpi4py` you can install the PyPI libraries and dependences."
   ]
  },
  {
   "cell_type": "code",
   "execution_count": 1,
   "metadata": {},
   "outputs": [
    {
     "name": "stdout",
     "output_type": "stream",
     "text": [
      "Defaulting to user installation because normal site-packages is not writeable\n",
      "Requirement already satisfied: tintolib in /Users/manwest/Library/Python/3.9/lib/python/site-packages (0.0.21)\n",
      "Collecting tintolib\n",
      "  Downloading tintolib-0.0.22-py3-none-any.whl.metadata (22 kB)\n",
      "Downloading tintolib-0.0.22-py3-none-any.whl (51 kB)\n",
      "\u001b[2K   \u001b[90m━━━━━━━━━━━━━━━━━━━━━━━━━━━━━━━━━━━━━━━━\u001b[0m \u001b[32m52.0/52.0 kB\u001b[0m \u001b[31m971.9 kB/s\u001b[0m eta \u001b[36m0:00:00\u001b[0m:01\u001b[0m\n",
      "\u001b[?25hInstalling collected packages: tintolib\n",
      "  Attempting uninstall: tintolib\n",
      "    Found existing installation: TINTOlib 0.0.21\n",
      "    Uninstalling TINTOlib-0.0.21:\n",
      "      Successfully uninstalled TINTOlib-0.0.21\n",
      "Successfully installed tintolib-0.0.22\n"
     ]
    }
   ],
   "source": [
    "!pip install -U tintolib"
   ]
  },
  {
   "cell_type": "code",
   "execution_count": null,
   "metadata": {},
   "outputs": [],
   "source": [
    "!pip install torchmetrics pytorch_lightning imblearn keras_preprocessing mpi4py tifffile tqdm"
   ]
  },
  {
   "cell_type": "markdown",
   "metadata": {},
   "source": [
    "<div class=\"alert alert-block alert-info\">\n",
    "    \n",
    "<i class=\"fa fa-info-circle\" aria-hidden=\"true\"></i>\n",
    "Note that you must **restart the kernel** so that it can load the libraries. "
   ]
  },
  {
   "cell_type": "markdown",
   "metadata": {
    "id": "HFrF4C89jpCt"
   },
   "source": [
    "---\n",
    "<a id=\"section22\"></a>\n",
    "# <font color=\"#004D7F\" size=5> 2.2. Invoke the libraries</font>"
   ]
  },
  {
   "cell_type": "markdown",
   "metadata": {
    "id": "5AdHKnWYsEq_"
   },
   "source": [
    "The first thing we need to do is to declare the libraries"
   ]
  },
  {
   "cell_type": "code",
   "execution_count": 1,
   "metadata": {
    "id": "PeeBbGxlpjFp",
    "tags": []
   },
   "outputs": [
    {
     "name": "stderr",
     "output_type": "stream",
     "text": [
      "/Users/manwest/Library/Python/3.9/lib/python/site-packages/urllib3/__init__.py:35: NotOpenSSLWarning: urllib3 v2 only supports OpenSSL 1.1.1+, currently the 'ssl' module is compiled with 'LibreSSL 2.8.3'. See: https://github.com/urllib3/urllib3/issues/3020\n",
      "  warnings.warn(\n"
     ]
    }
   ],
   "source": [
    "import os\n",
    "import random\n",
    "import pandas as pd\n",
    "import numpy as np\n",
    "from tqdm import tqdm\n",
    "#import cv2\n",
    "import gc\n",
    "import matplotlib.pyplot as plt\n",
    "#import openslide\n",
    "#from openslide.deepzoom import DeepZoomGenerator\n",
    "import tifffile as tifi\n",
    "import sklearn\n",
    "import tensorflow as tf\n",
    "\n",
    "from keras_preprocessing.image import ImageDataGenerator\n",
    "from tensorflow.keras.models import load_model\n",
    "\n",
    "from sklearn.model_selection import train_test_split\n",
    "from tensorflow.keras.applications import vgg16, vgg19, resnet50, mobilenet, inception_resnet_v2, densenet, inception_v3, xception, nasnet, ResNet152V2\n",
    "from tensorflow.keras.models import Sequential, Model, load_model\n",
    "from tensorflow.keras.layers import Dense, Conv2D, MaxPool2D, Flatten, Dropout, BatchNormalization, InputLayer, LayerNormalization\n",
    "from tensorflow.keras.callbacks import ModelCheckpoint, ReduceLROnPlateau, EarlyStopping\n",
    "from tensorflow.keras.optimizers import SGD, Adam, Adadelta, Adamax\n",
    "from keras.layers import MaxPooling2D, AveragePooling2D, Activation, Input, Concatenate\n",
    "from keras.utils import plot_model\n",
    "\n",
    "\n",
    "#Models of TINTOlib\n",
    "from TINTOlib.tinto import TINTO\n",
    "from TINTOlib.supertml import SuperTML\n",
    "from TINTOlib.igtd import IGTD\n",
    "from TINTOlib.refined import REFINED\n",
    "from TINTOlib.barGraph import BarGraph\n",
    "from TINTOlib.distanceMatrix import DistanceMatrix\n",
    "from TINTOlib.combination import Combination\n",
    "\n",
    "SEED = 64\n",
    "# SET RANDOM SEED FOR REPRODUCIBILITY\n",
    "#torch.manual_seed(SEED)\n",
    "#torch.cuda.manual_seed(SEED)\n",
    "#torch.cuda.manual_seed_all(SEED)\n",
    "#torch.backends.cudnn.deterministic = True\n",
    "#torch.backends.cudnn.benchmark = False\n",
    "os.environ['PYTHONHASHSEED']=str(SEED)\n",
    "random.seed(SEED)\n",
    "np.random.seed(SEED)\n",
    "tf.random.set_seed(SEED)"
   ]
  },
  {
   "cell_type": "markdown",
   "metadata": {
    "id": "NwS-cKUxjpDQ"
   },
   "source": [
    "---\n",
    "<div style=\"text-align: right\"> <font size=5> <a href=\"#indice\"><i class=\"fa fa-arrow-circle-up\" aria-hidden=\"true\" style=\"color:#004D7F\"></i></a></font></div>\n",
    "\n",
    "---"
   ]
  },
  {
   "cell_type": "markdown",
   "metadata": {
    "id": "aDL4LARWjpDT"
   },
   "source": [
    "<a id=\"section3\"></a>\n",
    "# <font color=\"#004D7F\" size=6> 3. Data processing</font>"
   ]
  },
  {
   "cell_type": "markdown",
   "metadata": {
    "id": "pLzynCxOpHBX"
   },
   "source": [
    "---\n",
    "<a id=\"section31\"></a>\n",
    "# <font color=\"#004D7F\" size=5> 3.1. TINTOlib methods</font>"
   ]
  },
  {
   "cell_type": "markdown",
   "metadata": {},
   "source": [
    "We prepare the declaration of the classes with the TINTOlib method we want to transform. Note that TINTOlib has several methods and we will have to choose one of them since each method generates different images.\n",
    "\n",
    "In addition, we establish the paths where the dataset is located and also the folder where the images will be created."
   ]
  },
  {
   "cell_type": "code",
   "execution_count": 11,
   "metadata": {},
   "outputs": [],
   "source": [
    "#Select the model and the parameters\n",
    "problem_type = \"supervised\"\n",
    "#problem_type = \"regression\"\n",
    "pixel = 20\n",
    "## zoom para ampliar la imagen\n",
    "#image_model = REFINED(problem=problem_type, random_seed=SEED, zoom=7, n_processors=12)\n",
    "image_model = TINTO(problem= problem_type, blur=True, option='maximum', pixels=pixel, random_seed=SEED)\n",
    "# scale sería [7,4] porque hay 26 variables (para 24 pixeles); \n",
    "#image_model = IGTD(problem= problem_type, random_seed=SEED, scale=[2,2], zoom=7)\n",
    "#image_model = BarGraph(problem= problem_type)\n",
    "#image_model = DistanceMatrix(problem= problem_type)\n",
    "#image_model = Combination(problem= problem_type)\n",
    "# \n",
    "#image_model = SuperTML(problem= problem_type, pixels=pixel, font_size=8, feature_importance=True, random_seed=SEED)\n",
    "\n",
    "#Define the dataset path and the folder where the images will be saved\n",
    "results_folder = \"Iris_SuperTML\"\n",
    "dataset_path = \"../../Data/Multiclass/iris.csv\"\n",
    "images_folder = \"Iris_SuperTML\"\n",
    "\n"
   ]
  },
  {
   "cell_type": "markdown",
   "metadata": {},
   "source": [
    "<div class=\"alert alert-block alert-info\">\n",
    "\n",
    "<i class=\"fa fa-info-circle\" aria-hidden=\"true\"></i>\n",
    "You can see all information about TINTOlib documentation in [PyPI](https://pypi.org/project/TINTOlib/)"
   ]
  },
  {
   "cell_type": "markdown",
   "metadata": {
    "id": "pLzynCxOpHBX"
   },
   "source": [
    "---\n",
    "<a id=\"section32\"></a>\n",
    "# <font color=\"#004D7F\" size=5> 3.2. Read the dataset</font>"
   ]
  },
  {
   "cell_type": "markdown",
   "metadata": {},
   "source": [
    "In this part, we proceed to read the dataset according to the path specified above and also standardize the name that the target will have, in this case, it will be called _class_"
   ]
  },
  {
   "cell_type": "code",
   "execution_count": 12,
   "metadata": {
    "scrolled": true
   },
   "outputs": [
    {
     "data": {
      "text/html": [
       "<div>\n",
       "<style scoped>\n",
       "    .dataframe tbody tr th:only-of-type {\n",
       "        vertical-align: middle;\n",
       "    }\n",
       "\n",
       "    .dataframe tbody tr th {\n",
       "        vertical-align: top;\n",
       "    }\n",
       "\n",
       "    .dataframe thead th {\n",
       "        text-align: right;\n",
       "    }\n",
       "</style>\n",
       "<table border=\"1\" class=\"dataframe\">\n",
       "  <thead>\n",
       "    <tr style=\"text-align: right;\">\n",
       "      <th></th>\n",
       "      <th>SepalLength</th>\n",
       "      <th>SepalWidth</th>\n",
       "      <th>PetalLength</th>\n",
       "      <th>PetalWidth</th>\n",
       "      <th>class</th>\n",
       "    </tr>\n",
       "  </thead>\n",
       "  <tbody>\n",
       "    <tr>\n",
       "      <th>0</th>\n",
       "      <td>5.1</td>\n",
       "      <td>3.5</td>\n",
       "      <td>1.4</td>\n",
       "      <td>0.2</td>\n",
       "      <td>1</td>\n",
       "    </tr>\n",
       "    <tr>\n",
       "      <th>1</th>\n",
       "      <td>4.9</td>\n",
       "      <td>3.0</td>\n",
       "      <td>1.4</td>\n",
       "      <td>0.2</td>\n",
       "      <td>1</td>\n",
       "    </tr>\n",
       "    <tr>\n",
       "      <th>2</th>\n",
       "      <td>4.7</td>\n",
       "      <td>3.2</td>\n",
       "      <td>1.3</td>\n",
       "      <td>0.2</td>\n",
       "      <td>1</td>\n",
       "    </tr>\n",
       "    <tr>\n",
       "      <th>3</th>\n",
       "      <td>4.6</td>\n",
       "      <td>3.1</td>\n",
       "      <td>1.5</td>\n",
       "      <td>0.2</td>\n",
       "      <td>1</td>\n",
       "    </tr>\n",
       "    <tr>\n",
       "      <th>4</th>\n",
       "      <td>5.0</td>\n",
       "      <td>3.6</td>\n",
       "      <td>1.4</td>\n",
       "      <td>0.2</td>\n",
       "      <td>1</td>\n",
       "    </tr>\n",
       "    <tr>\n",
       "      <th>...</th>\n",
       "      <td>...</td>\n",
       "      <td>...</td>\n",
       "      <td>...</td>\n",
       "      <td>...</td>\n",
       "      <td>...</td>\n",
       "    </tr>\n",
       "    <tr>\n",
       "      <th>145</th>\n",
       "      <td>6.7</td>\n",
       "      <td>3.0</td>\n",
       "      <td>5.2</td>\n",
       "      <td>2.3</td>\n",
       "      <td>3</td>\n",
       "    </tr>\n",
       "    <tr>\n",
       "      <th>146</th>\n",
       "      <td>6.3</td>\n",
       "      <td>2.5</td>\n",
       "      <td>5.0</td>\n",
       "      <td>1.9</td>\n",
       "      <td>3</td>\n",
       "    </tr>\n",
       "    <tr>\n",
       "      <th>147</th>\n",
       "      <td>6.5</td>\n",
       "      <td>3.0</td>\n",
       "      <td>5.2</td>\n",
       "      <td>2.0</td>\n",
       "      <td>3</td>\n",
       "    </tr>\n",
       "    <tr>\n",
       "      <th>148</th>\n",
       "      <td>6.2</td>\n",
       "      <td>3.4</td>\n",
       "      <td>5.4</td>\n",
       "      <td>2.3</td>\n",
       "      <td>3</td>\n",
       "    </tr>\n",
       "    <tr>\n",
       "      <th>149</th>\n",
       "      <td>5.9</td>\n",
       "      <td>3.0</td>\n",
       "      <td>5.1</td>\n",
       "      <td>1.8</td>\n",
       "      <td>3</td>\n",
       "    </tr>\n",
       "  </tbody>\n",
       "</table>\n",
       "<p>150 rows × 5 columns</p>\n",
       "</div>"
      ],
      "text/plain": [
       "     SepalLength  SepalWidth  PetalLength  PetalWidth  class\n",
       "0            5.1         3.5          1.4         0.2      1\n",
       "1            4.9         3.0          1.4         0.2      1\n",
       "2            4.7         3.2          1.3         0.2      1\n",
       "3            4.6         3.1          1.5         0.2      1\n",
       "4            5.0         3.6          1.4         0.2      1\n",
       "..           ...         ...          ...         ...    ...\n",
       "145          6.7         3.0          5.2         2.3      3\n",
       "146          6.3         2.5          5.0         1.9      3\n",
       "147          6.5         3.0          5.2         2.0      3\n",
       "148          6.2         3.4          5.4         2.3      3\n",
       "149          5.9         3.0          5.1         1.8      3\n",
       "\n",
       "[150 rows x 5 columns]"
      ]
     },
     "execution_count": 12,
     "metadata": {},
     "output_type": "execute_result"
    }
   ],
   "source": [
    "#Read CSV\n",
    "df=pd.read_csv(dataset_path)\n",
    "\n",
    "diagnosis_col = df.iloc[:,-1]\n",
    "df = df.iloc[: , :-1]\n",
    "df['class'] = diagnosis_col\n",
    "df"
   ]
  },
  {
   "cell_type": "markdown",
   "metadata": {},
   "source": [
    "---\n",
    "<a id=\"section33\"></a>\n",
    "# <font color=\"#004D7F\" size=5> 3.3. Label encoding</font>"
   ]
  },
  {
   "cell_type": "markdown",
   "metadata": {},
   "source": [
    "\n",
    "In this section, we delve into label encoding, a crucial preprocessing step for preparing categorical labels for use in machine learning models. Specifically for binary classification tasks, label encoding involves transforming categorical labels into a binary format, represented by the integers 0 and 1."
   ]
  },
  {
   "cell_type": "code",
   "execution_count": 13,
   "metadata": {},
   "outputs": [
    {
     "data": {
      "text/plain": [
       "(150, 5)"
      ]
     },
     "execution_count": 13,
     "metadata": {},
     "output_type": "execute_result"
    }
   ],
   "source": [
    "df.shape"
   ]
  },
  {
   "cell_type": "code",
   "execution_count": 14,
   "metadata": {},
   "outputs": [
    {
     "data": {
      "text/html": [
       "<div>\n",
       "<style scoped>\n",
       "    .dataframe tbody tr th:only-of-type {\n",
       "        vertical-align: middle;\n",
       "    }\n",
       "\n",
       "    .dataframe tbody tr th {\n",
       "        vertical-align: top;\n",
       "    }\n",
       "\n",
       "    .dataframe thead th {\n",
       "        text-align: right;\n",
       "    }\n",
       "</style>\n",
       "<table border=\"1\" class=\"dataframe\">\n",
       "  <thead>\n",
       "    <tr style=\"text-align: right;\">\n",
       "      <th></th>\n",
       "      <th>SepalLength</th>\n",
       "      <th>SepalWidth</th>\n",
       "      <th>PetalLength</th>\n",
       "      <th>PetalWidth</th>\n",
       "      <th>class</th>\n",
       "    </tr>\n",
       "  </thead>\n",
       "  <tbody>\n",
       "    <tr>\n",
       "      <th>0</th>\n",
       "      <td>5.1</td>\n",
       "      <td>3.5</td>\n",
       "      <td>1.4</td>\n",
       "      <td>0.2</td>\n",
       "      <td>0</td>\n",
       "    </tr>\n",
       "    <tr>\n",
       "      <th>1</th>\n",
       "      <td>4.9</td>\n",
       "      <td>3.0</td>\n",
       "      <td>1.4</td>\n",
       "      <td>0.2</td>\n",
       "      <td>0</td>\n",
       "    </tr>\n",
       "    <tr>\n",
       "      <th>2</th>\n",
       "      <td>4.7</td>\n",
       "      <td>3.2</td>\n",
       "      <td>1.3</td>\n",
       "      <td>0.2</td>\n",
       "      <td>0</td>\n",
       "    </tr>\n",
       "    <tr>\n",
       "      <th>3</th>\n",
       "      <td>4.6</td>\n",
       "      <td>3.1</td>\n",
       "      <td>1.5</td>\n",
       "      <td>0.2</td>\n",
       "      <td>0</td>\n",
       "    </tr>\n",
       "    <tr>\n",
       "      <th>4</th>\n",
       "      <td>5.0</td>\n",
       "      <td>3.6</td>\n",
       "      <td>1.4</td>\n",
       "      <td>0.2</td>\n",
       "      <td>0</td>\n",
       "    </tr>\n",
       "    <tr>\n",
       "      <th>...</th>\n",
       "      <td>...</td>\n",
       "      <td>...</td>\n",
       "      <td>...</td>\n",
       "      <td>...</td>\n",
       "      <td>...</td>\n",
       "    </tr>\n",
       "    <tr>\n",
       "      <th>145</th>\n",
       "      <td>6.7</td>\n",
       "      <td>3.0</td>\n",
       "      <td>5.2</td>\n",
       "      <td>2.3</td>\n",
       "      <td>2</td>\n",
       "    </tr>\n",
       "    <tr>\n",
       "      <th>146</th>\n",
       "      <td>6.3</td>\n",
       "      <td>2.5</td>\n",
       "      <td>5.0</td>\n",
       "      <td>1.9</td>\n",
       "      <td>2</td>\n",
       "    </tr>\n",
       "    <tr>\n",
       "      <th>147</th>\n",
       "      <td>6.5</td>\n",
       "      <td>3.0</td>\n",
       "      <td>5.2</td>\n",
       "      <td>2.0</td>\n",
       "      <td>2</td>\n",
       "    </tr>\n",
       "    <tr>\n",
       "      <th>148</th>\n",
       "      <td>6.2</td>\n",
       "      <td>3.4</td>\n",
       "      <td>5.4</td>\n",
       "      <td>2.3</td>\n",
       "      <td>2</td>\n",
       "    </tr>\n",
       "    <tr>\n",
       "      <th>149</th>\n",
       "      <td>5.9</td>\n",
       "      <td>3.0</td>\n",
       "      <td>5.1</td>\n",
       "      <td>1.8</td>\n",
       "      <td>2</td>\n",
       "    </tr>\n",
       "  </tbody>\n",
       "</table>\n",
       "<p>150 rows × 5 columns</p>\n",
       "</div>"
      ],
      "text/plain": [
       "     SepalLength  SepalWidth  PetalLength  PetalWidth  class\n",
       "0            5.1         3.5          1.4         0.2      0\n",
       "1            4.9         3.0          1.4         0.2      0\n",
       "2            4.7         3.2          1.3         0.2      0\n",
       "3            4.6         3.1          1.5         0.2      0\n",
       "4            5.0         3.6          1.4         0.2      0\n",
       "..           ...         ...          ...         ...    ...\n",
       "145          6.7         3.0          5.2         2.3      2\n",
       "146          6.3         2.5          5.0         1.9      2\n",
       "147          6.5         3.0          5.2         2.0      2\n",
       "148          6.2         3.4          5.4         2.3      2\n",
       "149          5.9         3.0          5.1         1.8      2\n",
       "\n",
       "[150 rows x 5 columns]"
      ]
     },
     "execution_count": 14,
     "metadata": {},
     "output_type": "execute_result"
    }
   ],
   "source": [
    "from sklearn.preprocessing import LabelEncoder\n",
    "encoder = LabelEncoder()\n",
    "df['class'] = encoder.fit_transform(df['class'])\n",
    "df"
   ]
  },
  {
   "cell_type": "markdown",
   "metadata": {
    "id": "pLzynCxOpHBX"
   },
   "source": [
    "---\n",
    "<a id=\"section33\"></a>\n",
    "# <font color=\"#004D7F\" size=5> 3.3. Generate images</font>"
   ]
  },
  {
   "cell_type": "markdown",
   "metadata": {},
   "source": [
    "Now we can generate the images with the `generateImages()` generic function. Likewise, we create a dataset that will have the path of each of the samples with the corresponding image created for it. \n",
    "\n",
    "Note that each image is created based on a row, therefore, each numerical sample of the dataset will correspond to a particular image. In other words, we will have the same number of images as samples/rows."
   ]
  },
  {
   "cell_type": "code",
   "execution_count": 15,
   "metadata": {},
   "outputs": [
    {
     "name": "stdout",
     "output_type": "stream",
     "text": [
      "Iris_SuperTML/supervised.csv\n"
     ]
    }
   ],
   "source": [
    "import os\n",
    "\n",
    "# Generate the images if the folder does not exist\n",
    "if not os.path.exists(images_folder):\n",
    "    #Generate thet images\n",
    "    image_model.generateImages(df, images_folder)\n",
    "else:\n",
    "    print(\"The images are already generated\")\n",
    "\n",
    "img_paths = os.path.join(images_folder,problem_type+\".csv\")\n",
    "\n",
    "print(img_paths)"
   ]
  },
  {
   "cell_type": "markdown",
   "metadata": {
    "id": "klS9PZsUjpDV"
   },
   "source": [
    "<a id=\"section34\"></a>\n",
    "# <font color=\"#004D7F\" size=5> 3.4. Read images</font>"
   ]
  },
  {
   "cell_type": "markdown",
   "metadata": {
    "id": "COh9Th5jsDei"
   },
   "source": [
    "Once the images have been created we can read them. In this particular case, by using a pure CNN, we will use the images only to train our model."
   ]
  },
  {
   "cell_type": "code",
   "execution_count": 16,
   "metadata": {},
   "outputs": [
    {
     "data": {
      "text/html": [
       "<div>\n",
       "<style scoped>\n",
       "    .dataframe tbody tr th:only-of-type {\n",
       "        vertical-align: middle;\n",
       "    }\n",
       "\n",
       "    .dataframe tbody tr th {\n",
       "        vertical-align: top;\n",
       "    }\n",
       "\n",
       "    .dataframe thead th {\n",
       "        text-align: right;\n",
       "    }\n",
       "</style>\n",
       "<table border=\"1\" class=\"dataframe\">\n",
       "  <thead>\n",
       "    <tr style=\"text-align: right;\">\n",
       "      <th></th>\n",
       "      <th>SepalLength</th>\n",
       "      <th>SepalWidth</th>\n",
       "      <th>PetalLength</th>\n",
       "      <th>PetalWidth</th>\n",
       "      <th>class</th>\n",
       "    </tr>\n",
       "  </thead>\n",
       "  <tbody>\n",
       "    <tr>\n",
       "      <th>0</th>\n",
       "      <td>5.1</td>\n",
       "      <td>3.5</td>\n",
       "      <td>1.4</td>\n",
       "      <td>0.2</td>\n",
       "      <td>0</td>\n",
       "    </tr>\n",
       "    <tr>\n",
       "      <th>1</th>\n",
       "      <td>4.9</td>\n",
       "      <td>3.0</td>\n",
       "      <td>1.4</td>\n",
       "      <td>0.2</td>\n",
       "      <td>0</td>\n",
       "    </tr>\n",
       "    <tr>\n",
       "      <th>2</th>\n",
       "      <td>4.7</td>\n",
       "      <td>3.2</td>\n",
       "      <td>1.3</td>\n",
       "      <td>0.2</td>\n",
       "      <td>0</td>\n",
       "    </tr>\n",
       "    <tr>\n",
       "      <th>3</th>\n",
       "      <td>4.6</td>\n",
       "      <td>3.1</td>\n",
       "      <td>1.5</td>\n",
       "      <td>0.2</td>\n",
       "      <td>0</td>\n",
       "    </tr>\n",
       "    <tr>\n",
       "      <th>4</th>\n",
       "      <td>5.0</td>\n",
       "      <td>3.6</td>\n",
       "      <td>1.4</td>\n",
       "      <td>0.2</td>\n",
       "      <td>0</td>\n",
       "    </tr>\n",
       "    <tr>\n",
       "      <th>...</th>\n",
       "      <td>...</td>\n",
       "      <td>...</td>\n",
       "      <td>...</td>\n",
       "      <td>...</td>\n",
       "      <td>...</td>\n",
       "    </tr>\n",
       "    <tr>\n",
       "      <th>145</th>\n",
       "      <td>6.7</td>\n",
       "      <td>3.0</td>\n",
       "      <td>5.2</td>\n",
       "      <td>2.3</td>\n",
       "      <td>2</td>\n",
       "    </tr>\n",
       "    <tr>\n",
       "      <th>146</th>\n",
       "      <td>6.3</td>\n",
       "      <td>2.5</td>\n",
       "      <td>5.0</td>\n",
       "      <td>1.9</td>\n",
       "      <td>2</td>\n",
       "    </tr>\n",
       "    <tr>\n",
       "      <th>147</th>\n",
       "      <td>6.5</td>\n",
       "      <td>3.0</td>\n",
       "      <td>5.2</td>\n",
       "      <td>2.0</td>\n",
       "      <td>2</td>\n",
       "    </tr>\n",
       "    <tr>\n",
       "      <th>148</th>\n",
       "      <td>6.2</td>\n",
       "      <td>3.4</td>\n",
       "      <td>5.4</td>\n",
       "      <td>2.3</td>\n",
       "      <td>2</td>\n",
       "    </tr>\n",
       "    <tr>\n",
       "      <th>149</th>\n",
       "      <td>5.9</td>\n",
       "      <td>3.0</td>\n",
       "      <td>5.1</td>\n",
       "      <td>1.8</td>\n",
       "      <td>2</td>\n",
       "    </tr>\n",
       "  </tbody>\n",
       "</table>\n",
       "<p>150 rows × 5 columns</p>\n",
       "</div>"
      ],
      "text/plain": [
       "     SepalLength  SepalWidth  PetalLength  PetalWidth  class\n",
       "0            5.1         3.5          1.4         0.2      0\n",
       "1            4.9         3.0          1.4         0.2      0\n",
       "2            4.7         3.2          1.3         0.2      0\n",
       "3            4.6         3.1          1.5         0.2      0\n",
       "4            5.0         3.6          1.4         0.2      0\n",
       "..           ...         ...          ...         ...    ...\n",
       "145          6.7         3.0          5.2         2.3      2\n",
       "146          6.3         2.5          5.0         1.9      2\n",
       "147          6.5         3.0          5.2         2.0      2\n",
       "148          6.2         3.4          5.4         2.3      2\n",
       "149          5.9         3.0          5.1         1.8      2\n",
       "\n",
       "[150 rows x 5 columns]"
      ]
     },
     "execution_count": 16,
     "metadata": {},
     "output_type": "execute_result"
    }
   ],
   "source": [
    "df"
   ]
  },
  {
   "cell_type": "code",
   "execution_count": 17,
   "metadata": {},
   "outputs": [
    {
     "name": "stdout",
     "output_type": "stream",
     "text": [
      "Iris_SuperTML/00/000000.png\n",
      "class\n",
      "0    50\n",
      "1    50\n",
      "2    50\n",
      "Name: count, dtype: int64\n"
     ]
    }
   ],
   "source": [
    "df = pd.read_csv(img_paths)\n",
    "df[\"class\"] = df[\"class\"].astype(str)\n",
    "df[\"images\"]= images_folder + \"/\" + df[\"images\"]\n",
    "\n",
    "print(df[\"images\"][0])\n",
    "print(df[\"class\"].value_counts())"
   ]
  },
  {
   "cell_type": "markdown",
   "metadata": {},
   "source": [
    "---\n",
    "<div style=\"text-align: right\"> <font size=5> <a href=\"#indice\"><i class=\"fa fa-arrow-circle-up\" aria-hidden=\"true\" style=\"color:#004D7F\"></i></a></font></div>\n",
    "\n",
    "---"
   ]
  },
  {
   "cell_type": "markdown",
   "metadata": {},
   "source": [
    "<a id=\"section4\"></a>\n",
    "# <font color=\"#004D7F\" size=6> 4. Pre-modelling phase</font>"
   ]
  },
  {
   "cell_type": "markdown",
   "metadata": {},
   "source": [
    "Once the data is ready, we load it into memory with an iterator in order to pass it to the CNN."
   ]
  },
  {
   "cell_type": "markdown",
   "metadata": {
    "id": "nb4Dd37rjpDm"
   },
   "source": [
    "---\n",
    "<a id=\"section41\"></a>\n",
    "# <font color=\"#004D7F\" size=5> 4.1. Data curation</font>"
   ]
  },
  {
   "cell_type": "markdown",
   "metadata": {
    "id": "9TjBcUbxjpDt"
   },
   "source": [
    "Split in train/test/validation"
   ]
  },
  {
   "cell_type": "code",
   "execution_count": 18,
   "metadata": {
    "id": "BDyHty4-pjF5",
    "tags": []
   },
   "outputs": [],
   "source": [
    "df_x = df.drop('class', axis = 1)\n",
    "df_y = df['class']\n",
    "\n",
    "X_train, X_val, y_train, y_val = train_test_split(df_x, df_y, test_size = 0.40, random_state=SEED, stratify=df_y)\n",
    "X_val, X_test, y_val, y_test = train_test_split(X_val, y_val, test_size = 0.50, random_state=SEED, stratify=y_val)\n"
   ]
  },
  {
   "cell_type": "code",
   "execution_count": 19,
   "metadata": {},
   "outputs": [
    {
     "data": {
      "text/plain": [
       "32     0\n",
       "66     1\n",
       "97     1\n",
       "42     0\n",
       "24     0\n",
       "      ..\n",
       "59     1\n",
       "149    2\n",
       "44     0\n",
       "112    2\n",
       "18     0\n",
       "Name: class, Length: 90, dtype: object"
      ]
     },
     "execution_count": 19,
     "metadata": {},
     "output_type": "execute_result"
    }
   ],
   "source": [
    "y_train"
   ]
  },
  {
   "cell_type": "code",
   "execution_count": 20,
   "metadata": {
    "id": "9Ix84V0ApjF8",
    "tags": []
   },
   "outputs": [],
   "source": [
    "df_train = pd.concat([X_train, y_train], axis = 1)\n",
    "df_test = pd.concat([X_test, y_test], axis = 1)\n",
    "df_val = pd.concat([X_val, y_val], axis = 1)"
   ]
  },
  {
   "cell_type": "code",
   "execution_count": 21,
   "metadata": {
    "colab": {
     "base_uri": "https://localhost:8080/"
    },
    "id": "mnX_etdYpjF9",
    "outputId": "9104166d-9c5c-4ed3-b71b-c9aa23461559",
    "tags": []
   },
   "outputs": [
    {
     "name": "stdout",
     "output_type": "stream",
     "text": [
      "class\n",
      "0    30\n",
      "1    30\n",
      "2    30\n",
      "Name: count, dtype: int64\n",
      " \n",
      " \n",
      "class\n",
      "0    10\n",
      "2    10\n",
      "1    10\n",
      "Name: count, dtype: int64\n",
      " \n",
      " \n",
      "class\n",
      "1    10\n",
      "2    10\n",
      "0    10\n",
      "Name: count, dtype: int64\n"
     ]
    }
   ],
   "source": [
    "print(df_train['class'].value_counts())\n",
    "print(' ')\n",
    "print(' ')\n",
    "print(df_test['class'].value_counts())\n",
    "print(' ')\n",
    "print(' ')\n",
    "print(df_val['class'].value_counts())"
   ]
  },
  {
   "cell_type": "markdown",
   "metadata": {
    "id": "a347tUZnjpED"
   },
   "source": [
    "---\n",
    "<a id=\"section42\"></a>\n",
    "# <font color=\"#004D7F\" size=5> 4.2. Resize images</font>"
   ]
  },
  {
   "cell_type": "markdown",
   "metadata": {
    "id": "xvXLjHzAjpEE"
   },
   "source": [
    "In our case, as we are going to train with a pre-trained network, we must resize it to the dimensions established by the network. Therefore, if you make a customised CNN, this cell is optional. "
   ]
  },
  {
   "cell_type": "code",
   "execution_count": 22,
   "metadata": {
    "id": "Z0Jbdn_ypjF-",
    "tags": []
   },
   "outputs": [],
   "source": [
    "train_datagen = ImageDataGenerator(rescale = 1./255)\n",
    "valid_datagen = ImageDataGenerator(rescale = 1./255)\n",
    "teste_datagen = ImageDataGenerator(rescale = 1./255)"
   ]
  },
  {
   "cell_type": "code",
   "execution_count": 23,
   "metadata": {
    "colab": {
     "base_uri": "https://localhost:8080/"
    },
    "id": "ebOBC5iypjGA",
    "outputId": "e1bf4be0-f486-460e-9bf6-90a7f87b1939",
    "tags": []
   },
   "outputs": [
    {
     "name": "stdout",
     "output_type": "stream",
     "text": [
      "(90, 2)\n",
      "(30, 2)\n",
      "(30, 2)\n"
     ]
    }
   ],
   "source": [
    "print(df_train.shape)\n",
    "print(df_val.shape)\n",
    "print(df_test.shape)"
   ]
  },
  {
   "cell_type": "markdown",
   "metadata": {
    "id": "NjFY9rn2jpEL"
   },
   "source": [
    "---\n",
    "<a id=\"section43\"></a>\n",
    "# <font color=\"#004D7F\" size=5> 4.3. Iterators</font>"
   ]
  },
  {
   "cell_type": "markdown",
   "metadata": {},
   "source": [
    "Note that each method generates images of **different pixel size**. For example:\n",
    "- `TINTO` method has a parameter that you can specify the size in pixels which by default is 20. \n",
    "- Other parameters such as `Combined` generates the size automatically and you must obtain them from the _shape_ of the images."
   ]
  },
  {
   "cell_type": "markdown",
   "metadata": {},
   "source": [
    "<div class=\"alert alert-block alert-info\">\n",
    "\n",
    "<i class=\"fa fa-info-circle\" aria-hidden=\"true\"></i>\n",
    "You can see all information about TINTOlib documentation in [PyPI](https://tintolib.readthedocs.io/en/latest/installation.html)"
   ]
  },
  {
   "cell_type": "markdown",
   "metadata": {
    "id": "GFYTHIPljpEM"
   },
   "source": [
    "Create iterators for train/test/validation"
   ]
  },
  {
   "cell_type": "markdown",
   "metadata": {},
   "source": [
    "<div class=\"alert alert-block alert-info\">\n",
    "\n",
    "<i class=\"fa fa-info-circle\" aria-hidden=\"true\"></i>\n",
    "💡 **Importante**: Depending on the transformation method, it may perform a transformation to a size that may not be specified by the user such as TINTO. Therefore, you may need to modify the `pixel` variable.\n"
   ]
  },
  {
   "cell_type": "code",
   "execution_count": 17,
   "metadata": {},
   "outputs": [],
   "source": [
    "pixel=14"
   ]
  },
  {
   "cell_type": "code",
   "execution_count": 25,
   "metadata": {},
   "outputs": [],
   "source": [
    "#df_train"
   ]
  },
  {
   "cell_type": "code",
   "execution_count": 26,
   "metadata": {
    "colab": {
     "base_uri": "https://localhost:8080/"
    },
    "id": "inaR7-KxpjGC",
    "outputId": "21305649-6133-43b8-c3cf-b6fa3faa5573",
    "tags": []
   },
   "outputs": [
    {
     "name": "stdout",
     "output_type": "stream",
     "text": [
      "Found 90 validated image filenames belonging to 3 classes.\n"
     ]
    }
   ],
   "source": [
    "train_iter = train_datagen.flow_from_dataframe(\n",
    "    df_train, \n",
    "    target_size = (pixel, pixel),\n",
    "    x_col = 'images',\n",
    "    y_col = 'class',\n",
    "    class_mode = 'categorical',\n",
    "    #class_mode = 'binary',\n",
    "    #color_mode='grayscale',\n",
    "    color_mode='rgb',\n",
    "    batch_size = 8,\n",
    "    shuffle = True\n",
    ")"
   ]
  },
  {
   "cell_type": "code",
   "execution_count": 27,
   "metadata": {
    "colab": {
     "base_uri": "https://localhost:8080/"
    },
    "id": "MGPDhsFQpjGE",
    "outputId": "e473d2ba-806a-4a48-c530-2d91305bd9ad",
    "tags": []
   },
   "outputs": [
    {
     "name": "stdout",
     "output_type": "stream",
     "text": [
      "Found 30 validated image filenames belonging to 3 classes.\n"
     ]
    }
   ],
   "source": [
    "valid_iter = train_datagen.flow_from_dataframe(\n",
    "    df_val, \n",
    "    target_size = (pixel, pixel),\n",
    "    x_col = 'images',\n",
    "    y_col = 'class',\n",
    "    class_mode = 'categorical',\n",
    "    #class_mode = 'binary',\n",
    "    #color_mode='grayscale',\n",
    "    color_mode='rgb',\n",
    "    batch_size = 8,\n",
    "    shuffle = False\n",
    ")"
   ]
  },
  {
   "cell_type": "code",
   "execution_count": 28,
   "metadata": {
    "colab": {
     "base_uri": "https://localhost:8080/"
    },
    "id": "jkWY-9y3pjGF",
    "outputId": "2942429a-0a1f-4a68-91c2-ebd8dc797b8e",
    "tags": []
   },
   "outputs": [
    {
     "name": "stdout",
     "output_type": "stream",
     "text": [
      "Found 30 validated image filenames belonging to 3 classes.\n"
     ]
    }
   ],
   "source": [
    "test_iter = train_datagen.flow_from_dataframe(\n",
    "    df_test, \n",
    "    target_size = (pixel, pixel),\n",
    "    x_col = 'images',\n",
    "    y_col = 'class',\n",
    "    class_mode = 'categorical',\n",
    "    #class_mode = 'binary',\n",
    "    #color_mode='grayscale',\n",
    "    color_mode='rgb',\n",
    "    batch_size = 8,\n",
    "    shuffle = False\n",
    ")"
   ]
  },
  {
   "cell_type": "code",
   "execution_count": 29,
   "metadata": {
    "colab": {
     "base_uri": "https://localhost:8080/"
    },
    "id": "3YzRGsb9pjGG",
    "outputId": "1edff292-1127-40d6-b68f-1e6a4d92be32",
    "tags": []
   },
   "outputs": [
    {
     "name": "stdout",
     "output_type": "stream",
     "text": [
      "(20, 20, 3)\n",
      "(20, 20, 3)\n",
      "(20, 20, 3)\n"
     ]
    }
   ],
   "source": [
    "print(train_iter.image_shape)\n",
    "print(valid_iter.image_shape)\n",
    "print(test_iter.image_shape)"
   ]
  },
  {
   "cell_type": "markdown",
   "metadata": {
    "id": "xagy7N7ijpEX"
   },
   "source": [
    "---\n",
    "<div style=\"text-align: right\"> <font size=5> <a href=\"#indice\"><i class=\"fa fa-arrow-circle-up\" aria-hidden=\"true\" style=\"color:#004D7F\"></i></a></font></div>\n",
    "\n",
    "---"
   ]
  },
  {
   "cell_type": "markdown",
   "metadata": {
    "id": "rE0VunQYjpEY"
   },
   "source": [
    "<a id=\"section5\"></a>\n",
    "# <font color=\"#004D7F\" size=6> 5. Modelling with CNN</font>"
   ]
  },
  {
   "cell_type": "markdown",
   "metadata": {
    "id": "MDfs9l-hjpEZ"
   },
   "source": [
    "Now we can start the CNN training. Before that we prepare the algorithm for reading data."
   ]
  },
  {
   "cell_type": "markdown",
   "metadata": {
    "id": "Qn2U90FwjpEe"
   },
   "source": [
    "<a id=\"section51\"></a>\n",
    "# <font color=\"#004D7F\" size=5> 5.1. CNN</font>"
   ]
  },
  {
   "cell_type": "markdown",
   "metadata": {},
   "source": [
    "This is an example of a simple CNN. Note that we are not looking for the optimization of the CNN but to show an example of TINTOlib execution."
   ]
  },
  {
   "cell_type": "code",
   "execution_count": 30,
   "metadata": {
    "id": "tZl0AETUw1r8"
   },
   "outputs": [],
   "source": [
    "dropout = 0.2\n",
    "epochs = 100\n",
    "n_class = df['class'].value_counts().count()"
   ]
  },
  {
   "cell_type": "markdown",
   "metadata": {},
   "source": [
    "<div class=\"alert alert-block alert-info\">\n",
    "\n",
    "<i class=\"fa fa-info-circle\" aria-hidden=\"true\"></i>\n",
    "💡 **Important**: `padding=\"same\"` is very important to avoid losing the first/last row/column of pixels. Keep in mind that the images have a small size.\n"
   ]
  },
  {
   "cell_type": "code",
   "execution_count": 31,
   "metadata": {},
   "outputs": [
    {
     "name": "stderr",
     "output_type": "stream",
     "text": [
      "2024-11-28 15:46:51.950763: I metal_plugin/src/device/metal_device.cc:1154] Metal device set to: Apple M3 Pro\n",
      "2024-11-28 15:46:51.950789: I metal_plugin/src/device/metal_device.cc:296] systemMemory: 36.00 GB\n",
      "2024-11-28 15:46:51.950796: I metal_plugin/src/device/metal_device.cc:313] maxCacheSize: 13.50 GB\n",
      "2024-11-28 15:46:51.950814: I tensorflow/core/common_runtime/pluggable_device/pluggable_device_factory.cc:305] Could not identify NUMA node of platform GPU ID 0, defaulting to 0. Your kernel may not have been built with NUMA support.\n",
      "2024-11-28 15:46:51.950844: I tensorflow/core/common_runtime/pluggable_device/pluggable_device_factory.cc:271] Created TensorFlow device (/job:localhost/replica:0/task:0/device:GPU:0 with 0 MB memory) -> physical PluggableDevice (device: 0, name: METAL, pci bus id: <undefined>)\n"
     ]
    }
   ],
   "source": [
    "#Entrada\n",
    "input_shape = Input(shape=(pixel, pixel,3))\n",
    "        \n",
    "#Inicio de rama 1\n",
    "tower_1 = Conv2D(16, (3,3), activation='relu',padding=\"same\")(input_shape)\n",
    "tower_1 = BatchNormalization()(tower_1)\n",
    "tower_1 = Activation('relu')(tower_1)\n",
    "tower_1 = MaxPooling2D(2,2)(tower_1)\n",
    "#tower_1 = Dropout(0.5)(tower_1)\n",
    "        \n",
    "tower_1 = Conv2D(32, (3,3), activation='relu',padding=\"same\")(tower_1)\n",
    "tower_1 = BatchNormalization()(tower_1)\n",
    "tower_1 = Activation('relu')(tower_1)\n",
    "tower_1 = MaxPooling2D(2,2)(tower_1)\n",
    "#tower_1 = Dropou(0.5)(tower_1)\n",
    "        \n",
    "tower_1 = Conv2D(64, (3,3), activation='relu',padding=\"same\")(tower_1)\n",
    "tower_1 = BatchNormalization()(tower_1)\n",
    "tower_1 = Activation('relu')(tower_1)\n",
    "tower_1 = MaxPooling2D(2,2)(tower_1)\n",
    "#tower_1 = Dropou(0.5)(tower_1)\n",
    "        \n",
    "#tower_1 = Conv2D(64, (3,3), activation='relu',padding=\"same\")(tower_1)\n",
    "#tower_1 = BatchNormalization()(tower_1)\n",
    "#tower_1 = Activation('relu')(tower_1)\n",
    "#tower_1 = MaxPooling2D(2,2)(tower_1)\n",
    "#tower_1 = Dropou(0.5)(tower_1)\n",
    "#Fin de rama 1\n",
    "        \n",
    "#Inicio de rama 2\n",
    "tower_2 = Conv2D(16, (5,5), activation='relu',padding=\"same\")(input_shape)\n",
    "tower_2 = BatchNormalization()(tower_2)\n",
    "tower_2 = Activation('relu')(tower_2)\n",
    "tower_2 = AveragePooling2D(2,2)(tower_2)\n",
    "#tower_2 = Dropou(0.5)(tower_2)\n",
    "        \n",
    "tower_2 = Conv2D(32, (5,5), activation='relu',padding=\"same\")(tower_2)\n",
    "tower_2 = BatchNormalization()(tower_2)\n",
    "tower_2 = Activation('relu')(tower_2)\n",
    "tower_2 = AveragePooling2D(2,2)(tower_2)\n",
    "#tower_2 = Dropou(0.5)(tower_2)\n",
    "        \n",
    "tower_2 = Conv2D(64, (5,5), activation='relu',padding=\"same\")(tower_2)\n",
    "tower_2 = BatchNormalization()(tower_2)\n",
    "tower_2 = Activation('relu')(tower_2)\n",
    "tower_2 = AveragePooling2D(2,2)(tower_2)\n",
    "#tower_2 = Dropou(0.5)(tower_2)\n",
    "        \n",
    "#tower_2 = Conv2D(64, (5,5), activation='relu',padding=\"same\")(tower_2)\n",
    "#tower_2 = BatchNormalization()(tower_2)\n",
    "#tower_2 = Activation('relu')(tower_2)\n",
    "#tower_2 = AveragePooling2D(2,2)(tower_2)\n",
    "#tower_2 = Dropou(0.5)(tower_2)\n",
    "#Fin de rama 2\n",
    "            \n",
    "#Concatenación de las 2 ramas\n",
    "merged = Concatenate(axis=1)([tower_1, tower_2])\n",
    "        \n",
    "#Aplanamiento\n",
    "merged = Flatten()(merged)\n",
    "        \n",
    "#Capas adicionales\n",
    "out = Dense(256, activation='relu')(merged)\n",
    "out = Dense(128, activation='sigmoid')(out)\n",
    "#out = Dense(64, activation='sigmoid')(out)\n",
    "out = Dense(32, activation='sigmoid')(out)\n",
    "        \n",
    "#Capa final de clasificación\n",
    "out = Dense(n_class, activation='softmax')(out)\n",
    "#out = Dense(1, activation='sigmoid')(out)\n",
    "        \n",
    "model = Model(input_shape, out)"
   ]
  },
  {
   "cell_type": "code",
   "execution_count": 32,
   "metadata": {},
   "outputs": [
    {
     "data": {
      "text/html": [
       "<pre style=\"white-space:pre;overflow-x:auto;line-height:normal;font-family:Menlo,'DejaVu Sans Mono',consolas,'Courier New',monospace\"></pre>\n"
      ],
      "text/plain": []
     },
     "metadata": {},
     "output_type": "display_data"
    },
    {
     "data": {
      "text/plain": [
       "<contextlib.ExitStack at 0x111d83700>"
      ]
     },
     "execution_count": 32,
     "metadata": {},
     "output_type": "execute_result"
    }
   ],
   "source": [
    "os.makedirs(results_folder, exist_ok=True)\n",
    "\n",
    "# Redirect the summary output to the specified file\n",
    "with open(results_folder+\"/model_summary.txt\", \"w\") as f:\n",
    "    model.summary(print_fn=lambda x: f.write(x + '\\n'))\n",
    "\n",
    "# Desactivar la visualización automática de matplotlib\n",
    "plt.ioff()\n",
    "# Now, you can also save the model plot\n",
    "plot_model(model, to_file=results_folder+'model_plot.png', show_shapes=True, expand_nested=True)\n",
    "# Reactivar la visualización automática de matplotlib (opcional)\n",
    "plt.ion()"
   ]
  },
  {
   "cell_type": "code",
   "execution_count": 33,
   "metadata": {
    "id": "DC3Ft7sppjGI",
    "tags": []
   },
   "outputs": [],
   "source": [
    "METRICS = [\n",
    "      tf.keras.metrics.TruePositives(name = 'tp'),\n",
    "      tf.keras.metrics.FalsePositives(name = 'fp'),\n",
    "      tf.keras.metrics.TrueNegatives(name = 'tn'),\n",
    "      tf.keras.metrics.FalseNegatives(name = 'fn'), \n",
    "      tf.keras.metrics.BinaryAccuracy(name ='accuracy'),\n",
    "      tf.keras.metrics.Precision(name = 'precision'),\n",
    "      tf.keras.metrics.Recall(name = 'recall'),\n",
    "      tf.keras.metrics.AUC(name = 'auc'),\n",
    "]"
   ]
  },
  {
   "cell_type": "markdown",
   "metadata": {
    "id": "owmN8gR-jpEh"
   },
   "source": [
    "<a id=\"section52\"></a>\n",
    "# <font color=\"#004D7F\" size=5> 5.2. Compile and fit</font>"
   ]
  },
  {
   "cell_type": "markdown",
   "metadata": {},
   "source": [
    "Note to **specify the loss** depending on whether you have a binary or multiclass classification problem."
   ]
  },
  {
   "cell_type": "code",
   "execution_count": 34,
   "metadata": {
    "id": "RFxZU2q6pjGJ",
    "tags": []
   },
   "outputs": [],
   "source": [
    "#opt = Adam(learning_rate=1e-3)\n",
    "model.compile(\n",
    "                #optimizer = sgd,\n",
    "                optimizer = 'adam',\n",
    "                #optimizer = 'Adadelta',\n",
    "                #optimizer = 'Adamax',\n",
    "                #optimizer = opt,\n",
    "                metrics = METRICS,\n",
    "                #metrics = ['accuracy'],\n",
    "                \n",
    "                #loss = 'binary_crossentropy'\n",
    "                loss = 'categorical_crossentropy'\n",
    "                )"
   ]
  },
  {
   "cell_type": "code",
   "execution_count": 35,
   "metadata": {},
   "outputs": [],
   "source": [
    "# Configure EarlyStopping for binary classification\n",
    "early_stopper = tf.keras.callbacks.EarlyStopping(\n",
    "    monitor='val_loss',  # Monitor the validation accuracy\n",
    "    min_delta=0.001,         # Minimum change in the monitored quantity to qualify as an improvement\n",
    "    patience=20,             # Number of epochs with no improvement after which training will be stopped\n",
    "    verbose=1,               # Log when training stops\n",
    "    mode='min',              # Maximize the accuracy; min the loss\n",
    "    restore_best_weights=True  # Restore model weights from the epoch with the best value of the monitored quantity\n",
    ")"
   ]
  },
  {
   "cell_type": "code",
   "execution_count": 36,
   "metadata": {
    "scrolled": true
   },
   "outputs": [
    {
     "name": "stdout",
     "output_type": "stream",
     "text": [
      "Epoch 1/100\n"
     ]
    },
    {
     "name": "stderr",
     "output_type": "stream",
     "text": [
      "/Users/manwest/Library/Python/3.9/lib/python/site-packages/keras/src/trainers/data_adapters/py_dataset_adapter.py:121: UserWarning: Your `PyDataset` class should call `super().__init__(**kwargs)` in its constructor. `**kwargs` can include `workers`, `use_multiprocessing`, `max_queue_size`. Do not pass these arguments to `fit()`, as they will be ignored.\n",
      "  self._warn_if_super_not_called()\n",
      "2024-11-28 15:52:03.726439: I tensorflow/core/grappler/optimizers/custom_graph_optimizer_registry.cc:117] Plugin optimizer for device_type GPU is enabled.\n"
     ]
    },
    {
     "name": "stdout",
     "output_type": "stream",
     "text": [
      "\u001b[1m12/12\u001b[0m \u001b[32m━━━━━━━━━━━━━━━━━━━━\u001b[0m\u001b[37m\u001b[0m \u001b[1m7s\u001b[0m 246ms/step - accuracy: 0.6168 - auc: 0.6558 - fn: 34.5385 - fp: 14.6154 - loss: 1.0507 - precision: 0.4344 - recall: 0.2793 - tn: 84.1538 - tp: 14.8462 - val_accuracy: 0.6667 - val_auc: 0.5722 - val_fn: 30.0000 - val_fp: 0.0000e+00 - val_loss: 1.1487 - val_precision: 0.0000e+00 - val_recall: 0.0000e+00 - val_tn: 60.0000 - val_tp: 0.0000e+00\n",
      "Epoch 2/100\n",
      "\u001b[1m12/12\u001b[0m \u001b[32m━━━━━━━━━━━━━━━━━━━━\u001b[0m\u001b[37m\u001b[0m \u001b[1m1s\u001b[0m 91ms/step - accuracy: 0.7596 - auc: 0.8742 - fn: 32.7692 - fp: 6.3077 - loss: 0.7159 - precision: 0.8186 - recall: 0.3740 - tn: 99.8462 - tp: 20.3077 - val_accuracy: 0.6667 - val_auc: 0.6028 - val_fn: 30.0000 - val_fp: 0.0000e+00 - val_loss: 1.1209 - val_precision: 0.0000e+00 - val_recall: 0.0000e+00 - val_tn: 60.0000 - val_tp: 0.0000e+00\n",
      "Epoch 3/100\n",
      "\u001b[1m12/12\u001b[0m \u001b[32m━━━━━━━━━━━━━━━━━━━━\u001b[0m\u001b[37m\u001b[0m \u001b[1m1s\u001b[0m 85ms/step - accuracy: 0.7768 - auc: 0.9106 - fn: 26.8462 - fp: 7.3846 - loss: 0.5647 - precision: 0.8586 - recall: 0.4276 - tn: 95.0769 - tp: 24.3846 - val_accuracy: 0.5556 - val_auc: 0.6056 - val_fn: 20.0000 - val_fp: 20.0000 - val_loss: 1.1867 - val_precision: 0.3333 - val_recall: 0.3333 - val_tn: 40.0000 - val_tp: 10.0000\n",
      "Epoch 4/100\n",
      "\u001b[1m12/12\u001b[0m \u001b[32m━━━━━━━━━━━━━━━━━━━━\u001b[0m\u001b[37m\u001b[0m \u001b[1m1s\u001b[0m 95ms/step - accuracy: 0.7451 - auc: 0.8682 - fn: 21.9231 - fp: 16.9231 - loss: 0.5644 - precision: 0.6288 - recall: 0.5886 - tn: 92.0000 - tp: 32.5385 - val_accuracy: 0.5556 - val_auc: 0.6139 - val_fn: 20.0000 - val_fp: 20.0000 - val_loss: 1.2852 - val_precision: 0.3333 - val_recall: 0.3333 - val_tn: 40.0000 - val_tp: 10.0000\n",
      "Epoch 5/100\n",
      "\u001b[1m12/12\u001b[0m \u001b[32m━━━━━━━━━━━━━━━━━━━━\u001b[0m\u001b[37m\u001b[0m \u001b[1m1s\u001b[0m 77ms/step - accuracy: 0.7736 - auc: 0.9207 - fn: 30.0769 - fp: 5.4615 - loss: 0.5111 - precision: 0.8749 - recall: 0.3936 - tn: 100.6923 - tp: 23.0000 - val_accuracy: 0.5556 - val_auc: 0.6103 - val_fn: 20.0000 - val_fp: 20.0000 - val_loss: 1.3921 - val_precision: 0.3333 - val_recall: 0.3333 - val_tn: 40.0000 - val_tp: 10.0000\n",
      "Epoch 6/100\n",
      "\u001b[1m12/12\u001b[0m \u001b[32m━━━━━━━━━━━━━━━━━━━━\u001b[0m\u001b[37m\u001b[0m \u001b[1m1s\u001b[0m 76ms/step - accuracy: 0.8081 - auc: 0.9206 - fn: 25.3077 - fp: 7.1538 - loss: 0.4647 - precision: 0.8167 - recall: 0.5445 - tn: 99.0000 - tp: 27.7692 - val_accuracy: 0.5556 - val_auc: 0.6067 - val_fn: 20.0000 - val_fp: 20.0000 - val_loss: 1.5128 - val_precision: 0.3333 - val_recall: 0.3333 - val_tn: 40.0000 - val_tp: 10.0000\n",
      "Epoch 7/100\n",
      "\u001b[1m12/12\u001b[0m \u001b[32m━━━━━━━━━━━━━━━━━━━━\u001b[0m\u001b[37m\u001b[0m \u001b[1m1s\u001b[0m 75ms/step - accuracy: 0.8411 - auc: 0.9199 - fn: 13.0769 - fp: 10.9231 - loss: 0.4865 - precision: 0.7716 - recall: 0.7445 - tn: 98.0000 - tp: 41.3846 - val_accuracy: 0.5556 - val_auc: 0.6294 - val_fn: 20.0000 - val_fp: 20.0000 - val_loss: 1.5608 - val_precision: 0.3333 - val_recall: 0.3333 - val_tn: 40.0000 - val_tp: 10.0000\n",
      "Epoch 8/100\n",
      "\u001b[1m12/12\u001b[0m \u001b[32m━━━━━━━━━━━━━━━━━━━━\u001b[0m\u001b[37m\u001b[0m \u001b[1m1s\u001b[0m 74ms/step - accuracy: 0.7652 - auc: 0.8596 - fn: 19.1538 - fp: 18.3077 - loss: 0.5731 - precision: 0.6508 - recall: 0.6396 - tn: 89.6923 - tp: 34.8462 - val_accuracy: 0.5556 - val_auc: 0.6175 - val_fn: 20.0000 - val_fp: 20.0000 - val_loss: 1.2995 - val_precision: 0.3333 - val_recall: 0.3333 - val_tn: 40.0000 - val_tp: 10.0000\n",
      "Epoch 9/100\n",
      "\u001b[1m12/12\u001b[0m \u001b[32m━━━━━━━━━━━━━━━━━━━━\u001b[0m\u001b[37m\u001b[0m \u001b[1m1s\u001b[0m 74ms/step - accuracy: 0.7693 - auc: 0.8820 - fn: 21.3077 - fp: 15.3077 - loss: 0.5143 - precision: 0.6798 - recall: 0.5852 - tn: 89.0000 - tp: 30.8462 - val_accuracy: 0.5556 - val_auc: 0.6272 - val_fn: 20.0000 - val_fp: 20.0000 - val_loss: 1.4415 - val_precision: 0.3333 - val_recall: 0.3333 - val_tn: 40.0000 - val_tp: 10.0000\n",
      "Epoch 10/100\n",
      "\u001b[1m12/12\u001b[0m \u001b[32m━━━━━━━━━━━━━━━━━━━━\u001b[0m\u001b[37m\u001b[0m \u001b[1m1s\u001b[0m 75ms/step - accuracy: 0.7403 - auc: 0.8717 - fn: 19.6154 - fp: 19.6154 - loss: 0.4974 - precision: 0.6104 - recall: 0.6104 - tn: 89.3077 - tp: 34.8462 - val_accuracy: 0.5556 - val_auc: 0.6358 - val_fn: 20.0000 - val_fp: 20.0000 - val_loss: 1.5253 - val_precision: 0.3333 - val_recall: 0.3333 - val_tn: 40.0000 - val_tp: 10.0000\n",
      "Epoch 11/100\n",
      "\u001b[1m12/12\u001b[0m \u001b[32m━━━━━━━━━━━━━━━━━━━━\u001b[0m\u001b[37m\u001b[0m \u001b[1m1s\u001b[0m 76ms/step - accuracy: 0.7708 - auc: 0.8853 - fn: 18.4615 - fp: 14.7692 - loss: 0.4874 - precision: 0.6671 - recall: 0.6305 - tn: 89.5385 - tp: 33.6923 - val_accuracy: 0.5556 - val_auc: 0.6622 - val_fn: 20.0000 - val_fp: 20.0000 - val_loss: 1.6332 - val_precision: 0.3333 - val_recall: 0.3333 - val_tn: 40.0000 - val_tp: 10.0000\n",
      "Epoch 12/100\n",
      "\u001b[1m12/12\u001b[0m \u001b[32m━━━━━━━━━━━━━━━━━━━━\u001b[0m\u001b[37m\u001b[0m \u001b[1m1s\u001b[0m 75ms/step - accuracy: 0.8330 - auc: 0.9228 - fn: 19.9231 - fp: 9.0000 - loss: 0.4691 - precision: 0.8334 - recall: 0.6319 - tn: 92.5385 - tp: 30.8462 - val_accuracy: 0.5556 - val_auc: 0.6639 - val_fn: 20.0000 - val_fp: 20.0000 - val_loss: 1.6880 - val_precision: 0.3333 - val_recall: 0.3333 - val_tn: 40.0000 - val_tp: 10.0000\n",
      "Epoch 13/100\n",
      "\u001b[1m12/12\u001b[0m \u001b[32m━━━━━━━━━━━━━━━━━━━━\u001b[0m\u001b[37m\u001b[0m \u001b[1m1s\u001b[0m 75ms/step - accuracy: 0.7946 - auc: 0.9140 - fn: 20.5385 - fp: 15.0769 - loss: 0.4512 - precision: 0.7202 - recall: 0.6360 - tn: 89.2308 - tp: 31.6154 - val_accuracy: 0.5556 - val_auc: 0.6664 - val_fn: 20.0000 - val_fp: 20.0000 - val_loss: 1.7953 - val_precision: 0.3333 - val_recall: 0.3333 - val_tn: 40.0000 - val_tp: 10.0000\n",
      "Epoch 14/100\n",
      "\u001b[1m12/12\u001b[0m \u001b[32m━━━━━━━━━━━━━━━━━━━━\u001b[0m\u001b[37m\u001b[0m \u001b[1m1s\u001b[0m 75ms/step - accuracy: 0.8401 - auc: 0.9286 - fn: 14.8462 - fp: 14.3846 - loss: 0.3958 - precision: 0.7611 - recall: 0.7575 - tn: 89.0000 - tp: 36.8462 - val_accuracy: 0.5556 - val_auc: 0.6633 - val_fn: 20.0000 - val_fp: 20.0000 - val_loss: 1.8805 - val_precision: 0.3333 - val_recall: 0.3333 - val_tn: 40.0000 - val_tp: 10.0000\n",
      "Epoch 15/100\n",
      "\u001b[1m12/12\u001b[0m \u001b[32m━━━━━━━━━━━━━━━━━━━━\u001b[0m\u001b[37m\u001b[0m \u001b[1m1s\u001b[0m 75ms/step - accuracy: 0.8208 - auc: 0.9177 - fn: 14.9231 - fp: 11.6154 - loss: 0.4829 - precision: 0.7444 - recall: 0.7045 - tn: 87.1538 - tp: 34.4615 - val_accuracy: 0.5556 - val_auc: 0.6686 - val_fn: 20.0000 - val_fp: 20.0000 - val_loss: 1.8680 - val_precision: 0.3333 - val_recall: 0.3333 - val_tn: 40.0000 - val_tp: 10.0000\n",
      "Epoch 16/100\n",
      "\u001b[1m12/12\u001b[0m \u001b[32m━━━━━━━━━━━━━━━━━━━━\u001b[0m\u001b[37m\u001b[0m \u001b[1m1s\u001b[0m 77ms/step - accuracy: 0.8757 - auc: 0.9572 - fn: 10.0000 - fp: 7.9231 - loss: 0.4007 - precision: 0.8238 - recall: 0.7988 - tn: 91.7692 - tp: 39.8462 - val_accuracy: 0.5556 - val_auc: 0.6653 - val_fn: 20.0000 - val_fp: 20.0000 - val_loss: 1.8436 - val_precision: 0.3333 - val_recall: 0.3333 - val_tn: 40.0000 - val_tp: 10.0000\n",
      "Epoch 17/100\n",
      "\u001b[1m12/12\u001b[0m \u001b[32m━━━━━━━━━━━━━━━━━━━━\u001b[0m\u001b[37m\u001b[0m \u001b[1m1s\u001b[0m 74ms/step - accuracy: 0.7985 - auc: 0.9198 - fn: 15.9231 - fp: 15.9231 - loss: 0.4451 - precision: 0.6978 - recall: 0.6978 - tn: 84.6923 - tp: 34.3846 - val_accuracy: 0.5556 - val_auc: 0.6717 - val_fn: 20.0000 - val_fp: 20.0000 - val_loss: 1.7742 - val_precision: 0.3333 - val_recall: 0.3333 - val_tn: 40.0000 - val_tp: 10.0000\n",
      "Epoch 18/100\n",
      "\u001b[1m12/12\u001b[0m \u001b[32m━━━━━━━━━━━━━━━━━━━━\u001b[0m\u001b[37m\u001b[0m \u001b[1m1s\u001b[0m 75ms/step - accuracy: 0.8205 - auc: 0.9214 - fn: 16.0769 - fp: 11.6923 - loss: 0.4751 - precision: 0.7488 - recall: 0.6952 - tn: 88.9231 - tp: 34.2308 - val_accuracy: 0.5556 - val_auc: 0.6678 - val_fn: 20.0000 - val_fp: 20.0000 - val_loss: 1.7775 - val_precision: 0.3333 - val_recall: 0.3333 - val_tn: 40.0000 - val_tp: 10.0000\n",
      "Epoch 19/100\n",
      "\u001b[1m12/12\u001b[0m \u001b[32m━━━━━━━━━━━━━━━━━━━━\u001b[0m\u001b[37m\u001b[0m \u001b[1m1s\u001b[0m 76ms/step - accuracy: 0.7630 - auc: 0.9037 - fn: 18.4615 - fp: 17.3846 - loss: 0.4850 - precision: 0.6470 - recall: 0.6381 - tn: 90.6154 - tp: 35.5385 - val_accuracy: 0.5556 - val_auc: 0.6675 - val_fn: 20.0000 - val_fp: 20.0000 - val_loss: 2.2764 - val_precision: 0.3333 - val_recall: 0.3333 - val_tn: 40.0000 - val_tp: 10.0000\n",
      "Epoch 20/100\n",
      "\u001b[1m12/12\u001b[0m \u001b[32m━━━━━━━━━━━━━━━━━━━━\u001b[0m\u001b[37m\u001b[0m \u001b[1m1s\u001b[0m 75ms/step - accuracy: 0.8231 - auc: 0.9236 - fn: 14.8462 - fp: 10.7692 - loss: 0.4683 - precision: 0.7630 - recall: 0.6814 - tn: 88.9231 - tp: 35.0000 - val_accuracy: 0.5556 - val_auc: 0.6381 - val_fn: 20.0000 - val_fp: 20.0000 - val_loss: 2.7825 - val_precision: 0.3333 - val_recall: 0.3333 - val_tn: 40.0000 - val_tp: 10.0000\n",
      "Epoch 21/100\n",
      "\u001b[1m12/12\u001b[0m \u001b[32m━━━━━━━━━━━━━━━━━━━━\u001b[0m\u001b[37m\u001b[0m \u001b[1m1s\u001b[0m 75ms/step - accuracy: 0.7625 - auc: 0.8963 - fn: 18.0000 - fp: 18.0000 - loss: 0.4926 - precision: 0.6437 - recall: 0.6437 - tn: 85.3846 - tp: 33.6923 - val_accuracy: 0.5556 - val_auc: 0.6158 - val_fn: 20.0000 - val_fp: 20.0000 - val_loss: 2.9767 - val_precision: 0.3333 - val_recall: 0.3333 - val_tn: 40.0000 - val_tp: 10.0000\n",
      "Epoch 22/100\n",
      "\u001b[1m12/12\u001b[0m \u001b[32m━━━━━━━━━━━━━━━━━━━━\u001b[0m\u001b[37m\u001b[0m \u001b[1m1s\u001b[0m 76ms/step - accuracy: 0.8569 - auc: 0.9272 - fn: 13.4615 - fp: 10.9231 - loss: 0.4753 - precision: 0.8005 - recall: 0.7600 - tn: 97.0769 - tp: 40.5385 - val_accuracy: 0.5556 - val_auc: 0.6386 - val_fn: 20.0000 - val_fp: 20.0000 - val_loss: 3.0134 - val_precision: 0.3333 - val_recall: 0.3333 - val_tn: 40.0000 - val_tp: 10.0000\n",
      "Epoch 22: early stopping\n",
      "Restoring model weights from the end of the best epoch: 2.\n"
     ]
    }
   ],
   "source": [
    "modelfitprogress = model.fit(\n",
    "                              train_iter,\n",
    "                              validation_data = valid_iter,\n",
    "                              epochs = epochs,\n",
    "                              callbacks = [early_stopper]\n",
    "                              #steps_per_epoch = df_train.shape[0]//train_iter.batch_size,\n",
    "                              #validation_steps = df_val.shape[0]//valid_iter.batch_size\n",
    "                              )"
   ]
  },
  {
   "cell_type": "markdown",
   "metadata": {
    "id": "9R2jytfijpEp"
   },
   "source": [
    "<a id=\"section6\"></a>\n",
    "# <font color=\"#004D7F\" size=6> 6. Results</font>"
   ]
  },
  {
   "cell_type": "markdown",
   "metadata": {
    "id": "a-1vHY9rjpEq"
   },
   "source": [
    "Finally, we can evaluate our CNN with the images created by TINTOlib in any of the ways represented below."
   ]
  },
  {
   "cell_type": "markdown",
   "metadata": {
    "id": "9R2jytfijpEp"
   },
   "source": [
    "---\n",
    "<a id=\"section61\"></a>\n",
    "# <font color=\"#004D7F\" size=5> 6.1. Train/Validation representation</font>"
   ]
  },
  {
   "cell_type": "code",
   "execution_count": 37,
   "metadata": {
    "colab": {
     "base_uri": "https://localhost:8080/",
     "height": 430
    },
    "id": "-Ls6_Vu7pjGL",
    "outputId": "35f21788-cd17-4377-9d88-79118f992164",
    "tags": []
   },
   "outputs": [
    {
     "data": {
      "image/png": "[encoded data removed]",
      "text/plain": [
       "<Figure size 640x480 with 1 Axes>"
      ]
     },
     "metadata": {},
     "output_type": "display_data"
    }
   ],
   "source": [
    "plt.plot(modelfitprogress.history['loss'], color = 'red', label = 'loss')\n",
    "plt.plot(modelfitprogress.history['val_loss'], color = 'green', label = 'val loss')\n",
    "plt.legend(loc = 'upper right')\n",
    "#plt.ylim(0,1)\n",
    "plt.show()"
   ]
  },
  {
   "cell_type": "code",
   "execution_count": 38,
   "metadata": {
    "colab": {
     "base_uri": "https://localhost:8080/",
     "height": 430
    },
    "id": "TWtsezuVpjGM",
    "outputId": "a06dccf3-da2d-4060-f67f-2046b547707b",
    "tags": []
   },
   "outputs": [
    {
     "data": {
      "image/png": "[encoded data removed]",
      "text/plain": [
       "<Figure size 640x480 with 1 Axes>"
      ]
     },
     "metadata": {},
     "output_type": "display_data"
    }
   ],
   "source": [
    "plt.plot(modelfitprogress.history['accuracy'], color = 'red', label = 'accuracy')\n",
    "plt.plot(modelfitprogress.history['val_accuracy'], color = 'green', label = 'val accuracy')\n",
    "plt.legend(loc = 'upper right')\n",
    "\n",
    "plt.show()"
   ]
  },
  {
   "cell_type": "markdown",
   "metadata": {
    "id": "9R2jytfijpEp"
   },
   "source": [
    "---\n",
    "<a id=\"section62\"></a>\n",
    "# <font color=\"#004D7F\" size=5> 6.2. Validation/Test evaluation</font>"
   ]
  },
  {
   "cell_type": "code",
   "execution_count": 39,
   "metadata": {
    "colab": {
     "base_uri": "https://localhost:8080/"
    },
    "execution": {
     "iopub.execute_input": "2022-11-14T19:27:24.254144Z",
     "iopub.status.busy": "2022-11-14T19:27:24.253678Z",
     "iopub.status.idle": "2022-11-14T19:28:06.367196Z",
     "shell.execute_reply": "2022-11-14T19:28:06.366140Z",
     "shell.execute_reply.started": "2022-11-14T19:27:24.254102Z"
    },
    "id": "MtDLUW_QpjGO",
    "outputId": "1e8c02c1-0256-49cf-bd58-12e60bea38c6"
   },
   "outputs": [
    {
     "name": "stdout",
     "output_type": "stream",
     "text": [
      "\u001b[1m3/3\u001b[0m \u001b[32m━━━━━━━━━━━━━━━━━━━━\u001b[0m\u001b[37m\u001b[0m \u001b[1m0s\u001b[0m 13ms/step - accuracy: 0.6667 - auc: 0.4944 - fn: 18.0000 - fp: 0.0000e+00 - loss: 1.1715 - precision: 0.0000e+00 - recall: 0.0000e+00 - tn: 36.0000 - tp: 0.0000e+00\n",
      "Loss in validation: 1.129197120666504 \n",
      "Accuracy in validation: 0.6666666865348816\n"
     ]
    }
   ],
   "source": [
    "score = model.evaluate(valid_iter, steps = df_val.shape[0]//valid_iter.batch_size)\n",
    "print(\"Loss in validation: {} \\nAccuracy in validation: {}\".format(score[0], score[5]))"
   ]
  },
  {
   "cell_type": "code",
   "execution_count": 40,
   "metadata": {
    "colab": {
     "base_uri": "https://localhost:8080/"
    },
    "execution": {
     "iopub.execute_input": "2022-11-14T19:28:06.369726Z",
     "iopub.status.busy": "2022-11-14T19:28:06.369356Z",
     "iopub.status.idle": "2022-11-14T19:28:47.388501Z",
     "shell.execute_reply": "2022-11-14T19:28:47.387465Z",
     "shell.execute_reply.started": "2022-11-14T19:28:06.369687Z"
    },
    "id": "27tFyGE8pjGO",
    "outputId": "51f9d766-3e48-4f24-ea4f-a4e48e380444"
   },
   "outputs": [
    {
     "name": "stdout",
     "output_type": "stream",
     "text": [
      "\u001b[1m3/3\u001b[0m \u001b[32m━━━━━━━━━━━━━━━━━━━━\u001b[0m\u001b[37m\u001b[0m \u001b[1m0s\u001b[0m 11ms/step - accuracy: 0.6667 - auc: 0.6284 - fn: 18.0000 - fp: 0.0000e+00 - loss: 1.1259 - precision: 0.0000e+00 - recall: 0.0000e+00 - tn: 36.0000 - tp: 0.0000e+00\n",
      "Loss in test: 1.11273992061615 \n",
      "Accuracy in test: 0.6666666865348816\n"
     ]
    }
   ],
   "source": [
    "score_test = model.evaluate(test_iter, steps = df_test.shape[0]//test_iter.batch_size)\n",
    "print(\"Loss in test: {} \\nAccuracy in test: {}\".format(score_test[0], score_test[5]))"
   ]
  },
  {
   "cell_type": "code",
   "execution_count": 125,
   "metadata": {},
   "outputs": [
    {
     "name": "stderr",
     "output_type": "stream",
     "text": [
      "/var/folders/9h/d3b8zc6j5019cyvmb_h929xm0000gn/T/ipykernel_5071/272889776.py:2: DeprecationWarning: `np.math` is a deprecated alias for the standard library `math` module (Deprecated Numpy 1.25). Replace usages of `np.math` with `math`\n",
      "  prediction = model.predict(test_iter, steps = np.math.ceil(test_iter.samples/test_iter.batch_size))\n"
     ]
    },
    {
     "name": "stdout",
     "output_type": "stream",
     "text": [
      "\u001b[1m4/4\u001b[0m \u001b[32m━━━━━━━━━━━━━━━━━━━━\u001b[0m\u001b[37m\u001b[0m \u001b[1m1s\u001b[0m 86ms/step\n",
      "[[0.9929628  0.00430612 0.00273111]\n",
      " [0.00295781 0.00868673 0.9883555 ]\n",
      " [0.992963   0.00430458 0.00273246]\n",
      " [0.00470377 0.97531587 0.01998032]\n",
      " [0.99296266 0.00430438 0.00273295]\n",
      " [0.002822   0.8966814  0.10049653]\n",
      " [0.00615702 0.9822029  0.01164004]\n",
      " [0.00602736 0.12322897 0.8707436 ]\n",
      " [0.00255283 0.0322196  0.9652276 ]\n",
      " [0.00258509 0.00831509 0.9890998 ]\n",
      " [0.99296206 0.00430734 0.0027306 ]\n",
      " [0.99296266 0.00430436 0.00273305]\n",
      " [0.00462248 0.9761035  0.01927407]\n",
      " [0.00631935 0.9739435  0.01973725]\n",
      " [0.00316976 0.00969371 0.9871366 ]\n",
      " [0.00710827 0.97780836 0.01508333]\n",
      " [0.00468682 0.97668517 0.01862811]\n",
      " [0.00339762 0.00946129 0.987141  ]\n",
      " [0.00628098 0.5289305  0.4647885 ]\n",
      " [0.9929386  0.00432622 0.00273529]\n",
      " [0.9929622  0.0043061  0.0027317 ]\n",
      " [0.99296206 0.00430414 0.00273371]\n",
      " [0.99296266 0.00430537 0.00273194]\n",
      " [0.00643927 0.97281295 0.02074782]\n",
      " [0.0026178  0.00850729 0.9888749 ]\n",
      " [0.00393487 0.9585998  0.0374653 ]\n",
      " [0.00261709 0.02657723 0.9708057 ]\n",
      " [0.00450173 0.97552454 0.01997368]\n",
      " [0.9929629  0.0043045  0.00273264]\n",
      " [0.00582167 0.9816589  0.01251944]]\n"
     ]
    }
   ],
   "source": [
    "#test_images = next(test_iter)[0]\n",
    "prediction = model.predict(test_iter, steps = np.math.ceil(test_iter.samples/test_iter.batch_size))\n",
    "#prediction = model.predict(test_images)\n",
    "print(prediction)"
   ]
  },
  {
   "cell_type": "markdown",
   "metadata": {
    "id": "9R2jytfijpEp"
   },
   "source": [
    "<a id=\"section62\"></a>\n",
    "# <font color=\"#004D7F\" size=5> 6.3. Sklearn metrics evaluation</font>"
   ]
  },
  {
   "cell_type": "code",
   "execution_count": 126,
   "metadata": {},
   "outputs": [
    {
     "data": {
      "text/plain": [
       "[0.14653697609901428,\n",
       " 22.0,\n",
       " 2.0,\n",
       " 46.0,\n",
       " 2.0,\n",
       " 0.944444477558136,\n",
       " 0.9166666865348816,\n",
       " 0.9166666865348816,\n",
       " 0.9947916865348816]"
      ]
     },
     "execution_count": 126,
     "metadata": {},
     "output_type": "execute_result"
    }
   ],
   "source": [
    "score_test"
   ]
  },
  {
   "cell_type": "code",
   "execution_count": 127,
   "metadata": {},
   "outputs": [
    {
     "name": "stdout",
     "output_type": "stream",
     "text": [
      "Test accuracy: 0.944444477558136\n",
      "Test AUC: 0.9947916865348816\n",
      "Test precision: 0.9166666865348816\n",
      "Test recall: 0.9166666865348816\n"
     ]
    }
   ],
   "source": [
    "from sklearn.metrics import roc_auc_score,accuracy_score,precision_score, recall_score\n",
    "\n",
    "test_accuracy = score_test[5]\n",
    "test_auc = score_test[8]\n",
    "test_precision = score_test[6]\n",
    "test_recall = score_test[7]\n",
    "\n",
    "print(\"Test accuracy:\",test_accuracy)\n",
    "print(\"Test AUC:\",test_auc)\n",
    "print(\"Test precision:\",test_precision)\n",
    "print(\"Test recall:\",test_recall)"
   ]
  },
  {
   "cell_type": "code",
   "execution_count": 128,
   "metadata": {},
   "outputs": [
    {
     "data": {
      "text/plain": [
       "[0.8259260654449463,\n",
       " 0.9666666388511658,\n",
       " 0.9333333969116211,\n",
       " 0.974074125289917,\n",
       " 0.9703702926635742,\n",
       " 0.9851852655410767,\n",
       " 0.9703704118728638,\n",
       " 0.9407408237457275,\n",
       " 0.9703702926635742,\n",
       " 0.9851852655410767,\n",
       " 0.9777778387069702,\n",
       " 0.9851852655410767,\n",
       " 0.9777777791023254,\n",
       " 0.9481481909751892,\n",
       " 0.9518518447875977,\n",
       " 0.9851851463317871,\n",
       " 0.9629630446434021,\n",
       " 0.9777777791023254,\n",
       " 0.9925925135612488,\n",
       " 0.9925925135612488,\n",
       " 0.9925926327705383,\n",
       " 1.0,\n",
       " 1.0,\n",
       " 0.9777777791023254,\n",
       " 0.9851852655410767,\n",
       " 0.9851851463317871,\n",
       " 0.9629629254341125,\n",
       " 0.9703704118728638,\n",
       " 0.9629629254341125,\n",
       " 0.9925925135612488,\n",
       " 0.9851852655410767,\n",
       " 0.9851851463317871,\n",
       " 0.9851852655410767,\n",
       " 0.9555555582046509,\n",
       " 0.9703704118728638,\n",
       " 0.9925925135612488,\n",
       " 0.9925926327705383,\n",
       " 0.9925926327705383,\n",
       " 1.0,\n",
       " 0.9925925135612488,\n",
       " 0.9925925135612488,\n",
       " 0.9925925135612488,\n",
       " 0.9851852655410767,\n",
       " 0.9925926327705383,\n",
       " 0.9851851463317871,\n",
       " 0.9703704118728638,\n",
       " 0.9777777791023254,\n",
       " 0.9851852655410767,\n",
       " 0.9851851463317871,\n",
       " 0.9777778387069702,\n",
       " 0.9925926327705383,\n",
       " 0.9925926327705383,\n",
       " 1.0,\n",
       " 0.9777777791023254,\n",
       " 1.0,\n",
       " 0.9777778387069702,\n",
       " 0.9777778387069702,\n",
       " 0.9703704118728638,\n",
       " 0.9777778387069702,\n",
       " 0.9629630446434021,\n",
       " 0.9703704118728638,\n",
       " 0.9925926327705383,\n",
       " 1.0,\n",
       " 1.0,\n",
       " 1.0,\n",
       " 0.9851852655410767,\n",
       " 0.9851851463317871,\n",
       " 0.9629629254341125,\n",
       " 0.9851852655410767,\n",
       " 0.9777777791023254,\n",
       " 0.9629629254341125,\n",
       " 0.9703704118728638,\n",
       " 1.0,\n",
       " 0.9925926327705383,\n",
       " 0.9925926327705383,\n",
       " 1.0,\n",
       " 1.0]"
      ]
     },
     "execution_count": 128,
     "metadata": {},
     "output_type": "execute_result"
    }
   ],
   "source": [
    "modelfitprogress.history[\"accuracy\"]"
   ]
  },
  {
   "cell_type": "markdown",
   "metadata": {
    "id": "0ciBS76mpjGU"
   },
   "source": [
    "<div style=\"text-align: right\"> <font size=5> <a href=\"#indice\"><i class=\"fa fa-arrow-circle-up\" aria-hidden=\"true\" style=\"color:#004D7F\"></i></a></font></div>\n",
    "\n",
    "---\n",
    "\n",
    "<div style=\"text-align: right\"> <font size=6><i class=\"fa fa-coffee\" aria-hidden=\"true\" style=\"color:#004D7F\"></i> </font></div>"
   ]
  }
 ],
 "metadata": {
  "accelerator": "GPU",
  "colab": {
   "gpuType": "T4",
   "provenance": []
  },
  "kernelspec": {
   "display_name": "Python 3",
   "language": "python",
   "name": "python3"
  },
  "language_info": {
   "codemirror_mode": {
    "name": "ipython",
    "version": 3
   },
   "file_extension": ".py",
   "mimetype": "text/x-python",
   "name": "python",
   "nbconvert_exporter": "python",
   "pygments_lexer": "ipython3",
   "version": "3.9.6"
  }
 },
 "nbformat": 4,
 "nbformat_minor": 1
}
