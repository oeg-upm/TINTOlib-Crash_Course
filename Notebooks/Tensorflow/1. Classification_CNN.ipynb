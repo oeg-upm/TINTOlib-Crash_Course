{
 "cells": [
  {
   "cell_type": "markdown",
   "metadata": {
    "id": "EybOZ6hSjpCF"
   },
   "source": [
    "<h1><font color=\"#113D68\" size=5>TINTOlib: Converting Tidy Data into Synthetic Images</font></h1>\n",
    "\n",
    "<h1><font color=\"#113D68\" size=5>Template Classification Machine Learning problem with a CNN</font></h1>\n",
    "\n",
    "<br><br>\n",
    "<div style=\"text-align: right\">\n",
    "<font color=\"#113D68\" size=3>Manuel Castillo-Cara</font><br>\n",
    "<font color=\"#113D68\" size=3>Raúl García-Castro</font><br>\n",
    "<font color=\"#113D68\" size=3>Jiayun Liu</font><br>\n",
    "\n",
    "</div>\n",
    "\n",
    "---"
   ]
  },
  {
   "cell_type": "markdown",
   "metadata": {
    "id": "i3tgsO0BjpCj"
   },
   "source": [
    "<div class=\"alert alert-block alert-info\">\n",
    "    \n",
    "<i class=\"fa fa-info-circle\" aria-hidden=\"true\"></i>\n",
    "More information about [Manuel Castillo-Cara](https://www.manuelcastillo.eu/)"
   ]
  },
  {
   "cell_type": "markdown",
   "metadata": {
    "id": "i3tgsO0BjpCj"
   },
   "source": [
    "<div class=\"alert alert-block alert-info\">\n",
    "    \n",
    "<i class=\"fa fa-info-circle\" aria-hidden=\"true\"></i>\n",
    "More information about [Raúl García-Castro](http://www.garcia-castro.com/)"
   ]
  },
  {
   "cell_type": "markdown",
   "metadata": {},
   "source": [
    "---\n",
    "\n",
    "<a id=\"indice\"></a>\n",
    "<h2><font color=\"#004D7F\" size=5>Licencia</font></h2>\n",
    "\n",
    "<p><small><small>Improving Deep Learning by Exploiting Synthetic Images Copyright 2024 Manuel Castillo Cara.</p>\n",
    "<p><small><small> Licensed under the Apache License, Version 2.0 (the \"License\"); you may not use this file except in compliance with the License. You may obtain a copy of the License at </p>\n",
    "<p><small><small> <a href=\"https://www.apache.org/licenses/LICENSE-2.0\">https://www.apache.org/licenses/LICENSE-2.0</a> </p>\n",
    "<p><small><small> Unless required by applicable law or agreed to in writing, software distributed under the License is distributed on an \"AS IS\" BASIS, WITHOUT WARRANTIES OR CONDITIONS OF ANY KIND, either express or implied. See the License for the specific language governing permissions and limitations under the License. </p>"
   ]
  },
  {
   "cell_type": "markdown",
   "metadata": {
    "id": "2l5nFzsdjpCW"
   },
   "source": [
    "---\n",
    "\n",
    "<a id=\"indice\"></a>\n",
    "<h2><font color=\"#004D7F\" size=5>Index</font></h2>\n",
    "\n",
    "* [0. Context](#section0)\n",
    "* [1. Description](#section1)\n",
    "    * [1.1. Main Features](#section11)\n",
    "    * [1.2. Citation](#section12)\n",
    "    * [1.3. Documentation and License](#section13)\n",
    "* [2. Libraries](#section2)\n",
    "    * [2.1. System setup](#section21)\n",
    "    * [2.2. Invoke the libraries](#section22)\n",
    "* [3. Data processing](#section3)\n",
    "    * [3.1. TINTOlib methods](#section31)\n",
    "    * [3.2. Read the dataset](#section32)\n",
    "    * [3.3. Generate images](#section33)\n",
    "    * [3.4. Read images](#section34)\n",
    "* [4. Pre-modelling phase](#section4)\n",
    "    * [4.1. Data curation](#section41)\n",
    "    * [4.2. Resize Images](#section42)\n",
    "    * [4.3. Iterators](#section43)\n",
    "* [5. Modelling with CNN](#section5)\n",
    "    * [5.1. CNN](#section51)\n",
    "    * [5.2. Compile and fit](#section52)\n",
    "* [6. Results](#section6)\n",
    "    * [6.1. Train/Validation representation](#section61)\n",
    "    * [6.2. Validation/Test evaluation](#section62)\n",
    "    * [6.3. Sklearn metrics evaluation](#section63)"
   ]
  },
  {
   "cell_type": "markdown",
   "metadata": {
    "id": "SxTpMExHjpCa"
   },
   "source": [
    "---\n",
    "<a id=\"section0\"></a>\n",
    "# <font color=\"#004D7F\" size=6> 0. Context</font>"
   ]
  },
  {
   "cell_type": "markdown",
   "metadata": {
    "id": "JlVYt3MRrl_V"
   },
   "source": [
    "This is a tutorial on how to read the images created by TINTO and pass them to a very simple pretrained Convolutional Neural Network (CNN). The images must already be created by the TINTOlib software. See the documentation in GITHUB for how to create the images from tabular data.\n",
    "\n",
    "Remember that when using CNN you can set the training to be done with GPUs to improve performance."
   ]
  },
  {
   "cell_type": "markdown",
   "metadata": {},
   "source": [
    "<div class=\"alert alert-block alert-info\">\n",
    "\n",
    "<i class=\"fa fa-info-circle\" aria-hidden=\"true\"></i>\n",
    "You can see all information about TINTOlib code in [GitHub](https://github.com/oeg-upm/TINTOlib)"
   ]
  },
  {
   "cell_type": "markdown",
   "metadata": {},
   "source": [
    "<div class=\"alert alert-block alert-info\">\n",
    "\n",
    "<i class=\"fa fa-info-circle\" aria-hidden=\"true\"></i>\n",
    "You can see all information about TINTOlib documentation in the official [Webpage](https://tintolib.readthedocs.io/en/latest/installation.html)"
   ]
  },
  {
   "cell_type": "markdown",
   "metadata": {},
   "source": [
    "<div class=\"alert alert-block alert-info\">\n",
    "\n",
    "<i class=\"fa fa-info-circle\" aria-hidden=\"true\"></i>\n",
    "You can see all information about TINTOlib documentation in [PyPI](https://pypi.org/project/TINTOlib/)"
   ]
  },
  {
   "cell_type": "markdown",
   "metadata": {
    "id": "4RKBgDwzjpCl"
   },
   "source": [
    "---\n",
    "<div style=\"text-align: right\"> <font size=5> <a href=\"#indice\"><i class=\"fa fa-arrow-circle-up\" aria-hidden=\"true\" style=\"color:#004D7F\"></i></a></font></div>\n",
    "\n",
    "---"
   ]
  },
  {
   "cell_type": "markdown",
   "metadata": {
    "id": "kpU7pi6yjpCn"
   },
   "source": [
    "<a id=\"section1\"></a>\n",
    "# <font color=\"#004D7F\" size=6> 1. Description</font>"
   ]
  },
  {
   "cell_type": "markdown",
   "metadata": {},
   "source": [
    "The growing interest in the use of algorithms-based machine learning for predictive tasks has generated a large and diverse development of algorithms. However, it is widely known that not all of these algorithms are adapted to efficient solutions in certain tidy data format datasets. For this reason, novel techniques are currently being developed to convert tidy data into images with the aim of using Convolutional Neural Networks (CNNs) or Vision Transformer (ViT). TINTOlib offers the opportunity to convert tidy data into images through several techniques: TINTO, IGTD, REFINED, SuperTML, BarGraph, DistanceMatrix and Combination.\n",
    "\n",
    "In this tutorial, we develop a CNN with synthetic images.\n",
    "\n",
    "<figure><center>\n",
    "  <img src=\"../../Images/CNN-Synthetic.png\" width=\"850\" height=\"350\" alt=\"Gráfica\">\n",
    "  <figcaption><blockquote>CNN architecture with synthetic images. Extract from <a href=\"https://doi.org/10.1016/j.inffus.2022.10.011\">A novel deep learning approach using blurring image techniques for Bluetooth-based indoor localisation</a></blockquote></figcaption>\n",
    "</center></figure>"
   ]
  },
  {
   "cell_type": "markdown",
   "metadata": {
    "id": "HFrF4C89jpCt"
   },
   "source": [
    "---\n",
    "<a id=\"section11\"></a>\n",
    "# <font color=\"#004D7F\" size=5> 1.1. Main Features</font>"
   ]
  },
  {
   "cell_type": "markdown",
   "metadata": {
    "id": "1gruE0_sjpCu"
   },
   "source": [
    "- Supports all CSV data in **[Tidy Data](https://www.jstatsoft.org/article/view/v059i10)** format.\n",
    "- For now, the algorithm converts tabular data for binary and multi-class classification problems into machine learning.\n",
    "- Input data formats:\n",
    "    - **Tabular files**: The input data could be in **[CSV](https://en.wikipedia.org/wiki/Comma-separated_values)**, taking into account the **[Tidy Data](https://www.jstatsoft.org/article/view/v059i10)** format.\n",
    "    - **Dataframe***: The input data could be in **[Pandas Dataframe](https://pandas.pydata.org/docs/reference/api/pandas.DataFrame.html)**, taking into account the **[Tidy Data](https://www.jstatsoft.org/article/view/v059i10)** format.\n",
    "    - **Tidy Data**: The **target** (variable to be predicted) should be set as the last column of the dataset. Therefore, the first columns will be the features.\n",
    "    - All data must be in numerical form. TINTOlib does not accept data in string or any other non-numeric format.\n",
    "- Runs on **Linux**, **Windows** and **macOS** systems.\n",
    "- Compatible with **[Python](https://www.python.org/)** 3.7 or higher."
   ]
  },
  {
   "cell_type": "markdown",
   "metadata": {},
   "source": [
    "---\n",
    "<a id=\"section12\"></a>\n",
    "# <font color=\"#004D7F\" size=5> 1.2. Citation</font>"
   ]
  },
  {
   "cell_type": "markdown",
   "metadata": {},
   "source": [
    "**TINTOlib** is an python library that makes **Synthetic Images** from [Tidy Data](https://www.jstatsoft.org/article/view/v059i10) (also knows as **Tabular Data**).\n",
    "\n",
    "**Citing TINTO**: If you used TINTO in your work, please cite the **[SoftwareX](https://doi.org/10.1016/j.softx.2023.101391)**:\n",
    "\n",
    "```bib\n",
    "@article{softwarex_TINTO,\n",
    "    title = {TINTO: Converting Tidy Data into Image for Classification\n",
    "            with 2-Dimensional Convolutional Neural Networks},\n",
    "    journal = {SoftwareX},\n",
    "    author = {Manuel Castillo-Cara and Reewos Talla-Chumpitaz and\n",
    "              Raúl García-Castro and Luis Orozco-Barbosa},\n",
    "    year = {2023},\n",
    "    pages = {101391},\n",
    "    issn = {2352-7110},\n",
    "    doi = {https://doi.org/10.1016/j.softx.2023.101391}\n",
    "}\n",
    "```\n",
    "\n",
    "And use-case developed in **[INFFUS Paper](https://doi.org/10.1016/j.inffus.2022.10.011)**\n",
    "\n",
    "```bib\n",
    "@article{inffus_TINTO,\n",
    "    title = {A novel deep learning approach using blurring image\n",
    "            techniques for Bluetooth-based indoor localisation},\n",
    "    journal = {Information Fusion},\n",
    "    author = {Reewos Talla-Chumpitaz and Manuel Castillo-Cara and\n",
    "              Luis Orozco-Barbosa and Raúl García-Castro},\n",
    "    volume = {91},\n",
    "    pages = {173-186},\n",
    "    year = {2023},\n",
    "    issn = {1566-2535},\n",
    "    doi = {https://doi.org/10.1016/j.inffus.2022.10.011}\n",
    "}\n",
    "```"
   ]
  },
  {
   "cell_type": "markdown",
   "metadata": {},
   "source": [
    "---\n",
    "<a id=\"section13\"></a>\n",
    "# <font color=\"#004D7F\" size=5> 1.3. Documentation and License</font>"
   ]
  },
  {
   "cell_type": "markdown",
   "metadata": {},
   "source": [
    "TINTOlib has a wide range of documentation on both GitHub and PiPY. \n",
    "\n",
    "Moreover, TINTOlib is free and open software with Apache 2.0 license."
   ]
  },
  {
   "cell_type": "markdown",
   "metadata": {},
   "source": [
    "<div class=\"alert alert-block alert-info\">\n",
    "\n",
    "<i class=\"fa fa-info-circle\" aria-hidden=\"true\"></i>\n",
    "You can see all information about TINTOlib code in [GitHub](https://github.com/oeg-upm/TINTOlib)"
   ]
  },
  {
   "cell_type": "markdown",
   "metadata": {},
   "source": [
    "<div class=\"alert alert-block alert-info\">\n",
    "\n",
    "<i class=\"fa fa-info-circle\" aria-hidden=\"true\"></i>\n",
    "You can see all information about TINTOlib documentation in the official [Webpage](https://tintolib.readthedocs.io/en/latest/installation.html)"
   ]
  },
  {
   "cell_type": "markdown",
   "metadata": {},
   "source": [
    "<div class=\"alert alert-block alert-info\">\n",
    "\n",
    "<i class=\"fa fa-info-circle\" aria-hidden=\"true\"></i>\n",
    "You can see all information about TINTOlib documentation in [PyPI](https://pypi.org/project/TINTOlib/)"
   ]
  },
  {
   "cell_type": "markdown",
   "metadata": {
    "id": "Z3EzYcjJjpC6"
   },
   "source": [
    "---\n",
    "<div style=\"text-align: right\"> <font size=5> <a href=\"#indice\"><i class=\"fa fa-arrow-circle-up\" aria-hidden=\"true\" style=\"color:#004D7F\"></i></a></font></div>"
   ]
  },
  {
   "cell_type": "markdown",
   "metadata": {
    "id": "qwYF5A2njpC8"
   },
   "source": [
    "<a id=\"section2\"></a>\n",
    "# <font color=\"#004D7F\" size=6> 2. Libraries</font>"
   ]
  },
  {
   "cell_type": "markdown",
   "metadata": {
    "id": "HFrF4C89jpCt"
   },
   "source": [
    "---\n",
    "<a id=\"section21\"></a>\n",
    "# <font color=\"#004D7F\" size=5> 2.1. System setup</font>"
   ]
  },
  {
   "cell_type": "markdown",
   "metadata": {},
   "source": [
    "Before installing the libraries you must have the `mpi4py` package installed on the native (Linux) system. This link shows how to install it: \n",
    "- [mpi4py in Linux](https://www.geeksforgeeks.org/how-to-install-python3-mpi4py-package-on-linux/)"
   ]
  },
  {
   "cell_type": "markdown",
   "metadata": {},
   "source": [
    "For example, in Linux:\n",
    "\n",
    "```\n",
    "    sudo apt-get install python3\n",
    "    sudo apt install python3-pip\n",
    "    sudo apt install python3-mpi4py\n",
    "```\n",
    "\n",
    "If you are in Windows, Mac or, also, Linux, you can install from PyPI if you want:\n",
    "```\n",
    "    sudo pip3 install mpi4py\n",
    "```"
   ]
  },
  {
   "cell_type": "markdown",
   "metadata": {},
   "source": [
    "<div class=\"alert alert-block alert-info\">\n",
    "    \n",
    "<i class=\"fa fa-info-circle\" aria-hidden=\"true\"></i>\n",
    "Note that you must **restart the kernel or the system** so that it can load the libraries. "
   ]
  },
  {
   "cell_type": "markdown",
   "metadata": {},
   "source": [
    "Now, once you have installed `mpi4py` you can install the PyPI libraries and dependences."
   ]
  },
  {
   "cell_type": "code",
   "execution_count": 1,
   "metadata": {},
   "outputs": [
    {
     "name": "stdout",
     "output_type": "stream",
     "text": [
      "Defaulting to user installation because normal site-packages is not writeable\n",
      "Requirement already satisfied: tintolib in /Users/manwest/Library/Python/3.9/lib/python/site-packages (0.0.21)\n",
      "Collecting tintolib\n",
      "  Downloading tintolib-0.0.22-py3-none-any.whl.metadata (22 kB)\n",
      "Downloading tintolib-0.0.22-py3-none-any.whl (51 kB)\n",
      "\u001b[2K   \u001b[90m━━━━━━━━━━━━━━━━━━━━━━━━━━━━━━━━━━━━━━━━\u001b[0m \u001b[32m52.0/52.0 kB\u001b[0m \u001b[31m971.9 kB/s\u001b[0m eta \u001b[36m0:00:00\u001b[0m:01\u001b[0m\n",
      "\u001b[?25hInstalling collected packages: tintolib\n",
      "  Attempting uninstall: tintolib\n",
      "    Found existing installation: TINTOlib 0.0.21\n",
      "    Uninstalling TINTOlib-0.0.21:\n",
      "      Successfully uninstalled TINTOlib-0.0.21\n",
      "Successfully installed tintolib-0.0.22\n"
     ]
    }
   ],
   "source": [
    "!pip install -U tintolib"
   ]
  },
  {
   "cell_type": "code",
   "execution_count": null,
   "metadata": {},
   "outputs": [],
   "source": [
    "!pip install torchmetrics pytorch_lightning imblearn keras_preprocessing mpi4py tifffile tqdm"
   ]
  },
  {
   "cell_type": "markdown",
   "metadata": {},
   "source": [
    "<div class=\"alert alert-block alert-info\">\n",
    "    \n",
    "<i class=\"fa fa-info-circle\" aria-hidden=\"true\"></i>\n",
    "Note that you must **restart the kernel** so that it can load the libraries. "
   ]
  },
  {
   "cell_type": "markdown",
   "metadata": {
    "id": "HFrF4C89jpCt"
   },
   "source": [
    "---\n",
    "<a id=\"section22\"></a>\n",
    "# <font color=\"#004D7F\" size=5> 2.2. Invoke the libraries</font>"
   ]
  },
  {
   "cell_type": "markdown",
   "metadata": {
    "id": "5AdHKnWYsEq_"
   },
   "source": [
    "The first thing we need to do is to declare the libraries"
   ]
  },
  {
   "cell_type": "code",
   "execution_count": 21,
   "metadata": {
    "id": "PeeBbGxlpjFp",
    "tags": []
   },
   "outputs": [],
   "source": [
    "import os\n",
    "import random\n",
    "import pandas as pd\n",
    "import numpy as np\n",
    "from tqdm import tqdm\n",
    "#import cv2\n",
    "import gc\n",
    "import matplotlib.pyplot as plt\n",
    "#import openslide\n",
    "#from openslide.deepzoom import DeepZoomGenerator\n",
    "import tifffile as tifi\n",
    "import sklearn\n",
    "import tensorflow as tf\n",
    "\n",
    "from keras_preprocessing.image import ImageDataGenerator\n",
    "from tensorflow.keras.models import load_model\n",
    "\n",
    "from sklearn.model_selection import train_test_split\n",
    "from tensorflow.keras.applications import vgg16, vgg19, resnet50, mobilenet, inception_resnet_v2, densenet, inception_v3, xception, nasnet, ResNet152V2\n",
    "from tensorflow.keras.models import Sequential, Model, load_model\n",
    "from tensorflow.keras.layers import Dense, Conv2D, MaxPool2D, Flatten, Dropout, BatchNormalization, InputLayer, LayerNormalization\n",
    "from tensorflow.keras.callbacks import ModelCheckpoint, ReduceLROnPlateau, EarlyStopping\n",
    "from tensorflow.keras.optimizers import SGD, Adam, Adadelta, Adamax\n",
    "from keras.layers import MaxPooling2D, AveragePooling2D, Activation, Input, Concatenate\n",
    "from keras.utils import plot_model\n",
    "\n",
    "\n",
    "#Models of TINTOlib\n",
    "from TINTOlib.tinto import TINTO\n",
    "from TINTOlib.supertml import SuperTML\n",
    "from TINTOlib.igtd import IGTD\n",
    "from TINTOlib.refined import REFINED\n",
    "from TINTOlib.barGraph import BarGraph\n",
    "from TINTOlib.distanceMatrix import DistanceMatrix\n",
    "from TINTOlib.combination import Combination\n",
    "\n",
    "SEED = 64\n",
    "# SET RANDOM SEED FOR REPRODUCIBILITY\n",
    "#torch.manual_seed(SEED)\n",
    "#torch.cuda.manual_seed(SEED)\n",
    "#torch.cuda.manual_seed_all(SEED)\n",
    "#torch.backends.cudnn.deterministic = True\n",
    "#torch.backends.cudnn.benchmark = False\n",
    "os.environ['PYTHONHASHSEED']=str(SEED)\n",
    "random.seed(SEED)\n",
    "np.random.seed(SEED)\n",
    "tf.random.set_seed(SEED)"
   ]
  },
  {
   "cell_type": "markdown",
   "metadata": {
    "id": "NwS-cKUxjpDQ"
   },
   "source": [
    "---\n",
    "<div style=\"text-align: right\"> <font size=5> <a href=\"#indice\"><i class=\"fa fa-arrow-circle-up\" aria-hidden=\"true\" style=\"color:#004D7F\"></i></a></font></div>\n",
    "\n",
    "---"
   ]
  },
  {
   "cell_type": "markdown",
   "metadata": {},
   "source": [
    "<a id=\"section3\"></a>\n",
    "# <font color=\"#004D7F\" size=6> 3. Data processing</font>"
   ]
  },
  {
   "cell_type": "markdown",
   "metadata": {},
   "source": [
    "TINTOlib creates a folder structure to store images corresponding to each target in a problem. For classification problems, images are stored in a subfolder with the name of the respective target variable value. Additionally, a CSV file is generated containing:\n",
    "\n",
    "- The file paths of all images.\n",
    "- The target value for each image, which corresponds to a sample from the original dataset."
   ]
  },
  {
   "cell_type": "markdown",
   "metadata": {},
   "source": [
    "<a id=\"section31\"></a>\n",
    "# <font color=\"#004D7F\" size=5> 3.1. Read the dataset</font>\n",
    "\n",
    "In this part, we proceed to read the dataset."
   ]
  },
  {
   "cell_type": "code",
   "execution_count": 46,
   "metadata": {},
   "outputs": [
    {
     "data": {
      "text/html": [
       "<div>\n",
       "<style scoped>\n",
       "    .dataframe tbody tr th:only-of-type {\n",
       "        vertical-align: middle;\n",
       "    }\n",
       "\n",
       "    .dataframe tbody tr th {\n",
       "        vertical-align: top;\n",
       "    }\n",
       "\n",
       "    .dataframe thead th {\n",
       "        text-align: right;\n",
       "    }\n",
       "</style>\n",
       "<table border=\"1\" class=\"dataframe\">\n",
       "  <thead>\n",
       "    <tr style=\"text-align: right;\">\n",
       "      <th></th>\n",
       "      <th>SepalLength</th>\n",
       "      <th>SepalWidth</th>\n",
       "      <th>PetalLength</th>\n",
       "      <th>PetalWidth</th>\n",
       "      <th>Species</th>\n",
       "    </tr>\n",
       "  </thead>\n",
       "  <tbody>\n",
       "    <tr>\n",
       "      <th>0</th>\n",
       "      <td>5.1</td>\n",
       "      <td>3.5</td>\n",
       "      <td>1.4</td>\n",
       "      <td>0.2</td>\n",
       "      <td>1</td>\n",
       "    </tr>\n",
       "    <tr>\n",
       "      <th>1</th>\n",
       "      <td>4.9</td>\n",
       "      <td>3.0</td>\n",
       "      <td>1.4</td>\n",
       "      <td>0.2</td>\n",
       "      <td>1</td>\n",
       "    </tr>\n",
       "  </tbody>\n",
       "</table>\n",
       "</div>"
      ],
      "text/plain": [
       "   SepalLength  SepalWidth  PetalLength  PetalWidth  Species\n",
       "0          5.1         3.5          1.4         0.2        1\n",
       "1          4.9         3.0          1.4         0.2        1"
      ]
     },
     "execution_count": 46,
     "metadata": {},
     "output_type": "execute_result"
    }
   ],
   "source": [
    "dataset_name = 'iris'\n",
    "\n",
    "#Read CSV\n",
    "df = pd.read_csv(f\"../../Data/Multiclass/{dataset_name}.csv\")\n",
    "df.head(2)"
   ]
  },
  {
   "cell_type": "code",
   "execution_count": 47,
   "metadata": {},
   "outputs": [
    {
     "data": {
      "text/plain": [
       "(150, 5)"
      ]
     },
     "execution_count": 47,
     "metadata": {},
     "output_type": "execute_result"
    }
   ],
   "source": [
    "df.shape"
   ]
  },
  {
   "cell_type": "markdown",
   "metadata": {},
   "source": [
    "To determine the appropriate size for a square image that contains all the feature pixels, you need to calculate the square root of the total number of features. The resulting value can be used for the methods that requires inserting the image size."
   ]
  },
  {
   "cell_type": "code",
   "execution_count": 48,
   "metadata": {},
   "outputs": [
    {
     "name": "stdout",
     "output_type": "stream",
     "text": [
      "2\n"
     ]
    }
   ],
   "source": [
    "# Get the shape of the dataframe\n",
    "num_columns = df.shape[1]\n",
    "\n",
    "# Calculate number of columns - 1\n",
    "columns_minus_one = num_columns - 1\n",
    "\n",
    "# Calculate the square root for image size\n",
    "import math\n",
    "image_size = math.ceil(math.sqrt(columns_minus_one))\n",
    "print(image_size)"
   ]
  },
  {
   "cell_type": "markdown",
   "metadata": {},
   "source": [
    "We delve into label encoding, a crucial preprocessing step for preparing categorical labels for use in machine learning models. Specifically for Multiclass classification tasks, label encoding involves transforming categorical labels into a numerical format."
   ]
  },
  {
   "cell_type": "code",
   "execution_count": 49,
   "metadata": {},
   "outputs": [
    {
     "name": "stdout",
     "output_type": "stream",
     "text": [
      "0      0\n",
      "1      0\n",
      "2      0\n",
      "3      0\n",
      "4      0\n",
      "      ..\n",
      "145    2\n",
      "146    2\n",
      "147    2\n",
      "148    2\n",
      "149    2\n",
      "Name: Species, Length: 150, dtype: int64\n"
     ]
    }
   ],
   "source": [
    "from sklearn.preprocessing import LabelEncoder\n",
    "# Initialize the LabelEncoder\n",
    "label_encoder = LabelEncoder()\n",
    "\n",
    "# Fit and transform the last column with LabelEncoder\n",
    "df.iloc[:, -1] = label_encoder.fit_transform(df.iloc[:, -1])\n",
    "\n",
    "# Display the updated last column\n",
    "print(df.iloc[:, -1])"
   ]
  },
  {
   "cell_type": "markdown",
   "metadata": {},
   "source": [
    "---\n",
    "<a id=\"section32\"></a>\n",
    "# <font color=\"#004D7F\" size=5> 3.2. Create images with TINTOlib</font>\n",
    "\n",
    "We prepare the declaration of the classes with the TINTOlib method we want to transform. Note that TINTOlib has several methods and we will have to choose one of them since each method generates different images.\n",
    "\n",
    "In addition, we establish the paths where the dataset is located and also the folder where the images will be created."
   ]
  },
  {
   "cell_type": "code",
   "execution_count": 50,
   "metadata": {},
   "outputs": [],
   "source": [
    "#Select the model and the parameters\n",
    "problem_type = \"supervised\"\n",
    "#problem_type = \"regression\"\n",
    "\n",
    "# Transformation methods\n",
    "image_model = TINTO(problem=problem_type, blur=True, option='maximum', pixels=20, random_seed=SEED)\n",
    "name = f\"TINTO_blur_maximum\"\n",
    "# image_model = REFINED(problem=problem_type, random_seed=SEED, zoom=1, n_processors=8)\n",
    "# name = f\"REFINED\"\n",
    "# image_model = IGTD(problem=problem_type, scale=[image_size,image_size], fea_dist_method='Euclidean', image_dist_method='Euclidean', error='abs', max_step=30000, val_step=300, random_seed=SEED)\n",
    "# name = f\"IGTD_fEuclidean_iEuclidean_abs\"\n",
    "# image_model = BarGraph(problem=problem_type, zoom=2)\n",
    "# name = f\"BarGraph_zoom2\"\n",
    "# image_model = DistanceMatrix(problem=problem_type, zoom=2)\n",
    "# name = f\"DistanceMatrix_zoom2\"\n",
    "# image_model = Combination(problem=problem_type, zoom=2)\n",
    "# name = f\"Combination_zoom2\"\n",
    "# image_model = SuperTML(problem=problem_type, pixels=pixel, font_size=30, feature_importance=True, random_seed=SEED)\n",
    "# name = f\"SuperTML-VF_FS30\"\n",
    "# image_model = FeatureWrap(problem = problem_type, bins=10)\n",
    "# name = f\"FeatureWrap_bins10\"\n",
    "# image_model = BIE(problem = problem_type)\n",
    "# name = f\"BIE\"\n",
    "\n",
    "#Define the dataset path and the folder where the images will be saved\n",
    "results_folder = f\"Results/Multiclass/CNN+MLP_Fusion/{dataset_name}_{name}\"\n",
    "images_folder = f\"Synthetic_images/Multiclass/images_{dataset_name}_{name}\""
   ]
  },
  {
   "cell_type": "markdown",
   "metadata": {},
   "source": [
    "<div class=\"alert alert-block alert-info\">\n",
    "\n",
    "<i class=\"fa fa-info-circle\" aria-hidden=\"true\"></i>\n",
    "You can see all information about TINTOlib documentation in [PyPI](https://tintolib.readthedocs.io/en/latest/installation.html)"
   ]
  },
  {
   "cell_type": "markdown",
   "metadata": {},
   "source": [
    "---\n",
    "<a id=\"section33\"></a>\n",
    "# <font color=\"#004D7F\" size=5> 3.3. Generate images</font>\n",
    "\n",
    "In this section, we generate images from the dataset using three key functions of the image generation model:\n",
    "\n",
    "- fit: Trains the image generation model without generating images. This function is used exclusively for training purposes.\n",
    "- fit_transform: Trains the image generation model and simultaneously generates images for the dataset. This function is applied to the training dataset, where the model is both trained and used to create images.\n",
    "- transform: Generates images using the pre-trained model. After training on the training dataset, this function is used to generate images for unseen data, such as validation and test datasets.\n",
    "\n",
    "Each row in the dataset is transformed into a unique image, ensuring that the number of generated images matches the number of rows in the dataset. The resulting datasets include paths to these images, which are then combined with the original data for further processing."
   ]
  },
  {
   "cell_type": "markdown",
   "metadata": {},
   "source": [
    "Split the data into training, validation, and test sets:"
   ]
  },
  {
   "cell_type": "code",
   "execution_count": 51,
   "metadata": {},
   "outputs": [],
   "source": [
    "import cv2\n",
    "from sklearn.preprocessing import MinMaxScaler\n",
    "\n",
    "X_train, X_val = train_test_split(df, test_size=0.20, random_state=SEED)\n",
    "X_val, X_test = train_test_split(X_val, test_size=0.50, random_state=SEED)\n",
    "\n",
    "X_train = X_train.reset_index(drop=True)\n",
    "X_val = X_val.reset_index(drop=True)\n",
    "X_test = X_test.reset_index(drop=True)"
   ]
  },
  {
   "cell_type": "markdown",
   "metadata": {},
   "source": [
    "Define a function to streamline the repetitive process of generating images, updating paths, and combining datasets:"
   ]
  },
  {
   "cell_type": "code",
   "execution_count": 52,
   "metadata": {},
   "outputs": [],
   "source": [
    "def process_dataset(X, folder_name, generate_function, problem_type):\n",
    "    \"\"\"\n",
    "    Handles dataset processing, including image generation, path updates, \n",
    "    and combining the dataset with image paths.\n",
    "\n",
    "    Parameters:\n",
    "    ----------\n",
    "    X : DataFrame\n",
    "        The dataset to process (training, validation, or test).\n",
    "    \n",
    "    folder_name : str\n",
    "        The name of the folder where generated images will be stored \n",
    "        (e.g., 'train', 'val', 'test').\n",
    "    \n",
    "    generate_function : function\n",
    "        The function used for training and generating images. It can be one of the following:\n",
    "        - `fit`: Trains the model without generating images.\n",
    "        - `fit_transform`: Trains the model and generates images for the dataset (used for training).\n",
    "        - `transform`: Uses the pre-trained model to generate images for validation and testing.\n",
    "    \n",
    "    problem_type : str\n",
    "        The type of problem being addressed (e.g., regression, supervised).\n",
    "        This is used to locate the corresponding `.csv` file containing image paths.\n",
    "\n",
    "    Returns:\n",
    "    --------\n",
    "    X_processed : DataFrame\n",
    "        The dataset with updated image paths and raw tabular data, ready for further processing.\n",
    "    \n",
    "    y_processed : Series\n",
    "        The labels corresponding to the dataset (target values).\n",
    "    \"\"\"\n",
    "    # Generate the images if the folder does not exist\n",
    "    folder_path = f\"{images_folder}/{folder_name}\"\n",
    "    if not os.path.exists(folder_path):\n",
    "        generate_function(X, folder_path)\n",
    "    else:\n",
    "        print(f\"The images for {folder_name} are already generated\")\n",
    "\n",
    "    # Load image paths\n",
    "    img_paths = os.path.join(folder_path, f\"{problem_type}.csv\")\n",
    "    imgs = pd.read_csv(img_paths)\n",
    "\n",
    "    # Update image paths\n",
    "    imgs[\"images\"] = folder_path + \"/\" + imgs[\"images\"]\n",
    "\n",
    "    # Combine datasets\n",
    "    combined_dataset = pd.concat([imgs, X], axis=1)\n",
    "\n",
    "    # Split data and labels\n",
    "    X_processed = combined_dataset.drop(df.columns[-1], axis=1).drop(\"class\", axis=1)\n",
    "    y_processed = combined_dataset[\"class\"].astype(str)\n",
    "\n",
    "    return X_processed, y_processed\n"
   ]
  },
  {
   "cell_type": "code",
   "execution_count": 53,
   "metadata": {},
   "outputs": [
    {
     "name": "stdout",
     "output_type": "stream",
     "text": [
      "The images for train are already generated\n"
     ]
    }
   ],
   "source": [
    "### X_train\n",
    "X_train, y_train = process_dataset(X_train, \"train\", image_model.fit_transform, problem_type)"
   ]
  },
  {
   "cell_type": "code",
   "execution_count": 54,
   "metadata": {},
   "outputs": [
    {
     "name": "stdout",
     "output_type": "stream",
     "text": [
      "The images for val are already generated\n"
     ]
    }
   ],
   "source": [
    "### X_val\n",
    "X_val, y_val = process_dataset(X_val, \"val\", image_model.transform, problem_type)"
   ]
  },
  {
   "cell_type": "code",
   "execution_count": 55,
   "metadata": {},
   "outputs": [
    {
     "name": "stdout",
     "output_type": "stream",
     "text": [
      "The images for test are already generated\n"
     ]
    }
   ],
   "source": [
    "### X_test\n",
    "X_test, y_test = process_dataset(X_test, \"test\", image_model.transform, problem_type)"
   ]
  },
  {
   "cell_type": "markdown",
   "metadata": {},
   "source": [
    "---\n",
    "<div style=\"text-align: right\"> <font size=5> <a href=\"#indice\"><i class=\"fa fa-arrow-circle-up\" aria-hidden=\"true\" style=\"color:#004D7F\"></i></a></font></div>\n",
    "\n",
    "---"
   ]
  },
  {
   "cell_type": "markdown",
   "metadata": {},
   "source": [
    "<a id=\"section4\"></a>\n",
    "# <font color=\"#004D7F\" size=6> 4. Pre-modelling phase</font>"
   ]
  },
  {
   "cell_type": "markdown",
   "metadata": {},
   "source": [
    "Once the data is ready, we load it into memory with an iterator in order to pass it to the CNN."
   ]
  },
  {
   "cell_type": "markdown",
   "metadata": {
    "id": "nb4Dd37rjpDm"
   },
   "source": [
    "---\n",
    "<a id=\"section41\"></a>\n",
    "# <font color=\"#004D7F\" size=5> 4.1. Data curation</font>"
   ]
  },
  {
   "cell_type": "markdown",
   "metadata": {
    "id": "9TjBcUbxjpDt"
   },
   "source": [
    "Note that each method generates images of **different pixel size**. For example:\n",
    "- `TINTO` method has a parameter that you can specify the size in pixels which by default is 20.\n",
    "- Other parameters such as `Combined` generates the size automatically and you must obtain them from the _shape_ of the images."
   ]
  },
  {
   "cell_type": "markdown",
   "metadata": {},
   "source": [
    "<div class=\"alert alert-block alert-info\">\n",
    "\n",
    "<i class=\"fa fa-info-circle\" aria-hidden=\"true\"></i>\n",
    "You can see all information about TINTOlib documentation in [PyPI](https://tintolib.readthedocs.io/en/latest/installation.html)"
   ]
  },
  {
   "cell_type": "markdown",
   "metadata": {},
   "source": [
    "<div class=\"alert alert-block alert-info\">\n",
    "\n",
    "<i class=\"fa fa-info-circle\" aria-hidden=\"true\"></i>\n",
    "💡 **Important!!!**:  Keep in mind that, depending on the method used, you need to identify the number of pixels in the image. For example, in TINTO it is specified as a parameter, but in IGTD it is done afterwards, once the image is created (and even the pixels of width and height can be different)."
   ]
  },
  {
   "cell_type": "code",
   "execution_count": 56,
   "metadata": {},
   "outputs": [
    {
     "name": "stdout",
     "output_type": "stream",
     "text": [
      "Images shape:  (20, 20, 3)\n",
      "Attributres:  4\n",
      "Image size (pixels): 20\n"
     ]
    }
   ],
   "source": [
    "#TIDY DATA SPLITTED\n",
    "X_train_num = X_train.drop(\"images\",axis=1)\n",
    "X_val_num = X_val.drop(\"images\",axis=1)\n",
    "X_test_num = X_test.drop(\"images\",axis=1)\n",
    "\n",
    "#IMAGES\n",
    "# For 3 channels (RGB)\n",
    "X_train_img = np.array([cv2.imread(img) for img in X_train[\"images\"]])\n",
    "X_val_img = np.array([cv2.imread(img) for img in X_val[\"images\"]])\n",
    "X_test_img = np.array([cv2.imread(img) for img in X_test[\"images\"]])\n",
    "\n",
    "# For 1 channels (GRAY SCALE)\n",
    "\"\"\"X_train_img = np.array([cv2.imread(img,cv2.IMREAD_GRAYSCALE) for img in X_train[\"images\"]])\n",
    "X_val_img = np.array([cv2.imread(img,cv2.IMREAD_GRAYSCALE) for img in X_val[\"images\"]])\n",
    "X_test_img = np.array([cv2.imread(img,cv2.IMREAD_GRAYSCALE) for img in X_test[\"images\"]])\"\"\"\n",
    "\n",
    "# Create a MinMaxScaler object\n",
    "scaler = MinMaxScaler()\n",
    "\n",
    "# Scale numerical data\n",
    "X_train_num = scaler.fit_transform(X_train_num)\n",
    "X_val_num = scaler.transform(X_val_num)\n",
    "X_test_num = scaler.transform(X_test_num)\n",
    "\n",
    "attributes = X_train_num.shape[1]\n",
    "height, width, channels = X_train_img[0].shape\n",
    "imgs_shape = (height, width, channels)\n",
    "\n",
    "print(\"Images shape: \",imgs_shape)\n",
    "print(\"Attributres: \",attributes)\n",
    "pixel=X_train_img[0].shape[0]\n",
    "print(\"Image size (pixels):\", pixel)"
   ]
  },
  {
   "cell_type": "code",
   "execution_count": 57,
   "metadata": {},
   "outputs": [
    {
     "data": {
      "image/png": "[encoded data removed]",
      "text/plain": [
       "<Figure size 640x480 with 1 Axes>"
      ]
     },
     "metadata": {},
     "output_type": "display_data"
    }
   ],
   "source": [
    "# Plot an example image (e.g., the first image in the array)\n",
    "example_image = X_train_img[0]\n",
    "\n",
    "# Convert the image from BGR (OpenCV default) to RGB for correct color display\n",
    "example_image_rgb = cv2.cvtColor(example_image, cv2.COLOR_BGR2RGB)\n",
    "\n",
    "# Display the image using matplotlib\n",
    "plt.imshow(example_image_rgb)\n",
    "plt.title(\"Example Image from X_train\")\n",
    "plt.axis('off')  # Hide the axis for a cleaner look\n",
    "plt.show()"
   ]
  },
  {
   "cell_type": "code",
   "execution_count": 58,
   "metadata": {},
   "outputs": [],
   "source": [
    "df_train = pd.concat([X_train, y_train], axis = 1)\n",
    "df_test = pd.concat([X_test, y_test], axis = 1)\n",
    "df_val = pd.concat([X_val, y_val], axis = 1)"
   ]
  },
  {
   "cell_type": "code",
   "execution_count": 59,
   "metadata": {},
   "outputs": [
    {
     "name": "stdout",
     "output_type": "stream",
     "text": [
      "class\n",
      "1    40\n",
      "0    40\n",
      "2    40\n",
      "Name: count, dtype: int64\n",
      " \n",
      " \n",
      "class\n",
      "2    6\n",
      "1    5\n",
      "0    4\n",
      "Name: count, dtype: int64\n",
      " \n",
      " \n",
      "class\n",
      "0    6\n",
      "1    5\n",
      "2    4\n",
      "Name: count, dtype: int64\n"
     ]
    }
   ],
   "source": [
    "print(df_train['class'].value_counts())\n",
    "print(' ')\n",
    "print(' ')\n",
    "print(df_test['class'].value_counts())\n",
    "print(' ')\n",
    "print(' ')\n",
    "print(df_val['class'].value_counts())"
   ]
  },
  {
   "cell_type": "markdown",
   "metadata": {
    "id": "a347tUZnjpED"
   },
   "source": [
    "---\n",
    "<a id=\"section42\"></a>\n",
    "# <font color=\"#004D7F\" size=5> 4.2. Resize images</font>"
   ]
  },
  {
   "cell_type": "markdown",
   "metadata": {
    "id": "xvXLjHzAjpEE"
   },
   "source": [
    "In our case, as we are going to train with a pre-trained network, we must resize it to the dimensions established by the network. Therefore, if you make a customised CNN, this cell is optional. "
   ]
  },
  {
   "cell_type": "code",
   "execution_count": 60,
   "metadata": {
    "id": "Z0Jbdn_ypjF-",
    "tags": []
   },
   "outputs": [],
   "source": [
    "train_datagen = ImageDataGenerator(rescale = 1./255)\n",
    "valid_datagen = ImageDataGenerator(rescale = 1./255)\n",
    "teste_datagen = ImageDataGenerator(rescale = 1./255)"
   ]
  },
  {
   "cell_type": "code",
   "execution_count": 61,
   "metadata": {
    "colab": {
     "base_uri": "https://localhost:8080/"
    },
    "id": "ebOBC5iypjGA",
    "outputId": "e1bf4be0-f486-460e-9bf6-90a7f87b1939",
    "tags": []
   },
   "outputs": [
    {
     "name": "stdout",
     "output_type": "stream",
     "text": [
      "(120, 6)\n",
      "(15, 6)\n",
      "(15, 6)\n"
     ]
    }
   ],
   "source": [
    "print(df_train.shape)\n",
    "print(df_val.shape)\n",
    "print(df_test.shape)"
   ]
  },
  {
   "cell_type": "markdown",
   "metadata": {
    "id": "NjFY9rn2jpEL"
   },
   "source": [
    "---\n",
    "<a id=\"section43\"></a>\n",
    "# <font color=\"#004D7F\" size=5> 4.3. Iterators</font>"
   ]
  },
  {
   "cell_type": "markdown",
   "metadata": {},
   "source": [
    "Note that each method generates images of **different pixel size**. For example:\n",
    "- `TINTO` method has a parameter that you can specify the size in pixels which by default is 20. \n",
    "- Other parameters such as `Combined` generates the size automatically and you must obtain them from the _shape_ of the images."
   ]
  },
  {
   "cell_type": "markdown",
   "metadata": {},
   "source": [
    "<div class=\"alert alert-block alert-info\">\n",
    "\n",
    "<i class=\"fa fa-info-circle\" aria-hidden=\"true\"></i>\n",
    "You can see all information about TINTOlib documentation in [PyPI](https://tintolib.readthedocs.io/en/latest/installation.html)"
   ]
  },
  {
   "cell_type": "markdown",
   "metadata": {
    "id": "GFYTHIPljpEM"
   },
   "source": [
    "Create iterators for train/test/validation"
   ]
  },
  {
   "cell_type": "markdown",
   "metadata": {},
   "source": [
    "<div class=\"alert alert-block alert-info\">\n",
    "\n",
    "<i class=\"fa fa-info-circle\" aria-hidden=\"true\"></i>\n",
    "💡 **Importante**: Depending on the transformation method, it may perform a transformation to a size that may not be specified by the user such as TINTO. Therefore, you may need to modify the `pixel` variable.\n"
   ]
  },
  {
   "cell_type": "code",
   "execution_count": 62,
   "metadata": {},
   "outputs": [],
   "source": [
    "pixel=14"
   ]
  },
  {
   "cell_type": "code",
   "execution_count": 63,
   "metadata": {},
   "outputs": [],
   "source": [
    "#df_train"
   ]
  },
  {
   "cell_type": "code",
   "execution_count": 64,
   "metadata": {},
   "outputs": [
    {
     "data": {
      "text/html": [
       "<div>\n",
       "<style scoped>\n",
       "    .dataframe tbody tr th:only-of-type {\n",
       "        vertical-align: middle;\n",
       "    }\n",
       "\n",
       "    .dataframe tbody tr th {\n",
       "        vertical-align: top;\n",
       "    }\n",
       "\n",
       "    .dataframe thead th {\n",
       "        text-align: right;\n",
       "    }\n",
       "</style>\n",
       "<table border=\"1\" class=\"dataframe\">\n",
       "  <thead>\n",
       "    <tr style=\"text-align: right;\">\n",
       "      <th></th>\n",
       "      <th>images</th>\n",
       "      <th>SepalLength</th>\n",
       "      <th>SepalWidth</th>\n",
       "      <th>PetalLength</th>\n",
       "      <th>PetalWidth</th>\n",
       "      <th>class</th>\n",
       "    </tr>\n",
       "  </thead>\n",
       "  <tbody>\n",
       "    <tr>\n",
       "      <th>0</th>\n",
       "      <td>Synthetic_images/Multiclass/images_iris_TINTO_...</td>\n",
       "      <td>5.7</td>\n",
       "      <td>2.8</td>\n",
       "      <td>4.1</td>\n",
       "      <td>1.3</td>\n",
       "      <td>1</td>\n",
       "    </tr>\n",
       "    <tr>\n",
       "      <th>1</th>\n",
       "      <td>Synthetic_images/Multiclass/images_iris_TINTO_...</td>\n",
       "      <td>4.9</td>\n",
       "      <td>2.4</td>\n",
       "      <td>3.3</td>\n",
       "      <td>1.0</td>\n",
       "      <td>1</td>\n",
       "    </tr>\n",
       "    <tr>\n",
       "      <th>2</th>\n",
       "      <td>Synthetic_images/Multiclass/images_iris_TINTO_...</td>\n",
       "      <td>4.6</td>\n",
       "      <td>3.2</td>\n",
       "      <td>1.4</td>\n",
       "      <td>0.2</td>\n",
       "      <td>0</td>\n",
       "    </tr>\n",
       "    <tr>\n",
       "      <th>3</th>\n",
       "      <td>Synthetic_images/Multiclass/images_iris_TINTO_...</td>\n",
       "      <td>5.9</td>\n",
       "      <td>3.2</td>\n",
       "      <td>4.8</td>\n",
       "      <td>1.8</td>\n",
       "      <td>1</td>\n",
       "    </tr>\n",
       "    <tr>\n",
       "      <th>4</th>\n",
       "      <td>Synthetic_images/Multiclass/images_iris_TINTO_...</td>\n",
       "      <td>5.5</td>\n",
       "      <td>2.3</td>\n",
       "      <td>4.0</td>\n",
       "      <td>1.3</td>\n",
       "      <td>1</td>\n",
       "    </tr>\n",
       "    <tr>\n",
       "      <th>...</th>\n",
       "      <td>...</td>\n",
       "      <td>...</td>\n",
       "      <td>...</td>\n",
       "      <td>...</td>\n",
       "      <td>...</td>\n",
       "      <td>...</td>\n",
       "    </tr>\n",
       "    <tr>\n",
       "      <th>115</th>\n",
       "      <td>Synthetic_images/Multiclass/images_iris_TINTO_...</td>\n",
       "      <td>5.3</td>\n",
       "      <td>3.7</td>\n",
       "      <td>1.5</td>\n",
       "      <td>0.2</td>\n",
       "      <td>0</td>\n",
       "    </tr>\n",
       "    <tr>\n",
       "      <th>116</th>\n",
       "      <td>Synthetic_images/Multiclass/images_iris_TINTO_...</td>\n",
       "      <td>6.0</td>\n",
       "      <td>3.4</td>\n",
       "      <td>4.5</td>\n",
       "      <td>1.6</td>\n",
       "      <td>1</td>\n",
       "    </tr>\n",
       "    <tr>\n",
       "      <th>117</th>\n",
       "      <td>Synthetic_images/Multiclass/images_iris_TINTO_...</td>\n",
       "      <td>6.4</td>\n",
       "      <td>3.2</td>\n",
       "      <td>4.5</td>\n",
       "      <td>1.5</td>\n",
       "      <td>1</td>\n",
       "    </tr>\n",
       "    <tr>\n",
       "      <th>118</th>\n",
       "      <td>Synthetic_images/Multiclass/images_iris_TINTO_...</td>\n",
       "      <td>6.5</td>\n",
       "      <td>2.8</td>\n",
       "      <td>4.6</td>\n",
       "      <td>1.5</td>\n",
       "      <td>1</td>\n",
       "    </tr>\n",
       "    <tr>\n",
       "      <th>119</th>\n",
       "      <td>Synthetic_images/Multiclass/images_iris_TINTO_...</td>\n",
       "      <td>6.0</td>\n",
       "      <td>2.2</td>\n",
       "      <td>5.0</td>\n",
       "      <td>1.5</td>\n",
       "      <td>2</td>\n",
       "    </tr>\n",
       "  </tbody>\n",
       "</table>\n",
       "<p>120 rows × 6 columns</p>\n",
       "</div>"
      ],
      "text/plain": [
       "                                                images  SepalLength  \\\n",
       "0    Synthetic_images/Multiclass/images_iris_TINTO_...          5.7   \n",
       "1    Synthetic_images/Multiclass/images_iris_TINTO_...          4.9   \n",
       "2    Synthetic_images/Multiclass/images_iris_TINTO_...          4.6   \n",
       "3    Synthetic_images/Multiclass/images_iris_TINTO_...          5.9   \n",
       "4    Synthetic_images/Multiclass/images_iris_TINTO_...          5.5   \n",
       "..                                                 ...          ...   \n",
       "115  Synthetic_images/Multiclass/images_iris_TINTO_...          5.3   \n",
       "116  Synthetic_images/Multiclass/images_iris_TINTO_...          6.0   \n",
       "117  Synthetic_images/Multiclass/images_iris_TINTO_...          6.4   \n",
       "118  Synthetic_images/Multiclass/images_iris_TINTO_...          6.5   \n",
       "119  Synthetic_images/Multiclass/images_iris_TINTO_...          6.0   \n",
       "\n",
       "     SepalWidth  PetalLength  PetalWidth class  \n",
       "0           2.8          4.1         1.3     1  \n",
       "1           2.4          3.3         1.0     1  \n",
       "2           3.2          1.4         0.2     0  \n",
       "3           3.2          4.8         1.8     1  \n",
       "4           2.3          4.0         1.3     1  \n",
       "..          ...          ...         ...   ...  \n",
       "115         3.7          1.5         0.2     0  \n",
       "116         3.4          4.5         1.6     1  \n",
       "117         3.2          4.5         1.5     1  \n",
       "118         2.8          4.6         1.5     1  \n",
       "119         2.2          5.0         1.5     2  \n",
       "\n",
       "[120 rows x 6 columns]"
      ]
     },
     "execution_count": 64,
     "metadata": {},
     "output_type": "execute_result"
    }
   ],
   "source": [
    "df_train"
   ]
  },
  {
   "cell_type": "code",
   "execution_count": 65,
   "metadata": {
    "colab": {
     "base_uri": "https://localhost:8080/"
    },
    "id": "inaR7-KxpjGC",
    "outputId": "21305649-6133-43b8-c3cf-b6fa3faa5573",
    "tags": []
   },
   "outputs": [
    {
     "name": "stdout",
     "output_type": "stream",
     "text": [
      "Found 120 validated image filenames belonging to 3 classes.\n"
     ]
    }
   ],
   "source": [
    "train_iter = train_datagen.flow_from_dataframe(\n",
    "    df_train, \n",
    "    target_size = (pixel, pixel),\n",
    "    x_col = 'images',\n",
    "    y_col = 'class',\n",
    "    class_mode = 'categorical',\n",
    "    #class_mode = 'Multiclass',\n",
    "    #color_mode='grayscale',\n",
    "    color_mode='rgb',\n",
    "    batch_size = 8,\n",
    "    shuffle = True\n",
    ")"
   ]
  },
  {
   "cell_type": "code",
   "execution_count": 66,
   "metadata": {
    "colab": {
     "base_uri": "https://localhost:8080/"
    },
    "id": "MGPDhsFQpjGE",
    "outputId": "e473d2ba-806a-4a48-c530-2d91305bd9ad",
    "tags": []
   },
   "outputs": [
    {
     "name": "stdout",
     "output_type": "stream",
     "text": [
      "Found 15 validated image filenames belonging to 3 classes.\n"
     ]
    }
   ],
   "source": [
    "valid_iter = train_datagen.flow_from_dataframe(\n",
    "    df_val, \n",
    "    target_size = (pixel, pixel),\n",
    "    x_col = 'images',\n",
    "    y_col = 'class',\n",
    "    class_mode = 'categorical',\n",
    "    #class_mode = 'binary',\n",
    "    #color_mode='grayscale',\n",
    "    color_mode='rgb',\n",
    "    batch_size = 8,\n",
    "    shuffle = False\n",
    ")"
   ]
  },
  {
   "cell_type": "code",
   "execution_count": 67,
   "metadata": {
    "colab": {
     "base_uri": "https://localhost:8080/"
    },
    "id": "jkWY-9y3pjGF",
    "outputId": "2942429a-0a1f-4a68-91c2-ebd8dc797b8e",
    "tags": []
   },
   "outputs": [
    {
     "name": "stdout",
     "output_type": "stream",
     "text": [
      "Found 15 validated image filenames belonging to 3 classes.\n"
     ]
    }
   ],
   "source": [
    "test_iter = train_datagen.flow_from_dataframe(\n",
    "    df_test, \n",
    "    target_size = (pixel, pixel),\n",
    "    x_col = 'images',\n",
    "    y_col = 'class',\n",
    "    class_mode = 'categorical',\n",
    "    #class_mode = 'binary',\n",
    "    #color_mode='grayscale',\n",
    "    color_mode='rgb',\n",
    "    batch_size = 8,\n",
    "    shuffle = False\n",
    ")"
   ]
  },
  {
   "cell_type": "code",
   "execution_count": 68,
   "metadata": {
    "colab": {
     "base_uri": "https://localhost:8080/"
    },
    "id": "3YzRGsb9pjGG",
    "outputId": "1edff292-1127-40d6-b68f-1e6a4d92be32",
    "tags": []
   },
   "outputs": [
    {
     "name": "stdout",
     "output_type": "stream",
     "text": [
      "(14, 14, 3)\n",
      "(14, 14, 3)\n",
      "(14, 14, 3)\n"
     ]
    }
   ],
   "source": [
    "print(train_iter.image_shape)\n",
    "print(valid_iter.image_shape)\n",
    "print(test_iter.image_shape)"
   ]
  },
  {
   "cell_type": "markdown",
   "metadata": {
    "id": "xagy7N7ijpEX"
   },
   "source": [
    "---\n",
    "<div style=\"text-align: right\"> <font size=5> <a href=\"#indice\"><i class=\"fa fa-arrow-circle-up\" aria-hidden=\"true\" style=\"color:#004D7F\"></i></a></font></div>\n",
    "\n",
    "---"
   ]
  },
  {
   "cell_type": "markdown",
   "metadata": {
    "id": "rE0VunQYjpEY"
   },
   "source": [
    "<a id=\"section5\"></a>\n",
    "# <font color=\"#004D7F\" size=6> 5. Modelling with CNN</font>"
   ]
  },
  {
   "cell_type": "markdown",
   "metadata": {
    "id": "MDfs9l-hjpEZ"
   },
   "source": [
    "Now we can start the CNN training. Before that we prepare the algorithm for reading data."
   ]
  },
  {
   "cell_type": "markdown",
   "metadata": {
    "id": "Qn2U90FwjpEe"
   },
   "source": [
    "<a id=\"section51\"></a>\n",
    "# <font color=\"#004D7F\" size=5> 5.1. CNN</font>"
   ]
  },
  {
   "cell_type": "markdown",
   "metadata": {},
   "source": [
    "This is an example of a simple CNN. Note that we are not looking for the optimization of the CNN but to show an example of TINTOlib execution."
   ]
  },
  {
   "cell_type": "code",
   "execution_count": 74,
   "metadata": {
    "id": "tZl0AETUw1r8"
   },
   "outputs": [],
   "source": [
    "dropout = 0.2\n",
    "epochs = 100\n",
    "n_class = df.iloc[:, -1].value_counts().count()"
   ]
  },
  {
   "cell_type": "markdown",
   "metadata": {},
   "source": [
    "<div class=\"alert alert-block alert-info\">\n",
    "\n",
    "<i class=\"fa fa-info-circle\" aria-hidden=\"true\"></i>\n",
    "💡 **Important**: `padding=\"same\"` is very important to avoid losing the first/last row/column of pixels. Keep in mind that the images have a small size.\n"
   ]
  },
  {
   "cell_type": "code",
   "execution_count": 75,
   "metadata": {},
   "outputs": [],
   "source": [
    "#Entrada\n",
    "input_shape = Input(shape=(pixel, pixel,3))\n",
    "        \n",
    "#Inicio de rama 1\n",
    "tower_1 = Conv2D(16, (3,3), activation='relu',padding=\"same\")(input_shape)\n",
    "tower_1 = BatchNormalization()(tower_1)\n",
    "tower_1 = Activation('relu')(tower_1)\n",
    "tower_1 = MaxPooling2D(2,2)(tower_1)\n",
    "#tower_1 = Dropout(0.5)(tower_1)\n",
    "        \n",
    "tower_1 = Conv2D(32, (3,3), activation='relu',padding=\"same\")(tower_1)\n",
    "tower_1 = BatchNormalization()(tower_1)\n",
    "tower_1 = Activation('relu')(tower_1)\n",
    "tower_1 = MaxPooling2D(2,2)(tower_1)\n",
    "#tower_1 = Dropou(0.5)(tower_1)\n",
    "        \n",
    "tower_1 = Conv2D(64, (3,3), activation='relu',padding=\"same\")(tower_1)\n",
    "tower_1 = BatchNormalization()(tower_1)\n",
    "tower_1 = Activation('relu')(tower_1)\n",
    "tower_1 = MaxPooling2D(2,2)(tower_1)\n",
    "#tower_1 = Dropou(0.5)(tower_1)\n",
    "        \n",
    "#tower_1 = Conv2D(64, (3,3), activation='relu',padding=\"same\")(tower_1)\n",
    "#tower_1 = BatchNormalization()(tower_1)\n",
    "#tower_1 = Activation('relu')(tower_1)\n",
    "#tower_1 = MaxPooling2D(2,2)(tower_1)\n",
    "#tower_1 = Dropou(0.5)(tower_1)\n",
    "#Fin de rama 1\n",
    "        \n",
    "#Inicio de rama 2\n",
    "tower_2 = Conv2D(16, (5,5), activation='relu',padding=\"same\")(input_shape)\n",
    "tower_2 = BatchNormalization()(tower_2)\n",
    "tower_2 = Activation('relu')(tower_2)\n",
    "tower_2 = AveragePooling2D(2,2)(tower_2)\n",
    "#tower_2 = Dropou(0.5)(tower_2)\n",
    "        \n",
    "tower_2 = Conv2D(32, (5,5), activation='relu',padding=\"same\")(tower_2)\n",
    "tower_2 = BatchNormalization()(tower_2)\n",
    "tower_2 = Activation('relu')(tower_2)\n",
    "tower_2 = AveragePooling2D(2,2)(tower_2)\n",
    "#tower_2 = Dropou(0.5)(tower_2)\n",
    "        \n",
    "tower_2 = Conv2D(64, (5,5), activation='relu',padding=\"same\")(tower_2)\n",
    "tower_2 = BatchNormalization()(tower_2)\n",
    "tower_2 = Activation('relu')(tower_2)\n",
    "tower_2 = AveragePooling2D(2,2)(tower_2)\n",
    "#tower_2 = Dropou(0.5)(tower_2)\n",
    "        \n",
    "#tower_2 = Conv2D(64, (5,5), activation='relu',padding=\"same\")(tower_2)\n",
    "#tower_2 = BatchNormalization()(tower_2)\n",
    "#tower_2 = Activation('relu')(tower_2)\n",
    "#tower_2 = AveragePooling2D(2,2)(tower_2)\n",
    "#tower_2 = Dropou(0.5)(tower_2)\n",
    "#Fin de rama 2\n",
    "            \n",
    "#Concatenación de las 2 ramas\n",
    "merged = Concatenate(axis=1)([tower_1, tower_2])\n",
    "        \n",
    "#Aplanamiento\n",
    "merged = Flatten()(merged)\n",
    "        \n",
    "#Capas adicionales\n",
    "out = Dense(256, activation='relu')(merged)\n",
    "out = Dense(128, activation='sigmoid')(out)\n",
    "#out = Dense(64, activation='sigmoid')(out)\n",
    "out = Dense(32, activation='sigmoid')(out)\n",
    "        \n",
    "#Capa final de clasificación\n",
    "out = Dense(n_class, activation='softmax')(out)\n",
    "#out = Dense(1, activation='sigmoid')(out)\n",
    "        \n",
    "model = Model(input_shape, out)"
   ]
  },
  {
   "cell_type": "code",
   "execution_count": 76,
   "metadata": {},
   "outputs": [
    {
     "data": {
      "text/html": [
       "<pre style=\"white-space:pre;overflow-x:auto;line-height:normal;font-family:Menlo,'DejaVu Sans Mono',consolas,'Courier New',monospace\"></pre>\n"
      ],
      "text/plain": []
     },
     "metadata": {},
     "output_type": "display_data"
    },
    {
     "name": "stdout",
     "output_type": "stream",
     "text": [
      "You must install graphviz (see instructions at https://graphviz.gitlab.io/download/) for `plot_model` to work.\n"
     ]
    },
    {
     "data": {
      "text/plain": [
       "<contextlib.ExitStack at 0x24d04917910>"
      ]
     },
     "execution_count": 76,
     "metadata": {},
     "output_type": "execute_result"
    }
   ],
   "source": [
    "os.makedirs(results_folder, exist_ok=True)\n",
    "\n",
    "# Redirect the summary output to the specified file\n",
    "with open(results_folder+\"/model_summary.txt\", \"w\") as f:\n",
    "    model.summary(print_fn=lambda x: f.write(x + '\\n'))\n",
    "\n",
    "# Desactivar la visualización automática de matplotlib\n",
    "plt.ioff()\n",
    "# Now, you can also save the model plot\n",
    "plot_model(model, to_file=results_folder+'model_plot.png', show_shapes=True, expand_nested=True)\n",
    "# Reactivar la visualización automática de matplotlib (opcional)\n",
    "plt.ion()"
   ]
  },
  {
   "cell_type": "code",
   "execution_count": 77,
   "metadata": {
    "id": "DC3Ft7sppjGI",
    "tags": []
   },
   "outputs": [],
   "source": [
    "METRICS = [\n",
    "      tf.keras.metrics.TruePositives(name = 'tp'),\n",
    "      tf.keras.metrics.FalsePositives(name = 'fp'),\n",
    "      tf.keras.metrics.TrueNegatives(name = 'tn'),\n",
    "      tf.keras.metrics.FalseNegatives(name = 'fn'), \n",
    "      tf.keras.metrics.BinaryAccuracy(name ='accuracy'),\n",
    "      tf.keras.metrics.Precision(name = 'precision'),\n",
    "      tf.keras.metrics.Recall(name = 'recall'),\n",
    "      tf.keras.metrics.AUC(name = 'auc'),\n",
    "]"
   ]
  },
  {
   "cell_type": "markdown",
   "metadata": {
    "id": "owmN8gR-jpEh"
   },
   "source": [
    "<a id=\"section52\"></a>\n",
    "# <font color=\"#004D7F\" size=5> 5.2. Compile and fit</font>"
   ]
  },
  {
   "cell_type": "markdown",
   "metadata": {},
   "source": [
    "Note to **specify the loss** depending on whether you have a binary or multiclass classification problem."
   ]
  },
  {
   "cell_type": "code",
   "execution_count": 78,
   "metadata": {
    "id": "RFxZU2q6pjGJ",
    "tags": []
   },
   "outputs": [],
   "source": [
    "#opt = Adam(learning_rate=1e-3)\n",
    "model.compile(\n",
    "                #optimizer = sgd,\n",
    "                optimizer = 'adam',\n",
    "                #optimizer = 'Adadelta',\n",
    "                #optimizer = 'Adamax',\n",
    "                #optimizer = opt,\n",
    "                metrics = METRICS,\n",
    "                #metrics = ['accuracy'],\n",
    "                \n",
    "                #loss = 'binary_crossentropy'\n",
    "                loss = 'categorical_crossentropy'\n",
    "                )"
   ]
  },
  {
   "cell_type": "code",
   "execution_count": 79,
   "metadata": {},
   "outputs": [],
   "source": [
    "# Configure EarlyStopping for binary classification\n",
    "early_stopper = tf.keras.callbacks.EarlyStopping(\n",
    "    monitor='val_loss',  # Monitor the validation accuracy\n",
    "    min_delta=0.001,         # Minimum change in the monitored quantity to qualify as an improvement\n",
    "    patience=20,             # Number of epochs with no improvement after which training will be stopped\n",
    "    verbose=1,               # Log when training stops\n",
    "    mode='min',              # Maximize the accuracy; min the loss\n",
    "    restore_best_weights=True  # Restore model weights from the epoch with the best value of the monitored quantity\n",
    ")"
   ]
  },
  {
   "cell_type": "code",
   "execution_count": 80,
   "metadata": {
    "scrolled": true
   },
   "outputs": [
    {
     "name": "stdout",
     "output_type": "stream",
     "text": [
      "Epoch 1/100\n"
     ]
    },
    {
     "name": "stderr",
     "output_type": "stream",
     "text": [
      "c:\\Users\\jiayu\\anaconda3\\envs\\TINTOlib\\lib\\site-packages\\keras\\src\\trainers\\data_adapters\\py_dataset_adapter.py:121: UserWarning: Your `PyDataset` class should call `super().__init__(**kwargs)` in its constructor. `**kwargs` can include `workers`, `use_multiprocessing`, `max_queue_size`. Do not pass these arguments to `fit()`, as they will be ignored.\n",
      "  self._warn_if_super_not_called()\n"
     ]
    },
    {
     "name": "stdout",
     "output_type": "stream",
     "text": [
      "\u001b[1m15/15\u001b[0m \u001b[32m━━━━━━━━━━━━━━━━━━━━\u001b[0m\u001b[37m\u001b[0m \u001b[1m4s\u001b[0m 52ms/step - accuracy: 0.7148 - auc: 0.6825 - fn: 53.8750 - fp: 1.0000 - loss: 1.0159 - precision: 0.8424 - recall: 0.1708 - tn: 134.0000 - tp: 13.6250 - val_accuracy: 0.6667 - val_auc: 0.5433 - val_fn: 15.0000 - val_fp: 0.0000e+00 - val_loss: 1.0877 - val_precision: 0.0000e+00 - val_recall: 0.0000e+00 - val_tn: 30.0000 - val_tp: 0.0000e+00\n",
      "Epoch 2/100\n",
      "\u001b[1m15/15\u001b[0m \u001b[32m━━━━━━━━━━━━━━━━━━━━\u001b[0m\u001b[37m\u001b[0m \u001b[1m0s\u001b[0m 8ms/step - accuracy: 0.7717 - auc: 0.8967 - fn: 46.1250 - fp: 0.8125 - loss: 0.6231 - precision: 0.9818 - recall: 0.3220 - tn: 134.1875 - tp: 21.3750 - val_accuracy: 0.6667 - val_auc: 0.7600 - val_fn: 15.0000 - val_fp: 0.0000e+00 - val_loss: 1.0807 - val_precision: 0.0000e+00 - val_recall: 0.0000e+00 - val_tn: 30.0000 - val_tp: 0.0000e+00\n",
      "Epoch 3/100\n",
      "\u001b[1m15/15\u001b[0m \u001b[32m━━━━━━━━━━━━━━━━━━━━\u001b[0m\u001b[37m\u001b[0m \u001b[1m0s\u001b[0m 8ms/step - accuracy: 0.8038 - auc: 0.9177 - fn: 25.3125 - fp: 15.7500 - loss: 0.5351 - precision: 0.7545 - recall: 0.6214 - tn: 119.2500 - tp: 42.1875 - val_accuracy: 0.6667 - val_auc: 0.6856 - val_fn: 15.0000 - val_fp: 0.0000e+00 - val_loss: 1.0709 - val_precision: 0.0000e+00 - val_recall: 0.0000e+00 - val_tn: 30.0000 - val_tp: 0.0000e+00\n",
      "Epoch 4/100\n",
      "\u001b[1m15/15\u001b[0m \u001b[32m━━━━━━━━━━━━━━━━━━━━\u001b[0m\u001b[37m\u001b[0m \u001b[1m0s\u001b[0m 8ms/step - accuracy: 0.8386 - auc: 0.9216 - fn: 27.6875 - fp: 4.7500 - loss: 0.5171 - precision: 0.9270 - recall: 0.5659 - tn: 130.2500 - tp: 39.8125 - val_accuracy: 0.6667 - val_auc: 0.6833 - val_fn: 15.0000 - val_fp: 0.0000e+00 - val_loss: 1.0670 - val_precision: 0.0000e+00 - val_recall: 0.0000e+00 - val_tn: 30.0000 - val_tp: 0.0000e+00\n",
      "Epoch 5/100\n",
      "\u001b[1m15/15\u001b[0m \u001b[32m━━━━━━━━━━━━━━━━━━━━\u001b[0m\u001b[37m\u001b[0m \u001b[1m0s\u001b[0m 8ms/step - accuracy: 0.7888 - auc: 0.9023 - fn: 32.7500 - fp: 7.2500 - loss: 0.5116 - precision: 0.8161 - recall: 0.4695 - tn: 127.7500 - tp: 34.7500 - val_accuracy: 0.6667 - val_auc: 0.6922 - val_fn: 15.0000 - val_fp: 0.0000e+00 - val_loss: 1.0648 - val_precision: 0.0000e+00 - val_recall: 0.0000e+00 - val_tn: 30.0000 - val_tp: 0.0000e+00\n",
      "Epoch 6/100\n",
      "\u001b[1m15/15\u001b[0m \u001b[32m━━━━━━━━━━━━━━━━━━━━\u001b[0m\u001b[37m\u001b[0m \u001b[1m0s\u001b[0m 7ms/step - accuracy: 0.8673 - auc: 0.9497 - fn: 17.7500 - fp: 11.1250 - loss: 0.4529 - precision: 0.8579 - recall: 0.7298 - tn: 123.8750 - tp: 49.7500 - val_accuracy: 0.8000 - val_auc: 0.7267 - val_fn: 9.0000 - val_fp: 0.0000e+00 - val_loss: 1.0640 - val_precision: 1.0000 - val_recall: 0.4000 - val_tn: 30.0000 - val_tp: 6.0000\n",
      "Epoch 7/100\n",
      "\u001b[1m15/15\u001b[0m \u001b[32m━━━━━━━━━━━━━━━━━━━━\u001b[0m\u001b[37m\u001b[0m \u001b[1m0s\u001b[0m 7ms/step - accuracy: 0.8442 - auc: 0.9384 - fn: 17.6875 - fp: 13.2500 - loss: 0.4460 - precision: 0.7849 - recall: 0.7340 - tn: 121.7500 - tp: 49.8125 - val_accuracy: 0.6444 - val_auc: 0.7589 - val_fn: 9.0000 - val_fp: 7.0000 - val_loss: 1.0640 - val_precision: 0.4615 - val_recall: 0.4000 - val_tn: 23.0000 - val_tp: 6.0000\n",
      "Epoch 8/100\n",
      "\u001b[1m15/15\u001b[0m \u001b[32m━━━━━━━━━━━━━━━━━━━━\u001b[0m\u001b[37m\u001b[0m \u001b[1m0s\u001b[0m 8ms/step - accuracy: 0.8722 - auc: 0.9547 - fn: 14.9375 - fp: 10.5625 - loss: 0.4385 - precision: 0.8294 - recall: 0.7769 - tn: 124.4375 - tp: 52.5625 - val_accuracy: 0.8000 - val_auc: 0.6833 - val_fn: 9.0000 - val_fp: 0.0000e+00 - val_loss: 1.0654 - val_precision: 1.0000 - val_recall: 0.4000 - val_tn: 30.0000 - val_tp: 6.0000\n",
      "Epoch 9/100\n",
      "\u001b[1m15/15\u001b[0m \u001b[32m━━━━━━━━━━━━━━━━━━━━\u001b[0m\u001b[37m\u001b[0m \u001b[1m0s\u001b[0m 8ms/step - accuracy: 0.8379 - auc: 0.9412 - fn: 17.9375 - fp: 15.5625 - loss: 0.4179 - precision: 0.7649 - recall: 0.7420 - tn: 119.4375 - tp: 49.5625 - val_accuracy: 0.6667 - val_auc: 0.7267 - val_fn: 15.0000 - val_fp: 0.0000e+00 - val_loss: 1.0297 - val_precision: 0.0000e+00 - val_recall: 0.0000e+00 - val_tn: 30.0000 - val_tp: 0.0000e+00\n",
      "Epoch 10/100\n",
      "\u001b[1m15/15\u001b[0m \u001b[32m━━━━━━━━━━━━━━━━━━━━\u001b[0m\u001b[37m\u001b[0m \u001b[1m0s\u001b[0m 8ms/step - accuracy: 0.8533 - auc: 0.9386 - fn: 17.3125 - fp: 13.8750 - loss: 0.4350 - precision: 0.7996 - recall: 0.7482 - tn: 121.1250 - tp: 50.1875 - val_accuracy: 0.8000 - val_auc: 0.6667 - val_fn: 9.0000 - val_fp: 0.0000e+00 - val_loss: 1.0238 - val_precision: 1.0000 - val_recall: 0.4000 - val_tn: 30.0000 - val_tp: 6.0000\n",
      "Epoch 11/100\n",
      "\u001b[1m15/15\u001b[0m \u001b[32m━━━━━━━━━━━━━━━━━━━━\u001b[0m\u001b[37m\u001b[0m \u001b[1m0s\u001b[0m 8ms/step - accuracy: 0.8801 - auc: 0.9537 - fn: 13.8125 - fp: 13.5625 - loss: 0.4196 - precision: 0.8208 - recall: 0.8191 - tn: 121.4375 - tp: 53.6875 - val_accuracy: 0.6000 - val_auc: 0.7222 - val_fn: 9.0000 - val_fp: 9.0000 - val_loss: 1.0702 - val_precision: 0.4000 - val_recall: 0.4000 - val_tn: 21.0000 - val_tp: 6.0000\n",
      "Epoch 12/100\n",
      "\u001b[1m15/15\u001b[0m \u001b[32m━━━━━━━━━━━━━━━━━━━━\u001b[0m\u001b[37m\u001b[0m \u001b[1m0s\u001b[0m 8ms/step - accuracy: 0.8472 - auc: 0.9364 - fn: 17.8125 - fp: 16.3125 - loss: 0.4236 - precision: 0.7750 - recall: 0.7624 - tn: 118.6875 - tp: 49.6875 - val_accuracy: 0.8000 - val_auc: 0.6622 - val_fn: 9.0000 - val_fp: 0.0000e+00 - val_loss: 0.9983 - val_precision: 1.0000 - val_recall: 0.4000 - val_tn: 30.0000 - val_tp: 6.0000\n",
      "Epoch 13/100\n",
      "\u001b[1m15/15\u001b[0m \u001b[32m━━━━━━━━━━━━━━━━━━━━\u001b[0m\u001b[37m\u001b[0m \u001b[1m0s\u001b[0m 8ms/step - accuracy: 0.8347 - auc: 0.9350 - fn: 16.8125 - fp: 15.8750 - loss: 0.4343 - precision: 0.7547 - recall: 0.7470 - tn: 119.1250 - tp: 50.6875 - val_accuracy: 0.8000 - val_auc: 0.7378 - val_fn: 9.0000 - val_fp: 0.0000e+00 - val_loss: 0.9380 - val_precision: 1.0000 - val_recall: 0.4000 - val_tn: 30.0000 - val_tp: 6.0000\n",
      "Epoch 14/100\n",
      "\u001b[1m15/15\u001b[0m \u001b[32m━━━━━━━━━━━━━━━━━━━━\u001b[0m\u001b[37m\u001b[0m \u001b[1m0s\u001b[0m 8ms/step - accuracy: 0.9343 - auc: 0.9742 - fn: 8.2500 - fp: 7.9375 - loss: 0.3242 - precision: 0.9025 - recall: 0.9000 - tn: 127.0625 - tp: 59.2500 - val_accuracy: 0.8000 - val_auc: 0.7333 - val_fn: 9.0000 - val_fp: 0.0000e+00 - val_loss: 0.9059 - val_precision: 1.0000 - val_recall: 0.4000 - val_tn: 30.0000 - val_tp: 6.0000\n",
      "Epoch 15/100\n",
      "\u001b[1m15/15\u001b[0m \u001b[32m━━━━━━━━━━━━━━━━━━━━\u001b[0m\u001b[37m\u001b[0m \u001b[1m0s\u001b[0m 8ms/step - accuracy: 0.8713 - auc: 0.9598 - fn: 14.0000 - fp: 14.0000 - loss: 0.3766 - precision: 0.8069 - recall: 0.8069 - tn: 121.0000 - tp: 53.5000 - val_accuracy: 0.7778 - val_auc: 0.7767 - val_fn: 5.0000 - val_fp: 5.0000 - val_loss: 0.8391 - val_precision: 0.6667 - val_recall: 0.6667 - val_tn: 25.0000 - val_tp: 10.0000\n",
      "Epoch 16/100\n",
      "\u001b[1m15/15\u001b[0m \u001b[32m━━━━━━━━━━━━━━━━━━━━\u001b[0m\u001b[37m\u001b[0m \u001b[1m0s\u001b[0m 7ms/step - accuracy: 0.8344 - auc: 0.9292 - fn: 15.8125 - fp: 14.0000 - loss: 0.4516 - precision: 0.7584 - recall: 0.7398 - tn: 121.0000 - tp: 51.6875 - val_accuracy: 0.7778 - val_auc: 0.7422 - val_fn: 5.0000 - val_fp: 5.0000 - val_loss: 0.8682 - val_precision: 0.6667 - val_recall: 0.6667 - val_tn: 25.0000 - val_tp: 10.0000\n",
      "Epoch 17/100\n",
      "\u001b[1m15/15\u001b[0m \u001b[32m━━━━━━━━━━━━━━━━━━━━\u001b[0m\u001b[37m\u001b[0m \u001b[1m0s\u001b[0m 7ms/step - accuracy: 0.8751 - auc: 0.9629 - fn: 11.5000 - fp: 10.8750 - loss: 0.3853 - precision: 0.8152 - recall: 0.8090 - tn: 124.1250 - tp: 56.0000 - val_accuracy: 0.6667 - val_auc: 0.7244 - val_fn: 9.0000 - val_fp: 6.0000 - val_loss: 1.0324 - val_precision: 0.5000 - val_recall: 0.4000 - val_tn: 24.0000 - val_tp: 6.0000\n",
      "Epoch 18/100\n",
      "\u001b[1m15/15\u001b[0m \u001b[32m━━━━━━━━━━━━━━━━━━━━\u001b[0m\u001b[37m\u001b[0m \u001b[1m0s\u001b[0m 7ms/step - accuracy: 0.8712 - auc: 0.9378 - fn: 14.8125 - fp: 14.1250 - loss: 0.4276 - precision: 0.8092 - recall: 0.8025 - tn: 120.8750 - tp: 52.6875 - val_accuracy: 0.5111 - val_auc: 0.7089 - val_fn: 11.0000 - val_fp: 11.0000 - val_loss: 1.3632 - val_precision: 0.2667 - val_recall: 0.2667 - val_tn: 19.0000 - val_tp: 4.0000\n",
      "Epoch 19/100\n",
      "\u001b[1m15/15\u001b[0m \u001b[32m━━━━━━━━━━━━━━━━━━━━\u001b[0m\u001b[37m\u001b[0m \u001b[1m0s\u001b[0m 8ms/step - accuracy: 0.8358 - auc: 0.9269 - fn: 16.5000 - fp: 15.3125 - loss: 0.4512 - precision: 0.7614 - recall: 0.7397 - tn: 119.6875 - tp: 51.0000 - val_accuracy: 0.5111 - val_auc: 0.5800 - val_fn: 11.0000 - val_fp: 11.0000 - val_loss: 1.5694 - val_precision: 0.2667 - val_recall: 0.2667 - val_tn: 19.0000 - val_tp: 4.0000\n",
      "Epoch 20/100\n",
      "\u001b[1m15/15\u001b[0m \u001b[32m━━━━━━━━━━━━━━━━━━━━\u001b[0m\u001b[37m\u001b[0m \u001b[1m0s\u001b[0m 8ms/step - accuracy: 0.8696 - auc: 0.9529 - fn: 14.7500 - fp: 14.5000 - loss: 0.3968 - precision: 0.8050 - recall: 0.8032 - tn: 120.5000 - tp: 52.7500 - val_accuracy: 0.7778 - val_auc: 0.7978 - val_fn: 5.0000 - val_fp: 5.0000 - val_loss: 0.8309 - val_precision: 0.6667 - val_recall: 0.6667 - val_tn: 25.0000 - val_tp: 10.0000\n",
      "Epoch 21/100\n",
      "\u001b[1m15/15\u001b[0m \u001b[32m━━━━━━━━━━━━━━━━━━━━\u001b[0m\u001b[37m\u001b[0m \u001b[1m0s\u001b[0m 8ms/step - accuracy: 0.8698 - auc: 0.9598 - fn: 13.0000 - fp: 13.0000 - loss: 0.3665 - precision: 0.8047 - recall: 0.8047 - tn: 122.0000 - tp: 54.5000 - val_accuracy: 0.5111 - val_auc: 0.6222 - val_fn: 11.0000 - val_fp: 11.0000 - val_loss: 1.6792 - val_precision: 0.2667 - val_recall: 0.2667 - val_tn: 19.0000 - val_tp: 4.0000\n",
      "Epoch 22/100\n",
      "\u001b[1m15/15\u001b[0m \u001b[32m━━━━━━━━━━━━━━━━━━━━\u001b[0m\u001b[37m\u001b[0m \u001b[1m0s\u001b[0m 7ms/step - accuracy: 0.8487 - auc: 0.9437 - fn: 15.1875 - fp: 15.1875 - loss: 0.4124 - precision: 0.7730 - recall: 0.7730 - tn: 119.8125 - tp: 52.3125 - val_accuracy: 0.5111 - val_auc: 0.6289 - val_fn: 11.0000 - val_fp: 11.0000 - val_loss: 1.6263 - val_precision: 0.2667 - val_recall: 0.2667 - val_tn: 19.0000 - val_tp: 4.0000\n",
      "Epoch 23/100\n",
      "\u001b[1m15/15\u001b[0m \u001b[32m━━━━━━━━━━━━━━━━━━━━\u001b[0m\u001b[37m\u001b[0m \u001b[1m0s\u001b[0m 7ms/step - accuracy: 0.8791 - auc: 0.9583 - fn: 12.2500 - fp: 11.4375 - loss: 0.3573 - precision: 0.8227 - recall: 0.8125 - tn: 123.5625 - tp: 55.2500 - val_accuracy: 0.5333 - val_auc: 0.6311 - val_fn: 11.0000 - val_fp: 10.0000 - val_loss: 1.2258 - val_precision: 0.2857 - val_recall: 0.2667 - val_tn: 20.0000 - val_tp: 4.0000\n",
      "Epoch 24/100\n",
      "\u001b[1m15/15\u001b[0m \u001b[32m━━━━━━━━━━━━━━━━━━━━\u001b[0m\u001b[37m\u001b[0m \u001b[1m0s\u001b[0m 7ms/step - accuracy: 0.8605 - auc: 0.9493 - fn: 12.6250 - fp: 12.6250 - loss: 0.3957 - precision: 0.7908 - recall: 0.7908 - tn: 122.3750 - tp: 54.8750 - val_accuracy: 0.7778 - val_auc: 0.7544 - val_fn: 5.0000 - val_fp: 5.0000 - val_loss: 1.0352 - val_precision: 0.6667 - val_recall: 0.6667 - val_tn: 25.0000 - val_tp: 10.0000\n",
      "Epoch 25/100\n",
      "\u001b[1m15/15\u001b[0m \u001b[32m━━━━━━━━━━━━━━━━━━━━\u001b[0m\u001b[37m\u001b[0m \u001b[1m0s\u001b[0m 8ms/step - accuracy: 0.8696 - auc: 0.9572 - fn: 13.7500 - fp: 13.7500 - loss: 0.3662 - precision: 0.8044 - recall: 0.8044 - tn: 121.2500 - tp: 53.7500 - val_accuracy: 0.5333 - val_auc: 0.6511 - val_fn: 11.0000 - val_fp: 10.0000 - val_loss: 1.2779 - val_precision: 0.2857 - val_recall: 0.2667 - val_tn: 20.0000 - val_tp: 4.0000\n",
      "Epoch 26/100\n",
      "\u001b[1m15/15\u001b[0m \u001b[32m━━━━━━━━━━━━━━━━━━━━\u001b[0m\u001b[37m\u001b[0m \u001b[1m0s\u001b[0m 8ms/step - accuracy: 0.8761 - auc: 0.9607 - fn: 13.1250 - fp: 13.1250 - loss: 0.3579 - precision: 0.8142 - recall: 0.8142 - tn: 121.8750 - tp: 54.3750 - val_accuracy: 0.7778 - val_auc: 0.8522 - val_fn: 5.0000 - val_fp: 5.0000 - val_loss: 0.8997 - val_precision: 0.6667 - val_recall: 0.6667 - val_tn: 25.0000 - val_tp: 10.0000\n",
      "Epoch 27/100\n",
      "\u001b[1m15/15\u001b[0m \u001b[32m━━━━━━━━━━━━━━━━━━━━\u001b[0m\u001b[37m\u001b[0m \u001b[1m0s\u001b[0m 7ms/step - accuracy: 0.8587 - auc: 0.9377 - fn: 15.1875 - fp: 15.1875 - loss: 0.4417 - precision: 0.7880 - recall: 0.7880 - tn: 119.8125 - tp: 52.3125 - val_accuracy: 0.7778 - val_auc: 0.7944 - val_fn: 5.0000 - val_fp: 5.0000 - val_loss: 0.8961 - val_precision: 0.6667 - val_recall: 0.6667 - val_tn: 25.0000 - val_tp: 10.0000\n",
      "Epoch 28/100\n",
      "\u001b[1m15/15\u001b[0m \u001b[32m━━━━━━━━━━━━━━━━━━━━\u001b[0m\u001b[37m\u001b[0m \u001b[1m0s\u001b[0m 8ms/step - accuracy: 0.8797 - auc: 0.9518 - fn: 13.8750 - fp: 12.9375 - loss: 0.3822 - precision: 0.8235 - recall: 0.8130 - tn: 122.0625 - tp: 53.6250 - val_accuracy: 0.7778 - val_auc: 0.9300 - val_fn: 5.0000 - val_fp: 5.0000 - val_loss: 0.8936 - val_precision: 0.6667 - val_recall: 0.6667 - val_tn: 25.0000 - val_tp: 10.0000\n",
      "Epoch 29/100\n",
      "\u001b[1m15/15\u001b[0m \u001b[32m━━━━━━━━━━━━━━━━━━━━\u001b[0m\u001b[37m\u001b[0m \u001b[1m0s\u001b[0m 8ms/step - accuracy: 0.8905 - auc: 0.9623 - fn: 12.0000 - fp: 11.6250 - loss: 0.3554 - precision: 0.8369 - recall: 0.8340 - tn: 123.3750 - tp: 55.5000 - val_accuracy: 0.7778 - val_auc: 0.9311 - val_fn: 5.0000 - val_fp: 5.0000 - val_loss: 0.8768 - val_precision: 0.6667 - val_recall: 0.6667 - val_tn: 25.0000 - val_tp: 10.0000\n",
      "Epoch 30/100\n",
      "\u001b[1m15/15\u001b[0m \u001b[32m━━━━━━━━━━━━━━━━━━━━\u001b[0m\u001b[37m\u001b[0m \u001b[1m0s\u001b[0m 8ms/step - accuracy: 0.8758 - auc: 0.9527 - fn: 13.8750 - fp: 13.8750 - loss: 0.3744 - precision: 0.8137 - recall: 0.8137 - tn: 121.1250 - tp: 53.6250 - val_accuracy: 0.7778 - val_auc: 0.9189 - val_fn: 5.0000 - val_fp: 5.0000 - val_loss: 0.7782 - val_precision: 0.6667 - val_recall: 0.6667 - val_tn: 25.0000 - val_tp: 10.0000\n",
      "Epoch 31/100\n",
      "\u001b[1m15/15\u001b[0m \u001b[32m━━━━━━━━━━━━━━━━━━━━\u001b[0m\u001b[37m\u001b[0m \u001b[1m0s\u001b[0m 8ms/step - accuracy: 0.9069 - auc: 0.9662 - fn: 10.1875 - fp: 10.1875 - loss: 0.3565 - precision: 0.8604 - recall: 0.8604 - tn: 124.8125 - tp: 57.3125 - val_accuracy: 0.7778 - val_auc: 0.8944 - val_fn: 5.0000 - val_fp: 5.0000 - val_loss: 0.8370 - val_precision: 0.6667 - val_recall: 0.6667 - val_tn: 25.0000 - val_tp: 10.0000\n",
      "Epoch 32/100\n",
      "\u001b[1m15/15\u001b[0m \u001b[32m━━━━━━━━━━━━━━━━━━━━\u001b[0m\u001b[37m\u001b[0m \u001b[1m0s\u001b[0m 7ms/step - accuracy: 0.8768 - auc: 0.9662 - fn: 13.0000 - fp: 13.0000 - loss: 0.3219 - precision: 0.8152 - recall: 0.8152 - tn: 122.0000 - tp: 54.5000 - val_accuracy: 0.7333 - val_auc: 0.8500 - val_fn: 7.0000 - val_fp: 5.0000 - val_loss: 0.9467 - val_precision: 0.6154 - val_recall: 0.5333 - val_tn: 25.0000 - val_tp: 8.0000\n",
      "Epoch 33/100\n",
      "\u001b[1m15/15\u001b[0m \u001b[32m━━━━━━━━━━━━━━━━━━━━\u001b[0m\u001b[37m\u001b[0m \u001b[1m0s\u001b[0m 8ms/step - accuracy: 0.8844 - auc: 0.9556 - fn: 11.5625 - fp: 11.0625 - loss: 0.3848 - precision: 0.8283 - recall: 0.8239 - tn: 123.9375 - tp: 55.9375 - val_accuracy: 0.7778 - val_auc: 0.9122 - val_fn: 5.0000 - val_fp: 5.0000 - val_loss: 0.9152 - val_precision: 0.6667 - val_recall: 0.6667 - val_tn: 25.0000 - val_tp: 10.0000\n",
      "Epoch 34/100\n",
      "\u001b[1m15/15\u001b[0m \u001b[32m━━━━━━━━━━━━━━━━━━━━\u001b[0m\u001b[37m\u001b[0m \u001b[1m0s\u001b[0m 8ms/step - accuracy: 0.9131 - auc: 0.9695 - fn: 10.2500 - fp: 10.2500 - loss: 0.3047 - precision: 0.8696 - recall: 0.8696 - tn: 124.7500 - tp: 57.2500 - val_accuracy: 0.7778 - val_auc: 0.8967 - val_fn: 5.0000 - val_fp: 5.0000 - val_loss: 0.9312 - val_precision: 0.6667 - val_recall: 0.6667 - val_tn: 25.0000 - val_tp: 10.0000\n",
      "Epoch 35/100\n",
      "\u001b[1m15/15\u001b[0m \u001b[32m━━━━━━━━━━━━━━━━━━━━\u001b[0m\u001b[37m\u001b[0m \u001b[1m0s\u001b[0m 8ms/step - accuracy: 0.9117 - auc: 0.9744 - fn: 10.6875 - fp: 9.4375 - loss: 0.2915 - precision: 0.8721 - recall: 0.8609 - tn: 125.5625 - tp: 56.8125 - val_accuracy: 0.7778 - val_auc: 0.8689 - val_fn: 5.0000 - val_fp: 5.0000 - val_loss: 0.9623 - val_precision: 0.6667 - val_recall: 0.6667 - val_tn: 25.0000 - val_tp: 10.0000\n",
      "Epoch 36/100\n",
      "\u001b[1m15/15\u001b[0m \u001b[32m━━━━━━━━━━━━━━━━━━━━\u001b[0m\u001b[37m\u001b[0m \u001b[1m0s\u001b[0m 8ms/step - accuracy: 0.9343 - auc: 0.9794 - fn: 8.6250 - fp: 7.6250 - loss: 0.2981 - precision: 0.9135 - recall: 0.8882 - tn: 127.3750 - tp: 58.8750 - val_accuracy: 0.7778 - val_auc: 0.9000 - val_fn: 5.0000 - val_fp: 5.0000 - val_loss: 0.9997 - val_precision: 0.6667 - val_recall: 0.6667 - val_tn: 25.0000 - val_tp: 10.0000\n",
      "Epoch 37/100\n",
      "\u001b[1m15/15\u001b[0m \u001b[32m━━━━━━━━━━━━━━━━━━━━\u001b[0m\u001b[37m\u001b[0m \u001b[1m0s\u001b[0m 7ms/step - accuracy: 0.8747 - auc: 0.9439 - fn: 11.9375 - fp: 11.9375 - loss: 0.4233 - precision: 0.8121 - recall: 0.8121 - tn: 123.0625 - tp: 55.5625 - val_accuracy: 0.7778 - val_auc: 0.9033 - val_fn: 5.0000 - val_fp: 5.0000 - val_loss: 0.9623 - val_precision: 0.6667 - val_recall: 0.6667 - val_tn: 25.0000 - val_tp: 10.0000\n",
      "Epoch 38/100\n",
      "\u001b[1m15/15\u001b[0m \u001b[32m━━━━━━━━━━━━━━━━━━━━\u001b[0m\u001b[37m\u001b[0m \u001b[1m0s\u001b[0m 8ms/step - accuracy: 0.9234 - auc: 0.9714 - fn: 8.3125 - fp: 8.3125 - loss: 0.3045 - precision: 0.8852 - recall: 0.8852 - tn: 126.6875 - tp: 59.1875 - val_accuracy: 0.7778 - val_auc: 0.9156 - val_fn: 5.0000 - val_fp: 5.0000 - val_loss: 0.9431 - val_precision: 0.6667 - val_recall: 0.6667 - val_tn: 25.0000 - val_tp: 10.0000\n",
      "Epoch 39/100\n",
      "\u001b[1m15/15\u001b[0m \u001b[32m━━━━━━━━━━━━━━━━━━━━\u001b[0m\u001b[37m\u001b[0m \u001b[1m0s\u001b[0m 8ms/step - accuracy: 0.8559 - auc: 0.9589 - fn: 13.7500 - fp: 13.7500 - loss: 0.3645 - precision: 0.7839 - recall: 0.7839 - tn: 121.2500 - tp: 53.7500 - val_accuracy: 0.7778 - val_auc: 0.9333 - val_fn: 5.0000 - val_fp: 5.0000 - val_loss: 0.9272 - val_precision: 0.6667 - val_recall: 0.6667 - val_tn: 25.0000 - val_tp: 10.0000\n",
      "Epoch 40/100\n",
      "\u001b[1m15/15\u001b[0m \u001b[32m━━━━━━━━━━━━━━━━━━━━\u001b[0m\u001b[37m\u001b[0m \u001b[1m0s\u001b[0m 8ms/step - accuracy: 0.9110 - auc: 0.9671 - fn: 9.2500 - fp: 9.2500 - loss: 0.3217 - precision: 0.8665 - recall: 0.8665 - tn: 125.7500 - tp: 58.2500 - val_accuracy: 0.7778 - val_auc: 0.9078 - val_fn: 5.0000 - val_fp: 5.0000 - val_loss: 0.9941 - val_precision: 0.6667 - val_recall: 0.6667 - val_tn: 25.0000 - val_tp: 10.0000\n",
      "Epoch 41/100\n",
      "\u001b[1m15/15\u001b[0m \u001b[32m━━━━━━━━━━━━━━━━━━━━\u001b[0m\u001b[37m\u001b[0m \u001b[1m0s\u001b[0m 8ms/step - accuracy: 0.8564 - auc: 0.9461 - fn: 15.0000 - fp: 15.0000 - loss: 0.3982 - precision: 0.7846 - recall: 0.7846 - tn: 120.0000 - tp: 52.5000 - val_accuracy: 0.7778 - val_auc: 0.9233 - val_fn: 5.0000 - val_fp: 5.0000 - val_loss: 0.9473 - val_precision: 0.6667 - val_recall: 0.6667 - val_tn: 25.0000 - val_tp: 10.0000\n",
      "Epoch 42/100\n",
      "\u001b[1m15/15\u001b[0m \u001b[32m━━━━━━━━━━━━━━━━━━━━\u001b[0m\u001b[37m\u001b[0m \u001b[1m0s\u001b[0m 8ms/step - accuracy: 0.8861 - auc: 0.9724 - fn: 12.1875 - fp: 11.0625 - loss: 0.3072 - precision: 0.8388 - recall: 0.8155 - tn: 123.9375 - tp: 55.3125 - val_accuracy: 0.7778 - val_auc: 0.9178 - val_fn: 5.0000 - val_fp: 5.0000 - val_loss: 0.9320 - val_precision: 0.6667 - val_recall: 0.6667 - val_tn: 25.0000 - val_tp: 10.0000\n",
      "Epoch 43/100\n",
      "\u001b[1m15/15\u001b[0m \u001b[32m━━━━━━━━━━━━━━━━━━━━\u001b[0m\u001b[37m\u001b[0m \u001b[1m0s\u001b[0m 8ms/step - accuracy: 0.8645 - auc: 0.9632 - fn: 12.2500 - fp: 11.6875 - loss: 0.3243 - precision: 0.7989 - recall: 0.7937 - tn: 123.3125 - tp: 55.2500 - val_accuracy: 0.8667 - val_auc: 0.9511 - val_fn: 3.0000 - val_fp: 3.0000 - val_loss: 0.5390 - val_precision: 0.8000 - val_recall: 0.8000 - val_tn: 27.0000 - val_tp: 12.0000\n",
      "Epoch 44/100\n",
      "\u001b[1m15/15\u001b[0m \u001b[32m━━━━━━━━━━━━━━━━━━━━\u001b[0m\u001b[37m\u001b[0m \u001b[1m0s\u001b[0m 8ms/step - accuracy: 0.8884 - auc: 0.9310 - fn: 9.6250 - fp: 9.6250 - loss: 0.4447 - precision: 0.8327 - recall: 0.8327 - tn: 125.3750 - tp: 57.8750 - val_accuracy: 0.7778 - val_auc: 0.9356 - val_fn: 5.0000 - val_fp: 5.0000 - val_loss: 0.8261 - val_precision: 0.6667 - val_recall: 0.6667 - val_tn: 25.0000 - val_tp: 10.0000\n",
      "Epoch 45/100\n",
      "\u001b[1m15/15\u001b[0m \u001b[32m━━━━━━━━━━━━━━━━━━━━\u001b[0m\u001b[37m\u001b[0m \u001b[1m0s\u001b[0m 8ms/step - accuracy: 0.8720 - auc: 0.9405 - fn: 14.0625 - fp: 14.0625 - loss: 0.4013 - precision: 0.8081 - recall: 0.8081 - tn: 120.9375 - tp: 53.4375 - val_accuracy: 0.7778 - val_auc: 0.9078 - val_fn: 5.0000 - val_fp: 5.0000 - val_loss: 0.9701 - val_precision: 0.6667 - val_recall: 0.6667 - val_tn: 25.0000 - val_tp: 10.0000\n",
      "Epoch 46/100\n",
      "\u001b[1m15/15\u001b[0m \u001b[32m━━━━━━━━━━━━━━━━━━━━\u001b[0m\u001b[37m\u001b[0m \u001b[1m0s\u001b[0m 8ms/step - accuracy: 0.8194 - auc: 0.9318 - fn: 16.7500 - fp: 16.7500 - loss: 0.4363 - precision: 0.7292 - recall: 0.7292 - tn: 118.2500 - tp: 50.7500 - val_accuracy: 0.7778 - val_auc: 0.9356 - val_fn: 5.0000 - val_fp: 5.0000 - val_loss: 0.5122 - val_precision: 0.6667 - val_recall: 0.6667 - val_tn: 25.0000 - val_tp: 10.0000\n",
      "Epoch 47/100\n",
      "\u001b[1m15/15\u001b[0m \u001b[32m━━━━━━━━━━━━━━━━━━━━\u001b[0m\u001b[37m\u001b[0m \u001b[1m0s\u001b[0m 8ms/step - accuracy: 0.8695 - auc: 0.9616 - fn: 12.9375 - fp: 12.9375 - loss: 0.3357 - precision: 0.8042 - recall: 0.8042 - tn: 122.0625 - tp: 54.5625 - val_accuracy: 0.9556 - val_auc: 0.9933 - val_fn: 1.0000 - val_fp: 1.0000 - val_loss: 0.2208 - val_precision: 0.9333 - val_recall: 0.9333 - val_tn: 29.0000 - val_tp: 14.0000\n",
      "Epoch 48/100\n",
      "\u001b[1m15/15\u001b[0m \u001b[32m━━━━━━━━━━━━━━━━━━━━\u001b[0m\u001b[37m\u001b[0m \u001b[1m0s\u001b[0m 7ms/step - accuracy: 0.9069 - auc: 0.9719 - fn: 10.3750 - fp: 10.3750 - loss: 0.3128 - precision: 0.8603 - recall: 0.8603 - tn: 124.6250 - tp: 57.1250 - val_accuracy: 0.9111 - val_auc: 0.9867 - val_fn: 2.0000 - val_fp: 2.0000 - val_loss: 0.2543 - val_precision: 0.8667 - val_recall: 0.8667 - val_tn: 28.0000 - val_tp: 13.0000\n",
      "Epoch 49/100\n",
      "\u001b[1m15/15\u001b[0m \u001b[32m━━━━━━━━━━━━━━━━━━━━\u001b[0m\u001b[37m\u001b[0m \u001b[1m0s\u001b[0m 8ms/step - accuracy: 0.8987 - auc: 0.9609 - fn: 9.6250 - fp: 9.6250 - loss: 0.3465 - precision: 0.8481 - recall: 0.8481 - tn: 125.3750 - tp: 57.8750 - val_accuracy: 0.9111 - val_auc: 0.9611 - val_fn: 2.0000 - val_fp: 2.0000 - val_loss: 0.3324 - val_precision: 0.8667 - val_recall: 0.8667 - val_tn: 28.0000 - val_tp: 13.0000\n",
      "Epoch 50/100\n",
      "\u001b[1m15/15\u001b[0m \u001b[32m━━━━━━━━━━━━━━━━━━━━\u001b[0m\u001b[37m\u001b[0m \u001b[1m0s\u001b[0m 10ms/step - accuracy: 0.8555 - auc: 0.9481 - fn: 13.8125 - fp: 13.8125 - loss: 0.3826 - precision: 0.7833 - recall: 0.7833 - tn: 121.1875 - tp: 53.6875 - val_accuracy: 0.6667 - val_auc: 0.7411 - val_fn: 8.0000 - val_fp: 7.0000 - val_loss: 1.9214 - val_precision: 0.5000 - val_recall: 0.4667 - val_tn: 23.0000 - val_tp: 7.0000\n",
      "Epoch 51/100\n",
      "\u001b[1m15/15\u001b[0m \u001b[32m━━━━━━━━━━━━━━━━━━━━\u001b[0m\u001b[37m\u001b[0m \u001b[1m0s\u001b[0m 8ms/step - accuracy: 0.9039 - auc: 0.9712 - fn: 11.3125 - fp: 11.3125 - loss: 0.3094 - precision: 0.8559 - recall: 0.8559 - tn: 123.6875 - tp: 56.1875 - val_accuracy: 0.7778 - val_auc: 0.9411 - val_fn: 5.0000 - val_fp: 5.0000 - val_loss: 0.8195 - val_precision: 0.6667 - val_recall: 0.6667 - val_tn: 25.0000 - val_tp: 10.0000\n",
      "Epoch 52/100\n",
      "\u001b[1m15/15\u001b[0m \u001b[32m━━━━━━━━━━━━━━━━━━━━\u001b[0m\u001b[37m\u001b[0m \u001b[1m0s\u001b[0m 7ms/step - accuracy: 0.8727 - auc: 0.9601 - fn: 13.3125 - fp: 13.3125 - loss: 0.3506 - precision: 0.8091 - recall: 0.8091 - tn: 121.6875 - tp: 54.1875 - val_accuracy: 0.8667 - val_auc: 0.9467 - val_fn: 3.0000 - val_fp: 3.0000 - val_loss: 0.4148 - val_precision: 0.8000 - val_recall: 0.8000 - val_tn: 27.0000 - val_tp: 12.0000\n",
      "Epoch 53/100\n",
      "\u001b[1m15/15\u001b[0m \u001b[32m━━━━━━━━━━━━━━━━━━━━\u001b[0m\u001b[37m\u001b[0m \u001b[1m0s\u001b[0m 8ms/step - accuracy: 0.9168 - auc: 0.9711 - fn: 8.6250 - fp: 8.6250 - loss: 0.3042 - precision: 0.8752 - recall: 0.8752 - tn: 126.3750 - tp: 58.8750 - val_accuracy: 0.9111 - val_auc: 0.9922 - val_fn: 2.0000 - val_fp: 2.0000 - val_loss: 0.1832 - val_precision: 0.8667 - val_recall: 0.8667 - val_tn: 28.0000 - val_tp: 13.0000\n",
      "Epoch 54/100\n",
      "\u001b[1m15/15\u001b[0m \u001b[32m━━━━━━━━━━━━━━━━━━━━\u001b[0m\u001b[37m\u001b[0m \u001b[1m0s\u001b[0m 9ms/step - accuracy: 0.8894 - auc: 0.9596 - fn: 12.0000 - fp: 12.0000 - loss: 0.3566 - precision: 0.8341 - recall: 0.8341 - tn: 123.0000 - tp: 55.5000 - val_accuracy: 0.9556 - val_auc: 0.9944 - val_fn: 1.0000 - val_fp: 1.0000 - val_loss: 0.2183 - val_precision: 0.9333 - val_recall: 0.9333 - val_tn: 29.0000 - val_tp: 14.0000\n",
      "Epoch 55/100\n",
      "\u001b[1m15/15\u001b[0m \u001b[32m━━━━━━━━━━━━━━━━━━━━\u001b[0m\u001b[37m\u001b[0m \u001b[1m0s\u001b[0m 8ms/step - accuracy: 0.8664 - auc: 0.9515 - fn: 13.7500 - fp: 13.3750 - loss: 0.3797 - precision: 0.8006 - recall: 0.7978 - tn: 121.6250 - tp: 53.7500 - val_accuracy: 0.8667 - val_auc: 0.9700 - val_fn: 3.0000 - val_fp: 3.0000 - val_loss: 0.3359 - val_precision: 0.8000 - val_recall: 0.8000 - val_tn: 27.0000 - val_tp: 12.0000\n",
      "Epoch 56/100\n",
      "\u001b[1m15/15\u001b[0m \u001b[32m━━━━━━━━━━━━━━━━━━━━\u001b[0m\u001b[37m\u001b[0m \u001b[1m0s\u001b[0m 8ms/step - accuracy: 0.8864 - auc: 0.9640 - fn: 11.8125 - fp: 11.8125 - loss: 0.3657 - precision: 0.8296 - recall: 0.8296 - tn: 123.1875 - tp: 55.6875 - val_accuracy: 0.9556 - val_auc: 0.9933 - val_fn: 1.0000 - val_fp: 1.0000 - val_loss: 0.2240 - val_precision: 0.9333 - val_recall: 0.9333 - val_tn: 29.0000 - val_tp: 14.0000\n",
      "Epoch 57/100\n",
      "\u001b[1m15/15\u001b[0m \u001b[32m━━━━━━━━━━━━━━━━━━━━\u001b[0m\u001b[37m\u001b[0m \u001b[1m0s\u001b[0m 8ms/step - accuracy: 0.9014 - auc: 0.9609 - fn: 9.8750 - fp: 9.8750 - loss: 0.3491 - precision: 0.8522 - recall: 0.8522 - tn: 125.1250 - tp: 57.6250 - val_accuracy: 0.9111 - val_auc: 0.9911 - val_fn: 2.0000 - val_fp: 2.0000 - val_loss: 0.2376 - val_precision: 0.8667 - val_recall: 0.8667 - val_tn: 28.0000 - val_tp: 13.0000\n",
      "Epoch 58/100\n",
      "\u001b[1m15/15\u001b[0m \u001b[32m━━━━━━━━━━━━━━━━━━━━\u001b[0m\u001b[37m\u001b[0m \u001b[1m0s\u001b[0m 8ms/step - accuracy: 0.9005 - auc: 0.9656 - fn: 10.1250 - fp: 10.1250 - loss: 0.3302 - precision: 0.8507 - recall: 0.8507 - tn: 124.8750 - tp: 57.3750 - val_accuracy: 0.8222 - val_auc: 0.9556 - val_fn: 4.0000 - val_fp: 4.0000 - val_loss: 0.4375 - val_precision: 0.7333 - val_recall: 0.7333 - val_tn: 26.0000 - val_tp: 11.0000\n",
      "Epoch 59/100\n",
      "\u001b[1m15/15\u001b[0m \u001b[32m━━━━━━━━━━━━━━━━━━━━\u001b[0m\u001b[37m\u001b[0m \u001b[1m0s\u001b[0m 9ms/step - accuracy: 0.8893 - auc: 0.9700 - fn: 11.6250 - fp: 11.6250 - loss: 0.3101 - precision: 0.8339 - recall: 0.8339 - tn: 123.3750 - tp: 55.8750 - val_accuracy: 0.9556 - val_auc: 0.9933 - val_fn: 1.0000 - val_fp: 1.0000 - val_loss: 0.1951 - val_precision: 0.9333 - val_recall: 0.9333 - val_tn: 29.0000 - val_tp: 14.0000\n",
      "Epoch 60/100\n",
      "\u001b[1m15/15\u001b[0m \u001b[32m━━━━━━━━━━━━━━━━━━━━\u001b[0m\u001b[37m\u001b[0m \u001b[1m0s\u001b[0m 8ms/step - accuracy: 0.8682 - auc: 0.9616 - fn: 12.1875 - fp: 12.1875 - loss: 0.3454 - precision: 0.8022 - recall: 0.8022 - tn: 122.8125 - tp: 55.3125 - val_accuracy: 0.9556 - val_auc: 0.9933 - val_fn: 1.0000 - val_fp: 1.0000 - val_loss: 0.1835 - val_precision: 0.9333 - val_recall: 0.9333 - val_tn: 29.0000 - val_tp: 14.0000\n",
      "Epoch 61/100\n",
      "\u001b[1m15/15\u001b[0m \u001b[32m━━━━━━━━━━━━━━━━━━━━\u001b[0m\u001b[37m\u001b[0m \u001b[1m0s\u001b[0m 7ms/step - accuracy: 0.9322 - auc: 0.9795 - fn: 7.5000 - fp: 7.5000 - loss: 0.2672 - precision: 0.8983 - recall: 0.8983 - tn: 127.5000 - tp: 60.0000 - val_accuracy: 0.9111 - val_auc: 0.9911 - val_fn: 2.0000 - val_fp: 2.0000 - val_loss: 0.1993 - val_precision: 0.8667 - val_recall: 0.8667 - val_tn: 28.0000 - val_tp: 13.0000\n",
      "Epoch 62/100\n",
      "\u001b[1m15/15\u001b[0m \u001b[32m━━━━━━━━━━━━━━━━━━━━\u001b[0m\u001b[37m\u001b[0m \u001b[1m0s\u001b[0m 7ms/step - accuracy: 0.8811 - auc: 0.9697 - fn: 12.0000 - fp: 11.3125 - loss: 0.3088 - precision: 0.8245 - recall: 0.8174 - tn: 123.6875 - tp: 55.5000 - val_accuracy: 0.8222 - val_auc: 0.9644 - val_fn: 4.0000 - val_fp: 4.0000 - val_loss: 0.3917 - val_precision: 0.7333 - val_recall: 0.7333 - val_tn: 26.0000 - val_tp: 11.0000\n",
      "Epoch 63/100\n",
      "\u001b[1m15/15\u001b[0m \u001b[32m━━━━━━━━━━━━━━━━━━━━\u001b[0m\u001b[37m\u001b[0m \u001b[1m0s\u001b[0m 7ms/step - accuracy: 0.9289 - auc: 0.9790 - fn: 8.3125 - fp: 8.3125 - loss: 0.2976 - precision: 0.8934 - recall: 0.8934 - tn: 126.6875 - tp: 59.1875 - val_accuracy: 0.9556 - val_auc: 0.9956 - val_fn: 1.0000 - val_fp: 1.0000 - val_loss: 0.1905 - val_precision: 0.9333 - val_recall: 0.9333 - val_tn: 29.0000 - val_tp: 14.0000\n",
      "Epoch 64/100\n",
      "\u001b[1m15/15\u001b[0m \u001b[32m━━━━━━━━━━━━━━━━━━━━\u001b[0m\u001b[37m\u001b[0m \u001b[1m0s\u001b[0m 7ms/step - accuracy: 0.8979 - auc: 0.9689 - fn: 10.7500 - fp: 10.7500 - loss: 0.3104 - precision: 0.8468 - recall: 0.8468 - tn: 124.2500 - tp: 56.7500 - val_accuracy: 0.9111 - val_auc: 0.9644 - val_fn: 2.0000 - val_fp: 2.0000 - val_loss: 0.3518 - val_precision: 0.8667 - val_recall: 0.8667 - val_tn: 28.0000 - val_tp: 13.0000\n",
      "Epoch 65/100\n",
      "\u001b[1m15/15\u001b[0m \u001b[32m━━━━━━━━━━━━━━━━━━━━\u001b[0m\u001b[37m\u001b[0m \u001b[1m0s\u001b[0m 9ms/step - accuracy: 0.8611 - auc: 0.9430 - fn: 12.0625 - fp: 12.0625 - loss: 0.4068 - precision: 0.7917 - recall: 0.7917 - tn: 122.9375 - tp: 55.4375 - val_accuracy: 0.9556 - val_auc: 0.9978 - val_fn: 1.0000 - val_fp: 1.0000 - val_loss: 0.1357 - val_precision: 0.9333 - val_recall: 0.9333 - val_tn: 29.0000 - val_tp: 14.0000\n",
      "Epoch 66/100\n",
      "\u001b[1m15/15\u001b[0m \u001b[32m━━━━━━━━━━━━━━━━━━━━\u001b[0m\u001b[37m\u001b[0m \u001b[1m0s\u001b[0m 8ms/step - accuracy: 0.8951 - auc: 0.9630 - fn: 10.9375 - fp: 10.9375 - loss: 0.3387 - precision: 0.8427 - recall: 0.8427 - tn: 124.0625 - tp: 56.5625 - val_accuracy: 0.9556 - val_auc: 0.9978 - val_fn: 1.0000 - val_fp: 1.0000 - val_loss: 0.1543 - val_precision: 0.9333 - val_recall: 0.9333 - val_tn: 29.0000 - val_tp: 14.0000\n",
      "Epoch 67/100\n",
      "\u001b[1m15/15\u001b[0m \u001b[32m━━━━━━━━━━━━━━━━━━━━\u001b[0m\u001b[37m\u001b[0m \u001b[1m0s\u001b[0m 8ms/step - accuracy: 0.9458 - auc: 0.9844 - fn: 7.1250 - fp: 7.1250 - loss: 0.2374 - precision: 0.9187 - recall: 0.9187 - tn: 127.8750 - tp: 60.3750 - val_accuracy: 0.8667 - val_auc: 0.9711 - val_fn: 3.0000 - val_fp: 3.0000 - val_loss: 0.3744 - val_precision: 0.8000 - val_recall: 0.8000 - val_tn: 27.0000 - val_tp: 12.0000\n",
      "Epoch 68/100\n",
      "\u001b[1m15/15\u001b[0m \u001b[32m━━━━━━━━━━━━━━━━━━━━\u001b[0m\u001b[37m\u001b[0m \u001b[1m0s\u001b[0m 8ms/step - accuracy: 0.9046 - auc: 0.9781 - fn: 9.4375 - fp: 9.1875 - loss: 0.2726 - precision: 0.8578 - recall: 0.8559 - tn: 125.8125 - tp: 58.0625 - val_accuracy: 0.8222 - val_auc: 0.9333 - val_fn: 4.0000 - val_fp: 4.0000 - val_loss: 0.6244 - val_precision: 0.7333 - val_recall: 0.7333 - val_tn: 26.0000 - val_tp: 11.0000\n",
      "Epoch 69/100\n",
      "\u001b[1m15/15\u001b[0m \u001b[32m━━━━━━━━━━━━━━━━━━━━\u001b[0m\u001b[37m\u001b[0m \u001b[1m0s\u001b[0m 8ms/step - accuracy: 0.8845 - auc: 0.9682 - fn: 11.3125 - fp: 11.3125 - loss: 0.3106 - precision: 0.8267 - recall: 0.8267 - tn: 123.6875 - tp: 56.1875 - val_accuracy: 0.8667 - val_auc: 0.9611 - val_fn: 3.0000 - val_fp: 3.0000 - val_loss: 0.4994 - val_precision: 0.8000 - val_recall: 0.8000 - val_tn: 27.0000 - val_tp: 12.0000\n",
      "Epoch 70/100\n",
      "\u001b[1m15/15\u001b[0m \u001b[32m━━━━━━━━━━━━━━━━━━━━\u001b[0m\u001b[37m\u001b[0m \u001b[1m0s\u001b[0m 8ms/step - accuracy: 0.8733 - auc: 0.9595 - fn: 12.2500 - fp: 12.2500 - loss: 0.3508 - precision: 0.8100 - recall: 0.8100 - tn: 122.7500 - tp: 55.2500 - val_accuracy: 0.9111 - val_auc: 0.9822 - val_fn: 2.0000 - val_fp: 2.0000 - val_loss: 0.2152 - val_precision: 0.8667 - val_recall: 0.8667 - val_tn: 28.0000 - val_tp: 13.0000\n",
      "Epoch 71/100\n",
      "\u001b[1m15/15\u001b[0m \u001b[32m━━━━━━━━━━━━━━━━━━━━\u001b[0m\u001b[37m\u001b[0m \u001b[1m0s\u001b[0m 7ms/step - accuracy: 0.8907 - auc: 0.9685 - fn: 11.1250 - fp: 11.1250 - loss: 0.3164 - precision: 0.8361 - recall: 0.8361 - tn: 123.8750 - tp: 56.3750 - val_accuracy: 0.9556 - val_auc: 0.9978 - val_fn: 1.0000 - val_fp: 1.0000 - val_loss: 0.1361 - val_precision: 0.9333 - val_recall: 0.9333 - val_tn: 29.0000 - val_tp: 14.0000\n",
      "Epoch 72/100\n",
      "\u001b[1m15/15\u001b[0m \u001b[32m━━━━━━━━━━━━━━━━━━━━\u001b[0m\u001b[37m\u001b[0m \u001b[1m0s\u001b[0m 8ms/step - accuracy: 0.8991 - auc: 0.9758 - fn: 9.5000 - fp: 9.5000 - loss: 0.2819 - precision: 0.8486 - recall: 0.8486 - tn: 125.5000 - tp: 58.0000 - val_accuracy: 0.6000 - val_auc: 0.7033 - val_fn: 9.0000 - val_fp: 9.0000 - val_loss: 1.1966 - val_precision: 0.4000 - val_recall: 0.4000 - val_tn: 21.0000 - val_tp: 6.0000\n",
      "Epoch 73/100\n",
      "\u001b[1m15/15\u001b[0m \u001b[32m━━━━━━━━━━━━━━━━━━━━\u001b[0m\u001b[37m\u001b[0m \u001b[1m0s\u001b[0m 9ms/step - accuracy: 0.7970 - auc: 0.9096 - fn: 18.3750 - fp: 18.3750 - loss: 0.6948 - precision: 0.6955 - recall: 0.6955 - tn: 116.6250 - tp: 49.1250 - val_accuracy: 0.7778 - val_auc: 0.8156 - val_fn: 5.0000 - val_fp: 5.0000 - val_loss: 0.7646 - val_precision: 0.6667 - val_recall: 0.6667 - val_tn: 25.0000 - val_tp: 10.0000\n",
      "Epoch 74/100\n",
      "\u001b[1m15/15\u001b[0m \u001b[32m━━━━━━━━━━━━━━━━━━━━\u001b[0m\u001b[37m\u001b[0m \u001b[1m0s\u001b[0m 8ms/step - accuracy: 0.8443 - auc: 0.9424 - fn: 13.4375 - fp: 13.4375 - loss: 0.3949 - precision: 0.7664 - recall: 0.7664 - tn: 121.5625 - tp: 54.0625 - val_accuracy: 0.8222 - val_auc: 0.9356 - val_fn: 4.0000 - val_fp: 4.0000 - val_loss: 0.5067 - val_precision: 0.7333 - val_recall: 0.7333 - val_tn: 26.0000 - val_tp: 11.0000\n",
      "Epoch 75/100\n",
      "\u001b[1m15/15\u001b[0m \u001b[32m━━━━━━━━━━━━━━━━━━━━\u001b[0m\u001b[37m\u001b[0m \u001b[1m0s\u001b[0m 8ms/step - accuracy: 0.9105 - auc: 0.9668 - fn: 7.9375 - fp: 7.9375 - loss: 0.3241 - precision: 0.8657 - recall: 0.8657 - tn: 127.0625 - tp: 59.5625 - val_accuracy: 0.9111 - val_auc: 0.9867 - val_fn: 2.0000 - val_fp: 2.0000 - val_loss: 0.2647 - val_precision: 0.8667 - val_recall: 0.8667 - val_tn: 28.0000 - val_tp: 13.0000\n",
      "Epoch 76/100\n",
      "\u001b[1m15/15\u001b[0m \u001b[32m━━━━━━━━━━━━━━━━━━━━\u001b[0m\u001b[37m\u001b[0m \u001b[1m0s\u001b[0m 8ms/step - accuracy: 0.8774 - auc: 0.9553 - fn: 12.8125 - fp: 12.8125 - loss: 0.3667 - precision: 0.8162 - recall: 0.8162 - tn: 122.1875 - tp: 54.6875 - val_accuracy: 0.9556 - val_auc: 0.9956 - val_fn: 1.0000 - val_fp: 1.0000 - val_loss: 0.2128 - val_precision: 0.9333 - val_recall: 0.9333 - val_tn: 29.0000 - val_tp: 14.0000\n",
      "Epoch 77/100\n",
      "\u001b[1m15/15\u001b[0m \u001b[32m━━━━━━━━━━━━━━━━━━━━\u001b[0m\u001b[37m\u001b[0m \u001b[1m0s\u001b[0m 8ms/step - accuracy: 0.8732 - auc: 0.9536 - fn: 13.7500 - fp: 13.7500 - loss: 0.3565 - precision: 0.8098 - recall: 0.8098 - tn: 121.2500 - tp: 53.7500 - val_accuracy: 0.9556 - val_auc: 0.9956 - val_fn: 1.0000 - val_fp: 1.0000 - val_loss: 0.1850 - val_precision: 0.9333 - val_recall: 0.9333 - val_tn: 29.0000 - val_tp: 14.0000\n",
      "Epoch 78/100\n",
      "\u001b[1m15/15\u001b[0m \u001b[32m━━━━━━━━━━━━━━━━━━━━\u001b[0m\u001b[37m\u001b[0m \u001b[1m0s\u001b[0m 8ms/step - accuracy: 0.7986 - auc: 0.9037 - fn: 20.0625 - fp: 20.0625 - loss: 0.4993 - precision: 0.6979 - recall: 0.6979 - tn: 114.9375 - tp: 47.4375 - val_accuracy: 0.8667 - val_auc: 0.9622 - val_fn: 3.0000 - val_fp: 3.0000 - val_loss: 0.3155 - val_precision: 0.8000 - val_recall: 0.8000 - val_tn: 27.0000 - val_tp: 12.0000\n",
      "Epoch 79/100\n",
      "\u001b[1m15/15\u001b[0m \u001b[32m━━━━━━━━━━━━━━━━━━━━\u001b[0m\u001b[37m\u001b[0m \u001b[1m0s\u001b[0m 8ms/step - accuracy: 0.7929 - auc: 0.9117 - fn: 20.4375 - fp: 20.4375 - loss: 0.4494 - precision: 0.6893 - recall: 0.6893 - tn: 114.5625 - tp: 47.0625 - val_accuracy: 0.8222 - val_auc: 0.9467 - val_fn: 4.0000 - val_fp: 4.0000 - val_loss: 0.3965 - val_precision: 0.7333 - val_recall: 0.7333 - val_tn: 26.0000 - val_tp: 11.0000\n",
      "Epoch 80/100\n",
      "\u001b[1m15/15\u001b[0m \u001b[32m━━━━━━━━━━━━━━━━━━━━\u001b[0m\u001b[37m\u001b[0m \u001b[1m0s\u001b[0m 8ms/step - accuracy: 0.8557 - auc: 0.9189 - fn: 14.2500 - fp: 14.2500 - loss: 0.4758 - precision: 0.7835 - recall: 0.7835 - tn: 120.7500 - tp: 53.2500 - val_accuracy: 0.7778 - val_auc: 0.9356 - val_fn: 5.0000 - val_fp: 5.0000 - val_loss: 0.4748 - val_precision: 0.6667 - val_recall: 0.6667 - val_tn: 25.0000 - val_tp: 10.0000\n",
      "Epoch 81/100\n",
      "\u001b[1m15/15\u001b[0m \u001b[32m━━━━━━━━━━━━━━━━━━━━\u001b[0m\u001b[37m\u001b[0m \u001b[1m0s\u001b[0m 8ms/step - accuracy: 0.8189 - auc: 0.9328 - fn: 15.4375 - fp: 15.4375 - loss: 0.4048 - precision: 0.7283 - recall: 0.7283 - tn: 119.5625 - tp: 52.0625 - val_accuracy: 0.7778 - val_auc: 0.9111 - val_fn: 5.0000 - val_fp: 5.0000 - val_loss: 0.8116 - val_precision: 0.6667 - val_recall: 0.6667 - val_tn: 25.0000 - val_tp: 10.0000\n",
      "Epoch 82/100\n",
      "\u001b[1m15/15\u001b[0m \u001b[32m━━━━━━━━━━━━━━━━━━━━\u001b[0m\u001b[37m\u001b[0m \u001b[1m0s\u001b[0m 8ms/step - accuracy: 0.8691 - auc: 0.9565 - fn: 14.3750 - fp: 14.3750 - loss: 0.3615 - precision: 0.8036 - recall: 0.8036 - tn: 120.6250 - tp: 53.1250 - val_accuracy: 0.6222 - val_auc: 0.6178 - val_fn: 9.0000 - val_fp: 8.0000 - val_loss: 3.0860 - val_precision: 0.4286 - val_recall: 0.4000 - val_tn: 22.0000 - val_tp: 6.0000\n",
      "Epoch 83/100\n",
      "\u001b[1m15/15\u001b[0m \u001b[32m━━━━━━━━━━━━━━━━━━━━\u001b[0m\u001b[37m\u001b[0m \u001b[1m0s\u001b[0m 8ms/step - accuracy: 0.9035 - auc: 0.9681 - fn: 10.9375 - fp: 10.1875 - loss: 0.3436 - precision: 0.8590 - recall: 0.8502 - tn: 124.8125 - tp: 56.5625 - val_accuracy: 0.6444 - val_auc: 0.6867 - val_fn: 8.0000 - val_fp: 8.0000 - val_loss: 2.4101 - val_precision: 0.4667 - val_recall: 0.4667 - val_tn: 22.0000 - val_tp: 7.0000\n",
      "Epoch 84/100\n",
      "\u001b[1m15/15\u001b[0m \u001b[32m━━━━━━━━━━━━━━━━━━━━\u001b[0m\u001b[37m\u001b[0m \u001b[1m0s\u001b[0m 8ms/step - accuracy: 0.8259 - auc: 0.9228 - fn: 15.3125 - fp: 15.3125 - loss: 0.4523 - precision: 0.7389 - recall: 0.7389 - tn: 119.6875 - tp: 52.1875 - val_accuracy: 0.6667 - val_auc: 0.6900 - val_fn: 8.0000 - val_fp: 7.0000 - val_loss: 2.3522 - val_precision: 0.5000 - val_recall: 0.4667 - val_tn: 23.0000 - val_tp: 7.0000\n",
      "Epoch 85/100\n",
      "\u001b[1m15/15\u001b[0m \u001b[32m━━━━━━━━━━━━━━━━━━━━\u001b[0m\u001b[37m\u001b[0m \u001b[1m0s\u001b[0m 8ms/step - accuracy: 0.9087 - auc: 0.9719 - fn: 9.7500 - fp: 9.7500 - loss: 0.2940 - precision: 0.8630 - recall: 0.8630 - tn: 125.2500 - tp: 57.7500 - val_accuracy: 0.7778 - val_auc: 0.8367 - val_fn: 5.0000 - val_fp: 5.0000 - val_loss: 1.2039 - val_precision: 0.6667 - val_recall: 0.6667 - val_tn: 25.0000 - val_tp: 10.0000\n",
      "Epoch 85: early stopping\n",
      "Restoring model weights from the end of the best epoch: 65.\n"
     ]
    }
   ],
   "source": [
    "modelfitprogress = model.fit(\n",
    "                              train_iter,\n",
    "                              validation_data = valid_iter,\n",
    "                              epochs = epochs,\n",
    "                              callbacks = [early_stopper]\n",
    "                              #steps_per_epoch = df_train.shape[0]//train_iter.batch_size,\n",
    "                              #validation_steps = df_val.shape[0]//valid_iter.batch_size\n",
    "                              )"
   ]
  },
  {
   "cell_type": "markdown",
   "metadata": {
    "id": "9R2jytfijpEp"
   },
   "source": [
    "<a id=\"section6\"></a>\n",
    "# <font color=\"#004D7F\" size=6> 6. Results</font>"
   ]
  },
  {
   "cell_type": "markdown",
   "metadata": {
    "id": "a-1vHY9rjpEq"
   },
   "source": [
    "Finally, we can evaluate our CNN with the images created by TINTOlib in any of the ways represented below."
   ]
  },
  {
   "cell_type": "markdown",
   "metadata": {
    "id": "9R2jytfijpEp"
   },
   "source": [
    "---\n",
    "<a id=\"section61\"></a>\n",
    "# <font color=\"#004D7F\" size=5> 6.1. Train/Validation representation</font>"
   ]
  },
  {
   "cell_type": "code",
   "execution_count": 81,
   "metadata": {
    "colab": {
     "base_uri": "https://localhost:8080/",
     "height": 430
    },
    "id": "-Ls6_Vu7pjGL",
    "outputId": "35f21788-cd17-4377-9d88-79118f992164",
    "tags": []
   },
   "outputs": [
    {
     "data": {
      "image/png": "[encoded data removed]",
      "text/plain": [
       "<Figure size 640x480 with 1 Axes>"
      ]
     },
     "metadata": {},
     "output_type": "display_data"
    }
   ],
   "source": [
    "plt.plot(modelfitprogress.history['loss'], color = 'red', label = 'loss')\n",
    "plt.plot(modelfitprogress.history['val_loss'], color = 'green', label = 'val loss')\n",
    "plt.legend(loc = 'upper right')\n",
    "#plt.ylim(0,1)\n",
    "plt.show()"
   ]
  },
  {
   "cell_type": "code",
   "execution_count": 82,
   "metadata": {
    "colab": {
     "base_uri": "https://localhost:8080/",
     "height": 430
    },
    "id": "TWtsezuVpjGM",
    "outputId": "a06dccf3-da2d-4060-f67f-2046b547707b",
    "tags": []
   },
   "outputs": [
    {
     "data": {
      "image/png": "[encoded data removed]",
      "text/plain": [
       "<Figure size 640x480 with 1 Axes>"
      ]
     },
     "metadata": {},
     "output_type": "display_data"
    }
   ],
   "source": [
    "plt.plot(modelfitprogress.history['accuracy'], color = 'red', label = 'accuracy')\n",
    "plt.plot(modelfitprogress.history['val_accuracy'], color = 'green', label = 'val accuracy')\n",
    "plt.legend(loc = 'upper right')\n",
    "\n",
    "plt.show()"
   ]
  },
  {
   "cell_type": "markdown",
   "metadata": {
    "id": "9R2jytfijpEp"
   },
   "source": [
    "---\n",
    "<a id=\"section62\"></a>\n",
    "# <font color=\"#004D7F\" size=5> 6.2. Validation/Test evaluation</font>"
   ]
  },
  {
   "cell_type": "code",
   "execution_count": 83,
   "metadata": {
    "colab": {
     "base_uri": "https://localhost:8080/"
    },
    "execution": {
     "iopub.execute_input": "2022-11-14T19:27:24.254144Z",
     "iopub.status.busy": "2022-11-14T19:27:24.253678Z",
     "iopub.status.idle": "2022-11-14T19:28:06.367196Z",
     "shell.execute_reply": "2022-11-14T19:28:06.366140Z",
     "shell.execute_reply.started": "2022-11-14T19:27:24.254102Z"
    },
    "id": "MtDLUW_QpjGO",
    "outputId": "1e8c02c1-0256-49cf-bd58-12e60bea38c6"
   },
   "outputs": [
    {
     "name": "stdout",
     "output_type": "stream",
     "text": [
      "\u001b[1m1/1\u001b[0m \u001b[32m━━━━━━━━━━━━━━━━━━━━\u001b[0m\u001b[37m\u001b[0m \u001b[1m0s\u001b[0m 40ms/step - accuracy: 0.9167 - auc: 0.9922 - fn: 1.0000 - fp: 1.0000 - loss: 0.1682 - precision: 0.8750 - recall: 0.8750 - tn: 15.0000 - tp: 7.0000\n",
      "Loss in validation: 0.16823230683803558 \n",
      "Accuracy in validation: 0.9166666865348816\n"
     ]
    }
   ],
   "source": [
    "score = model.evaluate(valid_iter, steps = df_val.shape[0]//valid_iter.batch_size)\n",
    "print(\"Loss in validation: {} \\nAccuracy in validation: {}\".format(score[0], score[5]))"
   ]
  },
  {
   "cell_type": "code",
   "execution_count": 84,
   "metadata": {
    "colab": {
     "base_uri": "https://localhost:8080/"
    },
    "execution": {
     "iopub.execute_input": "2022-11-14T19:28:06.369726Z",
     "iopub.status.busy": "2022-11-14T19:28:06.369356Z",
     "iopub.status.idle": "2022-11-14T19:28:47.388501Z",
     "shell.execute_reply": "2022-11-14T19:28:47.387465Z",
     "shell.execute_reply.started": "2022-11-14T19:28:06.369687Z"
    },
    "id": "27tFyGE8pjGO",
    "outputId": "51f9d766-3e48-4f24-ea4f-a4e48e380444"
   },
   "outputs": [
    {
     "name": "stdout",
     "output_type": "stream",
     "text": [
      "\u001b[1m1/1\u001b[0m \u001b[32m━━━━━━━━━━━━━━━━━━━━\u001b[0m\u001b[37m\u001b[0m \u001b[1m0s\u001b[0m 34ms/step - accuracy: 0.8333 - auc: 0.9062 - fn: 2.0000 - fp: 2.0000 - loss: 0.5810 - precision: 0.7500 - recall: 0.7500 - tn: 14.0000 - tp: 6.0000\n",
      "Loss in test: 0.580966055393219 \n",
      "Accuracy in test: 0.8333333730697632\n"
     ]
    }
   ],
   "source": [
    "score_test = model.evaluate(test_iter, steps = df_test.shape[0]//test_iter.batch_size)\n",
    "print(\"Loss in test: {} \\nAccuracy in test: {}\".format(score_test[0], score_test[5]))"
   ]
  },
  {
   "cell_type": "code",
   "execution_count": 85,
   "metadata": {},
   "outputs": [
    {
     "name": "stdout",
     "output_type": "stream",
     "text": [
      "\u001b[1m1/2\u001b[0m \u001b[32m━━━━━━━━━━\u001b[0m\u001b[37m━━━━━━━━━━\u001b[0m \u001b[1m0s\u001b[0m 143ms/step"
     ]
    },
    {
     "name": "stderr",
     "output_type": "stream",
     "text": [
      "C:\\Users\\jiayu\\AppData\\Local\\Temp\\ipykernel_14904\\272889776.py:2: DeprecationWarning: `np.math` is a deprecated alias for the standard library `math` module (Deprecated Numpy 1.25). Replace usages of `np.math` with `math`\n",
      "  prediction = model.predict(test_iter, steps = np.math.ceil(test_iter.samples/test_iter.batch_size))\n"
     ]
    },
    {
     "name": "stdout",
     "output_type": "stream",
     "text": [
      "\u001b[1m2/2\u001b[0m \u001b[32m━━━━━━━━━━━━━━━━━━━━\u001b[0m\u001b[37m\u001b[0m \u001b[1m0s\u001b[0m 131ms/step\n",
      "[[3.20365815e-03 7.40031824e-02 9.22793150e-01]\n",
      " [8.24883231e-04 7.61219740e-01 2.37955377e-01]\n",
      " [9.97490048e-01 1.59808563e-03 9.11904441e-04]\n",
      " [9.95248440e-04 8.18097830e-01 1.80906892e-01]\n",
      " [2.04781839e-03 8.97661030e-01 1.00291125e-01]\n",
      " [9.97410357e-01 1.66601175e-03 9.23623622e-04]\n",
      " [8.15004401e-04 6.53291941e-01 3.45893085e-01]\n",
      " [1.03301334e-03 8.18389297e-01 1.80577755e-01]\n",
      " [1.56528165e-03 8.71034384e-01 1.27400398e-01]\n",
      " [9.97380555e-01 1.68987713e-03 9.29551374e-04]\n",
      " [9.97074962e-01 1.93358713e-03 9.91394860e-04]\n",
      " [1.79425580e-03 1.81787327e-01 8.16418350e-01]\n",
      " [4.05488349e-03 5.82454875e-02 9.37699616e-01]\n",
      " [3.16007016e-03 8.83630589e-02 9.08476949e-01]\n",
      " [7.86112796e-04 6.48510993e-01 3.50702912e-01]]\n"
     ]
    }
   ],
   "source": [
    "#test_images = next(test_iter)[0]\n",
    "prediction = model.predict(test_iter, steps = np.math.ceil(test_iter.samples/test_iter.batch_size))\n",
    "#prediction = model.predict(test_images)\n",
    "print(prediction)"
   ]
  },
  {
   "cell_type": "markdown",
   "metadata": {
    "id": "9R2jytfijpEp"
   },
   "source": [
    "<a id=\"section62\"></a>\n",
    "# <font color=\"#004D7F\" size=5> 6.3. Sklearn metrics evaluation</font>"
   ]
  },
  {
   "cell_type": "code",
   "execution_count": 86,
   "metadata": {},
   "outputs": [
    {
     "data": {
      "text/plain": [
       "[0.580966055393219,\n",
       " 6.0,\n",
       " 2.0,\n",
       " 14.0,\n",
       " 2.0,\n",
       " 0.8333333730697632,\n",
       " 0.75,\n",
       " 0.75,\n",
       " 0.90625]"
      ]
     },
     "execution_count": 86,
     "metadata": {},
     "output_type": "execute_result"
    }
   ],
   "source": [
    "score_test"
   ]
  },
  {
   "cell_type": "code",
   "execution_count": 87,
   "metadata": {},
   "outputs": [
    {
     "name": "stdout",
     "output_type": "stream",
     "text": [
      "Test accuracy: 0.8333333730697632\n",
      "Test AUC: 0.90625\n",
      "Test precision: 0.75\n",
      "Test recall: 0.75\n"
     ]
    }
   ],
   "source": [
    "from sklearn.metrics import roc_auc_score,accuracy_score,precision_score, recall_score\n",
    "\n",
    "test_accuracy = score_test[5]\n",
    "test_auc = score_test[8]\n",
    "test_precision = score_test[6]\n",
    "test_recall = score_test[7]\n",
    "\n",
    "print(\"Test accuracy:\",test_accuracy)\n",
    "print(\"Test AUC:\",test_auc)\n",
    "print(\"Test precision:\",test_precision)\n",
    "print(\"Test recall:\",test_recall)"
   ]
  },
  {
   "cell_type": "code",
   "execution_count": 88,
   "metadata": {},
   "outputs": [
    {
     "data": {
      "text/plain": [
       "[0.7444444894790649,\n",
       " 0.7666667103767395,\n",
       " 0.7861111164093018,\n",
       " 0.8361110687255859,\n",
       " 0.8222222924232483,\n",
       " 0.8222221732139587,\n",
       " 0.8527777194976807,\n",
       " 0.8694444894790649,\n",
       " 0.8416666388511658,\n",
       " 0.838888943195343,\n",
       " 0.8472222089767456,\n",
       " 0.8194444179534912,\n",
       " 0.8500000834465027,\n",
       " 0.9027777910232544,\n",
       " 0.8499999642372131,\n",
       " 0.8666667342185974,\n",
       " 0.8916666507720947,\n",
       " 0.8527777791023254,\n",
       " 0.8555556535720825,\n",
       " 0.8527777791023254,\n",
       " 0.8777778744697571,\n",
       " 0.8611111044883728,\n",
       " 0.8861110806465149,\n",
       " 0.8777778148651123,\n",
       " 0.8611112236976624,\n",
       " 0.8499999642372131,\n",
       " 0.8444444537162781,\n",
       " 0.8611111044883728,\n",
       " 0.875,\n",
       " 0.8499999642372131,\n",
       " 0.894444465637207,\n",
       " 0.8666666746139526,\n",
       " 0.8972222805023193,\n",
       " 0.8833333253860474,\n",
       " 0.8805555701255798,\n",
       " 0.8916665315628052,\n",
       " 0.8888888955116272,\n",
       " 0.9111111164093018,\n",
       " 0.8722223043441772,\n",
       " 0.9055556058883667,\n",
       " 0.8555554747581482,\n",
       " 0.8777777552604675,\n",
       " 0.8972223401069641,\n",
       " 0.9055556058883667,\n",
       " 0.8666666746139526,\n",
       " 0.8555555939674377,\n",
       " 0.8777778148651123,\n",
       " 0.8944443464279175,\n",
       " 0.8999999761581421,\n",
       " 0.8888890147209167,\n",
       " 0.8888888955116272,\n",
       " 0.8722222447395325,\n",
       " 0.9222223162651062,\n",
       " 0.8777778148651123,\n",
       " 0.8638889193534851,\n",
       " 0.8722221851348877,\n",
       " 0.8999999761581421,\n",
       " 0.888888955116272,\n",
       " 0.8833333849906921,\n",
       " 0.8888887763023376,\n",
       " 0.911111056804657,\n",
       " 0.8972222208976746,\n",
       " 0.9111111164093018,\n",
       " 0.888888955116272,\n",
       " 0.888888955116272,\n",
       " 0.8944444060325623,\n",
       " 0.911111056804657,\n",
       " 0.9027777910232544,\n",
       " 0.8833333253860474,\n",
       " 0.8888887763023376,\n",
       " 0.8944445252418518,\n",
       " 0.9000000357627869,\n",
       " 0.8444444537162781,\n",
       " 0.8833333253860474,\n",
       " 0.9111111164093018,\n",
       " 0.8666667342185974,\n",
       " 0.838888943195343,\n",
       " 0.800000011920929,\n",
       " 0.8166666030883789,\n",
       " 0.855555534362793,\n",
       " 0.8722222447395325,\n",
       " 0.8444444537162781,\n",
       " 0.8972222805023193,\n",
       " 0.8833333849906921,\n",
       " 0.8722221851348877]"
      ]
     },
     "execution_count": 88,
     "metadata": {},
     "output_type": "execute_result"
    }
   ],
   "source": [
    "modelfitprogress.history[\"accuracy\"]"
   ]
  },
  {
   "cell_type": "markdown",
   "metadata": {
    "id": "0ciBS76mpjGU"
   },
   "source": [
    "<div style=\"text-align: right\"> <font size=5> <a href=\"#indice\"><i class=\"fa fa-arrow-circle-up\" aria-hidden=\"true\" style=\"color:#004D7F\"></i></a></font></div>\n",
    "\n",
    "---\n",
    "\n",
    "<div style=\"text-align: right\"> <font size=6><i class=\"fa fa-coffee\" aria-hidden=\"true\" style=\"color:#004D7F\"></i> </font></div>"
   ]
  }
 ],
 "metadata": {
  "accelerator": "GPU",
  "colab": {
   "gpuType": "T4",
   "provenance": []
  },
  "kernelspec": {
   "display_name": "TINTOlib",
   "language": "python",
   "name": "python3"
  },
  "language_info": {
   "codemirror_mode": {
    "name": "ipython",
    "version": 3
   },
   "file_extension": ".py",
   "mimetype": "text/x-python",
   "name": "python",
   "nbconvert_exporter": "python",
   "pygments_lexer": "ipython3",
   "version": "3.10.16"
  }
 },
 "nbformat": 4,
 "nbformat_minor": 1
}
